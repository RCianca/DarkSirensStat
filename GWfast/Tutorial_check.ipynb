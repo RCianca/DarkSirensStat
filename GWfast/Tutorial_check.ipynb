{
 "cells": [
  {
   "cell_type": "code",
   "execution_count": 1,
   "id": "71c76836",
   "metadata": {},
   "outputs": [
    {
     "name": "stderr",
     "output_type": "stream",
     "text": [
      "WARNING:jax._src.lib.xla_bridge:No GPU/TPU found, falling back to CPU. (Set TF_CPP_MIN_LOG_LEVEL=0 and rerun for more info.)\n"
     ]
    },
    {
     "name": "stdout",
     "output_type": "stream",
     "text": [
      "TEOBResumS is not installed, only the GWFAST waveform models are available, namely: TaylorF2, IMRPhenomD, IMRPhenomD_NRTidalv2, IMRPhenomHM and IMRPhenomNSBH\n"
     ]
    }
   ],
   "source": [
    "import os\n",
    "import sys\n",
    "\n",
    "import copy\n",
    "import numpy as np\n",
    "from astropy.cosmology import Planck18\n",
    "\n",
    "PACKAGE_PARENT = '..'\n",
    "SCRIPT_DIR = os.path.dirname(os.path.realpath(os.path.join(os.getcwd())))\n",
    "sys.path.append(SCRIPT_DIR)\n",
    "import gwfast.gwfastGlobals as glob\n",
    "import gwfast \n",
    "from gwfast.waveforms import IMRPhenomD_NRTidalv2\n",
    "from gwfast.signal import GWSignal\n",
    "from gwfast.network import DetNet\n",
    "from fisherTools import CovMatr, compute_localization_region, check_covariance, fixParams\n",
    "from gwfastUtils import GPSt_to_LMST, Lamt_delLam_from_Lam12"
   ]
  },
  {
   "cell_type": "code",
   "execution_count": 2,
   "id": "9f2097fa",
   "metadata": {},
   "outputs": [
    {
     "name": "stdout",
     "output_type": "stream",
     "text": [
      "All available detectors are: ['L1', 'H1', 'Virgo', 'KAGRA', 'LIGOI', 'ETS', 'ETMR', 'ETSL', 'ETMRL45d', 'ETMRLpar', 'CE1Id', 'CE2NM', 'CE2NSW']\n",
      "Using detectors ['L1', 'H1', 'Virgo']\n"
     ]
    }
   ],
   "source": [
    "keys = ('Mc','eta','dL','theta','phi','iota','psi','tcoal','Phicoal','chi1x','chi2x',\n",
    "        'chi1y','chi2y','chi1z','chi2z','LambdaTilde','deltaLambda','ecc')\n",
    "mydata=dict.fromkeys(keys)\n",
    "alldetectors = copy.deepcopy(glob.detectors)\n",
    "print('All available detectors are: '+str(list(alldetectors.keys())))\n",
    "\n",
    "# select only LIGO and Virgo\n",
    "LVdetectors = {det:alldetectors[det] for det in ['L1', 'H1', 'Virgo']}\n",
    "print('Using detectors '+str(list(LVdetectors.keys())))\n",
    "# We use the O2 psds\n",
    "LVdetectors['L1']['psd_path'] = os.path.join(glob.detPath, 'LVC_O1O2O3', '2017-08-06_DCH_C02_L1_O2_Sensitivity_strain_asd.txt')\n",
    "LVdetectors['H1']['psd_path'] = os.path.join(glob.detPath, 'LVC_O1O2O3', '2017-06-10_DCH_C02_H1_O2_Sensitivity_strain_asd.txt')\n",
    "LVdetectors['Virgo']['psd_path'] = os.path.join(glob.detPath, 'LVC_O1O2O3', 'Hrec_hoft_V1O2Repro2A_16384Hz.txt')\n"
   ]
  },
  {
   "cell_type": "code",
   "execution_count": 3,
   "id": "0a0589d6",
   "metadata": {},
   "outputs": [
    {
     "name": "stdout",
     "output_type": "stream",
     "text": [
      "Using ASD from file /home/rciancarella/.local/lib/python3.10/site-packages/psds/LVC_O1O2O3/2017-08-06_DCH_C02_L1_O2_Sensitivity_strain_asd.txt \n",
      "WARNING: the motion of Earth gives a relevant contribution for BNS signals, consider switching it on\n",
      "Initializing jax...\n",
      "Jax local device count: 8\n",
      "Jax  device count: 8\n",
      "Using ASD from file /home/rciancarella/.local/lib/python3.10/site-packages/psds/LVC_O1O2O3/2017-06-10_DCH_C02_H1_O2_Sensitivity_strain_asd.txt \n",
      "WARNING: the motion of Earth gives a relevant contribution for BNS signals, consider switching it on\n",
      "Initializing jax...\n",
      "Jax local device count: 8\n",
      "Jax  device count: 8\n",
      "Using ASD from file /home/rciancarella/.local/lib/python3.10/site-packages/psds/LVC_O1O2O3/Hrec_hoft_V1O2Repro2A_16384Hz.txt \n",
      "WARNING: the motion of Earth gives a relevant contribution for BNS signals, consider switching it on\n",
      "Initializing jax...\n",
      "Jax local device count: 8\n",
      "Jax  device count: 8\n"
     ]
    }
   ],
   "source": [
    "myLVSignals = {}\n",
    "\n",
    "for d in LVdetectors.keys():\n",
    "\n",
    "    myLVSignals[d] = GWSignal(IMRPhenomD_NRTidalv2(),\n",
    "                psd_path=LVdetectors[d]['psd_path'],\n",
    "                detector_shape = LVdetectors[d]['shape'],\n",
    "                det_lat= LVdetectors[d]['lat'],\n",
    "                det_long=LVdetectors[d]['long'],\n",
    "                det_xax=LVdetectors[d]['xax'],\n",
    "                verbose=True,\n",
    "                useEarthMotion = False,\n",
    "                fmin=10.,\n",
    "                IntTablePath=None)\n",
    "\n",
    "myLVNet = DetNet(myLVSignals)"
   ]
  },
  {
   "cell_type": "code",
   "execution_count": 4,
   "id": "45caec76",
   "metadata": {},
   "outputs": [
    {
     "name": "stdout",
     "output_type": "stream",
     "text": [
      "Parameters for GW170817 are:\n"
     ]
    },
    {
     "data": {
      "text/plain": [
       "{'Mc': array([1.19752182]),\n",
       " 'dL': array([0.04374755]),\n",
       " 'theta': array([1.97888033]),\n",
       " 'phi': array([3.44616]),\n",
       " 'iota': array([2.5450656]),\n",
       " 'psi': array([0.]),\n",
       " 'tcoal': DeviceArray([0.43432288], dtype=float64),\n",
       " 'eta': array([0.24786618]),\n",
       " 'Phicoal': array([0.]),\n",
       " 'chi1z': array([0.00513614]),\n",
       " 'chi2z': array([0.00323515]),\n",
       " 'Lambda1': array([368.17802384]),\n",
       " 'Lambda2': array([586.54870315])}"
      ]
     },
     "execution_count": 4,
     "metadata": {},
     "output_type": "execute_result"
    }
   ],
   "source": [
    "# Median values of the posterior samples for all the parameters,\n",
    "# except psi and the coalescence phase that are set to 0\n",
    "\n",
    "z = np.array([0.00980])\n",
    "tGPS = np.array([1187008882.4])\n",
    "\n",
    "GW170817 = {'Mc':np.array([1.1859])*(1.+z),\n",
    "            'dL':Planck18.luminosity_distance(z).value/1000.,\n",
    "            'theta':np.array([np.pi/2. + 0.4080839999999999]),\n",
    "            'phi':np.array([3.4461599999999994]),\n",
    "            'iota':np.array([2.545065595974997]),\n",
    "            'psi':np.array([0.]),\n",
    "            'tcoal':GPSt_to_LMST(tGPS, lat=0., long=0.), # GMST is LMST computed at long = 0°\n",
    "            'eta':np.array([0.24786618323504223]),\n",
    "            'Phicoal':np.array([0.]),\n",
    "            'chi1z':np.array([0.005136138323169717]),\n",
    "            'chi2z':np.array([0.003235146993487445]),\n",
    "            'Lambda1':np.array([368.17802383555687]),\n",
    "            'Lambda2':np.array([586.5487031450857])\n",
    "           }\n",
    "\n",
    "print('Parameters for GW170817 are:')\n",
    "GW170817"
   ]
  },
  {
   "cell_type": "code",
   "execution_count": 5,
   "id": "23348794",
   "metadata": {},
   "outputs": [
    {
     "name": "stdout",
     "output_type": "stream",
     "text": [
      "SNR for GW170817 is 33.16 to compare with 33\n"
     ]
    }
   ],
   "source": [
    "SNR = myLVNet.SNR(GW170817)\n",
    "print('SNR for GW170817 is %.2f to compare with 33'%SNR[0])"
   ]
  },
  {
   "cell_type": "code",
   "execution_count": 6,
   "id": "64f6a5f0",
   "metadata": {},
   "outputs": [
    {
     "name": "stdout",
     "output_type": "stream",
     "text": [
      "Computing Fisher for L1...\n",
      "Computing derivatives...\n",
      "Computing Fisher for H1...\n",
      "Computing derivatives...\n",
      "Computing Fisher for Virgo...\n",
      "Computing derivatives...\n",
      "Done.\n",
      "The computed Fisher matrix has shape (13, 13, 1)\n"
     ]
    }
   ],
   "source": [
    "totF = myLVNet.FisherMatr(GW170817)\n",
    "print('The computed Fisher matrix has shape %s'%str(totF.shape))"
   ]
  },
  {
   "cell_type": "code",
   "execution_count": 7,
   "id": "961246ec",
   "metadata": {},
   "outputs": [
    {
     "name": "stdout",
     "output_type": "stream",
     "text": [
      "{'Mc': 0, 'eta': 1, 'dL': 2, 'theta': 3, 'phi': 4, 'iota': 5, 'psi': 6, 'tcoal': 7, 'Phicoal': 8, 'chi1z': 9, 'chi2z': 10, 'LambdaTilde': 11, 'deltaLambda': 12}\n"
     ]
    }
   ],
   "source": [
    "ParNums = IMRPhenomD_NRTidalv2().ParNums\n",
    "print(ParNums)"
   ]
  },
  {
   "cell_type": "code",
   "execution_count": 8,
   "id": "c621fe59",
   "metadata": {},
   "outputs": [
    {
     "name": "stdout",
     "output_type": "stream",
     "text": [
      "Now the Fisher matrix has shape (4, 4, 1)\n",
      "Inversion errors: [2.58820743e-14]\n",
      "diagonal-1 = [array([-2.39391840e-16, -1.70761842e-16, -3.62123526e-16,  4.46257614e-16],\n",
      "      dtype=float128)]\n",
      "Max off diagonal: [7.784571598445921836e-17]\n",
      "\n",
      "mask: where F*S(off-diagonal)>1e-10 (--> problematic if True off diagonal)\n",
      "[array([[ True, False, False, False],\n",
      "       [False,  True, False, False],\n",
      "       [False, False,  True, False],\n",
      "       [False, False, False,  True]])]\n"
     ]
    }
   ],
   "source": [
    "#tofix_ParNums=[e for e in ParNums if e not in ('dL', 'phi','theta')]\n",
    "newFish, newPars = fixParams(totF, ParNums, ['deltaLambda','LambdaTilde','chi2z','chi1z','Phicoal','tcoal','psi','iota','Mc'])\n",
    "#newFish, newPars = fixParams(totF, ParNums, tofix_ParNums)\n",
    "print('Now the Fisher matrix has shape %s'%str(newFish.shape))\n",
    "\n",
    "newCov, new_inversion_err = CovMatr(newFish)\n",
    "\n",
    "_ = check_covariance(newFish, newCov)"
   ]
  },
  {
   "cell_type": "code",
   "execution_count": 9,
   "id": "bf973074",
   "metadata": {},
   "outputs": [
    {
     "name": "stdout",
     "output_type": "stream",
     "text": [
      "The estimated sky location is 2.0 deg^2, to compare with 16 deg^2\n"
     ]
    }
   ],
   "source": [
    "skyArea = compute_localization_region(newCov, newPars, GW170817['theta'])\n",
    "print('The estimated sky location is %.1f deg^2, to compare with 16 deg^2'%skyArea)"
   ]
  },
  {
   "cell_type": "code",
   "execution_count": 10,
   "id": "4f3c1cb3",
   "metadata": {},
   "outputs": [
    {
     "name": "stdout",
     "output_type": "stream",
     "text": [
      "{'eta': 0, 'dL': 1, 'theta': 2, 'phi': 3}\n"
     ]
    }
   ],
   "source": [
    "print(newPars)"
   ]
  },
  {
   "cell_type": "code",
   "execution_count": 11,
   "id": "cd33d458",
   "metadata": {},
   "outputs": [],
   "source": [
    "lambtilde,d_lamb=Lamt_delLam_from_Lam12(GW170817['Lambda1'][0],GW170817['Lambda2'][0],GW170817['eta'][0])"
   ]
  },
  {
   "cell_type": "markdown",
   "id": "1b332df3",
   "metadata": {},
   "source": [
    "# Check with proxygen"
   ]
  },
  {
   "cell_type": "code",
   "execution_count": 12,
   "id": "0e8aee58",
   "metadata": {},
   "outputs": [
    {
     "name": "stderr",
     "output_type": "stream",
     "text": [
      "WARNING: AstropyDeprecationWarning: The get_cosmology_from_string method is deprecated and may be removed in a future version.\n",
      "        Use get instead. [ligo.skymap.postprocess.cosmology]\n",
      "WARNING:astropy:AstropyDeprecationWarning: The get_cosmology_from_string method is deprecated and may be removed in a future version.\n",
      "        Use get instead.\n"
     ]
    }
   ],
   "source": [
    "import pandas as pd\n",
    "import numpy as np\n",
    "import healpy as hp\n",
    "import matplotlib.pyplot as plt\n",
    "\n",
    "from astropy.cosmology import FlatLambdaCDM\n",
    "from astropy.table import Table\n",
    "\n",
    "from ligo.skymap.io import fits\n",
    "from ligo.skymap.postprocess import find_greedy_credible_levels\n",
    "\n",
    "import os\n",
    "import sys\n",
    "from tqdm import tqdm\n",
    "\n",
    "import h5py\n",
    "from multiprocessing import Pool\n",
    "import pickle\n",
    "from numba import jit\n",
    "\n",
    "H0GLOB=67 #69\n",
    "Om0GLOB=0.319\n",
    "Xi0Glob =1.\n",
    "clight = 2.99792458* 10**5#km/s\n",
    "cosmoflag = FlatLambdaCDM(H0=H0GLOB, Om0=Om0GLOB)"
   ]
  },
  {
   "cell_type": "code",
   "execution_count": 13,
   "id": "77e4aa7d",
   "metadata": {},
   "outputs": [],
   "source": [
    "def area(nside,all_pixels,p_posterior,level=0.95):\n",
    "\n",
    "    \n",
    "    ''' Area of level% credible region, in square degrees.\n",
    "        If level is not specified, uses current selection '''\n",
    "    pixarea=hp.nside2pixarea(nside)\n",
    "    return get_credible_region_pixels(all_pixels,p_posterior,level=level).size*pixarea*(180/np.pi)**2\n",
    "\n",
    "\n",
    "def _get_credible_region_pth(p_posterior,level=0.95):\n",
    "    '''\n",
    "    Finds value minskypdf of rho_i that bouds the x% credible region , with x=level\n",
    "    Then to select pixels in that region: self.all_pixels[self.p_posterior>minskypdf]\n",
    "    '''\n",
    "    prob_sorted = np.sort(p_posterior)[::-1]\n",
    "    prob_sorted_cum = np.cumsum(prob_sorted)\n",
    "    # find index of array which bounds the area confidence interval\n",
    "    idx = np.searchsorted(prob_sorted_cum, level)\n",
    "    minskypdf = prob_sorted[idx] #*skymap.npix\n",
    "      \n",
    "    return minskypdf\n",
    "\n",
    "def get_credible_region_pixels(all_pixels, p_posterior, level=0.95):\n",
    "\n",
    "    return all_pixels[p_posterior>_get_credible_region_pth(p_posterior,level=level)]\n",
    "\n",
    "def sample_multivariate_gaussian(mean, cov, num_samples):\n",
    "    return np.random.multivariate_normal(mean, cov, num_samples)\n",
    "\n",
    "def process_pixel(args):\n",
    "    pix, nside, mean, cov, new_samples_per_pixel, samples, pixels = args\n",
    "    \n",
    "    # Get the fixed angles for this pixel\n",
    "    theta_fixed, phi_fixed = hp.pix2ang(nside, pix)\n",
    "    \n",
    "    # Extract samples of all parameters for this pixel\n",
    "    pixel_indices = np.where(pixels == pix)[0]\n",
    "    samples_in_pixel = samples[pixel_indices]\n",
    "\n",
    "    # Permutation order to move luminosity distance to index 0, theta to index 1, and phi to index 2\n",
    "    #perm = [2, 3, 4] + list(range(0, 2)) + list(range(5, len(mean)))\n",
    "    #perm = [1, 2, 3, 0]\n",
    "\n",
    "    # Apply the permutation to the mean and covariance matrix\n",
    "    mean_permuted = np.array(mean)#[perm]\n",
    "    cov_permuted = cov#[np.ix_(perm, perm)]\n",
    "\n",
    "# Create the alpha vector with the fixed values and mean of other parameters\n",
    "    alpha = np.zeros(len(mean_permuted) - 1)\n",
    "    alpha[0] = theta_fixed\n",
    "    alpha[1] = phi_fixed\n",
    "    #alpha[2:] = samples_in_pixel[:, [0, 1]].mean(axis=0)  # Use the mean of the other parameters in this pixel\n",
    "    alpha[2] = samples_in_pixel[:, 0].mean(axis=0) \n",
    "    # Create a new mean vector excluding the luminosity distance mean (mean_permuted[0])\n",
    "    mean_new = mean_permuted[1:]\n",
    "\n",
    "    # Partition the permuted covariance matrix\n",
    "    Sigma_xx = cov_permuted[1:, 1:]\n",
    "    Sigma_xy = cov_permuted[1:, 0]\n",
    "    Sigma_yx = cov_permuted[0, 1:]\n",
    "    Sigma_yy = cov_permuted[0, 0]\n",
    "    \n",
    "    # Compute the conditional mean and covariance\n",
    "    mu_cond = mean_permuted[0] + Sigma_yx @ np.linalg.inv(Sigma_xx) @ (alpha - mean_new)\n",
    "    Sigma_cond = Sigma_yy - Sigma_yx @ np.linalg.inv(Sigma_xx) @ Sigma_xy\n",
    "    \n",
    "    # Handle negative Sigma_cond\n",
    "    if Sigma_cond < 0:\n",
    "        print(f\"Warning: Negative Sigma_cond ({Sigma_cond}) encountered for pixel {pix}.\")\n",
    "        Sigma_cond = np.abs(Sigma_cond)  # Take the absolute value\n",
    "        Sigma_cond = max(Sigma_cond, 1e-10)  # Ensure it is at least a small positive value\n",
    "    \n",
    "    # Sample from the conditional Gaussian distribution\n",
    "    new_samples = np.random.normal(mu_cond, np.sqrt(Sigma_cond), new_samples_per_pixel)\n",
    "    \n",
    "    # Extract the new luminosity distances\n",
    "    new_luminosity_distance = new_samples\n",
    "    \n",
    "    # Compute the mean and std of the luminosity distance\n",
    "    mu = np.mean(new_luminosity_distance)\n",
    "    std = np.std(new_luminosity_distance)\n",
    "    \n",
    "    return pix, mu, std, new_luminosity_distance\n"
   ]
  },
  {
   "cell_type": "code",
   "execution_count": 14,
   "id": "69696337",
   "metadata": {},
   "outputs": [
    {
     "name": "stdout",
     "output_type": "stream",
     "text": [
      "Mc\n",
      "1.19752182\n",
      "dL\n",
      "0.04374755446244489\n",
      "theta\n",
      "1.9788803267948964\n",
      "phi\n",
      "3.4461599999999994\n",
      "iota\n",
      "2.545065595974997\n",
      "psi\n",
      "0.0\n",
      "tcoal\n",
      "0.43432287827647714\n",
      "eta\n",
      "0.24786618323504223\n",
      "Phicoal\n",
      "0.0\n",
      "chi1z\n",
      "0.005136138323169717\n",
      "chi2z\n",
      "0.003235146993487445\n",
      "Lambda1\n",
      "368.17802383555687\n",
      "Lambda2\n",
      "586.5487031450857\n"
     ]
    }
   ],
   "source": [
    "for k in GW170817.keys():\n",
    "    print(k)\n",
    "    print(GW170817[k][0])"
   ]
  },
  {
   "cell_type": "code",
   "execution_count": 15,
   "id": "c1d7bc9c",
   "metadata": {},
   "outputs": [
    {
     "name": "stdout",
     "output_type": "stream",
     "text": [
      "[0.04374755 1.97888033 3.44616    0.24786618] 4\n"
     ]
    }
   ],
   "source": [
    "mean=[]\n",
    "avoid=['Lambda1','Lambda2','chi2z','chi1z','Phicoal','tcoal','psi','iota','Mc']\n",
    "for k in GW170817.keys():\n",
    "    if k not in avoid:\n",
    "        mean.append(GW170817[k][0])\n",
    "#mean.append(lambtilde)    \n",
    "mean=np.array(mean)\n",
    "print(mean,len(mean))\n",
    "cov=np.float64(newCov[:,:,0])\n",
    "#print(cov)"
   ]
  },
  {
   "cell_type": "code",
   "execution_count": 16,
   "id": "df5a0ff5",
   "metadata": {},
   "outputs": [
    {
     "name": "stdout",
     "output_type": "stream",
     "text": [
      "(4,) (4, 4)\n"
     ]
    }
   ],
   "source": [
    "print(np.shape(mean),np.shape(cov))"
   ]
  },
  {
   "cell_type": "code",
   "execution_count": 23,
   "id": "d6eeed62",
   "metadata": {},
   "outputs": [
    {
     "name": "stdout",
     "output_type": "stream",
     "text": [
      "3.446160176863836\n"
     ]
    }
   ],
   "source": []
  },
  {
   "cell_type": "code",
   "execution_count": 17,
   "id": "62aaa58c",
   "metadata": {},
   "outputs": [],
   "source": [
    "perm = [1, 2, 3, 0]\n",
    "mean_permuted = np.array(mean)#[perm]\n",
    "cov_permuted = cov[np.ix_(perm, perm)]"
   ]
  },
  {
   "cell_type": "code",
   "execution_count": 18,
   "id": "96e06de3",
   "metadata": {},
   "outputs": [
    {
     "name": "stderr",
     "output_type": "stream",
     "text": [
      "100%|███████████████████████████████████████████████████████████████████████████| 3/3 [00:25<00:00,  8.57s/it]\n"
     ]
    }
   ],
   "source": [
    "num_samples = 100_000_000\n",
    "\n",
    "# Sample from the multivariate Gaussian distribution\n",
    "samples = sample_multivariate_gaussian(mean, cov, num_samples)\n",
    "\n",
    "# Extract variables\n",
    "luminosity_distance = samples[:, 0]\n",
    "#angles = samples[:, 3:5]\n",
    "theta=samples[:,1]\n",
    "phi=samples[:,2]\n",
    "# Ensure angles are within valid ranges\n",
    "#angles[:, 0] = np.mod(angles[:, 0], np.pi)  # theta in range [0, π]\n",
    "theta = np.mod(theta, np.pi)  # theta in range [0, π]\n",
    "#angles[:, 1] = np.mod(angles[:, 1], 2 * np.pi)  # phi in range [0, 2π]\n",
    "phi = np.mod(phi, 2 * np.pi)  # phi in range [0, 2π]\n",
    "\n",
    "# Number of pixels in the sky map\n",
    "nside = 64\n",
    "\n",
    "# Create a HEALPix map\n",
    "sky_map = np.zeros(hp.nside2npix(nside))\n",
    "npix=hp.nside2npix(nside)\n",
    "all_pixels=np.arange(npix)\n",
    "# Convert angles to pixel indices\n",
    "pixels = hp.ang2pix(nside, theta, phi)\n",
    "\n",
    "# Increment the pixel values\n",
    "np.add.at(sky_map, pixels, 1)\n",
    "\n",
    "# Normalize the sky map\n",
    "sky_map = sky_map / np.sum(sky_map)\n",
    "\n",
    "# Get the array of good pixels where sky_map > 0\n",
    "pix95=get_credible_region_pixels(all_pixels,sky_map)\n",
    "pix90=get_credible_region_pixels(all_pixels,sky_map,level=0.9)\n",
    "# Initialize arrays to store the mean and std of luminosity distance\n",
    "all_mu = np.zeros(hp.nside2npix(nside))\n",
    "all_std = np.zeros(hp.nside2npix(nside))\n",
    "\n",
    "# Initialize dictionary to store new luminosity distance arrays for each pixel\n",
    "luminosity_distance_samples = {}\n",
    "\n",
    "# Number of new samples to generate for each pixel\n",
    "new_samples_per_pixel = 1_00\n",
    "\n",
    "# Prepare arguments for multiprocessing\n",
    "args = [(pix, nside, mean, cov, new_samples_per_pixel, samples, pixels) for pix in pix95]\n",
    "\n",
    "# Specify the number of processors to use\n",
    "num_processors = 10\n",
    "\n",
    "# Using multiprocessing Pool to parallelize the process\n",
    "with Pool(processes=num_processors) as pool:\n",
    "    # Using tqdm to add a progress bar\n",
    "    results = list(tqdm(pool.imap(process_pixel, args), total=len(pix95)))\n",
    "\n",
    "# Collect the results\n",
    "for pix, mu, std, new_luminosity_distance in results:\n",
    "    if mu is not None and std is not None:\n",
    "        all_mu[pix] = mu\n",
    "        all_std[pix] = std\n",
    "        luminosity_distance_samples[pix] = new_luminosity_distance"
   ]
  },
  {
   "cell_type": "code",
   "execution_count": 19,
   "id": "627d835f",
   "metadata": {},
   "outputs": [
    {
     "data": {
      "image/png": "[encoded data removed]",
      "text/plain": [
       "<Figure size 612x388.8 with 2 Axes>"
      ]
     },
     "metadata": {
      "needs_background": "light"
     },
     "output_type": "display_data"
    }
   ],
   "source": [
    "# Plot the sky map\n",
    "hp.mollview(sky_map, title=\"Sky Map\", coord=['C'])\n",
    "hp.graticule()\n",
    "plt.show()"
   ]
  },
  {
   "cell_type": "code",
   "execution_count": 20,
   "id": "ace17d7a",
   "metadata": {},
   "outputs": [
    {
     "name": "stdout",
     "output_type": "stream",
     "text": [
      "1.6785872904223336\n"
     ]
    }
   ],
   "source": [
    "myarea=area(nside,all_pixels,sky_map,level=0.9)\n",
    "print(myarea)"
   ]
  },
  {
   "cell_type": "code",
   "execution_count": 21,
   "id": "91a73fec",
   "metadata": {},
   "outputs": [
    {
     "name": "stdout",
     "output_type": "stream",
     "text": [
      "[1.20539597]\n"
     ]
    }
   ],
   "source": [
    "#myarea128=myarea\n",
    "#print(myarea128-myarea)\n",
    "print(skyArea/myarea)"
   ]
  },
  {
   "cell_type": "code",
   "execution_count": null,
   "id": "a12ec9e7",
   "metadata": {},
   "outputs": [],
   "source": []
  }
 ],
 "metadata": {
  "kernelspec": {
   "display_name": "Python 3 (ipykernel)",
   "language": "python",
   "name": "python3"
  },
  "language_info": {
   "codemirror_mode": {
    "name": "ipython",
    "version": 3
   },
   "file_extension": ".py",
   "mimetype": "text/x-python",
   "name": "python",
   "nbconvert_exporter": "python",
   "pygments_lexer": "ipython3",
   "version": "3.10.12"
  }
 },
 "nbformat": 4,
 "nbformat_minor": 5
}
