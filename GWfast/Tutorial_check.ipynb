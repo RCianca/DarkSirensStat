{
 "cells": [
  {
   "cell_type": "code",
   "execution_count": 38,
   "id": "71c76836",
   "metadata": {},
   "outputs": [],
   "source": [
    "import os\n",
    "import sys\n",
    "\n",
    "import copy\n",
    "import numpy as np\n",
    "from astropy.cosmology import Planck18\n",
    "\n",
    "PACKAGE_PARENT = '..'\n",
    "SCRIPT_DIR = os.path.dirname(os.path.realpath(os.path.join(os.getcwd())))\n",
    "sys.path.append(SCRIPT_DIR)\n",
    "import gwfast.gwfastGlobals as glob\n",
    "import gwfast \n",
    "from gwfast.waveforms import IMRPhenomD_NRTidalv2\n",
    "from gwfast.signal import GWSignal\n",
    "from gwfast.network import DetNet\n",
    "from fisherTools import CovMatr, compute_localization_region, check_covariance, fixParams\n",
    "from gwfastUtils import GPSt_to_LMST, Lamt_delLam_from_Lam12"
   ]
  },
  {
   "cell_type": "code",
   "execution_count": 2,
   "id": "9f2097fa",
   "metadata": {},
   "outputs": [
    {
     "name": "stdout",
     "output_type": "stream",
     "text": [
      "All available detectors are: ['L1', 'H1', 'Virgo', 'KAGRA', 'LIGOI', 'ETS', 'ETMR', 'ETSL', 'ETMRL45d', 'ETMRLpar', 'CE1Id', 'CE2NM', 'CE2NSW']\n",
      "Using detectors ['L1', 'H1', 'Virgo']\n"
     ]
    }
   ],
   "source": [
    "keys = ('Mc','eta','dL','theta','phi','iota','psi','tcoal','Phicoal','chi1x','chi2x',\n",
    "        'chi1y','chi2y','chi1z','chi2z','LambdaTilde','deltaLambda','ecc')\n",
    "mydata=dict.fromkeys(keys)\n",
    "alldetectors = copy.deepcopy(glob.detectors)\n",
    "print('All available detectors are: '+str(list(alldetectors.keys())))\n",
    "\n",
    "# select only LIGO and Virgo\n",
    "LVdetectors = {det:alldetectors[det] for det in ['L1', 'H1', 'Virgo']}\n",
    "print('Using detectors '+str(list(LVdetectors.keys())))\n",
    "# We use the O2 psds\n",
    "LVdetectors['L1']['psd_path'] = os.path.join(glob.detPath, 'LVC_O1O2O3', '2017-08-06_DCH_C02_L1_O2_Sensitivity_strain_asd.txt')\n",
    "LVdetectors['H1']['psd_path'] = os.path.join(glob.detPath, 'LVC_O1O2O3', '2017-06-10_DCH_C02_H1_O2_Sensitivity_strain_asd.txt')\n",
    "LVdetectors['Virgo']['psd_path'] = os.path.join(glob.detPath, 'LVC_O1O2O3', 'Hrec_hoft_V1O2Repro2A_16384Hz.txt')\n"
   ]
  },
  {
   "cell_type": "code",
   "execution_count": 3,
   "id": "0a0589d6",
   "metadata": {},
   "outputs": [
    {
     "name": "stdout",
     "output_type": "stream",
     "text": [
      "Using ASD from file /home/rciancarella/.local/lib/python3.10/site-packages/psds/LVC_O1O2O3/2017-08-06_DCH_C02_L1_O2_Sensitivity_strain_asd.txt \n",
      "WARNING: the motion of Earth gives a relevant contribution for BNS signals, consider switching it on\n",
      "Initializing jax...\n",
      "Jax local device count: 8\n",
      "Jax  device count: 8\n",
      "Using ASD from file /home/rciancarella/.local/lib/python3.10/site-packages/psds/LVC_O1O2O3/2017-06-10_DCH_C02_H1_O2_Sensitivity_strain_asd.txt \n",
      "WARNING: the motion of Earth gives a relevant contribution for BNS signals, consider switching it on\n",
      "Initializing jax...\n",
      "Jax local device count: 8\n",
      "Jax  device count: 8\n",
      "Using ASD from file /home/rciancarella/.local/lib/python3.10/site-packages/psds/LVC_O1O2O3/Hrec_hoft_V1O2Repro2A_16384Hz.txt \n",
      "WARNING: the motion of Earth gives a relevant contribution for BNS signals, consider switching it on\n",
      "Initializing jax...\n",
      "Jax local device count: 8\n",
      "Jax  device count: 8\n"
     ]
    }
   ],
   "source": [
    "myLVSignals = {}\n",
    "\n",
    "for d in LVdetectors.keys():\n",
    "\n",
    "    myLVSignals[d] = GWSignal(IMRPhenomD_NRTidalv2(),\n",
    "                psd_path=LVdetectors[d]['psd_path'],\n",
    "                detector_shape = LVdetectors[d]['shape'],\n",
    "                det_lat= LVdetectors[d]['lat'],\n",
    "                det_long=LVdetectors[d]['long'],\n",
    "                det_xax=LVdetectors[d]['xax'],\n",
    "                verbose=True,\n",
    "                useEarthMotion = False,\n",
    "                fmin=10.,\n",
    "                IntTablePath=None)\n",
    "\n",
    "myLVNet = DetNet(myLVSignals)"
   ]
  },
  {
   "cell_type": "code",
   "execution_count": 4,
   "id": "45caec76",
   "metadata": {},
   "outputs": [
    {
     "name": "stdout",
     "output_type": "stream",
     "text": [
      "Parameters for GW170817 are:\n"
     ]
    },
    {
     "data": {
      "text/plain": [
       "{'Mc': array([1.19752182]),\n",
       " 'dL': array([0.04374755]),\n",
       " 'theta': array([1.97888033]),\n",
       " 'phi': array([3.44616]),\n",
       " 'iota': array([2.5450656]),\n",
       " 'psi': array([0.]),\n",
       " 'tcoal': DeviceArray([0.43432288], dtype=float64),\n",
       " 'eta': array([0.24786618]),\n",
       " 'Phicoal': array([0.]),\n",
       " 'chi1z': array([0.00513614]),\n",
       " 'chi2z': array([0.00323515]),\n",
       " 'Lambda1': array([368.17802384]),\n",
       " 'Lambda2': array([586.54870315])}"
      ]
     },
     "execution_count": 4,
     "metadata": {},
     "output_type": "execute_result"
    }
   ],
   "source": [
    "# Median values of the posterior samples for all the parameters,\n",
    "# except psi and the coalescence phase that are set to 0\n",
    "\n",
    "z = np.array([0.00980])\n",
    "tGPS = np.array([1187008882.4])\n",
    "\n",
    "GW170817 = {'Mc':np.array([1.1859])*(1.+z),\n",
    "            'dL':Planck18.luminosity_distance(z).value/1000.,\n",
    "            'theta':np.array([np.pi/2. + 0.4080839999999999]),\n",
    "            'phi':np.array([3.4461599999999994]),\n",
    "            'iota':np.array([2.545065595974997]),\n",
    "            'psi':np.array([0.]),\n",
    "            'tcoal':GPSt_to_LMST(tGPS, lat=0., long=0.), # GMST is LMST computed at long = 0°\n",
    "            'eta':np.array([0.24786618323504223]),\n",
    "            'Phicoal':np.array([0.]),\n",
    "            'chi1z':np.array([0.005136138323169717]),\n",
    "            'chi2z':np.array([0.003235146993487445]),\n",
    "            'Lambda1':np.array([368.17802383555687]),\n",
    "            'Lambda2':np.array([586.5487031450857])\n",
    "           }\n",
    "\n",
    "print('Parameters for GW170817 are:')\n",
    "GW170817"
   ]
  },
  {
   "cell_type": "code",
   "execution_count": 5,
   "id": "23348794",
   "metadata": {},
   "outputs": [
    {
     "name": "stdout",
     "output_type": "stream",
     "text": [
      "SNR for GW170817 is 33.16 to compare with 33\n"
     ]
    }
   ],
   "source": [
    "SNR = myLVNet.SNR(GW170817)\n",
    "print('SNR for GW170817 is %.2f to compare with 33'%SNR[0])"
   ]
  },
  {
   "cell_type": "code",
   "execution_count": 6,
   "id": "64f6a5f0",
   "metadata": {},
   "outputs": [
    {
     "name": "stdout",
     "output_type": "stream",
     "text": [
      "Computing Fisher for L1...\n",
      "Computing derivatives...\n",
      "Computing Fisher for H1...\n",
      "Computing derivatives...\n",
      "Computing Fisher for Virgo...\n",
      "Computing derivatives...\n",
      "Done.\n",
      "The computed Fisher matrix has shape (13, 13, 1)\n"
     ]
    }
   ],
   "source": [
    "totF = myLVNet.FisherMatr(GW170817)\n",
    "print('The computed Fisher matrix has shape %s'%str(totF.shape))"
   ]
  },
  {
   "cell_type": "code",
   "execution_count": 7,
   "id": "c621fe59",
   "metadata": {},
   "outputs": [
    {
     "name": "stdout",
     "output_type": "stream",
     "text": [
      "Now the Fisher matrix has shape (12, 12, 1)\n",
      "Inversion errors: [0.00030831]\n",
      "diagonal-1 = [array([-4.54829951e-10, -1.78643766e-09, -9.34453795e-13,  1.48501003e-14,\n",
      "        2.56035319e-13, -8.07555303e-13, -5.37078281e-12,  5.18435364e-10,\n",
      "       -3.58276742e-11,  7.52511337e-07,  6.57836786e-07, -8.88275564e-12],\n",
      "      dtype=float128)]\n",
      "Max off diagonal: [0.00030830537434667348862]\n",
      "\n",
      "mask: where F*S(off-diagonal)>1e-10 (--> problematic if True off diagonal)\n",
      "[array([[ True, False, False, False, False, False, False, False, False,\n",
      "        False, False, False],\n",
      "       [ True,  True, False, False, False, False, False,  True, False,\n",
      "        False,  True, False],\n",
      "       [False, False,  True, False, False, False, False, False, False,\n",
      "        False, False, False],\n",
      "       [False,  True, False,  True, False, False, False, False, False,\n",
      "        False, False, False],\n",
      "       [ True, False, False, False,  True, False, False, False, False,\n",
      "        False, False, False],\n",
      "       [False,  True, False, False, False,  True, False, False, False,\n",
      "         True, False, False],\n",
      "       [ True, False, False, False, False, False,  True,  True, False,\n",
      "        False,  True, False],\n",
      "       [False,  True, False, False, False, False, False,  True, False,\n",
      "        False,  True, False],\n",
      "       [False,  True, False, False,  True, False, False,  True,  True,\n",
      "         True,  True, False],\n",
      "       [False,  True, False, False,  True, False,  True,  True, False,\n",
      "         True,  True, False],\n",
      "       [False,  True, False,  True, False, False,  True,  True,  True,\n",
      "         True,  True, False],\n",
      "       [ True, False, False, False,  True,  True, False, False, False,\n",
      "         True, False,  True]])]\n"
     ]
    }
   ],
   "source": [
    "ParNums = IMRPhenomD_NRTidalv2().ParNums\n",
    "#tofix_ParNums=[e for e in ParNums if e not in ('dL', 'phi','theta')]\n",
    "newFish, newPars = fixParams(totF, ParNums, ['deltaLambda'])\n",
    "#newFish, newPars = fixParams(totF, ParNums, tofix_ParNums)\n",
    "print('Now the Fisher matrix has shape %s'%str(newFish.shape))\n",
    "\n",
    "newCov, new_inversion_err = CovMatr(newFish)\n",
    "\n",
    "_ = check_covariance(newFish, newCov)"
   ]
  },
  {
   "cell_type": "code",
   "execution_count": 8,
   "id": "bf973074",
   "metadata": {},
   "outputs": [
    {
     "name": "stdout",
     "output_type": "stream",
     "text": [
      "The estimated sky location is 19.9 deg^2, to compare with 16 deg^2\n"
     ]
    }
   ],
   "source": [
    "skyArea = compute_localization_region(newCov, newPars, GW170817['theta'])\n",
    "print('The estimated sky location is %.1f deg^2, to compare with 16 deg^2'%skyArea)"
   ]
  },
  {
   "cell_type": "code",
   "execution_count": 36,
   "id": "9c0c6bfe",
   "metadata": {},
   "outputs": [
    {
     "name": "stdout",
     "output_type": "stream",
     "text": [
      "{'Mc': 0, 'eta': 1, 'dL': 2, 'theta': 3, 'phi': 4, 'iota': 5, 'psi': 6, 'tcoal': 7, 'Phicoal': 8, 'chi1z': 9, 'chi2z': 10, 'LambdaTilde': 11, 'deltaLambda': 12}\n"
     ]
    }
   ],
   "source": [
    "print(ParNums)"
   ]
  },
  {
   "cell_type": "code",
   "execution_count": 9,
   "id": "4f3c1cb3",
   "metadata": {},
   "outputs": [
    {
     "name": "stdout",
     "output_type": "stream",
     "text": [
      "{'Mc': 0, 'eta': 1, 'dL': 2, 'theta': 3, 'phi': 4, 'iota': 5, 'psi': 6, 'tcoal': 7, 'Phicoal': 8, 'chi1z': 9, 'chi2z': 10, 'LambdaTilde': 11}\n"
     ]
    }
   ],
   "source": [
    "print(newPars)"
   ]
  },
  {
   "cell_type": "code",
   "execution_count": 40,
   "id": "cd33d458",
   "metadata": {},
   "outputs": [],
   "source": [
    "lambtilde,d_lamb=Lamt_delLam_from_Lam12(GW170817['Lambda1'][0],GW170817['Lambda2'][0],GW170817['eta'][0])"
   ]
  },
  {
   "cell_type": "code",
   "execution_count": 41,
   "id": "8d4967c3",
   "metadata": {},
   "outputs": [
    {
     "name": "stdout",
     "output_type": "stream",
     "text": [
      "456.2163206808929\n"
     ]
    }
   ],
   "source": [
    "print(lambtilde)"
   ]
  },
  {
   "cell_type": "markdown",
   "id": "1b332df3",
   "metadata": {},
   "source": [
    "# Check with proxygen"
   ]
  },
  {
   "cell_type": "code",
   "execution_count": 31,
   "id": "0e8aee58",
   "metadata": {},
   "outputs": [
    {
     "name": "stderr",
     "output_type": "stream",
     "text": [
      "WARNING: AstropyDeprecationWarning: The get_cosmology_from_string method is deprecated and may be removed in a future version.\n",
      "        Use get instead. [ligo.skymap.postprocess.cosmology]\n",
      "WARNING:astropy:AstropyDeprecationWarning: The get_cosmology_from_string method is deprecated and may be removed in a future version.\n",
      "        Use get instead.\n"
     ]
    }
   ],
   "source": [
    "import pandas as pd\n",
    "import numpy as np\n",
    "import healpy as hp\n",
    "import matplotlib.pyplot as plt\n",
    "\n",
    "from astropy.cosmology import FlatLambdaCDM\n",
    "from astropy.table import Table\n",
    "\n",
    "from ligo.skymap.io import fits\n",
    "from ligo.skymap.postprocess import find_greedy_credible_levels\n",
    "\n",
    "import os\n",
    "import sys\n",
    "from tqdm import tqdm\n",
    "\n",
    "import h5py\n",
    "from multiprocessing import Pool\n",
    "import pickle\n",
    "from numba import jit\n",
    "\n",
    "H0GLOB=67 #69\n",
    "Om0GLOB=0.319\n",
    "Xi0Glob =1.\n",
    "clight = 2.99792458* 10**5#km/s\n",
    "cosmoflag = FlatLambdaCDM(H0=H0GLOB, Om0=Om0GLOB)"
   ]
  },
  {
   "cell_type": "code",
   "execution_count": 69,
   "id": "77e4aa7d",
   "metadata": {},
   "outputs": [],
   "source": [
    "def area(nside,all_pixels,p_posterior,level=0.95):\n",
    "\n",
    "    \n",
    "    ''' Area of level% credible region, in square degrees.\n",
    "        If level is not specified, uses current selection '''\n",
    "    pixarea=hp.nside2pixarea(nside)\n",
    "    return get_credible_region_pixels(all_pixels,p_posterior,level=level).size*pixarea*(180/np.pi)**2\n",
    "\n",
    "\n",
    "def _get_credible_region_pth(p_posterior,level=0.95):\n",
    "    '''\n",
    "    Finds value minskypdf of rho_i that bouds the x% credible region , with x=level\n",
    "    Then to select pixels in that region: self.all_pixels[self.p_posterior>minskypdf]\n",
    "    '''\n",
    "    prob_sorted = np.sort(p_posterior)[::-1]\n",
    "    prob_sorted_cum = np.cumsum(prob_sorted)\n",
    "    # find index of array which bounds the area confidence interval\n",
    "    idx = np.searchsorted(prob_sorted_cum, level)\n",
    "    minskypdf = prob_sorted[idx] #*skymap.npix\n",
    "      \n",
    "    return minskypdf\n",
    "\n",
    "def get_credible_region_pixels(all_pixels, p_posterior, level=0.95):\n",
    "\n",
    "    return all_pixels[p_posterior>_get_credible_region_pth(p_posterior,level=level)]\n",
    "\n",
    "def sample_multivariate_gaussian(mean, cov, num_samples):\n",
    "    return np.random.multivariate_normal(mean, cov, num_samples)\n",
    "\n",
    "def process_pixel(args):\n",
    "    pix, nside, mean, cov, new_samples_per_pixel, samples, pixels = args\n",
    "    \n",
    "    # Get the fixed angles for this pixel\n",
    "    theta_fixed, phi_fixed = hp.pix2ang(nside, pix)\n",
    "    \n",
    "    # Extract samples of all parameters for this pixel\n",
    "    pixel_indices = np.where(pixels == pix)[0]\n",
    "    samples_in_pixel = samples[pixel_indices]\n",
    "\n",
    "    # Permutation order to move luminosity distance to index 0, theta to index 1, and phi to index 2\n",
    "    perm = [2, 3, 4] + list(range(0, 2)) + list(range(5, len(mean)))\n",
    "\n",
    "    # Apply the permutation to the mean and covariance matrix\n",
    "    mean_permuted = np.array(mean)[perm]\n",
    "    cov_permuted = cov[np.ix_(perm, perm)]\n",
    "\n",
    "# Create the alpha vector with the fixed values and mean of other parameters\n",
    "    alpha = np.zeros(len(mean_permuted) - 1)\n",
    "    alpha[0] = theta_fixed\n",
    "    alpha[1] = phi_fixed\n",
    "    alpha[2:] = samples_in_pixel[:, [0, 1, 5, 6,7,8,9,10,11]].mean(axis=0)  # Use the mean of the other parameters in this pixel\n",
    "    \n",
    "    # Create a new mean vector excluding the luminosity distance mean (mean_permuted[0])\n",
    "    mean_new = mean_permuted[1:]\n",
    "\n",
    "    # Partition the permuted covariance matrix\n",
    "    Sigma_xx = cov_permuted[1:, 1:]\n",
    "    Sigma_xy = cov_permuted[1:, 0]\n",
    "    Sigma_yx = cov_permuted[0, 1:]\n",
    "    Sigma_yy = cov_permuted[0, 0]\n",
    "    \n",
    "    # Compute the conditional mean and covariance\n",
    "    mu_cond = mean_permuted[0] + Sigma_yx @ np.linalg.inv(Sigma_xx) @ (alpha - mean_new)\n",
    "    Sigma_cond = Sigma_yy - Sigma_yx @ np.linalg.inv(Sigma_xx) @ Sigma_xy\n",
    "    \n",
    "    # Handle negative Sigma_cond\n",
    "    if Sigma_cond < 0:\n",
    "        print(f\"Warning: Negative Sigma_cond ({Sigma_cond}) encountered for pixel {pix}.\")\n",
    "        Sigma_cond = np.abs(Sigma_cond)  # Take the absolute value\n",
    "        Sigma_cond = max(Sigma_cond, 1e-10)  # Ensure it is at least a small positive value\n",
    "    \n",
    "    # Sample from the conditional Gaussian distribution\n",
    "    new_samples = np.random.normal(mu_cond, np.sqrt(Sigma_cond), new_samples_per_pixel)\n",
    "    \n",
    "    # Extract the new luminosity distances\n",
    "    new_luminosity_distance = new_samples\n",
    "    \n",
    "    # Compute the mean and std of the luminosity distance\n",
    "    mu = np.mean(new_luminosity_distance)\n",
    "    std = np.std(new_luminosity_distance)\n",
    "    \n",
    "    return pix, mu, std, new_luminosity_distance\n"
   ]
  },
  {
   "cell_type": "code",
   "execution_count": 70,
   "id": "c1d7bc9c",
   "metadata": {},
   "outputs": [
    {
     "name": "stdout",
     "output_type": "stream",
     "text": [
      "[1.19752182e+00 4.37475545e-02 1.97888033e+00 3.44616000e+00\n",
      " 2.54506560e+00 0.00000000e+00 4.34322878e-01 2.47866183e-01\n",
      " 0.00000000e+00 5.13613832e-03 3.23514699e-03 4.56216321e+02] 12\n"
     ]
    }
   ],
   "source": [
    "mean=[]\n",
    "avoid=['Lambda1','Lambda2']\n",
    "for k in GW170817.keys():\n",
    "    if k not in avoid:\n",
    "        mean.append(GW170817[k][0])\n",
    "mean.append(lambtilde)    \n",
    "mean=np.array(mean)\n",
    "print(mean,len(mean))\n",
    "cov=np.float64(newCov[:,:,0])\n",
    "#print(cov)"
   ]
  },
  {
   "cell_type": "code",
   "execution_count": 71,
   "id": "df5a0ff5",
   "metadata": {},
   "outputs": [
    {
     "name": "stdout",
     "output_type": "stream",
     "text": [
      "(12,) (12, 12)\n"
     ]
    }
   ],
   "source": [
    "print(np.shape(mean),np.shape(cov))"
   ]
  },
  {
   "cell_type": "code",
   "execution_count": null,
   "id": "96e06de3",
   "metadata": {},
   "outputs": [],
   "source": [
    "num_samples = 500_000_000\n",
    "\n",
    "# Sample from the multivariate Gaussian distribution\n",
    "samples = sample_multivariate_gaussian(mean, cov, num_samples)\n",
    "\n",
    "# Extract variables\n",
    "luminosity_distance = samples[:, 2]\n",
    "#angles = samples[:, 3:5]\n",
    "theta=samples[:,3]\n",
    "phi=samples[:,4]\n",
    "# Ensure angles are within valid ranges\n",
    "#angles[:, 0] = np.mod(angles[:, 0], np.pi)  # theta in range [0, π]\n",
    "theta = np.mod(theta, np.pi)  # theta in range [0, π]\n",
    "#angles[:, 1] = np.mod(angles[:, 1], 2 * np.pi)  # phi in range [0, 2π]\n",
    "phi = np.mod(phi, 2 * np.pi)  # phi in range [0, 2π]\n",
    "\n",
    "# Number of pixels in the sky map\n",
    "nside = 64\n",
    "\n",
    "# Create a HEALPix map\n",
    "sky_map = np.zeros(hp.nside2npix(nside))\n",
    "npix=hp.nside2npix(nside)\n",
    "all_pixels=np.arange(npix)\n",
    "# Convert angles to pixel indices\n",
    "pixels = hp.ang2pix(nside, theta, phi)\n",
    "\n",
    "# Increment the pixel values\n",
    "np.add.at(sky_map, pixels, 1)\n",
    "\n",
    "# Normalize the sky map\n",
    "sky_map = sky_map / np.sum(sky_map)\n",
    "\n",
    "# Get the array of good pixels where sky_map > 0\n",
    "pix95=get_credible_region_pixels(all_pixels,sky_map)\n",
    "pix90=get_credible_region_pixels(all_pixels,sky_map,level=0.9)\n",
    "# Initialize arrays to store the mean and std of luminosity distance\n",
    "all_mu = np.zeros(hp.nside2npix(nside))\n",
    "all_std = np.zeros(hp.nside2npix(nside))\n",
    "\n",
    "# Initialize dictionary to store new luminosity distance arrays for each pixel\n",
    "luminosity_distance_samples = {}\n",
    "\n",
    "# Number of new samples to generate for each pixel\n",
    "new_samples_per_pixel = 1_000\n",
    "\n",
    "# Prepare arguments for multiprocessing\n",
    "args = [(pix, nside, mean, cov, new_samples_per_pixel, samples, pixels) for pix in pix95]\n",
    "\n",
    "# Specify the number of processors to use\n",
    "num_processors = 10\n",
    "\n",
    "# Using multiprocessing Pool to parallelize the process\n",
    "with Pool(processes=num_processors) as pool:\n",
    "    # Using tqdm to add a progress bar\n",
    "    results = list(tqdm(pool.imap(process_pixel, args), total=len(pix95)))\n",
    "\n",
    "# Collect the results\n",
    "for pix, mu, std, new_luminosity_distance in results:\n",
    "    if mu is not None and std is not None:\n",
    "        all_mu[pix] = mu\n",
    "        all_std[pix] = std\n",
    "        luminosity_distance_samples[pix] = new_luminosity_distance"
   ]
  },
  {
   "cell_type": "code",
   "execution_count": 67,
   "id": "627d835f",
   "metadata": {},
   "outputs": [
    {
     "data": {
      "image/png": "[encoded data removed]",
      "text/plain": [
       "<Figure size 612x388.8 with 2 Axes>"
      ]
     },
     "metadata": {
      "needs_background": "light"
     },
     "output_type": "display_data"
    }
   ],
   "source": [
    "# Plot the sky map\n",
    "hp.mollview(sky_map, title=\"Sky Map\", coord=['C'])\n",
    "hp.graticule()\n",
    "plt.show()"
   ]
  },
  {
   "cell_type": "code",
   "execution_count": null,
   "id": "ace17d7a",
   "metadata": {},
   "outputs": [],
   "source": [
    "myarea=area(nside,all_pixels,sky_map,level=0.90)\n",
    "print(myarea)"
   ]
  },
  {
   "cell_type": "code",
   "execution_count": null,
   "id": "91a73fec",
   "metadata": {},
   "outputs": [],
   "source": []
  }
 ],
 "metadata": {
  "kernelspec": {
   "display_name": "Python 3 (ipykernel)",
   "language": "python",
   "name": "python3"
  },
  "language_info": {
   "codemirror_mode": {
    "name": "ipython",
    "version": 3
   },
   "file_extension": ".py",
   "mimetype": "text/x-python",
   "name": "python",
   "nbconvert_exporter": "python",
   "pygments_lexer": "ipython3",
   "version": "3.10.12"
  }
 },
 "nbformat": 4,
 "nbformat_minor": 5
}
