{
 "cells": [
  {
   "cell_type": "code",
   "execution_count": 1,
   "id": "c0a481bb",
   "metadata": {},
   "outputs": [
    {
     "name": "stderr",
     "output_type": "stream",
     "text": [
      "WARNING:jax._src.lib.xla_bridge:No GPU/TPU found, falling back to CPU. (Set TF_CPP_MIN_LOG_LEVEL=0 and rerun for more info.)\n"
     ]
    },
    {
     "name": "stdout",
     "output_type": "stream",
     "text": [
      "TEOBResumS is not installed, only the GWFAST waveform models are available, namely: TaylorF2, IMRPhenomD, IMRPhenomD_NRTidalv2, IMRPhenomHM and IMRPhenomNSBH\n"
     ]
    }
   ],
   "source": [
    "import os\n",
    "import sys\n",
    "\n",
    "import copy\n",
    "import numpy as np\n",
    "from astropy.cosmology import Planck18\n",
    "\n",
    "PACKAGE_PARENT = '..'\n",
    "SCRIPT_DIR = os.path.dirname(os.path.realpath(os.path.join(os.getcwd())))\n",
    "sys.path.append(SCRIPT_DIR)\n",
    "import gwfast.gwfastGlobals as glob\n",
    "import gwfast \n",
    "from gwfast.waveforms import IMRPhenomD_NRTidalv2\n",
    "from gwfast.signal import GWSignal\n",
    "from gwfast.network import DetNet\n",
    "from fisherTools import CovMatr, compute_localization_region, check_covariance, fixParams\n",
    "from gwfastUtils import GPSt_to_LMST"
   ]
  },
  {
   "cell_type": "code",
   "execution_count": 35,
   "id": "1a3a62ad",
   "metadata": {},
   "outputs": [
    {
     "name": "stdout",
     "output_type": "stream",
     "text": [
      "/home/rciancarella/.local/lib/python3.10/site-packages /home/rciancarella/DarkSirensStat\n"
     ]
    }
   ],
   "source": [
    "print(glob.dirName,SCRIPT_DIR)"
   ]
  },
  {
   "cell_type": "code",
   "execution_count": 36,
   "id": "de3cc5cf",
   "metadata": {},
   "outputs": [],
   "source": [
    "keys = ('Mc','eta','dL','theta','phi','iota','psi','tcoal','Phicoal','chi1x','chi2x',\n",
    "        'chi1y','chi2y','chi1z','chi2z','LambdaTilde','deltaLambda','ecc')\n",
    "mydata=dict.fromkeys(keys)"
   ]
  },
  {
   "cell_type": "code",
   "execution_count": 37,
   "id": "4ff4bef5",
   "metadata": {},
   "outputs": [
    {
     "name": "stdout",
     "output_type": "stream",
     "text": [
      "dict_keys(['Mc', 'eta', 'dL', 'theta', 'phi', 'iota', 'psi', 'tcoal', 'Phicoal', 'chi1x', 'chi2x', 'chi1y', 'chi2y', 'chi1z', 'chi2z', 'LambdaTilde', 'deltaLambda', 'ecc'])\n"
     ]
    }
   ],
   "source": [
    "print(mydata.keys())"
   ]
  },
  {
   "cell_type": "code",
   "execution_count": 38,
   "id": "6392bea9",
   "metadata": {},
   "outputs": [
    {
     "name": "stdout",
     "output_type": "stream",
     "text": [
      "All available detectors are: ['L1', 'H1', 'Virgo', 'KAGRA', 'LIGOI', 'ETS', 'ETMR', 'ETSL', 'ETMRL45d', 'ETMRLpar', 'CE1Id', 'CE2NM', 'CE2NSW']\n",
      "Using detectors ['L1', 'H1', 'Virgo']\n"
     ]
    }
   ],
   "source": [
    "alldetectors = copy.deepcopy(glob.detectors)\n",
    "print('All available detectors are: '+str(list(alldetectors.keys())))\n",
    "\n",
    "# select only LIGO and Virgo\n",
    "LVdetectors = {det:alldetectors[det] for det in ['L1', 'H1', 'Virgo']}\n",
    "print('Using detectors '+str(list(LVdetectors.keys())))"
   ]
  },
  {
   "cell_type": "code",
   "execution_count": 39,
   "id": "0570b243",
   "metadata": {},
   "outputs": [
    {
     "data": {
      "text/plain": [
       "{'L1': {'lat': 30.563,\n",
       "  'long': -90.774,\n",
       "  'xax': 242.71636956358617,\n",
       "  'shape': 'L'},\n",
       " 'H1': {'lat': 46.455,\n",
       "  'long': -119.408,\n",
       "  'xax': 170.99924234706103,\n",
       "  'shape': 'L'},\n",
       " 'Virgo': {'lat': 43.631,\n",
       "  'long': 10.504,\n",
       "  'xax': 115.56756342034298,\n",
       "  'shape': 'L'}}"
      ]
     },
     "execution_count": 39,
     "metadata": {},
     "output_type": "execute_result"
    }
   ],
   "source": [
    "LVdetectors"
   ]
  },
  {
   "cell_type": "code",
   "execution_count": 40,
   "id": "013ddebe",
   "metadata": {},
   "outputs": [],
   "source": [
    "# We use the O2 psds\n",
    "LVdetectors['L1']['psd_path'] = os.path.join(glob.detPath, 'LVC_O1O2O3', '2017-08-06_DCH_C02_L1_O2_Sensitivity_strain_asd.txt')\n",
    "LVdetectors['H1']['psd_path'] = os.path.join(glob.detPath, 'LVC_O1O2O3', '2017-06-10_DCH_C02_H1_O2_Sensitivity_strain_asd.txt')\n",
    "LVdetectors['Virgo']['psd_path'] = os.path.join(glob.detPath, 'LVC_O1O2O3', 'Hrec_hoft_V1O2Repro2A_16384Hz.txt')\n"
   ]
  },
  {
   "cell_type": "code",
   "execution_count": 41,
   "id": "41f356dd",
   "metadata": {},
   "outputs": [
    {
     "data": {
      "text/plain": [
       "'/home/rciancarella/.local/lib/python3.10/site-packages/psds'"
      ]
     },
     "execution_count": 41,
     "metadata": {},
     "output_type": "execute_result"
    }
   ],
   "source": [
    "glob.detPath"
   ]
  },
  {
   "cell_type": "code",
   "execution_count": 42,
   "id": "03dffb6f",
   "metadata": {},
   "outputs": [
    {
     "name": "stdout",
     "output_type": "stream",
     "text": [
      "Using ASD from file /home/rciancarella/.local/lib/python3.10/site-packages/psds/LVC_O1O2O3/2017-08-06_DCH_C02_L1_O2_Sensitivity_strain_asd.txt \n",
      "WARNING: the motion of Earth gives a relevant contribution for BNS signals, consider switching it on\n",
      "Initializing jax...\n",
      "Jax local device count: 8\n",
      "Jax  device count: 8\n",
      "Using ASD from file /home/rciancarella/.local/lib/python3.10/site-packages/psds/LVC_O1O2O3/2017-06-10_DCH_C02_H1_O2_Sensitivity_strain_asd.txt \n",
      "WARNING: the motion of Earth gives a relevant contribution for BNS signals, consider switching it on\n",
      "Initializing jax...\n",
      "Jax local device count: 8\n",
      "Jax  device count: 8\n",
      "Using ASD from file /home/rciancarella/.local/lib/python3.10/site-packages/psds/LVC_O1O2O3/Hrec_hoft_V1O2Repro2A_16384Hz.txt \n",
      "WARNING: the motion of Earth gives a relevant contribution for BNS signals, consider switching it on\n",
      "Initializing jax...\n",
      "Jax local device count: 8\n",
      "Jax  device count: 8\n"
     ]
    }
   ],
   "source": [
    "myLVSignals = {}\n",
    "\n",
    "for d in LVdetectors.keys():\n",
    "\n",
    "    myLVSignals[d] = GWSignal(IMRPhenomD_NRTidalv2(),\n",
    "                psd_path=LVdetectors[d]['psd_path'],\n",
    "                detector_shape = LVdetectors[d]['shape'],\n",
    "                det_lat= LVdetectors[d]['lat'],\n",
    "                det_long=LVdetectors[d]['long'],\n",
    "                det_xax=LVdetectors[d]['xax'],\n",
    "                verbose=True,\n",
    "                useEarthMotion = False,\n",
    "                fmin=10.,\n",
    "                IntTablePath=None)\n",
    "\n",
    "myLVNet = DetNet(myLVSignals)"
   ]
  },
  {
   "cell_type": "code",
   "execution_count": 43,
   "id": "7129891c",
   "metadata": {},
   "outputs": [
    {
     "name": "stdout",
     "output_type": "stream",
     "text": [
      "Parameters for GW170817 are:\n"
     ]
    },
    {
     "data": {
      "text/plain": [
       "{'Mc': array([1.19752182]),\n",
       " 'dL': array([0.04374755]),\n",
       " 'theta': array([1.97888033]),\n",
       " 'phi': array([3.44616]),\n",
       " 'iota': array([2.5450656]),\n",
       " 'psi': array([0.]),\n",
       " 'tcoal': DeviceArray([0.43432288], dtype=float64),\n",
       " 'eta': array([0.24786618]),\n",
       " 'Phicoal': array([0.]),\n",
       " 'chi1z': array([0.00513614]),\n",
       " 'chi2z': array([0.00323515]),\n",
       " 'Lambda1': array([368.17802384]),\n",
       " 'Lambda2': array([586.54870315])}"
      ]
     },
     "execution_count": 43,
     "metadata": {},
     "output_type": "execute_result"
    }
   ],
   "source": [
    "\n",
    "\n",
    "# Median values of the posterior samples for all the parameters,\n",
    "# except psi and the coalescence phase that are set to 0\n",
    "\n",
    "z = np.array([0.00980])\n",
    "tGPS = np.array([1187008882.4])\n",
    "\n",
    "GW170817 = {'Mc':np.array([1.1859])*(1.+z),\n",
    "            'dL':Planck18.luminosity_distance(z).value/1000.,\n",
    "            'theta':np.array([np.pi/2. + 0.4080839999999999]),\n",
    "            'phi':np.array([3.4461599999999994]),\n",
    "            'iota':np.array([2.545065595974997]),\n",
    "            'psi':np.array([0.]),\n",
    "            'tcoal':GPSt_to_LMST(tGPS, lat=0., long=0.), # GMST is LMST computed at long = 0°\n",
    "            'eta':np.array([0.24786618323504223]),\n",
    "            'Phicoal':np.array([0.]),\n",
    "            'chi1z':np.array([0.005136138323169717]),\n",
    "            'chi2z':np.array([0.003235146993487445]),\n",
    "            'Lambda1':np.array([368.17802383555687]),\n",
    "            'Lambda2':np.array([586.5487031450857])\n",
    "           }\n",
    "\n",
    "print('Parameters for GW170817 are:')\n",
    "GW170817"
   ]
  },
  {
   "cell_type": "code",
   "execution_count": 44,
   "id": "79ee9517",
   "metadata": {},
   "outputs": [
    {
     "name": "stdout",
     "output_type": "stream",
     "text": [
      "SNR for GW170817 is 33.16 to compare with 33\n"
     ]
    }
   ],
   "source": [
    "SNR = myLVNet.SNR(GW170817)\n",
    "print('SNR for GW170817 is %.2f to compare with 33'%SNR[0])"
   ]
  },
  {
   "cell_type": "code",
   "execution_count": 45,
   "id": "b7bacb61",
   "metadata": {},
   "outputs": [
    {
     "name": "stdout",
     "output_type": "stream",
     "text": [
      "Computing Fisher for L1...\n",
      "Computing derivatives...\n",
      "Computing Fisher for H1...\n",
      "Computing derivatives...\n",
      "Computing Fisher for Virgo...\n",
      "Computing derivatives...\n",
      "Done.\n",
      "The computed Fisher matrix has shape (13, 13, 1)\n"
     ]
    }
   ],
   "source": [
    "totF = myLVNet.FisherMatr(GW170817)\n",
    "print('The computed Fisher matrix has shape %s'%str(totF.shape))"
   ]
  },
  {
   "cell_type": "code",
   "execution_count": 46,
   "id": "4e7f9e2e",
   "metadata": {},
   "outputs": [
    {
     "data": {
      "text/plain": [
       "array([[[ 2.99788834e+12],\n",
       "        [-4.34587536e+10],\n",
       "        [-1.70553758e+04],\n",
       "        [-2.48002284e+08],\n",
       "        [-3.82053233e+08],\n",
       "        [ 3.72516037e+05],\n",
       "        [-1.16641283e+08],\n",
       "        [-3.91774476e+10],\n",
       "        [ 5.73325918e+07],\n",
       "        [-1.34640982e+10],\n",
       "        [-1.07415409e+10],\n",
       "        [-2.12042976e+04],\n",
       "        [-8.41611419e+01]],\n",
       "\n",
       "       [[-4.34587536e+10],\n",
       "        [ 6.49282666e+08],\n",
       "        [-3.04345233e+03],\n",
       "        [ 4.10393120e+06],\n",
       "        [ 6.03306904e+06],\n",
       "        [-4.80795429e+03],\n",
       "        [ 1.67779985e+06],\n",
       "        [ 6.35059458e+08],\n",
       "        [-8.24678226e+05],\n",
       "        [ 1.99064378e+08],\n",
       "        [ 1.58787297e+08],\n",
       "        [ 3.72479952e+02],\n",
       "        [ 1.26058035e+00]],\n",
       "\n",
       "       [[-1.70553758e+04],\n",
       "        [-3.04345233e+03],\n",
       "        [ 5.74454126e+05],\n",
       "        [-6.26631179e+03],\n",
       "        [-1.14828101e+04],\n",
       "        [-1.69938852e+04],\n",
       "        [-9.39098325e+01],\n",
       "        [ 8.35053518e-01],\n",
       "        [-2.50113478e-14],\n",
       "        [-2.20986117e+02],\n",
       "        [-1.76882522e+02],\n",
       "        [ 1.84831649e-02],\n",
       "        [ 4.27106985e-12]],\n",
       "\n",
       "       [[-2.48002284e+08],\n",
       "        [ 4.10393120e+06],\n",
       "        [-6.26631179e+03],\n",
       "        [ 4.47975882e+04],\n",
       "        [ 4.53022707e+04],\n",
       "        [ 1.89278197e+02],\n",
       "        [ 9.38260311e+03],\n",
       "        [ 5.92973188e+06],\n",
       "        [-4.61215803e+03],\n",
       "        [ 1.21508152e+06],\n",
       "        [ 9.68501658e+05],\n",
       "        [ 5.35821846e+00],\n",
       "        [ 8.07850775e-03]],\n",
       "\n",
       "       [[-3.82053233e+08],\n",
       "        [ 6.03306904e+06],\n",
       "        [-1.14828101e+04],\n",
       "        [ 4.53022707e+04],\n",
       "        [ 8.36330506e+04],\n",
       "        [ 2.58320846e+02],\n",
       "        [ 1.46209687e+04],\n",
       "        [ 7.79759787e+06],\n",
       "        [-7.18511963e+03],\n",
       "        [ 1.81422811e+06],\n",
       "        [ 1.44647457e+06],\n",
       "        [ 6.64021136e+00],\n",
       "        [ 1.18196601e-02]],\n",
       "\n",
       "       [[ 3.72516037e+05],\n",
       "        [-4.80795429e+03],\n",
       "        [-1.69938852e+04],\n",
       "        [ 1.89278197e+02],\n",
       "        [ 2.58320846e+02],\n",
       "        [ 5.03112476e+02],\n",
       "        [-1.21002071e+01],\n",
       "        [-3.46347111e+03],\n",
       "        [ 7.31314513e+00],\n",
       "        [-1.56359134e+03],\n",
       "        [-1.24794074e+03],\n",
       "        [-2.04104084e-03],\n",
       "        [-9.42229657e-06]],\n",
       "\n",
       "       [[-1.16641283e+08],\n",
       "        [ 1.67779985e+06],\n",
       "        [-9.39098325e+01],\n",
       "        [ 9.38260311e+03],\n",
       "        [ 1.46209687e+04],\n",
       "        [-1.21002071e+01],\n",
       "        [ 4.55065016e+03],\n",
       "        [ 1.49010808e+06],\n",
       "        [-2.23672369e+03],\n",
       "        [ 5.21171946e+05],\n",
       "        [ 4.15799640e+05],\n",
       "        [ 7.96500601e-01],\n",
       "        [ 3.24776672e-03]],\n",
       "\n",
       "       [[-3.91774476e+10],\n",
       "        [ 6.35059458e+08],\n",
       "        [ 8.35053518e-01],\n",
       "        [ 5.92973188e+06],\n",
       "        [ 7.79759787e+06],\n",
       "        [-3.46347111e+03],\n",
       "        [ 1.49010808e+06],\n",
       "        [ 8.77847944e+08],\n",
       "        [-7.32399861e+05],\n",
       "        [ 1.89303620e+08],\n",
       "        [ 1.50905971e+08],\n",
       "        [ 7.76686428e+02],\n",
       "        [ 1.24766500e+00]],\n",
       "\n",
       "       [[ 5.73325918e+07],\n",
       "        [-8.24678226e+05],\n",
       "        [-2.50113478e-14],\n",
       "        [-4.61215803e+03],\n",
       "        [-7.18511963e+03],\n",
       "        [ 7.31314513e+00],\n",
       "        [-2.23672369e+03],\n",
       "        [-7.32399861e+05],\n",
       "        [ 1.09941818e+03],\n",
       "        [-2.56169357e+05],\n",
       "        [-2.04376182e+05],\n",
       "        [-3.91475190e-01],\n",
       "        [-1.59635282e-03]],\n",
       "\n",
       "       [[-1.34640982e+10],\n",
       "        [ 1.99064378e+08],\n",
       "        [-2.20986117e+02],\n",
       "        [ 1.21508152e+06],\n",
       "        [ 1.81422811e+06],\n",
       "        [-1.56359134e+03],\n",
       "        [ 5.21171946e+05],\n",
       "        [ 1.89303620e+08],\n",
       "        [-2.56169357e+05],\n",
       "        [ 6.12527096e+07],\n",
       "        [ 4.88619972e+07],\n",
       "        [ 1.08249067e+02],\n",
       "        [ 3.86134531e-01]],\n",
       "\n",
       "       [[-1.07415409e+10],\n",
       "        [ 1.58787297e+08],\n",
       "        [-1.76882522e+02],\n",
       "        [ 9.68501658e+05],\n",
       "        [ 1.44647457e+06],\n",
       "        [-1.24794074e+03],\n",
       "        [ 4.15799640e+05],\n",
       "        [ 1.50905971e+08],\n",
       "        [-2.04376182e+05],\n",
       "        [ 4.88619972e+07],\n",
       "        [ 3.89778217e+07],\n",
       "        [ 8.62126416e+01],\n",
       "        [ 3.08001436e-01]],\n",
       "\n",
       "       [[-2.12042976e+04],\n",
       "        [ 3.72479952e+02],\n",
       "        [ 1.84831649e-02],\n",
       "        [ 5.35821846e+00],\n",
       "        [ 6.64021136e+00],\n",
       "        [-2.04104084e-03],\n",
       "        [ 7.96500601e-01],\n",
       "        [ 7.76686428e+02],\n",
       "        [-3.91475190e-01],\n",
       "        [ 1.08249067e+02],\n",
       "        [ 8.62126416e+01],\n",
       "        [ 1.02659248e-03],\n",
       "        [ 7.45079943e-07]],\n",
       "\n",
       "       [[-8.41611419e+01],\n",
       "        [ 1.26058035e+00],\n",
       "        [ 4.27106985e-12],\n",
       "        [ 8.07850775e-03],\n",
       "        [ 1.18196601e-02],\n",
       "        [-9.42229657e-06],\n",
       "        [ 3.24776672e-03],\n",
       "        [ 1.24766500e+00],\n",
       "        [-1.59635282e-03],\n",
       "        [ 3.86134531e-01],\n",
       "        [ 3.08001436e-01],\n",
       "        [ 7.45079943e-07],\n",
       "        [ 2.44828872e-09]]])"
      ]
     },
     "execution_count": 46,
     "metadata": {},
     "output_type": "execute_result"
    }
   ],
   "source": [
    "totF"
   ]
  },
  {
   "cell_type": "code",
   "execution_count": 47,
   "id": "338f5e81",
   "metadata": {},
   "outputs": [
    {
     "name": "stdout",
     "output_type": "stream",
     "text": [
      "The relative difference is 4.44e-16 !\n"
     ]
    }
   ],
   "source": [
    "# Check e.g. that the (dL,dL) element corresponds to (SNR/dL)^2\n",
    "ParNums = IMRPhenomD_NRTidalv2().ParNums\n",
    "dL_Num = ParNums['dL']\n",
    "print('The relative difference is %.2e !'%((1 - totF[ParNums['dL'],ParNums['dL'],:]/(SNR/GW170817['dL'])**2)[0]))"
   ]
  },
  {
   "cell_type": "code",
   "execution_count": 15,
   "id": "bf73ebf5",
   "metadata": {},
   "outputs": [
    {
     "name": "stdout",
     "output_type": "stream",
     "text": [
      "The relative difference is 4.44e-16 !\n"
     ]
    }
   ],
   "source": [
    "# Check e.g. that the (dL,dL) element corresponds to (SNR/dL)^2\n",
    "ParNums = IMRPhenomD_NRTidalv2().ParNums\n",
    "dL_Num = ParNums['dL']\n",
    "print('The relative difference is %.2e !'%((1 - totF[ParNums['dL'],ParNums['dL'],:]/(SNR/GW170817['dL'])**2)[0]))"
   ]
  },
  {
   "cell_type": "code",
   "execution_count": 48,
   "id": "3d13cbd6",
   "metadata": {},
   "outputs": [],
   "source": [
    "totCov, inversion_err = CovMatr(totF)"
   ]
  },
  {
   "cell_type": "code",
   "execution_count": 49,
   "id": "f74253e7",
   "metadata": {},
   "outputs": [
    {
     "data": {
      "text/plain": [
       "array([[[ 1.60131987e-07],\n",
       "        [-2.32468137e-06],\n",
       "        [-1.10634872e-07],\n",
       "        [ 6.45159992e-08],\n",
       "        [ 2.24194551e-08],\n",
       "        [-5.15201939e-06],\n",
       "        [ 1.47171559e-05],\n",
       "        [-3.26982129e-06],\n",
       "        [-1.04413296e-03],\n",
       "        [ 1.33517731e-02],\n",
       "        [-1.65173920e-02],\n",
       "        [ 1.41914630e-01],\n",
       "        [-2.02322434e+04]],\n",
       "\n",
       "       [[-2.32468137e-06],\n",
       "        [ 2.06089852e-03],\n",
       "        [ 9.03544641e-06],\n",
       "        [ 1.13429157e-05],\n",
       "        [ 8.16331983e-06],\n",
       "        [-7.43236328e-05],\n",
       "        [ 2.42845490e-03],\n",
       "        [-1.74195179e-04],\n",
       "        [ 1.87873294e-02],\n",
       "        [ 6.99684852e-01],\n",
       "        [-8.73327484e-01],\n",
       "        [ 1.71180500e+01],\n",
       "        [-1.53308759e+06]],\n",
       "\n",
       "       [[-1.10634872e-07],\n",
       "        [ 9.03544641e-06],\n",
       "        [ 4.89140124e-03],\n",
       "        [-8.18987655e-05],\n",
       "        [ 5.11362752e-04],\n",
       "        [ 1.64988878e-01],\n",
       "        [-2.93776234e-03],\n",
       "        [-2.06242358e-06],\n",
       "        [-1.02537284e-02],\n",
       "        [-5.90919715e-03],\n",
       "        [ 7.23119907e-03],\n",
       "        [-1.04855739e-01],\n",
       "        [ 1.05462688e+04]],\n",
       "\n",
       "       [[ 6.45159992e-08],\n",
       "        [ 1.13429157e-05],\n",
       "        [-8.18987655e-05],\n",
       "        [ 1.50476428e-03],\n",
       "        [ 7.86098842e-04],\n",
       "        [-3.99881375e-03],\n",
       "        [ 2.55190217e-02],\n",
       "        [-2.24815727e-05],\n",
       "        [ 5.18167267e-02],\n",
       "        [ 2.15633570e-02],\n",
       "        [-2.67938200e-02],\n",
       "        [ 3.04055248e-01],\n",
       "        [-3.12524891e+04]],\n",
       "\n",
       "       [[ 2.24194551e-08],\n",
       "        [ 8.16331983e-06],\n",
       "        [ 5.11362752e-04],\n",
       "        [ 7.86098842e-04],\n",
       "        [ 5.49368351e-04],\n",
       "        [ 1.65538721e-02],\n",
       "        [ 1.24682010e-02],\n",
       "        [-1.37009136e-05],\n",
       "        [ 2.50481110e-02],\n",
       "        [ 1.41244562e-02],\n",
       "        [-1.75707858e-02],\n",
       "        [ 2.08891182e-01],\n",
       "        [-1.91048667e+04]],\n",
       "\n",
       "       [[-5.15201939e-06],\n",
       "        [-7.43236328e-05],\n",
       "        [ 1.64988878e-01],\n",
       "        [-3.99881375e-03],\n",
       "        [ 1.65538721e-02],\n",
       "        [ 5.56853777e+00],\n",
       "        [-1.71802489e-01],\n",
       "        [ 2.29396812e-05],\n",
       "        [-4.85534414e-01],\n",
       "        [-5.14270702e-01],\n",
       "        [ 6.35189194e-01],\n",
       "        [-8.87028208e+00],\n",
       "        [ 9.18426678e+05]],\n",
       "\n",
       "       [[ 1.47171559e-05],\n",
       "        [ 2.42845490e-03],\n",
       "        [-2.93776234e-03],\n",
       "        [ 2.55190217e-02],\n",
       "        [ 1.24682010e-02],\n",
       "        [-1.71802489e-01],\n",
       "        [ 9.78054882e+00],\n",
       "        [-8.91663281e-04],\n",
       "        [ 1.97927636e+01],\n",
       "        [ 2.47927310e+00],\n",
       "        [-3.07774570e+00],\n",
       "        [ 3.87339504e+01],\n",
       "        [-4.34823104e+06]],\n",
       "\n",
       "       [[-3.26982129e-06],\n",
       "        [-1.74195179e-04],\n",
       "        [-2.06242358e-06],\n",
       "        [-2.24815727e-05],\n",
       "        [-1.37009136e-05],\n",
       "        [ 2.29396812e-05],\n",
       "        [-8.91663281e-04],\n",
       "        [ 1.12017140e-04],\n",
       "        [ 1.36993656e-02],\n",
       "        [-4.42137867e-01],\n",
       "        [ 5.48267041e-01],\n",
       "        [-6.53719974e+00],\n",
       "        [ 6.91208109e+05]],\n",
       "\n",
       "       [[-1.04413296e-03],\n",
       "        [ 1.87873294e-02],\n",
       "        [-1.02537284e-02],\n",
       "        [ 5.18167267e-02],\n",
       "        [ 2.50481110e-02],\n",
       "        [-4.85534414e-01],\n",
       "        [ 1.97927636e+01],\n",
       "        [ 1.36993656e-02],\n",
       "        [ 5.03973392e+01],\n",
       "        [-6.11108795e+01],\n",
       "        [ 7.54529714e+01],\n",
       "        [-4.73275519e+02],\n",
       "        [ 9.98859857e+07]],\n",
       "\n",
       "       [[ 1.33517731e-02],\n",
       "        [ 6.99684852e-01],\n",
       "        [-5.90919715e-03],\n",
       "        [ 2.15633570e-02],\n",
       "        [ 1.41244562e-02],\n",
       "        [-5.14270702e-01],\n",
       "        [ 2.47927310e+00],\n",
       "        [-4.42137867e-01],\n",
       "        [-6.11108795e+01],\n",
       "        [ 1.75730590e+03],\n",
       "        [-2.17891950e+03],\n",
       "        [ 2.54411737e+04],\n",
       "        [-2.76835513e+09]],\n",
       "\n",
       "       [[-1.65173920e-02],\n",
       "        [-8.73327484e-01],\n",
       "        [ 7.23119907e-03],\n",
       "        [-2.67938200e-02],\n",
       "        [-1.75707858e-02],\n",
       "        [ 6.35189194e-01],\n",
       "        [-3.07774570e+00],\n",
       "        [ 5.48267041e-01],\n",
       "        [ 7.54529714e+01],\n",
       "        [-2.17891950e+03],\n",
       "        [ 2.70171246e+03],\n",
       "        [-3.15806410e+04],\n",
       "        [ 3.43336650e+09]],\n",
       "\n",
       "       [[ 1.41914630e-01],\n",
       "        [ 1.71180500e+01],\n",
       "        [-1.04855739e-01],\n",
       "        [ 3.04055248e-01],\n",
       "        [ 2.08891182e-01],\n",
       "        [-8.87028208e+00],\n",
       "        [ 3.87339504e+01],\n",
       "        [-6.53719974e+00],\n",
       "        [-4.73275519e+02],\n",
       "        [ 2.54411737e+04],\n",
       "        [-3.15806410e+04],\n",
       "        [ 4.35124120e+05],\n",
       "        [-4.06496810e+10]],\n",
       "\n",
       "       [[-2.02322434e+04],\n",
       "        [-1.53308759e+06],\n",
       "        [ 1.05462688e+04],\n",
       "        [-3.12524891e+04],\n",
       "        [-1.91048667e+04],\n",
       "        [ 9.18426678e+05],\n",
       "        [-4.34823104e+06],\n",
       "        [ 6.91208109e+05],\n",
       "        [ 9.98859857e+07],\n",
       "        [-2.76835513e+09],\n",
       "        [ 3.43336650e+09],\n",
       "        [-4.06496810e+10],\n",
       "        [ 4.51232022e+15]]], dtype=float128)"
      ]
     },
     "execution_count": 49,
     "metadata": {},
     "output_type": "execute_result"
    }
   ],
   "source": [
    "totCov"
   ]
  },
  {
   "cell_type": "code",
   "execution_count": 50,
   "id": "011d407e",
   "metadata": {},
   "outputs": [
    {
     "name": "stdout",
     "output_type": "stream",
     "text": [
      "Inversion errors: [3659.90625]\n",
      "diagonal-1 = [array([-1.93541609e-08, -1.78260962e-10, -6.41954534e-13, -1.66283654e-13,\n",
      "        2.13815077e-12, -1.15751159e-12,  1.53178803e-10,  9.27849442e-09,\n",
      "        4.14024726e-09,  6.40697544e-06,  8.91659874e-06, -1.87899474e-10,\n",
      "        3.18686944e-09], dtype=float128)]\n",
      "Max off diagonal: [3659.90625]\n",
      "\n",
      "mask: where F*S(off-diagonal)>1e-10 (--> problematic if True off diagonal)\n",
      "[array([[ True,  True, False, False, False, False, False, False, False,\n",
      "         True, False, False, False],\n",
      "       [ True,  True, False, False,  True, False, False, False, False,\n",
      "         True, False, False, False],\n",
      "       [ True, False,  True, False, False, False, False, False, False,\n",
      "        False, False, False, False],\n",
      "       [False,  True, False,  True, False, False, False,  True, False,\n",
      "         True,  True, False, False],\n",
      "       [ True, False, False, False,  True, False, False, False, False,\n",
      "        False, False, False, False],\n",
      "       [False,  True, False,  True, False,  True, False,  True, False,\n",
      "         True,  True, False, False],\n",
      "       [False,  True, False, False,  True, False,  True,  True, False,\n",
      "         True,  True, False, False],\n",
      "       [False,  True, False,  True, False, False, False,  True, False,\n",
      "        False,  True, False, False],\n",
      "       [ True, False, False,  True, False, False, False, False,  True,\n",
      "        False, False, False, False],\n",
      "       [ True,  True, False, False,  True,  True, False, False, False,\n",
      "         True, False, False, False],\n",
      "       [False,  True, False,  True, False, False,  True,  True,  True,\n",
      "        False,  True, False, False],\n",
      "       [False,  True,  True, False,  True,  True,  True, False, False,\n",
      "         True, False,  True, False],\n",
      "       [ True, False, False,  True, False, False, False, False,  True,\n",
      "        False, False,  True,  True]])]\n"
     ]
    }
   ],
   "source": [
    "_ = check_covariance(totF, totCov)"
   ]
  },
  {
   "cell_type": "markdown",
   "id": "5449310c",
   "metadata": {},
   "source": [
    "'Mc','eta','dL','theta','phi','iota','psi','tcoal','Phicoal','chi1z','chi2z','LambdaTilde','deltaLambda'}"
   ]
  },
  {
   "cell_type": "code",
   "execution_count": 51,
   "id": "08ee4052",
   "metadata": {},
   "outputs": [
    {
     "name": "stdout",
     "output_type": "stream",
     "text": [
      "Now the Fisher matrix has shape (3, 3, 1)\n",
      "Inversion errors: [6.22548887e-16]\n",
      "diagonal-1 = [array([-3.46402594e-17, -6.35342473e-17,  2.90891443e-16], dtype=float128)]\n",
      "Max off diagonal: [1.7509865085640896609e-17]\n",
      "\n",
      "mask: where F*S(off-diagonal)>1e-10 (--> problematic if True off diagonal)\n",
      "[array([[ True, False, False],\n",
      "       [False,  True, False],\n",
      "       [False, False,  True]])]\n"
     ]
    }
   ],
   "source": [
    "ParNums = IMRPhenomD_NRTidalv2().ParNums\n",
    "tofix_ParNums=[e for e in ParNums if e not in ('dL', 'phi','theta')]\n",
    "#newFish, newPars = fixParams(totF, ParNums, ['deltaLambda'])\n",
    "newFish, newPars = fixParams(totF, ParNums, tofix_ParNums)\n",
    "print('Now the Fisher matrix has shape %s'%str(newFish.shape))\n",
    "\n",
    "newCov, new_inversion_err = CovMatr(newFish)\n",
    "\n",
    "_ = check_covariance(newFish, newCov)"
   ]
  },
  {
   "cell_type": "code",
   "execution_count": 52,
   "id": "9daa8d7f",
   "metadata": {},
   "outputs": [
    {
     "name": "stdout",
     "output_type": "stream",
     "text": [
      "The estimated sky location is 1.1 deg^2, to compare with 16 deg^2\n"
     ]
    }
   ],
   "source": [
    "skyArea = compute_localization_region(newCov, newPars, GW170817['theta'])\n",
    "print('The estimated sky location is %.1f deg^2, to compare with 16 deg^2'%skyArea)"
   ]
  },
  {
   "cell_type": "code",
   "execution_count": 29,
   "id": "12911598",
   "metadata": {},
   "outputs": [
    {
     "name": "stdout",
     "output_type": "stream",
     "text": [
      "Saving to /home/rciancarella/testgwfast.h5 \n"
     ]
    }
   ],
   "source": [
    "save_path='/home/rciancarella/testgwfast.h5'\n",
    "gwfast.gwfastUtils.save_data(save_path, GW170817)\n",
    "gwfast.gwfastUtils.save_detectors('/home/rciancarella/net.json',LVdetectors)"
   ]
  },
  {
   "cell_type": "code",
   "execution_count": 22,
   "id": "d2807e44",
   "metadata": {},
   "outputs": [
    {
     "name": "stdout",
     "output_type": "stream",
     "text": [
      "[[[ 4.93624893e-05]\n",
      "  [-2.67386259e-05]]\n",
      "\n",
      " [[-2.67386259e-05]\n",
      "  [ 2.64407486e-05]]]\n"
     ]
    }
   ],
   "source": [
    "print(newCov)"
   ]
  },
  {
   "cell_type": "markdown",
   "id": "b1128c7e",
   "metadata": {},
   "source": [
    "# Play Around"
   ]
  },
  {
   "cell_type": "code",
   "execution_count": 2,
   "id": "233e1b6b",
   "metadata": {},
   "outputs": [
    {
     "name": "stdout",
     "output_type": "stream",
     "text": [
      "{'ET': {'lat': 40.516666666666666, 'long': 9.416666666666666, 'xax': 0.0, 'shape': 'T'}}\n"
     ]
    }
   ],
   "source": [
    "# Configure ET and the PSD\n",
    "ETdet = {'ET': copy.deepcopy(glob.detectors).pop('ETS') }\n",
    "print(ETdet)\n",
    "ETdet['ET']['psd_path'] = os.path.join(glob.detPath, 'ET-0000A-18.txt')"
   ]
  },
  {
   "cell_type": "code",
   "execution_count": 3,
   "id": "debab3e4",
   "metadata": {},
   "outputs": [
    {
     "name": "stdout",
     "output_type": "stream",
     "text": [
      "Using ASD from file /home/rciancarella/.local/lib/python3.10/site-packages/psds/ET-0000A-18.txt \n",
      "Initializing jax...\n",
      "Jax local device count: 8\n",
      "Jax  device count: 8\n"
     ]
    }
   ],
   "source": [
    "from gwfast.waveforms import IMRPhenomD\n",
    "from gwfast.waveforms import IMRPhenomHM\n",
    "mySignalsET = {}\n",
    "\n",
    "for d in ETdet.keys():\n",
    "    #print(d)\n",
    "    mySignalsET[d] = GWSignal((IMRPhenomD()),\n",
    "                psd_path= ETdet[d]['psd_path'],\n",
    "                detector_shape = ETdet[d]['shape'],\n",
    "                det_lat= ETdet[d]['lat'],\n",
    "                det_long=ETdet[d]['long'],\n",
    "                det_xax=ETdet[d]['xax'],\n",
    "                verbose=True,\n",
    "                useEarthMotion = False,\n",
    "                fmin=2.,\n",
    "                IntTablePath=None)\n",
    "\n",
    "myET = DetNet(mySignalsET)"
   ]
  },
  {
   "cell_type": "code",
   "execution_count": 4,
   "id": "fa7c0ae4",
   "metadata": {},
   "outputs": [],
   "source": [
    "import pandas as pd\n",
    "from astropy.table import Table\n",
    "from astropy.cosmology import FlatLambdaCDM"
   ]
  },
  {
   "cell_type": "code",
   "execution_count": 5,
   "id": "3675bf9c",
   "metadata": {},
   "outputs": [],
   "source": [
    "CAT_FOLDER='/home/rciancarella/DarkSirensStat/DSCatalogueCreator/'\n",
    "SCRIPT_FOLDER='/home/rciancarella/DarkSirensStat/GWfast/'\n",
    "os.chdir(CAT_FOLDER)"
   ]
  },
  {
   "cell_type": "code",
   "execution_count": 6,
   "id": "82d130ae",
   "metadata": {},
   "outputs": [],
   "source": [
    "dat = Table.read('EVA02_detected12_fiveyear.fits', format='fits')\n",
    "EVA= dat.to_pandas()#all good, is an only text fits\n",
    "os.chdir(SCRIPT_FOLDER)"
   ]
  },
  {
   "cell_type": "code",
   "execution_count": 7,
   "id": "42434307",
   "metadata": {},
   "outputs": [
    {
     "data": {
      "text/html": [
       "<div>\n",
       "<style scoped>\n",
       "    .dataframe tbody tr th:only-of-type {\n",
       "        vertical-align: middle;\n",
       "    }\n",
       "\n",
       "    .dataframe tbody tr th {\n",
       "        vertical-align: top;\n",
       "    }\n",
       "\n",
       "    .dataframe thead th {\n",
       "        text-align: right;\n",
       "    }\n",
       "</style>\n",
       "<table border=\"1\" class=\"dataframe\">\n",
       "  <thead>\n",
       "    <tr style=\"text-align: right;\">\n",
       "      <th></th>\n",
       "      <th>Host_x</th>\n",
       "      <th>Host_y</th>\n",
       "      <th>Host_z</th>\n",
       "      <th>Host_redshift</th>\n",
       "      <th>DS_x</th>\n",
       "      <th>DS_y</th>\n",
       "      <th>DS_z</th>\n",
       "      <th>DS_redshift</th>\n",
       "      <th>cos_orbital_incl</th>\n",
       "      <th>M1</th>\n",
       "      <th>M2</th>\n",
       "      <th>q</th>\n",
       "      <th>psi</th>\n",
       "      <th>Aproximant</th>\n",
       "      <th>SNR</th>\n",
       "    </tr>\n",
       "  </thead>\n",
       "  <tbody>\n",
       "    <tr>\n",
       "      <th>0</th>\n",
       "      <td>651.933995</td>\n",
       "      <td>402.188065</td>\n",
       "      <td>2806.954546</td>\n",
       "      <td>0.808803</td>\n",
       "      <td>651.933995</td>\n",
       "      <td>402.188065</td>\n",
       "      <td>2806.954546</td>\n",
       "      <td>0.808803</td>\n",
       "      <td>0.793474</td>\n",
       "      <td>10.569518</td>\n",
       "      <td>5.143687</td>\n",
       "      <td>0.486653</td>\n",
       "      <td>2.550917</td>\n",
       "      <td>b'IMRPhenomD'</td>\n",
       "      <td>96.279798</td>\n",
       "    </tr>\n",
       "    <tr>\n",
       "      <th>1</th>\n",
       "      <td>1901.947841</td>\n",
       "      <td>477.181005</td>\n",
       "      <td>2147.676656</td>\n",
       "      <td>0.808301</td>\n",
       "      <td>1901.947841</td>\n",
       "      <td>477.181005</td>\n",
       "      <td>2147.676656</td>\n",
       "      <td>0.808301</td>\n",
       "      <td>-0.615400</td>\n",
       "      <td>26.536605</td>\n",
       "      <td>5.515256</td>\n",
       "      <td>0.207836</td>\n",
       "      <td>3.274064</td>\n",
       "      <td>b'IMRPhenomD'</td>\n",
       "      <td>81.336203</td>\n",
       "    </tr>\n",
       "    <tr>\n",
       "      <th>2</th>\n",
       "      <td>792.327061</td>\n",
       "      <td>2056.292634</td>\n",
       "      <td>1873.462461</td>\n",
       "      <td>0.802654</td>\n",
       "      <td>796.891722</td>\n",
       "      <td>2051.491963</td>\n",
       "      <td>1868.765822</td>\n",
       "      <td>0.800800</td>\n",
       "      <td>0.228812</td>\n",
       "      <td>38.501322</td>\n",
       "      <td>29.412304</td>\n",
       "      <td>0.763930</td>\n",
       "      <td>3.479153</td>\n",
       "      <td>b'IMRPhenomD'</td>\n",
       "      <td>114.008069</td>\n",
       "    </tr>\n",
       "    <tr>\n",
       "      <th>3</th>\n",
       "      <td>2566.548362</td>\n",
       "      <td>58.913997</td>\n",
       "      <td>1323.989640</td>\n",
       "      <td>0.801273</td>\n",
       "      <td>2571.261103</td>\n",
       "      <td>58.839892</td>\n",
       "      <td>1319.617234</td>\n",
       "      <td>0.802053</td>\n",
       "      <td>0.694977</td>\n",
       "      <td>14.085194</td>\n",
       "      <td>1.642785</td>\n",
       "      <td>0.116632</td>\n",
       "      <td>4.078907</td>\n",
       "      <td>b'IMRPhenomD'</td>\n",
       "      <td>29.901415</td>\n",
       "    </tr>\n",
       "    <tr>\n",
       "      <th>4</th>\n",
       "      <td>1165.316454</td>\n",
       "      <td>2573.915761</td>\n",
       "      <td>575.600923</td>\n",
       "      <td>0.799466</td>\n",
       "      <td>1165.316454</td>\n",
       "      <td>2573.915761</td>\n",
       "      <td>575.600923</td>\n",
       "      <td>0.799466</td>\n",
       "      <td>-0.838562</td>\n",
       "      <td>5.332573</td>\n",
       "      <td>2.141039</td>\n",
       "      <td>0.401502</td>\n",
       "      <td>2.813217</td>\n",
       "      <td>b'IMRPhenomD'</td>\n",
       "      <td>22.195059</td>\n",
       "    </tr>\n",
       "  </tbody>\n",
       "</table>\n",
       "</div>"
      ],
      "text/plain": [
       "        Host_x       Host_y       Host_z  Host_redshift         DS_x  \\\n",
       "0   651.933995   402.188065  2806.954546       0.808803   651.933995   \n",
       "1  1901.947841   477.181005  2147.676656       0.808301  1901.947841   \n",
       "2   792.327061  2056.292634  1873.462461       0.802654   796.891722   \n",
       "3  2566.548362    58.913997  1323.989640       0.801273  2571.261103   \n",
       "4  1165.316454  2573.915761   575.600923       0.799466  1165.316454   \n",
       "\n",
       "          DS_y         DS_z  DS_redshift  cos_orbital_incl         M1  \\\n",
       "0   402.188065  2806.954546     0.808803          0.793474  10.569518   \n",
       "1   477.181005  2147.676656     0.808301         -0.615400  26.536605   \n",
       "2  2051.491963  1868.765822     0.800800          0.228812  38.501322   \n",
       "3    58.839892  1319.617234     0.802053          0.694977  14.085194   \n",
       "4  2573.915761   575.600923     0.799466         -0.838562   5.332573   \n",
       "\n",
       "          M2         q       psi     Aproximant         SNR  \n",
       "0   5.143687  0.486653  2.550917  b'IMRPhenomD'   96.279798  \n",
       "1   5.515256  0.207836  3.274064  b'IMRPhenomD'   81.336203  \n",
       "2  29.412304  0.763930  3.479153  b'IMRPhenomD'  114.008069  \n",
       "3   1.642785  0.116632  4.078907  b'IMRPhenomD'   29.901415  \n",
       "4   2.141039  0.401502  2.813217  b'IMRPhenomD'   22.195059  "
      ]
     },
     "execution_count": 7,
     "metadata": {},
     "output_type": "execute_result"
    }
   ],
   "source": [
    "EVA.head()"
   ]
  },
  {
   "cell_type": "markdown",
   "id": "1a671e26",
   "metadata": {},
   "source": [
    "Raccordo tra i dati \n",
    "GW170817 = {'Mc':np.array([1.1859])*(1.+z),\n",
    "            'dL':Planck18.luminosity_distance(z).value/1000.,\n",
    "            'theta':np.array([np.pi/2. + 0.4080839999999999]),\n",
    "            'phi':np.array([3.4461599999999994]),\n",
    "            'iota':np.array([2.545065595974997]),\n",
    "            'psi':np.array([0.]),\n",
    "            'tcoal':GPSt_to_LMST(tGPS, lat=0., long=0.), # GMST is LMST computed at long = 0°\n",
    "            'eta':np.array([0.24786618323504223]),\n",
    "            'Phicoal':np.array([0.]),\n",
    "            'chi1z':np.array([0.005136138323169717]),\n",
    "            'chi2z':np.array([0.003235146993487445]),\n",
    "            'Lambda1':np.array([368.17802383555687]),\n",
    "            'Lambda2':np.array([586.5487031450857])\n",
    "           }"
   ]
  },
  {
   "cell_type": "code",
   "execution_count": 8,
   "id": "b65038f2",
   "metadata": {},
   "outputs": [
    {
     "name": "stdout",
     "output_type": "stream",
     "text": [
      "In totale sono 11 parametri da inserire\n",
      "e sono {'Mc': 0, 'eta': 1, 'dL': 2, 'theta': 3, 'phi': 4, 'iota': 5, 'psi': 6, 'tcoal': 7, 'Phicoal': 8, 'chi1z': 9, 'chi2z': 10}\n"
     ]
    }
   ],
   "source": [
    "ParNums = IMRPhenomD().ParNums\n",
    "print('In totale sono {} parametri da inserire\\ne sono {}'.format(len(ParNums),ParNums))"
   ]
  },
  {
   "cell_type": "code",
   "execution_count": 9,
   "id": "713c3a9d",
   "metadata": {},
   "outputs": [],
   "source": [
    "H0GLOB= 67#67.9 #69\n",
    "Om0GLOB=0.319\n",
    "Xi0Glob =1.\n",
    "cosmoeuclid = FlatLambdaCDM(H0=H0GLOB, Om0=Om0GLOB)"
   ]
  },
  {
   "cell_type": "code",
   "execution_count": 10,
   "id": "2cc0684c",
   "metadata": {},
   "outputs": [],
   "source": [
    "def chirp_mass(m1,m2):\n",
    "    num=(m1*m2)**(3/5)\n",
    "    denom=(m1+m2)**(1/5)\n",
    "    return num/denom\n",
    "def phi_from_cart(x,y):\n",
    "    if(x>0):\n",
    "        phi=np.arctan(y/x)\n",
    "    if ((x<0) and (y>=0)):\n",
    "        phi=np.arctan(y/x)+np.pi\n",
    "    if ((x<0) and (y<0)):\n",
    "        phi=np.arctan(y/x)-np.pi\n",
    "    return phi\n",
    "def theta_from_cart(x,y,z):\n",
    "    den=np.sqrt(x**2+y**2+z**2)\n",
    "    theta=np.arccos(z/den)\n",
    "    return theta"
   ]
  },
  {
   "cell_type": "code",
   "execution_count": 11,
   "id": "864bd3e2",
   "metadata": {},
   "outputs": [],
   "source": [
    "allm1=np.asarray(EVA['M1'])\n",
    "allm2=np.asarray(EVA['M2'])\n",
    "allMc=chirp_mass(allm1,allm2)\n",
    "allq=np.asarray(EVA['q'])\n",
    "alleta=allq/(1+allq**2)\n",
    "allcos=np.asarray(EVA['cos_orbital_incl'])\n",
    "alliota=np.arccos(allcos)\n",
    "allpsi=np.asarray(EVA['psi'])/2\n",
    "tGPS = np.array([1187008882.4])#arbitrario\n",
    "allz=np.asarray(EVA['DS_redshift'])\n",
    "alldsx=np.asarray(EVA['DS_x'])\n",
    "alldsy=np.asarray(EVA['DS_y'])\n",
    "alldsz=np.asarray(EVA['DS_z'])\n",
    "allphi=np.zeros(len(alldsx))\n",
    "alltheta=np.zeros(len(alldsx))\n",
    "for i in range(len(alldsx)):\n",
    "    allphi[i]=phi_from_cart(alldsx[i],alldsy[i])\n",
    "    alltheta[i]=theta_from_cart(alldsx[i],alldsy[i],alldsz[i])\n",
    "alldl=cosmoeuclid.luminosity_distance(allz).value/1000.\n",
    "\n",
    "\n",
    "tcoal=np.asarray(GPSt_to_LMST(tGPS, lat=0., long=0.))"
   ]
  },
  {
   "cell_type": "code",
   "execution_count": 12,
   "id": "00f68919",
   "metadata": {},
   "outputs": [
    {
     "data": {
      "text/plain": [
       "0"
      ]
     },
     "execution_count": 12,
     "metadata": {},
     "output_type": "execute_result"
    }
   ],
   "source": [
    "len(alliota[alliota<0])"
   ]
  },
  {
   "cell_type": "code",
   "execution_count": 13,
   "id": "30062126",
   "metadata": {},
   "outputs": [],
   "source": [
    "quanti=int(1)\n",
    "Allevents = {'Mc':1*allMc[0:quanti]*(1+allz)[0:quanti],\n",
    "            'dL':alldl[0:quanti],\n",
    "            'theta':alltheta[0:quanti],\n",
    "            'phi':allphi[0:quanti],\n",
    "            'iota':alliota[0:quanti],\n",
    "            'psi':allpsi[0:quanti],\n",
    "            'tcoal':1*tcoal*np.ones(len(allMc))[0:quanti], # GMST is LMST computed at long = 0°\n",
    "            'eta':alleta[0:quanti],\n",
    "            'Phicoal':np.zeros(len(allMc))[0:quanti],\n",
    "            'chi1z':0.0001*np.ones(len(allMc))[0:quanti],\n",
    "            'chi2z':0.*np.ones(len(allMc))[0:quanti]\n",
    "            ,#'chi2z':np.zeros(len(allMc))[0:1]\n",
    "           }"
   ]
  },
  {
   "cell_type": "code",
   "execution_count": 14,
   "id": "b952e126",
   "metadata": {},
   "outputs": [
    {
     "name": "stdout",
     "output_type": "stream",
     "text": [
      "Saving to /home/rciancarella/DarkSirensStat/GWfast/myfirstevent.h5 \n"
     ]
    }
   ],
   "source": [
    "save_path='/home/rciancarella/DarkSirensStat/GWfast/myfirstevent.h5'\n",
    "gwfast.gwfastUtils.save_data(save_path, Allevents)"
   ]
  },
  {
   "cell_type": "code",
   "execution_count": 15,
   "id": "0430318a",
   "metadata": {},
   "outputs": [],
   "source": [
    "Allevents=gwfast.gwfastUtils.load_population('myfirstevent.h5')"
   ]
  },
  {
   "cell_type": "code",
   "execution_count": 16,
   "id": "5c575f13",
   "metadata": {},
   "outputs": [
    {
     "data": {
      "text/plain": [
       "{'Mc': array([11.46399996]),\n",
       " 'Phicoal': array([0.]),\n",
       " 'chi1z': array([0.0001]),\n",
       " 'chi2z': array([0.]),\n",
       " 'dL': array([5.26289346]),\n",
       " 'eta': array([0.39346758]),\n",
       " 'iota': array([0.65429949]),\n",
       " 'phi': array([0.55276447]),\n",
       " 'psi': array([1.27545835]),\n",
       " 'tcoal': array([0.43432288]),\n",
       " 'theta': array([0.26641059])}"
      ]
     },
     "execution_count": 16,
     "metadata": {},
     "output_type": "execute_result"
    }
   ],
   "source": [
    "Allevents"
   ]
  },
  {
   "cell_type": "code",
   "execution_count": 17,
   "id": "4b85c831",
   "metadata": {},
   "outputs": [
    {
     "name": "stdout",
     "output_type": "stream",
     "text": [
      "[40.93451781]\n"
     ]
    }
   ],
   "source": [
    "SNR_ET = myET.SNR(Allevents)\n",
    "#print('SNR is %.2f '%SNR)\n",
    "print(SNR_ET)"
   ]
  },
  {
   "cell_type": "code",
   "execution_count": 18,
   "id": "6465e18b",
   "metadata": {},
   "outputs": [
    {
     "name": "stdout",
     "output_type": "stream",
     "text": [
      "Computing Fisher for ET...\n",
      "Computing derivatives...\n",
      "Filling matrix for arm 1...\n",
      "Computing derivatives...\n",
      "Filling matrix for arm 2...\n",
      "Filling matrix for arm 3...\n",
      "Done.\n",
      "The computed Fisher matrix has shape (11, 11, 1)\n"
     ]
    }
   ],
   "source": [
    "totFET = myET.FisherMatr(Allevents)\n",
    "print('The computed Fisher matrix has shape %s'%str(totFET.shape))"
   ]
  },
  {
   "cell_type": "code",
   "execution_count": 19,
   "id": "4eea7ac1",
   "metadata": {},
   "outputs": [
    {
     "name": "stdout",
     "output_type": "stream",
     "text": [
      "\n",
      "Determinant of given matrix:\n",
      "-2.491418670198127\n"
     ]
    }
   ],
   "source": [
    "#print('Fisher Matrix\\n{}'.format(totFET))\n",
    "n_array = totFET[:,:,0]\n",
    "  \n",
    "# Displaying the Matrix \n",
    "#print(\"Numpy Matrix is:\") \n",
    "#print(n_array) \n",
    "  \n",
    "# calculating the determinant of matrix \n",
    "det = np.linalg.det(n_array) \n",
    "  \n",
    "print(\"\\nDeterminant of given matrix:\") \n",
    "print(det) "
   ]
  },
  {
   "cell_type": "code",
   "execution_count": 20,
   "id": "4bf72728",
   "metadata": {},
   "outputs": [
    {
     "data": {
      "text/plain": [
       "array([[[ 5.74742144e+09],\n",
       "        [-1.27543484e+09],\n",
       "        [-2.26955995e+01],\n",
       "        [-1.86681205e+07],\n",
       "        [-3.22603659e+06],\n",
       "        [-4.29417612e+04],\n",
       "        [ 6.21821499e+06],\n",
       "        [-1.14005458e+09],\n",
       "        [ 3.09596007e+06],\n",
       "        [-2.90700696e+08],\n",
       "        [-2.90699122e+08]],\n",
       "\n",
       "       [[-1.27543484e+09],\n",
       "        [ 2.92054834e+08],\n",
       "        [-4.48159306e+01],\n",
       "        [ 4.83221392e+06],\n",
       "        [ 5.54536008e+05],\n",
       "        [ 9.25224927e+03],\n",
       "        [-1.36606980e+06],\n",
       "        [ 3.00954108e+08],\n",
       "        [-6.80145465e+05],\n",
       "        [ 6.62272539e+07],\n",
       "        [ 6.62268886e+07]],\n",
       "\n",
       "       [[-2.26955995e+01],\n",
       "        [-4.48159306e+01],\n",
       "        [ 6.04964932e+01],\n",
       "        [ 2.79376550e+02],\n",
       "        [-6.10066214e+01],\n",
       "        [ 2.20528092e+02],\n",
       "        [ 2.68247844e+00],\n",
       "        [ 4.43652670e-03],\n",
       "        [-2.28184793e-17],\n",
       "        [-8.22988503e+00],\n",
       "        [-8.22998477e+00]],\n",
       "\n",
       "       [[-1.86681205e+07],\n",
       "        [ 4.83221392e+06],\n",
       "        [ 2.79376550e+02],\n",
       "        [ 2.45046858e+05],\n",
       "        [-2.91589404e+04],\n",
       "        [ 1.07597095e+03],\n",
       "        [-1.94632574e+04],\n",
       "        [ 1.63318560e+07],\n",
       "        [-9.69423919e+03],\n",
       "        [ 1.07808367e+06],\n",
       "        [ 1.07807681e+06]],\n",
       "\n",
       "       [[-3.22603659e+06],\n",
       "        [ 5.54536008e+05],\n",
       "        [-6.10066214e+01],\n",
       "        [-2.91589404e+04],\n",
       "        [ 1.04042384e+04],\n",
       "        [-1.98354993e+02],\n",
       "        [-3.67572822e+03],\n",
       "        [-2.08233126e+06],\n",
       "        [-1.83241747e+03],\n",
       "        [ 1.31871041e+05],\n",
       "        [ 1.31870552e+05]],\n",
       "\n",
       "       [[-4.29417612e+04],\n",
       "        [ 9.25224927e+03],\n",
       "        [ 2.20528092e+02],\n",
       "        [ 1.07597095e+03],\n",
       "        [-1.98354993e+02],\n",
       "        [ 8.16349359e+02],\n",
       "        [-3.68119886e+01],\n",
       "        [ 8.15049654e+03],\n",
       "        [-2.31967068e+01],\n",
       "        [ 2.11943161e+03],\n",
       "        [ 2.11941966e+03]],\n",
       "\n",
       "       [[ 6.21821499e+06],\n",
       "        [-1.36606980e+06],\n",
       "        [ 2.68247844e+00],\n",
       "        [-1.94632574e+04],\n",
       "        [-3.67572822e+03],\n",
       "        [-3.68119886e+01],\n",
       "        [ 6.76420281e+03],\n",
       "        [-1.18251505e+06],\n",
       "        [ 3.36550167e+03],\n",
       "        [-3.11851404e+05],\n",
       "        [-3.11849723e+05]],\n",
       "\n",
       "       [[-1.14005458e+09],\n",
       "        [ 3.00954108e+08],\n",
       "        [ 4.43652670e-03],\n",
       "        [ 1.63318560e+07],\n",
       "        [-2.08233126e+06],\n",
       "        [ 8.15049654e+03],\n",
       "        [-1.18251505e+06],\n",
       "        [ 1.09943357e+09],\n",
       "        [-5.88757192e+05],\n",
       "        [ 6.69737234e+07],\n",
       "        [ 6.69732901e+07]],\n",
       "\n",
       "       [[ 3.09596007e+06],\n",
       "        [-6.80145465e+05],\n",
       "        [-2.28184793e-17],\n",
       "        [-9.69423919e+03],\n",
       "        [-1.83241747e+03],\n",
       "        [-2.31967068e+01],\n",
       "        [ 3.36550167e+03],\n",
       "        [-5.88757192e+05],\n",
       "        [ 1.67563475e+03],\n",
       "        [-1.55266135e+05],\n",
       "        [-1.55265298e+05]],\n",
       "\n",
       "       [[-2.90700696e+08],\n",
       "        [ 6.62272539e+07],\n",
       "        [-8.22988503e+00],\n",
       "        [ 1.07808367e+06],\n",
       "        [ 1.31871041e+05],\n",
       "        [ 2.11943161e+03],\n",
       "        [-3.11851404e+05],\n",
       "        [ 6.69737234e+07],\n",
       "        [-1.55266135e+05],\n",
       "        [ 1.50306232e+07],\n",
       "        [ 1.50305405e+07]],\n",
       "\n",
       "       [[-2.90699122e+08],\n",
       "        [ 6.62268886e+07],\n",
       "        [-8.22998477e+00],\n",
       "        [ 1.07807681e+06],\n",
       "        [ 1.31870552e+05],\n",
       "        [ 2.11941966e+03],\n",
       "        [-3.11849723e+05],\n",
       "        [ 6.69732901e+07],\n",
       "        [-1.55265298e+05],\n",
       "        [ 1.50305405e+07],\n",
       "        [ 1.50304578e+07]]])"
      ]
     },
     "execution_count": 20,
     "metadata": {},
     "output_type": "execute_result"
    }
   ],
   "source": [
    "totFET"
   ]
  },
  {
   "cell_type": "code",
   "execution_count": 25,
   "id": "def00606",
   "metadata": {},
   "outputs": [],
   "source": [
    "from gwfast import fisherTools\n",
    "gwfast.fisherTools.CheckFisher(totFET)"
   ]
  },
  {
   "cell_type": "code",
   "execution_count": 59,
   "id": "939df75a",
   "metadata": {},
   "outputs": [
    {
     "data": {
      "text/plain": [
       "(array([[[ 2.07718161e-06],\n",
       "         [-3.40270093e-06],\n",
       "         [-7.44078813e+02],\n",
       "         [ 2.98313098e+01],\n",
       "         [ 1.20302615e+02],\n",
       "         [ 2.01619627e+02],\n",
       "         [-1.65348404e+02],\n",
       "         [-6.45584779e-02],\n",
       "         [ 6.16352714e+02],\n",
       "         [-7.18950958e+00],\n",
       "         [ 7.18958909e+00]],\n",
       " \n",
       "        [[-3.40270093e-06],\n",
       "         [ 1.91239776e-04],\n",
       "         [-4.91090207e+03],\n",
       "         [ 1.96884674e+02],\n",
       "         [ 7.93943674e+02],\n",
       "         [ 1.33067120e+03],\n",
       "         [-1.09121367e+03],\n",
       "         [-4.26220558e-01],\n",
       "         [ 4.06764744e+03],\n",
       "         [-4.74484370e+01],\n",
       "         [ 4.74477858e+01]],\n",
       " \n",
       "        [[-7.44078813e+02],\n",
       "         [-4.91090207e+03],\n",
       "         [-3.18461863e+13],\n",
       "         [ 1.19498257e+12],\n",
       "         [ 1.82086197e+12],\n",
       "         [ 7.74680736e+12],\n",
       "         [-1.70419569e+12],\n",
       "         [-1.17436052e+10],\n",
       "         [ 8.30853435e+12],\n",
       "         [ 5.03366881e+09],\n",
       "         [-5.03368352e+09]],\n",
       " \n",
       "        [[ 2.98313098e+01],\n",
       "         [ 1.96884674e+02],\n",
       "         [ 1.19498257e+12],\n",
       "         [-4.48847417e+10],\n",
       "         [-7.01455123e+10],\n",
       "         [-2.91170496e+11],\n",
       "         [ 6.68860774e+10],\n",
       "         [ 4.35750064e+08],\n",
       "         [-3.21649893e+11],\n",
       "         [-2.01807381e+08],\n",
       "         [ 2.01807971e+08]],\n",
       " \n",
       "        [[ 1.20302615e+02],\n",
       "         [ 7.93943674e+02],\n",
       "         [ 1.82086197e+12],\n",
       "         [-7.01455123e+10],\n",
       "         [-1.78185017e+11],\n",
       "         [-4.62577705e+11],\n",
       "         [ 2.17022435e+11],\n",
       "         [ 4.71576274e+08],\n",
       "         [-8.77275064e+11],\n",
       "         [-8.13824822e+08],\n",
       "         [ 8.13827200e+08]],\n",
       " \n",
       "        [[ 2.01619627e+02],\n",
       "         [ 1.33067120e+03],\n",
       "         [ 7.74680736e+12],\n",
       "         [-2.91170496e+11],\n",
       "         [-4.62577705e+11],\n",
       "         [-1.88967254e+12],\n",
       "         [ 4.46264010e+11],\n",
       "         [ 2.80371563e+09],\n",
       "         [-2.12775538e+12],\n",
       "         [-1.36394529e+09],\n",
       "         [ 1.36394928e+09]],\n",
       " \n",
       "        [[-1.65348404e+02],\n",
       "         [-1.09121367e+03],\n",
       "         [-1.70419569e+12],\n",
       "         [ 6.68860774e+10],\n",
       "         [ 2.17022435e+11],\n",
       "         [ 4.46264010e+11],\n",
       "         [-2.84245501e+11],\n",
       "         [-3.05753235e+08],\n",
       "         [ 1.09394466e+12],\n",
       "         [ 1.11854679e+09],\n",
       "         [-1.11855006e+09]],\n",
       " \n",
       "        [[-6.45584779e-02],\n",
       "         [-4.26220558e-01],\n",
       "         [-1.17436052e+10],\n",
       "         [ 4.35750064e+08],\n",
       "         [ 4.71576274e+08],\n",
       "         [ 2.80371563e+09],\n",
       "         [-3.05753235e+08],\n",
       "         [-4.86995407e+06],\n",
       "         [ 1.97848579e+09],\n",
       "         [ 4.36785504e+05],\n",
       "         [-4.36786780e+05]],\n",
       " \n",
       "        [[ 6.16352714e+02],\n",
       "         [ 4.06764744e+03],\n",
       "         [ 8.30853435e+12],\n",
       "         [-3.21649893e+11],\n",
       "         [-8.77275064e+11],\n",
       "         [-2.12775538e+12],\n",
       "         [ 1.09394466e+12],\n",
       "         [ 1.97848579e+09],\n",
       "         [-4.35170472e+12],\n",
       "         [-4.16951056e+09],\n",
       "         [ 4.16952274e+09]],\n",
       " \n",
       "        [[-7.18950958e+00],\n",
       "         [-4.74484370e+01],\n",
       "         [ 5.03366881e+09],\n",
       "         [-2.01807381e+08],\n",
       "         [-8.13824822e+08],\n",
       "         [-1.36394529e+09],\n",
       "         [ 1.11854679e+09],\n",
       "         [ 4.36785504e+05],\n",
       "         [-4.16951056e+09],\n",
       "         [ 4.86361295e+07],\n",
       "         [-4.86362716e+07]],\n",
       " \n",
       "        [[ 7.18958909e+00],\n",
       "         [ 4.74477858e+01],\n",
       "         [-5.03368352e+09],\n",
       "         [ 2.01807971e+08],\n",
       "         [ 8.13827200e+08],\n",
       "         [ 1.36394928e+09],\n",
       "         [-1.11855006e+09],\n",
       "         [-4.36786780e+05],\n",
       "         [ 4.16952274e+09],\n",
       "         [-4.86362716e+07],\n",
       "         [ 4.86364137e+07]]], dtype=float128),\n",
       " array([17324.75], dtype=float128))"
      ]
     },
     "execution_count": 59,
     "metadata": {},
     "output_type": "execute_result"
    }
   ],
   "source": [
    "gwfast.fisherTools.CovMatr(totFET)"
   ]
  },
  {
   "cell_type": "code",
   "execution_count": null,
   "id": "c807d234",
   "metadata": {},
   "outputs": [],
   "source": []
  },
  {
   "cell_type": "code",
   "execution_count": 21,
   "id": "f6b262ec",
   "metadata": {},
   "outputs": [],
   "source": [
    "totCov_ET, inversion_err_ET = CovMatr(totFET)"
   ]
  },
  {
   "cell_type": "code",
   "execution_count": null,
   "id": "b5fadb09",
   "metadata": {},
   "outputs": [],
   "source": [
    "totCov_ET"
   ]
  },
  {
   "cell_type": "code",
   "execution_count": null,
   "id": "ea40d944",
   "metadata": {},
   "outputs": [],
   "source": [
    "os.chdir(SCRIPT_FOLDER+'results/')"
   ]
  },
  {
   "cell_type": "code",
   "execution_count": null,
   "id": "cdff995f",
   "metadata": {},
   "outputs": [],
   "source": [
    "loaded_fish=np.load('fishers_0_to_1.npy')"
   ]
  },
  {
   "cell_type": "code",
   "execution_count": null,
   "id": "57d2f048",
   "metadata": {},
   "outputs": [],
   "source": [
    "np.shape(loaded_fish)"
   ]
  },
  {
   "cell_type": "markdown",
   "id": "fefb5c99",
   "metadata": {},
   "source": [
    "Marginalisation------in the doc there is no marginalisation"
   ]
  },
  {
   "cell_type": "code",
   "execution_count": 65,
   "id": "ebe300a5",
   "metadata": {},
   "outputs": [],
   "source": [
    "events=gwfast.gwfastUtils.load_population('myfirstevent.h5')"
   ]
  },
  {
   "cell_type": "code",
   "execution_count": 66,
   "id": "935bdb5c",
   "metadata": {},
   "outputs": [
    {
     "name": "stdout",
     "output_type": "stream",
     "text": [
      "{'Mc': array([11.46399996]), 'Phicoal': array([0.]), 'chi1z': array([0.0001]), 'chi2z': array([0.]), 'dL': array([5.26289346]), 'eta': array([0.39346758]), 'iota': array([0.65429949]), 'phi': array([0.55276447]), 'psi': array([1.27545835]), 'tcoal': array([0.43432288]), 'theta': array([0.26641059])}\n"
     ]
    }
   ],
   "source": [
    "print(events)"
   ]
  },
  {
   "cell_type": "code",
   "execution_count": 67,
   "id": "29ccdca0",
   "metadata": {},
   "outputs": [
    {
     "name": "stdout",
     "output_type": "stream",
     "text": [
      "Computing Fisher for ET...\n",
      "Computing derivatives...\n",
      "Filling matrix for arm 1...\n",
      "Computing derivatives...\n",
      "Filling matrix for arm 2...\n",
      "Filling matrix for arm 3...\n",
      "Done.\n"
     ]
    }
   ],
   "source": [
    "FIM=myET.FisherMatr(events)"
   ]
  },
  {
   "cell_type": "code",
   "execution_count": 31,
   "id": "f7a25fee",
   "metadata": {},
   "outputs": [],
   "source": [
    "#fixing Parameters\n",
    "#print(events.keys())\n",
    "tofix_ParNums = list(IMRPhenomD().ParNums.keys())\n",
    "tofix_ParNums = [e for e in tofix_ParNums if e not in ('dL', 'phi','theta')]\n",
    "fixedFIM, newPars=gwfast.fisherTools.fixParams(totFET,IMRPhenomD().ParNums,tofix_ParNums)"
   ]
  },
  {
   "cell_type": "code",
   "execution_count": 32,
   "id": "dc079ce0",
   "metadata": {},
   "outputs": [
    {
     "name": "stdout",
     "output_type": "stream",
     "text": [
      "{'dL': 0, 'theta': 1, 'phi': 2}\n"
     ]
    }
   ],
   "source": [
    "print(newPars)"
   ]
  },
  {
   "cell_type": "code",
   "execution_count": 33,
   "id": "1c8d4bfc",
   "metadata": {},
   "outputs": [],
   "source": [
    "mycov,err=gwfast.fisherTools.CovMatr(fixedFIM)"
   ]
  },
  {
   "cell_type": "code",
   "execution_count": 119,
   "id": "e4096899",
   "metadata": {},
   "outputs": [
    {
     "name": "stdout",
     "output_type": "stream",
     "text": [
      "[[[ 1.66481239e-02]\n",
      "  [-1.10493426e-05]\n",
      "  [ 6.66515552e-05]]\n",
      "\n",
      " [[-1.10493426e-05]\n",
      "  [ 6.13005918e-06]\n",
      "  [ 1.71153275e-05]]\n",
      "\n",
      " [[ 6.66515552e-05]\n",
      "  [ 1.71153275e-05]\n",
      "  [ 1.44472949e-04]]]\n"
     ]
    }
   ],
   "source": [
    "print(mycov)"
   ]
  },
  {
   "cell_type": "code",
   "execution_count": 53,
   "id": "6481d4fb",
   "metadata": {},
   "outputs": [],
   "source": [
    "COV_SAVE_PATH='/home/rciancarella/DarkSirensStat/ProxyGenerator/'"
   ]
  },
  {
   "cell_type": "code",
   "execution_count": 54,
   "id": "c114b499",
   "metadata": {},
   "outputs": [],
   "source": [
    "name='covar_test'"
   ]
  },
  {
   "cell_type": "code",
   "execution_count": 55,
   "id": "bb136773",
   "metadata": {},
   "outputs": [],
   "source": [
    "np.save(COV_SAVE_PATH+name,newCov)"
   ]
  },
  {
   "cell_type": "code",
   "execution_count": 34,
   "id": "8137dba1",
   "metadata": {},
   "outputs": [
    {
     "name": "stdout",
     "output_type": "stream",
     "text": [
      "The estimated sky location is 0.3 deg^2\n"
     ]
    }
   ],
   "source": [
    "skyArea = compute_localization_region(mycov, newPars, Allevents['theta'])\n",
    "print('The estimated sky location is %.1f deg^2'%skyArea)"
   ]
  },
  {
   "cell_type": "code",
   "execution_count": 116,
   "id": "98b8b16b",
   "metadata": {},
   "outputs": [
    {
     "data": {
      "text/plain": [
       "0.2664105943723982"
      ]
     },
     "execution_count": 116,
     "metadata": {},
     "output_type": "execute_result"
    }
   ],
   "source": [
    "Allevents['theta'][0]"
   ]
  },
  {
   "cell_type": "code",
   "execution_count": 61,
   "id": "705ab1a9",
   "metadata": {},
   "outputs": [
    {
     "ename": "ImportError",
     "evalue": "cannot import name 'localization' from 'astropath' (unknown location)",
     "output_type": "error",
     "traceback": [
      "\u001b[0;31m---------------------------------------------------------------------------\u001b[0m",
      "\u001b[0;31mImportError\u001b[0m                               Traceback (most recent call last)",
      "Input \u001b[0;32mIn [61]\u001b[0m, in \u001b[0;36m<cell line: 14>\u001b[0;34m()\u001b[0m\n\u001b[1;32m     12\u001b[0m \u001b[38;5;28;01mfrom\u001b[39;00m \u001b[38;5;21;01mastropy\u001b[39;00m\u001b[38;5;21;01m.\u001b[39;00m\u001b[38;5;21;01mcoordinates\u001b[39;00m \u001b[38;5;28;01mimport\u001b[39;00m SkyCoord\n\u001b[1;32m     13\u001b[0m \u001b[38;5;66;03m#from astropath import bayesian\u001b[39;00m\n\u001b[0;32m---> 14\u001b[0m \u001b[38;5;28;01mfrom\u001b[39;00m \u001b[38;5;21;01mastropath\u001b[39;00m \u001b[38;5;28;01mimport\u001b[39;00m localization\n\u001b[1;32m     15\u001b[0m \u001b[38;5;28;01mfrom\u001b[39;00m \u001b[38;5;21;01mastropath\u001b[39;00m \u001b[38;5;28;01mimport\u001b[39;00m path\n",
      "\u001b[0;31mImportError\u001b[0m: cannot import name 'localization' from 'astropath' (unknown location)"
     ]
    }
   ],
   "source": [
    "# imports\n",
    "from importlib import reload\n",
    "import os\n",
    "from pkg_resources import resource_filename\n",
    "import numpy as np\n",
    "\n",
    "import healpy as hp\n",
    "import pandas\n",
    "\n",
    "from astropy.io import fits\n",
    "from astropy.table import Table\n",
    "from astropy.coordinates import SkyCoord\n",
    "#from astropath import bayesian\n",
    "from astropath import localization\n",
    "from astropath import path"
   ]
  },
  {
   "cell_type": "code",
   "execution_count": 58,
   "id": "b0892b83",
   "metadata": {},
   "outputs": [
    {
     "ename": "ModuleNotFoundError",
     "evalue": "No module named 'astropath'",
     "output_type": "error",
     "traceback": [
      "\u001b[0;31m---------------------------------------------------------------------------\u001b[0m",
      "\u001b[0;31mKeyError\u001b[0m                                  Traceback (most recent call last)",
      "File \u001b[0;32m/usr/lib/python3/dist-packages/pkg_resources/__init__.py:349\u001b[0m, in \u001b[0;36mget_provider\u001b[0;34m(moduleOrReq)\u001b[0m\n\u001b[1;32m    348\u001b[0m \u001b[38;5;28;01mtry\u001b[39;00m:\n\u001b[0;32m--> 349\u001b[0m     module \u001b[38;5;241m=\u001b[39m \u001b[43msys\u001b[49m\u001b[38;5;241;43m.\u001b[39;49m\u001b[43mmodules\u001b[49m\u001b[43m[\u001b[49m\u001b[43mmoduleOrReq\u001b[49m\u001b[43m]\u001b[49m\n\u001b[1;32m    350\u001b[0m \u001b[38;5;28;01mexcept\u001b[39;00m \u001b[38;5;167;01mKeyError\u001b[39;00m:\n",
      "\u001b[0;31mKeyError\u001b[0m: 'astropath'",
      "\nDuring handling of the above exception, another exception occurred:\n",
      "\u001b[0;31mModuleNotFoundError\u001b[0m                       Traceback (most recent call last)",
      "Input \u001b[0;32mIn [58]\u001b[0m, in \u001b[0;36m<cell line: 1>\u001b[0;34m()\u001b[0m\n\u001b[0;32m----> 1\u001b[0m lfile \u001b[38;5;241m=\u001b[39m os\u001b[38;5;241m.\u001b[39mpath\u001b[38;5;241m.\u001b[39mjoin(\u001b[43mresource_filename\u001b[49m\u001b[43m(\u001b[49m\u001b[38;5;124;43m'\u001b[39;49m\u001b[38;5;124;43mastropath\u001b[39;49m\u001b[38;5;124;43m'\u001b[39;49m\u001b[43m,\u001b[49m\u001b[43m \u001b[49m\u001b[38;5;124;43m'\u001b[39;49m\u001b[38;5;124;43mdata\u001b[39;49m\u001b[38;5;124;43m'\u001b[39;49m\u001b[43m)\u001b[49m, \u001b[38;5;124m'\u001b[39m\u001b[38;5;124mgw_examples\u001b[39m\u001b[38;5;124m'\u001b[39m,\n\u001b[1;32m      2\u001b[0m                      \u001b[38;5;124m'\u001b[39m\u001b[38;5;124mGW170817_skymap.fits.gz\u001b[39m\u001b[38;5;124m'\u001b[39m)\n",
      "File \u001b[0;32m/usr/lib/python3/dist-packages/pkg_resources/__init__.py:1135\u001b[0m, in \u001b[0;36mResourceManager.resource_filename\u001b[0;34m(self, package_or_requirement, resource_name)\u001b[0m\n\u001b[1;32m   1133\u001b[0m \u001b[38;5;28;01mdef\u001b[39;00m \u001b[38;5;21mresource_filename\u001b[39m(\u001b[38;5;28mself\u001b[39m, package_or_requirement, resource_name):\n\u001b[1;32m   1134\u001b[0m     \u001b[38;5;124;03m\"\"\"Return a true filesystem path for specified resource\"\"\"\u001b[39;00m\n\u001b[0;32m-> 1135\u001b[0m     \u001b[38;5;28;01mreturn\u001b[39;00m \u001b[43mget_provider\u001b[49m\u001b[43m(\u001b[49m\u001b[43mpackage_or_requirement\u001b[49m\u001b[43m)\u001b[49m\u001b[38;5;241m.\u001b[39mget_resource_filename(\n\u001b[1;32m   1136\u001b[0m         \u001b[38;5;28mself\u001b[39m, resource_name\n\u001b[1;32m   1137\u001b[0m     )\n",
      "File \u001b[0;32m/usr/lib/python3/dist-packages/pkg_resources/__init__.py:351\u001b[0m, in \u001b[0;36mget_provider\u001b[0;34m(moduleOrReq)\u001b[0m\n\u001b[1;32m    349\u001b[0m     module \u001b[38;5;241m=\u001b[39m sys\u001b[38;5;241m.\u001b[39mmodules[moduleOrReq]\n\u001b[1;32m    350\u001b[0m \u001b[38;5;28;01mexcept\u001b[39;00m \u001b[38;5;167;01mKeyError\u001b[39;00m:\n\u001b[0;32m--> 351\u001b[0m     \u001b[38;5;28;43m__import__\u001b[39;49m\u001b[43m(\u001b[49m\u001b[43mmoduleOrReq\u001b[49m\u001b[43m)\u001b[49m\n\u001b[1;32m    352\u001b[0m     module \u001b[38;5;241m=\u001b[39m sys\u001b[38;5;241m.\u001b[39mmodules[moduleOrReq]\n\u001b[1;32m    353\u001b[0m loader \u001b[38;5;241m=\u001b[39m \u001b[38;5;28mgetattr\u001b[39m(module, \u001b[38;5;124m'\u001b[39m\u001b[38;5;124m__loader__\u001b[39m\u001b[38;5;124m'\u001b[39m, \u001b[38;5;28;01mNone\u001b[39;00m)\n",
      "\u001b[0;31mModuleNotFoundError\u001b[0m: No module named 'astropath'"
     ]
    }
   ],
   "source": [
    "lfile = os.path.join(resource_filename('astropath', 'data'), 'gw_examples',\n",
    "                     'GW170817_skymap.fits.gz')"
   ]
  },
  {
   "cell_type": "code",
   "execution_count": null,
   "id": "8aecc808",
   "metadata": {},
   "outputs": [],
   "source": []
  }
 ],
 "metadata": {
  "kernelspec": {
   "display_name": "Python 3 (ipykernel)",
   "language": "python",
   "name": "python3"
  },
  "language_info": {
   "codemirror_mode": {
    "name": "ipython",
    "version": 3
   },
   "file_extension": ".py",
   "mimetype": "text/x-python",
   "name": "python",
   "nbconvert_exporter": "python",
   "pygments_lexer": "ipython3",
   "version": "3.10.12"
  }
 },
 "nbformat": 4,
 "nbformat_minor": 5
}
