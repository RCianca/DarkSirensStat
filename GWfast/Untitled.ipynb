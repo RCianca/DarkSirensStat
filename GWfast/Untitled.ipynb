{
 "cells": [
  {
   "cell_type": "code",
   "execution_count": null,
   "id": "c0a481bb",
   "metadata": {},
   "outputs": [],
   "source": [
    "import os\n",
    "import sys\n",
    "\n",
    "import copy\n",
    "import numpy as np\n",
    "from astropy.cosmology import Planck18\n",
    "\n",
    "PACKAGE_PARENT = '..'\n",
    "SCRIPT_DIR = os.path.dirname(os.path.realpath(os.path.join(os.getcwd())))\n",
    "sys.path.append(SCRIPT_DIR)\n",
    "import gwfast.gwfastGlobals as glob\n",
    "import gwfast \n",
    "from gwfast.waveforms import IMRPhenomD_NRTidalv2\n",
    "from gwfast.signal import GWSignal\n",
    "from gwfast.network import DetNet\n",
    "from fisherTools import CovMatr, compute_localization_region, check_covariance, fixParams\n",
    "from gwfastUtils import GPSt_to_LMST"
   ]
  },
  {
   "cell_type": "code",
   "execution_count": null,
   "id": "1a3a62ad",
   "metadata": {},
   "outputs": [],
   "source": [
    "print(glob.dirName,SCRIPT_DIR)"
   ]
  },
  {
   "cell_type": "code",
   "execution_count": null,
   "id": "de3cc5cf",
   "metadata": {},
   "outputs": [],
   "source": [
    "keys = ('Mc','eta','dL','theta','phi','iota','psi','tcoal','Phicoal','chi1x','chi2x',\n",
    "        'chi1y','chi2y','chi1z','chi2z','LambdaTilde','deltaLambda','ecc')\n",
    "mydata=dict.fromkeys(keys)"
   ]
  },
  {
   "cell_type": "code",
   "execution_count": null,
   "id": "4ff4bef5",
   "metadata": {},
   "outputs": [],
   "source": [
    "print(mydata.keys())"
   ]
  },
  {
   "cell_type": "code",
   "execution_count": null,
   "id": "6392bea9",
   "metadata": {},
   "outputs": [],
   "source": [
    "alldetectors = copy.deepcopy(glob.detectors)\n",
    "print('All available detectors are: '+str(list(alldetectors.keys())))\n",
    "\n",
    "# select only LIGO and Virgo\n",
    "LVdetectors = {det:alldetectors[det] for det in ['L1', 'H1', 'Virgo']}\n",
    "print('Using detectors '+str(list(LVdetectors.keys())))"
   ]
  },
  {
   "cell_type": "code",
   "execution_count": null,
   "id": "0570b243",
   "metadata": {},
   "outputs": [],
   "source": [
    "LVdetectors"
   ]
  },
  {
   "cell_type": "code",
   "execution_count": null,
   "id": "013ddebe",
   "metadata": {},
   "outputs": [],
   "source": [
    "# We use the O2 psds\n",
    "LVdetectors['L1']['psd_path'] = os.path.join(glob.detPath, 'LVC_O1O2O3', '2017-08-06_DCH_C02_L1_O2_Sensitivity_strain_asd.txt')\n",
    "LVdetectors['H1']['psd_path'] = os.path.join(glob.detPath, 'LVC_O1O2O3', '2017-06-10_DCH_C02_H1_O2_Sensitivity_strain_asd.txt')\n",
    "LVdetectors['Virgo']['psd_path'] = os.path.join(glob.detPath, 'LVC_O1O2O3', 'Hrec_hoft_V1O2Repro2A_16384Hz.txt')\n"
   ]
  },
  {
   "cell_type": "code",
   "execution_count": null,
   "id": "41f356dd",
   "metadata": {},
   "outputs": [],
   "source": [
    "glob.detPath"
   ]
  },
  {
   "cell_type": "code",
   "execution_count": null,
   "id": "03dffb6f",
   "metadata": {},
   "outputs": [],
   "source": [
    "myLVSignals = {}\n",
    "\n",
    "for d in LVdetectors.keys():\n",
    "\n",
    "    myLVSignals[d] = GWSignal(IMRPhenomD_NRTidalv2(),\n",
    "                psd_path=LVdetectors[d]['psd_path'],\n",
    "                detector_shape = LVdetectors[d]['shape'],\n",
    "                det_lat= LVdetectors[d]['lat'],\n",
    "                det_long=LVdetectors[d]['long'],\n",
    "                det_xax=LVdetectors[d]['xax'],\n",
    "                verbose=True,\n",
    "                useEarthMotion = False,\n",
    "                fmin=10.,\n",
    "                IntTablePath=None)\n",
    "\n",
    "myLVNet = DetNet(myLVSignals)"
   ]
  },
  {
   "cell_type": "code",
   "execution_count": null,
   "id": "7129891c",
   "metadata": {},
   "outputs": [],
   "source": [
    "\n",
    "\n",
    "# Median values of the posterior samples for all the parameters,\n",
    "# except psi and the coalescence phase that are set to 0\n",
    "\n",
    "z = np.array([0.00980])\n",
    "tGPS = np.array([1187008882.4])\n",
    "\n",
    "GW170817 = {'Mc':np.array([1.1859])*(1.+z),\n",
    "            'dL':Planck18.luminosity_distance(z).value/1000.,\n",
    "            'theta':np.array([np.pi/2. + 0.4080839999999999]),\n",
    "            'phi':np.array([3.4461599999999994]),\n",
    "            'iota':np.array([2.545065595974997]),\n",
    "            'psi':np.array([0.]),\n",
    "            'tcoal':GPSt_to_LMST(tGPS, lat=0., long=0.), # GMST is LMST computed at long = 0°\n",
    "            'eta':np.array([0.24786618323504223]),\n",
    "            'Phicoal':np.array([0.]),\n",
    "            'chi1z':np.array([0.005136138323169717]),\n",
    "            'chi2z':np.array([0.003235146993487445]),\n",
    "            'Lambda1':np.array([368.17802383555687]),\n",
    "            'Lambda2':np.array([586.5487031450857])\n",
    "           }\n",
    "\n",
    "print('Parameters for GW170817 are:')\n",
    "GW170817"
   ]
  },
  {
   "cell_type": "code",
   "execution_count": null,
   "id": "79ee9517",
   "metadata": {},
   "outputs": [],
   "source": [
    "SNR = myLVNet.SNR(GW170817)\n",
    "print('SNR for GW170817 is %.2f to compare with 33'%SNR[0])"
   ]
  },
  {
   "cell_type": "code",
   "execution_count": null,
   "id": "b7bacb61",
   "metadata": {},
   "outputs": [],
   "source": [
    "totF = myLVNet.FisherMatr(GW170817)\n",
    "print('The computed Fisher matrix has shape %s'%str(totF.shape))"
   ]
  },
  {
   "cell_type": "code",
   "execution_count": null,
   "id": "4e7f9e2e",
   "metadata": {},
   "outputs": [],
   "source": [
    "totF"
   ]
  },
  {
   "cell_type": "code",
   "execution_count": null,
   "id": "338f5e81",
   "metadata": {},
   "outputs": [],
   "source": [
    "# Check e.g. that the (dL,dL) element corresponds to (SNR/dL)^2\n",
    "ParNums = IMRPhenomD_NRTidalv2().ParNums\n",
    "dL_Num = ParNums['dL']\n",
    "print('The relative difference is %.2e !'%((1 - totF[ParNums['dL'],ParNums['dL'],:]/(SNR/GW170817['dL'])**2)[0]))"
   ]
  },
  {
   "cell_type": "code",
   "execution_count": null,
   "id": "bf73ebf5",
   "metadata": {},
   "outputs": [],
   "source": [
    "# Check e.g. that the (dL,dL) element corresponds to (SNR/dL)^2\n",
    "ParNums = IMRPhenomD_NRTidalv2().ParNums\n",
    "dL_Num = ParNums['dL']\n",
    "print('The relative difference is %.2e !'%((1 - totF[ParNums['dL'],ParNums['dL'],:]/(SNR/GW170817['dL'])**2)[0]))"
   ]
  },
  {
   "cell_type": "code",
   "execution_count": null,
   "id": "3d13cbd6",
   "metadata": {},
   "outputs": [],
   "source": [
    "totCov, inversion_err = CovMatr(totF)"
   ]
  },
  {
   "cell_type": "code",
   "execution_count": null,
   "id": "f74253e7",
   "metadata": {},
   "outputs": [],
   "source": [
    "totCov"
   ]
  },
  {
   "cell_type": "code",
   "execution_count": null,
   "id": "011d407e",
   "metadata": {},
   "outputs": [],
   "source": [
    "_ = check_covariance(totF, totCov)"
   ]
  },
  {
   "cell_type": "markdown",
   "id": "5449310c",
   "metadata": {},
   "source": [
    "'Mc','eta','dL','theta','phi','iota','psi','tcoal','Phicoal','chi1z','chi2z','LambdaTilde','deltaLambda'}"
   ]
  },
  {
   "cell_type": "code",
   "execution_count": null,
   "id": "08ee4052",
   "metadata": {},
   "outputs": [],
   "source": [
    "ParNums = IMRPhenomD_NRTidalv2().ParNums\n",
    "tofix_ParNums=[e for e in ParNums if e not in ('dL', 'phi','theta')]\n",
    "#newFish, newPars = fixParams(totF, ParNums, ['deltaLambda'])\n",
    "newFish, newPars = fixParams(totF, ParNums, tofix_ParNums)\n",
    "print('Now the Fisher matrix has shape %s'%str(newFish.shape))\n",
    "\n",
    "newCov, new_inversion_err = CovMatr(newFish)\n",
    "\n",
    "_ = check_covariance(newFish, newCov)"
   ]
  },
  {
   "cell_type": "code",
   "execution_count": null,
   "id": "9daa8d7f",
   "metadata": {},
   "outputs": [],
   "source": [
    "skyArea = compute_localization_region(newCov, newPars, GW170817['theta'])\n",
    "print('The estimated sky location is %.1f deg^2, to compare with 16 deg^2'%skyArea)"
   ]
  },
  {
   "cell_type": "code",
   "execution_count": null,
   "id": "12911598",
   "metadata": {},
   "outputs": [],
   "source": [
    "save_path='/home/rciancarella/testgwfast.h5'\n",
    "gwfast.gwfastUtils.save_data(save_path, GW170817)\n",
    "gwfast.gwfastUtils.save_detectors('/home/rciancarella/net.json',LVdetectors)"
   ]
  },
  {
   "cell_type": "code",
   "execution_count": null,
   "id": "d2807e44",
   "metadata": {},
   "outputs": [],
   "source": [
    "print(newCov)"
   ]
  },
  {
   "cell_type": "markdown",
   "id": "b1128c7e",
   "metadata": {},
   "source": [
    "# Play Around"
   ]
  },
  {
   "cell_type": "code",
   "execution_count": null,
   "id": "233e1b6b",
   "metadata": {},
   "outputs": [],
   "source": [
    "# Configure ET and the PSD\n",
    "ETdet = {'ET': copy.deepcopy(glob.detectors).pop('ETS') }\n",
    "print(ETdet)\n",
    "ETdet['ET']['psd_path'] = os.path.join(glob.detPath, 'ET-0000A-18.txt')"
   ]
  },
  {
   "cell_type": "code",
   "execution_count": null,
   "id": "debab3e4",
   "metadata": {},
   "outputs": [],
   "source": [
    "from gwfast.waveforms import IMRPhenomD\n",
    "from gwfast.waveforms import IMRPhenomHM\n",
    "mySignalsET = {}\n",
    "\n",
    "for d in ETdet.keys():\n",
    "    #print(d)\n",
    "    mySignalsET[d] = GWSignal((IMRPhenomD()),\n",
    "                psd_path= ETdet[d]['psd_path'],\n",
    "                detector_shape = ETdet[d]['shape'],\n",
    "                det_lat= ETdet[d]['lat'],\n",
    "                det_long=ETdet[d]['long'],\n",
    "                det_xax=ETdet[d]['xax'],\n",
    "                verbose=True,\n",
    "                useEarthMotion = False,\n",
    "                fmin=2.,\n",
    "                IntTablePath=None)\n",
    "\n",
    "myET = DetNet(mySignalsET)"
   ]
  },
  {
   "cell_type": "code",
   "execution_count": null,
   "id": "fa7c0ae4",
   "metadata": {},
   "outputs": [],
   "source": [
    "import pandas as pd\n",
    "from astropy.table import Table\n",
    "from astropy.cosmology import FlatLambdaCDM"
   ]
  },
  {
   "cell_type": "code",
   "execution_count": null,
   "id": "3675bf9c",
   "metadata": {},
   "outputs": [],
   "source": [
    "CAT_FOLDER='/home/rciancarella/DarkSirensStat/DSCatalogueCreator/'\n",
    "SCRIPT_FOLDER='/home/rciancarella/DarkSirensStat/GWfast/'\n",
    "os.chdir(CAT_FOLDER)"
   ]
  },
  {
   "cell_type": "code",
   "execution_count": null,
   "id": "82d130ae",
   "metadata": {},
   "outputs": [],
   "source": [
    "dat = Table.read('EVA02_detected12_fiveyear.fits', format='fits')\n",
    "EVA= dat.to_pandas()#all good, is an only text fits\n",
    "os.chdir(SCRIPT_FOLDER)"
   ]
  },
  {
   "cell_type": "code",
   "execution_count": null,
   "id": "42434307",
   "metadata": {},
   "outputs": [],
   "source": [
    "EVA.head()"
   ]
  },
  {
   "cell_type": "markdown",
   "id": "1a671e26",
   "metadata": {},
   "source": [
    "Raccordo tra i dati \n",
    "GW170817 = {'Mc':np.array([1.1859])*(1.+z),\n",
    "            'dL':Planck18.luminosity_distance(z).value/1000.,\n",
    "            'theta':np.array([np.pi/2. + 0.4080839999999999]),\n",
    "            'phi':np.array([3.4461599999999994]),\n",
    "            'iota':np.array([2.545065595974997]),\n",
    "            'psi':np.array([0.]),\n",
    "            'tcoal':GPSt_to_LMST(tGPS, lat=0., long=0.), # GMST is LMST computed at long = 0°\n",
    "            'eta':np.array([0.24786618323504223]),\n",
    "            'Phicoal':np.array([0.]),\n",
    "            'chi1z':np.array([0.005136138323169717]),\n",
    "            'chi2z':np.array([0.003235146993487445]),\n",
    "            'Lambda1':np.array([368.17802383555687]),\n",
    "            'Lambda2':np.array([586.5487031450857])\n",
    "           }"
   ]
  },
  {
   "cell_type": "code",
   "execution_count": null,
   "id": "b65038f2",
   "metadata": {},
   "outputs": [],
   "source": [
    "ParNums = IMRPhenomD().ParNums\n",
    "print('In totale sono {} parametri da inserire\\ne sono {}'.format(len(ParNums),ParNums))"
   ]
  },
  {
   "cell_type": "code",
   "execution_count": null,
   "id": "713c3a9d",
   "metadata": {},
   "outputs": [],
   "source": [
    "H0GLOB= 67#67.9 #69\n",
    "Om0GLOB=0.319\n",
    "Xi0Glob =1.\n",
    "cosmoeuclid = FlatLambdaCDM(H0=H0GLOB, Om0=Om0GLOB)"
   ]
  },
  {
   "cell_type": "code",
   "execution_count": null,
   "id": "2cc0684c",
   "metadata": {},
   "outputs": [],
   "source": [
    "def chirp_mass(m1,m2):\n",
    "    num=(m1*m2)**(3/5)\n",
    "    denom=(m1+m2)**(1/5)\n",
    "    return num/denom\n",
    "def phi_from_cart(x,y):\n",
    "    if(x>0):\n",
    "        phi=np.arctan(y/x)\n",
    "    if ((x<0) and (y>=0)):\n",
    "        phi=np.arctan(y/x)+np.pi\n",
    "    if ((x<0) and (y<0)):\n",
    "        phi=np.arctan(y/x)-np.pi\n",
    "    return phi\n",
    "def theta_from_cart(x,y,z):\n",
    "    den=np.sqrt(x**2+y**2+z**2)\n",
    "    theta=np.arccos(z/den)\n",
    "    return theta"
   ]
  },
  {
   "cell_type": "code",
   "execution_count": null,
   "id": "864bd3e2",
   "metadata": {},
   "outputs": [],
   "source": [
    "allm1=np.asarray(EVA['M1'])\n",
    "allm2=np.asarray(EVA['M2'])\n",
    "allMc=chirp_mass(allm1,allm2)\n",
    "allq=np.asarray(EVA['q'])\n",
    "alleta=allq/(1+allq**2)\n",
    "allcos=np.asarray(EVA['cos_orbital_incl'])\n",
    "alliota=np.arccos(allcos)\n",
    "allpsi=np.asarray(EVA['psi'])/2\n",
    "tGPS = np.array([1187008882.4])#arbitrario\n",
    "allz=np.asarray(EVA['DS_redshift'])\n",
    "alldsx=np.asarray(EVA['DS_x'])\n",
    "alldsy=np.asarray(EVA['DS_y'])\n",
    "alldsz=np.asarray(EVA['DS_z'])\n",
    "allphi=np.zeros(len(alldsx))\n",
    "alltheta=np.zeros(len(alldsx))\n",
    "for i in range(len(alldsx)):\n",
    "    allphi[i]=phi_from_cart(alldsx[i],alldsy[i])\n",
    "    alltheta[i]=theta_from_cart(alldsx[i],alldsy[i],alldsz[i])\n",
    "alldl=cosmoeuclid.luminosity_distance(allz).value/1000.\n",
    "\n",
    "\n",
    "tcoal=np.asarray(GPSt_to_LMST(tGPS, lat=0., long=0.))"
   ]
  },
  {
   "cell_type": "code",
   "execution_count": null,
   "id": "00f68919",
   "metadata": {},
   "outputs": [],
   "source": [
    "len(alliota[alliota<0])"
   ]
  },
  {
   "cell_type": "code",
   "execution_count": null,
   "id": "30062126",
   "metadata": {},
   "outputs": [],
   "source": [
    "quanti=int(1)\n",
    "Allevents = {'Mc':1*allMc[0:quanti]*(1+allz)[0:quanti],\n",
    "            'dL':alldl[0:quanti],\n",
    "            'theta':alltheta[0:quanti],\n",
    "            'phi':allphi[0:quanti],\n",
    "            'iota':alliota[0:quanti],\n",
    "            'psi':allpsi[0:quanti],\n",
    "            'tcoal':1*tcoal*np.ones(len(allMc))[0:quanti], # GMST is LMST computed at long = 0°\n",
    "            'eta':alleta[0:quanti],\n",
    "            'Phicoal':np.zeros(len(allMc))[0:quanti],\n",
    "            'chi1z':0.0001*np.ones(len(allMc))[0:quanti],\n",
    "            'chi2z':0.*np.ones(len(allMc))[0:quanti]\n",
    "            ,#'chi2z':np.zeros(len(allMc))[0:1]\n",
    "           }"
   ]
  },
  {
   "cell_type": "code",
   "execution_count": null,
   "id": "b952e126",
   "metadata": {},
   "outputs": [],
   "source": [
    "save_path='/home/rciancarella/DarkSirensStat/GWfast/myfirstevent.h5'\n",
    "gwfast.gwfastUtils.save_data(save_path, Allevents)"
   ]
  },
  {
   "cell_type": "code",
   "execution_count": null,
   "id": "0430318a",
   "metadata": {},
   "outputs": [],
   "source": [
    "Allevents=gwfast.gwfastUtils.load_population('myfirstevent.h5')"
   ]
  },
  {
   "cell_type": "code",
   "execution_count": null,
   "id": "5c575f13",
   "metadata": {},
   "outputs": [],
   "source": [
    "Allevents"
   ]
  },
  {
   "cell_type": "code",
   "execution_count": null,
   "id": "4b85c831",
   "metadata": {},
   "outputs": [],
   "source": [
    "SNR_ET = myET.SNR(Allevents)\n",
    "#print('SNR is %.2f '%SNR)\n",
    "print(SNR_ET)"
   ]
  },
  {
   "cell_type": "code",
   "execution_count": null,
   "id": "6465e18b",
   "metadata": {},
   "outputs": [],
   "source": [
    "totFET = myET.FisherMatr(Allevents)\n",
    "print('The computed Fisher matrix has shape %s'%str(totFET.shape))"
   ]
  },
  {
   "cell_type": "code",
   "execution_count": null,
   "id": "4eea7ac1",
   "metadata": {},
   "outputs": [],
   "source": [
    "#print('Fisher Matrix\\n{}'.format(totFET))\n",
    "n_array = totFET[:,:,0]\n",
    "  \n",
    "# Displaying the Matrix \n",
    "#print(\"Numpy Matrix is:\") \n",
    "#print(n_array) \n",
    "  \n",
    "# calculating the determinant of matrix \n",
    "det = np.linalg.det(n_array) \n",
    "  \n",
    "print(\"\\nDeterminant of given matrix:\") \n",
    "print(det) "
   ]
  },
  {
   "cell_type": "code",
   "execution_count": null,
   "id": "4bf72728",
   "metadata": {},
   "outputs": [],
   "source": [
    "totFET"
   ]
  },
  {
   "cell_type": "code",
   "execution_count": null,
   "id": "def00606",
   "metadata": {},
   "outputs": [],
   "source": [
    "from gwfast import fisherTools\n",
    "gwfast.fisherTools.CheckFisher(totFET)"
   ]
  },
  {
   "cell_type": "code",
   "execution_count": null,
   "id": "939df75a",
   "metadata": {},
   "outputs": [],
   "source": [
    "gwfast.fisherTools.CovMatr(totFET)"
   ]
  },
  {
   "cell_type": "code",
   "execution_count": null,
   "id": "c807d234",
   "metadata": {},
   "outputs": [],
   "source": []
  },
  {
   "cell_type": "code",
   "execution_count": null,
   "id": "f6b262ec",
   "metadata": {},
   "outputs": [],
   "source": [
    "totCov_ET, inversion_err_ET = CovMatr(totFET)"
   ]
  },
  {
   "cell_type": "code",
   "execution_count": null,
   "id": "b5fadb09",
   "metadata": {},
   "outputs": [],
   "source": [
    "totCov_ET"
   ]
  },
  {
   "cell_type": "code",
   "execution_count": null,
   "id": "ea40d944",
   "metadata": {},
   "outputs": [],
   "source": [
    "os.chdir(SCRIPT_FOLDER+'results/')"
   ]
  },
  {
   "cell_type": "code",
   "execution_count": null,
   "id": "cdff995f",
   "metadata": {},
   "outputs": [],
   "source": [
    "loaded_fish=np.load('fishers_0_to_1.npy')"
   ]
  },
  {
   "cell_type": "code",
   "execution_count": null,
   "id": "57d2f048",
   "metadata": {},
   "outputs": [],
   "source": [
    "np.shape(loaded_fish)"
   ]
  },
  {
   "cell_type": "markdown",
   "id": "fefb5c99",
   "metadata": {},
   "source": [
    "Marginalisation------in the doc there is no marginalisation"
   ]
  },
  {
   "cell_type": "code",
   "execution_count": null,
   "id": "ebe300a5",
   "metadata": {},
   "outputs": [],
   "source": [
    "events=gwfast.gwfastUtils.load_population('myfirstevent.h5')"
   ]
  },
  {
   "cell_type": "code",
   "execution_count": null,
   "id": "935bdb5c",
   "metadata": {},
   "outputs": [],
   "source": [
    "print(events)"
   ]
  },
  {
   "cell_type": "code",
   "execution_count": null,
   "id": "29ccdca0",
   "metadata": {},
   "outputs": [],
   "source": [
    "FIM=myET.FisherMatr(events)"
   ]
  },
  {
   "cell_type": "code",
   "execution_count": null,
   "id": "f7a25fee",
   "metadata": {},
   "outputs": [],
   "source": [
    "#fixing Parameters\n",
    "#print(events.keys())\n",
    "tofix_ParNums = list(IMRPhenomD().ParNums.keys())\n",
    "tofix_ParNums = [e for e in tofix_ParNums if e not in ('dL', 'phi','theta')]\n",
    "fixedFIM, newPars=gwfast.fisherTools.fixParams(totFET,IMRPhenomD().ParNums,tofix_ParNums)"
   ]
  },
  {
   "cell_type": "code",
   "execution_count": null,
   "id": "dc079ce0",
   "metadata": {},
   "outputs": [],
   "source": [
    "print(newPars)"
   ]
  },
  {
   "cell_type": "code",
   "execution_count": null,
   "id": "1c8d4bfc",
   "metadata": {},
   "outputs": [],
   "source": [
    "mycov,err=gwfast.fisherTools.CovMatr(fixedFIM)"
   ]
  },
  {
   "cell_type": "code",
   "execution_count": null,
   "id": "e4096899",
   "metadata": {},
   "outputs": [],
   "source": [
    "print(mycov)"
   ]
  },
  {
   "cell_type": "code",
   "execution_count": null,
   "id": "6481d4fb",
   "metadata": {},
   "outputs": [],
   "source": [
    "COV_SAVE_PATH='/home/rciancarella/DarkSirensStat/ProxyGenerator/'"
   ]
  },
  {
   "cell_type": "code",
   "execution_count": null,
   "id": "c114b499",
   "metadata": {},
   "outputs": [],
   "source": [
    "name='covar_test'"
   ]
  },
  {
   "cell_type": "code",
   "execution_count": null,
   "id": "bb136773",
   "metadata": {},
   "outputs": [],
   "source": [
    "np.save(COV_SAVE_PATH+name,totCov_ET)"
   ]
  },
  {
   "cell_type": "code",
   "execution_count": null,
   "id": "8137dba1",
   "metadata": {},
   "outputs": [],
   "source": [
    "skyArea = compute_localization_region(totCov_ET, newPars, Allevents['theta'])\n",
    "print('The estimated sky location is %.1f deg^2'%skyArea)"
   ]
  },
  {
   "cell_type": "code",
   "execution_count": null,
   "id": "98b8b16b",
   "metadata": {},
   "outputs": [],
   "source": [
    "Allevents['theta'][0]"
   ]
  },
  {
   "cell_type": "code",
   "execution_count": null,
   "id": "705ab1a9",
   "metadata": {},
   "outputs": [],
   "source": [
    "# imports\n",
    "from importlib import reload\n",
    "import os\n",
    "from pkg_resources import resource_filename\n",
    "import numpy as np\n",
    "\n",
    "import healpy as hp\n",
    "import pandas\n",
    "\n",
    "from astropy.io import fits\n",
    "from astropy.table import Table\n",
    "from astropy.coordinates import SkyCoord\n",
    "#from astropath import bayesian\n",
    "from astropath import localization\n",
    "from astropath import path"
   ]
  },
  {
   "cell_type": "code",
   "execution_count": null,
   "id": "b0892b83",
   "metadata": {},
   "outputs": [],
   "source": [
    "lfile = os.path.join(resource_filename('astropath', 'data'), 'gw_examples',\n",
    "                     'GW170817_skymap.fits.gz')"
   ]
  },
  {
   "cell_type": "markdown",
   "id": "6b9c93d4",
   "metadata": {},
   "source": [
    "# To ProxyGenerator"
   ]
  },
  {
   "cell_type": "code",
   "execution_count": 1,
   "id": "589c8eb1",
   "metadata": {},
   "outputs": [
    {
     "name": "stderr",
     "output_type": "stream",
     "text": [
      "WARNING:jax._src.lib.xla_bridge:No GPU/TPU found, falling back to CPU. (Set TF_CPP_MIN_LOG_LEVEL=0 and rerun for more info.)\n"
     ]
    },
    {
     "name": "stdout",
     "output_type": "stream",
     "text": [
      "TEOBResumS is not installed, only the GWFAST waveform models are available, namely: TaylorF2, IMRPhenomD, IMRPhenomD_NRTidalv2, IMRPhenomHM and IMRPhenomNSBH\n"
     ]
    }
   ],
   "source": [
    "import os\n",
    "import sys\n",
    "\n",
    "import copy\n",
    "import numpy as np\n",
    "from astropy.cosmology import Planck18\n",
    "\n",
    "import pandas as pd\n",
    "from astropy.table import Table\n",
    "from astropy.cosmology import FlatLambdaCDM\n",
    "\n",
    "PACKAGE_PARENT = '..'\n",
    "SCRIPT_DIR = os.path.dirname(os.path.realpath(os.path.join(os.getcwd())))\n",
    "sys.path.append(SCRIPT_DIR)\n",
    "import gwfast.gwfastGlobals as glob\n",
    "import gwfast \n",
    "from gwfast.waveforms import IMRPhenomD_NRTidalv2\n",
    "from gwfast.signal import GWSignal\n",
    "from gwfast.network import DetNet\n",
    "from fisherTools import CovMatr, compute_localization_region, check_covariance, fixParams\n",
    "from gwfastUtils import GPSt_to_LMST"
   ]
  },
  {
   "cell_type": "code",
   "execution_count": 2,
   "id": "71345f01",
   "metadata": {},
   "outputs": [],
   "source": [
    "H0GLOB= 67#67.9 #69\n",
    "Om0GLOB=0.319\n",
    "Xi0Glob =1.\n",
    "cosmoeuclid = FlatLambdaCDM(H0=H0GLOB, Om0=Om0GLOB)"
   ]
  },
  {
   "cell_type": "code",
   "execution_count": 3,
   "id": "d4346f69",
   "metadata": {},
   "outputs": [],
   "source": [
    "def chirp_mass(m1,m2):\n",
    "    num=(m1*m2)**(3/5)\n",
    "    denom=(m1+m2)**(1/5)\n",
    "    return num/denom\n",
    "def phi_from_cart(x,y):\n",
    "    if(x>0):\n",
    "        phi=np.arctan(y/x)\n",
    "    if ((x<0) and (y>=0)):\n",
    "        phi=np.arctan(y/x)+np.pi\n",
    "    if ((x<0) and (y<0)):\n",
    "        phi=np.arctan(y/x)-np.pi\n",
    "    return phi\n",
    "def theta_from_cart(x,y,z):\n",
    "    den=np.sqrt(x**2+y**2+z**2)\n",
    "    theta=np.arccos(z/den)\n",
    "    return theta"
   ]
  },
  {
   "cell_type": "code",
   "execution_count": 4,
   "id": "1f1a8b39",
   "metadata": {},
   "outputs": [],
   "source": [
    "COV_SAVE_PATH='/home/rciancarella/DarkSirensStat/ProxyGenerator/'\n",
    "CAT_FOLDER='/home/rciancarella/DarkSirensStat/DSCatalogueCreator/'\n",
    "SCRIPT_FOLDER='/home/rciancarella/DarkSirensStat/GWfast/'"
   ]
  },
  {
   "cell_type": "code",
   "execution_count": 5,
   "id": "bb86ab66",
   "metadata": {},
   "outputs": [
    {
     "name": "stdout",
     "output_type": "stream",
     "text": [
      "{'ET': {'lat': 40.516666666666666, 'long': 9.416666666666666, 'xax': 0.0, 'shape': 'T'}}\n"
     ]
    }
   ],
   "source": [
    "ETdet = {'ET': copy.deepcopy(glob.detectors).pop('ETS') }\n",
    "print(ETdet)\n",
    "ETdet['ET']['psd_path'] = os.path.join(glob.detPath, 'ET-0000A-18.txt')"
   ]
  },
  {
   "cell_type": "code",
   "execution_count": 6,
   "id": "cba8a1b2",
   "metadata": {},
   "outputs": [
    {
     "name": "stdout",
     "output_type": "stream",
     "text": [
      "Using ASD from file /home/rciancarella/.local/lib/python3.10/site-packages/psds/ET-0000A-18.txt \n",
      "Initializing jax...\n",
      "Jax local device count: 8\n",
      "Jax  device count: 8\n"
     ]
    }
   ],
   "source": [
    "from gwfast.waveforms import IMRPhenomD\n",
    "from gwfast.waveforms import IMRPhenomHM\n",
    "mySignalsET = {}\n",
    "\n",
    "for d in ETdet.keys():\n",
    "    #print(d)\n",
    "    mySignalsET[d] = GWSignal((IMRPhenomD()),\n",
    "                psd_path= ETdet[d]['psd_path'],\n",
    "                detector_shape = ETdet[d]['shape'],\n",
    "                det_lat= ETdet[d]['lat'],\n",
    "                det_long=ETdet[d]['long'],\n",
    "                det_xax=ETdet[d]['xax'],\n",
    "                verbose=True,\n",
    "                useEarthMotion = False,\n",
    "                fmin=2.,\n",
    "                IntTablePath=None)\n",
    "\n",
    "myET = DetNet(mySignalsET)"
   ]
  },
  {
   "cell_type": "code",
   "execution_count": 7,
   "id": "a052925e",
   "metadata": {},
   "outputs": [],
   "source": [
    "os.chdir(CAT_FOLDER)\n",
    "dat = Table.read('EVA02_detected12_fiveyear.fits', format='fits')\n",
    "EVA= dat.to_pandas()#all good, is an only text fits\n",
    "os.chdir(SCRIPT_FOLDER)"
   ]
  },
  {
   "cell_type": "code",
   "execution_count": 8,
   "id": "ae070dab",
   "metadata": {},
   "outputs": [
    {
     "data": {
      "text/html": [
       "<div>\n",
       "<style scoped>\n",
       "    .dataframe tbody tr th:only-of-type {\n",
       "        vertical-align: middle;\n",
       "    }\n",
       "\n",
       "    .dataframe tbody tr th {\n",
       "        vertical-align: top;\n",
       "    }\n",
       "\n",
       "    .dataframe thead th {\n",
       "        text-align: right;\n",
       "    }\n",
       "</style>\n",
       "<table border=\"1\" class=\"dataframe\">\n",
       "  <thead>\n",
       "    <tr style=\"text-align: right;\">\n",
       "      <th></th>\n",
       "      <th>Host_x</th>\n",
       "      <th>Host_y</th>\n",
       "      <th>Host_z</th>\n",
       "      <th>Host_redshift</th>\n",
       "      <th>DS_x</th>\n",
       "      <th>DS_y</th>\n",
       "      <th>DS_z</th>\n",
       "      <th>DS_redshift</th>\n",
       "      <th>cos_orbital_incl</th>\n",
       "      <th>M1</th>\n",
       "      <th>M2</th>\n",
       "      <th>q</th>\n",
       "      <th>psi</th>\n",
       "      <th>Aproximant</th>\n",
       "      <th>SNR</th>\n",
       "    </tr>\n",
       "  </thead>\n",
       "  <tbody>\n",
       "    <tr>\n",
       "      <th>0</th>\n",
       "      <td>651.933995</td>\n",
       "      <td>402.188065</td>\n",
       "      <td>2806.954546</td>\n",
       "      <td>0.808803</td>\n",
       "      <td>651.933995</td>\n",
       "      <td>402.188065</td>\n",
       "      <td>2806.954546</td>\n",
       "      <td>0.808803</td>\n",
       "      <td>0.793474</td>\n",
       "      <td>10.569518</td>\n",
       "      <td>5.143687</td>\n",
       "      <td>0.486653</td>\n",
       "      <td>2.550917</td>\n",
       "      <td>b'IMRPhenomD'</td>\n",
       "      <td>96.279798</td>\n",
       "    </tr>\n",
       "    <tr>\n",
       "      <th>1</th>\n",
       "      <td>1901.947841</td>\n",
       "      <td>477.181005</td>\n",
       "      <td>2147.676656</td>\n",
       "      <td>0.808301</td>\n",
       "      <td>1901.947841</td>\n",
       "      <td>477.181005</td>\n",
       "      <td>2147.676656</td>\n",
       "      <td>0.808301</td>\n",
       "      <td>-0.615400</td>\n",
       "      <td>26.536605</td>\n",
       "      <td>5.515256</td>\n",
       "      <td>0.207836</td>\n",
       "      <td>3.274064</td>\n",
       "      <td>b'IMRPhenomD'</td>\n",
       "      <td>81.336203</td>\n",
       "    </tr>\n",
       "    <tr>\n",
       "      <th>2</th>\n",
       "      <td>792.327061</td>\n",
       "      <td>2056.292634</td>\n",
       "      <td>1873.462461</td>\n",
       "      <td>0.802654</td>\n",
       "      <td>796.891722</td>\n",
       "      <td>2051.491963</td>\n",
       "      <td>1868.765822</td>\n",
       "      <td>0.800800</td>\n",
       "      <td>0.228812</td>\n",
       "      <td>38.501322</td>\n",
       "      <td>29.412304</td>\n",
       "      <td>0.763930</td>\n",
       "      <td>3.479153</td>\n",
       "      <td>b'IMRPhenomD'</td>\n",
       "      <td>114.008069</td>\n",
       "    </tr>\n",
       "    <tr>\n",
       "      <th>3</th>\n",
       "      <td>2566.548362</td>\n",
       "      <td>58.913997</td>\n",
       "      <td>1323.989640</td>\n",
       "      <td>0.801273</td>\n",
       "      <td>2571.261103</td>\n",
       "      <td>58.839892</td>\n",
       "      <td>1319.617234</td>\n",
       "      <td>0.802053</td>\n",
       "      <td>0.694977</td>\n",
       "      <td>14.085194</td>\n",
       "      <td>1.642785</td>\n",
       "      <td>0.116632</td>\n",
       "      <td>4.078907</td>\n",
       "      <td>b'IMRPhenomD'</td>\n",
       "      <td>29.901415</td>\n",
       "    </tr>\n",
       "    <tr>\n",
       "      <th>4</th>\n",
       "      <td>1165.316454</td>\n",
       "      <td>2573.915761</td>\n",
       "      <td>575.600923</td>\n",
       "      <td>0.799466</td>\n",
       "      <td>1165.316454</td>\n",
       "      <td>2573.915761</td>\n",
       "      <td>575.600923</td>\n",
       "      <td>0.799466</td>\n",
       "      <td>-0.838562</td>\n",
       "      <td>5.332573</td>\n",
       "      <td>2.141039</td>\n",
       "      <td>0.401502</td>\n",
       "      <td>2.813217</td>\n",
       "      <td>b'IMRPhenomD'</td>\n",
       "      <td>22.195059</td>\n",
       "    </tr>\n",
       "    <tr>\n",
       "      <th>5</th>\n",
       "      <td>1690.215609</td>\n",
       "      <td>1708.191465</td>\n",
       "      <td>1620.095871</td>\n",
       "      <td>0.804719</td>\n",
       "      <td>1691.545189</td>\n",
       "      <td>1707.465640</td>\n",
       "      <td>1623.334204</td>\n",
       "      <td>0.805490</td>\n",
       "      <td>-0.871574</td>\n",
       "      <td>13.908275</td>\n",
       "      <td>5.170403</td>\n",
       "      <td>0.371750</td>\n",
       "      <td>2.143557</td>\n",
       "      <td>b'IMRPhenomD'</td>\n",
       "      <td>72.726116</td>\n",
       "    </tr>\n",
       "    <tr>\n",
       "      <th>6</th>\n",
       "      <td>1794.658786</td>\n",
       "      <td>1246.884474</td>\n",
       "      <td>1882.023962</td>\n",
       "      <td>0.799664</td>\n",
       "      <td>1794.954494</td>\n",
       "      <td>1253.441632</td>\n",
       "      <td>1883.973892</td>\n",
       "      <td>0.801195</td>\n",
       "      <td>0.627667</td>\n",
       "      <td>48.437785</td>\n",
       "      <td>5.166575</td>\n",
       "      <td>0.106664</td>\n",
       "      <td>0.451809</td>\n",
       "      <td>b'IMRPhenomD'</td>\n",
       "      <td>80.957316</td>\n",
       "    </tr>\n",
       "    <tr>\n",
       "      <th>7</th>\n",
       "      <td>924.807420</td>\n",
       "      <td>1080.356518</td>\n",
       "      <td>2565.594027</td>\n",
       "      <td>0.817343</td>\n",
       "      <td>924.807420</td>\n",
       "      <td>1080.356518</td>\n",
       "      <td>2565.594027</td>\n",
       "      <td>0.817343</td>\n",
       "      <td>-0.910816</td>\n",
       "      <td>16.017793</td>\n",
       "      <td>2.260788</td>\n",
       "      <td>0.141142</td>\n",
       "      <td>3.311528</td>\n",
       "      <td>b'IMRPhenomD'</td>\n",
       "      <td>74.167630</td>\n",
       "    </tr>\n",
       "    <tr>\n",
       "      <th>8</th>\n",
       "      <td>1.287816</td>\n",
       "      <td>620.860268</td>\n",
       "      <td>2850.996968</td>\n",
       "      <td>0.811749</td>\n",
       "      <td>1.287816</td>\n",
       "      <td>620.860268</td>\n",
       "      <td>2850.996968</td>\n",
       "      <td>0.811749</td>\n",
       "      <td>0.961688</td>\n",
       "      <td>9.920316</td>\n",
       "      <td>1.330151</td>\n",
       "      <td>0.134083</td>\n",
       "      <td>2.643927</td>\n",
       "      <td>b'IMRPhenomD'</td>\n",
       "      <td>59.470214</td>\n",
       "    </tr>\n",
       "    <tr>\n",
       "      <th>9</th>\n",
       "      <td>1532.263730</td>\n",
       "      <td>2409.690379</td>\n",
       "      <td>418.617545</td>\n",
       "      <td>0.800414</td>\n",
       "      <td>1537.213387</td>\n",
       "      <td>2410.695433</td>\n",
       "      <td>414.988671</td>\n",
       "      <td>0.801464</td>\n",
       "      <td>-0.554800</td>\n",
       "      <td>5.691874</td>\n",
       "      <td>1.697490</td>\n",
       "      <td>0.298230</td>\n",
       "      <td>3.966257</td>\n",
       "      <td>b'IMRPhenomD'</td>\n",
       "      <td>13.890744</td>\n",
       "    </tr>\n",
       "  </tbody>\n",
       "</table>\n",
       "</div>"
      ],
      "text/plain": [
       "        Host_x       Host_y       Host_z  Host_redshift         DS_x  \\\n",
       "0   651.933995   402.188065  2806.954546       0.808803   651.933995   \n",
       "1  1901.947841   477.181005  2147.676656       0.808301  1901.947841   \n",
       "2   792.327061  2056.292634  1873.462461       0.802654   796.891722   \n",
       "3  2566.548362    58.913997  1323.989640       0.801273  2571.261103   \n",
       "4  1165.316454  2573.915761   575.600923       0.799466  1165.316454   \n",
       "5  1690.215609  1708.191465  1620.095871       0.804719  1691.545189   \n",
       "6  1794.658786  1246.884474  1882.023962       0.799664  1794.954494   \n",
       "7   924.807420  1080.356518  2565.594027       0.817343   924.807420   \n",
       "8     1.287816   620.860268  2850.996968       0.811749     1.287816   \n",
       "9  1532.263730  2409.690379   418.617545       0.800414  1537.213387   \n",
       "\n",
       "          DS_y         DS_z  DS_redshift  cos_orbital_incl         M1  \\\n",
       "0   402.188065  2806.954546     0.808803          0.793474  10.569518   \n",
       "1   477.181005  2147.676656     0.808301         -0.615400  26.536605   \n",
       "2  2051.491963  1868.765822     0.800800          0.228812  38.501322   \n",
       "3    58.839892  1319.617234     0.802053          0.694977  14.085194   \n",
       "4  2573.915761   575.600923     0.799466         -0.838562   5.332573   \n",
       "5  1707.465640  1623.334204     0.805490         -0.871574  13.908275   \n",
       "6  1253.441632  1883.973892     0.801195          0.627667  48.437785   \n",
       "7  1080.356518  2565.594027     0.817343         -0.910816  16.017793   \n",
       "8   620.860268  2850.996968     0.811749          0.961688   9.920316   \n",
       "9  2410.695433   414.988671     0.801464         -0.554800   5.691874   \n",
       "\n",
       "          M2         q       psi     Aproximant         SNR  \n",
       "0   5.143687  0.486653  2.550917  b'IMRPhenomD'   96.279798  \n",
       "1   5.515256  0.207836  3.274064  b'IMRPhenomD'   81.336203  \n",
       "2  29.412304  0.763930  3.479153  b'IMRPhenomD'  114.008069  \n",
       "3   1.642785  0.116632  4.078907  b'IMRPhenomD'   29.901415  \n",
       "4   2.141039  0.401502  2.813217  b'IMRPhenomD'   22.195059  \n",
       "5   5.170403  0.371750  2.143557  b'IMRPhenomD'   72.726116  \n",
       "6   5.166575  0.106664  0.451809  b'IMRPhenomD'   80.957316  \n",
       "7   2.260788  0.141142  3.311528  b'IMRPhenomD'   74.167630  \n",
       "8   1.330151  0.134083  2.643927  b'IMRPhenomD'   59.470214  \n",
       "9   1.697490  0.298230  3.966257  b'IMRPhenomD'   13.890744  "
      ]
     },
     "execution_count": 8,
     "metadata": {},
     "output_type": "execute_result"
    }
   ],
   "source": [
    "EVA.head(10)"
   ]
  },
  {
   "cell_type": "code",
   "execution_count": 9,
   "id": "a0cf88c5",
   "metadata": {},
   "outputs": [
    {
     "name": "stdout",
     "output_type": "stream",
     "text": [
      "In totale sono 11 parametri da inserire\n",
      "e sono {'Mc': 0, 'eta': 1, 'dL': 2, 'theta': 3, 'phi': 4, 'iota': 5, 'psi': 6, 'tcoal': 7, 'Phicoal': 8, 'chi1z': 9, 'chi2z': 10}\n"
     ]
    }
   ],
   "source": [
    "ParNums = IMRPhenomD().ParNums\n",
    "print('In totale sono {} parametri da inserire\\ne sono {}'.format(len(ParNums),ParNums))"
   ]
  },
  {
   "cell_type": "code",
   "execution_count": 10,
   "id": "8dcb819f",
   "metadata": {},
   "outputs": [],
   "source": [
    "allm1=np.asarray(EVA['M1'])\n",
    "allm2=np.asarray(EVA['M2'])\n",
    "allMc=chirp_mass(allm1,allm2)\n",
    "allq=np.asarray(EVA['q'])\n",
    "alleta=allq/(1+allq**2)\n",
    "allcos=np.asarray(EVA['cos_orbital_incl'])\n",
    "alliota=np.arccos(allcos)\n",
    "allpsi=np.asarray(EVA['psi'])/2\n",
    "tGPS = np.array([1187008882.4])#arbitrario\n",
    "allz=np.asarray(EVA['DS_redshift'])\n",
    "alldsx=np.asarray(EVA['DS_x'])\n",
    "alldsy=np.asarray(EVA['DS_y'])\n",
    "alldsz=np.asarray(EVA['DS_z'])\n",
    "allphi=np.zeros(len(alldsx))\n",
    "alltheta=np.zeros(len(alldsx))\n",
    "for i in range(len(alldsx)):\n",
    "    allphi[i]=phi_from_cart(alldsx[i],alldsy[i])\n",
    "    alltheta[i]=theta_from_cart(alldsx[i],alldsy[i],alldsz[i])\n",
    "alldl=cosmoeuclid.luminosity_distance(allz).value/1000.\n",
    "\n",
    "\n",
    "tcoal=np.asarray(GPSt_to_LMST(tGPS, lat=0., long=0.))"
   ]
  },
  {
   "cell_type": "code",
   "execution_count": 11,
   "id": "ebd5c111",
   "metadata": {},
   "outputs": [],
   "source": [
    "quanti=int(1)\n",
    "Allevents = {'Mc':1*allMc[0:quanti]*(1+allz)[0:quanti],\n",
    "            'dL':alldl[0:quanti],\n",
    "            'theta':alltheta[0:quanti],\n",
    "            'phi':allphi[0:quanti],\n",
    "            'iota':alliota[0:quanti],\n",
    "            'psi':allpsi[0:quanti],\n",
    "            'tcoal':1*tcoal*np.ones(len(allMc))[0:quanti], # GMST is LMST computed at long = 0°\n",
    "            'eta':alleta[0:quanti],\n",
    "            'Phicoal':0.001*np.ones(len(allMc))[0:quanti],\n",
    "            'chi1z':0.*np.ones(len(allMc))[0:quanti],\n",
    "            'chi2z':0.*np.ones(len(allMc))[0:quanti]\n",
    "            ,#'chi2z':np.zeros(len(allMc))[0:1]\n",
    "           }"
   ]
  },
  {
   "cell_type": "code",
   "execution_count": 12,
   "id": "283b55b5",
   "metadata": {},
   "outputs": [
    {
     "name": "stdout",
     "output_type": "stream",
     "text": [
      "Saving to /home/rciancarella/DarkSirensStat/ProxyGenerator/myfirstevent.h5 \n"
     ]
    }
   ],
   "source": [
    "#save_path='/home/rciancarella/DarkSirensStat/GWfast/myfirstevent.h5'\n",
    "gwfast.gwfastUtils.save_data(COV_SAVE_PATH+'myfirstevent.h5', Allevents)"
   ]
  },
  {
   "cell_type": "code",
   "execution_count": 13,
   "id": "5bd1fbc9",
   "metadata": {},
   "outputs": [
    {
     "name": "stdout",
     "output_type": "stream",
     "text": [
      "Computing Fisher for ET...\n",
      "Computing derivatives...\n",
      "Filling matrix for arm 1...\n",
      "Computing derivatives...\n",
      "Filling matrix for arm 2...\n",
      "Filling matrix for arm 3...\n",
      "Done.\n",
      "The computed Fisher matrix has shape (11, 11, 1)\n"
     ]
    }
   ],
   "source": [
    "totFET = myET.FisherMatr(Allevents)\n",
    "print('The computed Fisher matrix has shape %s'%str(totFET.shape))"
   ]
  },
  {
   "cell_type": "code",
   "execution_count": 23,
   "id": "98fa60b3",
   "metadata": {},
   "outputs": [
    {
     "ename": "NameError",
     "evalue": "name 'lines' is not defined",
     "output_type": "error",
     "traceback": [
      "\u001b[0;31m---------------------------------------------------------------------------\u001b[0m",
      "\u001b[0;31mNameError\u001b[0m                                 Traceback (most recent call last)",
      "Input \u001b[0;32mIn [23]\u001b[0m, in \u001b[0;36m<cell line: 4>\u001b[0;34m()\u001b[0m\n\u001b[1;32m      3\u001b[0m fixedFIM, newPars\u001b[38;5;241m=\u001b[39mfixParams(totFET,IMRPhenomD()\u001b[38;5;241m.\u001b[39mParNums,tofix_ParNums)\n\u001b[1;32m      4\u001b[0m \u001b[38;5;28;01mwith\u001b[39;00m \u001b[38;5;28mopen\u001b[39m(COV_SAVE_PATH\u001b[38;5;241m+\u001b[39m\u001b[38;5;124m'\u001b[39m\u001b[38;5;124mparam.txt\u001b[39m\u001b[38;5;124m'\u001b[39m, \u001b[38;5;124m'\u001b[39m\u001b[38;5;124mw\u001b[39m\u001b[38;5;124m'\u001b[39m) \u001b[38;5;28;01mas\u001b[39;00m f:\n\u001b[0;32m----> 5\u001b[0m     \u001b[38;5;28;01mfor\u001b[39;00m line \u001b[38;5;129;01min\u001b[39;00m \u001b[43mlines\u001b[49m:\n\u001b[1;32m      6\u001b[0m         f\u001b[38;5;241m.\u001b[39mwrite(\u001b[38;5;124mf\u001b[39m\u001b[38;5;124m\"\u001b[39m\u001b[38;5;132;01m{\u001b[39;00mline\u001b[38;5;132;01m}\u001b[39;00m\u001b[38;5;130;01m\\n\u001b[39;00m\u001b[38;5;124m\"\u001b[39m)\n",
      "\u001b[0;31mNameError\u001b[0m: name 'lines' is not defined"
     ]
    }
   ],
   "source": [
    "tofix_ParNums = list(IMRPhenomD().ParNums.keys())\n",
    "tofix_ParNums = [e for e in tofix_ParNums if e in  ('chi1z','chi2z','tcoal','Phicoal')]\n",
    "fixedFIM, newPars=fixParams(totFET,IMRPhenomD().ParNums,tofix_ParNums)"
   ]
  },
  {
   "cell_type": "code",
   "execution_count": 29,
   "id": "0f39b6f9",
   "metadata": {},
   "outputs": [
    {
     "name": "stdout",
     "output_type": "stream",
     "text": [
      "['Mc' 'eta' 'dL' 'theta' 'phi' 'iota' 'psi']\n",
      "<class 'numpy.ndarray'>\n"
     ]
    }
   ],
   "source": [
    "print(np.array(list(newPars.keys())))\n",
    "keys=np.array(list(newPars.keys()))\n",
    "print(type(keys))\n",
    "import pickle\n",
    "with open(COV_SAVE_PATH+'param.plk', 'wb') as file:\n",
    "    pickle.dump(keys, file)"
   ]
  },
  {
   "cell_type": "code",
   "execution_count": 19,
   "id": "7970adf1",
   "metadata": {},
   "outputs": [],
   "source": [
    "totCov_ET, inversion_err_ET = CovMatr(fixedFIM)"
   ]
  },
  {
   "cell_type": "code",
   "execution_count": 20,
   "id": "1bf82cae",
   "metadata": {},
   "outputs": [
    {
     "name": "stdout",
     "output_type": "stream",
     "text": [
      "Inversion errors: [1.28721922e-10]\n",
      "diagonal-1 = [array([ 1.17655885e-13,  8.14626144e-15, -5.49940952e-14, -3.85524945e-14,\n",
      "       -2.22183383e-14, -2.66252949e-14, -2.20101715e-14], dtype=float128)]\n",
      "Max off diagonal: [9.8339114629197865725e-11]\n",
      "\n",
      "mask: where F*S(off-diagonal)>1e-10 (--> problematic if True off diagonal)\n",
      "[array([[ True, False, False, False, False, False, False],\n",
      "       [False,  True, False, False, False, False, False],\n",
      "       [False, False,  True, False, False, False, False],\n",
      "       [False, False, False,  True, False, False, False],\n",
      "       [False, False, False, False,  True, False, False],\n",
      "       [False, False, False, False, False,  True, False],\n",
      "       [False, False, False, False, False, False,  True]])]\n"
     ]
    },
    {
     "data": {
      "text/plain": [
       "[array([[ 1.00000000e+00, -1.93872696e-14,  5.55007751e-18,\n",
       "         -6.86625236e-16,  3.63478778e-17,  2.09450072e-18,\n",
       "         -1.21213803e-16],\n",
       "        [-2.29816166e-14,  1.00000000e+00,  1.22446553e-18,\n",
       "         -4.98841420e-16,  1.77077320e-16, -1.48506051e-17,\n",
       "         -3.49709411e-16],\n",
       "        [ 9.83391146e-11,  1.93551841e-11,  1.00000000e+00,\n",
       "         -8.91953178e-13,  3.25045546e-13, -3.91078229e-14,\n",
       "          2.89546165e-13],\n",
       "        [-4.89919216e-12, -8.38440428e-13,  5.91749922e-16,\n",
       "          1.00000000e+00,  4.26915447e-15, -1.33127830e-15,\n",
       "         -1.32723693e-14],\n",
       "        [-4.00035560e-12, -7.80353560e-12,  6.14800908e-15,\n",
       "         -9.50906021e-14,  1.00000000e+00,  5.52975634e-15,\n",
       "         -4.42770820e-14],\n",
       "        [-8.39719405e-11,  6.32027763e-12,  4.77799088e-15,\n",
       "          1.38999923e-13,  7.48706652e-15,  1.00000000e+00,\n",
       "         -1.45494727e-13],\n",
       "        [-1.28721922e-10,  1.20934374e-11,  1.73240599e-15,\n",
       "          2.40807374e-13,  2.89490654e-14, -3.92914867e-16,\n",
       "          1.00000000e+00]], dtype=float128)]"
      ]
     },
     "execution_count": 20,
     "metadata": {},
     "output_type": "execute_result"
    }
   ],
   "source": [
    "check_covariance(fixedFIM,totCov_ET)"
   ]
  },
  {
   "cell_type": "code",
   "execution_count": 25,
   "id": "5287e155",
   "metadata": {},
   "outputs": [],
   "source": [
    "name='covar_test'"
   ]
  },
  {
   "cell_type": "code",
   "execution_count": 30,
   "id": "724806df",
   "metadata": {},
   "outputs": [
    {
     "name": "stdout",
     "output_type": "stream",
     "text": [
      "Mc\n",
      "eta\n",
      "dL\n",
      "theta\n",
      "phi\n",
      "iota\n",
      "psi\n"
     ]
    }
   ],
   "source": [
    "mymu=np.zeros(len(keys))\n",
    "for i,j in enumerate(keys):\n",
    "    mymu[i]=Allevents[j]\n",
    "    print(j)\n",
    "#mymu[0]=Allevents['dL']\n",
    "#mymu[1]=Allevents['theta']\n",
    "#mymu[2]=Allevents['phi']\n",
    "#mymu[3]=Allevents['eta']\n",
    "#mymu[4]=Allevents['Mc']\n",
    "#mymu[5]=Allevents['iota']\n",
    "#mymu[6]=Allevents['psi']\n",
    "#keys=['dL', 'theta', 'phi', 'Mc', 'eta', 'iota', 'psi']"
   ]
  },
  {
   "cell_type": "code",
   "execution_count": 31,
   "id": "d224a8da",
   "metadata": {},
   "outputs": [],
   "source": [
    "np.save(COV_SAVE_PATH+name,totCov_ET)\n",
    "os.chdir(COV_SAVE_PATH)\n",
    "#parname='param.txt'\n",
    "#np.savetxt(parname,keys,fmt='%s')\n",
    "np.savetxt('mean.txt',mymu)"
   ]
  },
  {
   "cell_type": "code",
   "execution_count": 28,
   "id": "122c747a",
   "metadata": {},
   "outputs": [
    {
     "name": "stdout",
     "output_type": "stream",
     "text": [
      "[40.934412]\n",
      "The estimated sky location is 7.9 deg^2\n"
     ]
    }
   ],
   "source": [
    "SNR_ET = myET.SNR(Allevents)\n",
    "#print('SNR is %.2f '%SNR)\n",
    "print(SNR_ET)\n",
    "skyArea = compute_localization_region(totCov_ET, newPars, Allevents['theta'])\n",
    "print('The estimated sky location is %.1f deg^2'%skyArea)"
   ]
  },
  {
   "cell_type": "code",
   "execution_count": null,
   "id": "fedfa2b4",
   "metadata": {},
   "outputs": [],
   "source": []
  }
 ],
 "metadata": {
  "kernelspec": {
   "display_name": "Python 3 (ipykernel)",
   "language": "python",
   "name": "python3"
  },
  "language_info": {
   "codemirror_mode": {
    "name": "ipython",
    "version": 3
   },
   "file_extension": ".py",
   "mimetype": "text/x-python",
   "name": "python",
   "nbconvert_exporter": "python",
   "pygments_lexer": "ipython3",
   "version": "3.10.12"
  }
 },
 "nbformat": 4,
 "nbformat_minor": 5
}
