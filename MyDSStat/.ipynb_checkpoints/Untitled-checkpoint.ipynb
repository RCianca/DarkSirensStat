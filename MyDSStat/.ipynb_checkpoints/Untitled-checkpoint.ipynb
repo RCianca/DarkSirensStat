{
 "cells": [
  {
   "cell_type": "code",
   "execution_count": 1,
   "id": "2b7ea345",
   "metadata": {},
   "outputs": [],
   "source": [
    "#plotter per unire più run e più posterior\n",
    "#------------------Import--------------------------------\n",
    "from scipy import interpolate\n",
    "from scipy import integrate\n",
    "import scipy\n",
    "from scipy.optimize import curve_fit\n",
    "from scipy.signal import find_peaks\n",
    "import numpy as np\n",
    "import healpy as hp\n",
    "import matplotlib.pyplot as plt\n",
    "import matplotlib.pylab as pl\n",
    "import os \n",
    "import statistics as stat\n"
   ]
  },
  {
   "cell_type": "code",
   "execution_count": 2,
   "id": "2bf44ea3",
   "metadata": {},
   "outputs": [
    {
     "ename": "FileNotFoundError",
     "evalue": "[Errno 2] No such file or directory: '/results/Beta-dl_max_dl_min_nearmu_sigma10_big'",
     "output_type": "error",
     "traceback": [
      "\u001b[0;31m---------------------------------------------------------------------------\u001b[0m",
      "\u001b[0;31mFileNotFoundError\u001b[0m                         Traceback (most recent call last)",
      "Input \u001b[0;32mIn [2]\u001b[0m, in \u001b[0;36m<cell line: 4>\u001b[0;34m()\u001b[0m\n\u001b[1;32m      2\u001b[0m folder\u001b[38;5;241m=\u001b[39m\u001b[38;5;124m'\u001b[39m\u001b[38;5;124m/results\u001b[39m\u001b[38;5;124m'\u001b[39m\n\u001b[1;32m      3\u001b[0m datapath\u001b[38;5;241m=\u001b[39mos\u001b[38;5;241m.\u001b[39mpath\u001b[38;5;241m.\u001b[39mjoin(folder,runpath)\n\u001b[0;32m----> 4\u001b[0m \u001b[43mos\u001b[49m\u001b[38;5;241;43m.\u001b[39;49m\u001b[43mchdir\u001b[49m\u001b[43m(\u001b[49m\u001b[43mdatapath\u001b[49m\u001b[43m)\u001b[49m\n",
      "\u001b[0;31mFileNotFoundError\u001b[0m: [Errno 2] No such file or directory: '/results/Beta-dl_max_dl_min_nearmu_sigma10_big'"
     ]
    }
   ],
   "source": [
    "runpath='Beta-dl_max_dl_min_nearmu_sigma10_big'\n",
    "folder='results'\n",
    "datapath=os.path.join(folder,runpath)\n",
    "os.chdir(datapath)"
   ]
  },
  {
   "cell_type": "markdown",
   "id": "1fd5f6b8",
   "metadata": {},
   "source": [
    "# DS Cat"
   ]
  },
  {
   "cell_type": "code",
   "execution_count": null,
   "id": "aea87092",
   "metadata": {},
   "outputs": [],
   "source": [
    "all_dls=np.loadtxt('Beta-dl_max_dl_min_nearmu_sigma10_big_DSs.txt', usecols=2)\n",
    "all_zs=np.loadtxt('Beta-dl_max_dl_min_nearmu_sigma10_big_DSs.txt', usecols=3)\n",
    "dl_max=np.max(all_dls)\n",
    "dl_min=np.min(all_dls)\n",
    "dl_med=dl_min+(dl_max-dl_min)/2\n",
    "idx_max=np.where(all_dls==dl_max)[0][0]\n",
    "idx_min=np.where(all_dls==dl_min)[0][0]\n",
    "def find_nearest(array, value):\n",
    "    array = np.asarray(array)\n",
    "    idx = (np.abs(array - value)).argmin()\n",
    "    return array[idx]\n",
    "\n",
    "idx_med=np.where(all_dls==find_nearest(all_dls, value=dl_med))[0][0]\n",
    "\n",
    "print(idx_min,idx_max,idx_med)"
   ]
  },
  {
   "cell_type": "markdown",
   "id": "9ab97eeb",
   "metadata": {},
   "source": [
    "# $\\beta$-Plot"
   ]
  },
  {
   "cell_type": "code",
   "execution_count": null,
   "id": "36857c2e",
   "metadata": {},
   "outputs": [],
   "source": [
    "x=np.loadtxt('Beta-dl_max_dl_min_nearmu_sigma10_big_H0grid.txt')\n",
    "betavol=np.loadtxt('/home/rciancarella/DarkSirensStat/MyDSStat/results/volbeta/betatest_beta.txt')\n",
    "betatest=np.loadtxt('Beta-dl_max_dl_min_nearmu_sigma10_big_beta.txt')\n",
    "\n",
    "colors=pl.cm.turbo(np.linspace(0.01,0.99,300))\n",
    "fig, ax = plt.subplots(1, figsize=(15,10)) #crea un tupla che poi è più semplice da gestire\n",
    "ax.tick_params(axis='both', which='major', labelsize=25)\n",
    "ax.yaxis.get_offset_text().set_fontsize(25)\n",
    "ax.grid(linestyle='dotted', linewidth='0.6')#griglia in sfondo\n",
    "\n",
    "ax.set_xlim(xmin, xmax)\n",
    "ax.set_xlabel(r'$H_0(Km/s/Mpc)$', fontsize=30)\n",
    "#ax.set_ylabel(r'$P(H_0)$', fontsize=20)\n",
    "ax.set_ylabel(r'$beta(H_0)$', fontsize=30)\n",
    "                     \n",
    "#ax.plot(x,betavol,label='betavol',color='indigo',linewidth=3)\n",
    "#ax.plot(x,betacat,label='betacat',color='salmon',linewidth=3)\n",
    "#ax.plot(x,betacat2,label='betacat2',color='cyan',linewidth=3)\n",
    "#ax.plot(x,(betacat3),label='betacat3',color='forestgreen',linewidth=3)\n",
    "#ax.plot(x,(betacat4),label='betacat4',color='firebrick',linewidth=3)\n",
    "#ax.plot(x,(betacat37),label='betacat37',color='deeppink',linewidth=3)\n",
    "#ax.plot(x,(betaEnzo),label='betaEnzo',color='wheat',linewidth=3)\n",
    "\n",
    "for i in range(len(betatest)):\n",
    "    ax.plot(x,betatest[i],color=colors[i*2],linewidth=3)#,label='betatest'+str(i))\n",
    "\n",
    "ax.plot(x,betatest[idx_max],label='betavol_dlmax',color='k',linewidth=4,linestyle='dashed')\n",
    "ax.plot(x,betatest[idx_min],label='betavol_dlmin',color='k',linewidth=4,linestyle='dotted')\n",
    "ax.plot(x,betatest[idx_med],label='betavol_dlmed',color='k',linewidth=4,linestyle='solid')\n",
    "ax.legend(fontsize=13, ncol=1)                     "
   ]
  },
  {
   "cell_type": "code",
   "execution_count": null,
   "id": "bf74107b",
   "metadata": {},
   "outputs": [],
   "source": []
  }
 ],
 "metadata": {
  "kernelspec": {
   "display_name": "Python 3 (ipykernel)",
   "language": "python",
   "name": "python3"
  },
  "language_info": {
   "codemirror_mode": {
    "name": "ipython",
    "version": 3
   },
   "file_extension": ".py",
   "mimetype": "text/x-python",
   "name": "python",
   "nbconvert_exporter": "python",
   "pygments_lexer": "ipython3",
   "version": "3.10.6"
  }
 },
 "nbformat": 4,
 "nbformat_minor": 5
}
