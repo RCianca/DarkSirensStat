{
 "cells": [
  {
   "cell_type": "code",
   "execution_count": 2,
   "id": "39c6e132",
   "metadata": {},
   "outputs": [],
   "source": [
    "#plotter per unire più run e più posterior\n",
    "#------------------Import--------------------------------\n",
    "import numpy as np\n",
    "#import healpy as hp\n",
    "import pandas as pd\n",
    "from scipy import integrate\n",
    "import matplotlib.pyplot as plt\n",
    "import matplotlib.pylab as pl\n",
    "import os \n",
    "import statistics as stat\n",
    "from multiprocessing import Pool\n",
    "import multiprocessing\n",
    "from tqdm import tqdm\n",
    "folder='/home/rciancarella/DarkSirensStat/MyDSStat/results/'\n",
    "#folder='/home/raul/DarkSirensStat/MyDSStat/results/'\n",
    "os.chdir(folder)"
   ]
  },
  {
   "cell_type": "markdown",
   "id": "401d10c3",
   "metadata": {},
   "source": [
    "# Data"
   ]
  },
  {
   "cell_type": "code",
   "execution_count": null,
   "id": "1348f83a",
   "metadata": {},
   "outputs": [],
   "source": [
    "runpath='0F_fullexplorer-02'#'Mega450-FullBig_00'\n",
    "datapath=os.path.join(folder,runpath)\n",
    "os.chdir(datapath)\n",
    "dscat = pd.read_csv(runpath + '_DSs.txt', sep=\" \", header=None)\n",
    "colnames=['Ngal','Comoving Distance','Luminosity Distance','z','phi','theta','scattered DL']\n",
    "dscat.columns=colnames\n",
    "os.chdir(datapath)\n",
    "all_dls=np.loadtxt(runpath+'_DSs.txt', usecols=6)#if there is scattering\n",
    "all_true_dls=np.loadtxt(runpath+'_DSs.txt', usecols=2)\n",
    "all_zs=np.loadtxt(runpath+'_DSs.txt', usecols=3)\n",
    "dl_max=np.max(all_dls)\n",
    "dl_min=np.min(all_dls)\n",
    "#----------------------------------beta\n",
    "os.chdir(datapath)\n",
    "x=np.loadtxt(runpath+'_H0grid.txt')\n",
    "xmin=np.min(x)\n",
    "xmax=np.max(x)\n",
    "#betavol=np.loadtxt('/home/rciancarella/DarkSirensStat/MyDSStat/results/volbeta/betatest_beta.txt')\n",
    "betatest=np.loadtxt(runpath+'_beta.txt')\n",
    "#singlebeta=np.loadtxt(runpath+'_singlebeta.txt')\n",
    "singlebeta=np.loadtxt(runpath+'_singlebeta.txt')"
   ]
  },
  {
   "cell_type": "markdown",
   "id": "e10ca23e",
   "metadata": {},
   "source": [
    "Catalogo Galassie"
   ]
  },
  {
   "cell_type": "code",
   "execution_count": null,
   "id": "a5d409c1",
   "metadata": {},
   "outputs": [],
   "source": [
    "ref_folder='/home/rciancarella/DarkSirensStat/MyDSStat/'\n",
    "cat_name='half_flag.txt'#FullExplorer_big.txt\n",
    "#datapath=os.path.join(ref_folder,cat_name)\n",
    "os.chdir(ref_folder)\n",
    "\n",
    "Uniform_Cat = pd.read_csv(cat_name, sep=\" \", header=None)\n",
    "colnames=['Ngal','Comoving Distance','Luminosity Distance','z','phi','theta','scattered DL']\n",
    "Uniform_Cat.columns=colnames\n",
    "dlmaxcat=Uniform_Cat['scattered DL'].max()\n",
    "dlmincat=Uniform_Cat['scattered DL'].min()\n",
    "allz=Uniform_Cat['z']"
   ]
  },
  {
   "cell_type": "markdown",
   "id": "33d793b0",
   "metadata": {},
   "source": [
    "# Posterior"
   ]
  },
  {
   "cell_type": "code",
   "execution_count": null,
   "id": "ee88f998",
   "metadata": {},
   "outputs": [],
   "source": [
    "os.chdir(datapath)\n",
    "likes=np.loadtxt(runpath +'_fullrun.txt')\n",
    "NDS=np.shape(likes)[0]\n",
    "#mybeta=np.loadtxt('/home/rciancarella/DarkSirensStat/MyDSStat/results/MyBeta/MyBeta_beta.txt')"
   ]
  },
  {
   "cell_type": "code",
   "execution_count": null,
   "id": "5ad3988e",
   "metadata": {},
   "outputs": [],
   "source": [
    "NDS=np.shape(likes)[0]\n",
    "final_post_by_like=[]\n",
    "for i in range(NDS):\n",
    "    final_post_by_like.append(likes[i]/betatest[i])\n",
    "#final_post_by_like.pop(210)\n",
    "combined=[]\n",
    "for i in range(len(final_post_by_like)):\n",
    "    #combined=combined+post[i]\n",
    "    if i==0:\n",
    "        combined.append(final_post_by_like[i]*1)\n",
    "    else:\n",
    "        num=np.float128(combined[i-1]*(final_post_by_like[i]*1))\n",
    "        combined.append(num)\n",
    "totpost_like=combined[-1]\n",
    "all_norm_post=[]\n",
    "for i in range(NDS):\n",
    "    post=likes[i]/betatest[i]\n",
    "    post=post/np.trapz(post,x)\n",
    "    all_norm_post.append(post)"
   ]
  },
  {
   "cell_type": "code",
   "execution_count": null,
   "id": "6c11d0ea",
   "metadata": {},
   "outputs": [],
   "source": [
    "fig, ax = plt.subplots(1, figsize=(15,10)) #crea un tupla che poi è più semplice da gestire\n",
    "ax.tick_params(axis='both', which='major', labelsize=25)\n",
    "ax.yaxis.get_offset_text().set_fontsize(25)\n",
    "ax.grid(linestyle='dotted', linewidth='0.6')#griglia in sfondo\n",
    "\n",
    "href=67\n",
    "ax.set_xlim(xmin, xmax)\n",
    "ax.set_xlabel(r'$H_0(Km/s/Mpc)$', fontsize=30)\n",
    "#ax.set_ylabel(r'$P(H_0)$', fontsize=20)\n",
    "ax.set_ylabel(r'$f(H_0)$', fontsize=30)\n",
    "if xmin<href<xmax:\n",
    "    ax.axvline(x = href, color = 'k', linestyle='dashdot',label = 'H0=67')\n",
    "\n",
    "\n",
    "ax.plot(x,totpost_like/np.trapz(totpost_like,x),label='Post',color='k',linewidth=4,linestyle='solid')\n",
    "newdist=(totpost_like)/np.trapz(totpost_like,x)\n",
    "mean=np.trapz(x*newdist,x)/np.trapz(newdist,x)\n",
    "std=np.sqrt(np.trapz(newdist*(x-mean)**2,x)/np.trapz(newdist,x))\n",
    "plt.figtext(0.75,0.75,'Mean={:0.2f}'.format(mean),fontsize=18,c='k')\n",
    "plt.figtext(0.75,0.70,'Std={:0.2f}'.format(std),fontsize=18, c='k')"
   ]
  },
  {
   "cell_type": "markdown",
   "id": "6f31018a",
   "metadata": {},
   "source": [
    "# More Betas"
   ]
  },
  {
   "cell_type": "code",
   "execution_count": 8,
   "id": "87f6ea23",
   "metadata": {},
   "outputs": [],
   "source": [
    "from astropy.cosmology import FlatLambdaCDM\n",
    "from scipy.optimize import fsolve\n",
    "from numba import njit\n",
    "#import numba_special\n",
    "import multiprocessing\n",
    "from scipy import special\n",
    "#-----------------------Costants-----------------------------------------\n",
    "href=67 #69\n",
    "Om0GLOB=0.319\n",
    "Xi0Glob =1.\n",
    "clight = 2.99792458* 10**5#km/s\n",
    "#cosmoflag = FlatLambdaCDM(H0=href, Om0=Om0GLOB)\n",
    "\n",
    "#H0min=60#30\n",
    "#H0max=76#140\n",
    "#H0Grid=np.linspace(H0min,H0max,1000)\n",
    "mydlmax=10_400#Dl_z(zds_max,href,Om0GLOB)\n",
    "mydlmin=8_950#Dl_z(zds_min,href,Om0GLOB)\n",
    "#z_sup=Uniform_Cat['z'].max()\n",
    "#z_inf=Uniform_Cat['z'].min()\n",
    "#datatmp=Uniform_Cat[(Uniform_Cat['scattered DL']>=mydlmin) &(Uniform_Cat['scattered DL']<=mydlmax)]\n",
    "#myallz=datatmp['z']\n",
    "#myallz=np.asarray(myallz)\n",
    "@njit\n",
    "def E_z(z, H0, Om=Om0GLOB):\n",
    "    return np.sqrt(Om*(1+z)**3+(1-Om))\n",
    "\n",
    "def r_z(z, H0, Om=Om0GLOB):\n",
    "    c = clight\n",
    "    integrand = lambda x : 1/E_z(x, H0, Om)\n",
    "    integral, error = integrate.quad(integrand, 0, z)\n",
    "    return integral*c/H0\n",
    "\n",
    "def Dl_z(z, H0, Om=Om0GLOB):\n",
    "    return r_z(z, H0, Om)*(1+z)\n",
    "def volume(h,dl):\n",
    "    cosmo=FlatLambdaCDM(H0=h,Om0=Om0GLOB)\n",
    "    z=z_from_dl(h,dl)\n",
    "    vol=cosmo.comoving_volume(z).value\n",
    "    return vol\n",
    "\n",
    "def z_from_dl(h,dl):\n",
    "    func = lambda z :Dl_z(z, h, Om0GLOB) -dl\n",
    "    zmax = fsolve(func, 0.02)[0] \n",
    "    return zmax\n",
    "\n",
    "def beta_mod(h,dlmin,dlmax,zsup=z_sup,zinf=z_inf):\n",
    "    cosmo=FlatLambdaCDM(H0=h,Om0=Om0GLOB)\n",
    "    zmax=z_from_dl(h,dlmax)\n",
    "    zmin=z_from_dl(h,dlmin)\n",
    "    v_sup=cosmo.comoving_volume(zsup).value\n",
    "    v_inf=cosmo.comoving_volume(zinf).value\n",
    "    denom=v_sup-v_inf\n",
    "    if zmax<=zsup:\n",
    "        v_max=cosmo.comoving_volume(zmax).value\n",
    "    else:\n",
    "        v_max=v_sup\n",
    "    if zmin>=zinf:\n",
    "        v_min=cosmo.comoving_volume(zmin).value\n",
    "    else:\n",
    "        v_min=v_inf\n",
    "    tmp=(v_max-v_min)/(v_sup-v_inf)\n",
    "    return tmp\n",
    "\n",
    "s=0.01\n",
    "def beta_erf(h):\n",
    "    mymu=Dl_z(zz,h)\n",
    "    res=0.5*(special.erfc((mymu-mydlmax)/(np.sqrt(2)*s*mymu))-special.erfc((mymu-mydlmin)/(np.sqrt(2)*s*mymu)))\n",
    "    return res\n",
    "def beta_erfdl(iterator):\n",
    "    h=x[iterator]\n",
    "    to_sum=np.zeros(len(myallz))\n",
    "    for j in range(len(myallz)):\n",
    "        #dl=FlatLambdaCDM(H0=Htemp, Om0=Om0GLOB).luminosity_distance(z_gals[j]).value\n",
    "        dl = Dl_z(myallz[j], h)\n",
    "        tmp=0.5*(special.erfc((dl-mydlmin)/(np.sqrt(2)*s*dl))-special.erfc((dl-mydlmax)/(np.sqrt(2)*s*dl)))\n",
    "        to_sum[j]=tmp\n",
    "    res=np.sum(to_sum)#*norm\n",
    "    \n",
    "    return res\n",
    "def reverse_betaerf(iterator):\n",
    "    zz=myallz[iterator]\n",
    "    to_sum=np.zeros(len(x))\n",
    "    for j in range(len(x)):\n",
    "        #dl=FlatLambdaCDM(H0=Htemp, Om0=Om0GLOB).luminosity_distance(z_gals[j]).value\n",
    "        dl = Dl_z(zz, x[j])\n",
    "        tmp=0.5*(special.erfc((dl-mydlmin)/(np.sqrt(2)*s*dl))-special.erfc((dl-mydlmax)/(np.sqrt(2)*s*dl)))\n",
    "        to_sum[j]=tmp\n",
    "    return to_sum\n",
    "\n"
   ]
  },
  {
   "cell_type": "code",
   "execution_count": 9,
   "id": "b4c5d172",
   "metadata": {},
   "outputs": [],
   "source": [
    "@njit\n",
    "def stat_weights(array_of_z):\n",
    "    #alltheomega=w(array_of_z)\n",
    "    temp=np.interp(array_of_z,z_bin,w_hist)\n",
    "    return temp\n",
    "def calculate_to_sum(args):\n",
    "    z, x, mydlmin, mydlmax, s = args\n",
    "    to_sum = np.zeros(len(x))\n",
    "    for j in range(len(x)):\n",
    "        dl = Dl_z(z, x[j])\n",
    "        tmp = 0.5 * (special.erf((dl - mydlmin) / (np.sqrt(2) * s * dl)) - special.erf((dl - mydlmax) / (np.sqrt(2) * s * dl)))\n",
    "        to_sum[j] = tmp*stat_weights(z)\n",
    "    return to_sum\n",
    "\n",
    "def calculate_res(myallz, x, mydlmin, mydlmax, s):\n",
    "    res = np.zeros(len(x))\n",
    "    with Pool(processes=15) as pool:  # Adjust the number of processes as needed\n",
    "        to_sum_list = list(tqdm(pool.imap(calculate_to_sum, [(z, x, mydlmin, mydlmax, s) for z in myallz]), total=len(myallz)))\n",
    "    for to_sum in to_sum_list:\n",
    "        res += to_sum\n",
    "    return res\n",
    "\n",
    "\n"
   ]
  },
  {
   "cell_type": "code",
   "execution_count": null,
   "id": "4b30ecd6",
   "metadata": {},
   "outputs": [],
   "source": [
    "beta_plot=[]\n",
    "\n",
    "for h in x:\n",
    "    beta_plot.append(beta_mod(h,mydlmin,mydlmax))\n",
    "beta_plot=np.asarray(beta_plot)"
   ]
  },
  {
   "cell_type": "code",
   "execution_count": null,
   "id": "692b83d5",
   "metadata": {},
   "outputs": [],
   "source": [
    "z_tosum=[]\n",
    "#arr=np.arange(0,len(x),dtype=int)\n",
    "with Pool(15) as p, tqdm(total=len(myallz)) as pbar:\n",
    "    beta_guide=p.map(reverse_betaerf, range(len(myallz)))\n",
    "    z_tosum.append(beta_guide)\n",
    "    pbar.update(len(x))"
   ]
  },
  {
   "cell_type": "code",
   "execution_count": null,
   "id": "f4bf2f85",
   "metadata": {},
   "outputs": [],
   "source": [
    "myallz=allz#[0:300_000]\n",
    "result = calculate_res(myallz, x, mydlmin, mydlmax, s)\n",
    "print(np.shape(result))"
   ]
  },
  {
   "cell_type": "code",
   "execution_count": null,
   "id": "8278712e",
   "metadata": {},
   "outputs": [],
   "source": [
    "print(result)"
   ]
  },
  {
   "cell_type": "code",
   "execution_count": null,
   "id": "9eb22884",
   "metadata": {},
   "outputs": [],
   "source": [
    "#np.savetxt('betaerf_unif_fullbig.txt',result)\n",
    "galaxybeta=np.loadtxt('betaerf_unif_fullbig.txt')"
   ]
  },
  {
   "cell_type": "code",
   "execution_count": null,
   "id": "dd1db20c",
   "metadata": {},
   "outputs": [],
   "source": [
    "fig, ax = plt.subplots(1, figsize=(15,10)) #crea un tupla che poi è più semplice da gestire\n",
    "ax.tick_params(axis='both', which='major', labelsize=25)\n",
    "ax.yaxis.get_offset_text().set_fontsize(25)\n",
    "ax.grid(linestyle='dotted', linewidth='0.6')#griglia in sfondo\n",
    "\n",
    "href=67\n",
    "ax.set_xlim(np.min(x), np.max(x))\n",
    "ax.set_xlabel(r'$H_0$', fontsize=30)\n",
    "#ax.set_ylabel(r'$P(H_0)$', fontsize=20)\n",
    "ax.set_ylabel(r'$Beta(H_0)$', fontsize=30)\n",
    "#ax.plot(x,galaxybeta/np.trapz(galaxybeta,x),color='purple',label='GalaxyGuide',linewidth=4,linestyle='solid')\n",
    "#ax.plot(x,singlebeta/np.trapz(singlebeta,x),color='g',label='Script',linewidth=4,linestyle='dashed')\n",
    "ax.plot(x,x,color='g',label='Script',linewidth=4,linestyle='dashed')\n",
    "ax.legend()"
   ]
  },
  {
   "cell_type": "markdown",
   "id": "00e1e031",
   "metadata": {},
   "source": [
    "# Cluster Beta-erf"
   ]
  },
  {
   "cell_type": "code",
   "execution_count": 7,
   "id": "93a832a9",
   "metadata": {},
   "outputs": [],
   "source": [
    "clusterfolder='/home/rciancarella/DarkSirensStat/MyDSStat/ClusterPlotter/'\n",
    "ref_folder='/home/rciancarella/DarkSirensStat/MyDSStat/'\n",
    "cat_name='half_flag.txt'#FullExplorer_big.txt\n",
    "#datapath=os.path.join(ref_folder,cat_name)\n",
    "os.chdir(ref_folder)\n",
    "\n",
    "cat = pd.read_csv(cat_name, sep=\" \", header=None)\n",
    "colnames=['Ngal','Comoving Distance','Luminosity Distance','z','phi','theta','scattered DL']\n",
    "cat.columns=colnames\n",
    "dlmaxcat=cat['scattered DL'].max()\n",
    "dlmincat=cat['scattered DL'].min()\n",
    "allz=cat['z']\n",
    "z_sup=np.max(allz)\n",
    "z_inf=np.min(allz)\n",
    "z_bin=np.loadtxt('half_flag_bin.txt')\n",
    "w_hist=np.loadtxt('half_flag_bin_weights.txt')"
   ]
  },
  {
   "cell_type": "code",
   "execution_count": 10,
   "id": "429ab94e",
   "metadata": {},
   "outputs": [],
   "source": [
    "os.chdir(clusterfolder)"
   ]
  },
  {
   "cell_type": "code",
   "execution_count": 11,
   "id": "f4f226be",
   "metadata": {},
   "outputs": [],
   "source": [
    "x=np.loadtxt('0H-DefaultUniform_H0grid.txt')\n",
    "xmin=np.min(x)\n",
    "xmax=np.max(x)"
   ]
  },
  {
   "cell_type": "code",
   "execution_count": null,
   "id": "979a0447",
   "metadata": {},
   "outputs": [
    {
     "name": "stderr",
     "output_type": "stream",
     "text": [
      " 41%|███████████████████████▍                                 | 2882171/7023766 [1:51:28<258:45:30,  4.45it/s]IOStream.flush timed out\n",
      " 41%|███████████████████████▍                                 | 2882172/7023766 [1:52:17<751:43:55,  1.53it/s]IOStream.flush timed out\n",
      " 41%|██████████████████████▉                                 | 2882173/7023766 [1:52:46<1352:06:55,  1.18s/it]IOStream.flush timed out\n",
      " 41%|██████████████████████▉                                 | 2882174/7023766 [1:53:21<2014:26:43,  1.75s/it]IOStream.flush timed out\n",
      " 41%|██████████████████████▉                                 | 2882229/7023766 [1:55:47<1483:23:22,  1.29s/it]IOStream.flush timed out\n",
      " 41%|██████████████████████▉                                 | 2882231/7023766 [1:57:29<5409:54:23,  4.70s/it]IOStream.flush timed out\n",
      " 41%|██████████████████████▉                                 | 2882232/7023766 [1:57:58<6994:56:38,  6.08s/it]IOStream.flush timed out\n",
      " 41%|██████████████████████▉                                 | 2882233/7023766 [1:58:31<9148:46:42,  7.95s/it]IOStream.flush timed out\n",
      " 41%|██████████████████████▌                                | 2882234/7023766 [1:59:46<14158:19:56, 12.31s/it]IOStream.flush timed out\n",
      " 41%|███████████████████████▊                                  | 2883247/7023766 [2:01:21<3:54:12, 294.65it/s]IOStream.flush timed out\n",
      " 41%|███████████████████████▍                                 | 2883276/7023766 [2:02:06<160:25:18,  7.17it/s]IOStream.flush timed out\n",
      " 41%|███████████████████████▍                                 | 2883307/7023766 [2:02:52<816:24:40,  1.41it/s]IOStream.flush timed out\n",
      " 41%|███████████████████████▍                                 | 2883328/7023766 [2:03:26<797:05:38,  1.44it/s]IOStream.flush timed out\n",
      " 41%|██████████████████████▉                                 | 2883328/7023766 [2:03:43<1612:36:20,  1.40s/it]IOStream.flush timed out\n",
      " 41%|██████████████████████▉                                 | 2883329/7023766 [2:04:22<1612:36:19,  1.40s/it]IOStream.flush timed out\n",
      " 41%|██████████████████████▉                                 | 2883330/7023766 [2:05:06<3251:44:55,  2.83s/it]IOStream.flush timed out\n",
      " 41%|██████████████████████▉                                 | 2883331/7023766 [2:05:34<5401:03:39,  4.70s/it]IOStream.flush timed out\n",
      " 41%|███████████████████████▊                                  | 2886762/7023766 [2:15:16<20:12:46, 56.85it/s]IOStream.flush timed out\n",
      " 41%|███████████████████████▊                                  | 2888138/7023766 [2:16:05<9:14:33, 124.29it/s]IOStream.flush timed out\n",
      " 41%|███████████████████████▍                                 | 2891132/7023766 [2:22:43<183:38:11,  6.25it/s]IOStream.flush timed out\n",
      " 41%|███████████████████████▍                                 | 2891163/7023766 [2:23:16<331:46:09,  3.46it/s]IOStream.flush timed out\n",
      " 41%|███████████████████████▍                                 | 2891257/7023766 [2:23:31<221:12:23,  5.19it/s]IOStream.flush timed out\n",
      " 41%|███████████████████████▍                                 | 2891257/7023766 [2:25:50<221:12:23,  5.19it/s]IOStream.flush timed out\n",
      " 41%|███████████████████████                                 | 2891310/7023766 [2:26:01<1123:43:41,  1.02it/s]IOStream.flush timed out\n",
      " 41%|███████████████████████                                 | 2891311/7023766 [2:27:14<1946:47:35,  1.70s/it]IOStream.flush timed out\n",
      " 41%|███████████████████████                                 | 2891312/7023766 [2:28:12<2747:34:56,  2.39s/it]IOStream.flush timed out\n",
      " 41%|███████████████████████                                 | 2891313/7023766 [2:28:26<2927:25:02,  2.55s/it]IOStream.flush timed out\n",
      " 41%|███████████████████████▉                                  | 2891931/7023766 [2:29:31<57:16:13, 20.04it/s]IOStream.flush timed out\n",
      " 41%|███████████████████████▍                                 | 2892171/7023766 [2:30:15<112:15:13, 10.22it/s]IOStream.flush timed out\n",
      " 41%|███████████████████████▉                                  | 2892922/7023766 [2:34:29<38:32:38, 29.77it/s]"
     ]
    }
   ],
   "source": [
    "s=0.15\n",
    "mydlmax=10_400#Dl_z(zds_max,href,Om0GLOB)\n",
    "mydlmin=8_950#Dl_z(zds_min,href,Om0GLOB)\n",
    "\n",
    "myallz=allz\n",
    "result = calculate_res(myallz, x, mydlmin, mydlmax, s)\n",
    "print(np.shape(result))"
   ]
  },
  {
   "cell_type": "code",
   "execution_count": null,
   "id": "ba550b0b",
   "metadata": {},
   "outputs": [],
   "source": [
    "np.savetxt('betaerf_half_flag.txt',result)"
   ]
  },
  {
   "cell_type": "markdown",
   "id": "3a0cb881",
   "metadata": {},
   "source": [
    "\n",
    "\n",
    "# Change Beta"
   ]
  },
  {
   "cell_type": "code",
   "execution_count": null,
   "id": "0f9c8b45",
   "metadata": {},
   "outputs": [],
   "source": [
    "NDS=np.shape(likes)[0]\n",
    "Changed=[]\n",
    "for i in range(NDS):\n",
    "    Changed.append(likes[i]/result)\n",
    "#final_post_by_like.pop(210)\n",
    "combined=[]\n",
    "for i in range(len(Changed)):\n",
    "    #combined=combined+post[i]\n",
    "    if i==0:\n",
    "        combined.append(Changed[i]*1)\n",
    "    else:\n",
    "        num=np.float128(combined[i-1]*(Changed[i]*1))\n",
    "        combined.append(num)\n",
    "totpost_Changed=combined[-1]"
   ]
  },
  {
   "cell_type": "code",
   "execution_count": null,
   "id": "b3c62354",
   "metadata": {},
   "outputs": [],
   "source": [
    "NDS=np.shape(likes)[0]\n",
    "single=[]\n",
    "for i in range(NDS):\n",
    "    single.append(likes[i]/singlebeta)\n",
    "#final_post_by_like.pop(210)\n",
    "combined=[]\n",
    "for i in range(len(single)):\n",
    "    #combined=combined+post[i]\n",
    "    if i==0:\n",
    "        combined.append(single[i]*1)\n",
    "    else:\n",
    "        num=np.float128(combined[i-1]*(single[i]*1))\n",
    "        combined.append(num)\n",
    "totpost_single=combined[-1]"
   ]
  },
  {
   "cell_type": "code",
   "execution_count": null,
   "id": "036d6554",
   "metadata": {},
   "outputs": [],
   "source": [
    "fig, ax = plt.subplots(1, figsize=(15,10)) #crea un tupla che poi è più semplice da gestire\n",
    "ax.tick_params(axis='both', which='major', labelsize=25)\n",
    "ax.yaxis.get_offset_text().set_fontsize(25)\n",
    "ax.grid(linestyle='dotted', linewidth='0.6')#griglia in sfondo\n",
    "\n",
    "href=67\n",
    "ax.set_xlim(xmin, xmax)\n",
    "ax.set_xlabel(r'$H_0(Km/s/Mpc)$', fontsize=30)\n",
    "#ax.set_ylabel(r'$P(H_0)$', fontsize=20)\n",
    "ax.set_ylabel(r'$f(H_0)$', fontsize=30)\n",
    "if xmin<href<xmax:\n",
    "    ax.axvline(x = href, color = 'k', linestyle='dashdot',label = 'H0=67')\n",
    "\n",
    "\n",
    "ax.plot(x,totpost_like/np.trapz(totpost_like,x),label='Post',color='k',linewidth=4,linestyle='solid')\n",
    "ax.plot(x,totpost_Changed/np.trapz(totpost_Changed,x),label='Post-betavol',color='purple',linewidth=4,linestyle='solid')\n",
    "ax.plot(x,totpost_single/np.trapz(totpost_single,x),label='Post-betavol',color='purple',linewidth=4,linestyle='solid')\n",
    "ax.legend(fontsize=13, ncol=2)   \n",
    "\n",
    "newdist=(totpost_like)/np.trapz(totpost_like,x)\n",
    "mean=np.trapz(x*newdist,x)/np.trapz(newdist,x)\n",
    "std=np.sqrt(np.trapz(newdist*(x-mean)**2,x)/np.trapz(newdist,x))\n",
    "plt.figtext(0.75,0.6,'Mean={:0.2f}'.format(mean),fontsize=18,c='k')\n",
    "plt.figtext(0.75,0.55,'Std={:0.2f}'.format(std),fontsize=18, c='k')\n",
    "\n",
    "newdist=(totpost_Changed)/np.trapz(totpost_Changed,x)\n",
    "mean=np.trapz(x*newdist,x)/np.trapz(newdist,x)\n",
    "std=np.sqrt(np.trapz(newdist*(x-mean)**2,x)/np.trapz(newdist,x))\n",
    "plt.figtext(0.75,0.45,'Mean={:0.2f}'.format(mean),fontsize=18,c='purple')\n",
    "plt.figtext(0.75,0.40,'Std={:0.2f}'.format(std),fontsize=18, c='purple')"
   ]
  },
  {
   "cell_type": "code",
   "execution_count": null,
   "id": "d49d073d",
   "metadata": {},
   "outputs": [],
   "source": []
  }
 ],
 "metadata": {
  "kernelspec": {
   "display_name": "Python 3 (ipykernel)",
   "language": "python",
   "name": "python3"
  },
  "language_info": {
   "codemirror_mode": {
    "name": "ipython",
    "version": 3
   },
   "file_extension": ".py",
   "mimetype": "text/x-python",
   "name": "python",
   "nbconvert_exporter": "python",
   "pygments_lexer": "ipython3",
   "version": "3.10.12"
  }
 },
 "nbformat": 4,
 "nbformat_minor": 5
}
