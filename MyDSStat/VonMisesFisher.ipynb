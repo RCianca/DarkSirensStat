{
 "cells": [
  {
   "cell_type": "code",
   "execution_count": 1,
   "id": "71d237ea",
   "metadata": {},
   "outputs": [
    {
     "name": "stderr",
     "output_type": "stream",
     "text": [
      "WARNING: AstropyDeprecationWarning: The get_cosmology_from_string method is deprecated and may be removed in a future version.\n",
      "        Use get instead. [ligo.skymap.postprocess.cosmology]\n"
     ]
    }
   ],
   "source": [
    "import numpy as np\n",
    "import healpy as hp\n",
    "import matplotlib.pyplot as plt\n",
    "import matplotlib.pylab as pl\n",
    "import matplotlib\n",
    "from mpl_toolkits import mplot3d\n",
    "from multiprocessing import Pool\n",
    "import pandas as pd\n",
    "from numpy.random import random\n",
    "\n",
    "from scipy.optimize import fsolve\n",
    "from scipy import interpolate\n",
    "from scipy.integrate import quad\n",
    "from scipy.integrate import trapz\n",
    "from scipy import constants\n",
    "\n",
    "import os\n",
    "import sys\n",
    "\n",
    "from astropy.cosmology import Planck18\n",
    "from astropy.cosmology import FlatLambdaCDM\n",
    "#from astropy.io import fits\n",
    "from astropy.table import Table\n",
    "import astropy \n",
    "from ligo.skymap.io import fits\n",
    "from ligo.skymap.postprocess import find_greedy_credible_levels\n",
    "\n",
    "from tqdm import tqdm\n",
    "from multiprocessing import Pool\n",
    "import time\n",
    "from numba import njit\n",
    "###########################\n",
    "# CONSTANTS\n",
    "###########################\n",
    "H0GLOB= 67#69.32#67.9 #69\n",
    "Om0GLOB=0.319\n",
    "Xi0Glob =1.\n",
    "clight = 2.99792458* 10**5#km/s\n",
    "cosmoplank = Planck18\n",
    "cosmofast = FlatLambdaCDM(H0=H0GLOB, Om0=Om0GLOB)\n",
    "#H0=cosmoplank.H(0).value\n",
    "#h=H0GLOB/100\n",
    "#geometrization of masses\n",
    "#Msun=(1.98892)*(10**30)\n",
    "#solarmass_to_m=(constants.G*Msun)/((constants.c)**2)#G/c^2\n",
    "#Mpc_to_m=3.08567758128*(10**22) #this will be used later\n",
    "#-------miscellanea-----------------------"
   ]
  },
  {
   "cell_type": "code",
   "execution_count": 31,
   "id": "ba147b75",
   "metadata": {},
   "outputs": [],
   "source": [
    "def random_VMF ( mu , kappa , size = None ) :\n",
    "# https://hal.science/hal-04004568/\n",
    "# parse input parameters\n",
    "    n = 1 if size is None else np.product(size)\n",
    "    shape = () if size is None else tuple(np.ravel(size))\n",
    "    mu = np.asarray(mu)\n",
    "    mu = mu/np.linalg.norm(mu)\n",
    "    (d ,) = mu.shape\n",
    "    # zcomponent:radial samples perpendicular to mu\n",
    "    z = np.random.normal(0,1,(n,d))\n",
    "    z /= np.linalg.norm(z,axis=1,keepdims=True)\n",
    "    z = z - (z@mu[:,None])*mu[None, :]\n",
    "    z /= np.linalg.norm(z,axis =1,keepdims=True )\n",
    "    # sample angles ( in cos and sin form )\n",
    "    cos = random_VMF_angle(d,kappa,n)\n",
    "    sin = np.sqrt(1-cos ** 2)\n",
    "    # combine angles with the z component\n",
    "    x = z * sin[ : , None] + cos[ : , None] * mu[None , : ]\n",
    "    return x .reshape((*shape,d))\n",
    "def random_VMF_angle(d:int , k:float, n:int ) :\n",
    "    alpha = (d - 1)/2\n",
    "    t0 = r0 = np.sqrt(1 + (alpha / k)** 2) - alpha/k\n",
    "    log_t0 = k*t0+(d-1)*np.log(1 - r0*t0)\n",
    "    found = 0\n",
    "    out = [ ]\n",
    "    while found < n :\n",
    "        m = min(n,int(( n - found ) * 1.5 ))\n",
    "        t = np.random.beta(alpha,alpha,m )\n",
    "        t = 2 * t - 1\n",
    "        t = (r0 + t) / (1 + r0*t)\n",
    "        log_acc = k*t +(d - 1)*np.log (1 - r0 * t) - log_t0\n",
    "        t = t[np.random.random(m) < np.exp( log_acc )]\n",
    "        out.append(t)\n",
    "        found += len(out[ - 1 ])\n",
    "    return np.concatenate(out) [:n]"
   ]
  },
  {
   "cell_type": "code",
   "execution_count": 3,
   "id": "bc6a95d1",
   "metadata": {},
   "outputs": [],
   "source": [
    "#Gaussian Distribution on S^3\n",
    "def AngDist_rad(phi0,theta0,phi1,theta1):\n",
    "    tmp=np.sin(theta0)*np.sin(theta1)+(np.cos(theta0)*np.cos(theta1))*np.cos(phi0-phi1)\n",
    "    return np.arccos(tmp)\n",
    "@njit\n",
    "def sphere_uncorr_gauss(x,y,mux,muy,sigx,sigy):\n",
    "    #correlation is 0 so is a multiplication of two gaussians\n",
    "    #x is theta, y is phi\n",
    "    #meanvec=(mux,muy)\n",
    "    meanvec=np.asarray((np.sin(mux)*np.cos(muy),np.sin(mux)*np.sin(muy),np.cos(mux)))\n",
    "    norm=np.sqrt(np.sum(meanvec**2))\n",
    "    meanvec=meanvec/norm\n",
    "    \n",
    "    #var=(x,y)\n",
    "    var=np.asarray((np.sin(x)*np.cos(y),np.sin(x)*np.sin(y),np.cos(x)))\n",
    "    #norm=np.sqrt(np.dot(var,var))\n",
    "    norm=np.sqrt(np.sum(var**2))\n",
    "    var=var/norm\n",
    "    \n",
    "    diff=meanvec-var\n",
    "    diff_len=np.sqrt(np.sum(diff**2))\n",
    "    #xfactor=((x-mux)/sigx)**2\n",
    "    #yfactor=((y*(1-np.sin(y))-muy*(1-np.sin(muy)))/sigy)**2\n",
    "    #yfactor=((y-muy)/sigy)**2\n",
    "    norm=np.sqrt(2*np.pi)*sigx*sigy\n",
    "    factor=((diff_len)/sigy)**2\n",
    "    ret=np.exp(-(1/2)*(factor))#/norm\n",
    "    #ret=np.exp(-1/2*(xfactor+yfactor))\n",
    "    return ret\n",
    "@njit\n",
    "def sphere_uncorr_gauss_vec(x_vec,mu_vec,sigy):\n",
    "    #correlation is 0 so is a multiplication of two gaussians\n",
    "    meanvec=mu_vec\n",
    "    norm=np.sqrt(np.sum(meanvec**2))\n",
    "    meanvec=meanvec/norm\n",
    "\n",
    "    var=x_vec\n",
    "    norm=np.sqrt(np.sum(var**2))\n",
    "    var=var/norm\n",
    "    \n",
    "    diff=meanvec-var\n",
    "    diff_len=np.sqrt(np.sum(diff**2))\n",
    "\n",
    "    norm=np.sqrt(1/(2*np.pi*sigy*sigy))**3\n",
    "    factor=((diff_len)/sigy)**2\n",
    "    ret=np.exp(-(1/2)*(factor))/norm\n",
    "\n",
    "    return ret\n",
    "def sphere_uncorr_gauss_hp(x,y,mux,muy,sigx,sigy):\n",
    "    #correlation is 0 so is a multiplication of two gaussians\n",
    "    #x is theta, y is phi\n",
    "    #meanvec=(mux,muy)\n",
    "    meanvec=hp.ang2vec(mux,muy)\n",
    "    #meanvec=np.asarray((1,mux,muy))\n",
    "    norm=np.sqrt(np.sum(meanvec**2))\n",
    "    meanvec=meanvec/norm\n",
    "    \n",
    "    #var=(x,y)\n",
    "    var=hp.ang2vec(x,y)\n",
    "    #var=np.asarray((1,x,y))\n",
    "    #norm=np.sqrt(np.dot(var,var))\n",
    "    norm=np.sqrt(np.sum(var**2))\n",
    "    var=var/norm\n",
    "    \n",
    "    diff=meanvec-var\n",
    "    diff_len=np.sqrt(np.sum(diff**2))\n",
    "    #xfactor=((x-mux)/sigx)**2\n",
    "    #yfactor=((y*(1-np.sin(y))-muy*(1-np.sin(muy)))/sigy)**2\n",
    "    #yfactor=((y-muy)/sigy)**2\n",
    "    norm=np.sqrt(2*np.pi)*sigx*sigy\n",
    "    factor=((diff_len)/sigy)**2\n",
    "    ret=np.exp(-(1/2)*(factor))#/norm\n",
    "    #ret=np.exp(-1/2*(xfactor+yfactor))\n",
    "    return ret\n",
    "#-----------rejection-stuff------------\n",
    "def sample(g,xmin,xmax):\n",
    "    x = np.linspace(xmin,xmax,1000000)\n",
    "    y = g(x)                        # probability density function, pdf\n",
    "    cdf_y = np.cumsum(y)            # cumulative distribution function, cdf\n",
    "    cdf_y = cdf_y/cdf_y.max()       # takes care of normalizing cdf to 1.0\n",
    "    inverse_cdf = interpolate.interp1d(cdf_y,x,fill_value=\"extrapolate\")# this is a function\n",
    "    #inverse_cdf = np.interp(0,cdf_y,x) #this works but it is not a function\n",
    "    return inverse_cdf\n",
    "\n",
    "def return_samples(f,xmin,xmax,N=1000000):\n",
    "    # let's generate some samples according to the chosen pdf, f(x)\n",
    "    uniform_samples = random(int(N))       \n",
    "    required_samples = sample(f,xmin,xmax)(uniform_samples)\n",
    "    return required_samples\n",
    "def phi2RA(phi):\n",
    "    ret=np.rad2deg(phi)\n",
    "    return ret\n",
    "\n",
    "def theta2DEC(theta):\n",
    "    ret=np.rad2deg(0.5*np.pi-theta)\n",
    "    return ret\n",
    "\n",
    "def RA2phi(RA):\n",
    "    ret=np.deg2rad(RA)\n",
    "    return ret\n",
    "\n",
    "def DEC2theta(DEC):\n",
    "    ret=0.5 * np.pi - np.deg2rad(DEC)\n",
    "    return ret\n",
    "def angdist(d1,d2,r1,r2):\n",
    "    tmp=np.sin(d1)*np.sin(d2)+np.cos(d1)*np.cos(d2)*np.cos(r1-r2)\n",
    "    ret=np.arccos(tmp)\n",
    "    return ret"
   ]
  },
  {
   "cell_type": "code",
   "execution_count": 4,
   "id": "56f09612",
   "metadata": {},
   "outputs": [],
   "source": [
    "#target_dist= lambda r: (r/r0)**(gamma)\n",
    "\n",
    "#values=return_samples(target_dist,rmin,rmax,1000000)"
   ]
  },
  {
   "cell_type": "code",
   "execution_count": 5,
   "id": "72335b02",
   "metadata": {},
   "outputs": [],
   "source": [
    "phi_00=np.pi/3\n",
    "theta_00=np.pi/4\n",
    "\n",
    "phi_01=np.pi/2\n",
    "theta_01=np.pi/8"
   ]
  },
  {
   "cell_type": "code",
   "execution_count": 6,
   "id": "e2529daa",
   "metadata": {},
   "outputs": [
    {
     "name": "stdout",
     "output_type": "stream",
     "text": [
      "vec_00=[0.35355339 0.61237244 0.70710678]\n",
      "vec_01=[2.34326020e-17 3.82683432e-01 9.23879533e-01]\n"
     ]
    }
   ],
   "source": [
    "nside=1024#1024#512\n",
    "npix = hp.nside2npix(nside)\n",
    "vec_00 = hp.ang2vec(theta_00, phi_00)\n",
    "norm_00=np.sqrt(np.sum(vec_00**2))\n",
    "vec_00=vec_00/norm_00\n",
    "vec_01 = hp.ang2vec(theta_01, phi_01)\n",
    "norm_01=np.sqrt(np.sum(vec_01**2))\n",
    "vec_01=vec_01/norm_01\n",
    "print('vec_00={}\\nvec_01={}'.format(vec_00,vec_01))"
   ]
  },
  {
   "cell_type": "code",
   "execution_count": 7,
   "id": "c1bea070",
   "metadata": {},
   "outputs": [
    {
     "name": "stdout",
     "output_type": "stream",
     "text": [
      "recovered_00=(array([0.78539816]), array([1.04719755])),theta=0.7853981633974483,phi=1.0471975511965976\n",
      "recoverd_01=(array([0.39269908]), array([1.57079633])),theta=0.39269908169872414,phi=1.5707963267948966\n"
     ]
    }
   ],
   "source": [
    "recovered_00=hp.vec2ang(vec_00)\n",
    "recovered_01=hp.vec2ang(vec_01)\n",
    "print('recovered_00={},theta={},phi={}\\nrecoverd_01={},theta={},phi={}'\n",
    "      .format(recovered_00,theta_00,phi_00,recovered_01,theta_01,phi_01))"
   ]
  },
  {
   "cell_type": "code",
   "execution_count": 8,
   "id": "cac013df",
   "metadata": {},
   "outputs": [
    {
     "name": "stdout",
     "output_type": "stream",
     "text": [
      "vec_sum=[-0.80010315  0.46193977  0.38268343]\n"
     ]
    }
   ],
   "source": [
    "phi_sum=phi_00+phi_01\n",
    "theta_sum=theta_00+theta_01\n",
    "vec_sum = hp.ang2vec(theta_sum, phi_sum)\n",
    "print('vec_sum={}'.format(vec_sum))"
   ]
  },
  {
   "cell_type": "code",
   "execution_count": 9,
   "id": "dfa7e10d",
   "metadata": {},
   "outputs": [
    {
     "name": "stdout",
     "output_type": "stream",
     "text": [
      "recovered_sum=(array([1.17809725]), array([2.61799388])),theta=1.1780972450961724,phi=2.617993877991494\n"
     ]
    }
   ],
   "source": [
    "recovered_sum=hp.vec2ang(vec_sum)\n",
    "print('recovered_sum={},theta={},phi={}'\n",
    "      .format(recovered_sum,theta_sum,phi_sum))"
   ]
  },
  {
   "cell_type": "markdown",
   "id": "772d9f06",
   "metadata": {},
   "source": [
    "# Passo 2: Centro in 0 e calcolo pesi"
   ]
  },
  {
   "cell_type": "code",
   "execution_count": 111,
   "id": "fb3d14a3",
   "metadata": {},
   "outputs": [],
   "source": [
    "Omega_90=20\n",
    "radius_deg= np.sqrt(Omega_90/np.pi)\n",
    "sigma90=radius_deg/np.sqrt(2)\n",
    "sigma_deg=sigma90/(1.511*1)#1.6448536269514\n",
    "circle_deg=6*sigma_deg\n",
    "sigma_theta=np.radians(sigma_deg)\n",
    "sigma_phi=np.radians(sigma_deg)\n",
    "radius_rad=np.radians(circle_deg)\n",
    "conc=1/sigma_phi**2"
   ]
  },
  {
   "cell_type": "code",
   "execution_count": 112,
   "id": "006bbe82",
   "metadata": {},
   "outputs": [],
   "source": [
    "thetamin=np.pi/4-6*sigma_theta\n",
    "thetamax=np.pi/4+6*sigma_theta\n",
    "arc_min=np.cos(thetamin)\n",
    "arc_max=np.cos(thetamax)"
   ]
  },
  {
   "cell_type": "code",
   "execution_count": 113,
   "id": "dad43552",
   "metadata": {},
   "outputs": [],
   "source": [
    "Npoints=1_00_000_000\n",
    "all_phi =np.random.uniform(np.pi/4-6*sigma_phi,np.pi/4+6*sigma_phi,Npoints)\n",
    "costheta =np.random.uniform(arc_min,arc_max,Npoints)\n",
    "all_theta = np.arccos(costheta)\n",
    "all_vec=hp.ang2vec(all_theta,all_phi)"
   ]
  },
  {
   "cell_type": "code",
   "execution_count": 114,
   "id": "ad410b56",
   "metadata": {},
   "outputs": [],
   "source": [
    "#def convert_to_vec(params):\n",
    "#    theta, phi = params\n",
    "#    return hp.ang2vec(theta, phi)\n",
    "# Crea una lista di tuple da passare alla funzione\n",
    "#all_angles = list(zip(all_theta, all_phi))\n",
    "#n_processes = 13  \n",
    "#with Pool(processes=n_processes) as pool:\n",
    "#    results = list(tqdm(pool.imap(convert_to_vec, all_angles), total=len(all_angles)))\n",
    "#all_vec = np.array(results)\n",
    "# Re-adding the modified code with chunksize parameter for multiprocessing\n",
    "\n",
    "\n",
    "def convert_to_vec(params):\n",
    "    # Convert spherical coordinates to a vector\n",
    "    theta, phi = params\n",
    "    return hp.ang2vec(theta, phi)\n",
    "\n",
    "def parallel_convert_to_vec(all_angles, n_processes=13, chunksize=100):\n",
    "    \"\"\"\n",
    "    Convert lists of angles to vectors in parallel.\n",
    "\n",
    "    Args:\n",
    "        all_angles (list of tuple): List of (theta, phi) tuples.\n",
    "        n_processes (int): Number of parallel processes to use.\n",
    "        chunksize (int): Number of tasks allocated to each worker process at a time.\n",
    "\n",
    "    Returns:\n",
    "        np.ndarray: Array of vectors converted from spherical coordinates.\n",
    "    \"\"\"\n",
    "    with Pool(processes=n_processes) as pool:\n",
    "        results = list(tqdm(pool.imap(convert_to_vec, all_angles, chunksize=chunksize), total=len(all_angles)))\n",
    "    return np.array(results)\n",
    "\n",
    "# The function call should look like this (commented out for demonstration):\n",
    "#all_vec = parallel_convert_to_vec(all_angles, n_processes=13, chunksize=10000)\n"
   ]
  },
  {
   "cell_type": "code",
   "execution_count": 115,
   "id": "b386f305",
   "metadata": {},
   "outputs": [],
   "source": [
    "#(x,y,mux,muy,sigx,sigy)\n",
    "mux=np.pi/4\n",
    "muy=np.pi/4\n",
    "ref_vec=hp.ang2vec(mux,muy)\n",
    "ref_norm=np.sqrt(np.sum(ref_vec**2))\n",
    "ref_vec=ref_vec/ref_norm\n",
    "sigx=sigma_phi\n",
    "sigy=sigma_phi"
   ]
  },
  {
   "cell_type": "code",
   "execution_count": 116,
   "id": "99ff7a38",
   "metadata": {},
   "outputs": [
    {
     "name": "stderr",
     "output_type": "stream",
     "text": [
      "100%|███████████████████████████████████████████████████████| 100000000/100000000 [02:07<00:00, 783868.48it/s]\n"
     ]
    }
   ],
   "source": [
    "pesi=np.zeros(len(all_vec))\n",
    "for i in tqdm(range(len(all_vec))):\n",
    "    pesi[i]=sphere_uncorr_gauss_vec(all_vec[i],ref_vec,sigx)\n",
    "pesi_normed=pesi/np.sum(pesi)"
   ]
  },
  {
   "cell_type": "code",
   "execution_count": 117,
   "id": "f9e03100",
   "metadata": {},
   "outputs": [],
   "source": [
    "#sopra i 100_000_000 dovrebbe essere più volece, ma non è detto \n",
    "from functools import partial\n",
    "\n",
    "\n",
    "# This is a wrapper function for applying 'sphere_uncorr_gauss_vec' over a single argument,\n",
    "# since the other arguments (ref_vec, sigx) do not change across the parallel calls.\n",
    "def parallel_worker(vec, ref_vec, sigx):\n",
    "    return sphere_uncorr_gauss_vec(vec, ref_vec, sigx)\n",
    "\n",
    "def compute_weights(all_vec, ref_vec, sigx, num_processes=None):\n",
    "    # Create a partial function with fixed reference vector and sigma\n",
    "    worker_func = partial(parallel_worker, ref_vec=ref_vec, sigx=sigx)\n",
    "\n",
    "    # Initialize multiprocessing Pool\n",
    "    with Pool(processes=num_processes) as pool:\n",
    "        # Map 'sphere_uncorr_gauss_vec' over 'all_vec' with a progress bar\n",
    "        # 'chunksize' can be adjusted for optimization based on the size of 'all_vec' and the task's nature\n",
    "        result = list(tqdm(pool.imap(worker_func, all_vec, chunksize=1000_000), total=len(all_vec)))\n",
    "\n",
    "    # Normalize the weights\n",
    "    pesi_normed = np.array(result) / np.sum(result)\n",
    "    return pesi_normed\n",
    "\n",
    "# The actual function call would look like this:\n",
    "#pesi_normed = compute_weights(all_vec, ref_vec, sigy, num_processes=13)\n",
    "# Note: The 'num_processes' parameter can be adjusted based on your machine's capabilities.\n",
    "\n",
    "# For now, we will comment out the actual function call:\n",
    "#pesi_normed = compute_weights(all_vec, ref_vec, sigx, num_processes=13)\n"
   ]
  },
  {
   "cell_type": "code",
   "execution_count": 118,
   "id": "75f606a2",
   "metadata": {},
   "outputs": [
    {
     "data": {
      "text/plain": [
       "Text(0.5, 0, '$tmp$')"
      ]
     },
     "execution_count": 118,
     "metadata": {},
     "output_type": "execute_result"
    },
    {
     "data": {
      "image/png": "[encoded data removed]",
      "text/plain": [
       "<Figure size 864x576 with 1 Axes>"
      ]
     },
     "metadata": {
      "needs_background": "light"
     },
     "output_type": "display_data"
    }
   ],
   "source": [
    "fig, ax = plt.subplots(1, figsize=(12,8)) #crea un tupla che poi è più semplice da gestire\n",
    "ax.tick_params(axis='both', which='major', labelsize=14)\n",
    "ax.yaxis.get_offset_text().set_fontsize(14)\n",
    "ax.grid(linestyle='dotted', linewidth='0.6')#griglia in sfondo\n",
    "colors=plt.cm.turbo(np.linspace(0.99,0.01,16))\n",
    "hist_min=np.min(pesi)\n",
    "hist_max=np.max(pesi)\n",
    "nbins=50\n",
    "\n",
    "#plt.yscale('log', nonpositive='clip')\n",
    "#plt.xscale('log', nonpositive='clip')\n",
    "(n_pesi, bins_pesi, patches)=ax.hist(pesi,bins=nbins,rwidth=0.95,density=True,log=True)\n",
    "#(n_sca, bins_sca, patches)=ax.hist(alldl_sca,bins=nbins,range=(dlinf_sca,dlsup_sca),rwidth=0.95,alpha=0.5)\n",
    "centers=bins_pesi[:-1]\n",
    "centers=centers+(bins_pesi[1]-bins_pesi[0])/2\n",
    "#ax.scatter(centers,n_pesi,c='r',marker='x')\n",
    "ax.set_xlabel(r'$tmp$', fontsize=20)"
   ]
  },
  {
   "cell_type": "code",
   "execution_count": 119,
   "id": "a0d0e35d",
   "metadata": {},
   "outputs": [],
   "source": [
    "idx_temp=np.array(range(len(all_vec)))\n",
    "mysize=4_000_000"
   ]
  },
  {
   "cell_type": "code",
   "execution_count": 120,
   "id": "bb24162a",
   "metadata": {},
   "outputs": [],
   "source": [
    "all_idx=np.random.choice(idx_temp,mysize,replace=False,p=pesi_normed)"
   ]
  },
  {
   "cell_type": "code",
   "execution_count": 121,
   "id": "55f1b12d",
   "metadata": {},
   "outputs": [],
   "source": [
    "extracted=all_vec[all_idx]\n",
    "extracted_theta=np.zeros(len(all_idx))\n",
    "extracted_phi=np.zeros(len(all_idx))\n",
    "norma=np.zeros(len(all_idx))\n",
    "#new=extracted-ref_vec\n",
    "#normed=[]\n",
    "#for i in tqdm(range(len(all_idx))):\n",
    "#    norma=np.sqrt(np.sum(extracted[i]**2))\n",
    "extracted_theta,extracted_phi=hp.vec2ang(extracted)"
   ]
  },
  {
   "cell_type": "code",
   "execution_count": 122,
   "id": "b551a353",
   "metadata": {},
   "outputs": [],
   "source": [
    "vec_fromgit=random_VMF (ref_vec , conc , size = 40_000_000)\n",
    "git_theta,git_phi=hp.vec2ang(vec_fromgit)"
   ]
  },
  {
   "cell_type": "code",
   "execution_count": 123,
   "id": "969e58c2",
   "metadata": {},
   "outputs": [
    {
     "data": {
      "text/plain": [
       "Text(0.5, 0, '$\\\\Delta\\\\phi$')"
      ]
     },
     "execution_count": 123,
     "metadata": {},
     "output_type": "execute_result"
    },
    {
     "data": {
      "image/png": "[encoded data removed]",
      "text/plain": [
       "<Figure size 864x576 with 1 Axes>"
      ]
     },
     "metadata": {
      "needs_background": "light"
     },
     "output_type": "display_data"
    }
   ],
   "source": [
    "myphi=extracted_phi-np.mean(extracted_phi)\n",
    "my_gitphi=git_phi-np.mean(git_phi)\n",
    "fig, ax = plt.subplots(1, figsize=(12,8)) #crea un tupla che poi è più semplice da gestire\n",
    "ax.tick_params(axis='both', which='major', labelsize=14)\n",
    "ax.yaxis.get_offset_text().set_fontsize(14)\n",
    "ax.grid(linestyle='dotted', linewidth='0.6')#griglia in sfondo\n",
    "colors=plt.cm.turbo(np.linspace(0.99,0.01,16))\n",
    "hist_min=np.min(myphi)\n",
    "hist_max=np.max(myphi)\n",
    "\n",
    "nbins=30\n",
    "(n10_tot, bins10_tot, patches10)=ax.hist(myphi,bins=nbins,range=(hist_min,hist_max),rwidth=0.95,density=True,color='teal',alpha=0.5)\n",
    "#(n_sca, bins_sca, patches)=ax.hist(alldl_sca,bins=nbins,range=(dlinf_sca,dlsup_sca),rwidth=0.95,alpha=0.5)\n",
    "#hist_min=np.min(my_gitphi)\n",
    "#hist_max=np.max(my_gitphi)\n",
    "(n10_tot, bins10_tot, patches10)=ax.hist(my_gitphi,bins=nbins,range=(hist_min,hist_max),rwidth=0.95,density=True,color='purple',alpha=0.5)\n",
    "ax.set_xlabel(r'$\\Delta\\phi$', fontsize=20)"
   ]
  },
  {
   "cell_type": "code",
   "execution_count": 124,
   "id": "35fd4d58",
   "metadata": {},
   "outputs": [
    {
     "name": "stdout",
     "output_type": "stream",
     "text": [
      "mean=0.7853756170789638 center=0.7853981633974483\n",
      "std=0.030465195896125185 std a mano=0.02060810065592297\n",
      "mean=0.7854003118570629 center=0.7853981633974483\n",
      "std=0.029159384229092537 std a mano=0.02060810065592297\n",
      "Asimmetria di Pearson=0.0005393090128611126\n"
     ]
    }
   ],
   "source": [
    "print('mean={} center={}'.format(np.mean(extracted_phi),muy))\n",
    "#print(np.mean(myphi))\n",
    "print('std={} std a mano={}'.format(np.std(myphi),sigx))\n",
    "\n",
    "\n",
    "print('mean={} center={}'.format(np.mean(git_phi),muy))\n",
    "#print(np.mean(myphi))\n",
    "print('std={} std a mano={}'.format(np.std(my_gitphi),sigx))\n",
    "\n",
    "print('Asimmetria di Pearson={}'.format(3*(np.mean(git_phi)-np.median(git_phi))/(np.std(git_phi))))"
   ]
  },
  {
   "cell_type": "code",
   "execution_count": 90,
   "id": "da13c77e",
   "metadata": {},
   "outputs": [
    {
     "data": {
      "text/plain": [
       "Text(0.5, 0, '$\\\\Delta\\\\cos(\\\\theta)$')"
      ]
     },
     "execution_count": 90,
     "metadata": {},
     "output_type": "execute_result"
    },
    {
     "data": {
      "image/png": "[encoded data removed]",
      "text/plain": [
       "<Figure size 864x576 with 1 Axes>"
      ]
     },
     "metadata": {
      "needs_background": "light"
     },
     "output_type": "display_data"
    }
   ],
   "source": [
    "mycostheta=np.cos(extracted_theta)-np.mean(np.cos(extracted_theta))\n",
    "mygitcosteha=np.cos(git_theta)-np.mean(np.cos(git_theta))\n",
    "fig, ax = plt.subplots(1, figsize=(12,8)) #crea un tupla che poi è più semplice da gestire\n",
    "ax.tick_params(axis='both', which='major', labelsize=14)\n",
    "ax.yaxis.get_offset_text().set_fontsize(14)\n",
    "ax.grid(linestyle='dotted', linewidth='0.6')#griglia in sfondo\n",
    "colors=plt.cm.turbo(np.linspace(0.99,0.01,16))\n",
    "hist_min=np.min(mycostheta)\n",
    "hist_max=np.max(mycostheta)\n",
    "\n",
    "nbins=30\n",
    "(n10_tot, bins10_tot, patches10)=ax.hist(mycostheta,bins=nbins,range=(hist_min,hist_max),rwidth=0.95,density=True,color='teal',alpha=0.5)\n",
    "#(n_sca, bins_sca, patches)=ax.hist(alldl_sca,bins=nbins,range=(dlinf_sca,dlsup_sca),rwidth=0.95,alpha=0.5)\n",
    "(n10_tot, bins10_tot, patches10)=ax.hist(mygitcosteha,bins=nbins,range=(hist_min,hist_max),rwidth=0.95,density=True,color='purple',alpha=0.5)\n",
    "ax.set_xlabel(r'$\\Delta\\cos(\\theta)$', fontsize=20)"
   ]
  },
  {
   "cell_type": "code",
   "execution_count": 125,
   "id": "089d7500",
   "metadata": {},
   "outputs": [
    {
     "name": "stdout",
     "output_type": "stream",
     "text": [
      "mean=0.7856415642917595 center=0.7853981633974483\n",
      "std=0.015244048103107366 std a mano=0.02060810065592297\n",
      "mean=0.7856124348766399 center=0.7853981633974483\n",
      "std=0.014572328335787263 std a mano=0.02060810065592297\n",
      "Asimmetria di Pearson=0.00016479758666540368\n"
     ]
    }
   ],
   "source": [
    "print('mean={} center={}'.format(np.mean(extracted_theta),mux))\n",
    "#print(np.mean(myphi))\n",
    "print('std={} std a mano={}'.format(np.std(np.cos(extracted_theta)),sigx))\n",
    "\n",
    "\n",
    "print('mean={} center={}'.format(np.mean(git_theta),mux))\n",
    "#print(np.mean(myphi))\n",
    "print('std={} std a mano={}'.format(np.std(np.cos(git_theta)),sigx))\n",
    "\n",
    "print('Asimmetria di Pearson={}'.format(3*(np.mean(git_theta)-np.median(git_theta))/(np.std(git_theta))))"
   ]
  },
  {
   "cell_type": "code",
   "execution_count": 136,
   "id": "e6c62d20",
   "metadata": {},
   "outputs": [],
   "source": [
    "sample_phis=git_phi#[0:1_000]\n",
    "sample_thetas=git_theta#[0:1_000]\n",
    "mydist=AngDist_rad(sample_phis,muy,sample_thetas,mux)"
   ]
  },
  {
   "cell_type": "code",
   "execution_count": 137,
   "id": "811e987b",
   "metadata": {},
   "outputs": [
    {
     "data": {
      "image/png": "[encoded data removed]",
      "text/plain": [
       "<Figure size 864x576 with 1 Axes>"
      ]
     },
     "metadata": {
      "needs_background": "light"
     },
     "output_type": "display_data"
    }
   ],
   "source": [
    "fig, ax = plt.subplots(1, figsize=(12,8)) #crea un tupla che poi è più semplice da gestire\n",
    "ax.tick_params(axis='both', which='major', labelsize=14)\n",
    "ax.yaxis.get_offset_text().set_fontsize(14)\n",
    "ax.grid(linestyle='dotted', linewidth='0.6')#griglia in sfondo\n",
    "colors=plt.cm.turbo(np.linspace(0.99,0.01,16))\n",
    "hist_min=np.min(mydist)\n",
    "hist_max=np.max(mydist)\n",
    "\n",
    "nbins=40\n",
    "(n10_tot, bins10_tot, patches10)=ax.hist(mydist,bins=nbins,range=(hist_min,hist_max),rwidth=0.95,density=True,color='teal')"
   ]
  },
  {
   "cell_type": "code",
   "execution_count": 140,
   "id": "e68cf49b",
   "metadata": {},
   "outputs": [
    {
     "name": "stdout",
     "output_type": "stream",
     "text": [
      "std=0.015219430961891458 std a mano=0.01457212772117807\n"
     ]
    }
   ],
   "source": [
    "print('mean={} center={}'.format(np.mean(mydist),0))\n",
    "print('std={} std a mano={}'.format(np.std(mydist),np.sqrt(sigx**2+sigy**2)/2))\n",
    "#print('Asimmetria di Pearson={}'.format(3*(np.mean(mydist)-np.median(mydist))/(np.std(mydist))))"
   ]
  },
  {
   "cell_type": "code",
   "execution_count": 92,
   "id": "d8c999e8",
   "metadata": {},
   "outputs": [],
   "source": [
    "phis=np.array([np.pi/3,np.pi/4])\n",
    "thetas=np.array([np.pi/3,np.pi/4])\n",
    "vecs=hp.ang2vec(thetas,phis)"
   ]
  },
  {
   "cell_type": "code",
   "execution_count": 98,
   "id": "2c374732",
   "metadata": {},
   "outputs": [
    {
     "name": "stdout",
     "output_type": "stream",
     "text": [
      "(2, 3)\n",
      "[1.04719755 1.04719755] 1.0471975511965976 1.0471975511965976 0.0 0.26179938779914935\n"
     ]
    }
   ],
   "source": [
    "print(np.shape(vecs))\n",
    "dirs=hp.vec2dir(vecs[0])\n",
    "print(dirs,thetas[0],phis[0],dirs[0]-thetas[0],dirs[1]-phis[1])"
   ]
  },
  {
   "cell_type": "code",
   "execution_count": 88,
   "id": "e478347e",
   "metadata": {},
   "outputs": [],
   "source": [
    "ds_phi_scat=np.zeros(len(phis))\n",
    "ds_theta_scat=np.zeros(len(phis))"
   ]
  },
  {
   "cell_type": "code",
   "execution_count": 40,
   "id": "9400e465",
   "metadata": {},
   "outputs": [],
   "source": [
    "    for j in range(len(phis)):\n",
    "        tmp_vec=random_VMF (vecs[j] , conc)\n",
    "        ds_theta_scat[j],ds_phi_scat[j]=hp.vec2ang(tmp_vec)\n"
   ]
  },
  {
   "cell_type": "code",
   "execution_count": 41,
   "id": "0d30c048",
   "metadata": {},
   "outputs": [
    {
     "data": {
      "text/plain": [
       "array([1.04432634, 0.77172757])"
      ]
     },
     "execution_count": 41,
     "metadata": {},
     "output_type": "execute_result"
    }
   ],
   "source": [
    "ds_theta_scat"
   ]
  },
  {
   "cell_type": "code",
   "execution_count": 42,
   "id": "e57d4709",
   "metadata": {},
   "outputs": [
    {
     "data": {
      "text/plain": [
       "array([1.04719755, 0.78539816])"
      ]
     },
     "execution_count": 42,
     "metadata": {},
     "output_type": "execute_result"
    }
   ],
   "source": [
    "thetas"
   ]
  },
  {
   "cell_type": "code",
   "execution_count": null,
   "id": "e8670d06",
   "metadata": {},
   "outputs": [],
   "source": []
  }
 ],
 "metadata": {
  "kernelspec": {
   "display_name": "Python 3 (ipykernel)",
   "language": "python",
   "name": "python3"
  },
  "language_info": {
   "codemirror_mode": {
    "name": "ipython",
    "version": 3
   },
   "file_extension": ".py",
   "mimetype": "text/x-python",
   "name": "python",
   "nbconvert_exporter": "python",
   "pygments_lexer": "ipython3",
   "version": "3.10.12"
  }
 },
 "nbformat": 4,
 "nbformat_minor": 5
}
