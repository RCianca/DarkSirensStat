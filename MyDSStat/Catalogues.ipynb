{
 "cells": [
  {
   "cell_type": "code",
   "execution_count": 1,
   "id": "9b0e6e3c",
   "metadata": {},
   "outputs": [],
   "source": [
    "import numpy as np\n",
    "import matplotlib.pyplot as plt\n",
    "import matplotlib.pylab as pl\n",
    "from scipy import interpolate\n",
    "from scipy import integrate\n",
    "from scipy.optimize import fsolve\n",
    "import pandas as pd\n",
    "from astropy.cosmology import FlatLambdaCDM\n",
    "import healpy as hp\n",
    "\n",
    "import os\n",
    "from os import listdir\n",
    "from os.path import isfile, join\n",
    "\n",
    "from multiprocessing import Pool\n",
    "import time\n",
    "from numba import njit\n",
    "\n",
    "import sys\n",
    "from tqdm import tqdm"
   ]
  },
  {
   "cell_type": "code",
   "execution_count": 2,
   "id": "e37f1e05",
   "metadata": {},
   "outputs": [],
   "source": [
    "href=67 #69\n",
    "Om0GLOB=0.319\n",
    "Xi0Glob =1.\n",
    "clight = 2.99792458* 10**5#km/s\n",
    "cosmoflag = FlatLambdaCDM(H0=href, Om0=Om0GLOB)\n",
    "@njit\n",
    "def E_z(z, H0, Om=Om0GLOB):\n",
    "    return np.sqrt(Om*(1+z)**3+(1-Om))\n",
    "\n",
    "def r_z(z, H0, Om=Om0GLOB):\n",
    "    c = clight\n",
    "    integrand = lambda x : 1/E_z(x, H0, Om)\n",
    "    integral, error = integrate.quad(integrand, 0, z)\n",
    "    return integral*c/H0\n",
    "\n",
    "def Dl_z(z, H0, Om=Om0GLOB):\n",
    "    return r_z(z, H0, Om)*(1+z)\n",
    "def z_dc(dc,h,om=Om0GLOB):\n",
    "    func = lambda z :r_z(z, h, Om0GLOB) - dc\n",
    "    zres = fsolve(func, 0.02)[0] \n",
    "    return zres\n",
    "@njit\n",
    "def phi2RA(phi):\n",
    "    ret=np.rad2deg(phi)\n",
    "    return ret\n",
    "@njit\n",
    "def theta2DEC(theta):\n",
    "    ret=np.rad2deg(0.5*np.pi-theta)\n",
    "    return ret\n",
    "@njit\n",
    "def RA2phi(RA):\n",
    "    ret=np.deg2rad(RA)\n",
    "    return ret\n",
    "@njit\n",
    "def DEC2theta(DEC):\n",
    "    ret=0.5 * np.pi - np.deg2rad(DEC)\n",
    "    return ret"
   ]
  },
  {
   "cell_type": "code",
   "execution_count": 3,
   "id": "2819c755",
   "metadata": {},
   "outputs": [],
   "source": [
    "#Catalogue path\n",
    "cat_data_path='/home/rciancarella/DarkSirensStat/data/GLADE/'\n",
    "os.chdir(cat_data_path)\n",
    "#all_event=os.listdir()\n",
    "#print(all_event)\n",
    "save_cat_path='/home/rciancarella/DarkSirensStat/MyDSStat/'"
   ]
  },
  {
   "cell_type": "markdown",
   "id": "954ecef0",
   "metadata": {},
   "source": [
    "# Loading The Flagship "
   ]
  },
  {
   "cell_type": "code",
   "execution_count": null,
   "id": "fc8a61c2",
   "metadata": {},
   "outputs": [],
   "source": [
    "flag = pd.read_csv('GLADE_flagship.txt', sep=\" \", header=None)\n",
    "colnames=['numevent','GWGC_name','HyperLEDA_name','2MASS_XSC_name','SDSS-DR12Q_name','type_flag','right_ascension_degrees',\n",
    "          'declination_degrees','dl','err_lum_dist','z','app_B_mag','err_app_B_mag','abs_B_mag','app_J_mag',\n",
    "          'err_app_J_mag','app_H_mag','err_app_H_mag','app_K_mag','err_app_K_mag','lum_dist_flag','pec_vel_correction'\n",
    "          ]\n",
    "flag.columns=colnames"
   ]
  },
  {
   "cell_type": "code",
   "execution_count": null,
   "id": "fcc6a6d8",
   "metadata": {},
   "outputs": [],
   "source": [
    "z_flag_min=flag['z'].min()\n",
    "z_flag_max=flag['z'].max()\n",
    "Nobj=flag.shape[0]\n",
    "dl_flag_min=flag['dl'].min()\n",
    "dl_flag_max=flag['dl'].max()\n",
    "RA_flag_min=flag['right_ascension_degrees'].min()\n",
    "RA_flag_max=flag['right_ascension_degrees'].max()\n",
    "DEC_flag_min=flag['declination_degrees'].min()\n",
    "DEC_flag_max=flag['declination_degrees'].max()\n",
    "phi_flag_min=RA2phi(RA_flag_min)\n",
    "phi_flag_max=RA2phi(RA_flag_max)\n",
    "theta_flag_min=DEC2theta(DEC_flag_max)\n",
    "theta_flag_max=DEC2theta(DEC_flag_min)\n",
    "print('MotherCat Info:')\n",
    "print('ref Cosmology={}'.format(cosmoflag))\n",
    "print('Num of objects={}'.format(Nobj))\n",
    "print('phi min={}, phi max={}, theta min={}, theta max={}'.format(phi_flag_min,phi_flag_max,theta_flag_min,theta_flag_max))\n",
    "print('z min={},z max={}'.format(z_flag_min,z_flag_max))\n",
    "print('dl min={}, dl max={}'.format(dl_flag_min, dl_flag_max))"
   ]
  },
  {
   "cell_type": "code",
   "execution_count": null,
   "id": "2bda7cab",
   "metadata": {},
   "outputs": [],
   "source": [
    "delta_phi=phi_flag_max-phi_flag_min\n",
    "theta_part=np.cos(theta_flag_min)-np.cos(theta_flag_max)\n",
    "integrand=lambda x:clight*(cosmoflag.comoving_distance(x).value)**2/(cosmoflag.H(x).value)\n",
    "z_part=integrate.quad(integrand,z_flag_min,z_flag_max)[0]\n",
    "\n",
    "Volume=delta_phi*theta_part*z_part#integrand\n",
    "print('Cat Volume {} Gpc^3'.format(Volume/1000**3))\n",
    "Density=Nobj/Volume\n",
    "print('Cat Density {} #/Mpc^3'.format(Density))"
   ]
  },
  {
   "cell_type": "markdown",
   "id": "425bf081",
   "metadata": {},
   "source": [
    "# Evaluating N(z)\n",
    "chiedere se conviene usare direttamente la flag o la N(z) che mi aveva dato Melita"
   ]
  },
  {
   "cell_type": "code",
   "execution_count": null,
   "id": "8e8f24b2",
   "metadata": {},
   "outputs": [],
   "source": [
    "z_flag=np.asarray(flag['z'])\n",
    "fig, ax = plt.subplots(1, figsize=(12,8)) #crea un tupla che poi è più semplice da gestire\n",
    "ax.tick_params(axis='both', which='major', labelsize=14)\n",
    "ax.yaxis.get_offset_text().set_fontsize(14)\n",
    "ax.grid(linestyle='dotted', linewidth='0.6')#griglia in sfondo\n",
    "colors=plt.cm.turbo(np.linspace(0.99,0.01,16))\n",
    "\n",
    "\n",
    "nbins=30\n",
    "(n, bins, patches)=ax.hist(z_flag,bins=nbins,range=(z_flag_min,z_flag_max))\n",
    "half_step=(bins[1]-bins[0])/2\n",
    "mybins=bins[:-1]+half_step\n",
    "myN=interpolate.interp1d(mybins,n,kind='cubic',fill_value='extrapolate')\n",
    "ax.scatter(mybins,n,color=colors[3])\n",
    "\n",
    "\n",
    "ax.plot(mybins,myN(mybins),color=colors[3])\n",
    "ax.set_xlabel(r'$z$', fontsize=20)\n",
    "ax.set_ylabel(r'$N(z)$', fontsize=20)"
   ]
  },
  {
   "cell_type": "markdown",
   "id": "04a475ac",
   "metadata": {},
   "source": [
    "# Make the True Universe\n",
    "First we need to generate an uniform catalogue in comoving volume. This imply a cosmology. We need a fixed and constant comoving density. The number of object in the most pupulated bin of the data must be the same as the uniform cat"
   ]
  },
  {
   "cell_type": "code",
   "execution_count": null,
   "id": "67d0261c",
   "metadata": {},
   "outputs": [],
   "source": [
    "nmax=n.max()\n",
    "idx=np.where(n==nmax)[0]\n",
    "zbin_min=bins[idx]\n",
    "z_bin_max=bins[idx+1]\n",
    "integrand=lambda x:clight*(cosmoflag.comoving_distance(x).value)**2/(cosmoflag.H(x).value)\n",
    "z_part=integrate.quad(integrand,zbin_min,z_bin_max)[0]\n",
    "bin_vol=theta_part*delta_phi*z_part\n",
    "unif_density=nmax/bin_vol\n",
    "uniform_numb=int(unif_density*Volume)+1\n",
    "#-----------------------------------------------------------------------------\n",
    "dcom_min=cosmoflag.comoving_distance(z_flag_min).value\n",
    "dcom_max=cosmoflag.comoving_distance(z_flag_max).value\n",
    "dl_min=cosmoflag.luminosity_distance(z_flag_min).value\n",
    "dl_max=cosmoflag.luminosity_distance(z_flag_max).value\n",
    "#-----------------------------------------------------------------------------\n",
    "print('Catalogue:\\nz_min={}, z_max={},\\nphi_min={}, phi_max={}, theta_min={}, theta_max={}'\n",
    "      .format(z_flag_min,z_flag_max,phi_flag_min,phi_flag_max,theta_flag_min,theta_flag_max))\n"
   ]
  },
  {
   "cell_type": "code",
   "execution_count": null,
   "id": "a7d62013",
   "metadata": {},
   "outputs": [],
   "source": [
    "cat_name='Uniform_from_flag_big.txt'\n",
    "\n",
    "\n",
    "#------------------points generator------------------\n",
    "u = np.random.uniform(0,1,size=uniform_numb) # uniform random vector of size nsamp\n",
    "dc_gals_all     = np.cbrt((u*dcom_min**3)+((1-u)*dcom_max**3))\n",
    "phi_gals   = np.random.uniform(phi_flag_min,phi_flag_max,uniform_numb)\n",
    "theta_gals = np.arccos( np.random.uniform(np.cos(theta_flag_max),np.cos(theta_flag_min),uniform_numb) )\n",
    "dc_gals=dc_gals_all[dc_gals_all>=dcom_min]\n",
    "new_phi_gals=np.random.choice(phi_gals,len(dc_gals))\n",
    "new_theta_gals=np.random.choice(theta_gals,len(dc_gals))\n"
   ]
  },
  {
   "cell_type": "code",
   "execution_count": null,
   "id": "e1b2680f",
   "metadata": {},
   "outputs": [],
   "source": [
    "'''# need to use pool here\n",
    "    for i in tqdm(range(len(dc_gals))):\n",
    "        z=z_dc(dc_gals[i],href,Om0GLOB)\n",
    "        z_gals[i]=z\n",
    "        dl_gals[i]=Dl_z(z,href,Om0GLOB)\n",
    "    new_phi_gals=np.random.choice(phi_gals,len(dc_gals))\n",
    "    new_theta_gals=np.random.choice(theta_gals,len(dc_gals))\n",
    "\n",
    "    colnames=['Ngal','Comoving Distance','Luminosity Distance','z','phi','theta']\n",
    "    MyCat = pd.DataFrame(columns=colnames)\n",
    "    MyCat['Ngal']=num\n",
    "    MyCat['Comoving Distance']=dc_gals\n",
    "    MyCat['Luminosity Distance']=dl_gals\n",
    "    MyCat['z']=z_gals\n",
    "    MyCat['phi']=new_phi_gals\n",
    "    MyCat['theta']=new_theta_gals\n",
    "    print('Saving '+cat_name)\n",
    "    MyCat.to_csv(cat_name, header=None, index=None, sep=' ')'''"
   ]
  },
  {
   "cell_type": "code",
   "execution_count": null,
   "id": "bef76b6c",
   "metadata": {},
   "outputs": [],
   "source": [
    "def uniform_volume(iterations):\n",
    "#for i in tqdm(range(flagship.shape[0])):\n",
    "#for i in range(iterations):\n",
    "    i=iterations\n",
    "    numevent=i\n",
    "    phigal=new_phi_gals[i]\n",
    "    thetagal=new_theta_gals[i]\n",
    "    dc=dc_gals[i]\n",
    "    #----------z----------------------\n",
    "    zz=z_dc(dc,href,Om0GLOB)\n",
    "    dl=Dl_z(zz,href,Om0GLOB)\n",
    "    #----------row to append---------------------\n",
    "    proxy_row={'Ngal':numevent,'Comoving Distance':dc,'Luminosity Distance':dl,\n",
    "               'z':zz,'phi':phigal,'theta':thetagal\n",
    "          }\n",
    "    return proxy_row\n",
    "def z_from_dcom(dc_val):\n",
    "    '''\n",
    "    Returns redshift for a given comoving distance dc (in Mpc)'''\n",
    "    \n",
    "    func = lambda z :cosmoflag.comoving_distance(z).value - dc_val\n",
    "    z = fsolve(func, 0.5)\n",
    "    return z[0]"
   ]
  },
  {
   "cell_type": "code",
   "execution_count": null,
   "id": "a436519c",
   "metadata": {},
   "outputs": [],
   "source": [
    "numevent=int(0)\n",
    "proxy_row={'Ngal':numevent,'Comoving Distance':0,'Luminosity Distance':0,\n",
    "               'z':0,'phi':0,'theta':0\n",
    "          }"
   ]
  },
  {
   "cell_type": "code",
   "execution_count": null,
   "id": "b1b54392",
   "metadata": {},
   "outputs": [],
   "source": [
    "colnames=['Ngal','Comoving Distance','Luminosity Distance','z','phi','theta']\n",
    "uniform_scaled = pd.DataFrame(columns=colnames)\n",
    "#glade_like.columns=colnames\n",
    "uniform_scaled.head()"
   ]
  },
  {
   "cell_type": "code",
   "execution_count": null,
   "id": "a274e5eb",
   "metadata": {},
   "outputs": [],
   "source": [
    "from tqdm import tqdm\n",
    "arr=np.arange(0,len(dc_gals),dtype=int)\n",
    "data=[]\n",
    "tmp=[]\n",
    "start_time = time.time()\n",
    "print('I am Doing my best, please wait...')\n",
    "with Pool(14) as p, tqdm(total=len(arr)) as pbar:\n",
    "    tmp=p.map(uniform_volume, arr)\n",
    "print(\"--- %s seconds ---\" % (time.time() - start_time))"
   ]
  },
  {
   "cell_type": "code",
   "execution_count": null,
   "id": "ef684236",
   "metadata": {},
   "outputs": [],
   "source": [
    "uniform_scaled=uniform_scaled.append(tmp, ignore_index=True)"
   ]
  },
  {
   "cell_type": "code",
   "execution_count": null,
   "id": "99e927b9",
   "metadata": {},
   "outputs": [],
   "source": [
    "os.chdir(save_cat_path)\n",
    "uniform_scaled.to_csv(cat_name, header=None, index=None, sep=' ')"
   ]
  },
  {
   "cell_type": "markdown",
   "id": "d6dd464f",
   "metadata": {},
   "source": [
    "# Plot The results"
   ]
  },
  {
   "cell_type": "code",
   "execution_count": null,
   "id": "18d8af31",
   "metadata": {},
   "outputs": [],
   "source": [
    "fig, ax = plt.subplots(1, figsize=(12,8)) #crea un tupla che poi è più semplice da gestire\n",
    "ax.tick_params(axis='both', which='major', labelsize=14)\n",
    "ax.yaxis.get_offset_text().set_fontsize(14)\n",
    "ax.grid(linestyle='dotted', linewidth='0.6')#griglia in sfondo\n",
    "colors=plt.cm.turbo(np.linspace(0.99,0.01,16))\n",
    "\n",
    "#nbins=30\n",
    "(n_unif,bin_unif,patches_unif)=ax.hist(uniform_scaled['z'],bins=nbins,range=(z_flag_min,z_flag_max),color=colors[9])\n",
    "(n_flag,bin_flag,patches_flag)=ax.hist(z_flag,bins=nbins,range=(z_flag_min,z_flag_max),color=colors[-1])\n",
    "\n",
    "ax.scatter(mybins,n,color=colors[3])\n",
    "#ax.plot(mybins,myN(mybins),color=colors[3])\n",
    "ax.set_xlabel(r'$z$', fontsize=20)\n",
    "ax.set_ylabel(r'$N(z)$', fontsize=20)"
   ]
  },
  {
   "cell_type": "code",
   "execution_count": null,
   "id": "e68a4437",
   "metadata": {},
   "outputs": [],
   "source": [
    "mask=n_flag>n_unif\n",
    "print(np.sum(mask))"
   ]
  },
  {
   "cell_type": "markdown",
   "id": "58df0d0c",
   "metadata": {},
   "source": [
    "# Statistical Weights $w$(z)"
   ]
  },
  {
   "cell_type": "code",
   "execution_count": null,
   "id": "e4217de0",
   "metadata": {},
   "outputs": [],
   "source": [
    "flag_over_unif=n_flag/n_unif\n",
    "w_hist=1/flag_over_unif\n",
    "w=interpolate.interp1d(mybins,w_hist,kind='cubic',fill_value='extrapolate')"
   ]
  },
  {
   "cell_type": "code",
   "execution_count": null,
   "id": "4eeaf78c",
   "metadata": {},
   "outputs": [],
   "source": [
    "fig, ax = plt.subplots(1, figsize=(12,8)) #crea un tupla che poi è più semplice da gestire\n",
    "ax.tick_params(axis='both', which='major', labelsize=14)\n",
    "ax.yaxis.get_offset_text().set_fontsize(14)\n",
    "ax.grid(linestyle='dotted', linewidth='0.6')#griglia in sfondo\n",
    "colors=plt.cm.turbo(np.linspace(0.99,0.01,16))\n",
    "\n",
    "\n",
    "nbins=30\n",
    "ax.plot(mybins,w(mybins),color=colors[3])\n",
    "#ax.plot(mybins,myN(mybins),color=colors[3])\n",
    "ax.set_xlabel(r'$z$', fontsize=20)\n",
    "ax.set_ylabel(r'$w(z)$', fontsize=20)"
   ]
  },
  {
   "cell_type": "code",
   "execution_count": null,
   "id": "c6e446ff",
   "metadata": {},
   "outputs": [],
   "source": [
    "fig, ax = plt.subplots(1, figsize=(12,8)) #crea un tupla che poi è più semplice da gestire\n",
    "ax.tick_params(axis='both', which='major', labelsize=14)\n",
    "ax.yaxis.get_offset_text().set_fontsize(14)\n",
    "ax.grid(linestyle='dotted', linewidth='0.6')#griglia in sfondo\n",
    "colors=plt.cm.turbo(np.linspace(0.99,0.01,16))\n",
    "\n",
    "\n",
    "nbins=30\n",
    "ax.plot(mybins,w(mybins)/np.max(w(mybins)),color=colors[-2])\n",
    "ax.plot(mybins,myN(mybins)/np.max(myN(mybins)),color=colors[3])\n",
    "ax.set_xlabel(r'$z$', fontsize=20)\n",
    "ax.set_ylabel(r'$w(z)$', fontsize=20)"
   ]
  },
  {
   "cell_type": "code",
   "execution_count": null,
   "id": "c54da142",
   "metadata": {},
   "outputs": [],
   "source": [
    "#np.savetxt('weights_bin.txt', mybins)\n",
    "#np.savetxt('weights.txt', w(mybins))"
   ]
  },
  {
   "cell_type": "markdown",
   "id": "82cbd5cd",
   "metadata": {},
   "source": [
    "# Save the flagship for postcalculator.py"
   ]
  },
  {
   "cell_type": "code",
   "execution_count": null,
   "id": "fa6c35fd",
   "metadata": {},
   "outputs": [],
   "source": [
    "colnames=['Ngal','Comoving Distance','Luminosity Distance','z','phi','theta']\n",
    "filtered_flag = pd.DataFrame(columns=colnames)\n",
    "#glade_like.columns=colnames\n",
    "#filtered_flag.head()"
   ]
  },
  {
   "cell_type": "code",
   "execution_count": null,
   "id": "a9ed455f",
   "metadata": {},
   "outputs": [],
   "source": [
    "flag.head(1)"
   ]
  },
  {
   "cell_type": "code",
   "execution_count": null,
   "id": "b2b0cc50",
   "metadata": {},
   "outputs": [],
   "source": [
    "Ngal=np.arange(flag.shape[0])\n",
    "dl_to_save=flag['dl'].values\n",
    "z_to_save=flag['z'].values\n",
    "dc_to_save=dl_to_save/(1+z_to_save)\n",
    "phi_to_save=RA2phi(flag['right_ascension_degrees'].values)\n",
    "theta_to_save=DEC2theta(flag['declination_degrees'].values)"
   ]
  },
  {
   "cell_type": "code",
   "execution_count": null,
   "id": "6b586f8e",
   "metadata": {},
   "outputs": [],
   "source": [
    "filtered_flag['Ngal']=Ngal\n",
    "filtered_flag['Comoving Distance']=dc_to_save\n",
    "filtered_flag['Luminosity Distance']=dl_to_save\n",
    "filtered_flag['z']=z_to_save\n",
    "filtered_flag['phi']=phi_to_save\n",
    "filtered_flag['theta']=theta_to_save"
   ]
  },
  {
   "cell_type": "code",
   "execution_count": null,
   "id": "4360cd43",
   "metadata": {},
   "outputs": [],
   "source": [
    "filtered_flag.head()\n",
    "os.chdir(save_cat_path)\n",
    "filtered_flag.to_csv('Flag.txt', header=None, index=None, sep=' ')"
   ]
  },
  {
   "cell_type": "code",
   "execution_count": null,
   "id": "fbf8af09",
   "metadata": {},
   "outputs": [],
   "source": []
  },
  {
   "cell_type": "markdown",
   "id": "713965f2",
   "metadata": {},
   "source": [
    "# Extraction from the uniform\n",
    "Now, for each bin of the data, we thake that many host from the flagship, thus keeping the structure of the catalogue"
   ]
  },
  {
   "cell_type": "code",
   "execution_count": null,
   "id": "587db0bd",
   "metadata": {},
   "outputs": [],
   "source": [
    "os.chdir(save_cat_path)"
   ]
  },
  {
   "cell_type": "code",
   "execution_count": null,
   "id": "032a4151",
   "metadata": {},
   "outputs": [],
   "source": [
    "unif = pd.read_csv('Uniform_from_flag_big.txt', sep=\" \", header=None)\n",
    "colnames=['Ngal','Comoving Distance','Luminosity Distance','z','phi','theta']\n",
    "unif.columns=colnames\n",
    "\n",
    "flag = pd.read_csv('Flag.txt', sep=\" \", header=None)\n",
    "colnames=['Ngal','Comoving Distance','Luminosity Distance','z','phi','theta']\n",
    "flag.columns=colnames"
   ]
  },
  {
   "cell_type": "code",
   "execution_count": null,
   "id": "e2c34061",
   "metadata": {},
   "outputs": [],
   "source": [
    "z_flag_min=np.min(flag['z'])\n",
    "z_flag_max=np.max(flag['z'])\n"
   ]
  },
  {
   "cell_type": "code",
   "execution_count": null,
   "id": "343deb56",
   "metadata": {},
   "outputs": [],
   "source": [
    "dilution = pd.DataFrame(columns = colnames)\n",
    "dilution=flag.sample(frac=0.5)"
   ]
  },
  {
   "cell_type": "code",
   "execution_count": null,
   "id": "c0dad79c",
   "metadata": {},
   "outputs": [],
   "source": [
    "fig, ax = plt.subplots(1, figsize=(12,8)) #crea un tupla che poi è più semplice da gestire\n",
    "ax.tick_params(axis='both', which='major', labelsize=14)\n",
    "ax.yaxis.get_offset_text().set_fontsize(14)\n",
    "ax.grid(linestyle='dotted', linewidth='0.6')#griglia in sfondo\n",
    "colors=plt.cm.turbo(np.linspace(0.99,0.01,16))\n",
    "\n",
    "nbins=30\n",
    "\n",
    "(n_unif,bin_unif,patches_unif)=ax.hist(unif['z'],bins=nbins,range=(z_flag_min,z_flag_max),color='springgreen')\n",
    "(n_flag,bin_flag,patches_flag)=ax.hist(dilution['z'],bins=nbins,range=(z_flag_min,z_flag_max),color='teal')\n",
    "\n",
    "#ax.scatter(mybins,n,color=colors[3])\n",
    "#ax.plot(mybins,myN(mybins),color=colors[3])\n",
    "ax.set_xlabel(r'$z$', fontsize=20)\n",
    "ax.set_ylabel(r'$N(z)$', fontsize=20)"
   ]
  },
  {
   "cell_type": "code",
   "execution_count": null,
   "id": "d64764d2",
   "metadata": {},
   "outputs": [],
   "source": [
    "mask=n_flag>n_unif\n",
    "print(np.sum(mask))#if is 0 then ok"
   ]
  },
  {
   "cell_type": "code",
   "execution_count": null,
   "id": "2061a24d",
   "metadata": {},
   "outputs": [],
   "source": [
    "factor=(n_flag[1]+1000)/n_unif[1]\n",
    "puppet_unif=unif.sample(frac=factor)"
   ]
  },
  {
   "cell_type": "code",
   "execution_count": null,
   "id": "4f013f69",
   "metadata": {},
   "outputs": [],
   "source": [
    "print(factor)"
   ]
  },
  {
   "cell_type": "code",
   "execution_count": null,
   "id": "90db1ce8",
   "metadata": {},
   "outputs": [],
   "source": [
    "half_step=(bin_unif[1]-bin_unif[0])/2\n",
    "mybins=bin_unif[:-1]+half_step\n",
    "n=n_unif-n_flag"
   ]
  },
  {
   "cell_type": "code",
   "execution_count": null,
   "id": "7b940847",
   "metadata": {},
   "outputs": [],
   "source": [
    "result = pd.DataFrame(columns = colnames)"
   ]
  },
  {
   "cell_type": "code",
   "execution_count": null,
   "id": "61ab5a17",
   "metadata": {},
   "outputs": [],
   "source": [
    "for i in range(len(mybins)):\n",
    "    temp_bin=unif[unif['z']>=mybins[i]-half_step]\n",
    "    temp_bin=temp_bin[temp_bin['z']<=mybins[i]+half_step]\n",
    "    temp_bin=temp_bin.sample(round(n[i]))\n",
    "    result=result.append(temp_bin, ignore_index=True)"
   ]
  },
  {
   "cell_type": "code",
   "execution_count": null,
   "id": "e8736500",
   "metadata": {},
   "outputs": [],
   "source": [
    "fig, ax = plt.subplots(1, figsize=(12,8)) #crea un tupla che poi è più semplice da gestire\n",
    "ax.tick_params(axis='both', which='major', labelsize=14)\n",
    "ax.yaxis.get_offset_text().set_fontsize(14)\n",
    "ax.grid(linestyle='dotted', linewidth='0.6')#griglia in sfondo\n",
    "colors=plt.cm.turbo(np.linspace(0.99,0.01,16))\n",
    "\n",
    "#nbins=30\n",
    "#(n_unif,bin_unif,patches_unif)=ax.hist(unif['z'],bins=nbins,range=(z_flag_min,z_flag_max),color=colors[9])\n",
    "(n_puppet,bin_puppet,patches_diluted)=ax.hist(puppet_unif['z'],bins=nbins,range=(z_flag_min,z_flag_max),color=colors[5])\n",
    "(n_flag,bin_flag,patches_flag)=ax.hist(dilution['z'],bins=nbins,range=(z_flag_min,z_flag_max),color='teal')\n",
    "#ax.scatter(mybins,n_diluted+n_flag,color='purple',marker='x')\n",
    "#ax.plot(mybins,myN(mybins),color=colors[3])\n",
    "ax.set_xlabel(r'$z$', fontsize=20)\n",
    "ax.set_ylabel(r'$N(z)$', fontsize=20)"
   ]
  },
  {
   "cell_type": "code",
   "execution_count": null,
   "id": "7427005f",
   "metadata": {},
   "outputs": [],
   "source": [
    "mask=n_flag>n_puppet\n",
    "print(np.sum(mask))"
   ]
  },
  {
   "cell_type": "code",
   "execution_count": null,
   "id": "4bfd9cbf",
   "metadata": {},
   "outputs": [],
   "source": [
    "os.chdir(save_cat_path)\n",
    "puppet_unif.to_csv('Uniform_for_half_flag.txt', header=None, index=None, sep=' ')"
   ]
  },
  {
   "cell_type": "code",
   "execution_count": null,
   "id": "062672cb",
   "metadata": {},
   "outputs": [],
   "source": [
    "os.chdir(save_cat_path)\n",
    "dilution.to_csv('half_flag.txt', header=None, index=None, sep=' ')"
   ]
  },
  {
   "cell_type": "code",
   "execution_count": null,
   "id": "82fcf80a",
   "metadata": {},
   "outputs": [],
   "source": [
    "flag_over_unif=n_flag/n_puppet\n",
    "print(np.max(flag_over_unif))\n",
    "w_hist=1/flag_over_unif\n",
    "w_normed=w_hist/np.sum(w_hist)\n",
    "w=interpolate.interp1d(mybins,w_normed,kind='cubic',fill_value='extrapolate')"
   ]
  },
  {
   "cell_type": "code",
   "execution_count": null,
   "id": "cbad86b9",
   "metadata": {},
   "outputs": [],
   "source": [
    "fig, ax = plt.subplots(1, figsize=(12,8)) #crea un tupla che poi è più semplice da gestire\n",
    "ax.tick_params(axis='both', which='major', labelsize=14)\n",
    "ax.yaxis.get_offset_text().set_fontsize(14)\n",
    "ax.grid(linestyle='dotted', linewidth='0.6')#griglia in sfondo\n",
    "colors=plt.cm.turbo(np.linspace(0.99,0.01,16))\n",
    "\n",
    "\n",
    "ax.plot(mybins,w(mybins),color=colors[3])\n",
    "ax.set_xlabel(r'$z$', fontsize=20)\n",
    "ax.set_ylabel(r'$w(z)$', fontsize=20)"
   ]
  },
  {
   "cell_type": "code",
   "execution_count": null,
   "id": "c593fc12",
   "metadata": {},
   "outputs": [],
   "source": [
    "np.savetxt('half_flag_bin.txt', mybins)\n",
    "np.savetxt('half_flag_weights.txt', w_normed)"
   ]
  },
  {
   "cell_type": "markdown",
   "id": "14784521",
   "metadata": {},
   "source": [
    "# Extrac a uniform with Flag N(z)"
   ]
  },
  {
   "cell_type": "code",
   "execution_count": null,
   "id": "77b554ce",
   "metadata": {},
   "outputs": [],
   "source": [
    "smallunif = pd.read_csv('Uniform_for_half_flag.txt', sep=\" \", header=None)\n",
    "colnames=['Ngal','Comoving Distance','Luminosity Distance','z','phi','theta','scattered DL']\n",
    "smallunif.columns=colnames"
   ]
  },
  {
   "cell_type": "code",
   "execution_count": null,
   "id": "c66ff469",
   "metadata": {},
   "outputs": [],
   "source": [
    "dilution = pd.read_csv('half_flag.txt', sep=\" \", header=None)\n",
    "dilution.columns=colnames"
   ]
  },
  {
   "cell_type": "code",
   "execution_count": null,
   "id": "458798a1",
   "metadata": {},
   "outputs": [],
   "source": [
    "smallunif.shape"
   ]
  },
  {
   "cell_type": "code",
   "execution_count": null,
   "id": "22e25776",
   "metadata": {},
   "outputs": [],
   "source": [
    "fig, ax = plt.subplots(1, figsize=(12,8)) #crea un tupla che poi è più semplice da gestire\n",
    "ax.tick_params(axis='both', which='major', labelsize=14)\n",
    "ax.yaxis.get_offset_text().set_fontsize(14)\n",
    "ax.grid(linestyle='dotted', linewidth='0.6')#griglia in sfondo\n",
    "colors=plt.cm.turbo(np.linspace(0.99,0.01,16))\n",
    "\n",
    "nbins=30\n",
    "(n_unif,bin_unif,patches_unif)=ax.hist(smallunif['z'],bins=nbins,range=(smallunif['z'].min(),smallunif['z'].max()),color=colors[9])\n",
    "#(n_result,bin_result,patches_result)=ax.hist(result['z'],bins=nbins,range=(z_flag_min,z_flag_max),color=colors[5])\n",
    "(n_flag,bin_flag,patches_flag)=ax.hist(dilution['z'],bins=nbins,range=(smallunif['z'].min(),smallunif['z'].max()),color='teal')\n",
    "#ax.scatter(mybins,n_flag,color='purple',marker='x')\n",
    "#ax.plot(mybins,myN(mybins),color=colors[3])\n",
    "ax.set_xlabel(r'$z$', fontsize=20)\n",
    "ax.set_ylabel(r'$N(z)$', fontsize=20)"
   ]
  },
  {
   "cell_type": "code",
   "execution_count": null,
   "id": "de69613f",
   "metadata": {},
   "outputs": [],
   "source": [
    "half_step=(bin_unif[1]-bin_unif[0])/2\n",
    "mybins=bin_unif[:-1]+half_step\n",
    "result = pd.DataFrame(columns = colnames)\n",
    "for i in range(len(mybins)):\n",
    "    temp_bin=smallunif[smallunif['z']>=mybins[i]-half_step]\n",
    "    temp_bin=temp_bin[temp_bin['z']<=mybins[i]+half_step]\n",
    "    temp_bin=temp_bin.sample(round(n_flag[i]))\n",
    "    result=result.append(temp_bin, ignore_index=True)"
   ]
  },
  {
   "cell_type": "code",
   "execution_count": null,
   "id": "82efac79",
   "metadata": {},
   "outputs": [],
   "source": [
    "fig, ax = plt.subplots(1, figsize=(12,8)) #crea un tupla che poi è più semplice da gestire\n",
    "ax.tick_params(axis='both', which='major', labelsize=14)\n",
    "ax.yaxis.get_offset_text().set_fontsize(14)\n",
    "ax.grid(linestyle='dotted', linewidth='0.6')#griglia in sfondo\n",
    "colors=plt.cm.turbo(np.linspace(0.99,0.01,16))\n",
    "\n",
    "nbins=30\n",
    "(n_unif,bin_unif,patches_unif)=ax.hist(smallunif['z'],bins=nbins,range=(smallunif['z'].min(),smallunif['z'].max()),color=colors[9])\n",
    "(n_result,bin_result,patches_result)=ax.hist(result['z'],bins=nbins,range=(smallunif['z'].min(),smallunif['z'].max()),color=colors[5])\n",
    "#(n_flag,bin_flag,patches_flag)=ax.hist(dilution['z'],bins=nbins,range=(smallunif['z'].min(),smallunif['z'].max()),color='teal')\n",
    "\n",
    "ax.scatter(mybins,n_flag,color='purple',marker='x')\n",
    "\n",
    "ax.set_xlabel(r'$z$', fontsize=20)\n",
    "ax.set_ylabel(r'$N(z)$', fontsize=20)"
   ]
  },
  {
   "cell_type": "code",
   "execution_count": null,
   "id": "0e0f8718",
   "metadata": {},
   "outputs": [],
   "source": [
    "href=67 #69\n",
    "Om0GLOB=0.319\n",
    "Xi0Glob =1.\n",
    "clight = 2.99792458* 10**5#km/s\n",
    "cosmoflag = FlatLambdaCDM(H0=href, Om0=Om0GLOB)\n",
    "@njit\n",
    "def E_z(z, H0, Om=Om0GLOB):\n",
    "    return np.sqrt(Om*(1+z)**3+(1-Om))\n",
    "\n",
    "def r_z(z, H0, Om=Om0GLOB):\n",
    "    c = clight\n",
    "    integrand = lambda x : 1/E_z(x, H0, Om)\n",
    "    integral, error = integrate.quad(integrand, 0, z)\n",
    "    return integral*c/H0\n",
    "\n",
    "def Dl_z(z, H0, Om=Om0GLOB):\n",
    "    return r_z(z, H0, Om)*(1+z)\n",
    "def z_dc(dc,h,om=Om0GLOB):\n",
    "    func = lambda z :r_z(z, h, Om0GLOB) - dc\n",
    "    zres = fsolve(func, 0.02)[0] \n",
    "    return zres\n",
    "def h_ofzdc(z,dc,Om=Om0GLOB):\n",
    "    func= lambda h: r_z(z, h, Om0GLOB)-dc\n",
    "    hres=fsolve(func, 60)[0]\n",
    "    return hres"
   ]
  },
  {
   "cell_type": "code",
   "execution_count": null,
   "id": "9925f9df",
   "metadata": {},
   "outputs": [],
   "source": [
    "my_dl=smallunif['Luminosity Distance']\n",
    "my_sca=smallunif['scattered DL']\n",
    "sigma=0.1*my_dl\n",
    "diff=(my_dl-my_sca)/sigma"
   ]
  },
  {
   "cell_type": "code",
   "execution_count": null,
   "id": "41f8e0b3",
   "metadata": {},
   "outputs": [],
   "source": [
    "fig, ax = plt.subplots(1, figsize=(12,8)) #crea un tupla che poi è più semplice da gestire\n",
    "ax.tick_params(axis='both', which='major', labelsize=14)\n",
    "ax.yaxis.get_offset_text().set_fontsize(14)\n",
    "ax.grid(linestyle='dotted', linewidth='0.6')#griglia in sfondo\n",
    "colors=plt.cm.turbo(np.linspace(0.99,0.01,16))\n",
    "\n",
    "nbins=30\n",
    "(n_scat,bin_scat,patches_scat)=ax.hist(diff,bins=nbins,range=(-3,3),color=colors[9])"
   ]
  },
  {
   "cell_type": "code",
   "execution_count": null,
   "id": "36489072",
   "metadata": {},
   "outputs": [],
   "source": [
    "os.chdir(save_cat_path)\n",
    "#result.to_csv('Uniform_Nz_half_flag.txt', header=None, index=None, sep=' ')"
   ]
  },
  {
   "cell_type": "markdown",
   "id": "7c43f6a2",
   "metadata": {},
   "source": [
    "# Arbitrary N(z)"
   ]
  },
  {
   "cell_type": "code",
   "execution_count": null,
   "id": "3a567c51",
   "metadata": {},
   "outputs": [],
   "source": [
    "from numpy.random import random\n",
    "#-----------rejection-stuff------------\n",
    "def sample(g,xmin,xmax):\n",
    "    x = np.linspace(xmin,xmax,1000000)\n",
    "    y = g(x)                        # probability density function, pdf\n",
    "    cdf_y = np.cumsum(y)            # cumulative distribution function, cdf\n",
    "    cdf_y = cdf_y/cdf_y.max()       # takes care of normalizing cdf to 1.0\n",
    "    inverse_cdf = interpolate.interp1d(cdf_y,x,fill_value=\"extrapolate\")# this is a function\n",
    "    #inverse_cdf = np.interp(0,cdf_y,x) #this works but it is not a function\n",
    "    return inverse_cdf\n",
    "def return_samples(f,xmin,xmax,N=1000000):\n",
    "    # let's generate some samples according to the chosen pdf, f(x)\n",
    "    uniform_samples = random(int(N))       \n",
    "    required_samples = sample(f,xmin,xmax)(uniform_samples)\n",
    "    return required_samples"
   ]
  },
  {
   "cell_type": "code",
   "execution_count": null,
   "id": "1a96c1da",
   "metadata": {},
   "outputs": [],
   "source": [
    "os.chdir(save_cat_path)\n",
    "fastcat = pd.read_csv('FullExplorer_big.txt', sep=\" \", header=None)\n",
    "colnames=['Ngal','Comoving Distance','Luminosity Distance','z','phi','theta','scattered DL']\n",
    "fastcat.columns=colnames"
   ]
  },
  {
   "cell_type": "code",
   "execution_count": null,
   "id": "fe70af22",
   "metadata": {},
   "outputs": [],
   "source": [
    "fastcat_zmin=np.min(fastcat['z'])\n",
    "fastcat_zmax=np.max(fastcat['z'])\n",
    "nbins=50"
   ]
  },
  {
   "cell_type": "code",
   "execution_count": null,
   "id": "283c51dc",
   "metadata": {},
   "outputs": [],
   "source": [
    "fig, ax = plt.subplots(1, figsize=(12,8)) #crea un tupla che poi è più semplice da gestire\n",
    "ax.tick_params(axis='both', which='major', labelsize=14)\n",
    "ax.yaxis.get_offset_text().set_fontsize(14)\n",
    "ax.grid(linestyle='dotted', linewidth='0.6')#griglia in sfondo\n",
    "colors=plt.cm.turbo(np.linspace(0.99,0.01,16))\n",
    "\n",
    "#nbins=30\n",
    "\n",
    "(n_unif,bin_unif,patches_unif)=ax.hist(fastcat['z'],bins=nbins,range=(fastcat_zmin,fastcat_zmax),color=colors[9])\n",
    "\n",
    "#ax.plot(mybins,myN(mybins),color=colors[3])\n",
    "ax.set_xlabel(r'$z$', fontsize=20)\n",
    "ax.set_ylabel(r'$N(z)$', fontsize=20)"
   ]
  },
  {
   "cell_type": "code",
   "execution_count": null,
   "id": "315aaf10",
   "metadata": {},
   "outputs": [],
   "source": [
    "#z_cut=0.8\n",
    "#fast_cutted=fastcat[fastcat['z']>=z_cut]\n",
    "fast_cutted=fastcat\n",
    "fast_cutted_zmin=np.min(fast_cutted['z'])\n",
    "fast_cutted_zmax=np.max(fast_cutted['z'])\n",
    "\n",
    "nbins=30"
   ]
  },
  {
   "cell_type": "code",
   "execution_count": null,
   "id": "85dccd3b",
   "metadata": {},
   "outputs": [],
   "source": [
    "fig, ax = plt.subplots(1, figsize=(12,8)) #crea un tupla che poi è più semplice da gestire\n",
    "ax.tick_params(axis='both', which='major', labelsize=14)\n",
    "ax.yaxis.get_offset_text().set_fontsize(14)\n",
    "ax.grid(linestyle='dotted', linewidth='0.6')#griglia in sfondo\n",
    "colors=plt.cm.turbo(np.linspace(0.99,0.01,16))\n",
    "\n",
    "#nbins=30\n",
    "\n",
    "(n_unif,bin_unif,patches_unif)=ax.hist(fast_cutted['z'],bins=nbins,range=(fast_cutted_zmin,fast_cutted_zmax),color=colors[9])\n",
    "\n",
    "#ax.plot(mybins,myN(mybins),color=colors[3])\n",
    "ax.set_xlabel(r'$z$', fontsize=20)\n",
    "ax.set_ylabel(r'$N(z)$', fontsize=20)"
   ]
  },
  {
   "cell_type": "code",
   "execution_count": null,
   "id": "2a5601f3",
   "metadata": {},
   "outputs": [],
   "source": [
    "print(fast_cutted.shape[0]/1000000)"
   ]
  },
  {
   "cell_type": "code",
   "execution_count": null,
   "id": "4eb54855",
   "metadata": {},
   "outputs": [],
   "source": [
    "zpicco=1.1\n",
    "alpha=2\n",
    "gamma=1\n",
    "beta=1.82#gamma*(alpha/zpicco)\n",
    "check=(alpha*gamma)/beta\n",
    "print(alpha,beta,gamma,check)"
   ]
  },
  {
   "cell_type": "code",
   "execution_count": null,
   "id": "61fa8da6",
   "metadata": {},
   "outputs": [],
   "source": [
    "#fake_nz=lambda x: 1/x**2\n",
    "fake_nz=lambda x: (x**alpha)*np.exp(-((x**beta)/gamma))\n",
    "deriv=lambda x: (x**(alpha-1))*np.exp(-((x**beta)/gamma))*(alpha-beta*x**(beta)/gamma)\n",
    "N_extraction=1000_000\n",
    "z_genrated=return_samples(fake_nz,fast_cutted_zmin,fast_cutted_zmax,N_extraction)"
   ]
  },
  {
   "cell_type": "code",
   "execution_count": null,
   "id": "5eacc601",
   "metadata": {},
   "outputs": [],
   "source": [
    "fig, ax = plt.subplots(1, figsize=(12,8)) #crea un tupla che poi è più semplice da gestire\n",
    "ax.tick_params(axis='both', which='major', labelsize=14)\n",
    "ax.yaxis.get_offset_text().set_fontsize(14)\n",
    "ax.grid(linestyle='dotted', linewidth='0.6')#griglia in sfondo\n",
    "colors=plt.cm.turbo(np.linspace(0.99,0.01,16))\n",
    "\n",
    "nbins=50\n",
    "\n",
    "(n_unif,bin_unif,patches_unif)=ax.hist(fast_cutted['z'],bins=nbins,range=(fast_cutted_zmin,fast_cutted_zmax),\n",
    "                                       color=colors[9],alpha=0.8)\n",
    "(n_sel,bin_sel,patches_sel)=ax.hist(z_genrated,bins=nbins,range=(fast_cutted_zmin,fast_cutted_zmax),\n",
    "                                    color=colors[1],alpha=0.5)\n",
    "\n",
    "#ax.plot(mybins,myN(mybins),color=colors[3])\n",
    "ax.set_xlabel(r'$z$', fontsize=20)\n",
    "ax.set_ylabel(r'$N(z)$', fontsize=20)"
   ]
  },
  {
   "cell_type": "code",
   "execution_count": null,
   "id": "709b06ad",
   "metadata": {},
   "outputs": [],
   "source": [
    "mask=n_sel>n_unif\n",
    "print(np.sum(mask))#if is 0 then ok"
   ]
  },
  {
   "cell_type": "code",
   "execution_count": null,
   "id": "eb4f0257",
   "metadata": {},
   "outputs": [],
   "source": [
    "testdiluted = pd.DataFrame(columns = colnames)\n",
    "half_step=(bin_unif[1]-bin_unif[0])/2\n",
    "mybins=bin_unif[:-1]+half_step\n",
    "for i in range(len(mybins)):\n",
    "    temp_bin=fast_cutted[fast_cutted['z']>=mybins[i]-half_step]\n",
    "    temp_bin=temp_bin[temp_bin['z']<=mybins[i]+half_step]\n",
    "    temp_bin=temp_bin.sample(round(n_sel[i]))\n",
    "    testdiluted=testdiluted.append(temp_bin, ignore_index=True)"
   ]
  },
  {
   "cell_type": "code",
   "execution_count": null,
   "id": "4938f68a",
   "metadata": {},
   "outputs": [],
   "source": [
    "testdiluted.head()"
   ]
  },
  {
   "cell_type": "code",
   "execution_count": null,
   "id": "586fa09e",
   "metadata": {},
   "outputs": [],
   "source": [
    "fig, ax = plt.subplots(1, figsize=(12,8)) #crea un tupla che poi è più semplice da gestire\n",
    "ax.tick_params(axis='both', which='major', labelsize=14)\n",
    "ax.yaxis.get_offset_text().set_fontsize(14)\n",
    "ax.grid(linestyle='dotted', linewidth='0.6')#griglia in sfondo\n",
    "colors=plt.cm.turbo(np.linspace(0.99,0.01,16))\n",
    "\n",
    "#nbins=30\n",
    "\n",
    "(n_unif,bin_unif,patches_unif)=ax.hist(fast_cutted['z'],bins=nbins,range=(fast_cutted_zmin,fast_cutted_zmax),color=colors[9])\n",
    "(n_sel,bin_sel,patches_sel)=ax.hist(testdiluted['z'],bins=nbins,range=(fast_cutted_zmin,fast_cutted_zmax),color=colors[3])\n",
    "\n",
    "ax.scatter(mybins,n_sel,color=colors[1])\n",
    "ax.set_xlabel(r'$z$', fontsize=20)\n",
    "ax.set_ylabel(r'$N(z)$', fontsize=20)"
   ]
  },
  {
   "cell_type": "code",
   "execution_count": null,
   "id": "804935eb",
   "metadata": {},
   "outputs": [],
   "source": [
    "os.chdir(save_cat_path)\n",
    "testdiluted.to_csv('Nz01.txt', header=None, index=None, sep=' ')\n",
    "#fast_cutted.to_csv('CuttedFast.txt', header=None, index=None, sep=' ')"
   ]
  },
  {
   "cell_type": "code",
   "execution_count": null,
   "id": "0d6ba55b",
   "metadata": {},
   "outputs": [],
   "source": [
    "flag_over_unif=n_sel/n_unif\n",
    "print(np.max(flag_over_unif))\n",
    "normed_ratio=flag_over_unif/np.sum(flag_over_unif)\n",
    "w_hist=1/flag_over_unif\n",
    "w_normed=w_hist/np.sum(w_hist)\n",
    "w=interpolate.interp1d(mybins,w_normed,kind='cubic',fill_value='extrapolate')\n",
    "nn=interpolate.interp1d(mybins,normed_ratio,kind='cubic',fill_value='extrapolate')\n",
    "#dd=interpolate.interp1d(mybins,dd,kind='cubic',fill_value='extrapolate')"
   ]
  },
  {
   "cell_type": "code",
   "execution_count": null,
   "id": "6d1aa7ac",
   "metadata": {},
   "outputs": [],
   "source": [
    "np.savetxt('Nz01_bin.txt', mybins)\n",
    "np.savetxt('Nz01_weights.txt', w_normed)"
   ]
  },
  {
   "cell_type": "code",
   "execution_count": null,
   "id": "4992c1d4",
   "metadata": {},
   "outputs": [],
   "source": [
    "# Test reverse "
   ]
  },
  {
   "cell_type": "code",
   "execution_count": null,
   "id": "c4cb6638",
   "metadata": {},
   "outputs": [],
   "source": [
    "f=1/w_hist\n",
    "print(len(mybins))"
   ]
  },
  {
   "cell_type": "code",
   "execution_count": null,
   "id": "f509c28d",
   "metadata": {},
   "outputs": [],
   "source": [
    "fig, ax = plt.subplots(1, figsize=(12,8)) #crea un tupla che poi è più semplice da gestire\n",
    "ax.tick_params(axis='both', which='major', labelsize=14)\n",
    "ax.yaxis.get_offset_text().set_fontsize(14)\n",
    "ax.grid(linestyle='dotted', linewidth='0.6')#griglia in sfondo\n",
    "colors=plt.cm.turbo(np.linspace(0.99,0.01,16))\n",
    "\n",
    "#nbins=30\n",
    "\n",
    "(n_unif,bin_unif,patches_unif)=ax.hist(fast_cutted['z'],bins=nbins,range=(fast_cutted_zmin,fast_cutted_zmax),color=colors[9])\n",
    "\n",
    "#ax.plot(mybins,myN(mybins),color=colors[3])\n",
    "ax.set_xlabel(r'$z$', fontsize=20)\n",
    "ax.set_ylabel(r'$N(z)$', fontsize=20)"
   ]
  },
  {
   "cell_type": "code",
   "execution_count": null,
   "id": "63205305",
   "metadata": {},
   "outputs": [],
   "source": [
    "testpesi= pd.DataFrame(columns = colnames)"
   ]
  },
  {
   "cell_type": "code",
   "execution_count": null,
   "id": "15ec2c93",
   "metadata": {},
   "outputs": [],
   "source": [
    "for i in range(len(mybins)):\n",
    "    temp_bin=fast_cutted[fast_cutted['z']>=mybins[i]-half_step]\n",
    "    temp_bin=temp_bin[temp_bin['z']<=mybins[i]+half_step]\n",
    "    temp_bin=temp_bin.sample(round(n_unif[i]*rapporto[i]))\n",
    "    testpesi=testpesi.append(temp_bin, ignore_index=True)"
   ]
  },
  {
   "cell_type": "code",
   "execution_count": null,
   "id": "7f42fd87",
   "metadata": {},
   "outputs": [],
   "source": [
    "fig, ax = plt.subplots(1, figsize=(12,8)) #crea un tupla che poi è più semplice da gestire\n",
    "ax.tick_params(axis='both', which='major', labelsize=14)\n",
    "ax.yaxis.get_offset_text().set_fontsize(14)\n",
    "ax.grid(linestyle='dotted', linewidth='0.6')#griglia in sfondo\n",
    "colors=plt.cm.turbo(np.linspace(0.99,0.01,16))\n",
    "\n",
    "nbins=30\n",
    "\n",
    "(n_unif,bin_unif,patches_unif)=ax.hist(fast_cutted['z'],bins=nbins,range=(fast_cutted_zmin,fast_cutted_zmax),color=colors[9])\n",
    "(n_test,bin_test,patches_test)=ax.hist(testpesi['z'],bins=nbins,range=(fast_cutted_zmin,fast_cutted_zmax),color=colors[3])\n",
    "\n",
    "#ax.scatter(mybins,n_sel,color='purple')\n",
    "\n",
    "#ax.set_xlabel(r'$z$', fontsize=20)\n",
    "#ax.set_ylabel(r'$N(z)$', fontsize=20)"
   ]
  },
  {
   "cell_type": "code",
   "execution_count": null,
   "id": "5d993492",
   "metadata": {},
   "outputs": [],
   "source": [
    "passo=(bin_unif[1]-bin_unif[0])/2\n",
    "f=interpolate.interp1d(bin_unif[:-1]+passo,n_test/n_unif,kind='linear',fill_value='extrapolate')"
   ]
  },
  {
   "cell_type": "code",
   "execution_count": null,
   "id": "e8597949",
   "metadata": {},
   "outputs": [],
   "source": [
    "N_zpesi=f(fast_cutted['z'])\n",
    "#zfortest=np.linspace(0.05,2.5,N_extraction)"
   ]
  },
  {
   "cell_type": "code",
   "execution_count": null,
   "id": "bfbb6992",
   "metadata": {},
   "outputs": [],
   "source": [
    "print(N_zpesi[0:30])"
   ]
  },
  {
   "cell_type": "code",
   "execution_count": null,
   "id": "8355aa4d",
   "metadata": {},
   "outputs": [],
   "source": [
    "u_mc = np.random.uniform(0,1,size=len(fast_cutted['z']))\n",
    "mask=N_zpesi>=u_mc"
   ]
  },
  {
   "cell_type": "code",
   "execution_count": null,
   "id": "b2eaf911",
   "metadata": {},
   "outputs": [],
   "source": [
    "fig, ax = plt.subplots(1, figsize=(12,8)) #crea un tupla che poi è più semplice da gestire\n",
    "ax.tick_params(axis='both', which='major', labelsize=14)\n",
    "ax.yaxis.get_offset_text().set_fontsize(14)\n",
    "ax.grid(linestyle='dotted', linewidth='0.6')#griglia in sfondo\n",
    "colors=plt.cm.turbo(np.linspace(0.99,0.01,16))\n",
    "\n",
    "#nbins=30\n",
    "\n",
    "(n_mask,bin_mask,patches_mask)=ax.hist(fast_cutted['z'],bins=nbins,range=(fast_cutted_zmin,fast_cutted_zmax),\n",
    "                                       color=colors[9],weights=N_zpesi,density=True)\n",
    "#(n_test,bin_test,patches_test)=ax.hist(z_genrated,bins=nbins,\n",
    "#                                       range=(fast_cutted_zmin,fast_cutted_zmax),\n",
    "#                                       color=colors[3])\n",
    "ax.plot(zfortest,fake_nz(zfortest)/np.trapz(fake_nz(zfortest),zfortest),color='purple',lw=4)\n",
    "#ax.scatter(allz,N_zpesi,color='purple')\n",
    "ax.set_xlabel(r'$z$', fontsize=20)\n",
    "ax.set_ylabel(r'$N(z)$', fontsize=20)"
   ]
  },
  {
   "cell_type": "code",
   "execution_count": null,
   "id": "7291074d",
   "metadata": {},
   "outputs": [],
   "source": [
    "fig, ax = plt.subplots(1, figsize=(12,8)) #crea un tupla che poi è più semplice da gestire\n",
    "ax.tick_params(axis='both', which='major', labelsize=14)\n",
    "ax.yaxis.get_offset_text().set_fontsize(14)\n",
    "ax.grid(linestyle='dotted', linewidth='0.6')#griglia in sfondo\n",
    "colors=plt.cm.turbo(np.linspace(0.99,0.01,16))\n",
    "\n",
    "#nbins=30\n",
    "\n",
    "(n_mask,bin_mask,patches_mask)=ax.hist(fast_cutted['z'][mask],bins=nbins,range=(fast_cutted_zmin,fast_cutted_zmax),\n",
    "                                       color=colors[9],density=True,edgecolor = 'black',\n",
    "                                       ls='--',lw=1.5,fc=(1, 1, 1, 1))\n",
    "(n_check,bin_check,patches_check)=ax.hist(testpesi['z'],bins=nbins,\n",
    "                                       range=(fast_cutted_zmin,fast_cutted_zmax),\n",
    "                                       color=colors[3],density=True,alpha=0.8)\n",
    "#ax.plot(zfortest,fake_nz(zfortest)/np.trapz(fake_nz(zfortest),zfortest),color='purple',lw=4)\n",
    "#ax.scatter(allz,N_zpesi,color='purple')\n",
    "ax.set_xlabel(r'$z$', fontsize=20)\n",
    "ax.set_ylabel(r'$N(z)$', fontsize=20)"
   ]
  },
  {
   "cell_type": "markdown",
   "id": "68721ac1",
   "metadata": {},
   "source": [
    "# Test Robustezza------ Sezione 1"
   ]
  },
  {
   "cell_type": "code",
   "execution_count": 5,
   "id": "faf962e1",
   "metadata": {},
   "outputs": [],
   "source": [
    "os.chdir(save_cat_path)\n",
    "fastcat = pd.read_csv('Uniform_for_half_flag.txt', sep=\" \", header=None)\n",
    "colnames=['Ngal','Comoving Distance','Luminosity Distance','z','phi','theta','scattered DL']\n",
    "fastcat.columns=colnames\n",
    "zinf=np.min(fastcat['z'])\n",
    "zsup=np.max(fastcat['z'])"
   ]
  },
  {
   "cell_type": "code",
   "execution_count": null,
   "id": "d75731b5",
   "metadata": {},
   "outputs": [],
   "source": [
    "zmin_cut=0.3\n",
    "zmax_cut=1.6\n",
    "fast_cutted=fastcat[fastcat['z']>=zmin_cut]\n",
    "fast_cutted=fast_cutted[fast_cutted['z']<=zmax_cut]\n",
    "fast_cutted_zmin=np.min(fast_cutted['z'])\n",
    "fast_cutted_zmax=np.max(fast_cutted['z'])\n",
    "nbins=70"
   ]
  },
  {
   "cell_type": "code",
   "execution_count": 6,
   "id": "ff329576",
   "metadata": {},
   "outputs": [
    {
     "data": {
      "text/plain": [
       "Text(0, 0.5, '$N(z)$')"
      ]
     },
     "execution_count": 6,
     "metadata": {},
     "output_type": "execute_result"
    },
    {
     "data": {
      "image/png": "[encoded data removed]",
      "text/plain": [
       "<Figure size 864x576 with 1 Axes>"
      ]
     },
     "metadata": {
      "needs_background": "light"
     },
     "output_type": "display_data"
    }
   ],
   "source": [
    "fig, ax = plt.subplots(1, figsize=(12,8)) #crea un tupla che poi è più semplice da gestire\n",
    "ax.tick_params(axis='both', which='major', labelsize=14)\n",
    "ax.yaxis.get_offset_text().set_fontsize(14)\n",
    "ax.grid(linestyle='dotted', linewidth='0.6')#griglia in sfondo\n",
    "colors=plt.cm.turbo(np.linspace(0.99,0.01,16))\n",
    "\n",
    "nbins=30\n",
    "(n_mother,bin_mother,patches_mother)=ax.hist(fastcat['z'],bins=nbins,range=(zinf,zsup),color=colors[9])\n",
    "#(n_cut,bin_cut,patches_cut)=ax.hist(fast_cutted['z'],bins=nbins,range=(zinf,zsup),color=colors[2])\n",
    "\n",
    "#ax.plot(mybins,myN(mybins),color=colors[3])\n",
    "ax.set_xlabel(r'$z$', fontsize=20)\n",
    "ax.set_ylabel(r'$N(z)$', fontsize=20)"
   ]
  },
  {
   "cell_type": "code",
   "execution_count": null,
   "id": "34ee08ff",
   "metadata": {},
   "outputs": [],
   "source": [
    "os.chdir(save_cat_path)\n",
    "fast_cutted.to_csv('HostFullCut02.txt', header=None, index=None, sep=' ')"
   ]
  },
  {
   "cell_type": "markdown",
   "id": "ee90fec1",
   "metadata": {},
   "source": [
    "# Scatteirng for all the hosts"
   ]
  },
  {
   "cell_type": "code",
   "execution_count": 4,
   "id": "66fc3e1d",
   "metadata": {},
   "outputs": [],
   "source": [
    "os.chdir(save_cat_path)\n",
    "fastcat = pd.read_csv('Uniform_for_half_flag.txt', sep=\" \", header=None)\n",
    "colnames=['Ngal','Comoving Distance','Luminosity Distance','z','phi','theta','scattered DL']\n",
    "fastcat.columns=colnames"
   ]
  },
  {
   "cell_type": "code",
   "execution_count": null,
   "id": "9afe2b51",
   "metadata": {},
   "outputs": [],
   "source": [
    "dlsigma=0.1"
   ]
  },
  {
   "cell_type": "code",
   "execution_count": null,
   "id": "99511836",
   "metadata": {},
   "outputs": [],
   "source": [
    "ds_dl=np.asarray(fastcat['Luminosity Distance'])\n",
    "sca= np.random.normal(loc=ds_dl, scale=ds_dl*dlsigma, size=None)#scattered[i]#\n",
    "fastcat['scattered DL']=sca\n",
    "fastcat.to_csv('Uniform_for_half_flag.txt', header=None, index=None, sep=' ')"
   ]
  },
  {
   "cell_type": "markdown",
   "id": "7e041a18",
   "metadata": {},
   "source": [
    "# N(DL)"
   ]
  },
  {
   "cell_type": "code",
   "execution_count": null,
   "id": "60e6b9f7",
   "metadata": {},
   "outputs": [],
   "source": [
    "href=67\n",
    "dlmax=11_000\n",
    "dlmin=6800\n",
    "from numpy.random import random\n",
    "#-----------rejection-stuff------------\n",
    "def sample(g,xmin,xmax):\n",
    "    x = np.linspace(xmin,xmax,1000000)\n",
    "    y = g(x)                        # probability density function, pdf\n",
    "    cdf_y = np.cumsum(y)            # cumulative distribution function, cdf\n",
    "    cdf_y = cdf_y/cdf_y.max()       # -takes care of normalizing cdf to 1.0\n",
    "    inverse_cdf = interpolate.interp1d(cdf_y,x,fill_value=\"extrapolate\")# this is a function\n",
    "    #inverse_cdf = np.interp(0,cdf_y,x) #this works but it is not a function\n",
    "    return inverse_cdf\n",
    "def return_samples(f,xmin,xmax,N=1000000):\n",
    "    # let's generate some samples according to the chosen pdf, f(x)\n",
    "    uniform_samples = random(int(N))       \n",
    "    required_samples = sample(f,xmin,xmax)(uniform_samples)\n",
    "    return required_samples"
   ]
  },
  {
   "cell_type": "code",
   "execution_count": null,
   "id": "0c2ba2ae",
   "metadata": {},
   "outputs": [],
   "source": [
    "os.chdir(save_cat_path)\n",
    "fastcat = pd.read_csv('half_flag.txt', sep=\" \", header=None)\n",
    "colnames=['Ngal','Comoving Distance','Luminosity Distance','z','phi','theta','scattered DL']\n",
    "fastcat.columns=colnames"
   ]
  },
  {
   "cell_type": "code",
   "execution_count": null,
   "id": "7c1a51b8",
   "metadata": {},
   "outputs": [],
   "source": [
    "path='/home/rciancarella/DarkSirensStat/MyDSStat/results'\n",
    "source_folder='CatDS'\n",
    "data_path=os.path.join(path,source_folder)\n",
    "DSsample=fastcat[fastcat['scattered DL']<=dlmax]\n",
    "DSsample=DSsample[DSsample['scattered DL']>=dlmin]\n",
    "\n",
    "DSsample.shape[0]"
   ]
  },
  {
   "cell_type": "code",
   "execution_count": null,
   "id": "2647cf7c",
   "metadata": {},
   "outputs": [],
   "source": [
    "save_DS_path='/home/rciancarella/DarkSirensStat/MyDSStat/results/DScat-extracted/'\n",
    "os.chdir(data_path)\n",
    "DSsample.to_csv('DScat_half_flag.txt',header=None, index=None, sep=' ')"
   ]
  },
  {
   "cell_type": "code",
   "execution_count": null,
   "id": "4d517012",
   "metadata": {},
   "outputs": [],
   "source": [
    "nbins=30\n",
    "fig, ax = plt.subplots(1, figsize=(12,8)) #crea un tupla che poi è più semplice da gestire\n",
    "ax.tick_params(axis='both', which='major', labelsize=14)\n",
    "ax.yaxis.get_offset_text().set_fontsize(14)\n",
    "ax.grid(linestyle='dotted', linewidth='0.6')#griglia in sfondo\n",
    "colors=plt.cm.turbo(np.linspace(0.99,0.01,16))\n",
    "\n",
    "\n",
    "scatter_dlmin=DSsample['scattered DL'].min()\n",
    "scatter_dlmax=DSsample['scattered DL'].max()\n",
    "print(scatter_dlmax)\n",
    "(n_start,bin_start,patches_start)=ax.hist(DSsample['scattered DL'],bins=nbins,\n",
    "                                          range=(dlmin,dlmax),color=colors[9])\n",
    "ax.set_xlabel(r'$dl$', fontsize=20)\n",
    "ax.set_ylabel(r'$N(dl)$', fontsize=20)\n"
   ]
  },
  {
   "cell_type": "code",
   "execution_count": null,
   "id": "26643e6b",
   "metadata": {},
   "outputs": [],
   "source": [
    "scatter_dlmed=(dlmax-dlmin)/2 +dlmin#scatter_dlmin+(scatter_dlmax-scatter_dlmin)/2\n",
    "sigma=scatter_dlmed*0.22\n",
    "alpha=2\n",
    "beta=2\n",
    "print(alpha,beta,xp,alpha*xp**beta)\n",
    "x=np.linspace(dlmin,dlmax,1000)\n",
    "roof=1/(dlmax-dlmin)\n",
    "UnifPdet=lambda x: x*0+1/(dlmax-dlmin)\n",
    "#mydist= lambda x: np.heaviside(dlmed-x,1)*0.5/(dlmax-dlmin)+np.heaviside(x-dlmed,1)*0.25/(dlmax-dlmin)\n",
    "mydist_DS= lambda x: ((x/scatter_dlmed)**alpha)*np.exp(-((x/scatter_dlmed)**(beta)))\n",
    "Gauss_DS=lambda x:np.exp(-((x-scatter_dlmed)**(2))/(2*sigma**2))"
   ]
  },
  {
   "cell_type": "code",
   "execution_count": null,
   "id": "f1025ce4",
   "metadata": {},
   "outputs": [],
   "source": [
    "#tmp=DSsample[DSsample['Luminosity Distance']>=dlmin]\n",
    "#tmp=tmp[tmp['Luminosity Distance']<=dlmed]\n",
    "#first=tmp.sample(frac=0.5)\n",
    "dls=np.linspace(scatter_dlmin,scatter_dlmax,10000)\n",
    "nsamp=DSsample.shape[0]/2\n",
    "dl_generated=return_samples(mydist_DS,dlmin,dlmax,nsamp)"
   ]
  },
  {
   "cell_type": "code",
   "execution_count": null,
   "id": "4b286cb7",
   "metadata": {},
   "outputs": [],
   "source": [
    "nbins=30\n",
    "fig, ax = plt.subplots(1, figsize=(12,8)) #crea un tupla che poi è più semplice da gestire\n",
    "ax.tick_params(axis='both', which='major', labelsize=14)\n",
    "ax.yaxis.get_offset_text().set_fontsize(14)\n",
    "ax.grid(linestyle='dotted', linewidth='0.6')#griglia in sfondo\n",
    "colors=plt.cm.turbo(np.linspace(0.99,0.01,16))\n",
    "\n",
    "(n_start,bin_start,patches_start)=ax.hist(DSsample['scattered DL'],bins=nbins,\n",
    "                                          range=(scatter_dlmin,scatter_dlmax),color=colors[9])\n",
    "(n_first,bin_first,patches_first)=ax.hist(dl_generated,bins=nbins,\n",
    "                                          range=(scatter_dlmin,scatter_dlmax),color=colors[3])\n",
    "\n",
    "#ax.plot(dls,mydist_DS(dls)*7000,color='purple')\n",
    "ax.set_xlabel(r'$dl$', fontsize=20)\n",
    "ax.set_ylabel(r'$N(dl)$', fontsize=20)"
   ]
  },
  {
   "cell_type": "code",
   "execution_count": null,
   "id": "f9c4914d",
   "metadata": {},
   "outputs": [],
   "source": [
    "colnames=['Ngal','Comoving Distance','Luminosity Distance','z','phi','theta','scattered DL']\n",
    "DSextracted = pd.DataFrame(columns = colnames)\n",
    "half_step=(bin_start[1]-bin_start[0])/2\n",
    "mybins=bin_start[:-1]+half_step\n",
    "for i in range(len(mybins)):\n",
    "    temp_bin=DSsample[DSsample['scattered DL']>=mybins[i]-half_step]\n",
    "    temp_bin=temp_bin[temp_bin['scattered DL']<=mybins[i]+half_step]\n",
    "    temp_bin=temp_bin.sample(round(n_first[i]))\n",
    "    DSextracted=DSextracted.append(temp_bin, ignore_index=True)"
   ]
  },
  {
   "cell_type": "code",
   "execution_count": null,
   "id": "43b6e01e",
   "metadata": {},
   "outputs": [],
   "source": [
    "print(half_step)"
   ]
  },
  {
   "cell_type": "code",
   "execution_count": null,
   "id": "d82a802c",
   "metadata": {},
   "outputs": [],
   "source": [
    "nbins=30\n",
    "fig, ax = plt.subplots(1, figsize=(12,8)) #crea un tupla che poi è più semplice da gestire\n",
    "ax.tick_params(axis='both', which='major', labelsize=14)\n",
    "ax.yaxis.get_offset_text().set_fontsize(14)\n",
    "ax.grid(linestyle='dotted', linewidth='0.6')#griglia in sfondo\n",
    "colors=plt.cm.turbo(np.linspace(0.99,0.01,16))\n",
    "\n",
    "(n_start,bin_start,patches_start)=ax.hist(DSsample['scattered DL'],bins=nbins,\n",
    "                                          range=(dlmin,dlmax),color=colors[9])\n",
    "(n_extracted,bin_extracted,patches_extracted)=ax.hist(DSextracted['scattered DL'],bins=nbins,\n",
    "                                          range=(dlmin,dlmax),color=colors[3])\n",
    "\n",
    "\n",
    "ax.set_xlabel(r'$dl$', fontsize=20)\n",
    "ax.set_ylabel(r'$N(dl)$', fontsize=20)"
   ]
  },
  {
   "cell_type": "code",
   "execution_count": null,
   "id": "b382942c",
   "metadata": {},
   "outputs": [],
   "source": [
    "save_DS_path='/home/rciancarella/DarkSirensStat/MyDSStat/results/DScat-extracted/'\n",
    "os.chdir(save_DS_path)\n",
    "tosave=DSextracted.sample(150)\n",
    "tosave.to_csv('DScat-extracted_DSs.txt',header=None, index=None, sep=' ')"
   ]
  },
  {
   "cell_type": "code",
   "execution_count": null,
   "id": "c163639c",
   "metadata": {},
   "outputs": [],
   "source": [
    "fig, ax = plt.subplots(1, figsize=(15,10)) #crea un tupla che poi è più semplice da gestire\n",
    "ax.tick_params(axis='both', which='major', labelsize=25)\n",
    "ax.yaxis.get_offset_text().set_fontsize(25)\n",
    "ax.grid(linestyle='dotted', linewidth='0.6')#griglia in sfondo\n",
    "\n",
    "ax.set_xlim(dlmin, dlmax)\n",
    "ax.set_ylim(0, roof*1.1)\n",
    "ax.set_xlabel(r'$Dl(Mpc)$', fontsize=30)\n",
    "#ax.set_ylabel(r'$P(H_0)$', fontsize=20)\n",
    "ax.set_ylabel(r'$P(Dl)$', fontsize=30)\n",
    "\n",
    "ax.plot(x,UnifPdet(x),label='Pdet',color='Teal',linewidth=3,linestyle='solid')\n",
    "ax.plot(x,mydist(x),label='$\\eta$',color='Purple',linewidth=3,linestyle='dashdot')\n",
    "#ax.plot(x,mygaussdist(x)/np.trapz(mygaussdist(x),x),label='$\\eta$',color='Seagreen',linewidth=3,linestyle='dotted')\n"
   ]
  },
  {
   "cell_type": "code",
   "execution_count": null,
   "id": "a6096f9f",
   "metadata": {},
   "outputs": [],
   "source": [
    "halfstep=x[1]-x[0]\n",
    "bincenter=x+halfstep\n",
    "sel_over_true=mydist(bincenter)/UnifPdet(bincenter)\n",
    "pesi=1/sel_over_true\n",
    "pesi=pesi/np.max(pesi)"
   ]
  },
  {
   "cell_type": "code",
   "execution_count": null,
   "id": "214fd0d1",
   "metadata": {},
   "outputs": [],
   "source": [
    "fig, ax = plt.subplots(1, figsize=(15,10)) #crea un tupla che poi è più semplice da gestire\n",
    "ax.tick_params(axis='both', which='major', labelsize=25)\n",
    "ax.yaxis.get_offset_text().set_fontsize(25)\n",
    "ax.grid(linestyle='dotted', linewidth='0.6')#griglia in sfondo\n",
    "\n",
    "ax.set_xlim(dlmin, dlmax)\n",
    "ax.set_xlabel(r'$Dl(Mpc)$', fontsize=30)\n",
    "#ax.set_ylabel(r'$P(H_0)$', fontsize=20)\n",
    "ax.set_ylabel(r'$\\eta (Dl)$', fontsize=30)\n",
    "\n",
    "ax.plot(bincenter,pesi,label='Pesi',color='Seagreen',linewidth=3,linestyle='solid')\n"
   ]
  },
  {
   "cell_type": "code",
   "execution_count": null,
   "id": "79797324",
   "metadata": {},
   "outputs": [],
   "source": [
    "np.savetxt('gamma00_bin.txt', bincenter)\n",
    "np.savetxt('gamma00_weights.txt', pesi)"
   ]
  },
  {
   "cell_type": "code",
   "execution_count": null,
   "id": "8d6cc906",
   "metadata": {},
   "outputs": [],
   "source": []
  },
  {
   "cell_type": "code",
   "execution_count": null,
   "id": "e4da87a8",
   "metadata": {},
   "outputs": [],
   "source": [
    "os.chdir(save_cat_path)\n",
    "cat_name='FullExplorer_big.txt'\n",
    "MyCat = pd.read_csv(cat_name, sep=\" \", header=None)\n",
    "colnames=['Ngal','Comoving Distance','Luminosity Distance','z','phi','theta','scattered DL']\n",
    "MyCat.columns=colnames"
   ]
  },
  {
   "cell_type": "code",
   "execution_count": null,
   "id": "5c4ce277",
   "metadata": {},
   "outputs": [],
   "source": [
    "dl_min=MyCat['scattered DL'].min()\n",
    "dl_max=MyCat['scattered DL'].max()\n",
    "print(dl_min,dl_max)"
   ]
  },
  {
   "cell_type": "markdown",
   "id": "89e7b016",
   "metadata": {},
   "source": [
    "# How Many Host"
   ]
  },
  {
   "cell_type": "code",
   "execution_count": 4,
   "id": "7e0aa9c0",
   "metadata": {},
   "outputs": [],
   "source": [
    "os.chdir(save_cat_path)\n",
    "MyCat = pd.read_csv('half_flag.txt', sep=\" \", header=None)\n",
    "colnames=['Ngal','Comoving Distance','Luminosity Distance','z','phi','theta','scattered DL']\n",
    "MyCat.columns=colnames"
   ]
  },
  {
   "cell_type": "code",
   "execution_count": 11,
   "id": "c28ac58a",
   "metadata": {},
   "outputs": [],
   "source": [
    "    #---------angular stuff------------------\n",
    "    radius_deg= np.sqrt(10/np.pi)\n",
    "    sigma90=radius_deg/np.sqrt(2)\n",
    "    sigma_deg=sigma90/1.5\n",
    "    circle_deg=6*sigma_deg\n",
    "    sigma_theta=np.radians(sigma_deg)\n",
    "    sigma_phi=np.radians(sigma_deg)\n",
    "    radius_rad=np.radians(circle_deg)\n",
    "    conc=1/(sigma_phi**2)\n",
    "    phi_min=MyCat['phi'].min()\n",
    "    phi_max=MyCat['phi'].max()\n",
    "    theta_min=MyCat['theta'].min()\n",
    "    theta_max=MyCat['theta'].max()"
   ]
  },
  {
   "cell_type": "code",
   "execution_count": 6,
   "id": "d5fd0675",
   "metadata": {},
   "outputs": [],
   "source": [
    "    NumDS=150#150 \n",
    "    mydlmax=10_700#Dl_z(zds_max,href,Om0GLOB)\n",
    "    mydlmin=8_350#Dl_z(zds_min,href,Om0GLOB)\n",
    "\n",
    "    #-----------------------------------------------------------------------------\n",
    "    #cutted=MyCat[MyCat['Comoving Distance']<=mydcmax]\n",
    "    #cutted=cutted[cutted['Comoving Distance']>=mydcmin]\n",
    "    #----------selection on scarred Dl\n",
    "    cutted=MyCat[MyCat['scattered DL']<=mydlmax]\n",
    "    cutted=cutted[cutted['scattered DL']>=mydlmin]\n",
    "    #---------------------------------------------\n",
    "    cutted=cutted[cutted['phi']<= phi_max-10*sigma_phi]\n",
    "    cutted=cutted[cutted['phi']>= phi_min+10*sigma_phi]\n",
    "    cutted=cutted[cutted['theta']<= theta_max-10*sigma_theta]\n",
    "    cutted=cutted[cutted['theta']>= theta_min+10*sigma_theta]\n",
    "    sample=cutted.sample(NumDS) #This is the DS cat\n",
    "\n",
    "    ds_z=np.asarray(sample['z'])\n",
    "    ds_dl=np.asarray(sample['Luminosity Distance'])\n",
    "    ds_phi=np.asarray(sample['phi'])\n",
    "    ds_theta=np.asarray(sample['theta'])\n",
    "    sca= np.asarray(sample['scattered DL'])"
   ]
  },
  {
   "cell_type": "code",
   "execution_count": 12,
   "id": "6895d43c",
   "metadata": {},
   "outputs": [],
   "source": [
    "dlsigma=0.1\n",
    "s=dlsigma\n",
    "how_many_sigma=3.5\n",
    "ang_sigma=3.5\n",
    "Nhosts=[]"
   ]
  },
  {
   "cell_type": "code",
   "execution_count": 13,
   "id": "373a01e7",
   "metadata": {},
   "outputs": [
    {
     "name": "stderr",
     "output_type": "stream",
     "text": [
      "100%|████████████████████████████████████████████████████████████████████████████████████████████████████████████████████████████████████████████████████████████████████████████| 150/150 [00:25<00:00,  5.83it/s]\n"
     ]
    }
   ],
   "source": [
    "for i in tqdm(range(NumDS)):\n",
    "    DS_phi=ds_phi[i]\n",
    "    #tmp=MyCat\n",
    "    #print(sigma_phi,DS_phi)\n",
    "    tmp=MyCat[MyCat['phi']<=DS_phi+ang_sigma*sigma_phi]\n",
    "    tmp=tmp[tmp['phi']>=DS_phi-ang_sigma*sigma_phi]\n",
    "    DS_theta=ds_theta[i]\n",
    "    #print(sigma_phi,DS_theta)\n",
    "    tmp=tmp[tmp['theta']<=DS_theta+ang_sigma*sigma_phi]\n",
    "    tmp=tmp[tmp['theta']>=DS_theta-ang_sigma*sigma_phi]\n",
    "    true_mu=ds_dl[i]\n",
    "    mu=sca[i]\n",
    "    zz=ds_z[i]\n",
    "    dlrange=s*mu*how_many_sigma\n",
    "    tmp=tmp[tmp['Luminosity Distance']<=mu+dlrange]\n",
    "    tmp=tmp[tmp['Luminosity Distance']>=mu-dlrange]\n",
    "    Nhosts.append(len(tmp))"
   ]
  },
  {
   "cell_type": "code",
   "execution_count": 14,
   "id": "c8ce05dc",
   "metadata": {},
   "outputs": [
    {
     "data": {
      "text/plain": [
       "24798.04"
      ]
     },
     "execution_count": 14,
     "metadata": {},
     "output_type": "execute_result"
    }
   ],
   "source": [
    "N10deg=Nhosts\n",
    "N10deg=np.asarray(N10deg)\n",
    "np.mean(N10deg)"
   ]
  },
  {
   "cell_type": "code",
   "execution_count": 10,
   "id": "5c5d2ef6",
   "metadata": {},
   "outputs": [
    {
     "data": {
      "text/plain": [
       "49598.386666666665"
      ]
     },
     "execution_count": 10,
     "metadata": {},
     "output_type": "execute_result"
    }
   ],
   "source": [
    "N20deg=Nhosts\n",
    "N20deg=np.asarray(N20deg)\n",
    "np.mean(N20deg)"
   ]
  },
  {
   "cell_type": "code",
   "execution_count": 15,
   "id": "2d93ca58",
   "metadata": {},
   "outputs": [
    {
     "name": "stdout",
     "output_type": "stream",
     "text": [
      "[32807 29866 28676 21900 25666 25781 29746 28833 32449 31468 14581 24477\n",
      " 20268 33450 16946 14763 30060 29685 31020 19239 30767 16874 32215 27668\n",
      "  7862 19396 21161 28867 32384 26821 26717 14537 17478 21599 13746 15770\n",
      " 26308 27927 30383 25768 17394 31533 23244 23199 16335 10534 27669 23762\n",
      " 28488 24288 17076 32452 29705 31729 26429 26574 24858 29337 29901 32974\n",
      " 23877 28916 24335 26413 28688 23753 23927 15098 23651 29786 19534 24215\n",
      " 29952 22701 11550 27489 23916 27130 32352 29226 21433 27239 20449 14809\n",
      " 10979 29266 11011  8938 29375 30656 27356 25610 20464 30262 29001 27988\n",
      " 26755  6675 33737 24179 23638 30875 15808 24583 27228  9945 22633 29820\n",
      " 21819 15666 10022 31275 28717 31676 32103 27761 20369 32344 14702 29306\n",
      " 31983 32746 30538 25928 33442 27574 29020 23545 19189 25406 16624 29623\n",
      " 30467 21510 30289 28059 20902 29868 32630 18587 30657 27275 29936 28342\n",
      " 27887 10685 17753 19998 32866 30332]\n"
     ]
    }
   ],
   "source": [
    "print(N20deg-N10deg)"
   ]
  },
  {
   "cell_type": "code",
   "execution_count": 16,
   "id": "6f8de2b2",
   "metadata": {},
   "outputs": [
    {
     "name": "stdout",
     "output_type": "stream",
     "text": [
      "24800.346666666668\n"
     ]
    }
   ],
   "source": [
    "print(np.mean(N20deg-N10deg))\n",
    "#print(np.mean(N20deg)-np.mean(N10deg))"
   ]
  },
  {
   "cell_type": "code",
   "execution_count": 20,
   "id": "d25a2f61",
   "metadata": {},
   "outputs": [
    {
     "data": {
      "text/plain": [
       "Text(0, 0.5, '$N-hosts$')"
      ]
     },
     "execution_count": 20,
     "metadata": {},
     "output_type": "execute_result"
    },
    {
     "data": {
      "image/png": "[encoded data removed]",
      "text/plain": [
       "<Figure size 864x576 with 1 Axes>"
      ]
     },
     "metadata": {
      "needs_background": "light"
     },
     "output_type": "display_data"
    }
   ],
   "source": [
    "x=np.arange(0,NumDS)\n",
    "fig, ax = plt.subplots(1, figsize=(12,8)) #crea un tupla che poi è più semplice da gestire\n",
    "ax.tick_params(axis='both', which='major', labelsize=14)\n",
    "ax.yaxis.get_offset_text().set_fontsize(14)\n",
    "ax.grid(linestyle='dotted', linewidth='0.6')#griglia in sfondo\n",
    "colors=plt.cm.turbo(np.linspace(0.99,0.01,16))\n",
    "\n",
    "#ax.axhline(y = np.mean(N10deg), color = 'purple', linestyle='dashdot')\n",
    "#ax.axhline(y = np.mean(N20deg), color = 'teal', linestyle='dashdot')\n",
    "\n",
    "#ax.scatter(x,N20deg,label='first',color='teal',linewidth=2,linestyle='solid')\n",
    "#ax.scatter(x,N10deg,label='first',color='purple',linewidth=2,linestyle='solid')\n",
    "#ax.plot(x,(N20deg-N10deg),label='first',color='seagreen',linewidth=2,linestyle='solid')\n",
    "ax.plot(x,(N10deg/N20deg),label='first',color='seagreen',linewidth=2,linestyle='solid')\n",
    "\n",
    "ax.set_xlabel(r'$DS_{id}$', fontsize=20)\n",
    "ax.set_ylabel(r'$N-hosts$', fontsize=20)"
   ]
  },
  {
   "cell_type": "code",
   "execution_count": null,
   "id": "b7271564",
   "metadata": {},
   "outputs": [],
   "source": []
  }
 ],
 "metadata": {
  "kernelspec": {
   "display_name": "Python 3 (ipykernel)",
   "language": "python",
   "name": "python3"
  },
  "language_info": {
   "codemirror_mode": {
    "name": "ipython",
    "version": 3
   },
   "file_extension": ".py",
   "mimetype": "text/x-python",
   "name": "python",
   "nbconvert_exporter": "python",
   "pygments_lexer": "ipython3",
   "version": "3.10.12"
  }
 },
 "nbformat": 4,
 "nbformat_minor": 5
}
