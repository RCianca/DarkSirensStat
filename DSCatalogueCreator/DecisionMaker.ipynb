{
 "cells": [
  {
   "cell_type": "code",
   "execution_count": 1,
   "id": "a7f82c53",
   "metadata": {},
   "outputs": [],
   "source": [
    "#-------------------------Imports---------------------------\n",
    "import numpy as np\n",
    "import matplotlib.pyplot as plt\n",
    "import pandas as pd\n",
    "from numpy.random import random\n",
    "\n",
    "from pycbc.waveform import get_td_waveform\n",
    "from pycbc import types, fft, waveform\n",
    "\n",
    "from scipy.stats import uniform\n",
    "from scipy import interpolate\n",
    "from scipy.integrate import quad\n",
    "from scipy import constants\n",
    "\n",
    "import os\n",
    "#from astropy.cosmology import Planck15\n",
    "from astropy.cosmology import Planck18\n",
    "from astropy.cosmology import FlatLambdaCDM\n",
    "from astropy.io import fits\n",
    "from astropy.table import Table\n",
    "\n",
    "from multiprocessing import Pool\n",
    "import time\n",
    "\n",
    "###########################\n",
    "# CONSTANTS\n",
    "###########################\n",
    "H0GLOB= 69.32#67.9 #69\n",
    "Om0GLOB=0.298\n",
    "Xi0Glob =1.\n",
    "clight = 2.99792458* 10**5#km/s\n",
    "cosmoglob = Planck18\n",
    "cosmofast = FlatLambdaCDM(H0=H0GLOB, Om0=Om0GLOB)\n",
    "H0=cosmoglob.H(0).value\n",
    "h=H0/100\n",
    "#geometrization of masses\n",
    "Msun=(1.98892)*(10**30)\n",
    "solarmass_to_m=(constants.G*Msun)/((constants.c)**2)#G/c^2\n",
    "Mpc_to_m=3.08567758128*(10**22) #this will be used later\n",
    "\n",
    "#from lum distance to z\n",
    "zz=np.linspace(0,20,10000)\n",
    "distinterpol=cosmoglob.comoving_distance(zz).value*(1+zz)\n",
    "z_of_dl=interpolate.interp1d(distinterpol,zz)"
   ]
  },
  {
   "cell_type": "code",
   "execution_count": 2,
   "id": "361601ed",
   "metadata": {},
   "outputs": [],
   "source": [
    "def phi_from_cart(x,y):\n",
    "    if(x>0):\n",
    "        phi=np.arctan(y/x)\n",
    "    if ((x<0) and (y>=0)):\n",
    "        phi=np.arctan(y/x)+np.pi\n",
    "    if ((x<0) and (y<0)):\n",
    "        phi=np.arctan(y/x)-np.pi\n",
    "    return phi\n",
    "def theta_from_cart(x,y,z):\n",
    "    den=np.sqrt(x**2+y**2+z**2)\n",
    "    theta=np.arccos(z/den)\n",
    "    return theta"
   ]
  },
  {
   "cell_type": "code",
   "execution_count": 12,
   "id": "eb5eeba2",
   "metadata": {},
   "outputs": [],
   "source": [
    "#-----------------Einstein Telescope Stuff------------------------------\n",
    "#we will make two antenna functions, one is theresponse of a single interferometer\n",
    "#the other will be the same as before, after a mean on psi\n",
    "\n",
    "def ET_antenna_one_plus(cos_theta,phi,psi):\n",
    "    prefactor=np.sqrt(3)/4\n",
    "    A=(1+cos_theta**2)*(np.sin(2*phi))\n",
    "    B=2*(cos_theta)*(np.cos(2*phi))\n",
    "    ret=-prefactor*(A*np.cos(2*psi)+B*np.sin(2*psi))\n",
    "    return ret\n",
    "def ET_antenna_one_cross(cos_theta,phi,psi):\n",
    "    prefactor=np.sqrt(3)/4\n",
    "    A=(1+cos_theta**2)*(np.sin(2*phi))\n",
    "    B=2*(cos_theta)*(np.cos(2*phi))\n",
    "    ret=prefactor*(A*np.sin(2*psi)+B*np.cos(2*psi))\n",
    "    return ret\n",
    "def ET_antenna_two_plus(cos_theta,phi,psi):\n",
    "    phi=phi+(2*np.pi/3)\n",
    "    prefactor=np.sqrt(3)/4\n",
    "    A=(1+cos_theta**2)*(np.sin(2*phi))\n",
    "    B=2*(cos_theta)*(np.cos(2*phi))\n",
    "    ret=-prefactor*(A*np.cos(2*psi)+B*np.sin(2*psi))\n",
    "    return ret\n",
    "def ET_antenna_two_cross(cos_theta,phi,psi):\n",
    "    phi=phi+(2*np.pi/3)\n",
    "    prefactor=np.sqrt(3)/4\n",
    "    A=(1+cos_theta**2)*(np.sin(2*phi))\n",
    "    B=2*(cos_theta)*(np.cos(2*phi))\n",
    "    ret=prefactor*(A*np.sin(2*psi)+B*np.cos(2*psi))\n",
    "    return ret\n",
    "def ET_antenna_three_plus(cos_theta,phi,psi):\n",
    "    phi=phi-(2*np.pi/3)\n",
    "    prefactor=np.sqrt(3)/4\n",
    "    A=(1+cos_theta**2)*(np.sin(2*phi))\n",
    "    B=2*(cos_theta)*(np.cos(2*phi))\n",
    "    ret=-prefactor*(A*np.cos(2*psi)+B*np.sin(2*psi))\n",
    "    return ret\n",
    "def ET_antenna_three_cross(cos_theta,phi,psi):\n",
    "    phi=phi-(2*np.pi/3)\n",
    "    prefactor=np.sqrt(3)/4\n",
    "    A=(1+cos_theta**2)*(np.sin(2*phi))\n",
    "    B=2*(cos_theta)*(np.cos(2*phi))\n",
    "    ret=prefactor*(A*np.sin(2*psi)+B*np.cos(2*psi))\n",
    "    return ret\n",
    "#constant is a prefactor for the signal, mass must be the redshifted mass, angles are vectors\n",
    "def ET_SNR_quad(f,constant,mass,dist,cos_i,ds_cos_theta,ds_phi,ds_psi):\n",
    "    dist=dist*Mpc_to_m\n",
    "    cos_theta=np.random.choice(ds_cos_theta)\n",
    "    phi=np.random.choice(ds_phi)\n",
    "    psi=np.random.choice(ds_psi)\n",
    "    hplus_squared=((constant/dist)*(mass**(5/6))*(((1+cos_i**2)/2)**2)*f**(-7/6))**2\n",
    "    hcross_squared=((constant/dist)*(mass**(5/6))*(cos_i**2)*f**(-7/6))**2\n",
    "    numerator01=hplus_squared*(ET_antenna_one_plus(cos_theta,phi,psi))**2 + hcross_squared*(ET_antenna_one_cross(cos_theta,phi,psi))**2\n",
    "    denom=ET_sn(f)**2\n",
    "    first=4*numerator01/denom\n",
    "    numerator02=hplus_squared*(ET_antenna_two_plus(cos_theta,phi,psi))**2 + hcross_squared*(ET_antenna_two_cross(cos_theta,phi,psi))**2\n",
    "    second=4*numerator02/denom\n",
    "    numerator03=hplus_squared*(ET_antenna_three_plus(cos_theta,phi,psi))**2 + hcross_squared*(ET_antenna_three_cross(cos_theta,phi,psi))**2\n",
    "    third=4*numerator03/denom\n",
    "    ret=np.array([first,second,third])\n",
    "    return ret\n",
    "def signal_noise_toint(f,signal):\n",
    "    #numerator=((constant/dist)*(mass**(5/6))*(((1+cos**2)/2)**2)*f**(-7/6))**2\n",
    "    numerator=signal(f)**2\n",
    "    denom=(ET_sn(f)**2)\n",
    "    return (numerator/denom)\n"
   ]
  },
  {
   "cell_type": "code",
   "execution_count": 24,
   "id": "f8011ee8",
   "metadata": {},
   "outputs": [],
   "source": [
    "#----function that perform the SNR-----------------\n",
    "#---use this function in a loop, you must provide the angles for each ds\n",
    "#read it from the EVA (catalogues) series.\n",
    "def ET_SNR_Evaluation(ds_theta,ds_phi,ds_psi,hp,hc):\n",
    "    temp_plus=quad(signal_noise_toint,ET_min_freq,ET_max_freq,args=(hp))[0]\n",
    "    temp_cross=quad(signal_noise_toint,ET_min_freq,ET_max_freq,args=(hc))[0]\n",
    "    first_prefactor=(ET_antenna_one_plus(ds_theta,ds_phi,ds_psi))**2+(ET_antenna_one_cross(ds_theta,ds_phi,ds_psi))**2\n",
    "    firstSNR=(temp_plus+temp_cross)*first_prefactor*4\n",
    "    second_prefactor=(ET_antenna_two_plus(ds_theta,ds_phi,ds_psi))**2+(ET_antenna_two_cross(ds_theta,ds_phi,ds_psi))**2\n",
    "    secondSNR=(temp_plus+temp_cross)*second_prefactor*4\n",
    "    third_prefactor=(ET_antenna_three_plus(ds_theta,ds_phi,ds_psi))**2+(ET_antenna_three_cross(ds_theta,ds_phi,ds_psi))**2\n",
    "    thirdSNR=(temp_plus+temp_cross)*third_prefactor*4\n",
    "    totSNR=np.sqrt(firstSNR+secondSNR+thirdSNR)\n",
    "    return totSNR"
   ]
  },
  {
   "cell_type": "code",
   "execution_count": 5,
   "id": "0e5b0191",
   "metadata": {},
   "outputs": [],
   "source": [
    "#---------------Einstein Telescope Noise-----------------\n",
    "ET_freq=np.loadtxt('ET-0000A-18_ETDSensitivityCurveTxtFile.txt',usecols=0)\n",
    "ET_noise=np.loadtxt('ET-0000A-18_ETDSensitivityCurveTxtFile.txt',usecols=3)#This is the amplitude so must be squared\n",
    "ET_sn=interpolate.interp1d(ET_freq,ET_noise)\n",
    "ET_min_freq=ET_freq.min()\n",
    "ET_max_freq=ET_freq.max()"
   ]
  },
  {
   "cell_type": "code",
   "execution_count": 23,
   "id": "724e4c69",
   "metadata": {},
   "outputs": [],
   "source": [
    "#------------read the catalogue-------------------------------------\n",
    "dat = Table.read('EVA01.fits', format='fits')\n",
    "EVA = dat.to_pandas()#all good, is an only text fits\n",
    "#print(EVA.columns)\n",
    "ds_x=EVA['DS_x']\n",
    "ds_y=EVA['DS_y']\n",
    "ds_z=EVA['DS_z']\n",
    "m1=EVA['M1']\n",
    "m2=EVA['M2']\n",
    "cos_inc=EVA['cos_orbital_incl']\n",
    "inclin=np.arccos(cos_inc)\n",
    "psi=EVA['psi']"
   ]
  },
  {
   "cell_type": "code",
   "execution_count": 28,
   "id": "1c6d1cd0",
   "metadata": {},
   "outputs": [],
   "source": [
    "#----------Aproximant-------------------------------\n",
    "#EVA['Aproximant']='IMRPhenomD'\n",
    "#t = Table.from_pandas(EVA)\n",
    "#t.write('EVA02.fits', overwrite=True)"
   ]
  },
  {
   "cell_type": "code",
   "execution_count": 7,
   "id": "0492fc30",
   "metadata": {},
   "outputs": [],
   "source": [
    "theta=np.zeros(EVA.shape[0])\n",
    "phi=np.zeros(EVA.shape[0])\n",
    "lum_distance=np.zeros(EVA.shape[0])\n",
    "for i in range(EVA.shape[0]):\n",
    "    phi[i]=phi_from_cart(ds_x[i],ds_y[i])\n",
    "    theta[i]=theta_from_cart(ds_x[i],ds_y[i],ds_z[i])\n",
    "    lum_distance[i]=np.sqrt(ds_x[i]**2+ds_y[i]**2+ds_z[i]**2)"
   ]
  },
  {
   "cell_type": "code",
   "execution_count": 21,
   "id": "4b379bf0",
   "metadata": {},
   "outputs": [
    {
     "name": "stderr",
     "output_type": "stream",
     "text": [
      "<ipython-input-14-e84717f5100e>:6: IntegrationWarning: The maximum number of subdivisions (50) has been achieved.\n",
      "  If increasing the limit yields no improvement it is advised to analyze \n",
      "  the integrand in order to determine the difficulties.  If the position of a \n",
      "  local difficulty can be determined (singularity, discontinuity) one will \n",
      "  probably gain from splitting up the interval and calling the integrator \n",
      "  on the subranges.  Perhaps a special-purpose integrator should be used.\n",
      "  temp_plus=quad(signal_noise_toint,ET_min_freq,ET_max_freq,args=(hp))[0]\n",
      "<ipython-input-14-e84717f5100e>:7: IntegrationWarning: The maximum number of subdivisions (50) has been achieved.\n",
      "  If increasing the limit yields no improvement it is advised to analyze \n",
      "  the integrand in order to determine the difficulties.  If the position of a \n",
      "  local difficulty can be determined (singularity, discontinuity) one will \n",
      "  probably gain from splitting up the interval and calling the integrator \n",
      "  on the subranges.  Perhaps a special-purpose integrator should be used.\n",
      "  temp_cross=quad(signal_noise_toint,ET_min_freq,ET_max_freq,args=(hc))[0]\n"
     ]
    },
    {
     "name": "stdout",
     "output_type": "stream",
     "text": [
      "--- 263.00554037094116 seconds ---\n"
     ]
    }
   ],
   "source": [
    "SNR=np.zeros(EVA.shape[0])\n",
    "start_time = time.time()\n",
    "for i in range(3):\n",
    "    FDhp,FDhc = waveform.get_fd_waveform(approximant=\"IMRPhenomD\",\n",
    "                             mass1=m1[i], mass2=m2[i],distance=lum_distance[i],inclination=inclin[i],\n",
    "                                          delta_f=1.0/5000,f_lower=ET_min_freq,f_final=ET_max_freq)\n",
    "    hp_interpol=interpolate.interp1d(FDhp.sample_frequencies,abs(FDhp),fill_value=\"extrapolate\")\n",
    "    hc_interpol=interpolate.interp1d(FDhc.sample_frequencies,abs(FDhc),fill_value=\"extrapolate\")\n",
    "    SNR[i]=ET_SNR_Evaluation(theta[i],phi[i],psi[i],hp_interpol,hc_interpol)\n",
    "end_time= time.time()\n",
    "print(\"--- %s seconds ---\" % ((time.time() - start_time)))"
   ]
  },
  {
   "cell_type": "code",
   "execution_count": 22,
   "id": "a6e7946f",
   "metadata": {},
   "outputs": [
    {
     "name": "stdout",
     "output_type": "stream",
     "text": [
      "[ 47.56617886  94.99660899 168.10335855  70.82525956  89.00667008\n",
      " 132.04828987 122.77244384  55.71635268  27.85337664]\n"
     ]
    }
   ],
   "source": [
    "print(SNR[0:9])"
   ]
  },
  {
   "cell_type": "code",
   "execution_count": null,
   "id": "2676c1b4",
   "metadata": {},
   "outputs": [],
   "source": []
  }
 ],
 "metadata": {
  "kernelspec": {
   "display_name": "Python 3",
   "language": "python",
   "name": "python3"
  },
  "language_info": {
   "codemirror_mode": {
    "name": "ipython",
    "version": 3
   },
   "file_extension": ".py",
   "mimetype": "text/x-python",
   "name": "python",
   "nbconvert_exporter": "python",
   "pygments_lexer": "ipython3",
   "version": "3.8.10"
  }
 },
 "nbformat": 4,
 "nbformat_minor": 5
}
