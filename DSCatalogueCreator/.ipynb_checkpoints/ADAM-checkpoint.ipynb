{
 "cells": [
  {
   "cell_type": "code",
   "execution_count": 42,
   "id": "9fe99f37",
   "metadata": {},
   "outputs": [],
   "source": [
    "import numpy as np\n",
    "import matplotlib.pyplot as plt\n",
    "import pandas as pd\n",
    "from numpy.random import random\n",
    "\n",
    "from scipy.integrate import quad\n",
    "from scipy import constants\n",
    "from scipy import interpolate\n",
    "\n",
    "from astropy.cosmology import Planck18\n",
    "from astropy.cosmology import FlatLambdaCDM\n",
    "from astropy.io import fits\n",
    "from astropy.table import Table\n",
    "\n",
    "from multiprocessing import Pool\n",
    "import time\n",
    "from tqdm import tqdm\n",
    "\n",
    "###########################\n",
    "# CONSTANTS\n",
    "###########################\n",
    "H0GLOB= 67#69.32#67.9 #69\n",
    "Om0GLOB=0.319\n",
    "Xi0Glob =1.\n",
    "clight = 2.99792458* 10**5#km/s\n",
    "cosmoglob = Planck18\n",
    "cosmofast = FlatLambdaCDM(H0=H0GLOB, Om0=Om0GLOB)\n",
    "H0=cosmoglob.H(0).value\n",
    "h=H0GLOB/100\n",
    "#geometrization of masses\n",
    "Msun=(1.98892)*(10**30)\n",
    "solarmass_to_m=(constants.G*Msun)/((constants.c)**2)#G/c^2\n",
    "Mpc_to_m=3.08567758128*(10**22) #this will be used later\n",
    "#-------miscellanea-----------------------\n",
    "xmax=100\n",
    "ymax=100\n",
    "zmax=100\n",
    "half_box_size=2\n",
    "\n",
    "Npoints=1000\n",
    "Sigma=10\n",
    "#----------------from distances to redshift----------------------\n",
    "zz=np.linspace(0,10,50000)\n",
    "distinterpol=(1+zz)*cosmofast.comoving_distance(zz).value\n",
    "z_of_dl=interpolate.interp1d(distinterpol,zz)\n",
    "distinterpol_dc=cosmofast.comoving_distance(zz).value\n",
    "z_of_dc=interpolate.interp1d(distinterpol_dc,zz)"
   ]
  },
  {
   "cell_type": "code",
   "execution_count": null,
   "id": "2f2240b6",
   "metadata": {},
   "outputs": [],
   "source": [
    "#-----------rejection-stuff------------\n",
    "def sample(g,xmin,xmax):\n",
    "    x = np.linspace(xmin,xmax,1000000)\n",
    "    y = g(x)                        # probability density function, pdf\n",
    "    cdf_y = np.cumsum(y)            # cumulative distribution function, cdf\n",
    "    cdf_y = cdf_y/cdf_y.max()       # takes care of normalizing cdf to 1.0\n",
    "    inverse_cdf = interpolate.interp1d(cdf_y,x,fill_value=\"extrapolate\")# this is a function\n",
    "    #inverse_cdf = np.interp(0,cdf_y,x) #this works but it is not a function\n",
    "    return inverse_cdf\n",
    "def return_samples(f,xmin,xmax,N=1000000):\n",
    "    # let's generate some samples according to the chosen pdf, f(x)\n",
    "    uniform_samples = random(int(N))       \n",
    "    required_samples = sample(f,xmin,xmax)(uniform_samples)\n",
    "    return required_samples"
   ]
  },
  {
   "cell_type": "code",
   "execution_count": null,
   "id": "5c298fbd",
   "metadata": {},
   "outputs": [],
   "source": [
    "#------------1/8 of master catalogue------------#\n",
    "def NewPlacer(redslice):\n",
    "    one_phi=np.random.choice(temp_phi)\n",
    "    one_theta=np.random.choice(temp_theta)\n",
    "    one_zeta=np.random.choice(redslice)\n",
    "    df_candidates=df\n",
    "    #Create a list of possible host\n",
    "    k=1\n",
    "    #print(df_candidates.empty)\n",
    "    while True:\n",
    "        df_candidates=df[(df['ra_gal']>one_phi-k*ang_epsilon) & (df['ra_gal']<one_phi+k*ang_epsilon)]\n",
    "        df_candidates=df_candidates[(df_candidates['dec_gal']>one_theta-k*ang_epsilon) & (df_candidates['dec_gal']<one_theta+k*ang_epsilon)]\n",
    "        df_candidates=df_candidates[(df_candidates['true_redshift_gal']>one_zeta-k*red_epsilon) & (df_candidates['true_redshift_gal']<one_zeta+k*red_epsilon)]\n",
    "        if df_candidates.empty:\n",
    "            k=k+1 \n",
    "        if (df_candidates.empty==False):\n",
    "            break\n",
    "    #Raul: given a point in space, find nearest N host given the list\n",
    "    df_candidates=df_candidates.reset_index(drop=True)\n",
    "    if (df_candidates.shape[0]==1):\n",
    "        unique_host=df_candidates.head(1)\n",
    "\n",
    "    if (df_candidates.shape[0]>1):\n",
    "        parameterdist=np.zeros(df_candidates.shape[0])\n",
    "        for index, row in df_candidates.iterrows():\n",
    "            parameterdist[index]=np.sqrt((row['dec_gal']-one_theta)**2+(row['ra_gal']-one_phi)**2+(row['true_redshift_gal']-one_zeta)**2)\n",
    "        df_candidates['parameterdist']=parameterdist\n",
    "        df_candidates=df_candidates.sort_values([\"parameterdist\"], ascending=True) \n",
    "        unique_host=df_candidates.head(1)\n",
    "    #Now, for each value of angles and z, we select a single host\n",
    "    x_host=unique_host['x_gal'].values[0]/h\n",
    "    y_host=unique_host['y_gal'].values[0]/h\n",
    "    z_host=unique_host['z_gal'].values[0]/h\n",
    "    pp=np.random.uniform(0,2*np.pi)\n",
    "    costt=np.random.uniform(-1,1)\n",
    "    tt=np.arccos(costt)\n",
    "    r=np.random.choice(two_point_radii_cutted)\n",
    "    #distcut=0.1\n",
    "    #while True:\n",
    "    #    r=np.random.choice(two_point_radii)\n",
    "    #    if(r>=distcut):\n",
    "    #        break\n",
    "    xx=r*np.sin(tt)*np.cos(pp)/h\n",
    "    yy=r*np.sin(tt)*np.sin(pp)/h\n",
    "    zz=r*np.cos(tt)/h\n",
    "    xDS=x_host+xx\n",
    "    yDS=y_host+yy\n",
    "    zDS=z_host+zz\n",
    "    Redshift_host=unique_host['true_redshift_gal'].values[0]\n",
    "    dsdistnoh=np.sqrt(xDS**2+yDS**2+zDS**2)#real comoving distance\n",
    "    Redshift_DS=z_of_dc(dsdistnoh)\n",
    "    return(x_host,y_host,z_host,Redshift_host,xDS,yDS,zDS,Redshift_DS)\n",
    "def spoiler(redshift_positions,number_of_DS):\n",
    "    Host_x_todf=[]\n",
    "    Host_y_todf=[]\n",
    "    Host_z_todf=[]\n",
    "    Host_redshift_todf=[]\n",
    "    DS_x_todf=[]\n",
    "    DS_y_todf=[]\n",
    "    DS_z_todf=[]\n",
    "    DS_redshift_todf=[]\n",
    "    retdf=pd.DataFrame()\n",
    "    print('I am Working')\n",
    "    for i in range (len(redshift_positions)-1):\n",
    "        zmin=redshift_positions[i]\n",
    "        zmax=redshift_positions[i+1]\n",
    "        num=int(number_of_DS[i])\n",
    "        print('i={}'.format(i))\n",
    "        for k in range(num):\n",
    "            #if k==0:\n",
    "            #    print(k)\n",
    "            #if (k%100==0):\n",
    "            #    print(k)\n",
    "            tempred=temp_z_values[(temp_z_values>=zmin)&(temp_z_values<=zmax)]\n",
    "            flybie=NewPlacer(tempred)\n",
    "            Host_x_todf=np.append(Host_x_todf,flybie[0])\n",
    "            Host_y_todf=np.append(Host_y_todf,flybie[1])\n",
    "            Host_z_todf=np.append(Host_z_todf,flybie[2])\n",
    "            Host_redshift_todf=np.append(Host_redshift_todf,flybie[3])\n",
    "            DS_x_todf=np.append(DS_x_todf,flybie[4])\n",
    "            DS_y_todf=np.append(DS_y_todf,flybie[5])\n",
    "            DS_z_todf=np.append(DS_z_todf,flybie[6])\n",
    "            DS_redshift_todf=np.append(DS_redshift_todf,flybie[7])\n",
    "    data=[Host_x_todf,Host_y_todf,Host_z_todf,Host_redshift_todf,DS_x_todf,DS_y_todf,DS_z_todf,DS_redshift_todf]\n",
    "    #print(len(Host_x_todf),len(Host_y_todf),len(Host_y_todf),len(Host_redshift_todf),len(DS_x_todf),len(DS_y_todf),len(DS_z_todf),len(DS_redshift_todf))\n",
    "    mycol=['Host_x','Host_y','Host_z','Host_redshift','DS_x','DS_y','DS_z','DS_redshift']\n",
    "    for n in range(len(mycol)):\n",
    "        retdf[mycol[n]]=data[n]\n",
    "    return retdf"
   ]
  },
  {
   "cell_type": "code",
   "execution_count": null,
   "id": "6fe2c0dd",
   "metadata": {},
   "outputs": [],
   "source": [
    "#----------------Other columns-----------------------------\n",
    "#cos_i=np.random.uniform(-1,1,EVA00.shape[0])\n",
    "def primary_mass(m):\n",
    "    if (m<40):\n",
    "        massprob=lambda m: m**(-1.5)\n",
    "        ret=massprob(m)\n",
    "        return ret\n",
    "    if ((m>=40)*(m<80)):\n",
    "        massprob=lambda m: ((40)**(-1.5))*(40**5)*m**(-5)\n",
    "        ret=massprob(m)\n",
    "        return ret\n",
    "    if ((m>=80)*(m<=120)):\n",
    "        massprob=lambda m: m*0\n",
    "        ret=massprob(m)\n",
    "        return ret\n",
    "    if (m>120):\n",
    "        massprob=lambda m: 1/m\n",
    "        ret=massprob(m)\n",
    "        return ret\n",
    "    return\n",
    "#---------This is the correct way to extract from a piecewise distribution!\n",
    "m = np.linspace(5,10000,10000000)\n",
    "lowm=np.linspace(5,80,100000)\n",
    "highm=np.linspace(120,10000,100000)\n",
    "f1 = lambda m: m**(-1.5)\n",
    "f2 = lambda m: ((40)**(-1.5))*(40**5)*m**(-5)\n",
    "f3 = lambda m: m*0\n",
    "f4 = lambda m: (((40)**(-1.5))*(40**5)*120**(-5))*(120)*1/m\n",
    "fx = np.piecewise(m, [(m<40), (m>=40) * (m<80), (m>=80) * (m<120),(m>=120)], [f1,f2,f3,f4])\n",
    "Mass_dist=interpolate.interp1d(m,fx,fill_value=\"extrapolate\") #distribution as a function\n",
    "f_low=np.piecewise(lowm, [(lowm<40), (lowm>=40) * (lowm<80)], [f1,f2])\n",
    "low_mass_dist=interpolate.interp1d(lowm,f_low,fill_value=\"extrapolate\")\n",
    "def secondary_mass(m):\n",
    "    if (m<=80):\n",
    "        while True:\n",
    "            q=np.random.choice(arr_low_q)\n",
    "            m2=m*q\n",
    "            if (m2>1.2):\n",
    "                break\n",
    "    if (m>=119):\n",
    "        while True:\n",
    "            q=np.random.choice(arr_high_q)\n",
    "            m2=m*q\n",
    "            if (m2>1.2):\n",
    "                break\n",
    "    return q,m2"
   ]
  },
  {
   "cell_type": "code",
   "execution_count": null,
   "id": "70bcf74a",
   "metadata": {},
   "outputs": [],
   "source": [
    "arrlow=return_samples(low_mass_dist,5,80,10000000)\n",
    "arrhigh=return_samples(f4,120,10000,10000000)"
   ]
  },
  {
   "cell_type": "code",
   "execution_count": null,
   "id": "d0f470ee",
   "metadata": {},
   "outputs": [],
   "source": [
    "#primarymasses=np.zeros(EVA00.shape[0])\n",
    "#for i in range(dscat.shape[0]):\n",
    "#    primarymasses[i]=np.random.choice(MassValues)\n",
    "#EVA00['M1']=primarymasses\n",
    "#arrq=np.zeros(dscat.shape[0])\n",
    "#secondarymasses=np.zeros(dscat.shape[0])\n",
    "#for i in range(dscat.shape[0]):\n",
    "#    arrq[i],secondarymasses[i]=secondary_mass(primarymasses[i])\n",
    "low_q=lambda q: 1/q\n",
    "high_q=lambda q: np.sqrt(q)\n",
    "arr_low_q=return_samples(low_q,0.1,1,10000000)\n",
    "arr_high_q=return_samples(high_q,0.1,1,10000000)\n",
    "#MassValues=return_samples(vprimary_mass,5,10000,10000000)"
   ]
  },
  {
   "cell_type": "code",
   "execution_count": null,
   "id": "b231f23d",
   "metadata": {},
   "outputs": [],
   "source": [
    "#------------read the flagship-------------------------------------\n",
    "dat = Table.read('11536.fits', format='fits')\n",
    "df = dat.to_pandas()#all good, is an only text fits\n",
    "print(df.columns)\n",
    "print(df.shape)"
   ]
  },
  {
   "cell_type": "code",
   "execution_count": null,
   "id": "31aa7b60",
   "metadata": {},
   "outputs": [],
   "source": [
    "#############################################################################################\n",
    "###############--------DS-spatial-coordinates-###############################################\n",
    "#############################################################################################\n",
    "\n",
    "#Restrict the angular coordinate to be those of the flagship\n",
    "phi_min=df.ra_gal.min()#*np.pi/180\n",
    "phi_max=df.ra_gal.max()#*np.pi/180\n",
    "theta_min=df.dec_gal.min()#*np.pi/180\n",
    "theta_max=df.dec_gal.max()#*np.pi/180\n",
    "#Restrict to the right redshift interval\n",
    "z_min=df.true_redshift_gal.min()\n",
    "z_max=df.true_redshift_gal.max()\n",
    "#print('phi_min={}, phi_max={}, \\ntheta_min={}, theta_max{}, \\nz_min{}, z_max={}'\n",
    "#      .format(phi_min,phi_max,theta_min,theta_max,z_min,z_max))\n",
    "#ds_phi=np.random.uniform(0,phi_lim,500000)\n",
    "ang_epsilon=0.1\n",
    "red_epsilon=0.01\n",
    "temp_phi=np.random.uniform(phi_min,phi_max,100000)#degrees\n",
    "temp_theta=np.random.uniform(theta_min,theta_max,100000)#degrees\n",
    "temp_z_values=np.loadtxt('redshift_MC.txt')\n",
    "two_point_radii=np.loadtxt('two_point_radii.txt')\n",
    "two_point_radii_cutted=np.loadtxt('two_point_radii_cutted.txt')\n",
    "Numb_DS_of_z_int=np.loadtxt('Numb_DS_of_z_int.txt')\n",
    "arr_of_int_lim=np.loadtxt('arr_of_int_lim.txt')"
   ]
  },
  {
   "cell_type": "code",
   "execution_count": null,
   "id": "71617b74",
   "metadata": {},
   "outputs": [],
   "source": [
    "z_min=df.true_redshift_gal.min()\n",
    "z_max=df.true_redshift_gal.max()\n",
    "print(z_min,z_max)"
   ]
  },
  {
   "cell_type": "code",
   "execution_count": null,
   "id": "e00690e1",
   "metadata": {
    "scrolled": true
   },
   "outputs": [],
   "source": [
    "#start_time = time.time()\n",
    "#with Pool(35) as p:\n",
    "#    EVA00=spoiler(arr_of_int_lim,Numb_DS_of_z_int)\n",
    "#print(\"--- %s seconds ---\" % ((time.time() - start_time)))"
   ]
  },
  {
   "cell_type": "code",
   "execution_count": null,
   "id": "74a3f82b",
   "metadata": {},
   "outputs": [],
   "source": [
    "#t = Table.from_pandas(EVA00)\n",
    "#t.write('EVA00.fits', overwrite=True)"
   ]
  },
  {
   "cell_type": "code",
   "execution_count": null,
   "id": "7af7ed7f",
   "metadata": {},
   "outputs": [],
   "source": [
    "effective_primary_masses=np.loadtxt('effective_primary_masses.txt')\n",
    "orbital_inclination=np.loadtxt('cos_inclination.txt')\n",
    "mass_ratio=np.loadtxt('mass_ratio.txt')\n",
    "secondaryMasses=np.loadtxt('secondaryMasses.txt')\n",
    "#psitosave=np.random.uniform(0,2*np.pi,dscat.shape[0])\n",
    "#np.savetxt('allpsi.txt',psitosave)\n",
    "psi=np.loadtxt('allpsi.txt')"
   ]
  },
  {
   "cell_type": "code",
   "execution_count": null,
   "id": "e750c054",
   "metadata": {},
   "outputs": [],
   "source": [
    "#cos_orbital_incl', 'M1', 'M2', 'q'\n",
    "EVA00['cos_orbital_incl']=orbital_inclination\n",
    "EVA00['M1']=effective_primary_masses\n",
    "EVA00['M2']=secondaryMasses\n",
    "EVA00['q']=mass_ratio\n",
    "EVA00['psi']=psi"
   ]
  },
  {
   "cell_type": "code",
   "execution_count": null,
   "id": "c551437d",
   "metadata": {},
   "outputs": [],
   "source": [
    "#t = Table.from_pandas(EVA00)\n",
    "#t.write('EVA01.fits', overwrite=True)\n",
    "dat = Table.read('EVA01.fits', format='fits')\n",
    "tempdf = dat.to_pandas()#all good, is an only text fits\n"
   ]
  },
  {
   "cell_type": "code",
   "execution_count": null,
   "id": "95365c24",
   "metadata": {},
   "outputs": [],
   "source": [
    "MassValues=return_samples(Mass_dist,5,10000,10**9)"
   ]
  },
  {
   "cell_type": "code",
   "execution_count": null,
   "id": "1808bab6",
   "metadata": {},
   "outputs": [],
   "source": [
    "##################################################à#############\n",
    "##########        TEST    ######################################\n",
    "################################################################\n",
    "dat = Table.read('EVA01.fits', format='fits')\n",
    "dscat = dat.to_pandas()#all good, is an only text fits\n",
    "print(dscat.columns)"
   ]
  },
  {
   "cell_type": "code",
   "execution_count": null,
   "id": "6fb00eb1",
   "metadata": {},
   "outputs": [],
   "source": [
    "dscat.head()"
   ]
  },
  {
   "cell_type": "code",
   "execution_count": null,
   "id": "6c822bd8",
   "metadata": {},
   "outputs": [],
   "source": [
    "#-----------Primary Mass----------------------------------------\n",
    "masstoprob=np.linspace(5,10000,100000)\n",
    "norm=quad(Mass_dist,5,10000)[0]\n",
    "realmasstest=dscat['M1']"
   ]
  },
  {
   "cell_type": "code",
   "execution_count": null,
   "id": "17564012",
   "metadata": {},
   "outputs": [],
   "source": [
    "dscat.shape[0]"
   ]
  },
  {
   "cell_type": "code",
   "execution_count": null,
   "id": "699ca99c",
   "metadata": {},
   "outputs": [],
   "source": []
  },
  {
   "cell_type": "code",
   "execution_count": null,
   "id": "e7cc4402",
   "metadata": {},
   "outputs": [],
   "source": [
    "plt.rcParams.update({'font.size': 23})\n",
    "fig,ax = plt.subplots()\n",
    "fig.set_size_inches(18.5, 10.5)\n",
    "\n",
    "ax.plot(masstoprob,Mass_dist(masstoprob)/norm,label='ProbMass',color='r')\n",
    "myhist=plt.hist(realmasstest,bins=1500,density=True)\n",
    "plt.grid(axis='y', alpha=0.75)\n",
    "plt.xlabel('Mass/Msun')\n",
    "plt.ylabel('PDF')\n",
    "plt.title('Mass Dist')\n",
    "plt.yscale('log')\n",
    "plt.xscale('log')\n",
    "plt.savefig('primarymassdist.png')"
   ]
  },
  {
   "cell_type": "code",
   "execution_count": null,
   "id": "b7669c5a",
   "metadata": {},
   "outputs": [],
   "source": [
    "tempdf=dscat.loc[(dscat['M1'] >= 80) & (dscat['M1'] <= 90)]\n",
    "tempdf.shape"
   ]
  },
  {
   "cell_type": "code",
   "execution_count": null,
   "id": "e3dc61b9",
   "metadata": {},
   "outputs": [],
   "source": [
    "fig,ax = plt.subplots()\n",
    "fig.set_size_inches(18.5, 10.5)\n",
    "plt.rcParams.update({'font.size': 25})\n",
    "#ax.plot(masstoprob,Mass_dist(masstoprob)/norm,label='ProbMass',color='r')\n",
    "myhist=plt.hist(realmasstest,bins=np.logspace(np.log10(5),np.log10(10000),150))\n",
    "plt.grid(axis='y', alpha=0.75)\n",
    "plt.xlabel('Mass/Msun')\n",
    "plt.ylabel('PDF')\n",
    "plt.title('Mass Dist')\n",
    "plt.yscale('log')\n",
    "plt.xscale('log')\n",
    "plt.savefig('2P-dist.png')"
   ]
  },
  {
   "cell_type": "code",
   "execution_count": null,
   "id": "3c3eedb1",
   "metadata": {},
   "outputs": [],
   "source": [
    "bins=np.logspace(np.log10(5),np.log10(10000),150)\n",
    "primo=bins[1]-bins[0]\n",
    "ultimo=bins[-1]-bins[-2]\n",
    "binwhidt=(10000-5)/500\n",
    "lowmass=dscat.loc[(dscat['M1'] >= 5) & (dscat['M1'] <= 5+binwhidt)]\n",
    "highmass=dscat.loc[(dscat['M1'] >= 10000-binwhidt) & (dscat['M1'] <= 10000)]\n",
    "print(lowmass.shape[0],highmass.shape[0])\n",
    "print(highmass.shape[0]/lowmass.shape[0])\n",
    "print(primo,ultimo)\n",
    "loglowmass=dscat.loc[(dscat['M1'] >= 5) & (dscat['M1'] <= 5+primo)]\n",
    "loghighmass=dscat.loc[(dscat['M1'] >= 10000-ultimo) & (dscat['M1'] <= 10000)]\n",
    "print(loglowmass.shape[0],loghighmass.shape[0])\n",
    "print(loghighmass.shape[0]/loglowmass.shape[0])"
   ]
  },
  {
   "cell_type": "code",
   "execution_count": null,
   "id": "42f2c7d5",
   "metadata": {},
   "outputs": [],
   "source": [
    "#---------Mass Ratio-------------------------------------------\n",
    "low_q=lambda q: 1/q\n",
    "high_q=lambda q: np.sqrt(q)"
   ]
  },
  {
   "cell_type": "code",
   "execution_count": null,
   "id": "d6ecacb9",
   "metadata": {},
   "outputs": [],
   "source": [
    "tempdf=dscat.loc[(dscat['M1'] >= 4) & (dscat['M1'] <= 90)]"
   ]
  },
  {
   "cell_type": "code",
   "execution_count": null,
   "id": "38877315",
   "metadata": {},
   "outputs": [],
   "source": [
    "testlowq=tempdf['q']"
   ]
  },
  {
   "cell_type": "code",
   "execution_count": null,
   "id": "f6e71a15",
   "metadata": {},
   "outputs": [],
   "source": [
    "qtemp=np.linspace(0.1,1,100000)\n",
    "tempnorm=quad(low_q,0.1,1)[0]\n",
    "fig,ax = plt.subplots()\n",
    "fig.set_size_inches(18.5, 10.5)\n",
    "plt.rcParams.update({'font.size': 25})\n",
    "ax.plot(qtemp,low_q(qtemp)/tempnorm,label='Low ratio',color='r')\n",
    "myhist=plt.hist(testlowq,bins='auto',density=True)\n",
    "plt.grid(axis='y', alpha=0.75)\n",
    "plt.xlabel('mass ratio')\n",
    "plt.ylabel('PDF')\n",
    "plt.title('Mass Ratio')\n",
    "plt.yscale('log')\n",
    "plt.xscale('log')"
   ]
  },
  {
   "cell_type": "code",
   "execution_count": null,
   "id": "60d7c4b2",
   "metadata": {},
   "outputs": [],
   "source": [
    "tempdf=dscat.loc[(dscat['M1'] >= 119)]\n",
    "testhighq=tempdf['q']\n",
    "qtemp=np.linspace(0.1,1,100000)\n",
    "tempnorm=quad(high_q,0.1,1)[0]\n",
    "fig,ax = plt.subplots()\n",
    "fig.set_size_inches(18.5, 10.5)\n",
    "plt.rcParams.update({'font.size': 25})\n",
    "ax.plot(qtemp,high_q(qtemp)/tempnorm,label='Low ratio',color='r')\n",
    "myhist=plt.hist(testhighq,bins='auto',density=True)\n",
    "plt.grid(axis='y', alpha=0.75)\n",
    "plt.xlabel('mass ratio')\n",
    "plt.ylabel('Prob Density')\n",
    "plt.title('Mass Ratio')\n",
    "plt.yscale('log')\n",
    "plt.xscale('log')"
   ]
  },
  {
   "cell_type": "code",
   "execution_count": null,
   "id": "f0015c69",
   "metadata": {},
   "outputs": [],
   "source": [
    "dist_diff=np.zeros(dscat.shape[0])\n",
    "temphostx=dscat['Host_x']\n",
    "temphosty=dscat['Host_y']\n",
    "temphostz=dscat['Host_z']\n",
    "tempdsx=dscat['DS_x']\n",
    "tempdsy=dscat['DS_y']\n",
    "tempdsz=dscat['DS_z']\n",
    "for i in range(dscat.shape[0]):\n",
    "    dist_diff[i]=np.sqrt((temphostx[i]-tempdsx[i])**2+(temphosty[i]-tempdsy[i])**2+(temphostz[i]-tempdsz[i])**2)\n",
    "    "
   ]
  },
  {
   "cell_type": "code",
   "execution_count": null,
   "id": "2591a3fd",
   "metadata": {},
   "outputs": [],
   "source": [
    "r0=5\n",
    "gamma=0.2\n",
    "rmin=0\n",
    "distcut=0.1\n",
    "rmax=10\n",
    "#target function\n",
    "r_dist= lambda r: (r/r0)**(gamma)\n",
    "\n",
    "x = np.linspace(0.1,rmax,1000000)\n",
    "tempnorm=quad(r_dist,distcut,rmax)[0]\n",
    "plt.rcParams.update({'font.size': 23})\n",
    "fig,ax = plt.subplots()\n",
    "fig.set_size_inches(18.5, 10.5)\n",
    "plt.rcParams.update({'font.size': 25})\n",
    "ax.plot(x,r_dist(x)/(tempnorm),label='Comulative rad',color='r')\n",
    "#ax.plot(rtemp,r_dist(rtemp),label='',color='r')\n",
    "myhist=plt.hist(dist_diff,bins='auto',density=True)\n",
    "plt.grid(axis='y', alpha=0.75)\n",
    "plt.xlabel('distance from host Mpc')\n",
    "plt.ylabel('PDF-shell')\n",
    "plt.title('2P distribution on a shell')\n",
    "\n",
    "plt.yscale('log')\n",
    "plt.xscale('log')\n",
    "#plt.savefig('2P-dist.png')"
   ]
  },
  {
   "cell_type": "code",
   "execution_count": 39,
   "id": "edf7d25d",
   "metadata": {},
   "outputs": [],
   "source": [
    "#---------------------Merging------------------------------\n",
    "dat = Table.read('EVA02.fits', format='fits')\n",
    "tomerge = dat.to_pandas()\n",
    "hx=np.array(tomerge['Host_x'])\n",
    "hy=np.array(tomerge['Host_y'])\n",
    "hz=np.array(tomerge['Host_z'])\n",
    "hred=np.array(tomerge['Host_redshift'])\n",
    "dx=np.array(tomerge['DS_x'])\n",
    "dy=np.array(tomerge['DS_y'])\n",
    "dz=np.array(tomerge['DS_z'])\n",
    "dred=np.array(tomerge['DS_redshift'])\n",
    "rhost=np.zeros(tomerge.shape[0])\n",
    "rds=np.zeros(tomerge.shape[0])\n",
    "new_dx=np.zeros(tomerge.shape[0])\n",
    "new_dy=np.zeros(tomerge.shape[0])\n",
    "new_dz=np.zeros(tomerge.shape[0])\n",
    "new_dred=np.zeros(tomerge.shape[0])\n",
    "merged=np.zeros(tomerge.shape[0])"
   ]
  },
  {
   "cell_type": "code",
   "execution_count": 35,
   "id": "461d4441",
   "metadata": {},
   "outputs": [
    {
     "name": "stdout",
     "output_type": "stream",
     "text": [
      "651.9339945778918\n"
     ]
    }
   ],
   "source": [
    "print(hx[0])"
   ]
  },
  {
   "cell_type": "code",
   "execution_count": 38,
   "id": "d8c77968",
   "metadata": {},
   "outputs": [],
   "source": [
    "def merger(i):\n",
    "    rhost[i]=np.sqrt(hx[i]**2+hy[i]**2+hz[i]**2)\n",
    "    rds[i]=np.sqrt(dx[i]**2+dy[i]**2+dz[i]**2)\n",
    "    if (abs(rhost[i]-rds[i])<2):\n",
    "        merged=1\n",
    "        new_dx[i]=hx[i]\n",
    "        new_dy[i]=hy[i]\n",
    "        new_dz[i]=hz[i]\n",
    "        new_dred[i]=hred[i]\n",
    "    else:\n",
    "        merged=0\n",
    "    return merged"
   ]
  },
  {
   "cell_type": "code",
   "execution_count": 27,
   "id": "10199900",
   "metadata": {},
   "outputs": [
    {
     "name": "stdout",
     "output_type": "stream",
     "text": [
      "I am doing the best I can, please wait...\n",
      "--- 0.4405379295349121 seconds ---\n"
     ]
    }
   ],
   "source": [
    "print('I am doing the best I can, please wait...')\n",
    "start_time = time.time()\n",
    "with Pool(40) as p:\n",
    "    flag=p.map(merger, range(tomerge.shape[0]))\n",
    "print(\"--- %s seconds ---\" % (time.time() - start_time))"
   ]
  },
  {
   "cell_type": "code",
   "execution_count": 44,
   "id": "363474be",
   "metadata": {},
   "outputs": [
    {
     "name": "stderr",
     "output_type": "stream",
     "text": [
      "100%|██████████| 515652/515652 [00:02<00:00, 213893.95it/s]\n"
     ]
    }
   ],
   "source": [
    "for i in tqdm(range(tomerge.shape[0])):\n",
    "    rhost[i]=np.sqrt(hx[i]**2+hy[i]**2+hz[i]**2)\n",
    "    rds[i]=np.sqrt(dx[i]**2+dy[i]**2+dz[i]**2)\n",
    "    if (abs(rhost[i]-rds[i])<2):\n",
    "        merged[i]=1\n",
    "        dx[i]=hx[i]\n",
    "        dy[i]=hy[i]\n",
    "        dz[i]=hz[i]\n",
    "        dred[i]=hred[i]\n",
    "    else:\n",
    "        merged[i]=0"
   ]
  },
  {
   "cell_type": "code",
   "execution_count": 47,
   "id": "ca41a645",
   "metadata": {},
   "outputs": [
    {
     "name": "stdout",
     "output_type": "stream",
     "text": [
      "[1. 1. 0. ... 0. 1. 0.]\n",
      "515652\n"
     ]
    },
    {
     "data": {
      "text/plain": [
       "(None, None)"
      ]
     },
     "execution_count": 47,
     "metadata": {},
     "output_type": "execute_result"
    }
   ],
   "source": [
    "print(merged),print(len(merged))"
   ]
  },
  {
   "cell_type": "code",
   "execution_count": 48,
   "id": "2e875292",
   "metadata": {},
   "outputs": [],
   "source": [
    "tomerge.drop('DS_x', inplace=True, axis=1)\n",
    "tomerge.drop('DS_y', inplace=True, axis=1)\n",
    "tomerge.drop('DS_z', inplace=True, axis=1)\n",
    "tomerge.drop('DS_redshift', inplace=True, axis=1)\n",
    "#tomerge['merged']=flag"
   ]
  },
  {
   "cell_type": "code",
   "execution_count": 49,
   "id": "726273ef",
   "metadata": {},
   "outputs": [],
   "source": [
    "tomerge.insert(loc=4, column='DS_x', value=dx)\n",
    "tomerge.insert(loc=5, column='DS_y', value=dy)\n",
    "tomerge.insert(loc=6, column='DS_z', value=dz)\n",
    "tomerge.insert(loc=7, column='DS_redshift', value=dred)"
   ]
  },
  {
   "cell_type": "code",
   "execution_count": 51,
   "id": "f1267d7f",
   "metadata": {},
   "outputs": [],
   "source": [
    "t = Table.from_pandas(tomerge)\n",
    "t.write('EVA03.fits', overwrite=True)"
   ]
  },
  {
   "cell_type": "code",
   "execution_count": 50,
   "id": "711984b7",
   "metadata": {},
   "outputs": [
    {
     "data": {
      "text/html": [
       "<div>\n",
       "<style scoped>\n",
       "    .dataframe tbody tr th:only-of-type {\n",
       "        vertical-align: middle;\n",
       "    }\n",
       "\n",
       "    .dataframe tbody tr th {\n",
       "        vertical-align: top;\n",
       "    }\n",
       "\n",
       "    .dataframe thead th {\n",
       "        text-align: right;\n",
       "    }\n",
       "</style>\n",
       "<table border=\"1\" class=\"dataframe\">\n",
       "  <thead>\n",
       "    <tr style=\"text-align: right;\">\n",
       "      <th></th>\n",
       "      <th>Host_x</th>\n",
       "      <th>Host_y</th>\n",
       "      <th>Host_z</th>\n",
       "      <th>Host_redshift</th>\n",
       "      <th>DS_x</th>\n",
       "      <th>DS_y</th>\n",
       "      <th>DS_z</th>\n",
       "      <th>DS_redshift</th>\n",
       "      <th>cos_orbital_incl</th>\n",
       "      <th>M1</th>\n",
       "      <th>M2</th>\n",
       "      <th>q</th>\n",
       "      <th>psi</th>\n",
       "      <th>SNR</th>\n",
       "      <th>Aproximant</th>\n",
       "    </tr>\n",
       "  </thead>\n",
       "  <tbody>\n",
       "    <tr>\n",
       "      <th>0</th>\n",
       "      <td>651.933995</td>\n",
       "      <td>402.188065</td>\n",
       "      <td>2806.954546</td>\n",
       "      <td>0.808803</td>\n",
       "      <td>651.933995</td>\n",
       "      <td>402.188065</td>\n",
       "      <td>2806.954546</td>\n",
       "      <td>0.808803</td>\n",
       "      <td>0.793474</td>\n",
       "      <td>10.569518</td>\n",
       "      <td>5.143687</td>\n",
       "      <td>0.486653</td>\n",
       "      <td>2.550917</td>\n",
       "      <td>47.566179</td>\n",
       "      <td>b'IMRPhenomD'</td>\n",
       "    </tr>\n",
       "    <tr>\n",
       "      <th>1</th>\n",
       "      <td>1901.947841</td>\n",
       "      <td>477.181005</td>\n",
       "      <td>2147.676656</td>\n",
       "      <td>0.808301</td>\n",
       "      <td>1901.947841</td>\n",
       "      <td>477.181005</td>\n",
       "      <td>2147.676656</td>\n",
       "      <td>0.808301</td>\n",
       "      <td>-0.615400</td>\n",
       "      <td>26.536605</td>\n",
       "      <td>5.515256</td>\n",
       "      <td>0.207836</td>\n",
       "      <td>3.274064</td>\n",
       "      <td>94.996610</td>\n",
       "      <td>b'IMRPhenomD'</td>\n",
       "    </tr>\n",
       "    <tr>\n",
       "      <th>2</th>\n",
       "      <td>792.327061</td>\n",
       "      <td>2056.292634</td>\n",
       "      <td>1873.462461</td>\n",
       "      <td>0.802654</td>\n",
       "      <td>796.891722</td>\n",
       "      <td>2051.491963</td>\n",
       "      <td>1868.765822</td>\n",
       "      <td>0.800800</td>\n",
       "      <td>0.228812</td>\n",
       "      <td>38.501322</td>\n",
       "      <td>29.412304</td>\n",
       "      <td>0.763930</td>\n",
       "      <td>3.479153</td>\n",
       "      <td>168.103360</td>\n",
       "      <td>b'IMRPhenomD'</td>\n",
       "    </tr>\n",
       "    <tr>\n",
       "      <th>3</th>\n",
       "      <td>2566.548362</td>\n",
       "      <td>58.913997</td>\n",
       "      <td>1323.989640</td>\n",
       "      <td>0.801273</td>\n",
       "      <td>2571.261103</td>\n",
       "      <td>58.839892</td>\n",
       "      <td>1319.617234</td>\n",
       "      <td>0.802053</td>\n",
       "      <td>0.694977</td>\n",
       "      <td>14.085194</td>\n",
       "      <td>1.642785</td>\n",
       "      <td>0.116632</td>\n",
       "      <td>4.078907</td>\n",
       "      <td>70.825260</td>\n",
       "      <td>b'IMRPhenomD'</td>\n",
       "    </tr>\n",
       "    <tr>\n",
       "      <th>4</th>\n",
       "      <td>1165.316454</td>\n",
       "      <td>2573.915761</td>\n",
       "      <td>575.600923</td>\n",
       "      <td>0.799466</td>\n",
       "      <td>1165.316454</td>\n",
       "      <td>2573.915761</td>\n",
       "      <td>575.600923</td>\n",
       "      <td>0.799466</td>\n",
       "      <td>-0.838562</td>\n",
       "      <td>5.332573</td>\n",
       "      <td>2.141039</td>\n",
       "      <td>0.401502</td>\n",
       "      <td>2.813217</td>\n",
       "      <td>89.006671</td>\n",
       "      <td>b'IMRPhenomD'</td>\n",
       "    </tr>\n",
       "  </tbody>\n",
       "</table>\n",
       "</div>"
      ],
      "text/plain": [
       "        Host_x       Host_y       Host_z  Host_redshift         DS_x  \\\n",
       "0   651.933995   402.188065  2806.954546       0.808803   651.933995   \n",
       "1  1901.947841   477.181005  2147.676656       0.808301  1901.947841   \n",
       "2   792.327061  2056.292634  1873.462461       0.802654   796.891722   \n",
       "3  2566.548362    58.913997  1323.989640       0.801273  2571.261103   \n",
       "4  1165.316454  2573.915761   575.600923       0.799466  1165.316454   \n",
       "\n",
       "          DS_y         DS_z  DS_redshift  cos_orbital_incl         M1  \\\n",
       "0   402.188065  2806.954546     0.808803          0.793474  10.569518   \n",
       "1   477.181005  2147.676656     0.808301         -0.615400  26.536605   \n",
       "2  2051.491963  1868.765822     0.800800          0.228812  38.501322   \n",
       "3    58.839892  1319.617234     0.802053          0.694977  14.085194   \n",
       "4  2573.915761   575.600923     0.799466         -0.838562   5.332573   \n",
       "\n",
       "          M2         q       psi         SNR     Aproximant  \n",
       "0   5.143687  0.486653  2.550917   47.566179  b'IMRPhenomD'  \n",
       "1   5.515256  0.207836  3.274064   94.996610  b'IMRPhenomD'  \n",
       "2  29.412304  0.763930  3.479153  168.103360  b'IMRPhenomD'  \n",
       "3   1.642785  0.116632  4.078907   70.825260  b'IMRPhenomD'  \n",
       "4   2.141039  0.401502  2.813217   89.006671  b'IMRPhenomD'  "
      ]
     },
     "execution_count": 50,
     "metadata": {},
     "output_type": "execute_result"
    }
   ],
   "source": [
    "tomerge.head(5)"
   ]
  },
  {
   "cell_type": "code",
   "execution_count": null,
   "id": "9c787680",
   "metadata": {},
   "outputs": [],
   "source": []
  }
 ],
 "metadata": {
  "kernelspec": {
   "display_name": "Python 3",
   "language": "python",
   "name": "python3"
  },
  "language_info": {
   "codemirror_mode": {
    "name": "ipython",
    "version": 3
   },
   "file_extension": ".py",
   "mimetype": "text/x-python",
   "name": "python",
   "nbconvert_exporter": "python",
   "pygments_lexer": "ipython3",
   "version": "3.8.10"
  }
 },
 "nbformat": 4,
 "nbformat_minor": 5
}
