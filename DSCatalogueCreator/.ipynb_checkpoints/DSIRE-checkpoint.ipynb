{
 "cells": [
  {
   "cell_type": "code",
   "execution_count": 1,
   "id": "d592aec7",
   "metadata": {},
   "outputs": [
    {
     "name": "stdout",
     "output_type": "stream",
     "text": [
      "FlatLambdaCDM(name=\"Planck18\", H0=67.7 km / (Mpc s), Om0=0.31, Tcmb0=2.725 K, Neff=3.05, m_nu=[0.   0.   0.06] eV, Ob0=0.049)\n"
     ]
    }
   ],
   "source": [
    "#-------------------------Imports---------------------------\n",
    "import numpy as np\n",
    "#import healpy as hp\n",
    "import matplotlib.pyplot as plt\n",
    "import matplotlib.pylab as pl\n",
    "import matplotlib\n",
    "from mpl_toolkits import mplot3d\n",
    "#import sympy as sy #symbolic algebra\n",
    "import pandas as pd\n",
    "from numpy.random import random\n",
    "\n",
    "from scipy.stats import kstest\n",
    "from scipy.stats import ks_2samp\n",
    "from scipy.stats import uniform\n",
    "from scipy import interpolate\n",
    "from scipy.integrate import quad\n",
    "from scipy.integrate import trapz\n",
    "from scipy import constants\n",
    "\n",
    "import os\n",
    "#from astropy.cosmology import Planck15\n",
    "from astropy.cosmology import Planck18\n",
    "from astropy.cosmology import FlatLambdaCDM\n",
    "from astropy.io import fits\n",
    "from astropy.table import Table\n",
    "\n",
    "from tqdm import tqdm\n",
    "from multiprocessing import Pool\n",
    "import time\n",
    "\n",
    "###########################\n",
    "# CONSTANTS\n",
    "###########################\n",
    "H0GLOB= 69.32#67.9 #69\n",
    "Om0GLOB=0.298\n",
    "Xi0Glob =1.\n",
    "clight = 2.99792458* 10**5#km/s\n",
    "cosmoglob = Planck18\n",
    "cosmofast = FlatLambdaCDM(H0=H0GLOB, Om0=Om0GLOB)\n",
    "H0=cosmoglob.H(0).value\n",
    "h=H0/100\n",
    "#geometrization of masses\n",
    "Msun=(1.98892)*(10**30)\n",
    "solarmass_to_m=(constants.G*Msun)/((constants.c)**2)#G/c^2\n",
    "Mpc_to_m=3.08567758128*(10**22) #this will be used later\n",
    "#-------miscellanea-----------------------\n",
    "xmax=100\n",
    "ymax=100\n",
    "zmax=100\n",
    "half_box_size=2\n",
    "\n",
    "Npoints=1000\n",
    "Sigma=10\n",
    "\n",
    "\n",
    "print(cosmoglob)"
   ]
  },
  {
   "cell_type": "code",
   "execution_count": 2,
   "id": "ad4cb919",
   "metadata": {},
   "outputs": [],
   "source": [
    "#--------------------------definitions-------------------------\n",
    "def NumOfDS(x,y,z):\n",
    "    #this will evaluate the dN/dz\n",
    "    r=np.sqrt(x**2+y**2+z**2)\n",
    "    #numberofDS=1000/r\n",
    "    numberofDS=2\n",
    "    num=int(numberofDS)\n",
    "    #print(num)\n",
    "    if num>0:\n",
    "        return num\n",
    "    else:\n",
    "        return 1\n",
    "#-----------rejection-stuff------------\n",
    "def sample(g,xmin,xmax):\n",
    "    x = np.linspace(xmin,xmax,1000000)\n",
    "    y = g(x)                        # probability density function, pdf\n",
    "    cdf_y = np.cumsum(y)            # cumulative distribution function, cdf\n",
    "    cdf_y = cdf_y/cdf_y.max()       # takes care of normalizing cdf to 1.0\n",
    "    inverse_cdf = interpolate.interp1d(cdf_y,x,fill_value=\"extrapolate\")# this is a function\n",
    "    #inverse_cdf = np.interp(0,cdf_y,x) #this works but it is not a function\n",
    "    return inverse_cdf\n",
    "def return_samples(f,xmin,xmax,N=1000000):\n",
    "    # let's generate some samples according to the chosen pdf, f(x)\n",
    "    uniform_samples = random(int(N))       \n",
    "    required_samples = sample(f,xmin,xmax)(uniform_samples)\n",
    "    return required_samples\n",
    "#--------------Placer-----------------------------\n",
    "def DS_Maker(radii,perc,numHost,xhost,yhost,zhost):\n",
    "    #the DSs are generated in a sphere, centered on the host. and the distance must follow\n",
    "#the correlation distribution. \n",
    "#To generate points on a unit sphere see https://mathworld.wolfram.com/SpherePointPicking.html\n",
    "# A python implementation https://stackoverflow.com/questions/5408276/sampling-uniformly-distributed-random-points-inside-a-spherical-volume\n",
    "    #remember: you have to return also the indices of the hosts that have DSs\n",
    "    x_Dark=[]\n",
    "    y_Dark=[]\n",
    "    z_Dark=[]\n",
    "    phi_to_return=[]\n",
    "    theta_to_return=[]\n",
    "    r_to_return=[]\n",
    "    full_r=[]\n",
    "    \n",
    "    arr_n=[]\n",
    "    NDS=int(perc*numHost)\n",
    "    indices=np.zeros(NDS)\n",
    "    \n",
    "    for k in range(NDS):\n",
    "        i=np.random.randint(0, numHost-1)\n",
    "        indices[k]=i\n",
    "        dist_x=xhost[i]\n",
    "        dist_y=yhost[i]\n",
    "        dist_z=zhost[i]\n",
    "        n=NumOfDS(dist_x,dist_y,dist_z)\n",
    "        arr_n=np.append(arr_n,n)\n",
    "        for d in range(n):\n",
    "            phi =np.random.uniform(0,2*np.pi)\n",
    "            costheta =np.random.uniform(-1,1)\n",
    "            theta = np.arccos(costheta)\n",
    "            r=np.random.choice(radii)\n",
    "            full_r=np.append(full_r,r)\n",
    "            if r>=distcut:\n",
    "                x_DS = r * np.sin( theta) * np.cos( phi )\n",
    "                y_DS = r * np.sin( theta) * np.sin( phi )\n",
    "                z_DS = r * np.cos( theta )\n",
    "                r_to_return=np.append(r_to_return,r)\n",
    "            else:\n",
    "                d=d-1\n",
    "\n",
    "            #real values: do some check\n",
    "            \n",
    "            theta_to_return=np.append(theta_to_return,costheta)\n",
    "            phi_to_return=np.append(phi_to_return,phi)\n",
    "        \n",
    "            x_Dark=np.append(x_Dark,dist_x+x_DS)\n",
    "            y_Dark=np.append(y_Dark,dist_y+y_DS)\n",
    "            z_Dark=np.append(z_Dark,dist_z+z_DS)\n",
    "    #--------only unique indices of host-DS\n",
    "    filtered=np.unique(indices.astype(int))\n",
    "    return x_Dark, y_Dark, z_Dark, filtered, arr_n,r_to_return,theta_to_return,phi_to_return,full_r\n"
   ]
  },
  {
   "cell_type": "code",
   "execution_count": 3,
   "id": "530a8e61",
   "metadata": {},
   "outputs": [
    {
     "name": "stdout",
     "output_type": "stream",
     "text": [
      "Index(['ra_gal', 'dec_gal', 'observed_redshift_gal', 'x_gal', 'y_gal', 'z_gal',\n",
      "       'vx_gal', 'vy_gal', 'vz_gal'],\n",
      "      dtype='object')\n",
      "(14047533, 9)\n"
     ]
    }
   ],
   "source": [
    "#------------read the flagship-------------------------------------\n",
    "dat = Table.read('flagship_second_attempt.fits', format='fits')\n",
    "df = dat.to_pandas()#all good, is an only text fits\n",
    "print(df.columns)\n",
    "print(df.shape)"
   ]
  },
  {
   "cell_type": "code",
   "execution_count": null,
   "id": "09fd0360",
   "metadata": {},
   "outputs": [],
   "source": [
    "print(df.ra_gal.min(),df.ra_gal.max())\n",
    "print(df.dec_gal.min(),df.dec_gal.max())\n",
    "print(df.ra_gal[0],df.dec_gal[0])"
   ]
  },
  {
   "cell_type": "code",
   "execution_count": null,
   "id": "5d741792",
   "metadata": {},
   "outputs": [],
   "source": [
    "#distances are in Mpc/h and are comoving distances. We need luminosity distances and Mpc \n",
    "host_x=df['x_gal'].values/h #restore the right units\n",
    "host_y=df['y_gal'].values/h\n",
    "host_z=df['z_gal'].values/h\n",
    "host_obs_redshift=df['observed_redshift_gal'].values\n",
    "#host_true_redshift=df['true_redshift_gal'].values\n",
    "lum_host_x=host_x*(1+host_true_redshift)\n",
    "lum_host_y=host_y*(1+host_true_redshift)\n",
    "lum_host_z=host_z*(1+host_true_redshift)\n",
    "dl=np.sqrt(lum_host_x[-1]**2+lum_host_y[-1]**2+lum_host_z[-1]**2)\n",
    "dc=np.sqrt(host_x[-1]**2+host_y[-1]**2+host_z[-1]**2)\n",
    "\n",
    "#print(dc,dl,dl/dc-1,host_obs_redshift[-1],host_true_redshift[-1])"
   ]
  },
  {
   "cell_type": "code",
   "execution_count": null,
   "id": "1c356a97",
   "metadata": {},
   "outputs": [],
   "source": [
    "print(dc,dl,dl/dc-1,host_obs_redshift[-1],host_true_redshift[-1])"
   ]
  },
  {
   "cell_type": "code",
   "execution_count": null,
   "id": "1628de63",
   "metadata": {},
   "outputs": [],
   "source": [
    "fig = plt.figure(figsize = (10,10))\n",
    "ax = plt.axes(projection='3d')\n",
    "ax.grid()\n",
    "num=int(df.shape[0]*0.0001)\n",
    "ax.scatter(np.random.choice(lum_host_x,num), np.random.choice(lum_host_y,num),\n",
    "           np.random.choice(lum_host_z,num), c = 'b', s = 5)\n",
    "ax.set_title('Host-Dristibution')\n",
    "\n",
    "# Set axes label\n",
    "ax.set_xlabel('x', labelpad=20)\n",
    "ax.set_ylabel('y', labelpad=20)\n",
    "ax.set_zlabel('z', labelpad=20)\n",
    "#plt.savefig('HostDist.pdf')\n",
    "ax.view_init(60, 65)#rotation along x z\n",
    "figtot2dxy = plt.figure(figsize = (10,10))\n",
    "ax = plt.axes()\n",
    "ax.grid()\n",
    "ax.tick_params(axis='both', which='major', labelsize=14)\n",
    "ax.grid(linestyle='dotted', linewidth='0.6')\n",
    "ax.scatter(np.random.choice(lum_host_x,num), np.random.choice(lum_host_y,num),\n",
    "           c = 'b', marker=\"*\", label='Host')\n",
    "plt.legend(loc='upper left');"
   ]
  },
  {
   "cell_type": "code",
   "execution_count": null,
   "id": "16c54f1f",
   "metadata": {},
   "outputs": [],
   "source": []
  },
  {
   "cell_type": "code",
   "execution_count": 12,
   "id": "ce55940d",
   "metadata": {},
   "outputs": [],
   "source": [
    "#----------------MC-rejection-with-CDF----------------------\n",
    "r0=5*h\n",
    "gamma=0.2\n",
    "#rmin=0.1*h\n",
    "rmin=0\n",
    "distcut=0.1*h\n",
    "rmax=10*h\n",
    "#target function\n",
    "target_dist= lambda r: (r/r0)**(gamma)\n",
    "#x = sy.Symbol('x')\n",
    "#norm=sy.integrate(target_dist(x), (x, rmin, rmax))\n",
    "#print(norm)\n",
    "values=return_samples(target_dist,rmin,rmax,1000000)\n",
    "real_values=values[values>=distcut]\n",
    "shift=len(values)-len(real_values)\n",
    "#np.savetxt('two_point_radii.txt',values)"
   ]
  },
  {
   "cell_type": "code",
   "execution_count": null,
   "id": "42141e15",
   "metadata": {},
   "outputs": [],
   "source": [
    "print(len(real_values))\n",
    "fast_shift=1-len(real_values)/len(values)\n",
    "print(1-len(real_values)/len(values))"
   ]
  },
  {
   "cell_type": "code",
   "execution_count": null,
   "id": "cc41d008",
   "metadata": {},
   "outputs": [],
   "source": [
    "Nhost=df.shape[0]\n",
    "x_Dark, y_Dark, z_Dark, filtered,arr_n,real_r,real_theta,real_phi,full_r=DS_Maker(values,0.001,Nhost,host_x,host_y,host_z)\n",
    "print(len(x_Dark))"
   ]
  },
  {
   "cell_type": "code",
   "execution_count": null,
   "id": "0f0fdddc",
   "metadata": {},
   "outputs": [],
   "source": [
    "fig2 = plt.figure(figsize = (10,10))\n",
    "ax = plt.axes(projection='3d')\n",
    "ax.grid()\n",
    "\n",
    "ax.scatter(x_Dark, y_Dark, z_Dark, c = 'g', s = 10)\n",
    "ax.set_title('DS-Dristibution')\n",
    "\n",
    "# Set axes label\n",
    "ax.set_xlabel('x', labelpad=20)\n",
    "ax.set_ylabel('y', labelpad=20)\n",
    "ax.set_zlabel('z', labelpad=20)\n",
    "#plt.savefig('DSDist.pdf')"
   ]
  },
  {
   "cell_type": "code",
   "execution_count": null,
   "id": "1f07e671",
   "metadata": {},
   "outputs": [],
   "source": [
    "figtot = plt.figure(figsize = (10,10))\n",
    "ax = plt.axes(projection='3d')\n",
    "ax.grid()\n",
    "ax1 = figtot.add_subplot(111,projection='3d')\n",
    "\n",
    "ax1.scatter(np.take(host_x,filtered), np.take(host_y,filtered),np.take(host_z,filtered), c = 'b', marker=\"*\", label='Host')\n",
    "ax1.scatter(x_Dark, y_Dark, z_Dark, s=5, c = 'g', marker=\"o\", label='DS')\n",
    "plt.legend(loc='upper left');\n",
    "#plt.savefig('DS_and_Host.pdf')"
   ]
  },
  {
   "cell_type": "code",
   "execution_count": null,
   "id": "c099f4ec",
   "metadata": {},
   "outputs": [],
   "source": [
    "figtot2dxy = plt.figure(figsize = (10,10))\n",
    "ax = plt.axes()\n",
    "ax.grid()\n",
    "ax.tick_params(axis='both', which='major', labelsize=14)\n",
    "ax.grid(linestyle='dotted', linewidth='0.6')\n",
    "ax.scatter(np.take(host_x,filtered), np.take(host_y,filtered), c = 'b', marker=\"*\", label='Host')\n",
    "ax.scatter(x_Dark, y_Dark, s=5, c = 'g', marker=\"o\", label='DS')\n",
    "plt.legend(loc='upper left');\n",
    "#plt.savefig('DS_and_Host_xy.pdf')"
   ]
  },
  {
   "cell_type": "code",
   "execution_count": null,
   "id": "1aaa8e8e",
   "metadata": {},
   "outputs": [],
   "source": [
    "'''\n",
    "Some checks on what we have so far\n",
    "Do To list:\n",
    "1) visual proof of distributions\n",
    "'''"
   ]
  },
  {
   "cell_type": "code",
   "execution_count": null,
   "id": "cb655f90",
   "metadata": {},
   "outputs": [],
   "source": [
    "#--------------------host redshift distribution------------------------------------\n",
    "n, bins, patches = plt.hist(x=host_obs_redshift, bins='auto', color='b',\n",
    "                            alpha=0.7, rwidth=1)\n",
    "plt.grid(axis='y', alpha=0.75)\n",
    "plt.xlabel('Redshift')\n",
    "plt.ylabel('Frequency')\n",
    "plt.title('N(z)')\n",
    "maxfreq = n.max()\n",
    "plt.yscale('log')\n",
    "plt.xscale('log')\n",
    "# Set a clean upper y-axis limit.\n",
    "plt.ylim(ymax=np.ceil(maxfreq / 10) * 10 if maxfreq % 10 else maxfreq + 10)"
   ]
  },
  {
   "cell_type": "code",
   "execution_count": null,
   "id": "7c5c15e0",
   "metadata": {},
   "outputs": [],
   "source": [
    "## plot of the rejection results\n",
    "\n",
    "x = np.linspace(0.1*h,rmax,1000000)\n",
    "fig,ax = plt.subplots()\n",
    "fig.set_size_inches(18.5, 10.5)\n",
    "ax.set_xlabel('x')\n",
    "ax.set_ylabel('probability density')\n",
    "ax.plot(x,target_dist(x)/np.sum(target_dist(x)*(x[1]-x[0])) )\n",
    "#ax.plot(x,target_dist(x)/norm ) #slow\n",
    "ax.hist(values,bins='auto',density=True,range=(x.min(),x.max()))\n",
    "plt.grid(axis='y', alpha=0.75)\n",
    "plt.xlabel('Mpc/h')\n",
    "plt.ylabel('Frequency')\n",
    "plt.yscale('log')\n",
    "plt.xscale('log')\n",
    "plt.title('Two-points correlation')\n",
    "plt.show() "
   ]
  },
  {
   "cell_type": "code",
   "execution_count": null,
   "id": "9627dcd4",
   "metadata": {},
   "outputs": [],
   "source": [
    "#---------------Distribution of phi------------------\n",
    "count, bins, ignored = plt.hist(real_phi, 100, density=True)\n",
    "line=np.ones_like(bins)\n",
    "line=line/(2*np.pi)\n",
    "plt.plot(bins, line, linewidth=2, color='r')\n",
    "plt.show()"
   ]
  },
  {
   "cell_type": "code",
   "execution_count": null,
   "id": "3d90abfb",
   "metadata": {},
   "outputs": [],
   "source": [
    "#---------------Distribution of cos(theta)------------------\n",
    "count, bins, ignored = plt.hist(real_theta, 100, density=True)#real_theta is cos(theta)\n",
    "line=np.ones_like(bins)\n",
    "line=line/(2)\n",
    "plt.plot(bins, line, linewidth=2, color='r')\n",
    "plt.show()"
   ]
  },
  {
   "cell_type": "code",
   "execution_count": null,
   "id": "bd2c457a",
   "metadata": {},
   "outputs": [],
   "source": [
    "\n",
    "Npoints=100\n",
    "esp=1\n",
    "phi =np.random.uniform(0,2*np.pi,Npoints)\n",
    "costheta =np.random.uniform(-1,1,Npoints)\n",
    "theta = np.arccos(costheta)\n",
    "r=np.random.choice(values,Npoints)\n",
    "wire_phi = np.linspace(0, np.pi, 20)\n",
    "wire_theta = np.linspace(0, 2 * np.pi, 40)\n",
    "x_sph = r * np.sin( theta) * np.cos( phi )\n",
    "y_sph = r * np.sin( theta) * np.sin( phi )\n",
    "z_sph = r * np.cos( theta )\n",
    "x = rmin*np.outer(np.sin(wire_theta), np.cos(wire_phi))# outer product i.e. line*row\n",
    "y = rmin*np.outer(np.sin(wire_theta), np.sin(wire_phi))\n",
    "z = rmin*np.outer(np.cos(wire_theta), np.ones_like(wire_phi))\n",
    "x_out = rmax*np.outer(np.sin(wire_theta), np.cos(wire_phi))# outer product i.e. line*row\n",
    "y_out = rmax*np.outer(np.sin(wire_theta), np.sin(wire_phi))\n",
    "z_out = rmax*np.outer(np.cos(wire_theta), np.ones_like(wire_phi))\n",
    "fig, ax = plt.subplots(1, 1,subplot_kw={'projection':'3d'})\n",
    "fig.set_size_inches(11.5, 11.5)\n",
    "ax.scatter(x_sph, y_sph , z_sph, s=20, c='k', zorder=10)\n",
    "ax.scatter(0, 0 , 0, s=100, c='r', zorder=10)\n",
    "#ax.plot_wireframe(x, y, z, color='b', rstride=1, cstride=1)\n",
    "ax.plot_wireframe(x_out, y_out, z_out, color='g', rstride=1, cstride=1)\n",
    "\n",
    "ax.view_init(60, 65)#rotation along x z"
   ]
  },
  {
   "cell_type": "code",
   "execution_count": null,
   "id": "8fdc0a89",
   "metadata": {},
   "outputs": [],
   "source": [
    "#---------- Test using real DS data------------------------------\n"
   ]
  },
  {
   "cell_type": "code",
   "execution_count": null,
   "id": "bd673a2d",
   "metadata": {},
   "outputs": [],
   "source": [
    "bins = 100\n",
    "counts_cdf = []\n",
    "counts_new_cdf = []\n",
    "r_right=[]\n",
    "#r=np.random.choice(values,70000)\n",
    "step = real_r.max()/bins\n",
    "R_min = distcut\n",
    "#new_values=values[values>=R_min]\n",
    "\n",
    "for myi in range(bins):\n",
    "    right = R_min + (myi+0)*step\n",
    "    bools_old = full_r<=right\n",
    "    bools_new = real_r<=right\n",
    "    \n",
    "    counts_cdf = np.append(counts_cdf, len(full_r[bools_old]))\n",
    "    counts_new_cdf = np.append(counts_new_cdf, len(real_r[bools_new]))\n",
    "    \n",
    "    r_right = np.append(r_right, right)\n",
    "    \n",
    "    #print(counts_cdf[myi],counts_new_cdf[myi])\n",
    "    #print(counts_cdf[myi]-counts_new_cdf[myi])\n",
    "shift=counts_cdf[0]-counts_new_cdf[0]\n",
    "#shift=0.004*len(real_r)\n",
    "#shift=fast_shift*len(real_r)\n",
    "counts_cdf=counts_cdf/counts_cdf.max()\n",
    "counts_new_cdf=counts_new_cdf+shift\n",
    "counts_new_cdf=counts_new_cdf/counts_new_cdf.max()\n",
    "\n",
    "    \n",
    "    "
   ]
  },
  {
   "cell_type": "code",
   "execution_count": null,
   "id": "c700ac56",
   "metadata": {},
   "outputs": [],
   "source": [
    "x = np.linspace(R_min,rmax,1000000)\n",
    "zeta=1.2#gamma+1\n",
    "norm=(rmax**(zeta))/((zeta)*r0**gamma)\n",
    "print('CDF normalization {}\\t Prefactor {}'.format(norm,1/norm))\n",
    "handmade_cdf=lambda x: (x**(zeta))/(rmax**(zeta))\n",
    "\n",
    "\n",
    "fig,ax = plt.subplots()\n",
    "fig.set_size_inches(18.5, 10.5)\n",
    "ax.set_xlabel('x')\n",
    "\n",
    "#ax.set_ylabel('probability density')\n",
    "\n",
    "ax.plot(x,handmade_cdf(x) ,color='g')\n",
    "plt.axvline(x=distcut)\n",
    "ax.scatter(r_right, counts_new_cdf , s=50, marker='+', c='r', zorder=10)\n",
    "ax.scatter(r_right, counts_cdf , s=20,marker='*', c='k', zorder=10)\n",
    "plt.grid(axis='y', alpha=0.75)\n",
    "plt.xlabel('Mpc/h')\n",
    "#plt.yscale('log')\n",
    "#plt.xscale('log')\n",
    "#plt.savefig('DS_cumulative.pdf')"
   ]
  },
  {
   "cell_type": "code",
   "execution_count": null,
   "id": "1c00ca77",
   "metadata": {},
   "outputs": [],
   "source": [
    "fig,ax = plt.subplots()\n",
    "fig.set_size_inches(18.5, 10.5)\n",
    "ax.set_xlabel('x')\n",
    "\n",
    "#ax.set_ylabel('probability density')\n",
    "\n",
    "#ax.plot(x,handmade_cdf(x) ,color='g')\n",
    "#plt.axvline(x=rmin)\n",
    "ax.scatter(r_right, counts_cdf-counts_new_cdf , s=10,marker='x', c='r', zorder=10)#diff between full dist and dist with r_cut\n",
    "ax.scatter(r_right, handmade_cdf(r_right)-counts_new_cdf , s=10,marker='x', c='g', zorder=10)#diff between cumulative and dist with r_cut\n",
    "plt.axhline(y=0, color='k', linestyle='-')\n",
    "#plt.ylim(bottom=-0.001,top=0.001)\n",
    "plt.grid(axis='y', alpha=0.75)\n",
    "plt.xlabel('Mpc/h')\n",
    "#plt.yscale('log')\n",
    "#plt.xscale('log')\n",
    "#plt.savefig('DS_cumulative.pdf')"
   ]
  },
  {
   "cell_type": "code",
   "execution_count": null,
   "id": "a9383032",
   "metadata": {},
   "outputs": [],
   "source": []
  },
  {
   "cell_type": "code",
   "execution_count": null,
   "id": "1f523415",
   "metadata": {},
   "outputs": [],
   "source": [
    "bins = 100\n",
    "freq_r = []\n",
    "r_center=[]\n",
    "step = real_r.max()/bins\n",
    "R_min = distcut\n",
    "left=R_min\n",
    "for myi in range(bins-1):\n",
    "    right = left+ (myi+1)*step\n",
    "    bools_left = left<real_r\n",
    "    bools_right=real_r<=right\n",
    "    bools_new= bools_left&bools_right\n",
    "    #print(bools_left,bools_right,bools_new)\n",
    "    freq_r = np.append(freq_r, len(real_r[bools_new]))\n",
    "    \n",
    "    r_center = np.append(r_center, left+step/2)\n",
    "    left=right"
   ]
  },
  {
   "cell_type": "code",
   "execution_count": null,
   "id": "761e24aa",
   "metadata": {},
   "outputs": [],
   "source": [
    "count= plt.hist(real_r, 100)#real_theta is cos(theta)"
   ]
  },
  {
   "cell_type": "code",
   "execution_count": null,
   "id": "2691a4c5",
   "metadata": {
    "scrolled": false
   },
   "outputs": [],
   "source": [
    "fig,ax = plt.subplots()\n",
    "fig.set_size_inches(18.5, 10.5)\n",
    "ax.set_xlabel('x')\n",
    "\n",
    "xx=count[1]\n",
    "xx=xx[:-1]\n",
    "yy=count[0]\n",
    "print(np.all(yy>20))\n",
    "yy_err=np.sqrt(yy)/yy.sum()\n",
    "yy=yy/yy.sum()\n",
    "\n",
    "arr_teo=target_dist(xx)\n",
    "arr_teo=arr_teo/arr_teo.sum()\n",
    "res=yy-arr_teo\n",
    "res2=(yy-arr_teo)/yy_err\n",
    "ax.scatter(xx,res , s=10,marker='x', c='b', zorder=10)\n",
    "plt.axhline(y=0, color='k', linestyle='-')\n",
    "plt.errorbar(xx, res, yerr=yy_err, fmt=\"+\")\n",
    "\n",
    "plt.grid(axis='y', alpha=0.75)\n",
    "plt.xlabel('Mpc/h')\n",
    "#plt.yscale('log')\n",
    "#plt.xscale('log')\n",
    "\n"
   ]
  },
  {
   "cell_type": "code",
   "execution_count": null,
   "id": "17dd9a6d",
   "metadata": {},
   "outputs": [],
   "source": [
    "\n",
    "fig,ax = plt.subplots()\n",
    "fig.set_size_inches(18.5, 10.5)\n",
    "ax.set_xlabel('x')\n",
    "ax.scatter(xx,res2 , s=10,marker='x', c='k', zorder=10)\n",
    "ax.fill_between(xx,1,-1,alpha=0.55, color='palegreen')\n",
    "\n",
    "plt.grid(axis='y', alpha=0.75)\n",
    "plt.xlabel('Mpc/h')\n",
    "plt.ylabel('Distance in sigma')\n",
    "#plt.yscale('log')\n",
    "#plt.xscale('log')\n"
   ]
  },
  {
   "cell_type": "code",
   "execution_count": null,
   "id": "b0176f3d",
   "metadata": {},
   "outputs": [],
   "source": [
    "#--------------------SDSS like-------------------------\n",
    "num_of_gal=np.array([1300,1300,500,800,800,1500,650,100,20,10])#Number of hosts in each z bin. \n",
    "sdss_bins=np.linspace(0,1,11)#bin Width \n",
    "#---------------Angular part--------------------------------\n",
    "#we need to cover only 30 squared degrees of sky. phi = U(0,phi_lim) cos_theta=U(1,cos_lim)\n",
    "#1 sq.deg.=(np.pi/180)**2 sr "
   ]
  },
  {
   "cell_type": "code",
   "execution_count": null,
   "id": "62468403",
   "metadata": {},
   "outputs": [],
   "source": [
    "alpha=30*(np.pi/180)**2\n",
    "phi_lim=(2*np.pi-alpha/2)/24#In this way phi_lim ~ theta_lim \n",
    "theta_lim=np.arccos(1-alpha/phi_lim)\n",
    "#print(phi_lim,theta_lim)\n",
    "all_phi=np.random.uniform(0,phi_lim,500000)\n",
    "all_cos=np.random.uniform(1,1-alpha/phi_lim,500000)\n",
    "print(phi_lim,theta_lim)"
   ]
  },
  {
   "cell_type": "code",
   "execution_count": null,
   "id": "6695f706",
   "metadata": {},
   "outputs": [],
   "source": [
    "zz=np.linspace(0,10,7000)\n",
    "distinterpol=(1+zz)*cosmoglob.comoving_distance(zz).value\n",
    "z_of_dl=interpolate.interp1d(distinterpol,zz)"
   ]
  },
  {
   "cell_type": "code",
   "execution_count": null,
   "id": "4059f815",
   "metadata": {},
   "outputs": [],
   "source": []
  },
  {
   "cell_type": "code",
   "execution_count": null,
   "id": "cfa84a11",
   "metadata": {},
   "outputs": [],
   "source": [
    "#--------------------GW--Rate-----------------------------------------\n",
    "#We will compute the gw rate from sratch \n",
    "#print(th)"
   ]
  },
  {
   "cell_type": "code",
   "execution_count": 4,
   "id": "79b27c4e",
   "metadata": {},
   "outputs": [],
   "source": [
    "#--------Star Formation Rate-------------------------------\n",
    "def gaussian(x, mu, sig):\n",
    "    return np.exp(-np.power(x - mu, 2.) / (2 * np.power(sig, 2.)))\n",
    "th=1000/cosmofast.H(0).value\n",
    "alpha=14/th\n",
    "def psi(x):\n",
    "    ret= 0.015*(((1+x)**(2.7))/(1+(((1+x)/(2.9))**(5.6))))\n",
    "    return ret\n",
    "#-------------Phi----------------------------\n",
    "#phi=lambda x:(1/((1+x)*(cosmofast.H(x).value)))\n",
    "def phi(x):\n",
    "    #N=14/((1/((1+0)*(cosmoglob.H(0).value))))\n",
    "    #ret=N*(1/((1+x)*(cosmoglob.H(x).value)))\n",
    "    ret=(1000/((1+x)*(cosmofast.H(x).value)))\n",
    "    return ret\n",
    "#--------------time inversion-------------------------\n",
    "def inverted_time(x):\n",
    "    #is the lookback_time use astropy\n",
    "    ret=cosmoglob.age(0).value-cosmoglob.age(x).value\n",
    "    return ret\n",
    "#----------------Decay--------------------------------\n",
    "def decay(x,z,tau):\n",
    "    ret=np.exp(-((cosmofast.lookback_time(x).value-cosmofast.lookback_time(z).value)/(tau)))\n",
    "    return ret\n",
    "#--------------time difference-------------------------\n",
    "def inversetimediff(x,z,tmin):\n",
    "    timediff=alpha*(cosmoglob.age(z).value-cosmoglob.age(x).value)\n",
    "    num=np.heaviside((alpha*cosmoglob.age(z).value-alpha*cosmoglob.age(x).value) -tmin,0.5)\n",
    "    res=(num)/timediff\n",
    "    return res\n",
    "#-------------------Deriv of Comoving Volume-------------\n",
    "def DvolDz(x):\n",
    "    prefactor=4*np.pi*(((clight)/(cosmofast.H(0).value))**3)#Mpc^3\n",
    "    dist=quad((cosmofast.inv_efunc),0,x)[0]\n",
    "    ret=prefactor*cosmofast.inv_efunc(x)*(dist**2)\n",
    "    return ret\n",
    "def astrodiffvol(x):\n",
    "    ret=cosmofast.differential_comoving_volume(x).value\n",
    "    return ret\n",
    "\n",
    "#------------------integrands------------------------------\n",
    "def integrand_suvo(x,z,tmin):\n",
    "    ret=psi(x)*(phi(x))*inversetimediff(x,z,tmin)/(1+z)\n",
    "    return ret\n",
    "def integrand_marr(x,z,tau):\n",
    "    ret=psi(x)*(phi(x))*decay(x,z,tau)\n",
    "    return ret\n",
    "def totalrate(z,tmin):\n",
    "    norm=50/(quad(integrand_marr,0,150,args=(0,tmin))[0]/tmin)\n",
    "    littlerate=norm*quad(integrand_marr,z,150,args=(z,tmin))[0]/tmin\n",
    "    ret=(littlerate*DvolDz(z))/(1+z)\n",
    "    return ret\n",
    "def Multy_Marra(zz):\n",
    "    z=zz\n",
    "    ret=Normaliz*(quad(integrand_marr,z,100,args=(z,tpar))[0]/tpar)\n",
    "    return ret"
   ]
  },
  {
   "cell_type": "code",
   "execution_count": null,
   "id": "a576f766",
   "metadata": {},
   "outputs": [],
   "source": [
    "z_for_plot=np.linspace(0,10,1000)\n",
    "fig,ax = plt.subplots()\n",
    "fig.set_size_inches(18.5, 10.5)\n",
    "ax.set_xlabel('redshift')\n",
    "ax.set_ylabel('SFR')\n",
    "ax.plot(z_for_plot,psi(z_for_plot),label='Mandau SFR')\n",
    "#plt.yscale('log')\n",
    "#plt.xscale('log')\n",
    "plt.grid(axis='y', alpha=0.75)\n",
    "plt.grid(axis='x', alpha=0.75)"
   ]
  },
  {
   "cell_type": "code",
   "execution_count": null,
   "id": "b9f96d36",
   "metadata": {},
   "outputs": [],
   "source": [
    "z_for_plot=np.linspace(0,10,1000)\n",
    "fig,ax = plt.subplots()\n",
    "fig.set_size_inches(18.5, 10.5)\n",
    "ax.set_xlabel('redshift')\n",
    "ax.set_ylabel('Phi')\n",
    "ax.plot(z_for_plot,phi(z_for_plot),label='Mandau SFR')\n",
    "#plt.yscale('log')\n",
    "#plt.xscale('log')\n",
    "plt.grid(axis='y', alpha=0.75)\n",
    "plt.grid(axis='x', alpha=0.75)"
   ]
  },
  {
   "cell_type": "code",
   "execution_count": null,
   "id": "017d8ec1",
   "metadata": {},
   "outputs": [],
   "source": [
    "z_for_plot=np.linspace(0,10,1000)\n",
    "fig,ax = plt.subplots()\n",
    "fig.set_size_inches(18.5, 10.5)\n",
    "ax.set_xlabel('redshift')\n",
    "ax.set_ylabel('SFR')\n",
    "ax.plot(z_for_plot,inversetimediff(z_for_plot,4,0.1),label='Mandau SFR')\n",
    "#plt.yscale('log')\n",
    "#plt.xscale('log')\n",
    "plt.grid(axis='y', alpha=0.75)\n",
    "plt.grid(axis='x', alpha=0.75)"
   ]
  },
  {
   "cell_type": "code",
   "execution_count": null,
   "id": "532f9782",
   "metadata": {},
   "outputs": [],
   "source": [
    "z_for_plot=np.linspace(0,10,1000)\n",
    "fig,ax = plt.subplots()\n",
    "fig.set_size_inches(18.5, 10.5)\n",
    "ax.set_xlabel('redshift')\n",
    "ax.set_ylabel('SFR')\n",
    "ax.plot(z_for_plot,decay(z_for_plot,0.5,5),label='Mandau SFR')\n",
    "#plt.yscale('log')\n",
    "#plt.xscale('log')\n",
    "plt.grid(axis='y', alpha=0.75)\n",
    "plt.grid(axis='x', alpha=0.75)"
   ]
  },
  {
   "cell_type": "code",
   "execution_count": null,
   "id": "ed5cac83",
   "metadata": {},
   "outputs": [],
   "source": [
    "z_min=0\n",
    "z_max=z_min+100\n",
    "tpar=5\n",
    "#--------Normalization (z=0,N*R(z=0)=25)----------------------------\n",
    "Normaliz=50/(quad(integrand_marr,z_min,z_max,args=(z_min,tpar))[0]/tpar)\n",
    "#print(Normaliz)\n",
    "#-------------loop for the plot------------------------------------\n",
    "z_plot_max=3\n",
    "ZZ=np.linspace(z_min,z_plot_max,30)\n",
    "ratetoplot=np.zeros(len(ZZ))\n",
    "for i in range(len(ZZ)):\n",
    "    #Normaliz=25/quad(integrand,z_min,z_max,args=(z_min,tstart))[0]\n",
    "    ratetoplot[i]=Normaliz*(quad(integrand_marr,ZZ[i],ZZ[i]+100,args=(ZZ[i],tpar))[0]/tpar)"
   ]
  },
  {
   "cell_type": "code",
   "execution_count": null,
   "id": "3a0d54ef",
   "metadata": {
    "scrolled": false
   },
   "outputs": [],
   "source": [
    "fig,ax = plt.subplots()\n",
    "fig.set_size_inches(18.5, 10.5)\n",
    "ax.set_xlabel('redshift')\n",
    "ax.set_ylabel('RateGW')\n",
    "#test=ratetoplot\n",
    "#test01=ratetoplot01\n",
    "ax.plot(ZZ,ratetoplot,label='RateGW')\n",
    "#plt.yscale('log')\n",
    "#plt.xscale('log')\n",
    "plt.grid(axis='y', alpha=0.75)\n",
    "plt.grid(axis='x', alpha=0.75)"
   ]
  },
  {
   "cell_type": "code",
   "execution_count": null,
   "id": "83d6136e",
   "metadata": {},
   "outputs": [],
   "source": [
    "#arrtest=np.linspace(0,10,10)\n",
    "#mydiffvol=np.zeros(len(arrtest))\n",
    "#for i in range(len(mydiffvol)):\n",
    "#    mydiffvol[i]=DvolDz(arrtest[i])\n",
    "#astrodiffvol=cosmoglob.differential_comoving_volume(arrtest).value\n",
    "#residuals=mydiffvol-astrodiffvol\n",
    "#print(residuals)"
   ]
  },
  {
   "cell_type": "code",
   "execution_count": null,
   "id": "7fa3ea95",
   "metadata": {},
   "outputs": [],
   "source": [
    "#-------------------Normalisation for the total rate---------------\n"
   ]
  },
  {
   "cell_type": "code",
   "execution_count": null,
   "id": "4acab2eb",
   "metadata": {},
   "outputs": [],
   "source": [
    "z_min=0\n",
    "tpar=5\n",
    "#-------------loop for the plot------------------------------------\n",
    "z_plot_max=3\n",
    "norm=50/totalrate(0.220,5)#just from the plot on the paper\n",
    "ZZ=np.linspace(z_min,z_plot_max,50)\n",
    "totalratetoplot=np.zeros(len(ZZ))\n",
    "for i in range(len(ZZ)):\n",
    "    totalratetoplot[i]=norm*totalrate(ZZ[i],tpar)"
   ]
  },
  {
   "cell_type": "code",
   "execution_count": null,
   "id": "dda7c49a",
   "metadata": {},
   "outputs": [],
   "source": [
    "fig,ax = plt.subplots()\n",
    "fig.set_size_inches(18.5, 10.5)\n",
    "ax.set_xlabel('redshift')\n",
    "ax.set_ylabel('RateGW')\n",
    "#test=ratetoplot\n",
    "#test01=ratetoplot01\n",
    "ax.plot(ZZ,totalratetoplot,label='RateGW')\n",
    "#plt.yscale('log')\n",
    "#plt.xscale('log')\n",
    "plt.grid(axis='y', alpha=0.75)\n",
    "plt.grid(axis='x', alpha=0.75)"
   ]
  },
  {
   "cell_type": "code",
   "execution_count": null,
   "id": "67e77aa4",
   "metadata": {},
   "outputs": [],
   "source": [
    "peack=np.argmax(totalratetoplot)\n",
    "res=ZZ[peack]\n",
    "print(res)"
   ]
  },
  {
   "cell_type": "code",
   "execution_count": null,
   "id": "c82c0113",
   "metadata": {},
   "outputs": [],
   "source": [
    "#----------------x-Check with Mathematica------------------------\n",
    "near=np.linspace(0,20,100)\n",
    "pyres=cosmofast.H(near).value\n",
    "hmath=np.array([70.,77.3499,86.5951,97.5695,110.086,123.972,139.078,155.282,172.486,190.61,209.588,229.368,249.903,271.157,293.098,315.697,338.93,362.775,387.213,412.228,437.802,463.922,490.576,517.75,545.434,573.616,602.289,631.442,661.066,691.155,721.699,752.693,784.129,816.,848.3,881.024,914.165,947.719,981.68,1016.04,1050.8,1085.95,1121.49,1157.42,1193.72,1230.4,1267.45,1304.87,1342.65,1380.79,1419.29,1458.15,1497.35,1536.9,1576.8,1617.04,1657.61,1698.52,1739.77,1781.34,1823.24,1865.47,1908.01,1950.88,1994.07,2037.57,2081.38,2125.5,2169.94,2214.68,2259.72,2305.06,2350.71,2396.65,2442.89,2489.42,2536.25,2583.37,2630.77,2678.46,2726.44,2774.7,2823.25,2872.07,2921.17,2970.55,3020.21,3070.14,3120.34,3170.81,3221.55,3272.56,3323.84,3375.38,3427.19,3479.26,3531.59,3584.18,3637.03,3690.14])\n",
    "to_plot=(1-(pyres/hmath))\n",
    "fig,ax = plt.subplots()\n",
    "fig.set_size_inches(18.5, 10.5)\n",
    "ax.set_xlabel('redshift')\n",
    "ax.set_ylabel('Residuals')\n",
    "ax.plot(near,to_plot,label='Residuals')\n",
    "#plt.yscale('log')\n",
    "#plt.xscale('log')\n",
    "plt.grid(axis='y', alpha=0.75)\n",
    "plt.grid(axis='x', alpha=0.75)\n",
    "#plt.savefig('HofzResiduals.pdf')"
   ]
  },
  {
   "cell_type": "code",
   "execution_count": 13,
   "id": "3e27338c",
   "metadata": {},
   "outputs": [
    {
     "name": "stdout",
     "output_type": "stream",
     "text": [
      "phi_min=1.558116673550103e-05, phi_max=89.99999237060547, \n",
      "theta_min=2.9646462280652486e-06, theta_max89.98294830322266, \n",
      "z_min0.800000011920929, z_max=1.9999998807907104\n"
     ]
    }
   ],
   "source": [
    "#############################################################################################\n",
    "###############--------DS-spatial-coordinates-###############################################\n",
    "#############################################################################################\n",
    "\n",
    "#Restrict the angular coordinate to be those of the flagship\n",
    "phi_min=df.ra_gal.min()#*np.pi/180\n",
    "phi_max=df.ra_gal.max()#*np.pi/180\n",
    "theta_min=df.dec_gal.min()#*np.pi/180\n",
    "theta_max=df.dec_gal.max()#*np.pi/180\n",
    "#Restrict to the right redshift interval\n",
    "z_min=df.observed_redshift_gal.min()\n",
    "z_max=df.observed_redshift_gal.max()\n",
    "print('phi_min={}, phi_max={}, \\ntheta_min={}, theta_max{}, \\nz_min{}, z_max={}'\n",
    "      .format(phi_min,phi_max,theta_min,theta_max,z_min,z_max))\n",
    "#ds_phi=np.random.uniform(0,phi_lim,500000)\n",
    "ang_epsilon=0.1\n",
    "red_epsilon=0.01\n",
    "temp_phi=np.random.uniform(phi_min,phi_max,100000)#degrees\n",
    "temp_theta=np.random.uniform(theta_min,theta_max,100000)#degrees\n",
    "temp_z_values=np.loadtxt('redshift_MC.txt')\n",
    "two_point_radii=np.loadtxt('two_point_radii.txt')"
   ]
  },
  {
   "cell_type": "code",
   "execution_count": null,
   "id": "0262ea49",
   "metadata": {},
   "outputs": [],
   "source": [
    "#----------------MC-rejection-with-CDF RedShift--------------------\n",
    "tpar=5\n",
    "#--------Normalization (z=0,N*R(z=0)=50)----------------------------\n",
    "Normaliz=50/(quad(integrand_marr,0,100,args=(0,tpar))[0]/tpar)\n",
    "#print(Normaliz)\n",
    "#-------------loop------------------------------------\n",
    "ZZ=np.linspace(z_min,z_max,500000)\n",
    "temprate=np.zeros(len(ZZ))\n",
    "start_time = time.time()\n",
    "with Pool(35) as p:\n",
    "    temprate=p.map(Multy_Marra, ZZ)\n",
    "print(\"--- %s seconds ---\" % (time.time() - start_time))\n",
    "#target function\n",
    "rate_dist=interpolate.interp1d(ZZ,temprate)\n"
   ]
  },
  {
   "cell_type": "code",
   "execution_count": 6,
   "id": "73060d3a",
   "metadata": {},
   "outputs": [],
   "source": [
    "#ToSave=return_samples(rate_dist,z_min,z_max,500000)\n",
    "#np.savetxt('redshift_MC.txt',ToSave)"
   ]
  },
  {
   "cell_type": "code",
   "execution_count": null,
   "id": "d3fbf3f2",
   "metadata": {},
   "outputs": [],
   "source": [
    "x = np.linspace(z_min,z_max,1000000)\n",
    "fig,ax = plt.subplots()\n",
    "fig.set_size_inches(18.5, 10.5)\n",
    "ax.set_xlabel('x')\n",
    "ax.set_ylabel('probability density')\n",
    "ax.plot(x,rate_dist(x)/np.sum(rate_dist(x)*(x[1]-x[0])) )\n",
    "#ax.plot(x,target_dist(x)/norm ) #slow\n",
    "ax.hist(temp_z_values,bins='auto',density=True,range=(x.min(),x.max()))\n",
    "plt.grid(axis='y', alpha=0.75)\n",
    "plt.xlabel('Redshift')\n",
    "plt.ylabel('Frequency')\n",
    "plt.yscale('log')\n",
    "plt.xscale('log')\n",
    "plt.title('z distribution')\n",
    "plt.show() "
   ]
  },
  {
   "cell_type": "code",
   "execution_count": 7,
   "id": "0136c5cc",
   "metadata": {},
   "outputs": [
    {
     "name": "stdout",
     "output_type": "stream",
     "text": [
      "phi=20.807728690732098, theta=52.93538959220449, z=1.2244163768599137\n"
     ]
    }
   ],
   "source": [
    "one_phi=np.random.choice(temp_phi)\n",
    "one_theta=np.random.choice(temp_theta)\n",
    "one_zeta=np.random.choice(temp_z_values)\n",
    "df_candidates=df\n",
    "print('phi={}, theta={}, z={}'.format(one_phi,one_theta,one_zeta))"
   ]
  },
  {
   "cell_type": "code",
   "execution_count": 10,
   "id": "f871e7ae",
   "metadata": {},
   "outputs": [
    {
     "name": "stdout",
     "output_type": "stream",
     "text": [
      "a\n"
     ]
    }
   ],
   "source": [
    "\n",
    "#Create a list of possible host\n",
    "k=1\n",
    "#print(df_candidates.empty)\n",
    "while True:\n",
    "    df_candidates=df[(df['ra_gal']>one_phi-k*ang_epsilon) & (df['ra_gal']<one_phi+k*ang_epsilon)]\n",
    "    df_candidates=df_candidates[(df_candidates['dec_gal']>one_theta-k*ang_epsilon) & (df_candidates['dec_gal']<one_theta+k*ang_epsilon)]\n",
    "    df_candidates=df_candidates[(df_candidates['observed_redshift_gal']>one_zeta-k*red_epsilon) & (df_candidates['observed_redshift_gal']<one_zeta+k*red_epsilon)]\n",
    "    if df_candidates.empty:\n",
    "        print('possible host dataframe is empty, I will increase the tollerance')\n",
    "        k=k+1 \n",
    "    if (df_candidates.empty==False):\n",
    "        break\n",
    "#Raul: given a point in space, find nearest N host given the list\n",
    "df_candidates=df_candidates.reset_index(drop=True)\n",
    "if (df_candidates.shape[0]==1):\n",
    "    unique_host=df_candidates.head(1)\n",
    "\n",
    "if (df_candidates.shape[0]>1):\n",
    "    parameterdist=np.zeros(df_candidates.shape[0])\n",
    "    for index, row in df_candidates.iterrows():\n",
    "        parameterdist[index]=np.sqrt((row['dec_gal']-one_theta)**2+(row['ra_gal']-one_phi)**2+(row['observed_redshift_gal']-one_zeta)**2)\n",
    "    df_candidates['parameterdist']=parameterdist\n",
    "    df_candidates=df_candidates.sort_values([\"parameterdist\"], ascending=True) \n",
    "    unique_host=df_candidates.head(1)\n",
    "#Now, for each value of angles and z, we select a single host\n"
   ]
  },
  {
   "cell_type": "code",
   "execution_count": 11,
   "id": "1c96e43f",
   "metadata": {},
   "outputs": [
    {
     "data": {
      "text/html": [
       "<div>\n",
       "<style scoped>\n",
       "    .dataframe tbody tr th:only-of-type {\n",
       "        vertical-align: middle;\n",
       "    }\n",
       "\n",
       "    .dataframe tbody tr th {\n",
       "        vertical-align: top;\n",
       "    }\n",
       "\n",
       "    .dataframe thead th {\n",
       "        text-align: right;\n",
       "    }\n",
       "</style>\n",
       "<table border=\"1\" class=\"dataframe\">\n",
       "  <thead>\n",
       "    <tr style=\"text-align: right;\">\n",
       "      <th></th>\n",
       "      <th>ra_gal</th>\n",
       "      <th>dec_gal</th>\n",
       "      <th>observed_redshift_gal</th>\n",
       "      <th>x_gal</th>\n",
       "      <th>y_gal</th>\n",
       "      <th>z_gal</th>\n",
       "      <th>vx_gal</th>\n",
       "      <th>vy_gal</th>\n",
       "      <th>vz_gal</th>\n",
       "      <th>parameterdist</th>\n",
       "    </tr>\n",
       "  </thead>\n",
       "  <tbody>\n",
       "    <tr>\n",
       "      <th>2</th>\n",
       "      <td>20.851278</td>\n",
       "      <td>52.951862</td>\n",
       "      <td>1.232901</td>\n",
       "      <td>1.233195</td>\n",
       "      <td>568.446472</td>\n",
       "      <td>2115.607666</td>\n",
       "      <td>275.33313</td>\n",
       "      <td>352.522095</td>\n",
       "      <td>-338.370544</td>\n",
       "      <td>0.047328</td>\n",
       "    </tr>\n",
       "  </tbody>\n",
       "</table>\n",
       "</div>"
      ],
      "text/plain": [
       "      ra_gal    dec_gal  observed_redshift_gal     x_gal       y_gal  \\\n",
       "2  20.851278  52.951862               1.232901  1.233195  568.446472   \n",
       "\n",
       "         z_gal     vx_gal      vy_gal      vz_gal  parameterdist  \n",
       "2  2115.607666  275.33313  352.522095 -338.370544       0.047328  "
      ]
     },
     "execution_count": 11,
     "metadata": {},
     "output_type": "execute_result"
    }
   ],
   "source": [
    "x_host=unique_host['x_gal']\n",
    "y_host=unique_host['y_gal']\n",
    "z_host=unique_host['z_gal']\n",
    "pp=np.random.uniform(0,2*np.pi)\n",
    "costt=np.random.uniform(-1,1)\n",
    "tt=np.arccos(costt)\n",
    "distcut=0.1*h\n",
    "while True:\n",
    "    r=np.random.choice(two_point_radii)\n",
    "    if(r>=distcut):\n",
    "        break\n",
    "xx=r*np.sin(tt)*np.cos(pp)\n",
    "yy=r*np.sin(tt)*np.sin(pp)\n",
    "zz=r*np.sin(tt)*np.cos(pp)\n",
    "xDS=x_host+xx\n",
    "yDS=y_host+yy\n"
   ]
  },
  {
   "cell_type": "code",
   "execution_count": null,
   "id": "4462e24e",
   "metadata": {},
   "outputs": [],
   "source": []
  },
  {
   "cell_type": "code",
   "execution_count": null,
   "id": "96bf59d2",
   "metadata": {},
   "outputs": [],
   "source": [
    "fig,ax = plt.subplots()\n",
    "NN=df.shape[0]\n",
    "xx=df['ra_gal'][0:NN].to_numpy()\n",
    "yy=df['dec_gal'][0:NN].to_numpy()\n",
    "fig.set_size_inches(18.5, 10.5)\n",
    "ax.set_xlabel('RA')\n",
    "ax.set_ylabel('DEC')\n",
    "#test=ratetoplot\n",
    "#test01=ratetoplot01\n",
    "ax.scatter(xx,yy)\n",
    "#plt.yscale('log')\n",
    "#plt.xscale('log')\n",
    "plt.grid(axis='y', alpha=0.75)\n",
    "plt.grid(axis='x', alpha=0.75)"
   ]
  },
  {
   "cell_type": "code",
   "execution_count": null,
   "id": "3255977b",
   "metadata": {},
   "outputs": [],
   "source": [
    "fig,ax = plt.subplots()\n",
    "xx=df['x_gal'][0:NN].to_numpy()\n",
    "yy=df['y_gal'][0:NN].to_numpy()\n",
    "fig.set_size_inches(18.5, 10.5)\n",
    "ax.set_xlabel('x')\n",
    "ax.set_ylabel('y')\n",
    "#test=ratetoplot\n",
    "#test01=ratetoplot01\n",
    "ax.scatter(xx,yy)\n",
    "#plt.yscale('log')\n",
    "#plt.xscale('log')\n",
    "plt.grid(axis='y', alpha=0.75)\n",
    "plt.grid(axis='x', alpha=0.75)"
   ]
  },
  {
   "cell_type": "code",
   "execution_count": null,
   "id": "b9a61bd1",
   "metadata": {},
   "outputs": [],
   "source": [
    "fig,ax = plt.subplots()\n",
    "xx=df['observed_redshift_gal'][0:NN].to_numpy()\n",
    "yy=df['dec_gal'][0:NN].to_numpy()\n",
    "fig.set_size_inches(18.5, 10.5)\n",
    "ax.set_xlabel('z')\n",
    "ax.set_ylabel('DEC')\n",
    "#test=ratetoplot\n",
    "#test01=ratetoplot01\n",
    "ax.scatter(xx,yy)\n",
    "#plt.yscale('log')\n",
    "#plt.xscale('log')\n",
    "plt.grid(axis='y', alpha=0.75)\n",
    "plt.grid(axis='x', alpha=0.75)"
   ]
  },
  {
   "cell_type": "code",
   "execution_count": null,
   "id": "ffb2b7ac",
   "metadata": {},
   "outputs": [],
   "source": [
    "fig,ax = plt.subplots()\n",
    "xx=df['observed_redshift_gal'][0:NN].to_numpy()\n",
    "yy=df['ra_gal'][0:NN].to_numpy()\n",
    "fig.set_size_inches(18.5, 10.5)\n",
    "ax.set_xlabel('z')\n",
    "ax.set_ylabel('RA')\n",
    "#test=ratetoplot\n",
    "#test01=ratetoplot01\n",
    "ax.scatter(xx,yy)\n",
    "#plt.yscale('log')\n",
    "#plt.xscale('log')\n",
    "plt.grid(axis='y', alpha=0.75)\n",
    "plt.grid(axis='x', alpha=0.75)"
   ]
  },
  {
   "cell_type": "code",
   "execution_count": null,
   "id": "25e04962",
   "metadata": {},
   "outputs": [],
   "source": [
    "np.sqrt((1-np.cos(5*np.pi/180))*2*np.pi*43600)"
   ]
  },
  {
   "cell_type": "code",
   "execution_count": null,
   "id": "2ae935f9",
   "metadata": {},
   "outputs": [],
   "source": [
    "check=df[(df['ra_gal']<20)]"
   ]
  },
  {
   "cell_type": "code",
   "execution_count": null,
   "id": "d49c3f70",
   "metadata": {},
   "outputs": [],
   "source": [
    "check.empty"
   ]
  }
 ],
 "metadata": {
  "kernelspec": {
   "display_name": "Python 3",
   "language": "python",
   "name": "python3"
  },
  "language_info": {
   "codemirror_mode": {
    "name": "ipython",
    "version": 3
   },
   "file_extension": ".py",
   "mimetype": "text/x-python",
   "name": "python",
   "nbconvert_exporter": "python",
   "pygments_lexer": "ipython3",
   "version": "3.8.10"
  }
 },
 "nbformat": 4,
 "nbformat_minor": 5
}
