{
 "cells": [
  {
   "cell_type": "code",
   "execution_count": 1,
   "id": "d592aec7",
   "metadata": {},
   "outputs": [
    {
     "name": "stdout",
     "output_type": "stream",
     "text": [
      "FlatLambdaCDM(name=\"Planck15\", H0=67.7 km / (Mpc s), Om0=0.307, Tcmb0=2.725 K, Neff=3.05, m_nu=[0.   0.   0.06] eV, Ob0=0.0486)\n"
     ]
    }
   ],
   "source": [
    "#-------------------------Imports---------------------------\n",
    "import numpy as np\n",
    "#import healpy as hp\n",
    "import matplotlib.pyplot as plt\n",
    "import matplotlib\n",
    "from mpl_toolkits import mplot3d\n",
    "#import sympy as sy #symbolic algebra\n",
    "import pandas as pd\n",
    "from numpy.random import random\n",
    "\n",
    "from scipy.stats import kstest\n",
    "from scipy.stats import ks_2samp\n",
    "from scipy.stats import uniform\n",
    "from scipy import interpolate\n",
    "from scipy.integrate import quad\n",
    "from scipy import constants\n",
    "\n",
    "import os\n",
    "from astropy.cosmology import Planck15\n",
    "from astropy.cosmology import FlatLambdaCDM\n",
    "from astropy.io import fits\n",
    "from astropy.table import Table\n",
    "\n",
    "from tqdm import tqdm\n",
    "from multiprocessing import Pool\n",
    "import time\n",
    "\n",
    "###########################\n",
    "# CONSTANTS\n",
    "###########################\n",
    "H0GLOB= 69#67.9 #69\n",
    "Om0GLOB=0.3\n",
    "Xi0Glob =1.\n",
    "clight = 2.99792458* 10**5#km/s\n",
    "\n",
    "xmax=100\n",
    "ymax=100\n",
    "zmax=100\n",
    "half_box_size=2\n",
    "\n",
    "Npoints=1000\n",
    "Sigma=10\n",
    "\n",
    "cosmoglob = Planck15\n",
    "cosmofast = FlatLambdaCDM(H0=H0GLOB, Om0=Om0GLOB)\n",
    "H0=cosmoglob.H(0).value\n",
    "h=H0/100\n",
    "print(cosmoglob)"
   ]
  },
  {
   "cell_type": "code",
   "execution_count": 2,
   "id": "ad4cb919",
   "metadata": {},
   "outputs": [],
   "source": [
    "#--------------------------definitions-------------------------\n",
    "def NumOfDS(x,y,z):\n",
    "    #this will evaluate the dN/dz\n",
    "    r=np.sqrt(x**2+y**2+z**2)\n",
    "    #numberofDS=1000/r\n",
    "    numberofDS=2\n",
    "    num=int(numberofDS)\n",
    "    #print(num)\n",
    "    if num>0:\n",
    "        return num\n",
    "    else:\n",
    "        return 1\n",
    "#-----------rejection-stuff------------\n",
    "def sample(g,xmin,xmax):\n",
    "    x = np.linspace(xmin,xmax,1000000)\n",
    "    y = g(x)                        # probability density function, pdf\n",
    "    cdf_y = np.cumsum(y)            # cumulative distribution function, cdf\n",
    "    cdf_y = cdf_y/cdf_y.max()       # takes care of normalizing cdf to 1.0\n",
    "    inverse_cdf = interpolate.interp1d(cdf_y,x,fill_value=\"extrapolate\")# this is a function\n",
    "    #inverse_cdf = np.interp(0,cdf_y,x) #this works but it is not a function\n",
    "    return inverse_cdf\n",
    "def return_samples(f,xmin,xmax,N=1000000):\n",
    "    # let's generate some samples according to the chosen pdf, f(x)\n",
    "    uniform_samples = random(int(N))       \n",
    "    required_samples = sample(f,xmin,xmax)(uniform_samples)\n",
    "    return required_samples\n",
    "#--------------Placer-----------------------------\n",
    "def DS_Maker(radii,perc,numHost,xhost,yhost,zhost):\n",
    "    #the DSs are generated in a sphere, centered on the host. and the distance must follow\n",
    "#the correlation distribution. \n",
    "#To generate points on a unit sphere see https://mathworld.wolfram.com/SpherePointPicking.html\n",
    "# A python implementation https://stackoverflow.com/questions/5408276/sampling-uniformly-distributed-random-points-inside-a-spherical-volume\n",
    "    #remember: you have to return also the indices of the hosts that have DSs\n",
    "    x_Dark=[]\n",
    "    y_Dark=[]\n",
    "    z_Dark=[]\n",
    "    phi_to_return=[]\n",
    "    theta_to_return=[]\n",
    "    r_to_return=[]\n",
    "    full_r=[]\n",
    "    \n",
    "    arr_n=[]\n",
    "    NDS=int(perc*numHost)\n",
    "    indices=np.zeros(NDS)\n",
    "    \n",
    "    for k in range(NDS):\n",
    "        i=np.random.randint(0, numHost-1)\n",
    "        indices[k]=i\n",
    "        dist_x=xhost[i]\n",
    "        dist_y=yhost[i]\n",
    "        dist_z=zhost[i]\n",
    "        n=NumOfDS(dist_x,dist_y,dist_z)\n",
    "        arr_n=np.append(arr_n,n)\n",
    "        for d in range(n):\n",
    "            phi =np.random.uniform(0,2*np.pi)\n",
    "            costheta =np.random.uniform(-1,1)\n",
    "            theta = np.arccos(costheta)\n",
    "            r=np.random.choice(radii)\n",
    "            full_r=np.append(full_r,r)\n",
    "            if r>=distcut:\n",
    "                x_DS = r * np.sin( theta) * np.cos( phi )\n",
    "                y_DS = r * np.sin( theta) * np.sin( phi )\n",
    "                z_DS = r * np.cos( theta )\n",
    "                r_to_return=np.append(r_to_return,r)\n",
    "            else:\n",
    "                d=d-1\n",
    "\n",
    "            #real values: do some check\n",
    "            \n",
    "            theta_to_return=np.append(theta_to_return,costheta)\n",
    "            phi_to_return=np.append(phi_to_return,phi)\n",
    "        \n",
    "            x_Dark=np.append(x_Dark,dist_x+x_DS)\n",
    "            y_Dark=np.append(y_Dark,dist_y+y_DS)\n",
    "            z_Dark=np.append(z_Dark,dist_z+z_DS)\n",
    "    #--------only unique indices of host-DS\n",
    "    filtered=np.unique(indices.astype(int))\n",
    "    return x_Dark, y_Dark, z_Dark, filtered, arr_n,r_to_return,theta_to_return,phi_to_return,full_r\n"
   ]
  },
  {
   "cell_type": "code",
   "execution_count": null,
   "id": "9dc760fb",
   "metadata": {},
   "outputs": [],
   "source": [
    "#----------------------Create the box & fill it with hosts-------------------\n",
    "#x=np.random.normal(loc=0,scale=Sigma,size=Npoints)\n",
    "#y=np.random.normal(loc=0,scale=Sigma,size=Npoints)\n",
    "#z=np.random.normal(loc=0,scale=Sigma,size=Npoints)"
   ]
  },
  {
   "cell_type": "code",
   "execution_count": 3,
   "id": "530a8e61",
   "metadata": {},
   "outputs": [
    {
     "name": "stdout",
     "output_type": "stream",
     "text": [
      "Index(['ra_gal', 'dec_gal', 'true_redshift_gal', 'observed_redshift_gal',\n",
      "       'x_gal', 'y_gal', 'z_gal', 'vx_gal', 'vy_gal', 'vz_gal'],\n",
      "      dtype='object')\n"
     ]
    }
   ],
   "source": [
    "#------------read the flagship-------------------------------------\n",
    "dat = Table.read('flagship.fits', format='fits')\n",
    "df = dat.to_pandas()#all good, is an only text fits\n",
    "print(df.columns)"
   ]
  },
  {
   "cell_type": "code",
   "execution_count": 4,
   "id": "5d741792",
   "metadata": {},
   "outputs": [],
   "source": [
    "#distances are in Mpc/h and are comoving distances. We need luminosity distances and Mpc \n",
    "host_x=df['x_gal'].values/h #restore the right units\n",
    "host_y=df['y_gal'].values/h\n",
    "host_z=df['z_gal'].values/h\n",
    "host_obs_redshift=df['observed_redshift_gal'].values\n",
    "host_true_redshift=df['true_redshift_gal'].values\n",
    "lum_host_x=host_x*(1+host_true_redshift)\n",
    "lum_host_y=host_y*(1+host_true_redshift)\n",
    "lum_host_z=host_z*(1+host_true_redshift)\n",
    "dl=np.sqrt(lum_host_x[-1]**2+lum_host_y[-1]**2+lum_host_z[-1]**2)\n",
    "dc=np.sqrt(host_x[-1]**2+host_y[-1]**2+host_z[-1]**2)\n",
    "\n",
    "#print(dc,dl,dl/dc-1,host_obs_redshift[-1],host_true_redshift[-1])"
   ]
  },
  {
   "cell_type": "code",
   "execution_count": 5,
   "id": "1c356a97",
   "metadata": {},
   "outputs": [
    {
     "name": "stdout",
     "output_type": "stream",
     "text": [
      "5265.413588972411 15786.827725167199 1.9982122882484012 1.9981294 1.9982125\n"
     ]
    }
   ],
   "source": [
    "print(dc,dl,dl/dc-1,host_obs_redshift[-1],host_true_redshift[-1])"
   ]
  },
  {
   "cell_type": "code",
   "execution_count": null,
   "id": "1628de63",
   "metadata": {},
   "outputs": [],
   "source": [
    "fig = plt.figure(figsize = (10,10))\n",
    "ax = plt.axes(projection='3d')\n",
    "ax.grid()\n",
    "num=int(df.shape[0]*0.0001)\n",
    "ax.scatter(np.random.choice(lum_host_x,num), np.random.choice(lum_host_y,num),\n",
    "           np.random.choice(lum_host_z,num), c = 'b', s = 5)\n",
    "ax.set_title('Host-Dristibution')\n",
    "\n",
    "# Set axes label\n",
    "ax.set_xlabel('x', labelpad=20)\n",
    "ax.set_ylabel('y', labelpad=20)\n",
    "ax.set_zlabel('z', labelpad=20)\n",
    "#plt.savefig('HostDist.pdf')\n",
    "ax.view_init(60, 65)#rotation along x z\n",
    "figtot2dxy = plt.figure(figsize = (10,10))\n",
    "ax = plt.axes()\n",
    "ax.grid()\n",
    "ax.tick_params(axis='both', which='major', labelsize=14)\n",
    "ax.grid(linestyle='dotted', linewidth='0.6')\n",
    "ax.scatter(np.random.choice(lum_host_x,num), np.random.choice(lum_host_y,num),\n",
    "           c = 'b', marker=\"*\", label='Host')\n",
    "plt.legend(loc='upper left');"
   ]
  },
  {
   "cell_type": "code",
   "execution_count": null,
   "id": "16c54f1f",
   "metadata": {},
   "outputs": [],
   "source": []
  },
  {
   "cell_type": "code",
   "execution_count": 6,
   "id": "ce55940d",
   "metadata": {},
   "outputs": [],
   "source": [
    "#----------------MC-rejection-with-CDF----------------------\n",
    "r0=5*h\n",
    "gamma=0.2\n",
    "#rmin=0.1*h\n",
    "rmin=0\n",
    "distcut=0.1*h\n",
    "rmax=10*h\n",
    "#target function\n",
    "target_dist= lambda r: (r/r0)**(gamma)\n",
    "#x = sy.Symbol('x')\n",
    "#norm=sy.integrate(target_dist(x), (x, rmin, rmax))\n",
    "#print(norm)\n",
    "values=return_samples(target_dist,rmin,rmax,1000000)\n",
    "real_values=values[values>=distcut]\n",
    "#shift=len(values)-len(real_values)\n"
   ]
  },
  {
   "cell_type": "code",
   "execution_count": 8,
   "id": "42141e15",
   "metadata": {},
   "outputs": [
    {
     "name": "stdout",
     "output_type": "stream",
     "text": [
      "996025\n",
      "0.003974999999999951\n"
     ]
    }
   ],
   "source": [
    "print(len(real_values))\n",
    "fast_shift=1-len(real_values)/len(values)\n",
    "print(1-len(real_values)/len(values))"
   ]
  },
  {
   "cell_type": "code",
   "execution_count": 7,
   "id": "cc41d008",
   "metadata": {},
   "outputs": [
    {
     "name": "stdout",
     "output_type": "stream",
     "text": [
      "32810\n"
     ]
    }
   ],
   "source": [
    "Nhost=df.shape[0]\n",
    "x_Dark, y_Dark, z_Dark, filtered,arr_n,real_r,real_theta,real_phi,full_r=DS_Maker(values,0.001,Nhost,host_x,host_y,host_z)\n",
    "print(len(x_Dark))"
   ]
  },
  {
   "cell_type": "code",
   "execution_count": null,
   "id": "0f0fdddc",
   "metadata": {},
   "outputs": [],
   "source": [
    "fig2 = plt.figure(figsize = (10,10))\n",
    "ax = plt.axes(projection='3d')\n",
    "ax.grid()\n",
    "\n",
    "ax.scatter(x_Dark, y_Dark, z_Dark, c = 'g', s = 10)\n",
    "ax.set_title('DS-Dristibution')\n",
    "\n",
    "# Set axes label\n",
    "ax.set_xlabel('x', labelpad=20)\n",
    "ax.set_ylabel('y', labelpad=20)\n",
    "ax.set_zlabel('z', labelpad=20)\n",
    "#plt.savefig('DSDist.pdf')"
   ]
  },
  {
   "cell_type": "code",
   "execution_count": null,
   "id": "1f07e671",
   "metadata": {},
   "outputs": [],
   "source": [
    "figtot = plt.figure(figsize = (10,10))\n",
    "ax = plt.axes(projection='3d')\n",
    "ax.grid()\n",
    "ax1 = figtot.add_subplot(111,projection='3d')\n",
    "\n",
    "ax1.scatter(np.take(host_x,filtered), np.take(host_y,filtered),np.take(host_z,filtered), c = 'b', marker=\"*\", label='Host')\n",
    "ax1.scatter(x_Dark, y_Dark, z_Dark, s=5, c = 'g', marker=\"o\", label='DS')\n",
    "plt.legend(loc='upper left');\n",
    "#plt.savefig('DS_and_Host.pdf')"
   ]
  },
  {
   "cell_type": "code",
   "execution_count": null,
   "id": "c099f4ec",
   "metadata": {},
   "outputs": [],
   "source": [
    "figtot2dxy = plt.figure(figsize = (10,10))\n",
    "ax = plt.axes()\n",
    "ax.grid()\n",
    "ax.tick_params(axis='both', which='major', labelsize=14)\n",
    "ax.grid(linestyle='dotted', linewidth='0.6')\n",
    "ax.scatter(np.take(host_x,filtered), np.take(host_y,filtered), c = 'b', marker=\"*\", label='Host')\n",
    "ax.scatter(x_Dark, y_Dark, s=5, c = 'g', marker=\"o\", label='DS')\n",
    "plt.legend(loc='upper left');\n",
    "#plt.savefig('DS_and_Host_xy.pdf')"
   ]
  },
  {
   "cell_type": "code",
   "execution_count": null,
   "id": "1aaa8e8e",
   "metadata": {},
   "outputs": [],
   "source": [
    "'''\n",
    "Some checks on what we have so far\n",
    "Do To list:\n",
    "1) visual proof of distributions\n",
    "'''"
   ]
  },
  {
   "cell_type": "code",
   "execution_count": null,
   "id": "cb655f90",
   "metadata": {},
   "outputs": [],
   "source": [
    "#--------------------host redshift distribution------------------------------------\n",
    "n, bins, patches = plt.hist(x=host_obs_redshift, bins='auto', color='b',\n",
    "                            alpha=0.7, rwidth=1)\n",
    "plt.grid(axis='y', alpha=0.75)\n",
    "plt.xlabel('Redshift')\n",
    "plt.ylabel('Frequency')\n",
    "plt.title('N(z)')\n",
    "maxfreq = n.max()\n",
    "plt.yscale('log')\n",
    "plt.xscale('log')\n",
    "# Set a clean upper y-axis limit.\n",
    "plt.ylim(ymax=np.ceil(maxfreq / 10) * 10 if maxfreq % 10 else maxfreq + 10)"
   ]
  },
  {
   "cell_type": "code",
   "execution_count": null,
   "id": "7c5c15e0",
   "metadata": {},
   "outputs": [],
   "source": [
    "## plot of the rejection results\n",
    "\n",
    "x = np.linspace(0.1*h,rmax,1000000)\n",
    "fig,ax = plt.subplots()\n",
    "fig.set_size_inches(18.5, 10.5)\n",
    "ax.set_xlabel('x')\n",
    "ax.set_ylabel('probability density')\n",
    "ax.plot(x,target_dist(x)/np.sum(target_dist(x)*(x[1]-x[0])) )\n",
    "#ax.plot(x,target_dist(x)/norm ) #slow\n",
    "ax.hist(values,bins='auto',density=True,range=(x.min(),x.max()))\n",
    "plt.grid(axis='y', alpha=0.75)\n",
    "plt.xlabel('Mpc/h')\n",
    "plt.ylabel('Frequency')\n",
    "plt.yscale('log')\n",
    "plt.xscale('log')\n",
    "plt.title('Two-points correlation')\n",
    "plt.show() "
   ]
  },
  {
   "cell_type": "code",
   "execution_count": null,
   "id": "9627dcd4",
   "metadata": {},
   "outputs": [],
   "source": [
    "#---------------Distribution of phi------------------\n",
    "count, bins, ignored = plt.hist(real_phi, 100, density=True)\n",
    "line=np.ones_like(bins)\n",
    "line=line/(2*np.pi)\n",
    "plt.plot(bins, line, linewidth=2, color='r')\n",
    "plt.show()"
   ]
  },
  {
   "cell_type": "code",
   "execution_count": null,
   "id": "3d90abfb",
   "metadata": {},
   "outputs": [],
   "source": [
    "#---------------Distribution of cos(theta)------------------\n",
    "count, bins, ignored = plt.hist(real_theta, 100, density=True)#real_theta is cos(theta)\n",
    "line=np.ones_like(bins)\n",
    "line=line/(2)\n",
    "plt.plot(bins, line, linewidth=2, color='r')\n",
    "plt.show()"
   ]
  },
  {
   "cell_type": "code",
   "execution_count": null,
   "id": "bd2c457a",
   "metadata": {},
   "outputs": [],
   "source": [
    "\n",
    "Npoints=100\n",
    "esp=1\n",
    "phi =np.random.uniform(0,2*np.pi,Npoints)\n",
    "costheta =np.random.uniform(-1,1,Npoints)\n",
    "theta = np.arccos(costheta)\n",
    "r=np.random.choice(values,Npoints)\n",
    "wire_phi = np.linspace(0, np.pi, 20)\n",
    "wire_theta = np.linspace(0, 2 * np.pi, 40)\n",
    "x_sph = r * np.sin( theta) * np.cos( phi )\n",
    "y_sph = r * np.sin( theta) * np.sin( phi )\n",
    "z_sph = r * np.cos( theta )\n",
    "x = rmin*np.outer(np.sin(wire_theta), np.cos(wire_phi))# outer product i.e. line*row\n",
    "y = rmin*np.outer(np.sin(wire_theta), np.sin(wire_phi))\n",
    "z = rmin*np.outer(np.cos(wire_theta), np.ones_like(wire_phi))\n",
    "x_out = rmax*np.outer(np.sin(wire_theta), np.cos(wire_phi))# outer product i.e. line*row\n",
    "y_out = rmax*np.outer(np.sin(wire_theta), np.sin(wire_phi))\n",
    "z_out = rmax*np.outer(np.cos(wire_theta), np.ones_like(wire_phi))\n",
    "fig, ax = plt.subplots(1, 1,subplot_kw={'projection':'3d'})\n",
    "fig.set_size_inches(11.5, 11.5)\n",
    "ax.scatter(x_sph, y_sph , z_sph, s=20, c='k', zorder=10)\n",
    "ax.scatter(0, 0 , 0, s=100, c='r', zorder=10)\n",
    "#ax.plot_wireframe(x, y, z, color='b', rstride=1, cstride=1)\n",
    "ax.plot_wireframe(x_out, y_out, z_out, color='g', rstride=1, cstride=1)\n",
    "\n",
    "ax.view_init(60, 65)#rotation along x z"
   ]
  },
  {
   "cell_type": "code",
   "execution_count": null,
   "id": "8fdc0a89",
   "metadata": {},
   "outputs": [],
   "source": [
    "#---------- Test using real DS data------------------------------\n"
   ]
  },
  {
   "cell_type": "code",
   "execution_count": null,
   "id": "bd673a2d",
   "metadata": {},
   "outputs": [],
   "source": [
    "bins = 100\n",
    "counts_cdf = []\n",
    "counts_new_cdf = []\n",
    "r_right=[]\n",
    "#r=np.random.choice(values,70000)\n",
    "step = real_r.max()/bins\n",
    "R_min = distcut\n",
    "#new_values=values[values>=R_min]\n",
    "\n",
    "for myi in range(bins):\n",
    "    right = R_min + (myi+0)*step\n",
    "    bools_old = full_r<=right\n",
    "    bools_new = real_r<=right\n",
    "    \n",
    "    counts_cdf = np.append(counts_cdf, len(full_r[bools_old]))\n",
    "    counts_new_cdf = np.append(counts_new_cdf, len(real_r[bools_new]))\n",
    "    \n",
    "    r_right = np.append(r_right, right)\n",
    "    \n",
    "    #print(counts_cdf[myi],counts_new_cdf[myi])\n",
    "    #print(counts_cdf[myi]-counts_new_cdf[myi])\n",
    "shift=counts_cdf[0]-counts_new_cdf[0]\n",
    "#shift=0.004*len(real_r)\n",
    "#shift=fast_shift*len(real_r)\n",
    "counts_cdf=counts_cdf/counts_cdf.max()\n",
    "counts_new_cdf=counts_new_cdf+shift\n",
    "counts_new_cdf=counts_new_cdf/counts_new_cdf.max()\n",
    "\n",
    "    \n",
    "    "
   ]
  },
  {
   "cell_type": "code",
   "execution_count": null,
   "id": "c700ac56",
   "metadata": {},
   "outputs": [],
   "source": [
    "x = np.linspace(R_min,rmax,1000000)\n",
    "zeta=1.2#gamma+1\n",
    "norm=(rmax**(zeta))/((zeta)*r0**gamma)\n",
    "print('CDF normalization {}\\t Prefactor {}'.format(norm,1/norm))\n",
    "handmade_cdf=lambda x: (x**(zeta))/(rmax**(zeta))\n",
    "\n",
    "\n",
    "fig,ax = plt.subplots()\n",
    "fig.set_size_inches(18.5, 10.5)\n",
    "ax.set_xlabel('x')\n",
    "\n",
    "#ax.set_ylabel('probability density')\n",
    "\n",
    "ax.plot(x,handmade_cdf(x) ,color='g')\n",
    "plt.axvline(x=distcut)\n",
    "ax.scatter(r_right, counts_new_cdf , s=50, marker='+', c='r', zorder=10)\n",
    "ax.scatter(r_right, counts_cdf , s=20,marker='*', c='k', zorder=10)\n",
    "plt.grid(axis='y', alpha=0.75)\n",
    "plt.xlabel('Mpc/h')\n",
    "#plt.yscale('log')\n",
    "#plt.xscale('log')\n",
    "#plt.savefig('DS_cumulative.pdf')"
   ]
  },
  {
   "cell_type": "code",
   "execution_count": null,
   "id": "1c00ca77",
   "metadata": {},
   "outputs": [],
   "source": [
    "fig,ax = plt.subplots()\n",
    "fig.set_size_inches(18.5, 10.5)\n",
    "ax.set_xlabel('x')\n",
    "\n",
    "#ax.set_ylabel('probability density')\n",
    "\n",
    "#ax.plot(x,handmade_cdf(x) ,color='g')\n",
    "#plt.axvline(x=rmin)\n",
    "ax.scatter(r_right, counts_cdf-counts_new_cdf , s=10,marker='x', c='r', zorder=10)#diff between full dist and dist with r_cut\n",
    "ax.scatter(r_right, handmade_cdf(r_right)-counts_new_cdf , s=10,marker='x', c='g', zorder=10)#diff between cumulative and dist with r_cut\n",
    "plt.axhline(y=0, color='k', linestyle='-')\n",
    "#plt.ylim(bottom=-0.001,top=0.001)\n",
    "plt.grid(axis='y', alpha=0.75)\n",
    "plt.xlabel('Mpc/h')\n",
    "#plt.yscale('log')\n",
    "#plt.xscale('log')\n",
    "#plt.savefig('DS_cumulative.pdf')"
   ]
  },
  {
   "cell_type": "code",
   "execution_count": null,
   "id": "a9383032",
   "metadata": {},
   "outputs": [],
   "source": []
  },
  {
   "cell_type": "code",
   "execution_count": null,
   "id": "1f523415",
   "metadata": {},
   "outputs": [],
   "source": [
    "bins = 100\n",
    "freq_r = []\n",
    "r_center=[]\n",
    "step = real_r.max()/bins\n",
    "R_min = distcut\n",
    "left=R_min\n",
    "for myi in range(bins-1):\n",
    "    right = left+ (myi+1)*step\n",
    "    bools_left = left<real_r\n",
    "    bools_right=real_r<=right\n",
    "    bools_new= bools_left&bools_right\n",
    "    #print(bools_left,bools_right,bools_new)\n",
    "    freq_r = np.append(freq_r, len(real_r[bools_new]))\n",
    "    \n",
    "    r_center = np.append(r_center, left+step/2)\n",
    "    left=right"
   ]
  },
  {
   "cell_type": "code",
   "execution_count": null,
   "id": "761e24aa",
   "metadata": {},
   "outputs": [],
   "source": [
    "count= plt.hist(real_r, 100)#real_theta is cos(theta)"
   ]
  },
  {
   "cell_type": "code",
   "execution_count": null,
   "id": "2691a4c5",
   "metadata": {
    "scrolled": false
   },
   "outputs": [],
   "source": [
    "fig,ax = plt.subplots()\n",
    "fig.set_size_inches(18.5, 10.5)\n",
    "ax.set_xlabel('x')\n",
    "\n",
    "xx=count[1]\n",
    "xx=xx[:-1]\n",
    "yy=count[0]\n",
    "print(np.all(yy>20))\n",
    "yy_err=np.sqrt(yy)/yy.sum()\n",
    "yy=yy/yy.sum()\n",
    "\n",
    "arr_teo=target_dist(xx)\n",
    "arr_teo=arr_teo/arr_teo.sum()\n",
    "res=yy-arr_teo\n",
    "res2=(yy-arr_teo)/yy_err\n",
    "ax.scatter(xx,res , s=10,marker='x', c='b', zorder=10)\n",
    "plt.axhline(y=0, color='k', linestyle='-')\n",
    "plt.errorbar(xx, res, yerr=yy_err, fmt=\"+\")\n",
    "\n",
    "plt.grid(axis='y', alpha=0.75)\n",
    "plt.xlabel('Mpc/h')\n",
    "#plt.yscale('log')\n",
    "#plt.xscale('log')\n",
    "\n"
   ]
  },
  {
   "cell_type": "code",
   "execution_count": null,
   "id": "17dd9a6d",
   "metadata": {},
   "outputs": [],
   "source": [
    "\n",
    "fig,ax = plt.subplots()\n",
    "fig.set_size_inches(18.5, 10.5)\n",
    "ax.set_xlabel('x')\n",
    "ax.scatter(xx,res2 , s=10,marker='x', c='k', zorder=10)\n",
    "ax.fill_between(xx,1,-1,alpha=0.55, color='palegreen')\n",
    "\n",
    "plt.grid(axis='y', alpha=0.75)\n",
    "plt.xlabel('Mpc/h')\n",
    "plt.ylabel('Distance in sigma')\n",
    "#plt.yscale('log')\n",
    "#plt.xscale('log')\n"
   ]
  },
  {
   "cell_type": "code",
   "execution_count": null,
   "id": "71cb37d3",
   "metadata": {},
   "outputs": [],
   "source": [
    "mu=res2.mean()\n"
   ]
  },
  {
   "cell_type": "code",
   "execution_count": 9,
   "id": "b0176f3d",
   "metadata": {},
   "outputs": [],
   "source": [
    "#--------------------SDSS like-------------------------\n",
    "num_of_gal=np.array([1300,1300,500,800,800,1500,650,100,20,10])#Number of hosts in each z bin. \n",
    "sdss_bins=np.linspace(0,1,11)#bin Width \n",
    "#---------------Angular part--------------------------------\n",
    "#we need to cover only 30 squared degrees of sky. phi = U(0,phi_lim) cos_theta=U(1,cos_lim)\n",
    "#1 sq.deg.=(np.pi/180)**2 sr "
   ]
  },
  {
   "cell_type": "code",
   "execution_count": 10,
   "id": "62468403",
   "metadata": {},
   "outputs": [
    {
     "name": "stdout",
     "output_type": "stream",
     "text": [
      "0.26160900191178277 0.26509348643086666\n"
     ]
    }
   ],
   "source": [
    "alpha=30*(np.pi/180)**2\n",
    "phi_lim=(2*np.pi-alpha/2)/24#In this way phi_lim ~ theta_lim \n",
    "theta_lim=np.arccos(1-alpha/phi_lim)\n",
    "#print(phi_lim,theta_lim)\n",
    "all_phi=np.random.uniform(0,phi_lim,500000)\n",
    "all_cos=np.random.uniform(1,1-alpha/phi_lim,500000)\n",
    "print(phi_lim,theta_lim)"
   ]
  },
  {
   "cell_type": "code",
   "execution_count": 11,
   "id": "d057c084",
   "metadata": {},
   "outputs": [],
   "source": [
    "sdss_cosmo = FlatLambdaCDM(H0=70, Om0=0.3)\n",
    "sdss_lum=[]\n",
    "sdss_phi=[]\n",
    "sdss_cos_theta=[]\n",
    "sdss_redshift=[]\n",
    "\n",
    "for i in range(len(num_of_gal)):\n",
    "    for k in range(num_of_gal[i]):\n",
    "        sdss_phi=np.append(sdss_phi,np.random.choice(all_phi))\n",
    "        sdss_cos_theta=np.append(sdss_cos_theta,np.random.choice(all_cos))\n",
    "        z=np.random.uniform(0.1*i,0.1*(i+1))\n",
    "        sdss_redshift=np.append(sdss_redshift,z)\n",
    "        dl=(1+z)*sdss_cosmo.comoving_distance(z).value\n",
    "        sdss_lum=np.append(sdss_lum,dl)\n",
    "#In a flat Universe we have\n",
    "sdss_x=sdss_lum*np.sin(np.arccos(sdss_cos_theta))*np.cos(sdss_phi)\n",
    "sdss_y=sdss_lum*np.sin(np.arccos(sdss_cos_theta))*np.sin(sdss_phi)\n",
    "sdss_z=sdss_lum*sdss_cos_theta\n",
    "\n",
    "    "
   ]
  },
  {
   "cell_type": "code",
   "execution_count": 12,
   "id": "c3964206",
   "metadata": {},
   "outputs": [],
   "source": [
    "zz=np.linspace(0,1,5000)\n",
    "distinterpol=(1+zz)*sdss_cosmo.comoving_distance(zz).value\n",
    "z_of_dl=interpolate.interp1d(distinterpol,zz)\n",
    "#data from https://dcc.ligo.org/LIGO-T1800044/public\n",
    "freq=np.loadtxt('ALIGO_sens.txt',usecols=0)\n",
    "noise=np.loadtxt('ALIGO_sens.txt',usecols=1)#This is the amplitude so must be squared\n",
    "Aligo_sn=interpolate.interp1d(freq,noise)\n",
    "max_noise=noise.max()\n",
    "norm_noise=noise/max_noise\n",
    "Aligo_sn_norm=interpolate.interp1d(freq,norm_noise)"
   ]
  },
  {
   "cell_type": "code",
   "execution_count": 27,
   "id": "25163030",
   "metadata": {},
   "outputs": [
    {
     "name": "stdout",
     "output_type": "stream",
     "text": [
      "1476.955182862661 3.0856775812800003e+22\n",
      "G=6.67408e-11,   c=299792458.0\n"
     ]
    }
   ],
   "source": [
    "#------------W(D) of arxiv 1804.06085-------------------\n",
    "#evaluate the antenna function F+ & Fx and h+ & hx\n",
    "m1=10#Solar Mass units\n",
    "m2=10\n",
    "#geometrization of masses\n",
    "Msun=(1.98892)*(10**30)\n",
    "solarmass_to_m=(constants.G*Msun)/((constants.c)**2)#G/c^2\n",
    "Mpc_to_m=3.08567758128*(10**22) #this will be used later\n",
    "m1=m1*solarmass_to_m\n",
    "m2=m2*solarmass_to_m\n",
    "\n",
    "M=m1+m2\n",
    "eta=(m1*m2)/(M**2)\n",
    "M_c=M*eta**(3/5)#This mass must be redshifted\n",
    "prefactor=np.sqrt((5/24))*((np.pi)**(-2/3))\n",
    "cos_inclination=np.linspace(-1,1,100)\n",
    "dist_min=50\n",
    "dist_max=3500\n",
    "n_bins=int((dist_max-dist_min)/100)\n",
    "distances=np.linspace(dist_min,dist_max,n_bins)\n",
    "n_BBH=1600\n",
    "arr_phi=np.random.uniform(0,2*np.pi,500000)\n",
    "arr_cos=np.random.uniform(1,-1,500000)\n",
    "arr_psi=np.random.uniform(0,2*np.pi,500000)\n",
    "\n",
    "mydist=[50,100,250,500,1000,1500,2000,2500,3000,3500]\n",
    "print(solarmass_to_m,Mpc_to_m)\n",
    "print('G={},   c={}'.format(constants.G,constants.c))\n",
    "\n",
    "#--------analitic noise from paper\n",
    "s0=3.2*10**(-46)\n",
    "f0=500"
   ]
  },
  {
   "cell_type": "code",
   "execution_count": 14,
   "id": "84aa1b09",
   "metadata": {},
   "outputs": [],
   "source": [
    "#The integral can be performed with [dl]=s and [M_c]=s or [dl]=m and [M_c]=m and [f]=m\n",
    "def hplus_new(f,constant,mass,dist,z,cos):\n",
    "    dist=dist*Mpc_to_m\n",
    "    dist=dist/constants.c\n",
    "    mass=mass/constants.c\n",
    "    #x=f/constants.c\n",
    "    numerator=((constant/dist)*(mass**(5/6))*(((1+cos**2)/2)**2)*f**(-7/6))**2\n",
    "    #denom=Aligo_sn(f)\n",
    "    #denom=(constants.c**2)*(Aligo_sn(f)**2)#We need the noise power spectra\n",
    "    denom=(Aligo_sn(f)**2)\n",
    "    #denom=noise_analitic(f)\n",
    "    return (numerator/denom) \n",
    "\n",
    "def hcross_new(f,constant,mass,dist,z,cos):\n",
    "    dist=dist*Mpc_to_m\n",
    "    dist=dist/constants.c\n",
    "    mass=mass/constants.c\n",
    "    #x=f/constants.c\n",
    "    numerator=((constant/dist)*(mass**(5/6))*(cos**2)*f**(-7/6))**2\n",
    "    #denom=Aligo_sn(f)\n",
    "    #denom=(constants.c**2)*(Aligo_sn(f)**2) #We need the noise power spectra\n",
    "    denom=(Aligo_sn(f)**2)\n",
    "    #denom=noise_analitic(f)\n",
    "    return (numerator/denom)\n",
    "#noise analitic->noise virgo \n",
    "def noise_analitic(f):\n",
    "    #ret=(((f/f0)**(-4.14))-5*((f/f0)**(-2))+(111*(1-(f/f0)**2)+0.5*(f/f0)**4)/(1+0.5*(f/f0)**2))*s0\n",
    "    n1=(7.8*f/f0)**(-5)\n",
    "    n2=2*((f/f0)**(-1))\n",
    "    n3=0.63\n",
    "    n4=(f/f0)**2\n",
    "    ret=s0*(n1+n2+n3+n4)\n",
    "    return ret\n",
    "\n",
    "def angular_power(cos_theta,phi):\n",
    "    ret=0.25*((1+cos_theta**2)**2)*(np.cos(2*phi))**2+((cos_theta**2)*((np.sin(2*phi))**2))\n",
    "    return ret\n",
    "def antenna_response(ds_cos_theta,ds_phi,ds_psi):\n",
    "    cos_theta=np.random.choice(ds_cos_theta)\n",
    "    phi=np.random.choice(ds_phi)\n",
    "    psi=np.random.choice(ds_psi)\n",
    "    A=0.5*(1+cos_theta**2)*(np.cos(2*phi))\n",
    "    B=cos_theta*(np.sin(2*phi))\n",
    "    fplus=A*(np.cos(2*psi))-B*(np.sin(2*psi))\n",
    "    fcross=A*(np.sin(2*psi))-B*(np.cos(2*psi))\n",
    "    ret=fplus**2 + fcross**2\n",
    "    return ret\n",
    "\n",
    "def full_integrand(f,constant,mass,dist,cos_i,ds_cos_theta,ds_phi,ds_psi):\n",
    "    dist=dist*Mpc_to_m\n",
    "    cos_theta=np.random.choice(ds_cos_theta)\n",
    "    phi=np.random.choice(ds_phi)\n",
    "    psi=np.random.choice(ds_psi)\n",
    "    A=0.5*(1+cos_theta**2)*(np.cos(2*phi))\n",
    "    B=cos_theta*(np.sin(2*phi))\n",
    "    fplus=A*(np.cos(2*psi))-B*(np.sin(2*psi))\n",
    "    fcross=A*(np.sin(2*psi))-B*(np.cos(2*psi))\n",
    "    hplus_squared=((constant/dist)*(mass**(5/6))*(((1+cos_i**2)/2)**2)*f**(-7/6))**2\n",
    "    hcross_squared=((constant/dist)*(mass**(5/6))*(cos_i**2)*f**(-7/6))**2\n",
    "    numerator=hplus_squared*(fplus**2)+hcross_squared*(fcross**2)\n",
    "    denom=Aligo_sn(f)**2\n",
    "    return (numerator/denom)\n",
    "    "
   ]
  },
  {
   "cell_type": "code",
   "execution_count": 15,
   "id": "34d83781",
   "metadata": {
    "scrolled": false
   },
   "outputs": [
    {
     "data": {
      "text/plain": [
       "<matplotlib.legend.Legend at 0x7f855e9d85e0>"
      ]
     },
     "execution_count": 15,
     "metadata": {},
     "output_type": "execute_result"
    },
    {
     "data": {
      "image/png": "[encoded data removed]",
      "text/plain": [
       "<Figure size 1332x756 with 1 Axes>"
      ]
     },
     "metadata": {
      "needs_background": "light"
     },
     "output_type": "display_data"
    }
   ],
   "source": [
    "freq_for_plot=np.linspace(freq.min(),freq.max(),100000)\n",
    "fig,ax = plt.subplots()\n",
    "fig.set_size_inches(18.5, 10.5)\n",
    "ax.set_xlabel('Frequency')\n",
    "ax.set_ylabel('S_n (1/Hz)')\n",
    "ax.plot(freq_for_plot,noise_analitic(freq_for_plot),label='Virgo analitic noise')\n",
    "ax.plot(freq_for_plot,Aligo_sn(freq_for_plot)**2/freq_for_plot,label='LIGO noise')\n",
    "plt.yscale('log')\n",
    "plt.xscale('log')\n",
    "plt.grid(axis='y', alpha=0.75)\n",
    "plt.grid(axis='x', alpha=0.75)\n",
    "plt.legend()"
   ]
  },
  {
   "cell_type": "code",
   "execution_count": null,
   "id": "4e2e097a",
   "metadata": {},
   "outputs": [],
   "source": [
    "dl=4000\n",
    "z_ds=z_of_dl(dl)\n",
    "red_Mc=M_c*(1+z_ds)\n",
    "cos_i=1 #np.random.choice(cos_inclination)\n",
    "start_time = time.time()\n",
    "temp_plus=quad(hplus_new,freq.min(),freq.max(),args=(prefactor,red_Mc,dl,z_ds,cos_i))[0]\n",
    "temp_cross=quad(hcross_new,freq.min(),freq.max(),args=(prefactor,red_Mc,dl,z_ds,cos_i))[0]\n",
    "detector_prefactor=antenna_response(arr_cos,arr_phi,arr_psi)\n",
    "SNR=np.sqrt((temp_plus+temp_cross)*detector_prefactor*4)\n",
    "\n",
    "#pow_factor=angular_power()\n",
    "#we are interested in the angular mean so we can mediate over theta and phi. The results is 0.97712\n",
    "print(SNR,temp_plus,temp_cross)\n",
    "print(\"--- %s seconds ---\" % (time.time() - start_time))"
   ]
  },
  {
   "cell_type": "code",
   "execution_count": null,
   "id": "7c3904ee",
   "metadata": {},
   "outputs": [],
   "source": [
    "mean_angular_power=0.97712\n",
    "\n",
    "def weights(dist_ds):\n",
    "    n_iteration=len(dist_ds)\n",
    "    detected=np.zeros(n_iteration)\n",
    "    for k in tqdm(range(n_iteration),desc='Progress'):\n",
    "        for i in range(n_BBH):\n",
    "            dl=np.random.uniform(dist_ds[k],dist_ds[k]+10)\n",
    "            z_ds=z_of_dl(dl)\n",
    "            red_Mc=M_c*(1+z_ds)\n",
    "            cos_i=np.random.choice(cos_inclination)\n",
    "            temp_plus=quad(hplus_new,20,1000,args=(prefactor,red_Mc,dl,z_ds,cos_i))[0]\n",
    "            temp_cross=quad(hcross_new,20,1000,args=(prefactor,red_Mc,dl,z_ds,cos_i))[0]\n",
    "            SNR=2*np.sqrt((temp_plus+temp_cross)*mean_angular_power)\n",
    "            #integral=quad(full_integrand,freq.min(),freq.max(),args=(prefactor,red_Mc,dl,cos_i,arr_cos,arr_phi,arr_psi))[0]\n",
    "            #SNR=np.sqrt((integral)*4)\n",
    "            if SNR >= 8:\n",
    "                detected[k]=detected[k]+1\n",
    "    return detected"
   ]
  },
  {
   "cell_type": "code",
   "execution_count": null,
   "id": "e0b9c8e8",
   "metadata": {},
   "outputs": [],
   "source": [
    "#arr_cos=np.ones(100)\n",
    "#arr_phi=np.zeros(100)"
   ]
  },
  {
   "cell_type": "code",
   "execution_count": null,
   "id": "1c7b3688",
   "metadata": {},
   "outputs": [],
   "source": [
    "mean_angular_power=0.97712\n",
    "\n",
    "def weights_multi(dist_ds):\n",
    "    det=0\n",
    "    for i in range(n_BBH):\n",
    "        dl=np.random.uniform(dist_ds,dist_ds+10)\n",
    "        z_ds=z_of_dl(dl)\n",
    "        red_Mc=M_c*(1+z_ds)\n",
    "        cos_i=np.random.choice(cos_inclination)\n",
    "        temp_plus=quad(hplus_new,20,1000,args=(prefactor,red_Mc,dl,z_ds,cos_i))[0]\n",
    "        temp_cross=quad(hcross_new,20,1000,args=(prefactor,red_Mc,dl,z_ds,cos_i))[0]\n",
    "        detector_prefactor=antenna_response(all_cos,all_phi,arr_psi)\n",
    "        SNR=np.sqrt((temp_plus+temp_cross)*detector_prefactor*4)\n",
    "        #integral=quad(full_integrand,freq.min(),freq.max(),args=(prefactor,red_Mc,dl,cos_i,arr_cos,arr_phi,arr_psi))[0]\n",
    "        #SNR=np.sqrt((integral)*4)\n",
    "        if SNR >= 8:\n",
    "            det=det+1\n",
    "    return det"
   ]
  },
  {
   "cell_type": "code",
   "execution_count": null,
   "id": "bc43c6fe",
   "metadata": {},
   "outputs": [],
   "source": []
  },
  {
   "cell_type": "code",
   "execution_count": null,
   "id": "6200ab43",
   "metadata": {
    "scrolled": true
   },
   "outputs": [],
   "source": [
    "start_time = time.time()\n",
    "short_dist=np.linspace(50,750,25)\n",
    "with Pool(20) as p:\n",
    "    detected=p.map(weights_multi, distances)\n",
    "print(\"--- %s seconds ---\" % (time.time() - start_time))"
   ]
  },
  {
   "cell_type": "code",
   "execution_count": null,
   "id": "86bdf4c8",
   "metadata": {
    "scrolled": false
   },
   "outputs": [],
   "source": [
    "arr1=np.array(detected)\n",
    "arr1=100*arr1/n_BBH\n",
    "fig,ax = plt.subplots()\n",
    "fig.set_size_inches(18.5, 10.5)\n",
    "ax.set_xlabel('x')\n",
    "ax.scatter(distances,arr1 , s=10, c='g', zorder=10)\n",
    "#ax.fill_between(xx,1,-1,alpha=0.55, color='palegreen')\n",
    "\n",
    "plt.grid(axis='y', alpha=0.75)\n",
    "plt.xlabel('Mpc')\n",
    "plt.ylabel('% Detected')\n",
    "#plt.xscale('log')"
   ]
  },
  {
   "cell_type": "code",
   "execution_count": 16,
   "id": "4059f815",
   "metadata": {},
   "outputs": [],
   "source": [
    "#network antenna from: Networks of gravitational wave detectors and three figures of merit\n",
    "#we have to set a global reference frame and evaluate f_+ and f_x for each detector\n",
    "#having care to rotate each S.o.R.\n",
    "def A_factor(xi,beta,lamb,theta,phi):\n",
    "    a1=(1/16)*np.cos(2*xi)*(3-np.cos(2*beta))*(3-np.cos(2*theta))*np.cos(2*(phi+lamb))\n",
    "    a2=0.25*np.cos(2*xi)*np.sin(beta)*(3-np.cos(2*theta))*np.sin(2*(phi+lamb))\n",
    "    a3=0.25*np.sin(2*xi)*np.sin(2*beta)*np.sin(2*theta)*np.cos(phi+lamb)\n",
    "    a4=0.5*np.cos(2*xi)*np.cos(beta)*np.sin(2*theta)*np.sin(phi+lamb)\n",
    "    a5=(3/4)*np.sin(2*xi)*(np.cos(beta)**2)*(np.sin(theta)**2)\n",
    "    ret=a1+a2+a3+a4+a5\n",
    "    return ret\n",
    "def B_factor(xi,beta,lamb,theta,phi):\n",
    "    b1=np.cos(2*xi)*np.sin(beta)*np.cos(theta)*np.cos(2*(phi+lamb))\n",
    "    b2=0.25*np.sin(2*xi)*(3-np.cos(2*beta))*np.cos(theta)*np.sin(2*(phi+lamb))\n",
    "    b3=np.cos(2*xi)*np.cos(beta)*np.sin(theta)*np.cos(phi+lamb)\n",
    "    b4=0.5*np.sin(2*xi)*np.sin(2*beta)*np.sin(theta)*np.sin(phi+lamb)\n",
    "    ret=b1-b2+b3-b4\n",
    "    return ret\n",
    "def antenna_pattern(xi,beta,lamb,theta,phi,psi):\n",
    "    fplus=A_factor(xi,beta,lamb,theta,phi)*np.cos(2*psi)+B_factor(xi,beta,lamb,theta,phi)*np.sin(2*psi)\n",
    "    fcross=B_factor(xi,beta,lamb,theta,phi)*np.cos(2*psi)-A_factor(xi,beta,lamb,theta,phi)*np.sin(2*psi)\n",
    "    fplus_squared=fplus**2\n",
    "    fcross_squared=fcross**2\n",
    "    ret=fplus_squared+fcross_squared\n",
    "    return ret\n"
   ]
  },
  {
   "cell_type": "code",
   "execution_count": 17,
   "id": "94d9e1cb",
   "metadata": {},
   "outputs": [],
   "source": [
    "#xi,beta,lamb for each detector\n",
    "def rad_from_deg(angle):\n",
    "    if angle<0:\n",
    "        convert=360+angle #angle is negative\n",
    "    else:\n",
    "        convert=angle\n",
    "    ret=convert*np.pi/180\n",
    "    return ret\n",
    "#gamma, lambda, L of other paper\n",
    "Ligo_H=np.array([rad_from_deg(171.8),rad_from_deg(46.45),rad_from_deg(119.41)])\n",
    "Ligo_L=np.array([rad_from_deg(243),rad_from_deg(30.56),rad_from_deg(90.77)])\n",
    "Virgo=np.array([rad_from_deg(116.5),rad_from_deg(43.63),rad_from_deg(-10.5)])\n"
   ]
  },
  {
   "cell_type": "code",
   "execution_count": 26,
   "id": "ccfbb902",
   "metadata": {},
   "outputs": [
    {
     "data": {
      "text/plain": [
       "<matplotlib.legend.Legend at 0x7f8658b14f70>"
      ]
     },
     "execution_count": 26,
     "metadata": {},
     "output_type": "execute_result"
    },
    {
     "data": {
      "image/png": "[encoded data removed]",
      "text/plain": [
       "<Figure size 1332x756 with 1 Axes>"
      ]
     },
     "metadata": {
      "needs_background": "light"
     },
     "output_type": "display_data"
    }
   ],
   "source": [
    "freq_for_plot=np.linspace(freq.min(),freq.max(),100000)\n",
    "fig,ax = plt.subplots()\n",
    "fig.set_size_inches(18.5, 10.5)\n",
    "ax.set_xlabel('Frequency')\n",
    "ax.set_ylabel('Integrand (1/Hz)')\n",
    "plotdl=1000\n",
    "zplot=z_of_dl(plotdl)\n",
    "red_Mc=M_c*(1+zplot)\n",
    "#ax.plot(freq_for_plot,noise_analitic(freq_for_plot),label='Virgo analitic noise')\n",
    "ax.plot(freq_for_plot,((hplus_new(freq_for_plot,prefactor,red_Mc,plotdl,zplot,1))**2 +(hcross_new(freq_for_plot,prefactor,red_Mc,plotdl,zplot,1))**2)/(Aligo_sn(freq_for_plot)**2),label='LIGO noise')\n",
    "\n",
    "plt.yscale('log')\n",
    "plt.xscale('log')\n",
    "plt.grid(axis='y', alpha=0.75)\n",
    "plt.grid(axis='x', alpha=0.75)\n",
    "plt.legend()"
   ]
  },
  {
   "cell_type": "code",
   "execution_count": 28,
   "id": "8cf4200d",
   "metadata": {},
   "outputs": [],
   "source": [
    "def network_angular_response(dist_ds):\n",
    "    det=0\n",
    "    flag=0\n",
    "    det_h=0\n",
    "    det_l=0\n",
    "    det_v=0\n",
    "    for i in range(n_BBH):\n",
    "        dl=dist_ds#np.random.uniform(dist_ds,dist_ds+1)\n",
    "        z_ds=z_of_dl(dl)\n",
    "        red_Mc=M_c*(1+z_ds)\n",
    "        cos_i=np.random.choice(cos_inclination)\n",
    "        temp_plus=quad(hplus_new,20,1000,args=(prefactor,red_Mc,dl,z_ds,cos_i))[0]\n",
    "        temp_cross=quad(hcross_new,20,1000,args=(prefactor,red_Mc,dl,z_ds,cos_i))[0]\n",
    "        ds_phi=np.random.choice(arr_phi)\n",
    "        ds_theta=np.arccos(np.random.choice(arr_cos))\n",
    "        ds_psi=np.random.choice(arr_psi)\n",
    "        hanford_prefactor=antenna_pattern(Ligo_H[0],Ligo_H[1],Ligo_H[2],ds_theta,ds_phi,ds_psi)\n",
    "        SNR_quad_hanford=(temp_plus+temp_cross)*hanford_prefactor*4\n",
    "        #integral=quad(full_integrand,freq.min(),freq.max(),args=(prefactor,red_Mc,dl,cos_i,arr_cos,arr_phi,arr_psi))[0]\n",
    "        #SNR=np.sqrt((integral)*4)\n",
    "        if SNR_quad_hanford>= 8*8:\n",
    "            flag=flag+1\n",
    "            det_h=det_h+1\n",
    "        livingstone_prefactor=antenna_pattern(Ligo_L[0],Ligo_L[1],Ligo_L[2],ds_theta,ds_phi,ds_psi)\n",
    "        SNR_quad_livingstone=(temp_plus+temp_cross)*livingstone_prefactor*4\n",
    "        if SNR_quad_livingstone>= 8*8:\n",
    "            flag=flag+1\n",
    "            det_l=det_l+1\n",
    "        virgo_prefactor=antenna_pattern(Virgo[0],Virgo[1],Virgo[2],ds_theta,ds_phi,ds_psi)\n",
    "        SNR_quad_virgo=(temp_plus+temp_cross)*virgo_prefactor*4\n",
    "        if SNR_quad_virgo>= 8*8:\n",
    "            flag=flag+1\n",
    "            det_v=det_v+1\n",
    "        network_soglia=np.sqrt((SNR_quad_hanford+SNR_quad_livingstone+SNR_quad_virgo)/3)\n",
    "        if ((flag>=2) and (network_soglia>=8)):\n",
    "        #if (flag>=2):\n",
    "            det=det+1\n",
    "        flag=0\n",
    "    return det,det_h,det_l,det_v"
   ]
  },
  {
   "cell_type": "code",
   "execution_count": 29,
   "id": "49bcd2fe",
   "metadata": {
    "scrolled": false
   },
   "outputs": [
    {
     "name": "stderr",
     "output_type": "stream",
     "text": [
      "<ipython-input-28-133ec7d27f3a>:12: IntegrationWarning: The occurrence of roundoff error is detected, which prevents \n",
      "  the requested tolerance from being achieved.  The error may be \n",
      "  underestimated.\n",
      "  temp_plus=quad(hplus_new,20,1000,args=(prefactor,red_Mc,dl,z_ds,cos_i))[0]\n",
      "<ipython-input-28-133ec7d27f3a>:12: IntegrationWarning: The occurrence of roundoff error is detected, which prevents \n",
      "  the requested tolerance from being achieved.  The error may be \n",
      "  underestimated.\n",
      "  temp_plus=quad(hplus_new,20,1000,args=(prefactor,red_Mc,dl,z_ds,cos_i))[0]\n",
      "<ipython-input-28-133ec7d27f3a>:12: IntegrationWarning: The occurrence of roundoff error is detected, which prevents \n",
      "  the requested tolerance from being achieved.  The error may be \n",
      "  underestimated.\n",
      "  temp_plus=quad(hplus_new,20,1000,args=(prefactor,red_Mc,dl,z_ds,cos_i))[0]\n",
      "<ipython-input-28-133ec7d27f3a>:12: IntegrationWarning: The occurrence of roundoff error is detected, which prevents \n",
      "  the requested tolerance from being achieved.  The error may be \n",
      "  underestimated.\n",
      "  temp_plus=quad(hplus_new,20,1000,args=(prefactor,red_Mc,dl,z_ds,cos_i))[0]\n",
      "<ipython-input-28-133ec7d27f3a>:12: IntegrationWarning: The occurrence of roundoff error is detected, which prevents \n",
      "  the requested tolerance from being achieved.  The error may be \n",
      "  underestimated.\n",
      "  temp_plus=quad(hplus_new,20,1000,args=(prefactor,red_Mc,dl,z_ds,cos_i))[0]\n",
      "<ipython-input-28-133ec7d27f3a>:12: IntegrationWarning: The occurrence of roundoff error is detected, which prevents \n",
      "  the requested tolerance from being achieved.  The error may be \n",
      "  underestimated.\n",
      "  temp_plus=quad(hplus_new,20,1000,args=(prefactor,red_Mc,dl,z_ds,cos_i))[0]\n",
      "<ipython-input-28-133ec7d27f3a>:12: IntegrationWarning: The occurrence of roundoff error is detected, which prevents \n",
      "  the requested tolerance from being achieved.  The error may be \n",
      "  underestimated.\n",
      "  temp_plus=quad(hplus_new,20,1000,args=(prefactor,red_Mc,dl,z_ds,cos_i))[0]\n",
      "<ipython-input-28-133ec7d27f3a>:12: IntegrationWarning: The occurrence of roundoff error is detected, which prevents \n",
      "  the requested tolerance from being achieved.  The error may be \n",
      "  underestimated.\n",
      "  temp_plus=quad(hplus_new,20,1000,args=(prefactor,red_Mc,dl,z_ds,cos_i))[0]\n",
      "<ipython-input-28-133ec7d27f3a>:12: IntegrationWarning: The occurrence of roundoff error is detected, which prevents \n",
      "  the requested tolerance from being achieved.  The error may be \n",
      "  underestimated.\n",
      "  temp_plus=quad(hplus_new,20,1000,args=(prefactor,red_Mc,dl,z_ds,cos_i))[0]\n",
      "<ipython-input-28-133ec7d27f3a>:12: IntegrationWarning: The occurrence of roundoff error is detected, which prevents \n",
      "  the requested tolerance from being achieved.  The error may be \n",
      "  underestimated.\n",
      "  temp_plus=quad(hplus_new,20,1000,args=(prefactor,red_Mc,dl,z_ds,cos_i))[0]\n",
      "<ipython-input-28-133ec7d27f3a>:12: IntegrationWarning: The occurrence of roundoff error is detected, which prevents \n",
      "  the requested tolerance from being achieved.  The error may be \n",
      "  underestimated.\n",
      "  temp_plus=quad(hplus_new,20,1000,args=(prefactor,red_Mc,dl,z_ds,cos_i))[0]\n",
      "<ipython-input-28-133ec7d27f3a>:12: IntegrationWarning: The occurrence of roundoff error is detected, which prevents \n",
      "  the requested tolerance from being achieved.  The error may be \n",
      "  underestimated.\n",
      "  temp_plus=quad(hplus_new,20,1000,args=(prefactor,red_Mc,dl,z_ds,cos_i))[0]\n",
      "<ipython-input-28-133ec7d27f3a>:12: IntegrationWarning: The occurrence of roundoff error is detected, which prevents \n",
      "  the requested tolerance from being achieved.  The error may be \n",
      "  underestimated.\n",
      "  temp_plus=quad(hplus_new,20,1000,args=(prefactor,red_Mc,dl,z_ds,cos_i))[0]\n",
      "<ipython-input-28-133ec7d27f3a>:12: IntegrationWarning: The occurrence of roundoff error is detected, which prevents \n",
      "  the requested tolerance from being achieved.  The error may be \n",
      "  underestimated.\n",
      "  temp_plus=quad(hplus_new,20,1000,args=(prefactor,red_Mc,dl,z_ds,cos_i))[0]\n",
      "<ipython-input-28-133ec7d27f3a>:13: IntegrationWarning: The occurrence of roundoff error is detected, which prevents \n",
      "  the requested tolerance from being achieved.  The error may be \n",
      "  underestimated.\n",
      "  temp_cross=quad(hcross_new,20,1000,args=(prefactor,red_Mc,dl,z_ds,cos_i))[0]\n",
      "<ipython-input-28-133ec7d27f3a>:12: IntegrationWarning: The occurrence of roundoff error is detected, which prevents \n",
      "  the requested tolerance from being achieved.  The error may be \n",
      "  underestimated.\n",
      "  temp_plus=quad(hplus_new,20,1000,args=(prefactor,red_Mc,dl,z_ds,cos_i))[0]\n",
      "<ipython-input-28-133ec7d27f3a>:12: IntegrationWarning: The occurrence of roundoff error is detected, which prevents \n",
      "  the requested tolerance from being achieved.  The error may be \n",
      "  underestimated.\n",
      "  temp_plus=quad(hplus_new,20,1000,args=(prefactor,red_Mc,dl,z_ds,cos_i))[0]\n",
      "<ipython-input-28-133ec7d27f3a>:13: IntegrationWarning: The occurrence of roundoff error is detected, which prevents \n",
      "  the requested tolerance from being achieved.  The error may be \n",
      "  underestimated.\n",
      "  temp_cross=quad(hcross_new,20,1000,args=(prefactor,red_Mc,dl,z_ds,cos_i))[0]\n",
      "<ipython-input-28-133ec7d27f3a>:13: IntegrationWarning: The occurrence of roundoff error is detected, which prevents \n",
      "  the requested tolerance from being achieved.  The error may be \n",
      "  underestimated.\n",
      "  temp_cross=quad(hcross_new,20,1000,args=(prefactor,red_Mc,dl,z_ds,cos_i))[0]\n",
      "<ipython-input-28-133ec7d27f3a>:13: IntegrationWarning: The occurrence of roundoff error is detected, which prevents \n",
      "  the requested tolerance from being achieved.  The error may be \n",
      "  underestimated.\n",
      "  temp_cross=quad(hcross_new,20,1000,args=(prefactor,red_Mc,dl,z_ds,cos_i))[0]\n",
      "<ipython-input-28-133ec7d27f3a>:13: IntegrationWarning: The occurrence of roundoff error is detected, which prevents \n",
      "  the requested tolerance from being achieved.  The error may be \n",
      "  underestimated.\n",
      "  temp_cross=quad(hcross_new,20,1000,args=(prefactor,red_Mc,dl,z_ds,cos_i))[0]\n",
      "<ipython-input-28-133ec7d27f3a>:12: IntegrationWarning: The occurrence of roundoff error is detected, which prevents \n",
      "  the requested tolerance from being achieved.  The error may be \n",
      "  underestimated.\n",
      "  temp_plus=quad(hplus_new,20,1000,args=(prefactor,red_Mc,dl,z_ds,cos_i))[0]\n",
      "<ipython-input-28-133ec7d27f3a>:13: IntegrationWarning: The occurrence of roundoff error is detected, which prevents \n",
      "  the requested tolerance from being achieved.  The error may be \n",
      "  underestimated.\n",
      "  temp_cross=quad(hcross_new,20,1000,args=(prefactor,red_Mc,dl,z_ds,cos_i))[0]\n",
      "<ipython-input-28-133ec7d27f3a>:12: IntegrationWarning: The occurrence of roundoff error is detected, which prevents \n",
      "  the requested tolerance from being achieved.  The error may be \n",
      "  underestimated.\n",
      "  temp_plus=quad(hplus_new,20,1000,args=(prefactor,red_Mc,dl,z_ds,cos_i))[0]\n",
      "<ipython-input-28-133ec7d27f3a>:12: IntegrationWarning: The occurrence of roundoff error is detected, which prevents \n",
      "  the requested tolerance from being achieved.  The error may be \n",
      "  underestimated.\n",
      "  temp_plus=quad(hplus_new,20,1000,args=(prefactor,red_Mc,dl,z_ds,cos_i))[0]\n",
      "<ipython-input-28-133ec7d27f3a>:12: IntegrationWarning: The occurrence of roundoff error is detected, which prevents \n",
      "  the requested tolerance from being achieved.  The error may be \n",
      "  underestimated.\n",
      "  temp_plus=quad(hplus_new,20,1000,args=(prefactor,red_Mc,dl,z_ds,cos_i))[0]\n",
      "<ipython-input-28-133ec7d27f3a>:12: IntegrationWarning: The occurrence of roundoff error is detected, which prevents \n",
      "  the requested tolerance from being achieved.  The error may be \n",
      "  underestimated.\n",
      "  temp_plus=quad(hplus_new,20,1000,args=(prefactor,red_Mc,dl,z_ds,cos_i))[0]\n",
      "<ipython-input-28-133ec7d27f3a>:12: IntegrationWarning: The occurrence of roundoff error is detected, which prevents \n",
      "  the requested tolerance from being achieved.  The error may be \n",
      "  underestimated.\n",
      "  temp_plus=quad(hplus_new,20,1000,args=(prefactor,red_Mc,dl,z_ds,cos_i))[0]\n",
      "<ipython-input-28-133ec7d27f3a>:12: IntegrationWarning: The occurrence of roundoff error is detected, which prevents \n",
      "  the requested tolerance from being achieved.  The error may be \n",
      "  underestimated.\n",
      "  temp_plus=quad(hplus_new,20,1000,args=(prefactor,red_Mc,dl,z_ds,cos_i))[0]\n",
      "<ipython-input-28-133ec7d27f3a>:12: IntegrationWarning: The occurrence of roundoff error is detected, which prevents \n",
      "  the requested tolerance from being achieved.  The error may be \n",
      "  underestimated.\n",
      "  temp_plus=quad(hplus_new,20,1000,args=(prefactor,red_Mc,dl,z_ds,cos_i))[0]\n"
     ]
    },
    {
     "name": "stderr",
     "output_type": "stream",
     "text": [
      "<ipython-input-28-133ec7d27f3a>:12: IntegrationWarning: The occurrence of roundoff error is detected, which prevents \n",
      "  the requested tolerance from being achieved.  The error may be \n",
      "  underestimated.\n",
      "  temp_plus=quad(hplus_new,20,1000,args=(prefactor,red_Mc,dl,z_ds,cos_i))[0]\n",
      "<ipython-input-28-133ec7d27f3a>:13: IntegrationWarning: The occurrence of roundoff error is detected, which prevents \n",
      "  the requested tolerance from being achieved.  The error may be \n",
      "  underestimated.\n",
      "  temp_cross=quad(hcross_new,20,1000,args=(prefactor,red_Mc,dl,z_ds,cos_i))[0]\n",
      "<ipython-input-28-133ec7d27f3a>:12: IntegrationWarning: The occurrence of roundoff error is detected, which prevents \n",
      "  the requested tolerance from being achieved.  The error may be \n",
      "  underestimated.\n",
      "  temp_plus=quad(hplus_new,20,1000,args=(prefactor,red_Mc,dl,z_ds,cos_i))[0]\n",
      "<ipython-input-28-133ec7d27f3a>:12: IntegrationWarning: The occurrence of roundoff error is detected, which prevents \n",
      "  the requested tolerance from being achieved.  The error may be \n",
      "  underestimated.\n",
      "  temp_plus=quad(hplus_new,20,1000,args=(prefactor,red_Mc,dl,z_ds,cos_i))[0]\n",
      "<ipython-input-28-133ec7d27f3a>:12: IntegrationWarning: The occurrence of roundoff error is detected, which prevents \n",
      "  the requested tolerance from being achieved.  The error may be \n",
      "  underestimated.\n",
      "  temp_plus=quad(hplus_new,20,1000,args=(prefactor,red_Mc,dl,z_ds,cos_i))[0]\n",
      "<ipython-input-28-133ec7d27f3a>:12: IntegrationWarning: The occurrence of roundoff error is detected, which prevents \n",
      "  the requested tolerance from being achieved.  The error may be \n",
      "  underestimated.\n",
      "  temp_plus=quad(hplus_new,20,1000,args=(prefactor,red_Mc,dl,z_ds,cos_i))[0]\n",
      "<ipython-input-28-133ec7d27f3a>:12: IntegrationWarning: The occurrence of roundoff error is detected, which prevents \n",
      "  the requested tolerance from being achieved.  The error may be \n",
      "  underestimated.\n",
      "  temp_plus=quad(hplus_new,20,1000,args=(prefactor,red_Mc,dl,z_ds,cos_i))[0]\n",
      "<ipython-input-28-133ec7d27f3a>:12: IntegrationWarning: The occurrence of roundoff error is detected, which prevents \n",
      "  the requested tolerance from being achieved.  The error may be \n",
      "  underestimated.\n",
      "  temp_plus=quad(hplus_new,20,1000,args=(prefactor,red_Mc,dl,z_ds,cos_i))[0]\n",
      "<ipython-input-28-133ec7d27f3a>:12: IntegrationWarning: The occurrence of roundoff error is detected, which prevents \n",
      "  the requested tolerance from being achieved.  The error may be \n",
      "  underestimated.\n",
      "  temp_plus=quad(hplus_new,20,1000,args=(prefactor,red_Mc,dl,z_ds,cos_i))[0]\n",
      "<ipython-input-28-133ec7d27f3a>:12: IntegrationWarning: The occurrence of roundoff error is detected, which prevents \n",
      "  the requested tolerance from being achieved.  The error may be \n",
      "  underestimated.\n",
      "  temp_plus=quad(hplus_new,20,1000,args=(prefactor,red_Mc,dl,z_ds,cos_i))[0]\n",
      "<ipython-input-28-133ec7d27f3a>:13: IntegrationWarning: The occurrence of roundoff error is detected, which prevents \n",
      "  the requested tolerance from being achieved.  The error may be \n",
      "  underestimated.\n",
      "  temp_cross=quad(hcross_new,20,1000,args=(prefactor,red_Mc,dl,z_ds,cos_i))[0]\n",
      "<ipython-input-28-133ec7d27f3a>:12: IntegrationWarning: The occurrence of roundoff error is detected, which prevents \n",
      "  the requested tolerance from being achieved.  The error may be \n",
      "  underestimated.\n",
      "  temp_plus=quad(hplus_new,20,1000,args=(prefactor,red_Mc,dl,z_ds,cos_i))[0]\n",
      "<ipython-input-28-133ec7d27f3a>:13: IntegrationWarning: The occurrence of roundoff error is detected, which prevents \n",
      "  the requested tolerance from being achieved.  The error may be \n",
      "  underestimated.\n",
      "  temp_cross=quad(hcross_new,20,1000,args=(prefactor,red_Mc,dl,z_ds,cos_i))[0]\n",
      "<ipython-input-28-133ec7d27f3a>:13: IntegrationWarning: The occurrence of roundoff error is detected, which prevents \n",
      "  the requested tolerance from being achieved.  The error may be \n",
      "  underestimated.\n",
      "  temp_cross=quad(hcross_new,20,1000,args=(prefactor,red_Mc,dl,z_ds,cos_i))[0]\n",
      "<ipython-input-28-133ec7d27f3a>:13: IntegrationWarning: The occurrence of roundoff error is detected, which prevents \n",
      "  the requested tolerance from being achieved.  The error may be \n",
      "  underestimated.\n",
      "  temp_cross=quad(hcross_new,20,1000,args=(prefactor,red_Mc,dl,z_ds,cos_i))[0]\n",
      "<ipython-input-28-133ec7d27f3a>:13: IntegrationWarning: The occurrence of roundoff error is detected, which prevents \n",
      "  the requested tolerance from being achieved.  The error may be \n",
      "  underestimated.\n",
      "  temp_cross=quad(hcross_new,20,1000,args=(prefactor,red_Mc,dl,z_ds,cos_i))[0]\n",
      "<ipython-input-28-133ec7d27f3a>:13: IntegrationWarning: The occurrence of roundoff error is detected, which prevents \n",
      "  the requested tolerance from being achieved.  The error may be \n",
      "  underestimated.\n",
      "  temp_cross=quad(hcross_new,20,1000,args=(prefactor,red_Mc,dl,z_ds,cos_i))[0]\n",
      "<ipython-input-28-133ec7d27f3a>:13: IntegrationWarning: The occurrence of roundoff error is detected, which prevents \n",
      "  the requested tolerance from being achieved.  The error may be \n",
      "  underestimated.\n",
      "  temp_cross=quad(hcross_new,20,1000,args=(prefactor,red_Mc,dl,z_ds,cos_i))[0]\n",
      "<ipython-input-28-133ec7d27f3a>:13: IntegrationWarning: The occurrence of roundoff error is detected, which prevents \n",
      "  the requested tolerance from being achieved.  The error may be \n",
      "  underestimated.\n",
      "  temp_cross=quad(hcross_new,20,1000,args=(prefactor,red_Mc,dl,z_ds,cos_i))[0]\n",
      "<ipython-input-28-133ec7d27f3a>:13: IntegrationWarning: The occurrence of roundoff error is detected, which prevents \n",
      "  the requested tolerance from being achieved.  The error may be \n",
      "  underestimated.\n",
      "  temp_cross=quad(hcross_new,20,1000,args=(prefactor,red_Mc,dl,z_ds,cos_i))[0]\n",
      "<ipython-input-28-133ec7d27f3a>:13: IntegrationWarning: The occurrence of roundoff error is detected, which prevents \n",
      "  the requested tolerance from being achieved.  The error may be \n",
      "  underestimated.\n",
      "  temp_cross=quad(hcross_new,20,1000,args=(prefactor,red_Mc,dl,z_ds,cos_i))[0]\n",
      "<ipython-input-28-133ec7d27f3a>:13: IntegrationWarning: The occurrence of roundoff error is detected, which prevents \n",
      "  the requested tolerance from being achieved.  The error may be \n",
      "  underestimated.\n",
      "  temp_cross=quad(hcross_new,20,1000,args=(prefactor,red_Mc,dl,z_ds,cos_i))[0]\n",
      "<ipython-input-28-133ec7d27f3a>:13: IntegrationWarning: The occurrence of roundoff error is detected, which prevents \n",
      "  the requested tolerance from being achieved.  The error may be \n",
      "  underestimated.\n",
      "  temp_cross=quad(hcross_new,20,1000,args=(prefactor,red_Mc,dl,z_ds,cos_i))[0]\n",
      "<ipython-input-28-133ec7d27f3a>:13: IntegrationWarning: The occurrence of roundoff error is detected, which prevents \n",
      "  the requested tolerance from being achieved.  The error may be \n",
      "  underestimated.\n",
      "  temp_cross=quad(hcross_new,20,1000,args=(prefactor,red_Mc,dl,z_ds,cos_i))[0]\n",
      "<ipython-input-28-133ec7d27f3a>:13: IntegrationWarning: The occurrence of roundoff error is detected, which prevents \n",
      "  the requested tolerance from being achieved.  The error may be \n",
      "  underestimated.\n",
      "  temp_cross=quad(hcross_new,20,1000,args=(prefactor,red_Mc,dl,z_ds,cos_i))[0]\n",
      "<ipython-input-28-133ec7d27f3a>:13: IntegrationWarning: The occurrence of roundoff error is detected, which prevents \n",
      "  the requested tolerance from being achieved.  The error may be \n",
      "  underestimated.\n",
      "  temp_cross=quad(hcross_new,20,1000,args=(prefactor,red_Mc,dl,z_ds,cos_i))[0]\n",
      "<ipython-input-28-133ec7d27f3a>:13: IntegrationWarning: The occurrence of roundoff error is detected, which prevents \n",
      "  the requested tolerance from being achieved.  The error may be \n",
      "  underestimated.\n",
      "  temp_cross=quad(hcross_new,20,1000,args=(prefactor,red_Mc,dl,z_ds,cos_i))[0]\n",
      "<ipython-input-28-133ec7d27f3a>:13: IntegrationWarning: The occurrence of roundoff error is detected, which prevents \n",
      "  the requested tolerance from being achieved.  The error may be \n",
      "  underestimated.\n",
      "  temp_cross=quad(hcross_new,20,1000,args=(prefactor,red_Mc,dl,z_ds,cos_i))[0]\n",
      "<ipython-input-28-133ec7d27f3a>:13: IntegrationWarning: The occurrence of roundoff error is detected, which prevents \n",
      "  the requested tolerance from being achieved.  The error may be \n",
      "  underestimated.\n",
      "  temp_cross=quad(hcross_new,20,1000,args=(prefactor,red_Mc,dl,z_ds,cos_i))[0]\n",
      "<ipython-input-28-133ec7d27f3a>:13: IntegrationWarning: The occurrence of roundoff error is detected, which prevents \n",
      "  the requested tolerance from being achieved.  The error may be \n",
      "  underestimated.\n",
      "  temp_cross=quad(hcross_new,20,1000,args=(prefactor,red_Mc,dl,z_ds,cos_i))[0]\n"
     ]
    },
    {
     "name": "stderr",
     "output_type": "stream",
     "text": [
      "<ipython-input-28-133ec7d27f3a>:13: IntegrationWarning: The occurrence of roundoff error is detected, which prevents \n",
      "  the requested tolerance from being achieved.  The error may be \n",
      "  underestimated.\n",
      "  temp_cross=quad(hcross_new,20,1000,args=(prefactor,red_Mc,dl,z_ds,cos_i))[0]\n",
      "<ipython-input-28-133ec7d27f3a>:13: IntegrationWarning: The occurrence of roundoff error is detected, which prevents \n",
      "  the requested tolerance from being achieved.  The error may be \n",
      "  underestimated.\n",
      "  temp_cross=quad(hcross_new,20,1000,args=(prefactor,red_Mc,dl,z_ds,cos_i))[0]\n",
      "<ipython-input-28-133ec7d27f3a>:13: IntegrationWarning: The occurrence of roundoff error is detected, which prevents \n",
      "  the requested tolerance from being achieved.  The error may be \n",
      "  underestimated.\n",
      "  temp_cross=quad(hcross_new,20,1000,args=(prefactor,red_Mc,dl,z_ds,cos_i))[0]\n",
      "<ipython-input-28-133ec7d27f3a>:13: IntegrationWarning: The occurrence of roundoff error is detected, which prevents \n",
      "  the requested tolerance from being achieved.  The error may be \n",
      "  underestimated.\n",
      "  temp_cross=quad(hcross_new,20,1000,args=(prefactor,red_Mc,dl,z_ds,cos_i))[0]\n",
      "<ipython-input-28-133ec7d27f3a>:13: IntegrationWarning: The occurrence of roundoff error is detected, which prevents \n",
      "  the requested tolerance from being achieved.  The error may be \n",
      "  underestimated.\n",
      "  temp_cross=quad(hcross_new,20,1000,args=(prefactor,red_Mc,dl,z_ds,cos_i))[0]\n",
      "<ipython-input-28-133ec7d27f3a>:13: IntegrationWarning: The occurrence of roundoff error is detected, which prevents \n",
      "  the requested tolerance from being achieved.  The error may be \n",
      "  underestimated.\n",
      "  temp_cross=quad(hcross_new,20,1000,args=(prefactor,red_Mc,dl,z_ds,cos_i))[0]\n",
      "<ipython-input-28-133ec7d27f3a>:13: IntegrationWarning: The occurrence of roundoff error is detected, which prevents \n",
      "  the requested tolerance from being achieved.  The error may be \n",
      "  underestimated.\n",
      "  temp_cross=quad(hcross_new,20,1000,args=(prefactor,red_Mc,dl,z_ds,cos_i))[0]\n",
      "<ipython-input-28-133ec7d27f3a>:13: IntegrationWarning: The occurrence of roundoff error is detected, which prevents \n",
      "  the requested tolerance from being achieved.  The error may be \n",
      "  underestimated.\n",
      "  temp_cross=quad(hcross_new,20,1000,args=(prefactor,red_Mc,dl,z_ds,cos_i))[0]\n"
     ]
    },
    {
     "name": "stdout",
     "output_type": "stream",
     "text": [
      "--- 140.61982417106628 seconds ---\n"
     ]
    }
   ],
   "source": [
    "test_dist=np.linspace(50,750,10)\n",
    "start_time = time.time()\n",
    "with Pool(35) as p:\n",
    "    all_results=p.map(network_angular_response, distances)\n",
    "print(\"--- %s seconds ---\" % (time.time() - start_time))\n",
    "all_results=np.array(all_results)\n",
    "detected_multi=all_results[::,0]\n",
    "hanford=all_results[::,1]\n",
    "livingstone=all_results[::,2]\n",
    "virgo=all_results[::,3]"
   ]
  },
  {
   "cell_type": "code",
   "execution_count": 30,
   "id": "40dd4f61",
   "metadata": {
    "scrolled": false
   },
   "outputs": [
    {
     "data": {
      "text/plain": [
       "Text(0, 0.5, '% Detected')"
      ]
     },
     "execution_count": 30,
     "metadata": {},
     "output_type": "execute_result"
    },
    {
     "data": {
      "image/png": "[encoded data removed]",
      "text/plain": [
       "<Figure size 1332x756 with 1 Axes>"
      ]
     },
     "metadata": {
      "needs_background": "light"
     },
     "output_type": "display_data"
    }
   ],
   "source": [
    "arr=np.array(detected_multi)\n",
    "hanford=np.array(hanford)\n",
    "livingstone=np.array(livingstone)\n",
    "virgo=np.array(virgo)\n",
    "\n",
    "arr=100*arr/n_BBH\n",
    "hanford=100*hanford/n_BBH\n",
    "livingstone=100*livingstone/n_BBH\n",
    "virgo=100*virgo/n_BBH\n",
    "\n",
    "fig,ax = plt.subplots()\n",
    "fig.set_size_inches(18.5, 10.5)\n",
    "ax.set_xlabel('x')\n",
    "ax.scatter(distances,arr , s=10, c='g', zorder=10)\n",
    "#ax.fill_between(xx,1,-1,alpha=0.55, color='palegreen')\n",
    "\n",
    "plt.grid(axis='y', alpha=0.75)\n",
    "plt.xlabel('Mpc')\n",
    "plt.ylabel('% Detected')\n",
    "#plt.xscale('log')"
   ]
  },
  {
   "cell_type": "code",
   "execution_count": 31,
   "id": "a0cd0714",
   "metadata": {},
   "outputs": [
    {
     "data": {
      "image/png": "[encoded data removed]",
      "text/plain": [
       "<Figure size 1332x756 with 1 Axes>"
      ]
     },
     "metadata": {
      "needs_background": "light"
     },
     "output_type": "display_data"
    }
   ],
   "source": [
    "fig,ax = plt.subplots()\n",
    "fig.set_size_inches(18.5, 10.5)\n",
    "ax.set_xlabel('x')\n",
    "ax.scatter(distances,arr , s=10, c='g', zorder=10,label='total')\n",
    "#ax.scatter(distances,arr1 , s=10, c='b', zorder=10)\n",
    "ax.scatter(distances,hanford , s=10, c='k', zorder=10,label='Hanford')\n",
    "ax.scatter(distances,livingstone , s=10, c='r', zorder=10,label='Livingstone')\n",
    "ax.scatter(distances,virgo , s=10, c='m', zorder=10,label='Virgo')\n",
    "#ax.fill_between(distances,arr,arr1,alpha=0.55, color='palegreen')\n",
    "\n",
    "plt.grid(axis='y', alpha=0.75)\n",
    "plt.grid(axis='x', alpha=0.75)\n",
    "plt.xlabel('Mpc')\n",
    "plt.ylabel('% Detected')\n",
    "plt.legend()\n",
    "plt.xscale('log')\n",
    "#plt.savefig('MC_Weights_AllSky.pdf')"
   ]
  },
  {
   "cell_type": "code",
   "execution_count": null,
   "id": "cfa84a11",
   "metadata": {},
   "outputs": [],
   "source": []
  },
  {
   "cell_type": "code",
   "execution_count": null,
   "id": "79b27c4e",
   "metadata": {},
   "outputs": [],
   "source": [
    "stored=all_results"
   ]
  },
  {
   "cell_type": "code",
   "execution_count": null,
   "id": "a576f766",
   "metadata": {},
   "outputs": [],
   "source": []
  }
 ],
 "metadata": {
  "kernelspec": {
   "display_name": "Python 3",
   "language": "python",
   "name": "python3"
  },
  "language_info": {
   "codemirror_mode": {
    "name": "ipython",
    "version": 3
   },
   "file_extension": ".py",
   "mimetype": "text/x-python",
   "name": "python",
   "nbconvert_exporter": "python",
   "pygments_lexer": "ipython3",
   "version": "3.8.10"
  }
 },
 "nbformat": 4,
 "nbformat_minor": 5
}
