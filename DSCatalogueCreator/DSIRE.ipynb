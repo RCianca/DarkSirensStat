{
 "cells": [
  {
   "cell_type": "code",
   "execution_count": 1,
   "id": "d592aec7",
   "metadata": {},
   "outputs": [
    {
     "name": "stdout",
     "output_type": "stream",
     "text": [
      "FlatLambdaCDM(H0=67 km / (Mpc s), Om0=0.319, Tcmb0=0 K, Neff=3.04, m_nu=None, Ob0=None)\n"
     ]
    }
   ],
   "source": [
    "#-------------------------Imports---------------------------\n",
    "import numpy as np\n",
    "#import healpy as hp\n",
    "import matplotlib.pyplot as plt\n",
    "import matplotlib.pylab as pl\n",
    "import matplotlib\n",
    "from mpl_toolkits import mplot3d\n",
    "#import sympy as sy #symbolic algebra\n",
    "import pandas as pd\n",
    "from numpy.random import random\n",
    "\n",
    "from scipy.stats import kstest\n",
    "from scipy.stats import ks_2samp\n",
    "from scipy.stats import uniform\n",
    "from scipy import interpolate\n",
    "from scipy.integrate import quad\n",
    "from scipy.integrate import trapz\n",
    "from scipy import constants\n",
    "\n",
    "import os\n",
    "#from astropy.cosmology import Planck15\n",
    "from astropy.cosmology import Planck18\n",
    "from astropy.cosmology import FlatLambdaCDM\n",
    "from astropy.io import fits\n",
    "from astropy.table import Table\n",
    "\n",
    "from tqdm import tqdm\n",
    "from multiprocessing import Pool\n",
    "import time\n",
    "\n",
    "###########################\n",
    "# CONSTANTS\n",
    "###########################\n",
    "H0GLOB= 67#69.32#67.9 #69\n",
    "Om0GLOB=0.319\n",
    "Xi0Glob =1.\n",
    "clight = 2.99792458* 10**5#km/s\n",
    "cosmoglob = Planck18\n",
    "cosmofast = FlatLambdaCDM(H0=H0GLOB, Om0=Om0GLOB)\n",
    "H0=cosmoglob.H(0).value\n",
    "h=H0GLOB/100\n",
    "#geometrization of masses\n",
    "Msun=(1.98892)*(10**30)\n",
    "solarmass_to_m=(constants.G*Msun)/((constants.c)**2)#G/c^2\n",
    "Mpc_to_m=3.08567758128*(10**22) #this will be used later\n",
    "#-------miscellanea-----------------------\n",
    "xmax=100\n",
    "ymax=100\n",
    "zmax=100\n",
    "half_box_size=2\n",
    "\n",
    "Npoints=1000\n",
    "Sigma=10\n",
    "#----------------from distances to redshift----------------------\n",
    "zz=np.linspace(0,10,50000)\n",
    "distinterpol=(1+zz)*cosmofast.comoving_distance(zz).value\n",
    "z_of_dl=interpolate.interp1d(distinterpol,zz)\n",
    "distinterpol_dc=cosmofast.comoving_distance(zz).value\n",
    "z_of_dc=interpolate.interp1d(distinterpol_dc,zz)\n",
    "#------------------------------------------------------------\n",
    "print(cosmofast)"
   ]
  },
  {
   "cell_type": "code",
   "execution_count": 12,
   "id": "ad4cb919",
   "metadata": {},
   "outputs": [],
   "source": [
    "#--------------------------definitions-------------------------\n",
    "def NumOfDS(x,y,z):\n",
    "    #this will evaluate the dN/dz\n",
    "    r=np.sqrt(x**2+y**2+z**2)\n",
    "    #numberofDS=1000/r\n",
    "    numberofDS=2\n",
    "    num=int(numberofDS)\n",
    "    #print(num)\n",
    "    if num>0:\n",
    "        return num\n",
    "    else:\n",
    "        return 1\n",
    "#-----------rejection-stuff------------\n",
    "def sample(g,xmin,xmax):\n",
    "    x = np.linspace(xmin,xmax,1000000)\n",
    "    y = g(x)                        # probability density function, pdf\n",
    "    cdf_y = np.cumsum(y)            # cumulative distribution function, cdf\n",
    "    cdf_y = cdf_y/cdf_y.max()       # takes care of normalizing cdf to 1.0\n",
    "    inverse_cdf = interpolate.interp1d(cdf_y,x,fill_value=\"extrapolate\")# this is a function\n",
    "    #inverse_cdf = np.interp(0,cdf_y,x) #this works but it is not a function\n",
    "    return inverse_cdf\n",
    "def return_samples(f,xmin,xmax,N=1000000):\n",
    "    # let's generate some samples according to the chosen pdf, f(x)\n",
    "    uniform_samples = random(int(N))       \n",
    "    required_samples = sample(f,xmin,xmax)(uniform_samples)\n",
    "    return required_samples\n",
    "#--------------Placer-----------------------------\n",
    "def DS_Maker(radii,perc,numHost,xhost,yhost,zhost):\n",
    "    #the DSs are generated in a sphere, centered on the host. and the distance must follow\n",
    "#the correlation distribution. \n",
    "#To generate points on a unit sphere see https://mathworld.wolfram.com/SpherePointPicking.html\n",
    "# A python implementation https://stackoverflow.com/questions/5408276/sampling-uniformly-distributed-random-points-inside-a-spherical-volume\n",
    "    #remember: you have to return also the indices of the hosts that have DSs\n",
    "    x_Dark=[]\n",
    "    y_Dark=[]\n",
    "    z_Dark=[]\n",
    "    phi_to_return=[]\n",
    "    theta_to_return=[]\n",
    "    r_to_return=[]\n",
    "    full_r=[]\n",
    "    \n",
    "    arr_n=[]\n",
    "    NDS=int(perc*numHost)\n",
    "    indices=np.zeros(NDS)\n",
    "    \n",
    "    for k in range(NDS):\n",
    "        i=np.random.randint(0, numHost-1)\n",
    "        indices[k]=i\n",
    "        dist_x=xhost[i]\n",
    "        dist_y=yhost[i]\n",
    "        dist_z=zhost[i]\n",
    "        n=NumOfDS(dist_x,dist_y,dist_z)\n",
    "        arr_n=np.append(arr_n,n)\n",
    "        for d in range(n):\n",
    "            phi =np.random.uniform(0,2*np.pi)\n",
    "            costheta =np.random.uniform(-1,1)\n",
    "            theta = np.arccos(costheta)\n",
    "            r=np.random.choice(radii)\n",
    "            full_r=np.append(full_r,r)\n",
    "            if r>=distcut:\n",
    "                x_DS = r * np.sin( theta) * np.cos( phi )\n",
    "                y_DS = r * np.sin( theta) * np.sin( phi )\n",
    "                z_DS = r * np.cos( theta )\n",
    "                r_to_return=np.append(r_to_return,r)\n",
    "            else:\n",
    "                d=d-1\n",
    "\n",
    "            #real values: do some check\n",
    "            \n",
    "            theta_to_return=np.append(theta_to_return,costheta)\n",
    "            phi_to_return=np.append(phi_to_return,phi)\n",
    "        \n",
    "            x_Dark=np.append(x_Dark,dist_x+x_DS)\n",
    "            y_Dark=np.append(y_Dark,dist_y+y_DS)\n",
    "            z_Dark=np.append(z_Dark,dist_z+z_DS)\n",
    "    #--------only unique indices of host-DS\n",
    "    filtered=np.unique(indices.astype(int))\n",
    "    return x_Dark, y_Dark, z_Dark, filtered, arr_n,r_to_return,theta_to_return,phi_to_return,full_r\n",
    "def deg_to_rad(angle):\n",
    "    ret=np.pi*angle/180\n",
    "    return ret"
   ]
  },
  {
   "cell_type": "code",
   "execution_count": 2,
   "id": "530a8e61",
   "metadata": {},
   "outputs": [
    {
     "name": "stdout",
     "output_type": "stream",
     "text": [
      "Index(['ra_gal', 'dec_gal', 'observed_redshift_gal', 'true_redshift_gal',\n",
      "       'x_gal', 'y_gal', 'z_gal', 'vx_gal', 'vy_gal', 'vz_gal'],\n",
      "      dtype='object')\n",
      "(14047533, 10)\n"
     ]
    }
   ],
   "source": [
    "#------------read the flagship-------------------------------------\n",
    "dat = Table.read('11536.fits', format='fits')\n",
    "df = dat.to_pandas()#all good, is an only text fits\n",
    "print(df.columns)\n",
    "print(df.shape)"
   ]
  },
  {
   "cell_type": "code",
   "execution_count": null,
   "id": "09fd0360",
   "metadata": {},
   "outputs": [],
   "source": [
    "print(df.ra_gal.min(),df.ra_gal.max())\n",
    "print(df.dec_gal.min(),df.dec_gal.max())\n",
    "print(df.ra_gal[0],df.dec_gal[0])"
   ]
  },
  {
   "cell_type": "code",
   "execution_count": null,
   "id": "5d741792",
   "metadata": {},
   "outputs": [],
   "source": [
    "#distances are in Mpc/h and are comoving distances. We need luminosity distances and Mpc \n",
    "host_x=df['x_gal'].values/h #restore the right units\n",
    "host_y=df['y_gal'].values/h\n",
    "host_z=df['z_gal'].values/h\n",
    "host_obs_redshift=df['true_redshift_gal'].values\n",
    "#host_true_redshift=df['true_redshift_gal'].values\n",
    "lum_host_x=host_x*(1+host_obs_redshift)\n",
    "lum_host_y=host_y*(1+host_obs_redshift)\n",
    "lum_host_z=host_z*(1+host_obs_redshift)\n",
    "dl=np.sqrt(lum_host_x[-1]**2+lum_host_y[-1]**2+lum_host_z[-1]**2)\n",
    "dc=np.sqrt(host_x[-1]**2+host_y[-1]**2+host_z[-1]**2)\n",
    "\n",
    "#print(dc,dl,dl/dc-1,host_obs_redshift[-1],host_true_redshift[-1])"
   ]
  },
  {
   "cell_type": "code",
   "execution_count": null,
   "id": "1c356a97",
   "metadata": {},
   "outputs": [],
   "source": [
    "print(dc,dl,dl/dc-1,host_obs_redshift[-1])"
   ]
  },
  {
   "cell_type": "code",
   "execution_count": null,
   "id": "1628de63",
   "metadata": {},
   "outputs": [],
   "source": [
    "fig = plt.figure(figsize = (10,10))\n",
    "ax = plt.axes(projection='3d')\n",
    "ax.grid()\n",
    "num=int(df.shape[0]*0.0001)\n",
    "ax.scatter(np.random.choice(lum_host_x,num), np.random.choice(lum_host_y,num),\n",
    "           np.random.choice(lum_host_z,num), c = 'b', s = 5)\n",
    "ax.set_title('Host-Dristibution')\n",
    "\n",
    "# Set axes label\n",
    "ax.set_xlabel('x', labelpad=20)\n",
    "ax.set_ylabel('y', labelpad=20)\n",
    "ax.set_zlabel('z', labelpad=20)\n",
    "#plt.savefig('HostDist.pdf')\n",
    "ax.view_init(60, 65)#rotation along x z\n",
    "figtot2dxy = plt.figure(figsize = (10,10))\n",
    "ax = plt.axes()\n",
    "ax.grid()\n",
    "ax.tick_params(axis='both', which='major', labelsize=14)\n",
    "ax.grid(linestyle='dotted', linewidth='0.6')\n",
    "ax.scatter(np.random.choice(lum_host_x,num), np.random.choice(lum_host_y,num),\n",
    "           c = 'b', marker=\"*\", label='Host')\n",
    "plt.legend(loc='upper left');"
   ]
  },
  {
   "cell_type": "code",
   "execution_count": null,
   "id": "16c54f1f",
   "metadata": {},
   "outputs": [],
   "source": []
  },
  {
   "cell_type": "code",
   "execution_count": null,
   "id": "ce55940d",
   "metadata": {},
   "outputs": [],
   "source": [
    "#----------------MC-rejection-with-CDF----------------------\n",
    "r0=5*h\n",
    "gamma=0.2\n",
    "#rmin=0.1*h\n",
    "rmin=0\n",
    "distcut=0.1*h\n",
    "rmax=10*h\n",
    "#target function\n",
    "target_dist= lambda r: (r/r0)**(gamma)\n",
    "#x = sy.Symbol('x')\n",
    "#norm=sy.integrate(target_dist(x), (x, rmin, rmax))\n",
    "#print(norm)\n",
    "values=return_samples(target_dist,rmin,rmax,1000000)\n",
    "real_values=values[values>=distcut]\n",
    "shift=len(values)-len(real_values)\n",
    "#np.savetxt('two_point_radii.txt',values)\n",
    "#np.savetxt('two_point_radii_cutted.txt',real_values)"
   ]
  },
  {
   "cell_type": "code",
   "execution_count": null,
   "id": "42141e15",
   "metadata": {},
   "outputs": [],
   "source": [
    "print(len(real_values))\n",
    "fast_shift=1-len(real_values)/len(values)\n",
    "print(1-len(real_values)/len(values))"
   ]
  },
  {
   "cell_type": "code",
   "execution_count": null,
   "id": "cc41d008",
   "metadata": {},
   "outputs": [],
   "source": [
    "Nhost=df.shape[0]\n",
    "x_Dark, y_Dark, z_Dark, filtered,arr_n,real_r,real_theta,real_phi,full_r=DS_Maker(values,0.001,Nhost,host_x,host_y,host_z)\n",
    "print(len(x_Dark))"
   ]
  },
  {
   "cell_type": "code",
   "execution_count": null,
   "id": "0f0fdddc",
   "metadata": {},
   "outputs": [],
   "source": [
    "fig2 = plt.figure(figsize = (10,10))\n",
    "ax = plt.axes(projection='3d')\n",
    "ax.grid()\n",
    "\n",
    "ax.scatter(x_Dark, y_Dark, z_Dark, c = 'g', s = 10)\n",
    "ax.set_title('DS-Dristibution')\n",
    "\n",
    "# Set axes label\n",
    "ax.set_xlabel('x', labelpad=20)\n",
    "ax.set_ylabel('y', labelpad=20)\n",
    "ax.set_zlabel('z', labelpad=20)\n",
    "#plt.savefig('DSDist.pdf')"
   ]
  },
  {
   "cell_type": "code",
   "execution_count": null,
   "id": "1f07e671",
   "metadata": {},
   "outputs": [],
   "source": [
    "figtot = plt.figure(figsize = (10,10))\n",
    "ax = plt.axes(projection='3d')\n",
    "ax.grid()\n",
    "ax1 = figtot.add_subplot(111,projection='3d')\n",
    "\n",
    "ax1.scatter(np.take(host_x,filtered), np.take(host_y,filtered),np.take(host_z,filtered), c = 'b', marker=\"*\", label='Host')\n",
    "ax1.scatter(x_Dark, y_Dark, z_Dark, s=5, c = 'g', marker=\"o\", label='DS')\n",
    "plt.legend(loc='upper left');\n",
    "#plt.savefig('DS_and_Host.pdf')"
   ]
  },
  {
   "cell_type": "code",
   "execution_count": null,
   "id": "c099f4ec",
   "metadata": {},
   "outputs": [],
   "source": [
    "figtot2dxy = plt.figure(figsize = (10,10))\n",
    "ax = plt.axes()\n",
    "ax.grid()\n",
    "ax.tick_params(axis='both', which='major', labelsize=14)\n",
    "ax.grid(linestyle='dotted', linewidth='0.6')\n",
    "ax.scatter(np.take(host_x,filtered), np.take(host_y,filtered), c = 'b', marker=\"*\", label='Host')\n",
    "ax.scatter(x_Dark, y_Dark, s=5, c = 'g', marker=\"o\", label='DS')\n",
    "plt.legend(loc='upper left');\n",
    "#plt.savefig('DS_and_Host_xy.pdf')"
   ]
  },
  {
   "cell_type": "code",
   "execution_count": null,
   "id": "1aaa8e8e",
   "metadata": {},
   "outputs": [],
   "source": [
    "'''\n",
    "Some checks on what we have so far\n",
    "'''"
   ]
  },
  {
   "cell_type": "code",
   "execution_count": null,
   "id": "cb655f90",
   "metadata": {},
   "outputs": [],
   "source": [
    "#--------------------host redshift distribution------------------------------------\n",
    "n, bins, patches = plt.hist(x=host_obs_redshift, bins='auto', color='b',\n",
    "                            alpha=0.7, rwidth=1)\n",
    "plt.grid(axis='y', alpha=0.75)\n",
    "plt.xlabel('Redshift')\n",
    "plt.ylabel('Frequency')\n",
    "plt.title('N(z)')\n",
    "maxfreq = n.max()\n",
    "plt.yscale('log')\n",
    "plt.xscale('log')\n",
    "# Set a clean upper y-axis limit.\n",
    "plt.ylim(ymax=np.ceil(maxfreq / 10) * 10 if maxfreq % 10 else maxfreq + 10)"
   ]
  },
  {
   "cell_type": "code",
   "execution_count": null,
   "id": "7c5c15e0",
   "metadata": {},
   "outputs": [],
   "source": [
    "## plot of the rejection results\n",
    "\n",
    "x = np.linspace(0.1*h,rmax,1000000)\n",
    "fig,ax = plt.subplots()\n",
    "fig.set_size_inches(18.5, 10.5)\n",
    "ax.set_xlabel('x')\n",
    "ax.set_ylabel('probability density')\n",
    "ax.plot(x,target_dist(x)/np.sum(target_dist(x)*(x[1]-x[0])) )\n",
    "#ax.plot(x,target_dist(x)/norm ) #slow\n",
    "ax.hist(values,bins='auto',density=True,range=(x.min(),x.max()))\n",
    "plt.grid(axis='y', alpha=0.75)\n",
    "plt.xlabel('Mpc/h')\n",
    "plt.ylabel('Frequency')\n",
    "plt.yscale('log')\n",
    "plt.xscale('log')\n",
    "plt.title('Two-points correlation')\n",
    "plt.show() "
   ]
  },
  {
   "cell_type": "code",
   "execution_count": null,
   "id": "9627dcd4",
   "metadata": {},
   "outputs": [],
   "source": [
    "#---------------Distribution of phi------------------\n",
    "count, bins, ignored = plt.hist(real_phi, 100, density=True)\n",
    "line=np.ones_like(bins)\n",
    "line=line/(2*np.pi)\n",
    "plt.plot(bins, line, linewidth=2, color='r')\n",
    "plt.show()"
   ]
  },
  {
   "cell_type": "code",
   "execution_count": null,
   "id": "3d90abfb",
   "metadata": {},
   "outputs": [],
   "source": [
    "#---------------Distribution of cos(theta)------------------\n",
    "count, bins, ignored = plt.hist(real_theta, 100, density=True)#real_theta is cos(theta)\n",
    "line=np.ones_like(bins)\n",
    "line=line/(2)\n",
    "plt.plot(bins, line, linewidth=2, color='r')\n",
    "plt.show()"
   ]
  },
  {
   "cell_type": "code",
   "execution_count": null,
   "id": "bd2c457a",
   "metadata": {},
   "outputs": [],
   "source": [
    "\n",
    "Npoints=100\n",
    "esp=1\n",
    "phi =np.random.uniform(0,2*np.pi,Npoints)\n",
    "costheta =np.random.uniform(-1,1,Npoints)\n",
    "theta = np.arccos(costheta)\n",
    "r=np.random.choice(values,Npoints)\n",
    "wire_phi = np.linspace(0, np.pi, 20)\n",
    "wire_theta = np.linspace(0, 2 * np.pi, 40)\n",
    "x_sph = r * np.sin( theta) * np.cos( phi )\n",
    "y_sph = r * np.sin( theta) * np.sin( phi )\n",
    "z_sph = r * np.cos( theta )\n",
    "x = rmin*np.outer(np.sin(wire_theta), np.cos(wire_phi))# outer product i.e. line*row\n",
    "y = rmin*np.outer(np.sin(wire_theta), np.sin(wire_phi))\n",
    "z = rmin*np.outer(np.cos(wire_theta), np.ones_like(wire_phi))\n",
    "x_out = rmax*np.outer(np.sin(wire_theta), np.cos(wire_phi))# outer product i.e. line*row\n",
    "y_out = rmax*np.outer(np.sin(wire_theta), np.sin(wire_phi))\n",
    "z_out = rmax*np.outer(np.cos(wire_theta), np.ones_like(wire_phi))\n",
    "fig, ax = plt.subplots(1, 1,subplot_kw={'projection':'3d'})\n",
    "fig.set_size_inches(11.5, 11.5)\n",
    "ax.scatter(x_sph, y_sph , z_sph, s=20, c='k', zorder=10)\n",
    "ax.scatter(0, 0 , 0, s=100, c='r', zorder=10)\n",
    "#ax.plot_wireframe(x, y, z, color='b', rstride=1, cstride=1)\n",
    "ax.plot_wireframe(x_out, y_out, z_out, color='g', rstride=1, cstride=1)\n",
    "\n",
    "ax.view_init(60, 65)#rotation along x z"
   ]
  },
  {
   "cell_type": "code",
   "execution_count": null,
   "id": "8fdc0a89",
   "metadata": {},
   "outputs": [],
   "source": [
    "#---------- Test using real DS data------------------------------\n"
   ]
  },
  {
   "cell_type": "code",
   "execution_count": null,
   "id": "bd673a2d",
   "metadata": {},
   "outputs": [],
   "source": [
    "bins = 100\n",
    "counts_cdf = []\n",
    "counts_new_cdf = []\n",
    "r_right=[]\n",
    "#r=np.random.choice(values,70000)\n",
    "step = real_r.max()/bins\n",
    "R_min = distcut\n",
    "#new_values=values[values>=R_min]\n",
    "\n",
    "for myi in range(bins):\n",
    "    right = R_min + (myi+0)*step\n",
    "    bools_old = full_r<=right\n",
    "    bools_new = real_r<=right\n",
    "    \n",
    "    counts_cdf = np.append(counts_cdf, len(full_r[bools_old]))\n",
    "    counts_new_cdf = np.append(counts_new_cdf, len(real_r[bools_new]))\n",
    "    \n",
    "    r_right = np.append(r_right, right)\n",
    "    \n",
    "    #print(counts_cdf[myi],counts_new_cdf[myi])\n",
    "    #print(counts_cdf[myi]-counts_new_cdf[myi])\n",
    "shift=counts_cdf[0]-counts_new_cdf[0]\n",
    "#shift=0.004*len(real_r)\n",
    "#shift=fast_shift*len(real_r)\n",
    "counts_cdf=counts_cdf/counts_cdf.max()\n",
    "counts_new_cdf=counts_new_cdf+shift\n",
    "counts_new_cdf=counts_new_cdf/counts_new_cdf.max()\n",
    "\n",
    "    \n",
    "    "
   ]
  },
  {
   "cell_type": "code",
   "execution_count": null,
   "id": "c700ac56",
   "metadata": {},
   "outputs": [],
   "source": [
    "x = np.linspace(R_min,rmax,1000000)\n",
    "zeta=1.2#gamma+1\n",
    "norm=(rmax**(zeta))/((zeta)*r0**gamma)\n",
    "print('CDF normalization {}\\t Prefactor {}'.format(norm,1/norm))\n",
    "handmade_cdf=lambda x: (x**(zeta))/(rmax**(zeta))\n",
    "\n",
    "\n",
    "fig,ax = plt.subplots()\n",
    "fig.set_size_inches(18.5, 10.5)\n",
    "ax.set_xlabel('x')\n",
    "\n",
    "#ax.set_ylabel('probability density')\n",
    "\n",
    "ax.plot(x,handmade_cdf(x) ,color='g')\n",
    "plt.axvline(x=distcut)\n",
    "ax.scatter(r_right, counts_new_cdf , s=50, marker='+', c='r', zorder=10)\n",
    "ax.scatter(r_right, counts_cdf , s=20,marker='*', c='k', zorder=10)\n",
    "plt.grid(axis='y', alpha=0.75)\n",
    "plt.xlabel('Mpc/h')\n",
    "#plt.yscale('log')\n",
    "#plt.xscale('log')\n",
    "#plt.savefig('DS_cumulative.pdf')"
   ]
  },
  {
   "cell_type": "code",
   "execution_count": null,
   "id": "1c00ca77",
   "metadata": {},
   "outputs": [],
   "source": [
    "fig,ax = plt.subplots()\n",
    "fig.set_size_inches(18.5, 10.5)\n",
    "ax.set_xlabel('x')\n",
    "\n",
    "#ax.set_ylabel('probability density')\n",
    "\n",
    "#ax.plot(x,handmade_cdf(x) ,color='g')\n",
    "#plt.axvline(x=rmin)\n",
    "ax.scatter(r_right, counts_cdf-counts_new_cdf , s=10,marker='x', c='r', zorder=10)#diff between full dist and dist with r_cut\n",
    "ax.scatter(r_right, handmade_cdf(r_right)-counts_new_cdf , s=10,marker='x', c='g', zorder=10)#diff between cumulative and dist with r_cut\n",
    "plt.axhline(y=0, color='k', linestyle='-')\n",
    "#plt.ylim(bottom=-0.001,top=0.001)\n",
    "plt.grid(axis='y', alpha=0.75)\n",
    "plt.xlabel('Mpc/h')\n",
    "#plt.yscale('log')\n",
    "#plt.xscale('log')\n",
    "#plt.savefig('DS_cumulative.pdf')"
   ]
  },
  {
   "cell_type": "code",
   "execution_count": null,
   "id": "a9383032",
   "metadata": {},
   "outputs": [],
   "source": []
  },
  {
   "cell_type": "code",
   "execution_count": null,
   "id": "1f523415",
   "metadata": {},
   "outputs": [],
   "source": [
    "bins = 100\n",
    "freq_r = []\n",
    "r_center=[]\n",
    "step = real_r.max()/bins\n",
    "R_min = distcut\n",
    "left=R_min\n",
    "for myi in range(bins-1):\n",
    "    right = left+ (myi+1)*step\n",
    "    bools_left = left<real_r\n",
    "    bools_right=real_r<=right\n",
    "    bools_new= bools_left&bools_right\n",
    "    #print(bools_left,bools_right,bools_new)\n",
    "    freq_r = np.append(freq_r, len(real_r[bools_new]))\n",
    "    \n",
    "    r_center = np.append(r_center, left+step/2)\n",
    "    left=right"
   ]
  },
  {
   "cell_type": "code",
   "execution_count": null,
   "id": "761e24aa",
   "metadata": {},
   "outputs": [],
   "source": [
    "count= plt.hist(real_r, 100)#real_theta is cos(theta)"
   ]
  },
  {
   "cell_type": "code",
   "execution_count": null,
   "id": "2691a4c5",
   "metadata": {
    "scrolled": false
   },
   "outputs": [],
   "source": [
    "fig,ax = plt.subplots()\n",
    "fig.set_size_inches(18.5, 10.5)\n",
    "ax.set_xlabel('x')\n",
    "\n",
    "xx=count[1]\n",
    "xx=xx[:-1]\n",
    "yy=count[0]\n",
    "print(np.all(yy>20))\n",
    "yy_err=np.sqrt(yy)/yy.sum()\n",
    "yy=yy/yy.sum()\n",
    "\n",
    "arr_teo=target_dist(xx)\n",
    "arr_teo=arr_teo/arr_teo.sum()\n",
    "res=yy-arr_teo\n",
    "res2=(yy-arr_teo)/yy_err\n",
    "ax.scatter(xx,res , s=10,marker='x', c='b', zorder=10)\n",
    "plt.axhline(y=0, color='k', linestyle='-')\n",
    "plt.errorbar(xx, res, yerr=yy_err, fmt=\"+\")\n",
    "\n",
    "plt.grid(axis='y', alpha=0.75)\n",
    "plt.xlabel('Mpc/h')\n",
    "#plt.yscale('log')\n",
    "#plt.xscale('log')\n",
    "\n"
   ]
  },
  {
   "cell_type": "code",
   "execution_count": null,
   "id": "17dd9a6d",
   "metadata": {},
   "outputs": [],
   "source": [
    "\n",
    "fig,ax = plt.subplots()\n",
    "fig.set_size_inches(18.5, 10.5)\n",
    "ax.set_xlabel('x')\n",
    "ax.scatter(xx,res2 , s=10,marker='x', c='k', zorder=10)\n",
    "ax.fill_between(xx,1,-1,alpha=0.55, color='palegreen')\n",
    "\n",
    "plt.grid(axis='y', alpha=0.75)\n",
    "plt.xlabel('Mpc/h')\n",
    "plt.ylabel('Distance in sigma')\n",
    "#plt.yscale('log')\n",
    "#plt.xscale('log')\n"
   ]
  },
  {
   "cell_type": "code",
   "execution_count": null,
   "id": "b0176f3d",
   "metadata": {},
   "outputs": [],
   "source": [
    "#--------------------SDSS like-------------------------\n",
    "num_of_gal=np.array([1300,1300,500,800,800,1500,650,100,20,10])#Number of hosts in each z bin. \n",
    "sdss_bins=np.linspace(0,1,11)#bin Width \n",
    "#---------------Angular part--------------------------------\n",
    "#we need to cover only 30 squared degrees of sky. phi = U(0,phi_lim) cos_theta=U(1,cos_lim)\n",
    "#1 sq.deg.=(np.pi/180)**2 sr "
   ]
  },
  {
   "cell_type": "code",
   "execution_count": null,
   "id": "62468403",
   "metadata": {},
   "outputs": [],
   "source": [
    "alpha=30*(np.pi/180)**2\n",
    "phi_lim=(2*np.pi-alpha/2)/24#In this way phi_lim ~ theta_lim \n",
    "theta_lim=np.arccos(1-alpha/phi_lim)\n",
    "#print(phi_lim,theta_lim)\n",
    "all_phi=np.random.uniform(0,phi_lim,500000)\n",
    "all_cos=np.random.uniform(1,1-alpha/phi_lim,500000)\n",
    "print(phi_lim,theta_lim)"
   ]
  },
  {
   "cell_type": "code",
   "execution_count": 13,
   "id": "79b27c4e",
   "metadata": {},
   "outputs": [],
   "source": [
    "#--------------------GW--Rate-----------------------------------------\n",
    "#We will compute the gw rate from sratch \n",
    "#--------Star Formation Rate-------------------------------\n",
    "def gaussian(x, mu, sig):\n",
    "    return np.exp(-np.power(x - mu, 2.) / (2 * np.power(sig, 2.)))\n",
    "th=1000/cosmofast.H(0).value\n",
    "alpha=14/th\n",
    "def psi(x):\n",
    "    ret= 0.015*(((1+x)**(2.7))/(1+(((1+x)/(2.9))**(5.6))))\n",
    "    return ret\n",
    "#-------------Phi----------------------------\n",
    "#phi=lambda x:(1/((1+x)*(cosmofast.H(x).value)))\n",
    "def phi(x):\n",
    "    #N=14/((1/((1+0)*(cosmoglob.H(0).value))))\n",
    "    #ret=N*(1/((1+x)*(cosmoglob.H(x).value)))\n",
    "    ret=(1000/((1+x)*(cosmofast.H(x).value)))\n",
    "    return ret\n",
    "#--------------time inversion-------------------------\n",
    "def inverted_time(x):\n",
    "    #is the lookback_time use astropy\n",
    "    ret=cosmofast.age(0).value-cosmofast.age(x).value\n",
    "    return ret\n",
    "#----------------Decay--------------------------------\n",
    "def decay(x,z,tau):\n",
    "    ret=np.exp(-((cosmofast.lookback_time(x).value-cosmofast.lookback_time(z).value)/(tau)))\n",
    "    return ret\n",
    "#--------------time difference-------------------------\n",
    "def inversetimediff(x,z,tmin):\n",
    "    timediff=alpha*(cosmofast.age(z).value-cosmofast.age(x).value)\n",
    "    num=np.heaviside((alpha*cosmofast.age(z).value-alpha*cosmofast.age(x).value) -tmin,0.5)\n",
    "    res=(num)/timediff\n",
    "    return res\n",
    "#-------------------Deriv of Comoving Volume-------------\n",
    "def DvolDz(x):\n",
    "    prefactor=4*np.pi*(((clight)/(cosmofast.H(0).value))**3)#Mpc^3\n",
    "    dist=quad((cosmofast.inv_efunc),0,x)[0]\n",
    "    ret=prefactor*cosmofast.inv_efunc(x)*(dist**2)\n",
    "    return ret\n",
    "#def DeltavolDz(x_min,x_max):\n",
    "#    prefactor=4*np.pi*(((clight)/(cosmofast.H(0).value))**3)#Mpc^3\n",
    "#    dist=quad((cosmofast.inv_efunc),0,x)[0]\n",
    "#    ret=prefactor*cosmofast.inv_efunc(x)*(dist**2)\n",
    "#    return ret\n",
    "def astrodiffvol(x):\n",
    "    ret=cosmofast.differential_comoving_volume(x).value\n",
    "    return ret\n",
    "\n",
    "#------------------integrands------------------------------\n",
    "def integrand_suvo(x,z,tmin):\n",
    "    ret=psi(x)*(phi(x))*inversetimediff(x,z,tmin)/(1+z)\n",
    "    return ret\n",
    "def integrand_marr(x,z,tau):\n",
    "    ret=psi(x)*(phi(x))*decay(x,z,tau)\n",
    "    return ret\n",
    "def totalrate(z,tmin):\n",
    "    norm=50/(quad(integrand_marr,0,150,args=(0,tmin))[0]/tmin)\n",
    "    littlerate=norm*quad(integrand_marr,z,150,args=(z,tmin))[0]/tmin\n",
    "    ret=(littlerate*DvolDz(z))/(1+z)\n",
    "    return ret\n",
    "def Multy_Marra(zz):\n",
    "    z=zz\n",
    "    ret=Normaliz*(quad(integrand_marr,z,100,args=(z,tpar))[0]/tpar)\n",
    "    return ret"
   ]
  },
  {
   "cell_type": "code",
   "execution_count": 30,
   "id": "a576f766",
   "metadata": {},
   "outputs": [
    {
     "data": {
      "image/png": "[encoded data removed]",
      "text/plain": [
       "<Figure size 1332x756 with 1 Axes>"
      ]
     },
     "metadata": {
      "needs_background": "light"
     },
     "output_type": "display_data"
    }
   ],
   "source": [
    "z_for_plot=np.linspace(0,10,1000)\n",
    "fig,ax = plt.subplots()\n",
    "fig.set_size_inches(18.5, 10.5)\n",
    "plt.rcParams.update({'font.size': 25})\n",
    "ax.set_xlabel('redshift')\n",
    "ax.set_ylabel('SFR')\n",
    "ax.plot(z_for_plot,psi(z_for_plot),label='Mandau SFR')\n",
    "#plt.yscale('log')\n",
    "#plt.xscale('log')\n",
    "plt.grid(axis='y', alpha=0.75)\n",
    "plt.grid(axis='x', alpha=0.75)\n",
    "#plt.savefig('star_formation_rate.png')"
   ]
  },
  {
   "cell_type": "code",
   "execution_count": 17,
   "id": "b9f96d36",
   "metadata": {},
   "outputs": [
    {
     "data": {
      "image/png": "[encoded data removed]",
      "text/plain": [
       "<Figure size 1332x756 with 1 Axes>"
      ]
     },
     "metadata": {
      "needs_background": "light"
     },
     "output_type": "display_data"
    }
   ],
   "source": [
    "z_for_plot=np.linspace(0,10,1000)\n",
    "fig,ax = plt.subplots()\n",
    "fig.set_size_inches(18.5, 10.5)\n",
    "ax.set_xlabel('redshift')\n",
    "ax.set_ylabel('Phi')\n",
    "ax.plot(z_for_plot,phi(z_for_plot),label='Mandau SFR')\n",
    "#plt.yscale('log')\n",
    "#plt.xscale('log')\n",
    "plt.grid(axis='y', alpha=0.75)\n",
    "plt.grid(axis='x', alpha=0.75)"
   ]
  },
  {
   "cell_type": "code",
   "execution_count": 18,
   "id": "017d8ec1",
   "metadata": {},
   "outputs": [
    {
     "data": {
      "image/png": "[encoded data removed]",
      "text/plain": [
       "<Figure size 1332x756 with 1 Axes>"
      ]
     },
     "metadata": {
      "needs_background": "light"
     },
     "output_type": "display_data"
    }
   ],
   "source": [
    "z_for_plot=np.linspace(0,10,1000)\n",
    "fig,ax = plt.subplots()\n",
    "fig.set_size_inches(18.5, 10.5)\n",
    "ax.set_xlabel('redshift')\n",
    "ax.set_ylabel('SFR')\n",
    "ax.plot(z_for_plot,inversetimediff(z_for_plot,4,0.1),label='Mandau SFR')\n",
    "#plt.yscale('log')\n",
    "#plt.xscale('log')\n",
    "plt.grid(axis='y', alpha=0.75)\n",
    "plt.grid(axis='x', alpha=0.75)"
   ]
  },
  {
   "cell_type": "code",
   "execution_count": 19,
   "id": "532f9782",
   "metadata": {},
   "outputs": [
    {
     "data": {
      "image/png": "[encoded data removed]",
      "text/plain": [
       "<Figure size 1332x756 with 1 Axes>"
      ]
     },
     "metadata": {
      "needs_background": "light"
     },
     "output_type": "display_data"
    }
   ],
   "source": [
    "z_for_plot=np.linspace(0,10,1000)\n",
    "fig,ax = plt.subplots()\n",
    "fig.set_size_inches(18.5, 10.5)\n",
    "ax.set_xlabel('redshift')\n",
    "ax.set_ylabel('SFR')\n",
    "ax.plot(z_for_plot,decay(z_for_plot,0.5,5),label='Mandau SFR')\n",
    "#plt.yscale('log')\n",
    "#plt.xscale('log')\n",
    "plt.grid(axis='y', alpha=0.75)\n",
    "plt.grid(axis='x', alpha=0.75)"
   ]
  },
  {
   "cell_type": "code",
   "execution_count": 28,
   "id": "ed5cac83",
   "metadata": {},
   "outputs": [],
   "source": [
    "z_min=0\n",
    "z_max=z_min+100\n",
    "tpar=5\n",
    "#--------Normalization (z=0,N*R(z=0)=25)----------------------------\n",
    "Normaliz=50/(quad(integrand_marr,z_min,z_max,args=(z_min,tpar))[0]/tpar)\n",
    "#print(Normaliz)\n",
    "#-------------loop for the plot------------------------------------\n",
    "z_plot_max=10\n",
    "ZZ=np.linspace(z_min,z_plot_max,100)\n",
    "ratetoplot=np.zeros(len(ZZ))\n",
    "for i in range(len(ZZ)):\n",
    "    #Normaliz=25/quad(integrand,z_min,z_max,args=(z_min,tstart))[0]\n",
    "    ratetoplot[i]=Normaliz*(quad(integrand_marr,ZZ[i],ZZ[i]+100,args=(ZZ[i],tpar))[0]/tpar)"
   ]
  },
  {
   "cell_type": "code",
   "execution_count": 32,
   "id": "3a0d54ef",
   "metadata": {
    "scrolled": false
   },
   "outputs": [
    {
     "data": {
      "image/png": "[encoded data removed]",
      "text/plain": [
       "<Figure size 1332x756 with 1 Axes>"
      ]
     },
     "metadata": {
      "needs_background": "light"
     },
     "output_type": "display_data"
    }
   ],
   "source": [
    "fig,ax = plt.subplots()\n",
    "fig.set_size_inches(18.5, 10.5)\n",
    "ax.set_xlabel('redshift')\n",
    "ax.set_ylabel('Comoving Rate')\n",
    "#test=ratetoplot\n",
    "#test01=ratetoplot01\n",
    "ax.plot(ZZ,ratetoplot,label='Comoving Rate')\n",
    "#plt.yscale('log')\n",
    "#plt.xscale('log')\n",
    "plt.grid(axis='y', alpha=0.75)\n",
    "plt.grid(axis='x', alpha=0.75)\n",
    "plt.savefig('marra_comoving_rate.png')"
   ]
  },
  {
   "cell_type": "code",
   "execution_count": null,
   "id": "83d6136e",
   "metadata": {},
   "outputs": [],
   "source": [
    "#arrtest=np.linspace(0,10,10)\n",
    "#mydiffvol=np.zeros(len(arrtest))\n",
    "#for i in range(len(mydiffvol)):\n",
    "#    mydiffvol[i]=DvolDz(arrtest[i])\n",
    "#astrodiffvol=cosmoglob.differential_comoving_volume(arrtest).value\n",
    "#residuals=mydiffvol-astrodiffvol\n",
    "#print(residuals)"
   ]
  },
  {
   "cell_type": "code",
   "execution_count": null,
   "id": "7fa3ea95",
   "metadata": {},
   "outputs": [],
   "source": [
    "#-------------------Normalisation for the total rate---------------\n"
   ]
  },
  {
   "cell_type": "code",
   "execution_count": 36,
   "id": "4acab2eb",
   "metadata": {},
   "outputs": [],
   "source": [
    "z_min=0\n",
    "tpar=5\n",
    "#-------------loop for the plot------------------------------------\n",
    "z_plot_max=3\n",
    "norm=50/totalrate(0.220,5)#just from the plot on the paper\n",
    "ZZ=np.linspace(z_min,z_plot_max,100)\n",
    "totalratetoplot=np.zeros(len(ZZ))\n",
    "for i in range(len(ZZ)):\n",
    "    totalratetoplot[i]=norm*totalrate(ZZ[i],tpar)"
   ]
  },
  {
   "cell_type": "code",
   "execution_count": 39,
   "id": "dda7c49a",
   "metadata": {},
   "outputs": [
    {
     "data": {
      "image/png": "[encoded data removed]",
      "text/plain": [
       "<Figure size 1332x756 with 1 Axes>"
      ]
     },
     "metadata": {
      "needs_background": "light"
     },
     "output_type": "display_data"
    }
   ],
   "source": [
    "fig,ax = plt.subplots()\n",
    "fig.set_size_inches(18.5, 10.5)\n",
    "ax.set_xlabel('redshift')\n",
    "ax.set_ylabel('R')\n",
    "#test=ratetoplot\n",
    "#test01=ratetoplot01\n",
    "ax.plot(ZZ,totalratetoplot,label='Rate')\n",
    "#plt.yscale('log')\n",
    "#plt.xscale('log')\n",
    "plt.grid(axis='y', alpha=0.75)\n",
    "plt.grid(axis='x', alpha=0.75)\n",
    "plt.savefig('marra_rate.png')"
   ]
  },
  {
   "cell_type": "code",
   "execution_count": null,
   "id": "67e77aa4",
   "metadata": {},
   "outputs": [],
   "source": [
    "peack=np.argmax(totalratetoplot)\n",
    "res=ZZ[peack]\n",
    "print(res)"
   ]
  },
  {
   "cell_type": "code",
   "execution_count": null,
   "id": "c82c0113",
   "metadata": {},
   "outputs": [],
   "source": [
    "#----------------x-Check with Mathematica------------------------\n",
    "near=np.linspace(0,20,100)\n",
    "pyres=cosmofast.H(near).value\n",
    "hmath=np.array([70.,77.3499,86.5951,97.5695,110.086,123.972,139.078,155.282,172.486,190.61,209.588,229.368,249.903,271.157,293.098,315.697,338.93,362.775,387.213,412.228,437.802,463.922,490.576,517.75,545.434,573.616,602.289,631.442,661.066,691.155,721.699,752.693,784.129,816.,848.3,881.024,914.165,947.719,981.68,1016.04,1050.8,1085.95,1121.49,1157.42,1193.72,1230.4,1267.45,1304.87,1342.65,1380.79,1419.29,1458.15,1497.35,1536.9,1576.8,1617.04,1657.61,1698.52,1739.77,1781.34,1823.24,1865.47,1908.01,1950.88,1994.07,2037.57,2081.38,2125.5,2169.94,2214.68,2259.72,2305.06,2350.71,2396.65,2442.89,2489.42,2536.25,2583.37,2630.77,2678.46,2726.44,2774.7,2823.25,2872.07,2921.17,2970.55,3020.21,3070.14,3120.34,3170.81,3221.55,3272.56,3323.84,3375.38,3427.19,3479.26,3531.59,3584.18,3637.03,3690.14])\n",
    "to_plot=(1-(pyres/hmath))\n",
    "fig,ax = plt.subplots()\n",
    "fig.set_size_inches(18.5, 10.5)\n",
    "ax.set_xlabel('redshift')\n",
    "ax.set_ylabel('Residuals')\n",
    "ax.plot(near,to_plot,label='Residuals')\n",
    "#plt.yscale('log')\n",
    "#plt.xscale('log')\n",
    "plt.grid(axis='y', alpha=0.75)\n",
    "plt.grid(axis='x', alpha=0.75)\n",
    "#plt.savefig('HofzResiduals.pdf')"
   ]
  },
  {
   "cell_type": "code",
   "execution_count": null,
   "id": "3e27338c",
   "metadata": {},
   "outputs": [],
   "source": [
    "#############################################################################################\n",
    "###############--------DS-spatial-coordinates-###############################################\n",
    "#############################################################################################\n",
    "\n",
    "#Restrict the angular coordinate to be those of the flagship\n",
    "phi_min=df.ra_gal.min()#*np.pi/180\n",
    "phi_max=df.ra_gal.max()#*np.pi/180\n",
    "theta_min=df.dec_gal.min()#*np.pi/180\n",
    "theta_max=df.dec_gal.max()#*np.pi/180\n",
    "#Restrict to the right redshift interval\n",
    "z_min=df.true_redshift_gal.min()\n",
    "z_max=df.true_redshift_gal.max()\n",
    "print('phi_min={}, phi_max={}, \\ntheta_min={}, theta_max{}, \\nz_min{}, z_max={}'\n",
    "      .format(phi_min,phi_max,theta_min,theta_max,z_min,z_max))\n",
    "#ds_phi=np.random.uniform(0,phi_lim,500000)\n",
    "ang_epsilon=0.1\n",
    "red_epsilon=0.01\n",
    "temp_phi=np.random.uniform(phi_min,phi_max,100000)#degrees\n",
    "temp_theta=np.random.uniform(theta_min,theta_max,100000)#degrees\n",
    "temp_z_values=np.loadtxt('redshift_MC.txt')\n",
    "two_point_radii=np.loadtxt('two_point_radii.txt')\n",
    "two_point_radii_cutted=np.loadtxt('two_point_radii_cutted.txt')"
   ]
  },
  {
   "cell_type": "code",
   "execution_count": null,
   "id": "0262ea49",
   "metadata": {},
   "outputs": [],
   "source": [
    "#----------------MC-rejection-with-CDF RedShift--------------------\n",
    "redo=0\n",
    "if redo==1:\n",
    "    tpar=5\n",
    "    #--------Normalization (z=0,N*R(z=0)=50)----------------------------\n",
    "    Normaliz=50/(quad(integrand_marr,0,100,args=(0,tpar))[0]/tpar)\n",
    "    #print(Normaliz)\n",
    "    #-------------loop------------------------------------\n",
    "    ZZ=np.linspace(z_min,z_max,500000)\n",
    "    temprate=np.zeros(len(ZZ))\n",
    "    start_time = time.time()\n",
    "    with Pool(35) as p:\n",
    "        temprate=p.map(Multy_Marra, ZZ)\n",
    "    print(\"--- %s seconds ---\" % (time.time() - start_time))\n",
    "    #target function\n",
    "    rate_dist=interpolate.interp1d(ZZ,temprate)\n",
    "    ToSave=return_samples(rate_dist,z_min,z_max,500000)\n",
    "    np.savetxt('redshift_MC.txt',ToSave)\n"
   ]
  },
  {
   "cell_type": "code",
   "execution_count": null,
   "id": "73060d3a",
   "metadata": {},
   "outputs": [],
   "source": []
  },
  {
   "cell_type": "code",
   "execution_count": null,
   "id": "d3fbf3f2",
   "metadata": {},
   "outputs": [],
   "source": [
    "x = np.linspace(z_min,z_max,1000000)\n",
    "fig,ax = plt.subplots()\n",
    "fig.set_size_inches(18.5, 10.5)\n",
    "ax.set_xlabel('x')\n",
    "ax.set_ylabel('probability density')\n",
    "ax.plot(x,rate_dist(x)/np.sum(rate_dist(x)*(x[1]-x[0])) )\n",
    "#ax.plot(x,target_dist(x)/norm ) #slow\n",
    "ax.hist(temp_z_values,bins='auto',density=True,range=(x.min(),x.max()))\n",
    "plt.grid(axis='y', alpha=0.75)\n",
    "plt.xlabel('Redshift')\n",
    "plt.ylabel('Frequency')\n",
    "plt.yscale('log')\n",
    "plt.xscale('log')\n",
    "plt.title('z distribution')\n",
    "plt.show() "
   ]
  },
  {
   "cell_type": "code",
   "execution_count": null,
   "id": "192d648d",
   "metadata": {},
   "outputs": [],
   "source": [
    "one_phi=np.random.choice(temp_phi)\n",
    "one_theta=np.random.choice(temp_theta)\n",
    "one_zeta=np.random.choice(temp_z_values)\n",
    "df_candidates=df\n",
    "print('phi={}, theta={}, z={}'.format(one_phi,one_theta,one_zeta))"
   ]
  },
  {
   "cell_type": "code",
   "execution_count": null,
   "id": "f871e7ae",
   "metadata": {},
   "outputs": [],
   "source": [
    "\n",
    "#Create a list of possible host\n",
    "k=1\n",
    "#print(df_candidates.empty)\n",
    "while True:\n",
    "    df_candidates=df[(df['ra_gal']>one_phi-k*ang_epsilon) & (df['ra_gal']<one_phi+k*ang_epsilon)]\n",
    "    df_candidates=df_candidates[(df_candidates['dec_gal']>one_theta-k*ang_epsilon) & (df_candidates['dec_gal']<one_theta+k*ang_epsilon)]\n",
    "    df_candidates=df_candidates[(df_candidates['true_redshift_gal']>one_zeta-k*red_epsilon) & (df_candidates['true_redshift_gal']<one_zeta+k*red_epsilon)]\n",
    "    if df_candidates.empty:\n",
    "        print('possible host dataframe is empty, I will increase the tollerance')\n",
    "        k=k+1 \n",
    "    if (df_candidates.empty==False):\n",
    "        break\n",
    "#Raul: given a point in space, find nearest N host given the list\n",
    "df_candidates=df_candidates.reset_index(drop=True)\n",
    "if (df_candidates.shape[0]==1):\n",
    "    unique_host=df_candidates.head(1)\n",
    "\n",
    "if (df_candidates.shape[0]>1):\n",
    "    parameterdist=np.zeros(df_candidates.shape[0])\n",
    "    for index, row in df_candidates.iterrows():\n",
    "        parameterdist[index]=np.sqrt((row['dec_gal']-one_theta)**2+(row['ra_gal']-one_phi)**2+(row['true_redshift_gal']-one_zeta)**2)\n",
    "    df_candidates['parameterdist']=parameterdist\n",
    "    df_candidates=df_candidates.sort_values([\"parameterdist\"], ascending=True) \n",
    "    unique_host=df_candidates.head(1)\n",
    "#Now, for each value of angles and z, we select a single host\n"
   ]
  },
  {
   "cell_type": "code",
   "execution_count": null,
   "id": "d1300a96",
   "metadata": {},
   "outputs": [],
   "source": [
    "x_host=unique_host['x_gal'].values[0]#/h\n",
    "y_host=unique_host['y_gal'].values[0]#/h\n",
    "z_host=unique_host['z_gal'].values[0]#/h\n",
    "pp=np.random.uniform(0,2*np.pi)\n",
    "costt=np.random.uniform(-1,1)\n",
    "tt=np.arccos(costt)\n",
    "distcut=0.1*h\n",
    "while True:\n",
    "    r=np.random.choice(two_point_radii)\n",
    "    if(r>=distcut):\n",
    "        break\n",
    "xx=r*np.sin(tt)*np.cos(pp)\n",
    "yy=r*np.sin(tt)*np.sin(pp)\n",
    "zz=r*np.sin(tt)*np.cos(pp)\n",
    "xDS=x_host+xx\n",
    "yDS=y_host+yy\n",
    "zDS=z_host+zz"
   ]
  },
  {
   "cell_type": "code",
   "execution_count": null,
   "id": "c1288f2a",
   "metadata": {},
   "outputs": [],
   "source": [
    "print(xDS,yDS,zDS)"
   ]
  },
  {
   "cell_type": "code",
   "execution_count": null,
   "id": "a0f1477d",
   "metadata": {},
   "outputs": [],
   "source": [
    "unique_host"
   ]
  },
  {
   "cell_type": "code",
   "execution_count": null,
   "id": "4f3c9623",
   "metadata": {
    "scrolled": false
   },
   "outputs": [],
   "source": [
    "#--Absolute number of DS per year use the total rate (dN/dzdt) for a single year--------------#\n",
    "#--integrate the rate in a given z range and then iterate the creation rotune that many times-#\n"
   ]
  },
  {
   "cell_type": "code",
   "execution_count": null,
   "id": "106ba25f",
   "metadata": {},
   "outputs": [],
   "source": [
    "#-------------A more fine evaluation for interpolation-------------------------\n",
    "z_plot_max=3\n",
    "tpar=5\n",
    "norm=50/totalrate(0.220,5)#just from the plot on the paper\n",
    "ZZ=np.linspace(df.true_redshift_gal.min(),df.true_redshift_gal.max(),1000)\n",
    "totalratetoplot=np.zeros(len(ZZ))\n",
    "for i in range(len(ZZ)):\n",
    "    totalratetoplot[i]=norm*totalrate(ZZ[i],tpar)\n"
   ]
  },
  {
   "cell_type": "code",
   "execution_count": null,
   "id": "31fc23cd",
   "metadata": {},
   "outputs": [],
   "source": [
    "rate_interpol=interpolate.interp1d(ZZ,totalratetoplot)"
   ]
  },
  {
   "cell_type": "code",
   "execution_count": null,
   "id": "430d179b",
   "metadata": {},
   "outputs": [],
   "source": [
    "tempx=np.linspace(ZZ.min(),ZZ.max(),1500)\n",
    "fig,ax = plt.subplots()\n",
    "fig.set_size_inches(18.5, 10.5)\n",
    "ax.set_xlabel('redshift')\n",
    "ax.set_ylabel('RateGW')\n",
    "#test=ratetoplot\n",
    "#test01=ratetoplot01\n",
    "#ax.plot(ZZ,totalratetoplot,label='RateGW',color='k')\n",
    "#ax.scatter(ZZ,rate_interpol(ZZ),color='g',s=50,marker='+')\n",
    "ax.plot(tempx,rate_interpol(tempx),label='RateGW',color='k')\n",
    "#plt.yscale('log')\n",
    "#plt.xscale('log')\n",
    "plt.grid(axis='y', alpha=0.75)\n",
    "plt.grid(axis='x', alpha=0.75)"
   ]
  },
  {
   "cell_type": "code",
   "execution_count": null,
   "id": "1075536e",
   "metadata": {},
   "outputs": [],
   "source": [
    "nbins_rate=151\n",
    "step_rate=(df.true_redshift_gal.max()-df.true_redshift_gal.min())/nbins_rate\n",
    "arr_of_int_lim=np.linspace(df.true_redshift_gal.min(),df.true_redshift_gal.max(),nbins_rate)\n"
   ]
  },
  {
   "cell_type": "code",
   "execution_count": null,
   "id": "e1b5810a",
   "metadata": {},
   "outputs": [],
   "source": [
    "Numb_DS_of_z=np.zeros(len(arr_of_int_lim)-1)\n",
    "for i in range(nbins_rate-1):\n",
    "    #volmult=DvolDz(arr_of_int_lim[i+1])-DvolDz(arr_of_int_lim[i])\n",
    "    Numb_DS_of_z[i]=quad(rate_interpol,arr_of_int_lim[i],arr_of_int_lim[i+1])[0]#*volmult"
   ]
  },
  {
   "cell_type": "code",
   "execution_count": null,
   "id": "ebd74c8a",
   "metadata": {},
   "outputs": [],
   "source": [
    "#-----now assign an integer value, remember to sometimes put more ds so use round\n",
    "radphimin=deg_to_rad(phi_min)\n",
    "radphimax=deg_to_rad(phi_max)\n",
    "radthetamin=deg_to_rad(theta_min)\n",
    "radthetamax=deg_to_rad(theta_max)\n",
    "angular_part=(radphimax-radphimin)*(-(np.cos(radthetamax)-np.cos(radthetamin)))\n",
    "#print(angular_part)\n",
    "Numb_DS_of_z=Numb_DS_of_z*angular_part*1000#this is just a factor to create a more populated catalogue\n",
    "Numb_DS_of_z_int=np.around(Numb_DS_of_z)\n"
   ]
  },
  {
   "cell_type": "code",
   "execution_count": null,
   "id": "98f073b7",
   "metadata": {},
   "outputs": [],
   "source": [
    "#np.savetxt('arr_of_int_lim.txt',arr_of_int_lim)\n",
    "#np.savetxt('Numb_DS_of_z_int.txt',Numb_DS_of_z_int)"
   ]
  },
  {
   "cell_type": "code",
   "execution_count": 5,
   "id": "70448545",
   "metadata": {},
   "outputs": [
    {
     "name": "stdout",
     "output_type": "stream",
     "text": [
      "Index(['Host_x', 'Host_y', 'Host_z', 'Host_redshift', 'DS_x', 'DS_y', 'DS_z',\n",
      "       'DS_redshift', 'cos_orbital_incl', 'M1', 'M2', 'q'],\n",
      "      dtype='object')\n",
      "(515652, 12)\n"
     ]
    }
   ],
   "source": [
    "dat = Table.read('EVA01.fits', format='fits')\n",
    "dscat = dat.to_pandas()#all good, is an only text fits\n",
    "print(dscat.columns)\n",
    "print(dscat.shape)"
   ]
  },
  {
   "cell_type": "code",
   "execution_count": null,
   "id": "3cd88df7",
   "metadata": {},
   "outputs": [],
   "source": []
  },
  {
   "cell_type": "code",
   "execution_count": null,
   "id": "9bb297f6",
   "metadata": {},
   "outputs": [],
   "source": []
  }
 ],
 "metadata": {
  "kernelspec": {
   "display_name": "Python 3 (ipykernel)",
   "language": "python",
   "name": "python3"
  },
  "language_info": {
   "codemirror_mode": {
    "name": "ipython",
    "version": 3
   },
   "file_extension": ".py",
   "mimetype": "text/x-python",
   "name": "python",
   "nbconvert_exporter": "python",
   "pygments_lexer": "ipython3",
   "version": "3.10.4"
  }
 },
 "nbformat": 4,
 "nbformat_minor": 5
}
