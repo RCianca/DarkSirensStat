{
 "cells": [
  {
   "cell_type": "code",
   "execution_count": 1,
   "id": "9fe99f37",
   "metadata": {},
   "outputs": [],
   "source": [
    "import numpy as np\n",
    "import matplotlib.pyplot as plt\n",
    "import pandas as pd\n",
    "from numpy.random import random\n",
    "\n",
    "from scipy.integrate import quad\n",
    "from scipy import constants\n",
    "from scipy import interpolate\n",
    "\n",
    "from astropy.cosmology import Planck18\n",
    "from astropy.cosmology import FlatLambdaCDM\n",
    "from astropy.io import fits\n",
    "from astropy.table import Table\n",
    "\n",
    "from multiprocessing import Pool\n",
    "import time\n",
    "from tqdm import tqdm\n",
    "\n",
    "###########################\n",
    "# CONSTANTS\n",
    "###########################\n",
    "H0GLOB= 67#69.32#67.9 #69\n",
    "Om0GLOB=0.319\n",
    "Xi0Glob =1.\n",
    "clight = 2.99792458* 10**5#km/s\n",
    "cosmoglob = Planck18\n",
    "cosmofast = FlatLambdaCDM(H0=H0GLOB, Om0=Om0GLOB)\n",
    "H0=cosmoglob.H(0).value\n",
    "h=H0GLOB/100\n",
    "#geometrization of masses\n",
    "Msun=(1.98892)*(10**30)\n",
    "solarmass_to_m=(constants.G*Msun)/((constants.c)**2)#G/c^2\n",
    "Mpc_to_m=3.08567758128*(10**22) #this will be used later\n",
    "#-------miscellanea-----------------------\n",
    "xmax=100\n",
    "ymax=100\n",
    "zmax=100\n",
    "half_box_size=2\n",
    "\n",
    "Npoints=1000\n",
    "Sigma=10\n",
    "#----------------from distances to redshift----------------------\n",
    "zz=np.linspace(0,10,50000)\n",
    "distinterpol=(1+zz)*cosmofast.comoving_distance(zz).value\n",
    "z_of_dl=interpolate.interp1d(distinterpol,zz)\n",
    "distinterpol_dc=cosmofast.comoving_distance(zz).value\n",
    "z_of_dc=interpolate.interp1d(distinterpol_dc,zz)"
   ]
  },
  {
   "cell_type": "code",
   "execution_count": 2,
   "id": "2f2240b6",
   "metadata": {},
   "outputs": [],
   "source": [
    "#-----------rejection-stuff------------\n",
    "def sample(g,xmin,xmax):\n",
    "    x = np.linspace(xmin,xmax,1000000)\n",
    "    y = g(x)                        # probability density function, pdf\n",
    "    cdf_y = np.cumsum(y)            # cumulative distribution function, cdf\n",
    "    cdf_y = cdf_y/cdf_y.max()       # takes care of normalizing cdf to 1.0\n",
    "    inverse_cdf = interpolate.interp1d(cdf_y,x,fill_value=\"extrapolate\")# this is a function\n",
    "    #inverse_cdf = np.interp(0,cdf_y,x) #this works but it is not a function\n",
    "    return inverse_cdf\n",
    "def return_samples(f,xmin,xmax,N=1000000):\n",
    "    # let's generate some samples according to the chosen pdf, f(x)\n",
    "    uniform_samples = random(int(N))       \n",
    "    required_samples = sample(f,xmin,xmax)(uniform_samples)\n",
    "    return required_samples"
   ]
  },
  {
   "cell_type": "code",
   "execution_count": 3,
   "id": "5c298fbd",
   "metadata": {},
   "outputs": [],
   "source": [
    "#------------1/8 of master catalogue------------#\n",
    "def NewPlacer(redslice):\n",
    "    one_phi=np.random.choice(temp_phi)\n",
    "    one_theta=np.random.choice(temp_theta)\n",
    "    one_zeta=np.random.choice(redslice)\n",
    "    df_candidates=df\n",
    "    #Create a list of possible host\n",
    "    k=1\n",
    "    #print(df_candidates.empty)\n",
    "    while True:\n",
    "        df_candidates=df[(df['ra_gal']>one_phi-k*ang_epsilon) & (df['ra_gal']<one_phi+k*ang_epsilon)]\n",
    "        df_candidates=df_candidates[(df_candidates['dec_gal']>one_theta-k*ang_epsilon) & (df_candidates['dec_gal']<one_theta+k*ang_epsilon)]\n",
    "        df_candidates=df_candidates[(df_candidates['true_redshift_gal']>one_zeta-k*red_epsilon) & (df_candidates['true_redshift_gal']<one_zeta+k*red_epsilon)]\n",
    "        if df_candidates.empty:\n",
    "            k=k+1 \n",
    "        if (df_candidates.empty==False):\n",
    "            break\n",
    "    #Raul: given a point in space, find nearest N host given the list\n",
    "    df_candidates=df_candidates.reset_index(drop=True)\n",
    "    if (df_candidates.shape[0]==1):\n",
    "        unique_host=df_candidates.head(1)\n",
    "\n",
    "    if (df_candidates.shape[0]>1):\n",
    "        parameterdist=np.zeros(df_candidates.shape[0])\n",
    "        for index, row in df_candidates.iterrows():\n",
    "            parameterdist[index]=np.sqrt((row['dec_gal']-one_theta)**2+(row['ra_gal']-one_phi)**2+(row['true_redshift_gal']-one_zeta)**2)\n",
    "        df_candidates['parameterdist']=parameterdist\n",
    "        df_candidates=df_candidates.sort_values([\"parameterdist\"], ascending=True) \n",
    "        unique_host=df_candidates.head(1)\n",
    "    #Now, for each value of angles and z, we select a single host\n",
    "    x_host=unique_host['x_gal'].values[0]/h\n",
    "    y_host=unique_host['y_gal'].values[0]/h\n",
    "    z_host=unique_host['z_gal'].values[0]/h\n",
    "    pp=np.random.uniform(0,2*np.pi)\n",
    "    costt=np.random.uniform(-1,1)\n",
    "    tt=np.arccos(costt)\n",
    "    r=np.random.choice(two_point_radii_cutted)\n",
    "    #distcut=0.1\n",
    "    #while True:\n",
    "    #    r=np.random.choice(two_point_radii)\n",
    "    #    if(r>=distcut):\n",
    "    #        break\n",
    "    xx=r*np.sin(tt)*np.cos(pp)/h\n",
    "    yy=r*np.sin(tt)*np.sin(pp)/h\n",
    "    zz=r*np.cos(tt)/h\n",
    "    xDS=x_host+xx\n",
    "    yDS=y_host+yy\n",
    "    zDS=z_host+zz\n",
    "    Redshift_host=unique_host['true_redshift_gal'].values[0]\n",
    "    dsdistnoh=np.sqrt(xDS**2+yDS**2+zDS**2)#real comoving distance\n",
    "    Redshift_DS=z_of_dc(dsdistnoh)\n",
    "    return(x_host,y_host,z_host,Redshift_host,xDS,yDS,zDS,Redshift_DS)\n",
    "def spoiler(redshift_positions,number_of_DS):\n",
    "    Host_x_todf=[]\n",
    "    Host_y_todf=[]\n",
    "    Host_z_todf=[]\n",
    "    Host_redshift_todf=[]\n",
    "    DS_x_todf=[]\n",
    "    DS_y_todf=[]\n",
    "    DS_z_todf=[]\n",
    "    DS_redshift_todf=[]\n",
    "    retdf=pd.DataFrame()\n",
    "    print('I am Working')\n",
    "    for i in range (len(redshift_positions)-1):\n",
    "        zmin=redshift_positions[i]\n",
    "        zmax=redshift_positions[i+1]\n",
    "        num=int(number_of_DS[i])\n",
    "        #print('i={}'.format(i))\n",
    "        for k in range(num):\n",
    "            #if k==0:\n",
    "            #    print(k)\n",
    "            #if (k%100==0):\n",
    "            #    print(k)\n",
    "            tempred=temp_z_values[(temp_z_values>=zmin)&(temp_z_values<=zmax)]\n",
    "            flybie=NewPlacer(tempred)\n",
    "            Host_x_todf=np.append(Host_x_todf,flybie[0])\n",
    "            Host_y_todf=np.append(Host_y_todf,flybie[1])\n",
    "            Host_z_todf=np.append(Host_z_todf,flybie[2])\n",
    "            Host_redshift_todf=np.append(Host_redshift_todf,flybie[3])\n",
    "            DS_x_todf=np.append(DS_x_todf,flybie[4])\n",
    "            DS_y_todf=np.append(DS_y_todf,flybie[5])\n",
    "            DS_z_todf=np.append(DS_z_todf,flybie[6])\n",
    "            DS_redshift_todf=np.append(DS_redshift_todf,flybie[7])\n",
    "    data=[Host_x_todf,Host_y_todf,Host_z_todf,Host_redshift_todf,DS_x_todf,DS_y_todf,DS_z_todf,DS_redshift_todf]\n",
    "    #print(len(Host_x_todf),len(Host_y_todf),len(Host_y_todf),len(Host_redshift_todf),len(DS_x_todf),len(DS_y_todf),len(DS_z_todf),len(DS_redshift_todf))\n",
    "    mycol=['Host_x','Host_y','Host_z','Host_redshift','DS_x','DS_y','DS_z','DS_redshift']\n",
    "    for n in range(len(mycol)):\n",
    "        retdf[mycol[n]]=data[n]\n",
    "    return retdf"
   ]
  },
  {
   "cell_type": "code",
   "execution_count": 4,
   "id": "6fe2c0dd",
   "metadata": {},
   "outputs": [],
   "source": [
    "#----------------Other columns-----------------------------\n",
    "#cos_i=np.random.uniform(-1,1,EVA00.shape[0])\n",
    "def primary_mass(m):\n",
    "    if (m<40):\n",
    "        massprob=lambda m: m**(-1.5)\n",
    "        ret=massprob(m)\n",
    "        return ret\n",
    "    if ((m>=40)*(m<80)):\n",
    "        massprob=lambda m: ((40)**(-1.5))*(40**5)*m**(-5)\n",
    "        ret=massprob(m)\n",
    "        return ret\n",
    "    if ((m>=80)*(m<=120)):\n",
    "        massprob=lambda m: m*0\n",
    "        ret=massprob(m)\n",
    "        return ret\n",
    "    if (m>120):\n",
    "        massprob=lambda m: 1/m\n",
    "        ret=massprob(m)\n",
    "        return ret\n",
    "    return\n",
    "#---------This is the correct way to extract from a piecewise distribution!\n",
    "m = np.linspace(5,10000,10000000)\n",
    "lowm=np.linspace(5,80,100000)\n",
    "highm=np.linspace(120,10000,100000)\n",
    "f1 = lambda m: m**(-1.5)\n",
    "f2 = lambda m: ((40)**(-1.5))*(40**5)*m**(-5)\n",
    "f3 = lambda m: m*0\n",
    "f4 = lambda m: (((40)**(-1.5))*(40**5)*120**(-5))*(120)*1/m\n",
    "fx = np.piecewise(m, [(m<40), (m>=40) * (m<80), (m>=80) * (m<120),(m>=120)], [f1,f2,f3,f4])\n",
    "Mass_dist=interpolate.interp1d(m,fx,fill_value=\"extrapolate\") #distribution as a function\n",
    "f_low=np.piecewise(lowm, [(lowm<40), (lowm>=40) * (lowm<80)], [f1,f2])\n",
    "low_mass_dist=interpolate.interp1d(lowm,f_low,fill_value=\"extrapolate\")\n",
    "def secondary_mass(m):\n",
    "    if (m<=80):\n",
    "        while True:\n",
    "            q=np.random.choice(arr_low_q)\n",
    "            m2=m*q\n",
    "            if (m2>1.2):\n",
    "                break\n",
    "    if (m>=119):\n",
    "        while True:\n",
    "            q=np.random.choice(arr_high_q)\n",
    "            m2=m*q\n",
    "            if (m2>1.2):\n",
    "                break\n",
    "    return q,m2"
   ]
  },
  {
   "cell_type": "code",
   "execution_count": 5,
   "id": "70bcf74a",
   "metadata": {},
   "outputs": [],
   "source": [
    "arrlow=return_samples(low_mass_dist,5,80,10000000)\n",
    "arrhigh=return_samples(f4,120,10000,10000000)"
   ]
  },
  {
   "cell_type": "code",
   "execution_count": 6,
   "id": "d0f470ee",
   "metadata": {},
   "outputs": [],
   "source": [
    "#primarymasses=np.zeros(EVA00.shape[0])\n",
    "#for i in range(dscat.shape[0]):\n",
    "#    primarymasses[i]=np.random.choice(MassValues)\n",
    "#EVA00['M1']=primarymasses\n",
    "#arrq=np.zeros(dscat.shape[0])\n",
    "#secondarymasses=np.zeros(dscat.shape[0])\n",
    "#for i in range(dscat.shape[0]):\n",
    "#    arrq[i],secondarymasses[i]=secondary_mass(primarymasses[i])\n",
    "low_q=lambda q: 1/q\n",
    "high_q=lambda q: np.sqrt(q)\n",
    "arr_low_q=return_samples(low_q,0.1,1,10000000)\n",
    "arr_high_q=return_samples(high_q,0.1,1,10000000)\n",
    "#MassValues=return_samples(vprimary_mass,5,10000,10000000)"
   ]
  },
  {
   "cell_type": "code",
   "execution_count": 8,
   "id": "b231f23d",
   "metadata": {},
   "outputs": [
    {
     "name": "stdout",
     "output_type": "stream",
     "text": [
      "Index(['ra_gal', 'dec_gal', 'observed_redshift_gal', 'true_redshift_gal',\n",
      "       'x_gal', 'y_gal', 'z_gal', 'vx_gal', 'vy_gal', 'vz_gal'],\n",
      "      dtype='object')\n",
      "(14047533, 10)\n"
     ]
    }
   ],
   "source": [
    "#------------read the flagship-------------------------------------\n",
    "dat = Table.read('11536.fits', format='fits')\n",
    "df = dat.to_pandas()#all good, is an only text fits\n",
    "print(df.columns)\n",
    "print(df.shape)"
   ]
  },
  {
   "cell_type": "code",
   "execution_count": 9,
   "id": "31aa7b60",
   "metadata": {},
   "outputs": [
    {
     "name": "stdout",
     "output_type": "stream",
     "text": [
      "phi_min=1.558116673550103e-05, phi_max=89.99999237060547, \n",
      "theta_min=89.98294830322266, theta_max2.9646462280652486e-06, \n",
      "z_min0.7887375950813293, z_max=2.0129446983337402\n"
     ]
    }
   ],
   "source": [
    "#############################################################################################\n",
    "###############--------DS-spatial-coordinates-###############################################\n",
    "#############################################################################################\n",
    "def theta_from_dec(dec):\n",
    "    theta = 0.5 * np.pi - np.deg2rad(dec)\n",
    "    return theta\n",
    "def phi_from_ra(ra):\n",
    "    phi = np.deg2rad(ra)\n",
    "    return phi\n",
    "\n",
    "#Restrict the angular coordinate to be those of the flagship\n",
    "phi_min=df.ra_gal.min()#*np.pi/180\n",
    "phi_max=df.ra_gal.max()#*np.pi/180\n",
    "theta_min=df.dec_gal.max()#*np.pi/180\n",
    "theta_max=df.dec_gal.min()#*np.pi/180\n",
    "#Restrict to the right redshift interval\n",
    "z_min=df.true_redshift_gal.min()\n",
    "z_max=df.true_redshift_gal.max()\n",
    "print('phi_min={}, phi_max={}, \\ntheta_min={}, theta_max{}, \\nz_min{}, z_max={}'\n",
    "      .format(phi_min,phi_max,theta_min,theta_max,z_min,z_max))\n",
    "#ds_phi=np.random.uniform(0,phi_lim,500000)\n",
    "ang_epsilon=0.1\n",
    "red_epsilon=0.01\n",
    "temp_phi=np.random.uniform(phi_min,phi_max,100000)#degrees\n",
    "temp_theta=np.random.uniform(theta_min,theta_max,100000)#degrees\n",
    "temp_z_values=np.loadtxt('redshift_MC.txt')\n",
    "two_point_radii=np.loadtxt('two_point_radii.txt')\n",
    "two_point_radii_cutted=np.loadtxt('two_point_radii_cutted.txt')\n",
    "Numb_DS_of_z_int=np.loadtxt('Numb_DS_of_z_int.txt')\n",
    "arr_of_int_lim=np.loadtxt('arr_of_int_lim.txt')"
   ]
  },
  {
   "cell_type": "code",
   "execution_count": 36,
   "id": "03943aab",
   "metadata": {},
   "outputs": [
    {
     "name": "stdout",
     "output_type": "stream",
     "text": [
      "[1.35997382 1.4213846  0.93162331 ... 1.53754882 0.94912969 1.02662421]\n"
     ]
    }
   ],
   "source": [
    "print(temp_z_values)"
   ]
  },
  {
   "cell_type": "code",
   "execution_count": 19,
   "id": "71617b74",
   "metadata": {},
   "outputs": [
    {
     "name": "stdout",
     "output_type": "stream",
     "text": [
      "0.7887376 2.0129447\n"
     ]
    }
   ],
   "source": [
    "z_min=df.true_redshift_gal.min()\n",
    "z_max=df.true_redshift_gal.max()\n",
    "print(z_min,z_max)"
   ]
  },
  {
   "cell_type": "code",
   "execution_count": 37,
   "id": "e00690e1",
   "metadata": {
    "scrolled": true
   },
   "outputs": [
    {
     "name": "stdout",
     "output_type": "stream",
     "text": [
      "I am Working\n",
      "i=0\n",
      "--- 278.5862846374512 seconds ---\n"
     ]
    }
   ],
   "source": [
    "start_time = time.time()\n",
    "with Pool(14) as p:\n",
    "    EVA00=spoiler(arr_of_int_lim[0:2],Numb_DS_of_z_int[0:2])\n",
    "print(\"--- %s seconds ---\" % ((time.time() - start_time)))"
   ]
  },
  {
   "cell_type": "code",
   "execution_count": 40,
   "id": "6d0f766a",
   "metadata": {},
   "outputs": [
    {
     "data": {
      "text/html": [
       "<div>\n",
       "<style scoped>\n",
       "    .dataframe tbody tr th:only-of-type {\n",
       "        vertical-align: middle;\n",
       "    }\n",
       "\n",
       "    .dataframe tbody tr th {\n",
       "        vertical-align: top;\n",
       "    }\n",
       "\n",
       "    .dataframe thead th {\n",
       "        text-align: right;\n",
       "    }\n",
       "</style>\n",
       "<table border=\"1\" class=\"dataframe\">\n",
       "  <thead>\n",
       "    <tr style=\"text-align: right;\">\n",
       "      <th></th>\n",
       "      <th>Host_x</th>\n",
       "      <th>Host_y</th>\n",
       "      <th>Host_z</th>\n",
       "      <th>Host_redshift</th>\n",
       "      <th>DS_x</th>\n",
       "      <th>DS_y</th>\n",
       "      <th>DS_z</th>\n",
       "      <th>DS_redshift</th>\n",
       "    </tr>\n",
       "  </thead>\n",
       "  <tbody>\n",
       "    <tr>\n",
       "      <th>0</th>\n",
       "      <td>1924.717781</td>\n",
       "      <td>2153.966921</td>\n",
       "      <td>387.238095</td>\n",
       "      <td>0.810544</td>\n",
       "      <td>1923.383352</td>\n",
       "      <td>2149.669349</td>\n",
       "      <td>384.342210</td>\n",
       "      <td>0.808953</td>\n",
       "    </tr>\n",
       "    <tr>\n",
       "      <th>1</th>\n",
       "      <td>2414.102765</td>\n",
       "      <td>1067.476187</td>\n",
       "      <td>1257.642148</td>\n",
       "      <td>0.813926</td>\n",
       "      <td>2413.405166</td>\n",
       "      <td>1065.702482</td>\n",
       "      <td>1249.333336</td>\n",
       "      <td>0.812206</td>\n",
       "    </tr>\n",
       "    <tr>\n",
       "      <th>2</th>\n",
       "      <td>2544.563316</td>\n",
       "      <td>1245.236069</td>\n",
       "      <td>767.834108</td>\n",
       "      <td>0.817974</td>\n",
       "      <td>2543.840458</td>\n",
       "      <td>1244.825692</td>\n",
       "      <td>764.220843</td>\n",
       "      <td>0.817345</td>\n",
       "    </tr>\n",
       "    <tr>\n",
       "      <th>3</th>\n",
       "      <td>1894.181801</td>\n",
       "      <td>2095.688914</td>\n",
       "      <td>573.913164</td>\n",
       "      <td>0.799150</td>\n",
       "      <td>1895.679214</td>\n",
       "      <td>2090.159397</td>\n",
       "      <td>577.107335</td>\n",
       "      <td>0.798298</td>\n",
       "    </tr>\n",
       "    <tr>\n",
       "      <th>4</th>\n",
       "      <td>2260.156797</td>\n",
       "      <td>1103.516445</td>\n",
       "      <td>1490.133075</td>\n",
       "      <td>0.813772</td>\n",
       "      <td>2261.628362</td>\n",
       "      <td>1098.920403</td>\n",
       "      <td>1493.467066</td>\n",
       "      <td>0.814169</td>\n",
       "    </tr>\n",
       "  </tbody>\n",
       "</table>\n",
       "</div>"
      ],
      "text/plain": [
       "        Host_x       Host_y       Host_z  Host_redshift         DS_x  \\\n",
       "0  1924.717781  2153.966921   387.238095       0.810544  1923.383352   \n",
       "1  2414.102765  1067.476187  1257.642148       0.813926  2413.405166   \n",
       "2  2544.563316  1245.236069   767.834108       0.817974  2543.840458   \n",
       "3  1894.181801  2095.688914   573.913164       0.799150  1895.679214   \n",
       "4  2260.156797  1103.516445  1490.133075       0.813772  2261.628362   \n",
       "\n",
       "          DS_y         DS_z  DS_redshift  \n",
       "0  2149.669349   384.342210     0.808953  \n",
       "1  1065.702482  1249.333336     0.812206  \n",
       "2  1244.825692   764.220843     0.817345  \n",
       "3  2090.159397   577.107335     0.798298  \n",
       "4  1098.920403  1493.467066     0.814169  "
      ]
     },
     "execution_count": 40,
     "metadata": {},
     "output_type": "execute_result"
    }
   ],
   "source": [
    "EVA00.head()"
   ]
  },
  {
   "cell_type": "code",
   "execution_count": 39,
   "id": "169936a8",
   "metadata": {},
   "outputs": [
    {
     "name": "stdout",
     "output_type": "stream",
     "text": [
      "Index(['ra_gal', 'dec_gal', 'observed_redshift_gal', 'true_redshift_gal',\n",
      "       'x_gal', 'y_gal', 'z_gal', 'vx_gal', 'vy_gal', 'vz_gal'],\n",
      "      dtype='object')\n"
     ]
    }
   ],
   "source": [
    "dat = Table.read('11536.fits', format='fits')\n",
    "tmp = dat.to_pandas()#all good, is an only text fits\n",
    "print(tmp.columns)"
   ]
  },
  {
   "cell_type": "code",
   "execution_count": 84,
   "id": "73eb3500",
   "metadata": {},
   "outputs": [
    {
     "name": "stdout",
     "output_type": "stream",
     "text": [
      "is there\n",
      "[ 5163309  8708614 11333421]\n"
     ]
    }
   ],
   "source": [
    "ztocheck=np.asarray(tmp['true_redshift_gal'])\n",
    "value=0.810544\n",
    "if value in ztocheck: print('is there')\n",
    "idx=np.where(ztocheck == value)[0]\n",
    "print(idx)\n",
    "#for i in idx:\n",
    "mytmp=tmp.loc[idx]"
   ]
  },
  {
   "cell_type": "code",
   "execution_count": 79,
   "id": "3c90a236",
   "metadata": {},
   "outputs": [
    {
     "name": "stdout",
     "output_type": "stream",
     "text": [
      "[1123.18     949.22784]\n"
     ]
    }
   ],
   "source": [
    "xhost=np.asarray(mytmp['x_gal'])\n",
    "print(xhost/h)"
   ]
  },
  {
   "cell_type": "code",
   "execution_count": 81,
   "id": "edc293d5",
   "metadata": {},
   "outputs": [
    {
     "data": {
      "text/html": [
       "<div>\n",
       "<style scoped>\n",
       "    .dataframe tbody tr th:only-of-type {\n",
       "        vertical-align: middle;\n",
       "    }\n",
       "\n",
       "    .dataframe tbody tr th {\n",
       "        vertical-align: top;\n",
       "    }\n",
       "\n",
       "    .dataframe thead th {\n",
       "        text-align: right;\n",
       "    }\n",
       "</style>\n",
       "<table border=\"1\" class=\"dataframe\">\n",
       "  <thead>\n",
       "    <tr style=\"text-align: right;\">\n",
       "      <th></th>\n",
       "      <th>ra_gal</th>\n",
       "      <th>dec_gal</th>\n",
       "      <th>observed_redshift_gal</th>\n",
       "      <th>true_redshift_gal</th>\n",
       "      <th>x_gal</th>\n",
       "      <th>y_gal</th>\n",
       "      <th>z_gal</th>\n",
       "      <th>vx_gal</th>\n",
       "      <th>vy_gal</th>\n",
       "      <th>vz_gal</th>\n",
       "    </tr>\n",
       "  </thead>\n",
       "  <tbody>\n",
       "    <tr>\n",
       "      <th>3095991</th>\n",
       "      <td>48.217018</td>\n",
       "      <td>7.635353</td>\n",
       "      <td>0.808387</td>\n",
       "      <td>0.810544</td>\n",
       "      <td>1289.560913</td>\n",
       "      <td>1443.157837</td>\n",
       "      <td>259.449524</td>\n",
       "      <td>-339.953003</td>\n",
       "      <td>-223.057358</td>\n",
       "      <td>240.848755</td>\n",
       "    </tr>\n",
       "    <tr>\n",
       "      <th>9264590</th>\n",
       "      <td>28.916197</td>\n",
       "      <td>61.169052</td>\n",
       "      <td>1.533489</td>\n",
       "      <td>1.534361</td>\n",
       "      <td>1289.560913</td>\n",
       "      <td>712.351562</td>\n",
       "      <td>2676.373291</td>\n",
       "      <td>223.748245</td>\n",
       "      <td>-249.300903</td>\n",
       "      <td>-159.311768</td>\n",
       "    </tr>\n",
       "  </tbody>\n",
       "</table>\n",
       "</div>"
      ],
      "text/plain": [
       "            ra_gal    dec_gal  observed_redshift_gal  true_redshift_gal  \\\n",
       "3095991  48.217018   7.635353               0.808387           0.810544   \n",
       "9264590  28.916197  61.169052               1.533489           1.534361   \n",
       "\n",
       "               x_gal        y_gal        z_gal      vx_gal      vy_gal  \\\n",
       "3095991  1289.560913  1443.157837   259.449524 -339.953003 -223.057358   \n",
       "9264590  1289.560913   712.351562  2676.373291  223.748245 -249.300903   \n",
       "\n",
       "             vz_gal  \n",
       "3095991  240.848755  \n",
       "9264590 -159.311768  "
      ]
     },
     "execution_count": 81,
     "metadata": {},
     "output_type": "execute_result"
    }
   ],
   "source": [
    "mytmp.head()"
   ]
  },
  {
   "cell_type": "code",
   "execution_count": 83,
   "id": "69560e2e",
   "metadata": {},
   "outputs": [
    {
     "data": {
      "text/plain": [
       "2153.9669208955224"
      ]
     },
     "execution_count": 83,
     "metadata": {},
     "output_type": "execute_result"
    }
   ],
   "source": [
    "1443.157837/h"
   ]
  },
  {
   "cell_type": "code",
   "execution_count": null,
   "id": "74a3f82b",
   "metadata": {},
   "outputs": [],
   "source": [
    "#t = Table.from_pandas(EVA00)\n",
    "#t.write('EVA00.fits', overwrite=True)"
   ]
  },
  {
   "cell_type": "code",
   "execution_count": null,
   "id": "7af7ed7f",
   "metadata": {},
   "outputs": [],
   "source": [
    "effective_primary_masses=np.loadtxt('effective_primary_masses.txt')\n",
    "orbital_inclination=np.loadtxt('cos_inclination.txt')\n",
    "mass_ratio=np.loadtxt('mass_ratio.txt')\n",
    "secondaryMasses=np.loadtxt('secondaryMasses.txt')\n",
    "#psitosave=np.random.uniform(0,2*np.pi,dscat.shape[0])\n",
    "#np.savetxt('allpsi.txt',psitosave)\n",
    "psi=np.loadtxt('allpsi.txt')"
   ]
  },
  {
   "cell_type": "code",
   "execution_count": null,
   "id": "e750c054",
   "metadata": {},
   "outputs": [],
   "source": [
    "#cos_orbital_incl', 'M1', 'M2', 'q'\n",
    "EVA00['cos_orbital_incl']=orbital_inclination\n",
    "EVA00['M1']=effective_primary_masses\n",
    "EVA00['M2']=secondaryMasses\n",
    "EVA00['q']=mass_ratio\n",
    "EVA00['psi']=psi"
   ]
  },
  {
   "cell_type": "code",
   "execution_count": 86,
   "id": "c551437d",
   "metadata": {},
   "outputs": [],
   "source": [
    "#t = Table.from_pandas(EVA00)\n",
    "#t.write('EVA01.fits', overwrite=True)\n",
    "dat = Table.read('EVA02.fits', format='fits')\n",
    "tempdf = dat.to_pandas()#all good, is an only text fits\n"
   ]
  },
  {
   "cell_type": "code",
   "execution_count": null,
   "id": "95365c24",
   "metadata": {},
   "outputs": [],
   "source": [
    "MassValues=return_samples(Mass_dist,5,10000,10**9)"
   ]
  },
  {
   "cell_type": "code",
   "execution_count": 10,
   "id": "1808bab6",
   "metadata": {},
   "outputs": [
    {
     "name": "stdout",
     "output_type": "stream",
     "text": [
      "Index(['Host_x', 'Host_y', 'Host_z', 'Host_redshift', 'DS_x', 'DS_y', 'DS_z',\n",
      "       'DS_redshift', 'cos_orbital_incl', 'M1', 'M2', 'q', 'psi', 'Aproximant',\n",
      "       'SNR'],\n",
      "      dtype='object')\n"
     ]
    }
   ],
   "source": [
    "##################################################à#############\n",
    "##########        TEST    ######################################\n",
    "################################################################\n",
    "dat = Table.read('EVA02.fits', format='fits')\n",
    "dscat = dat.to_pandas()#all good, is an only text fits\n",
    "print(dscat.columns)"
   ]
  },
  {
   "cell_type": "code",
   "execution_count": 11,
   "id": "6fb00eb1",
   "metadata": {},
   "outputs": [
    {
     "data": {
      "text/html": [
       "<div>\n",
       "<style scoped>\n",
       "    .dataframe tbody tr th:only-of-type {\n",
       "        vertical-align: middle;\n",
       "    }\n",
       "\n",
       "    .dataframe tbody tr th {\n",
       "        vertical-align: top;\n",
       "    }\n",
       "\n",
       "    .dataframe thead th {\n",
       "        text-align: right;\n",
       "    }\n",
       "</style>\n",
       "<table border=\"1\" class=\"dataframe\">\n",
       "  <thead>\n",
       "    <tr style=\"text-align: right;\">\n",
       "      <th></th>\n",
       "      <th>Host_x</th>\n",
       "      <th>Host_y</th>\n",
       "      <th>Host_z</th>\n",
       "      <th>Host_redshift</th>\n",
       "      <th>DS_x</th>\n",
       "      <th>DS_y</th>\n",
       "      <th>DS_z</th>\n",
       "      <th>DS_redshift</th>\n",
       "      <th>cos_orbital_incl</th>\n",
       "      <th>M1</th>\n",
       "      <th>M2</th>\n",
       "      <th>q</th>\n",
       "      <th>psi</th>\n",
       "      <th>Aproximant</th>\n",
       "      <th>SNR</th>\n",
       "    </tr>\n",
       "  </thead>\n",
       "  <tbody>\n",
       "    <tr>\n",
       "      <th>0</th>\n",
       "      <td>651.933995</td>\n",
       "      <td>402.188065</td>\n",
       "      <td>2806.954546</td>\n",
       "      <td>0.808803</td>\n",
       "      <td>651.933995</td>\n",
       "      <td>402.188065</td>\n",
       "      <td>2806.954546</td>\n",
       "      <td>0.808803</td>\n",
       "      <td>0.793474</td>\n",
       "      <td>10.569518</td>\n",
       "      <td>5.143687</td>\n",
       "      <td>0.486653</td>\n",
       "      <td>2.550917</td>\n",
       "      <td>b'IMRPhenomD'</td>\n",
       "      <td>96.279798</td>\n",
       "    </tr>\n",
       "    <tr>\n",
       "      <th>1</th>\n",
       "      <td>1901.947841</td>\n",
       "      <td>477.181005</td>\n",
       "      <td>2147.676656</td>\n",
       "      <td>0.808301</td>\n",
       "      <td>1901.947841</td>\n",
       "      <td>477.181005</td>\n",
       "      <td>2147.676656</td>\n",
       "      <td>0.808301</td>\n",
       "      <td>-0.615400</td>\n",
       "      <td>26.536605</td>\n",
       "      <td>5.515256</td>\n",
       "      <td>0.207836</td>\n",
       "      <td>3.274064</td>\n",
       "      <td>b'IMRPhenomD'</td>\n",
       "      <td>81.336203</td>\n",
       "    </tr>\n",
       "    <tr>\n",
       "      <th>2</th>\n",
       "      <td>792.327061</td>\n",
       "      <td>2056.292634</td>\n",
       "      <td>1873.462461</td>\n",
       "      <td>0.802654</td>\n",
       "      <td>796.891722</td>\n",
       "      <td>2051.491963</td>\n",
       "      <td>1868.765822</td>\n",
       "      <td>0.800800</td>\n",
       "      <td>0.228812</td>\n",
       "      <td>38.501322</td>\n",
       "      <td>29.412304</td>\n",
       "      <td>0.763930</td>\n",
       "      <td>3.479153</td>\n",
       "      <td>b'IMRPhenomD'</td>\n",
       "      <td>114.008069</td>\n",
       "    </tr>\n",
       "    <tr>\n",
       "      <th>3</th>\n",
       "      <td>2566.548362</td>\n",
       "      <td>58.913997</td>\n",
       "      <td>1323.989640</td>\n",
       "      <td>0.801273</td>\n",
       "      <td>2571.261103</td>\n",
       "      <td>58.839892</td>\n",
       "      <td>1319.617234</td>\n",
       "      <td>0.802053</td>\n",
       "      <td>0.694977</td>\n",
       "      <td>14.085194</td>\n",
       "      <td>1.642785</td>\n",
       "      <td>0.116632</td>\n",
       "      <td>4.078907</td>\n",
       "      <td>b'IMRPhenomD'</td>\n",
       "      <td>29.901415</td>\n",
       "    </tr>\n",
       "    <tr>\n",
       "      <th>4</th>\n",
       "      <td>1165.316454</td>\n",
       "      <td>2573.915761</td>\n",
       "      <td>575.600923</td>\n",
       "      <td>0.799466</td>\n",
       "      <td>1165.316454</td>\n",
       "      <td>2573.915761</td>\n",
       "      <td>575.600923</td>\n",
       "      <td>0.799466</td>\n",
       "      <td>-0.838562</td>\n",
       "      <td>5.332573</td>\n",
       "      <td>2.141039</td>\n",
       "      <td>0.401502</td>\n",
       "      <td>2.813217</td>\n",
       "      <td>b'IMRPhenomD'</td>\n",
       "      <td>22.195059</td>\n",
       "    </tr>\n",
       "  </tbody>\n",
       "</table>\n",
       "</div>"
      ],
      "text/plain": [
       "        Host_x       Host_y       Host_z  Host_redshift         DS_x  \\\n",
       "0   651.933995   402.188065  2806.954546       0.808803   651.933995   \n",
       "1  1901.947841   477.181005  2147.676656       0.808301  1901.947841   \n",
       "2   792.327061  2056.292634  1873.462461       0.802654   796.891722   \n",
       "3  2566.548362    58.913997  1323.989640       0.801273  2571.261103   \n",
       "4  1165.316454  2573.915761   575.600923       0.799466  1165.316454   \n",
       "\n",
       "          DS_y         DS_z  DS_redshift  cos_orbital_incl         M1  \\\n",
       "0   402.188065  2806.954546     0.808803          0.793474  10.569518   \n",
       "1   477.181005  2147.676656     0.808301         -0.615400  26.536605   \n",
       "2  2051.491963  1868.765822     0.800800          0.228812  38.501322   \n",
       "3    58.839892  1319.617234     0.802053          0.694977  14.085194   \n",
       "4  2573.915761   575.600923     0.799466         -0.838562   5.332573   \n",
       "\n",
       "          M2         q       psi     Aproximant         SNR  \n",
       "0   5.143687  0.486653  2.550917  b'IMRPhenomD'   96.279798  \n",
       "1   5.515256  0.207836  3.274064  b'IMRPhenomD'   81.336203  \n",
       "2  29.412304  0.763930  3.479153  b'IMRPhenomD'  114.008069  \n",
       "3   1.642785  0.116632  4.078907  b'IMRPhenomD'   29.901415  \n",
       "4   2.141039  0.401502  2.813217  b'IMRPhenomD'   22.195059  "
      ]
     },
     "execution_count": 11,
     "metadata": {},
     "output_type": "execute_result"
    }
   ],
   "source": [
    "dscat.head()"
   ]
  },
  {
   "cell_type": "code",
   "execution_count": 31,
   "id": "6c822bd8",
   "metadata": {},
   "outputs": [],
   "source": [
    "#-----------Primary Mass----------------------------------------\n",
    "masstoprob=np.linspace(5,10000,100000)\n",
    "norm=quad(Mass_dist,5,10000)[0]\n",
    "realmasstest=dscat['M1']\n",
    "q=dscat['q']"
   ]
  },
  {
   "cell_type": "code",
   "execution_count": 13,
   "id": "17564012",
   "metadata": {},
   "outputs": [
    {
     "data": {
      "text/plain": [
       "515652"
      ]
     },
     "execution_count": 13,
     "metadata": {},
     "output_type": "execute_result"
    }
   ],
   "source": [
    "dscat.shape[0]"
   ]
  },
  {
   "cell_type": "code",
   "execution_count": null,
   "id": "699ca99c",
   "metadata": {},
   "outputs": [],
   "source": []
  },
  {
   "cell_type": "code",
   "execution_count": 43,
   "id": "e7cc4402",
   "metadata": {},
   "outputs": [
    {
     "data": {
      "image/png": "[encoded data removed]",
      "text/plain": [
       "<Figure size 1080x720 with 1 Axes>"
      ]
     },
     "metadata": {
      "needs_background": "light"
     },
     "output_type": "display_data"
    }
   ],
   "source": [
    "fig, ax = plt.subplots(1, figsize=(15,10)) #crea un tupla che poi è più semplice da gestire\n",
    "ax.tick_params(axis='both', which='major', labelsize=25)\n",
    "ax.yaxis.get_offset_text().set_fontsize(25)\n",
    "\n",
    "\n",
    "ax.grid(linestyle='dotted', linewidth='0.6')#griglia in sfondo\n",
    "\n",
    "ax.set_xlabel(r'$q$', fontsize=30)\n",
    "#ax.set_ylabel(r'$P(H_0)$', fontsize=20)\n",
    "ax.set_ylabel(r'$P(q)$', fontsize=30)\n",
    "#ax.set_xlim(5000, np.max(realmasstest))\n",
    "\n",
    "#ax.plot(masstoprob,Mass_dist(masstoprob)/norm,label='ProbMass',color='r')\n",
    "myhist=plt.hist(q,bins=50,density=True)\n",
    "plt.yscale('log')\n",
    "plt.xscale('log')\n",
    "ax.tick_params(axis='both', which='major', labelsize=25)\n",
    "plt.savefig('qdistribution_log.png')"
   ]
  },
  {
   "cell_type": "code",
   "execution_count": null,
   "id": "b7669c5a",
   "metadata": {},
   "outputs": [],
   "source": [
    "tempdf=dscat.loc[(dscat['M1'] >= 80) & (dscat['M1'] <= 90)]\n",
    "tempdf.shape"
   ]
  },
  {
   "cell_type": "code",
   "execution_count": null,
   "id": "e3dc61b9",
   "metadata": {},
   "outputs": [],
   "source": [
    "fig,ax = plt.subplots()\n",
    "fig.set_size_inches(18.5, 10.5)\n",
    "plt.rcParams.update({'font.size': 25})\n",
    "#ax.plot(masstoprob,Mass_dist(masstoprob)/norm,label='ProbMass',color='r')\n",
    "myhist=plt.hist(realmasstest,bins=np.logspace(np.log10(5),np.log10(10000),150))\n",
    "plt.grid(axis='y', alpha=0.75)\n",
    "plt.xlabel('Mass/Msun')\n",
    "plt.ylabel('PDF')\n",
    "plt.title('Mass Dist')\n",
    "plt.yscale('log')\n",
    "plt.xscale('log')\n",
    "plt.savefig('2P-dist.png')"
   ]
  },
  {
   "cell_type": "code",
   "execution_count": null,
   "id": "3c3eedb1",
   "metadata": {},
   "outputs": [],
   "source": [
    "bins=np.logspace(np.log10(5),np.log10(10000),150)\n",
    "primo=bins[1]-bins[0]\n",
    "ultimo=bins[-1]-bins[-2]\n",
    "binwhidt=(10000-5)/500\n",
    "lowmass=dscat.loc[(dscat['M1'] >= 5) & (dscat['M1'] <= 5+binwhidt)]\n",
    "highmass=dscat.loc[(dscat['M1'] >= 10000-binwhidt) & (dscat['M1'] <= 10000)]\n",
    "print(lowmass.shape[0],highmass.shape[0])\n",
    "print(highmass.shape[0]/lowmass.shape[0])\n",
    "print(primo,ultimo)\n",
    "loglowmass=dscat.loc[(dscat['M1'] >= 5) & (dscat['M1'] <= 5+primo)]\n",
    "loghighmass=dscat.loc[(dscat['M1'] >= 10000-ultimo) & (dscat['M1'] <= 10000)]\n",
    "print(loglowmass.shape[0],loghighmass.shape[0])\n",
    "print(loghighmass.shape[0]/loglowmass.shape[0])"
   ]
  },
  {
   "cell_type": "code",
   "execution_count": null,
   "id": "42f2c7d5",
   "metadata": {},
   "outputs": [],
   "source": [
    "#---------Mass Ratio-------------------------------------------\n",
    "low_q=lambda q: 1/q\n",
    "high_q=lambda q: np.sqrt(q)"
   ]
  },
  {
   "cell_type": "code",
   "execution_count": null,
   "id": "d6ecacb9",
   "metadata": {},
   "outputs": [],
   "source": [
    "tempdf=dscat.loc[(dscat['M1'] >= 4) & (dscat['M1'] <= 90)]"
   ]
  },
  {
   "cell_type": "code",
   "execution_count": null,
   "id": "38877315",
   "metadata": {},
   "outputs": [],
   "source": [
    "testlowq=tempdf['q']"
   ]
  },
  {
   "cell_type": "code",
   "execution_count": null,
   "id": "f6e71a15",
   "metadata": {},
   "outputs": [],
   "source": [
    "qtemp=np.linspace(0.1,1,100000)\n",
    "tempnorm=quad(low_q,0.1,1)[0]\n",
    "fig,ax = plt.subplots()\n",
    "fig.set_size_inches(18.5, 10.5)\n",
    "plt.rcParams.update({'font.size': 25})\n",
    "ax.plot(qtemp,low_q(qtemp)/tempnorm,label='Low ratio',color='r')\n",
    "myhist=plt.hist(testlowq,bins='auto',density=True)\n",
    "plt.grid(axis='y', alpha=0.75)\n",
    "plt.xlabel('mass ratio')\n",
    "plt.ylabel('PDF')\n",
    "plt.title('Mass Ratio')\n",
    "plt.yscale('log')\n",
    "plt.xscale('log')"
   ]
  },
  {
   "cell_type": "code",
   "execution_count": null,
   "id": "60d7c4b2",
   "metadata": {},
   "outputs": [],
   "source": [
    "tempdf=dscat.loc[(dscat['M1'] >= 119)]\n",
    "testhighq=tempdf['q']\n",
    "qtemp=np.linspace(0.1,1,100000)\n",
    "tempnorm=quad(high_q,0.1,1)[0]\n",
    "fig,ax = plt.subplots()\n",
    "fig.set_size_inches(18.5, 10.5)\n",
    "plt.rcParams.update({'font.size': 25})\n",
    "ax.plot(qtemp,high_q(qtemp)/tempnorm,label='Low ratio',color='r')\n",
    "myhist=plt.hist(testhighq,bins='auto',density=True)\n",
    "plt.grid(axis='y', alpha=0.75)\n",
    "plt.xlabel('mass ratio')\n",
    "plt.ylabel('Prob Density')\n",
    "plt.title('Mass Ratio')\n",
    "plt.yscale('log')\n",
    "plt.xscale('log')"
   ]
  },
  {
   "cell_type": "code",
   "execution_count": null,
   "id": "f0015c69",
   "metadata": {},
   "outputs": [],
   "source": [
    "dist_diff=np.zeros(dscat.shape[0])\n",
    "temphostx=dscat['Host_x']\n",
    "temphosty=dscat['Host_y']\n",
    "temphostz=dscat['Host_z']\n",
    "tempdsx=dscat['DS_x']\n",
    "tempdsy=dscat['DS_y']\n",
    "tempdsz=dscat['DS_z']\n",
    "for i in range(dscat.shape[0]):\n",
    "    dist_diff[i]=np.sqrt((temphostx[i]-tempdsx[i])**2+(temphosty[i]-tempdsy[i])**2+(temphostz[i]-tempdsz[i])**2)\n",
    "    "
   ]
  },
  {
   "cell_type": "code",
   "execution_count": null,
   "id": "2591a3fd",
   "metadata": {},
   "outputs": [],
   "source": [
    "r0=5\n",
    "gamma=0.2\n",
    "rmin=0\n",
    "distcut=0.1\n",
    "rmax=10\n",
    "#target function\n",
    "r_dist= lambda r: (r/r0)**(gamma)\n",
    "\n",
    "x = np.linspace(0.1,rmax,1000000)\n",
    "tempnorm=quad(r_dist,distcut,rmax)[0]\n",
    "plt.rcParams.update({'font.size': 23})\n",
    "fig,ax = plt.subplots()\n",
    "fig.set_size_inches(18.5, 10.5)\n",
    "plt.rcParams.update({'font.size': 25})\n",
    "ax.plot(x,r_dist(x)/(tempnorm),label='Comulative rad',color='r')\n",
    "#ax.plot(rtemp,r_dist(rtemp),label='',color='r')\n",
    "myhist=plt.hist(dist_diff,bins='auto',density=True)\n",
    "plt.grid(axis='y', alpha=0.75)\n",
    "plt.xlabel('distance from host Mpc')\n",
    "plt.ylabel('PDF-shell')\n",
    "plt.title('2P distribution on a shell')\n",
    "\n",
    "plt.yscale('log')\n",
    "plt.xscale('log')\n",
    "#plt.savefig('2P-dist.png')"
   ]
  },
  {
   "cell_type": "code",
   "execution_count": 39,
   "id": "edf7d25d",
   "metadata": {},
   "outputs": [],
   "source": [
    "#---------------------Merging------------------------------\n",
    "dat = Table.read('EVA02.fits', format='fits')\n",
    "tomerge = dat.to_pandas()\n",
    "hx=np.array(tomerge['Host_x'])\n",
    "hy=np.array(tomerge['Host_y'])\n",
    "hz=np.array(tomerge['Host_z'])\n",
    "hred=np.array(tomerge['Host_redshift'])\n",
    "dx=np.array(tomerge['DS_x'])\n",
    "dy=np.array(tomerge['DS_y'])\n",
    "dz=np.array(tomerge['DS_z'])\n",
    "dred=np.array(tomerge['DS_redshift'])\n",
    "rhost=np.zeros(tomerge.shape[0])\n",
    "rds=np.zeros(tomerge.shape[0])\n",
    "new_dx=np.zeros(tomerge.shape[0])\n",
    "new_dy=np.zeros(tomerge.shape[0])\n",
    "new_dz=np.zeros(tomerge.shape[0])\n",
    "new_dred=np.zeros(tomerge.shape[0])\n",
    "merged=np.zeros(tomerge.shape[0])"
   ]
  },
  {
   "cell_type": "code",
   "execution_count": 44,
   "id": "363474be",
   "metadata": {},
   "outputs": [
    {
     "name": "stderr",
     "output_type": "stream",
     "text": [
      "100%|██████████| 515652/515652 [00:02<00:00, 213893.95it/s]\n"
     ]
    }
   ],
   "source": [
    "for i in tqdm(range(tomerge.shape[0])):\n",
    "    rhost[i]=np.sqrt(hx[i]**2+hy[i]**2+hz[i]**2)\n",
    "    rds[i]=np.sqrt(dx[i]**2+dy[i]**2+dz[i]**2)\n",
    "    if (abs(rhost[i]-rds[i])<2):\n",
    "        merged[i]=1\n",
    "        dx[i]=hx[i]\n",
    "        dy[i]=hy[i]\n",
    "        dz[i]=hz[i]\n",
    "        dred[i]=hred[i]\n",
    "    else:\n",
    "        merged[i]=0"
   ]
  },
  {
   "cell_type": "code",
   "execution_count": 52,
   "id": "2e875292",
   "metadata": {},
   "outputs": [],
   "source": [
    "tomerge.drop('DS_x', inplace=True, axis=1)\n",
    "tomerge.drop('DS_y', inplace=True, axis=1)\n",
    "tomerge.drop('DS_z', inplace=True, axis=1)\n",
    "tomerge.drop('DS_redshift', inplace=True, axis=1)\n",
    "tomerge['merged']=flag"
   ]
  },
  {
   "cell_type": "code",
   "execution_count": 53,
   "id": "726273ef",
   "metadata": {},
   "outputs": [],
   "source": [
    "tomerge.insert(loc=4, column='DS_x', value=dx)\n",
    "tomerge.insert(loc=5, column='DS_y', value=dy)\n",
    "tomerge.insert(loc=6, column='DS_z', value=dz)\n",
    "tomerge.insert(loc=7, column='DS_redshift', value=dred)"
   ]
  },
  {
   "cell_type": "code",
   "execution_count": 54,
   "id": "f1267d7f",
   "metadata": {},
   "outputs": [],
   "source": [
    "#t = Table.from_pandas(tomerge)\n",
    "#t.write('EVA03.fits', overwrite=True)"
   ]
  },
  {
   "cell_type": "code",
   "execution_count": 55,
   "id": "711984b7",
   "metadata": {},
   "outputs": [
    {
     "data": {
      "text/html": [
       "<div>\n",
       "<style scoped>\n",
       "    .dataframe tbody tr th:only-of-type {\n",
       "        vertical-align: middle;\n",
       "    }\n",
       "\n",
       "    .dataframe tbody tr th {\n",
       "        vertical-align: top;\n",
       "    }\n",
       "\n",
       "    .dataframe thead th {\n",
       "        text-align: right;\n",
       "    }\n",
       "</style>\n",
       "<table border=\"1\" class=\"dataframe\">\n",
       "  <thead>\n",
       "    <tr style=\"text-align: right;\">\n",
       "      <th></th>\n",
       "      <th>Host_x</th>\n",
       "      <th>Host_y</th>\n",
       "      <th>Host_z</th>\n",
       "      <th>Host_redshift</th>\n",
       "      <th>DS_x</th>\n",
       "      <th>DS_y</th>\n",
       "      <th>DS_z</th>\n",
       "      <th>DS_redshift</th>\n",
       "      <th>cos_orbital_incl</th>\n",
       "      <th>M1</th>\n",
       "      <th>M2</th>\n",
       "      <th>q</th>\n",
       "      <th>psi</th>\n",
       "      <th>SNR</th>\n",
       "      <th>Aproximant</th>\n",
       "      <th>merged</th>\n",
       "    </tr>\n",
       "  </thead>\n",
       "  <tbody>\n",
       "    <tr>\n",
       "      <th>0</th>\n",
       "      <td>651.933995</td>\n",
       "      <td>402.188065</td>\n",
       "      <td>2806.954546</td>\n",
       "      <td>0.808803</td>\n",
       "      <td>651.933995</td>\n",
       "      <td>402.188065</td>\n",
       "      <td>2806.954546</td>\n",
       "      <td>0.808803</td>\n",
       "      <td>0.793474</td>\n",
       "      <td>10.569518</td>\n",
       "      <td>5.143687</td>\n",
       "      <td>0.486653</td>\n",
       "      <td>2.550917</td>\n",
       "      <td>47.566179</td>\n",
       "      <td>b'IMRPhenomD'</td>\n",
       "      <td>1</td>\n",
       "    </tr>\n",
       "    <tr>\n",
       "      <th>1</th>\n",
       "      <td>1901.947841</td>\n",
       "      <td>477.181005</td>\n",
       "      <td>2147.676656</td>\n",
       "      <td>0.808301</td>\n",
       "      <td>1901.947841</td>\n",
       "      <td>477.181005</td>\n",
       "      <td>2147.676656</td>\n",
       "      <td>0.808301</td>\n",
       "      <td>-0.615400</td>\n",
       "      <td>26.536605</td>\n",
       "      <td>5.515256</td>\n",
       "      <td>0.207836</td>\n",
       "      <td>3.274064</td>\n",
       "      <td>94.996610</td>\n",
       "      <td>b'IMRPhenomD'</td>\n",
       "      <td>1</td>\n",
       "    </tr>\n",
       "    <tr>\n",
       "      <th>2</th>\n",
       "      <td>792.327061</td>\n",
       "      <td>2056.292634</td>\n",
       "      <td>1873.462461</td>\n",
       "      <td>0.802654</td>\n",
       "      <td>796.891722</td>\n",
       "      <td>2051.491963</td>\n",
       "      <td>1868.765822</td>\n",
       "      <td>0.800800</td>\n",
       "      <td>0.228812</td>\n",
       "      <td>38.501322</td>\n",
       "      <td>29.412304</td>\n",
       "      <td>0.763930</td>\n",
       "      <td>3.479153</td>\n",
       "      <td>168.103360</td>\n",
       "      <td>b'IMRPhenomD'</td>\n",
       "      <td>0</td>\n",
       "    </tr>\n",
       "    <tr>\n",
       "      <th>3</th>\n",
       "      <td>2566.548362</td>\n",
       "      <td>58.913997</td>\n",
       "      <td>1323.989640</td>\n",
       "      <td>0.801273</td>\n",
       "      <td>2571.261103</td>\n",
       "      <td>58.839892</td>\n",
       "      <td>1319.617234</td>\n",
       "      <td>0.802053</td>\n",
       "      <td>0.694977</td>\n",
       "      <td>14.085194</td>\n",
       "      <td>1.642785</td>\n",
       "      <td>0.116632</td>\n",
       "      <td>4.078907</td>\n",
       "      <td>70.825260</td>\n",
       "      <td>b'IMRPhenomD'</td>\n",
       "      <td>0</td>\n",
       "    </tr>\n",
       "    <tr>\n",
       "      <th>4</th>\n",
       "      <td>1165.316454</td>\n",
       "      <td>2573.915761</td>\n",
       "      <td>575.600923</td>\n",
       "      <td>0.799466</td>\n",
       "      <td>1165.316454</td>\n",
       "      <td>2573.915761</td>\n",
       "      <td>575.600923</td>\n",
       "      <td>0.799466</td>\n",
       "      <td>-0.838562</td>\n",
       "      <td>5.332573</td>\n",
       "      <td>2.141039</td>\n",
       "      <td>0.401502</td>\n",
       "      <td>2.813217</td>\n",
       "      <td>89.006671</td>\n",
       "      <td>b'IMRPhenomD'</td>\n",
       "      <td>1</td>\n",
       "    </tr>\n",
       "  </tbody>\n",
       "</table>\n",
       "</div>"
      ],
      "text/plain": [
       "        Host_x       Host_y       Host_z  Host_redshift         DS_x  \\\n",
       "0   651.933995   402.188065  2806.954546       0.808803   651.933995   \n",
       "1  1901.947841   477.181005  2147.676656       0.808301  1901.947841   \n",
       "2   792.327061  2056.292634  1873.462461       0.802654   796.891722   \n",
       "3  2566.548362    58.913997  1323.989640       0.801273  2571.261103   \n",
       "4  1165.316454  2573.915761   575.600923       0.799466  1165.316454   \n",
       "\n",
       "          DS_y         DS_z  DS_redshift  cos_orbital_incl         M1  \\\n",
       "0   402.188065  2806.954546     0.808803          0.793474  10.569518   \n",
       "1   477.181005  2147.676656     0.808301         -0.615400  26.536605   \n",
       "2  2051.491963  1868.765822     0.800800          0.228812  38.501322   \n",
       "3    58.839892  1319.617234     0.802053          0.694977  14.085194   \n",
       "4  2573.915761   575.600923     0.799466         -0.838562   5.332573   \n",
       "\n",
       "          M2         q       psi         SNR     Aproximant  merged  \n",
       "0   5.143687  0.486653  2.550917   47.566179  b'IMRPhenomD'       1  \n",
       "1   5.515256  0.207836  3.274064   94.996610  b'IMRPhenomD'       1  \n",
       "2  29.412304  0.763930  3.479153  168.103360  b'IMRPhenomD'       0  \n",
       "3   1.642785  0.116632  4.078907   70.825260  b'IMRPhenomD'       0  \n",
       "4   2.141039  0.401502  2.813217   89.006671  b'IMRPhenomD'       1  "
      ]
     },
     "execution_count": 55,
     "metadata": {},
     "output_type": "execute_result"
    }
   ],
   "source": [
    "tomerge.head(5)"
   ]
  },
  {
   "cell_type": "code",
   "execution_count": 2,
   "id": "9c787680",
   "metadata": {},
   "outputs": [
    {
     "name": "stdout",
     "output_type": "stream",
     "text": [
      "Index(['Host_x', 'Host_y', 'Host_z', 'Host_redshift', 'DS_x', 'DS_y', 'DS_z',\n",
      "       'DS_redshift', 'cos_orbital_incl', 'M1', 'M2', 'q', 'psi', 'Aproximant',\n",
      "       'SNR'],\n",
      "      dtype='object')\n",
      "515652\n"
     ]
    },
    {
     "data": {
      "text/html": [
       "<div>\n",
       "<style scoped>\n",
       "    .dataframe tbody tr th:only-of-type {\n",
       "        vertical-align: middle;\n",
       "    }\n",
       "\n",
       "    .dataframe tbody tr th {\n",
       "        vertical-align: top;\n",
       "    }\n",
       "\n",
       "    .dataframe thead th {\n",
       "        text-align: right;\n",
       "    }\n",
       "</style>\n",
       "<table border=\"1\" class=\"dataframe\">\n",
       "  <thead>\n",
       "    <tr style=\"text-align: right;\">\n",
       "      <th></th>\n",
       "      <th>Host_x</th>\n",
       "      <th>Host_y</th>\n",
       "      <th>Host_z</th>\n",
       "      <th>Host_redshift</th>\n",
       "      <th>DS_x</th>\n",
       "      <th>DS_y</th>\n",
       "      <th>DS_z</th>\n",
       "      <th>DS_redshift</th>\n",
       "      <th>cos_orbital_incl</th>\n",
       "      <th>M1</th>\n",
       "      <th>M2</th>\n",
       "      <th>q</th>\n",
       "      <th>psi</th>\n",
       "      <th>Aproximant</th>\n",
       "      <th>SNR</th>\n",
       "    </tr>\n",
       "  </thead>\n",
       "  <tbody>\n",
       "    <tr>\n",
       "      <th>0</th>\n",
       "      <td>651.933995</td>\n",
       "      <td>402.188065</td>\n",
       "      <td>2806.954546</td>\n",
       "      <td>0.808803</td>\n",
       "      <td>651.933995</td>\n",
       "      <td>402.188065</td>\n",
       "      <td>2806.954546</td>\n",
       "      <td>0.808803</td>\n",
       "      <td>0.793474</td>\n",
       "      <td>10.569518</td>\n",
       "      <td>5.143687</td>\n",
       "      <td>0.486653</td>\n",
       "      <td>2.550917</td>\n",
       "      <td>b'IMRPhenomD'</td>\n",
       "      <td>96.279798</td>\n",
       "    </tr>\n",
       "    <tr>\n",
       "      <th>1</th>\n",
       "      <td>1901.947841</td>\n",
       "      <td>477.181005</td>\n",
       "      <td>2147.676656</td>\n",
       "      <td>0.808301</td>\n",
       "      <td>1901.947841</td>\n",
       "      <td>477.181005</td>\n",
       "      <td>2147.676656</td>\n",
       "      <td>0.808301</td>\n",
       "      <td>-0.615400</td>\n",
       "      <td>26.536605</td>\n",
       "      <td>5.515256</td>\n",
       "      <td>0.207836</td>\n",
       "      <td>3.274064</td>\n",
       "      <td>b'IMRPhenomD'</td>\n",
       "      <td>81.336203</td>\n",
       "    </tr>\n",
       "    <tr>\n",
       "      <th>2</th>\n",
       "      <td>792.327061</td>\n",
       "      <td>2056.292634</td>\n",
       "      <td>1873.462461</td>\n",
       "      <td>0.802654</td>\n",
       "      <td>796.891722</td>\n",
       "      <td>2051.491963</td>\n",
       "      <td>1868.765822</td>\n",
       "      <td>0.800800</td>\n",
       "      <td>0.228812</td>\n",
       "      <td>38.501322</td>\n",
       "      <td>29.412304</td>\n",
       "      <td>0.763930</td>\n",
       "      <td>3.479153</td>\n",
       "      <td>b'IMRPhenomD'</td>\n",
       "      <td>114.008069</td>\n",
       "    </tr>\n",
       "  </tbody>\n",
       "</table>\n",
       "</div>"
      ],
      "text/plain": [
       "        Host_x       Host_y       Host_z  Host_redshift         DS_x  \\\n",
       "0   651.933995   402.188065  2806.954546       0.808803   651.933995   \n",
       "1  1901.947841   477.181005  2147.676656       0.808301  1901.947841   \n",
       "2   792.327061  2056.292634  1873.462461       0.802654   796.891722   \n",
       "\n",
       "          DS_y         DS_z  DS_redshift  cos_orbital_incl         M1  \\\n",
       "0   402.188065  2806.954546     0.808803          0.793474  10.569518   \n",
       "1   477.181005  2147.676656     0.808301         -0.615400  26.536605   \n",
       "2  2051.491963  1868.765822     0.800800          0.228812  38.501322   \n",
       "\n",
       "          M2         q       psi     Aproximant         SNR  \n",
       "0   5.143687  0.486653  2.550917  b'IMRPhenomD'   96.279798  \n",
       "1   5.515256  0.207836  3.274064  b'IMRPhenomD'   81.336203  \n",
       "2  29.412304  0.763930  3.479153  b'IMRPhenomD'  114.008069  "
      ]
     },
     "execution_count": 2,
     "metadata": {},
     "output_type": "execute_result"
    }
   ],
   "source": [
    "#------------read the flagship-------------------------------------\n",
    "dat = Table.read('EVA02.fits', format='fits')\n",
    "cat = dat.to_pandas()#all good, is an only text fits\n",
    "print(cat.columns)\n",
    "print(cat.shape[0])\n",
    "cat.head(3)"
   ]
  },
  {
   "cell_type": "code",
   "execution_count": 3,
   "id": "36476186",
   "metadata": {},
   "outputs": [],
   "source": [
    "detected=cat[cat['SNR']>12]"
   ]
  },
  {
   "cell_type": "code",
   "execution_count": 4,
   "id": "8b4c847f",
   "metadata": {},
   "outputs": [
    {
     "data": {
      "text/plain": [
       "0.8966027475894596"
      ]
     },
     "execution_count": 4,
     "metadata": {},
     "output_type": "execute_result"
    }
   ],
   "source": [
    "detected.shape[0]/cat.shape[0]"
   ]
  },
  {
   "cell_type": "code",
   "execution_count": 5,
   "id": "5f4a51d0",
   "metadata": {},
   "outputs": [
    {
     "name": "stdout",
     "output_type": "stream",
     "text": [
      "Index(['Host_x', 'Host_y', 'Host_z', 'Host_redshift', 'DS_x', 'DS_y', 'DS_z',\n",
      "       'DS_redshift', 'cos_orbital_incl', 'M1', 'M2', 'q', 'psi', 'Aproximant',\n",
      "       'SNR'],\n",
      "      dtype='object')\n",
      "462335\n"
     ]
    },
    {
     "data": {
      "text/html": [
       "<div>\n",
       "<style scoped>\n",
       "    .dataframe tbody tr th:only-of-type {\n",
       "        vertical-align: middle;\n",
       "    }\n",
       "\n",
       "    .dataframe tbody tr th {\n",
       "        vertical-align: top;\n",
       "    }\n",
       "\n",
       "    .dataframe thead th {\n",
       "        text-align: right;\n",
       "    }\n",
       "</style>\n",
       "<table border=\"1\" class=\"dataframe\">\n",
       "  <thead>\n",
       "    <tr style=\"text-align: right;\">\n",
       "      <th></th>\n",
       "      <th>Host_x</th>\n",
       "      <th>Host_y</th>\n",
       "      <th>Host_z</th>\n",
       "      <th>Host_redshift</th>\n",
       "      <th>DS_x</th>\n",
       "      <th>DS_y</th>\n",
       "      <th>DS_z</th>\n",
       "      <th>DS_redshift</th>\n",
       "      <th>cos_orbital_incl</th>\n",
       "      <th>M1</th>\n",
       "      <th>M2</th>\n",
       "      <th>q</th>\n",
       "      <th>psi</th>\n",
       "      <th>Aproximant</th>\n",
       "      <th>SNR</th>\n",
       "    </tr>\n",
       "  </thead>\n",
       "  <tbody>\n",
       "    <tr>\n",
       "      <th>0</th>\n",
       "      <td>651.933995</td>\n",
       "      <td>402.188065</td>\n",
       "      <td>2806.954546</td>\n",
       "      <td>0.808803</td>\n",
       "      <td>651.933995</td>\n",
       "      <td>402.188065</td>\n",
       "      <td>2806.954546</td>\n",
       "      <td>0.808803</td>\n",
       "      <td>0.793474</td>\n",
       "      <td>10.569518</td>\n",
       "      <td>5.143687</td>\n",
       "      <td>0.486653</td>\n",
       "      <td>2.550917</td>\n",
       "      <td>b'IMRPhenomD'</td>\n",
       "      <td>96.279798</td>\n",
       "    </tr>\n",
       "    <tr>\n",
       "      <th>1</th>\n",
       "      <td>1901.947841</td>\n",
       "      <td>477.181005</td>\n",
       "      <td>2147.676656</td>\n",
       "      <td>0.808301</td>\n",
       "      <td>1901.947841</td>\n",
       "      <td>477.181005</td>\n",
       "      <td>2147.676656</td>\n",
       "      <td>0.808301</td>\n",
       "      <td>-0.615400</td>\n",
       "      <td>26.536605</td>\n",
       "      <td>5.515256</td>\n",
       "      <td>0.207836</td>\n",
       "      <td>3.274064</td>\n",
       "      <td>b'IMRPhenomD'</td>\n",
       "      <td>81.336203</td>\n",
       "    </tr>\n",
       "    <tr>\n",
       "      <th>2</th>\n",
       "      <td>792.327061</td>\n",
       "      <td>2056.292634</td>\n",
       "      <td>1873.462461</td>\n",
       "      <td>0.802654</td>\n",
       "      <td>796.891722</td>\n",
       "      <td>2051.491963</td>\n",
       "      <td>1868.765822</td>\n",
       "      <td>0.800800</td>\n",
       "      <td>0.228812</td>\n",
       "      <td>38.501322</td>\n",
       "      <td>29.412304</td>\n",
       "      <td>0.763930</td>\n",
       "      <td>3.479153</td>\n",
       "      <td>b'IMRPhenomD'</td>\n",
       "      <td>114.008069</td>\n",
       "    </tr>\n",
       "    <tr>\n",
       "      <th>3</th>\n",
       "      <td>2566.548362</td>\n",
       "      <td>58.913997</td>\n",
       "      <td>1323.989640</td>\n",
       "      <td>0.801273</td>\n",
       "      <td>2571.261103</td>\n",
       "      <td>58.839892</td>\n",
       "      <td>1319.617234</td>\n",
       "      <td>0.802053</td>\n",
       "      <td>0.694977</td>\n",
       "      <td>14.085194</td>\n",
       "      <td>1.642785</td>\n",
       "      <td>0.116632</td>\n",
       "      <td>4.078907</td>\n",
       "      <td>b'IMRPhenomD'</td>\n",
       "      <td>29.901415</td>\n",
       "    </tr>\n",
       "    <tr>\n",
       "      <th>4</th>\n",
       "      <td>1165.316454</td>\n",
       "      <td>2573.915761</td>\n",
       "      <td>575.600923</td>\n",
       "      <td>0.799466</td>\n",
       "      <td>1165.316454</td>\n",
       "      <td>2573.915761</td>\n",
       "      <td>575.600923</td>\n",
       "      <td>0.799466</td>\n",
       "      <td>-0.838562</td>\n",
       "      <td>5.332573</td>\n",
       "      <td>2.141039</td>\n",
       "      <td>0.401502</td>\n",
       "      <td>2.813217</td>\n",
       "      <td>b'IMRPhenomD'</td>\n",
       "      <td>22.195059</td>\n",
       "    </tr>\n",
       "  </tbody>\n",
       "</table>\n",
       "</div>"
      ],
      "text/plain": [
       "        Host_x       Host_y       Host_z  Host_redshift         DS_x  \\\n",
       "0   651.933995   402.188065  2806.954546       0.808803   651.933995   \n",
       "1  1901.947841   477.181005  2147.676656       0.808301  1901.947841   \n",
       "2   792.327061  2056.292634  1873.462461       0.802654   796.891722   \n",
       "3  2566.548362    58.913997  1323.989640       0.801273  2571.261103   \n",
       "4  1165.316454  2573.915761   575.600923       0.799466  1165.316454   \n",
       "\n",
       "          DS_y         DS_z  DS_redshift  cos_orbital_incl         M1  \\\n",
       "0   402.188065  2806.954546     0.808803          0.793474  10.569518   \n",
       "1   477.181005  2147.676656     0.808301         -0.615400  26.536605   \n",
       "2  2051.491963  1868.765822     0.800800          0.228812  38.501322   \n",
       "3    58.839892  1319.617234     0.802053          0.694977  14.085194   \n",
       "4  2573.915761   575.600923     0.799466         -0.838562   5.332573   \n",
       "\n",
       "          M2         q       psi     Aproximant         SNR  \n",
       "0   5.143687  0.486653  2.550917  b'IMRPhenomD'   96.279798  \n",
       "1   5.515256  0.207836  3.274064  b'IMRPhenomD'   81.336203  \n",
       "2  29.412304  0.763930  3.479153  b'IMRPhenomD'  114.008069  \n",
       "3   1.642785  0.116632  4.078907  b'IMRPhenomD'   29.901415  \n",
       "4   2.141039  0.401502  2.813217  b'IMRPhenomD'   22.195059  "
      ]
     },
     "execution_count": 5,
     "metadata": {},
     "output_type": "execute_result"
    }
   ],
   "source": [
    "print(detected.columns)\n",
    "print(detected.shape[0])\n",
    "detected.head()"
   ]
  },
  {
   "cell_type": "code",
   "execution_count": 11,
   "id": "c5d87c46",
   "metadata": {},
   "outputs": [],
   "source": [
    "rnd_detected=detected.sample(100000)"
   ]
  },
  {
   "cell_type": "code",
   "execution_count": 8,
   "id": "1b2ec595",
   "metadata": {},
   "outputs": [],
   "source": [
    "t = Table.from_pandas(detected)\n",
    "t.write('EVA02_detected12_fiveyear.fits', overwrite=True)"
   ]
  },
  {
   "cell_type": "code",
   "execution_count": 5,
   "id": "b285ab87",
   "metadata": {},
   "outputs": [
    {
     "name": "stdout",
     "output_type": "stream",
     "text": [
      "Index(['Host_x', 'Host_y', 'Host_z', 'Host_redshift', 'DS_x', 'DS_y', 'DS_z',\n",
      "       'DS_redshift', 'cos_orbital_incl', 'M1', 'M2', 'q', 'psi', 'SNR',\n",
      "       'Aproximant', 'merged'],\n",
      "      dtype='object')\n",
      "515652\n"
     ]
    },
    {
     "data": {
      "text/html": [
       "<div>\n",
       "<style scoped>\n",
       "    .dataframe tbody tr th:only-of-type {\n",
       "        vertical-align: middle;\n",
       "    }\n",
       "\n",
       "    .dataframe tbody tr th {\n",
       "        vertical-align: top;\n",
       "    }\n",
       "\n",
       "    .dataframe thead th {\n",
       "        text-align: right;\n",
       "    }\n",
       "</style>\n",
       "<table border=\"1\" class=\"dataframe\">\n",
       "  <thead>\n",
       "    <tr style=\"text-align: right;\">\n",
       "      <th></th>\n",
       "      <th>Host_x</th>\n",
       "      <th>Host_y</th>\n",
       "      <th>Host_z</th>\n",
       "      <th>Host_redshift</th>\n",
       "      <th>DS_x</th>\n",
       "      <th>DS_y</th>\n",
       "      <th>DS_z</th>\n",
       "      <th>DS_redshift</th>\n",
       "      <th>cos_orbital_incl</th>\n",
       "      <th>M1</th>\n",
       "      <th>M2</th>\n",
       "      <th>q</th>\n",
       "      <th>psi</th>\n",
       "      <th>SNR</th>\n",
       "      <th>Aproximant</th>\n",
       "      <th>merged</th>\n",
       "    </tr>\n",
       "  </thead>\n",
       "  <tbody>\n",
       "    <tr>\n",
       "      <th>0</th>\n",
       "      <td>651.933995</td>\n",
       "      <td>402.188065</td>\n",
       "      <td>2806.954546</td>\n",
       "      <td>0.808803</td>\n",
       "      <td>651.933995</td>\n",
       "      <td>402.188065</td>\n",
       "      <td>2806.954546</td>\n",
       "      <td>0.808803</td>\n",
       "      <td>0.793474</td>\n",
       "      <td>10.569518</td>\n",
       "      <td>5.143687</td>\n",
       "      <td>0.486653</td>\n",
       "      <td>2.550917</td>\n",
       "      <td>47.566179</td>\n",
       "      <td>b'IMRPhenomD'</td>\n",
       "      <td>1</td>\n",
       "    </tr>\n",
       "    <tr>\n",
       "      <th>1</th>\n",
       "      <td>1901.947841</td>\n",
       "      <td>477.181005</td>\n",
       "      <td>2147.676656</td>\n",
       "      <td>0.808301</td>\n",
       "      <td>1901.947841</td>\n",
       "      <td>477.181005</td>\n",
       "      <td>2147.676656</td>\n",
       "      <td>0.808301</td>\n",
       "      <td>-0.615400</td>\n",
       "      <td>26.536605</td>\n",
       "      <td>5.515256</td>\n",
       "      <td>0.207836</td>\n",
       "      <td>3.274064</td>\n",
       "      <td>94.996610</td>\n",
       "      <td>b'IMRPhenomD'</td>\n",
       "      <td>1</td>\n",
       "    </tr>\n",
       "    <tr>\n",
       "      <th>2</th>\n",
       "      <td>792.327061</td>\n",
       "      <td>2056.292634</td>\n",
       "      <td>1873.462461</td>\n",
       "      <td>0.802654</td>\n",
       "      <td>796.891722</td>\n",
       "      <td>2051.491963</td>\n",
       "      <td>1868.765822</td>\n",
       "      <td>0.800800</td>\n",
       "      <td>0.228812</td>\n",
       "      <td>38.501322</td>\n",
       "      <td>29.412304</td>\n",
       "      <td>0.763930</td>\n",
       "      <td>3.479153</td>\n",
       "      <td>168.103360</td>\n",
       "      <td>b'IMRPhenomD'</td>\n",
       "      <td>0</td>\n",
       "    </tr>\n",
       "  </tbody>\n",
       "</table>\n",
       "</div>"
      ],
      "text/plain": [
       "        Host_x       Host_y       Host_z  Host_redshift         DS_x  \\\n",
       "0   651.933995   402.188065  2806.954546       0.808803   651.933995   \n",
       "1  1901.947841   477.181005  2147.676656       0.808301  1901.947841   \n",
       "2   792.327061  2056.292634  1873.462461       0.802654   796.891722   \n",
       "\n",
       "          DS_y         DS_z  DS_redshift  cos_orbital_incl         M1  \\\n",
       "0   402.188065  2806.954546     0.808803          0.793474  10.569518   \n",
       "1   477.181005  2147.676656     0.808301         -0.615400  26.536605   \n",
       "2  2051.491963  1868.765822     0.800800          0.228812  38.501322   \n",
       "\n",
       "          M2         q       psi         SNR     Aproximant  merged  \n",
       "0   5.143687  0.486653  2.550917   47.566179  b'IMRPhenomD'       1  \n",
       "1   5.515256  0.207836  3.274064   94.996610  b'IMRPhenomD'       1  \n",
       "2  29.412304  0.763930  3.479153  168.103360  b'IMRPhenomD'       0  "
      ]
     },
     "execution_count": 5,
     "metadata": {},
     "output_type": "execute_result"
    }
   ],
   "source": [
    "#------------read the flagship-------------------------------------\n",
    "dat03 = Table.read('EVA03.fits', format='fits')\n",
    "cat03 = dat03.to_pandas()#all good, is an only text fits\n",
    "print(cat03.columns)\n",
    "print(cat03.shape[0])\n",
    "cat03.head(3)"
   ]
  },
  {
   "cell_type": "code",
   "execution_count": 6,
   "id": "7db31f17",
   "metadata": {},
   "outputs": [
    {
     "name": "stdout",
     "output_type": "stream",
     "text": [
      "0.9418600141180486\n"
     ]
    }
   ],
   "source": [
    "detected03=cat03[cat03['SNR']>12]\n",
    "print(detected03.shape[0]/cat03.shape[0])"
   ]
  },
  {
   "cell_type": "code",
   "execution_count": 7,
   "id": "eeb6dd83",
   "metadata": {},
   "outputs": [
    {
     "data": {
      "text/plain": [
       "0"
      ]
     },
     "execution_count": 7,
     "metadata": {},
     "output_type": "execute_result"
    }
   ],
   "source": [
    "cat.shape[0]-cat03.shape[0]"
   ]
  },
  {
   "cell_type": "code",
   "execution_count": 12,
   "id": "395668bf",
   "metadata": {},
   "outputs": [],
   "source": [
    "myz=detected['DS_redshift']"
   ]
  },
  {
   "cell_type": "code",
   "execution_count": 17,
   "id": "ce82a697",
   "metadata": {},
   "outputs": [
    {
     "data": {
      "text/plain": [
       "Text(0.5, 1.0, 'DS redshift distribution')"
      ]
     },
     "execution_count": 17,
     "metadata": {},
     "output_type": "execute_result"
    },
    {
     "data": {
      "image/png": "[encoded data removed]",
      "text/plain": [
       "<Figure size 432x288 with 1 Axes>"
      ]
     },
     "metadata": {
      "needs_background": "light"
     },
     "output_type": "display_data"
    }
   ],
   "source": [
    "# An \"interface\" to matplotlib.axes.Axes.hist() method\n",
    "n, bins, patches = plt.hist(x=myz, bins=30,color='#0504aa',\n",
    "                            alpha=0.7, rwidth=0.85)\n",
    "plt.grid(axis='y', alpha=0.75)\n",
    "plt.xlabel('redshift')\n",
    "plt.ylabel('N')\n",
    "plt.title('DS redshift distribution')\n",
    "\n"
   ]
  },
  {
   "cell_type": "code",
   "execution_count": 18,
   "id": "c97a1986",
   "metadata": {},
   "outputs": [],
   "source": [
    "np.savetxt('RawNofEvents.txt',n)\n",
    "np.savetxt('RawBins.txt',bins)"
   ]
  },
  {
   "cell_type": "code",
   "execution_count": null,
   "id": "c2e8d008",
   "metadata": {},
   "outputs": [],
   "source": []
  }
 ],
 "metadata": {
  "kernelspec": {
   "display_name": "Python 3 (ipykernel)",
   "language": "python",
   "name": "python3"
  },
  "language_info": {
   "codemirror_mode": {
    "name": "ipython",
    "version": 3
   },
   "file_extension": ".py",
   "mimetype": "text/x-python",
   "name": "python",
   "nbconvert_exporter": "python",
   "pygments_lexer": "ipython3",
   "version": "3.10.12"
  }
 },
 "nbformat": 4,
 "nbformat_minor": 5
}
