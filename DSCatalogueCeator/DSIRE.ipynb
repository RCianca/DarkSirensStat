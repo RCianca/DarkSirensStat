{
 "cells": [
  {
   "cell_type": "code",
   "execution_count": 2,
   "id": "d592aec7",
   "metadata": {},
   "outputs": [],
   "source": [
    "#-------------------------Imports---------------------------\n",
    "import numpy as np\n",
    "import healpy as hp\n",
    "import matplotlib.pyplot as plt\n",
    "import matplotlib\n",
    "import sympy as sy\n",
    "import cProfile\n",
    "from numpy.random import random\n",
    "\n",
    "from scipy.stats import multivariate_normal\n",
    "from scipy.stats import kstest\n",
    "from scipy.stats import triang\n",
    "from scipy.stats import uniform\n",
    "from scipy import interpolate\n",
    "\n",
    "import h5py\n",
    "import os\n",
    "from astropy.cosmology import Planck15\n",
    "from astropy.cosmology import FlatLambdaCDM\n",
    "\n",
    "###########################\n",
    "# CONSTANTS\n",
    "###########################\n",
    "H0GLOB= 69#67.9 #69\n",
    "Om0GLOB=0.3\n",
    "Xi0Glob =1.\n",
    "clight = 2.99792458* 10**5#km/s\n",
    "\n",
    "xmax=100\n",
    "ymax=100\n",
    "zmax=100\n",
    "half_box_size=2\n",
    "\n",
    "Npoints=1000\n",
    "Sigma=10\n",
    "\n",
    "cosmoglob = Planck15\n",
    "cosmofast = FlatLambdaCDM(H0=H0GLOB, Om0=Om0GLOB)\n",
    "H0=cosmoglob.H(0).value"
   ]
  },
  {
   "cell_type": "code",
   "execution_count": 3,
   "id": "ad4cb919",
   "metadata": {},
   "outputs": [],
   "source": [
    "#--------------------------definitions-------------------------\n",
    "def NumOfDS(x,y,z):\n",
    "    r=np.sqrt(x**2+y**2+z**2)\n",
    "    numberofDS=1000/r\n",
    "    #numberofDS=10\n",
    "    num=int(numberofDS)\n",
    "    #print(num)\n",
    "    if num>0:\n",
    "        return num\n",
    "    else:\n",
    "        return 1"
   ]
  },
  {
   "cell_type": "code",
   "execution_count": 3,
   "id": "9dc760fb",
   "metadata": {},
   "outputs": [],
   "source": [
    "#----------------------Create the box & fill it with hosts-------------------\n",
    "x=np.random.normal(loc=0,scale=Sigma,size=Npoints)\n",
    "y=np.random.normal(loc=0,scale=Sigma,size=Npoints)\n",
    "z=np.random.normal(loc=0,scale=Sigma,size=Npoints)"
   ]
  },
  {
   "cell_type": "code",
   "execution_count": 4,
   "id": "16c54f1f",
   "metadata": {},
   "outputs": [
    {
     "data": {
      "text/plain": [
       "\"fig = plt.figure(figsize = (10,10))\\nax = plt.axes(projection='3d')\\nax.grid()\\n\\nax.scatter(x, y, z, c = 'b', s = 5)\\nax.set_title('Host-Dristibution')\\n\\n# Set axes label\\nax.set_xlabel('x', labelpad=20)\\nax.set_ylabel('y', labelpad=20)\\nax.set_zlabel('z', labelpad=20)\\n#plt.savefig('HostDist.pdf')\""
      ]
     },
     "execution_count": 4,
     "metadata": {},
     "output_type": "execute_result"
    }
   ],
   "source": [
    "'''fig = plt.figure(figsize = (10,10))\n",
    "ax = plt.axes(projection='3d')\n",
    "ax.grid()\n",
    "\n",
    "ax.scatter(x, y, z, c = 'b', s = 5)\n",
    "ax.set_title('Host-Dristibution')\n",
    "\n",
    "# Set axes label\n",
    "ax.set_xlabel('x', labelpad=20)\n",
    "ax.set_ylabel('y', labelpad=20)\n",
    "ax.set_zlabel('z', labelpad=20)\n",
    "#plt.savefig('HostDist.pdf')'''"
   ]
  },
  {
   "cell_type": "code",
   "execution_count": 5,
   "id": "09949f32",
   "metadata": {},
   "outputs": [],
   "source": [
    "#-------This will be movend into a function\n",
    "x_Dark=[]\n",
    "y_Dark=[]\n",
    "z_Dark=[]\n",
    "arr_n=[]\n",
    "perc=0.4\n",
    "NDS=int(0.4*Npoints)\n",
    "indices=np.zeros(NDS)\n",
    "for k in range(NDS):\n",
    "    i=np.random.randint(0, Npoints-1)\n",
    "    indices[k]=i\n",
    "    dist_x=x[i]\n",
    "    dist_y=y[i]\n",
    "    dist_z=z[i]\n",
    "    n=NumOfDS(dist_x,dist_y,dist_z)\n",
    "    arr_n=np.append(arr_n,n)\n",
    "    x_DS=np.random.uniform(-half_box_size,half_box_size,n)\n",
    "    y_DS=np.random.uniform(-half_box_size,half_box_size,n)\n",
    "    z_DS=np.random.uniform(-half_box_size,half_box_size,n)\n",
    "    \n",
    "    #x_DS=np.random.uniform(0,1,n)\n",
    "    #y_DS=np.random.uniform(0,1,n)\n",
    "    #z_DS=np.random.uniform(0,1,n)\n",
    "    \n",
    "    x_Dark=np.append(x_Dark,dist_x+x_DS)\n",
    "    y_Dark=np.append(y_Dark,dist_y+y_DS)\n",
    "    z_Dark=np.append(z_Dark,dist_z+z_DS)\n",
    "#--------only unique indices of host-DS\n",
    "filtered=np.unique(indices)\n"
   ]
  },
  {
   "cell_type": "code",
   "execution_count": 6,
   "id": "0f0fdddc",
   "metadata": {},
   "outputs": [
    {
     "data": {
      "text/plain": [
       "\"fig2 = plt.figure(figsize = (10,10))\\nax = plt.axes(projection='3d')\\nax.grid()\\n\\nax.scatter(x_Dark, y_Dark, z_Dark, c = 'g', s = 10)\\nax.set_title('DS-Dristibution')\\n\\n# Set axes label\\nax.set_xlabel('x', labelpad=20)\\nax.set_ylabel('y', labelpad=20)\\nax.set_zlabel('z', labelpad=20)\\n#plt.savefig('DSDist.pdf')\""
      ]
     },
     "execution_count": 6,
     "metadata": {},
     "output_type": "execute_result"
    }
   ],
   "source": [
    "'''fig2 = plt.figure(figsize = (10,10))\n",
    "ax = plt.axes(projection='3d')\n",
    "ax.grid()\n",
    "\n",
    "ax.scatter(x_Dark, y_Dark, z_Dark, c = 'g', s = 10)\n",
    "ax.set_title('DS-Dristibution')\n",
    "\n",
    "# Set axes label\n",
    "ax.set_xlabel('x', labelpad=20)\n",
    "ax.set_ylabel('y', labelpad=20)\n",
    "ax.set_zlabel('z', labelpad=20)\n",
    "#plt.savefig('DSDist.pdf')'''"
   ]
  },
  {
   "cell_type": "code",
   "execution_count": 7,
   "id": "1f07e671",
   "metadata": {},
   "outputs": [
    {
     "data": {
      "text/plain": [
       "'figtot = plt.figure(figsize = (10,10))\\nax = plt.axes(projection=\\'3d\\')\\nax.grid()\\nax1 = figtot.add_subplot(111,projection=\\'3d\\')\\n\\nax1.scatter(x, y, z, c = \\'b\\', marker=\"*\", label=\\'Host\\')\\nax1.scatter(x_Dark, y_Dark, z_Dark, s=5, c = \\'g\\', marker=\"o\", label=\\'DS\\')\\nplt.legend(loc=\\'upper left\\');\\n#plt.savefig(\\'DS_and_Host.pdf\\')'"
      ]
     },
     "execution_count": 7,
     "metadata": {},
     "output_type": "execute_result"
    }
   ],
   "source": [
    "'''figtot = plt.figure(figsize = (10,10))\n",
    "ax = plt.axes(projection='3d')\n",
    "ax.grid()\n",
    "ax1 = figtot.add_subplot(111,projection='3d')\n",
    "\n",
    "ax1.scatter(x, y, z, c = 'b', marker=\"*\", label='Host')\n",
    "ax1.scatter(x_Dark, y_Dark, z_Dark, s=5, c = 'g', marker=\"o\", label='DS')\n",
    "plt.legend(loc='upper left');\n",
    "#plt.savefig('DS_and_Host.pdf')'''"
   ]
  },
  {
   "cell_type": "code",
   "execution_count": 8,
   "id": "c099f4ec",
   "metadata": {},
   "outputs": [
    {
     "data": {
      "text/plain": [
       "'figtot2dxy = plt.figure(figsize = (10,10))\\nax = plt.axes()\\nax.grid()\\nax.tick_params(axis=\\'both\\', which=\\'major\\', labelsize=14)\\nax.grid(linestyle=\\'dotted\\', linewidth=\\'0.6\\')\\nax.scatter(x, y, c = \\'b\\', marker=\"*\", label=\\'Host\\')\\nax.scatter(x_Dark, y_Dark, s=5, c = \\'g\\', marker=\"o\", label=\\'DS\\')\\nplt.legend(loc=\\'upper left\\');\\n#plt.savefig(\\'DS_and_Host_xy.pdf\\')'"
      ]
     },
     "execution_count": 8,
     "metadata": {},
     "output_type": "execute_result"
    }
   ],
   "source": [
    "'''figtot2dxy = plt.figure(figsize = (10,10))\n",
    "ax = plt.axes()\n",
    "ax.grid()\n",
    "ax.tick_params(axis='both', which='major', labelsize=14)\n",
    "ax.grid(linestyle='dotted', linewidth='0.6')\n",
    "ax.scatter(x, y, c = 'b', marker=\"*\", label='Host')\n",
    "ax.scatter(x_Dark, y_Dark, s=5, c = 'g', marker=\"o\", label='DS')\n",
    "plt.legend(loc='upper left');\n",
    "#plt.savefig('DS_and_Host_xy.pdf')'''"
   ]
  },
  {
   "cell_type": "code",
   "execution_count": 9,
   "id": "c6ca24d3",
   "metadata": {},
   "outputs": [
    {
     "name": "stdout",
     "output_type": "stream",
     "text": [
      "0.5097705426762812\n",
      "0.5095990035218797\n",
      "0.5085623328112692\n"
     ]
    }
   ],
   "source": [
    "#--------------test-----------------\n",
    "all_px=[]\n",
    "all_py=[]\n",
    "all_pz=[]\n",
    "#this works is there is at least 1 DS for an Host\n",
    "for h in range(len(indices)):\n",
    "    if h==0:\n",
    "        pos=0\n",
    "    n=int(arr_n[h])\n",
    "    if n==1:\n",
    "        xdata=x_Dark[pos]-x[int(indices[h])]\n",
    "        ydata=y_Dark[pos]-y[int(indices[h])]\n",
    "        zdata=z_Dark[pos]-z[int(indices[h])]\n",
    "    else:\n",
    "        xdata=x_Dark[pos:pos+n]-x[int(indices[h])]\n",
    "        ydata=y_Dark[pos:pos+n]-y[int(indices[h])] \n",
    "        zdata=z_Dark[pos:pos+n]-z[int(indices[h])] \n",
    "        \n",
    "    pos=(pos+n)\n",
    "\n",
    "    statx,pvaluex=kstest(xdata,'uniform',args=(-half_box_size,half_box_size))\n",
    "    staty,pvaluey=kstest(ydata,'uniform',args=(-half_box_size,half_box_size))\n",
    "    statz,pvaluez=kstest(zdata,'uniform',args=(-half_box_size,half_box_size))\n",
    "    all_px=np.append(all_px,statx)\n",
    "    all_py=np.append(all_py,staty)\n",
    "    all_pz=np.append(all_pz,statz)\n",
    "\n",
    "print(np.mean(all_px))\n",
    "print(np.mean(all_py))\n",
    "print(np.mean(all_pz))"
   ]
  },
  {
   "cell_type": "code",
   "execution_count": 4,
   "id": "c378a1d9",
   "metadata": {},
   "outputs": [
    {
     "name": "stdout",
     "output_type": "stream",
     "text": [
      "94.3741123496316\n",
      "1.00000000000000\n"
     ]
    }
   ],
   "source": [
    "#------------------MC-rejection-sampling---------------------------------\n",
    "#this will be a function\n",
    "h=H0/100\n",
    "r0=5*h\n",
    "gamma=1.8\n",
    "rmin=0.1*h\n",
    "rmax=10*h\n",
    "\n",
    "#target function\n",
    "target_dist= lambda r: (r/r0)**(-gamma)\n",
    "x = sy.Symbol(\"x\")\n",
    "print(sy.integrate(target_dist(x), (x, rmin, rmax)))\n",
    "norm=sy.integrate(target_dist(x), (x, rmin, rmax))\n",
    "norm_target_dist=lambda r: (r/r0)**(-gamma)/norm\n",
    "print(sy.integrate(norm_target_dist(x), (x, rmin, rmax)))\n"
   ]
  },
  {
   "cell_type": "code",
   "execution_count": 10,
   "id": "824ef731",
   "metadata": {},
   "outputs": [],
   "source": [
    "#envelope\n",
    "M=norm_target_dist(rmin)\n",
    "K=norm_target_dist(rmax)\n",
    "#envelop_dist=lambda r: M+((K-M)/(rmax-rmin))*(r-rmin)\n",
    "#the envelope must be a constant otherwise the function is not sampled correctly \n",
    "def rejection():\n",
    "    while True:\n",
    "        x=np.random.uniform(rmin, rmax)\n",
    "        #x=np.random.triangular(rmin-0.001*rmin,rmin,rmax)\n",
    "        wall=M # envelop_dist(x)\n",
    "        p=np.random.uniform(0, wall)\n",
    "        if p<norm_target_dist(x):\n",
    "            return x\n",
    "samples = [rejection() for x in range(1000000)]"
   ]
  },
  {
   "cell_type": "code",
   "execution_count": 34,
   "id": "5d36e0d5",
   "metadata": {},
   "outputs": [
    {
     "data": {
      "text/plain": [
       "(0.0, 12.0)"
      ]
     },
     "execution_count": 34,
     "metadata": {},
     "output_type": "execute_result"
    },
    {
     "data": {
      "image/png": "[encoded data removed]",
      "text/plain": [
       "<Figure size 720x720 with 1 Axes>"
      ]
     },
     "metadata": {
      "needs_background": "light"
     },
     "output_type": "display_data"
    }
   ],
   "source": [
    "plt.figure(figsize=(10,10))\n",
    "n, bins, patches = plt.hist(x=samples, bins='auto',density=True, color='#009171',\n",
    "                            alpha=0.7, rwidth=0.85)\n",
    "plt.grid(axis='y', alpha=0.75)\n",
    "plt.xlabel('Mpc/h')\n",
    "plt.ylabel('Frequency')\n",
    "plt.title('Two-points correlation')\n",
    "maxfreq = n.max()\n",
    "# Set a clean upper y-axis limit.\n",
    "#plt.ylim(ymax=np.ceil(maxfreq / 10) * 10 if maxfreq % 10 else maxfreq + 2)\n",
    "plt.ylim(ymax=np.ceil(maxfreq))"
   ]
  },
  {
   "cell_type": "code",
   "execution_count": 12,
   "id": "4c015e3d",
   "metadata": {},
   "outputs": [
    {
     "data": {
      "text/plain": [
       "(0.0011558652316006623, 12.0)"
      ]
     },
     "execution_count": 12,
     "metadata": {},
     "output_type": "execute_result"
    },
    {
     "data": {
      "image/png": "[encoded data removed]",
      "text/plain": [
       "<Figure size 720x720 with 1 Axes>"
      ]
     },
     "metadata": {
      "needs_background": "light"
     },
     "output_type": "display_data"
    }
   ],
   "source": [
    "plt.figure(figsize=(10,10)) \n",
    "n, bins, patches = plt.hist(x=samples, bins=1000,density=True, color='#009171',\n",
    "                            alpha=0.7, rwidth=0.85)\n",
    "plt.grid(axis='y', alpha=0.75)\n",
    "plt.xlabel('Mpc/h')\n",
    "plt.ylabel('Frequency')\n",
    "plt.yscale('log')\n",
    "plt.title('Two-points correlation')\n",
    "maxfreq = n.max()\n",
    "# Set a clean upper y-axis limit.\n",
    "#plt.ylim(ymax=np.ceil(maxfreq / 10) * 10 if maxfreq % 10 else maxfreq + 2)\n",
    "plt.ylim(ymax=np.ceil(maxfreq))"
   ]
  },
  {
   "cell_type": "code",
   "execution_count": 6,
   "id": "c84c3638",
   "metadata": {},
   "outputs": [
    {
     "name": "stdout",
     "output_type": "stream",
     "text": [
      "6.774 6.774\n"
     ]
    },
    {
     "data": {
      "text/plain": [
       "[<matplotlib.lines.Line2D at 0x7f057ee53d60>]"
      ]
     },
     "execution_count": 6,
     "metadata": {},
     "output_type": "execute_result"
    },
    {
     "data": {
      "image/png": "[encoded data removed]",
      "text/plain": [
       "<Figure size 432x288 with 1 Axes>"
      ]
     },
     "metadata": {
      "needs_background": "light"
     },
     "output_type": "display_data"
    }
   ],
   "source": [
    "#----------------MC-rejection-with-CDF----------------------\n",
    "#you can do the inverse function to obtain the distance, but it is not a general way\n",
    "def sample(g,xmin,xmax):\n",
    "    x = np.linspace(xmin,xmax,1000000)\n",
    "    y = g(x)                        # probability density function, pdf\n",
    "    cdf_y = np.cumsum(y)            # cumulative distribution function, cdf\n",
    "    cdf_y = cdf_y/cdf_y.max()       # takes care of normalizing cdf to 1.0\n",
    "    inverse_cdf = interpolate.interp1d(cdf_y,x,fill_value=\"extrapolate\")# this is a function\n",
    "    #inverse_cdf = np.interp(0,cdf_y,x) #this works but it is not a function\n",
    "    return inverse_cdf\n",
    "inv_target_cdf=sample(target_dist,rmin,rmax)\n",
    "points=np.linspace(0,1,10000)\n",
    "print(inv_target_cdf(1),rmax)\n",
    "plt.plot(points,inv_target_cdf(points))"
   ]
  },
  {
   "cell_type": "code",
   "execution_count": 15,
   "id": "7c5c15e0",
   "metadata": {},
   "outputs": [
    {
     "data": {
      "image/png": "[encoded data removed]",
      "text/plain": [
       "<Figure size 1332x756 with 1 Axes>"
      ]
     },
     "metadata": {
      "needs_background": "light"
     },
     "output_type": "display_data"
    }
   ],
   "source": [
    "def return_samples(f,xmin,xmax,N=1000000):\n",
    "    # let's generate some samples according to the chosen pdf, f(x)\n",
    "    uniform_samples = random(int(N))\n",
    "    required_samples = sample(f,xmin,xmax)(uniform_samples)\n",
    "    return required_samples\n",
    "## plot\n",
    "values=return_samples(target_dist,rmin,rmax,10000000)\n",
    "x = np.linspace(rmin,rmax,100000)\n",
    "fig,ax = plt.subplots()\n",
    "fig.set_size_inches(18.5, 10.5)\n",
    "ax.set_xlabel('x')\n",
    "ax.set_ylabel('probability density')\n",
    "ax.plot(x,target_dist(x)/np.sum(target_dist(x)*(x[1]-x[0])) )\n",
    "#ax.plot(x,target_dist(x)/norm ) #slow\n",
    "ax.hist(values,bins='auto',density=True,range=(x.min(),x.max()))\n",
    "plt.show() "
   ]
  },
  {
   "cell_type": "code",
   "execution_count": 16,
   "id": "f9bdf74c",
   "metadata": {},
   "outputs": [
    {
     "name": "stdout",
     "output_type": "stream",
     "text": [
      "[0.08569704 0.07267611 0.65522083 ... 0.32328598 0.24956106 0.06857635]\n"
     ]
    }
   ],
   "source": [
    "print(values)"
   ]
  },
  {
   "cell_type": "code",
   "execution_count": null,
   "id": "3c4b9840",
   "metadata": {},
   "outputs": [],
   "source": []
  }
 ],
 "metadata": {
  "kernelspec": {
   "display_name": "Python 3",
   "language": "python",
   "name": "python3"
  },
  "language_info": {
   "codemirror_mode": {
    "name": "ipython",
    "version": 3
   },
   "file_extension": ".py",
   "mimetype": "text/x-python",
   "name": "python",
   "nbconvert_exporter": "python",
   "pygments_lexer": "ipython3",
   "version": "3.8.10"
  }
 },
 "nbformat": 4,
 "nbformat_minor": 5
}
