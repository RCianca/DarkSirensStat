{
 "cells": [
  {
   "cell_type": "code",
   "execution_count": 89,
   "id": "d592aec7",
   "metadata": {},
   "outputs": [],
   "source": [
    "#-------------------------Imports---------------------------\n",
    "import numpy as np\n",
    "import healpy as hp\n",
    "import matplotlib.pyplot as plt\n",
    "import matplotlib\n",
    "\n",
    "from scipy.stats import multivariate_normal\n",
    "from scipy.stats import kstest\n",
    "from scipy.stats import triang\n",
    "from scipy.stats import uniform\n",
    "\n",
    "import h5py\n",
    "import os\n",
    "from astropy.cosmology import Planck15\n",
    "from astropy.cosmology import FlatLambdaCDM\n",
    "\n",
    "###########################\n",
    "# CONSTANTS\n",
    "###########################\n",
    "H0GLOB= 69#67.9 #69\n",
    "Om0GLOB=0.3\n",
    "Xi0Glob =1.\n",
    "clight = 2.99792458* 10**5#km/s\n",
    "\n",
    "xmax=100\n",
    "ymax=100\n",
    "zmax=100\n",
    "half_box_size=2\n",
    "\n",
    "Npoints=1000\n",
    "Sigma=10\n",
    "\n",
    "cosmoglob = Planck15\n",
    "cosmofast = FlatLambdaCDM(H0=H0GLOB, Om0=Om0GLOB)\n",
    "H0=cosmoglob.H(0).value"
   ]
  },
  {
   "cell_type": "code",
   "execution_count": 2,
   "id": "ad4cb919",
   "metadata": {},
   "outputs": [],
   "source": [
    "#--------------------------definitions-------------------------\n",
    "def NumOfDS(x,y,z):\n",
    "    r=np.sqrt(x**2+y**2+z**2)\n",
    "    numberofDS=1000/r\n",
    "    #numberofDS=10\n",
    "    num=int(numberofDS)\n",
    "    #print(num)\n",
    "    if num>0:\n",
    "        return num\n",
    "    else:\n",
    "        return 1"
   ]
  },
  {
   "cell_type": "code",
   "execution_count": 3,
   "id": "9dc760fb",
   "metadata": {},
   "outputs": [],
   "source": [
    "#----------------------Create the box & fill it with hosts-------------------\n",
    "x=np.random.normal(loc=0,scale=Sigma,size=Npoints)\n",
    "y=np.random.normal(loc=0,scale=Sigma,size=Npoints)\n",
    "z=np.random.normal(loc=0,scale=Sigma,size=Npoints)"
   ]
  },
  {
   "cell_type": "code",
   "execution_count": 4,
   "id": "16c54f1f",
   "metadata": {},
   "outputs": [
    {
     "data": {
      "text/plain": [
       "\"fig = plt.figure(figsize = (10,10))\\nax = plt.axes(projection='3d')\\nax.grid()\\n\\nax.scatter(x, y, z, c = 'b', s = 5)\\nax.set_title('Host-Dristibution')\\n\\n# Set axes label\\nax.set_xlabel('x', labelpad=20)\\nax.set_ylabel('y', labelpad=20)\\nax.set_zlabel('z', labelpad=20)\\n#plt.savefig('HostDist.pdf')\""
      ]
     },
     "execution_count": 4,
     "metadata": {},
     "output_type": "execute_result"
    }
   ],
   "source": [
    "'''fig = plt.figure(figsize = (10,10))\n",
    "ax = plt.axes(projection='3d')\n",
    "ax.grid()\n",
    "\n",
    "ax.scatter(x, y, z, c = 'b', s = 5)\n",
    "ax.set_title('Host-Dristibution')\n",
    "\n",
    "# Set axes label\n",
    "ax.set_xlabel('x', labelpad=20)\n",
    "ax.set_ylabel('y', labelpad=20)\n",
    "ax.set_zlabel('z', labelpad=20)\n",
    "#plt.savefig('HostDist.pdf')'''"
   ]
  },
  {
   "cell_type": "code",
   "execution_count": 5,
   "id": "09949f32",
   "metadata": {},
   "outputs": [],
   "source": [
    "#-------This will be movend into a function\n",
    "x_Dark=[]\n",
    "y_Dark=[]\n",
    "z_Dark=[]\n",
    "arr_n=[]\n",
    "perc=0.4\n",
    "NDS=int(0.4*Npoints)\n",
    "indices=np.zeros(NDS)\n",
    "for k in range(NDS):\n",
    "    i=np.random.randint(0, Npoints-1)\n",
    "    indices[k]=i\n",
    "    dist_x=x[i]\n",
    "    dist_y=y[i]\n",
    "    dist_z=z[i]\n",
    "    n=NumOfDS(dist_x,dist_y,dist_z)\n",
    "    arr_n=np.append(arr_n,n)\n",
    "    x_DS=np.random.uniform(-half_box_size,half_box_size,n)\n",
    "    y_DS=np.random.uniform(-half_box_size,half_box_size,n)\n",
    "    z_DS=np.random.uniform(-half_box_size,half_box_size,n)\n",
    "    \n",
    "    #x_DS=np.random.uniform(0,1,n)\n",
    "    #y_DS=np.random.uniform(0,1,n)\n",
    "    #z_DS=np.random.uniform(0,1,n)\n",
    "    \n",
    "    x_Dark=np.append(x_Dark,dist_x+x_DS)\n",
    "    y_Dark=np.append(y_Dark,dist_y+y_DS)\n",
    "    z_Dark=np.append(z_Dark,dist_z+z_DS)\n",
    "#--------only unique indices of host-DS\n",
    "filtered=np.unique(indices)\n"
   ]
  },
  {
   "cell_type": "code",
   "execution_count": 6,
   "id": "0f0fdddc",
   "metadata": {},
   "outputs": [
    {
     "data": {
      "text/plain": [
       "\"fig2 = plt.figure(figsize = (10,10))\\nax = plt.axes(projection='3d')\\nax.grid()\\n\\nax.scatter(x_Dark, y_Dark, z_Dark, c = 'g', s = 10)\\nax.set_title('DS-Dristibution')\\n\\n# Set axes label\\nax.set_xlabel('x', labelpad=20)\\nax.set_ylabel('y', labelpad=20)\\nax.set_zlabel('z', labelpad=20)\\n#plt.savefig('DSDist.pdf')\""
      ]
     },
     "execution_count": 6,
     "metadata": {},
     "output_type": "execute_result"
    }
   ],
   "source": [
    "'''fig2 = plt.figure(figsize = (10,10))\n",
    "ax = plt.axes(projection='3d')\n",
    "ax.grid()\n",
    "\n",
    "ax.scatter(x_Dark, y_Dark, z_Dark, c = 'g', s = 10)\n",
    "ax.set_title('DS-Dristibution')\n",
    "\n",
    "# Set axes label\n",
    "ax.set_xlabel('x', labelpad=20)\n",
    "ax.set_ylabel('y', labelpad=20)\n",
    "ax.set_zlabel('z', labelpad=20)\n",
    "#plt.savefig('DSDist.pdf')'''"
   ]
  },
  {
   "cell_type": "code",
   "execution_count": 7,
   "id": "1f07e671",
   "metadata": {},
   "outputs": [
    {
     "data": {
      "text/plain": [
       "'figtot = plt.figure(figsize = (10,10))\\nax = plt.axes(projection=\\'3d\\')\\nax.grid()\\nax1 = figtot.add_subplot(111,projection=\\'3d\\')\\n\\nax1.scatter(x, y, z, c = \\'b\\', marker=\"*\", label=\\'Host\\')\\nax1.scatter(x_Dark, y_Dark, z_Dark, s=5, c = \\'g\\', marker=\"o\", label=\\'DS\\')\\nplt.legend(loc=\\'upper left\\');\\n#plt.savefig(\\'DS_and_Host.pdf\\')'"
      ]
     },
     "execution_count": 7,
     "metadata": {},
     "output_type": "execute_result"
    }
   ],
   "source": [
    "'''figtot = plt.figure(figsize = (10,10))\n",
    "ax = plt.axes(projection='3d')\n",
    "ax.grid()\n",
    "ax1 = figtot.add_subplot(111,projection='3d')\n",
    "\n",
    "ax1.scatter(x, y, z, c = 'b', marker=\"*\", label='Host')\n",
    "ax1.scatter(x_Dark, y_Dark, z_Dark, s=5, c = 'g', marker=\"o\", label='DS')\n",
    "plt.legend(loc='upper left');\n",
    "#plt.savefig('DS_and_Host.pdf')'''"
   ]
  },
  {
   "cell_type": "code",
   "execution_count": 8,
   "id": "c099f4ec",
   "metadata": {},
   "outputs": [
    {
     "data": {
      "text/plain": [
       "'figtot2dxy = plt.figure(figsize = (10,10))\\nax = plt.axes()\\nax.grid()\\nax.tick_params(axis=\\'both\\', which=\\'major\\', labelsize=14)\\nax.grid(linestyle=\\'dotted\\', linewidth=\\'0.6\\')\\nax.scatter(x, y, c = \\'b\\', marker=\"*\", label=\\'Host\\')\\nax.scatter(x_Dark, y_Dark, s=5, c = \\'g\\', marker=\"o\", label=\\'DS\\')\\nplt.legend(loc=\\'upper left\\');\\n#plt.savefig(\\'DS_and_Host_xy.pdf\\')'"
      ]
     },
     "execution_count": 8,
     "metadata": {},
     "output_type": "execute_result"
    }
   ],
   "source": [
    "'''figtot2dxy = plt.figure(figsize = (10,10))\n",
    "ax = plt.axes()\n",
    "ax.grid()\n",
    "ax.tick_params(axis='both', which='major', labelsize=14)\n",
    "ax.grid(linestyle='dotted', linewidth='0.6')\n",
    "ax.scatter(x, y, c = 'b', marker=\"*\", label='Host')\n",
    "ax.scatter(x_Dark, y_Dark, s=5, c = 'g', marker=\"o\", label='DS')\n",
    "plt.legend(loc='upper left');\n",
    "#plt.savefig('DS_and_Host_xy.pdf')'''"
   ]
  },
  {
   "cell_type": "code",
   "execution_count": 9,
   "id": "c6ca24d3",
   "metadata": {},
   "outputs": [
    {
     "name": "stdout",
     "output_type": "stream",
     "text": [
      "0.506186554931149\n",
      "0.5108958991953679\n",
      "0.5060167502977719\n"
     ]
    }
   ],
   "source": [
    "#--------------test-----------------\n",
    "all_px=[]\n",
    "all_py=[]\n",
    "all_pz=[]\n",
    "#this works is there is at least 1 DS for an Host\n",
    "for h in range(len(indices)):\n",
    "    if h==0:\n",
    "        pos=0\n",
    "    n=int(arr_n[h])\n",
    "    if n==1:\n",
    "        xdata=x_Dark[pos]-x[int(indices[h])]\n",
    "        ydata=y_Dark[pos]-y[int(indices[h])]\n",
    "        zdata=z_Dark[pos]-z[int(indices[h])]\n",
    "    else:\n",
    "        xdata=x_Dark[pos:pos+n]-x[int(indices[h])]\n",
    "        ydata=y_Dark[pos:pos+n]-y[int(indices[h])] \n",
    "        zdata=z_Dark[pos:pos+n]-z[int(indices[h])] \n",
    "        \n",
    "    pos=(pos+n)\n",
    "\n",
    "    statx,pvaluex=kstest(xdata,'uniform',args=(-half_box_size,half_box_size))\n",
    "    staty,pvaluey=kstest(ydata,'uniform',args=(-half_box_size,half_box_size))\n",
    "    statz,pvaluez=kstest(zdata,'uniform',args=(-half_box_size,half_box_size))\n",
    "    all_px=np.append(all_px,statx)\n",
    "    all_py=np.append(all_py,staty)\n",
    "    all_pz=np.append(all_pz,statz)\n",
    "\n",
    "print(np.mean(all_px))\n",
    "print(np.mean(all_py))\n",
    "print(np.mean(all_pz))"
   ]
  },
  {
   "cell_type": "code",
   "execution_count": 124,
   "id": "824ef731",
   "metadata": {},
   "outputs": [],
   "source": [
    "#------------------MC-rejection-sampling---------------------------------\n",
    "#this will be a function\n",
    "N=100\n",
    "h=H0/100\n",
    "r0=5*h\n",
    "gamma=1.8\n",
    "rmin=0.1*h\n",
    "rmax=10*h\n",
    "\n",
    "#target function\n",
    "target_dist= lambda r: N*(r/r0)**(-gamma)\n",
    "#envelope\n",
    "M=target_dist(rmin)\n",
    "K=target_dist(rmax)\n",
    "#envelop_dist=lambda r: M+((K-M)/(rmax-rmin))*(r-rmin)\n",
    "#the envelope must be a constant otherwise the function is not sampled correctly \n",
    "def rejection():\n",
    "    while True:\n",
    "        x=np.random.uniform(rmin, rmax)\n",
    "        #x=np.random.triangular(rmin-0.001*rmin,rmin,rmax)\n",
    "        wall=M # envelop_dist(x)\n",
    "        p=np.random.uniform(0, wall)\n",
    "        if p<target_dist(x):\n",
    "            return x\n",
    "samples = [rejection() for x in range(100000)]\n"
   ]
  },
  {
   "cell_type": "code",
   "execution_count": 125,
   "id": "5d36e0d5",
   "metadata": {},
   "outputs": [
    {
     "data": {
      "text/plain": [
       "(0.0, 7.0)"
      ]
     },
     "execution_count": 125,
     "metadata": {},
     "output_type": "execute_result"
    },
    {
     "data": {
      "image/png": "[encoded data removed]",
      "text/plain": [
       "<Figure size 720x720 with 1 Axes>"
      ]
     },
     "metadata": {
      "needs_background": "light"
     },
     "output_type": "display_data"
    }
   ],
   "source": [
    "plt.figure(figsize=(10,10)) \n",
    "n, bins, patches = plt.hist(x=samples, bins=100,density=True, color='#009171',\n",
    "                            alpha=0.7, rwidth=0.85)\n",
    "plt.grid(axis='y', alpha=0.75)\n",
    "plt.xlabel('Mpc/h')\n",
    "plt.ylabel('Frequency')\n",
    "plt.title('Two-points correlation')\n",
    "maxfreq = n.max()\n",
    "# Set a clean upper y-axis limit.\n",
    "#plt.ylim(ymax=np.ceil(maxfreq / 10) * 10 if maxfreq % 10 else maxfreq + 2)\n",
    "plt.ylim(ymax=np.ceil(maxfreq))"
   ]
  },
  {
   "cell_type": "code",
   "execution_count": 126,
   "id": "4c015e3d",
   "metadata": {},
   "outputs": [
    {
     "data": {
      "text/plain": [
       "(0.001055549316214243, 12.0)"
      ]
     },
     "execution_count": 126,
     "metadata": {},
     "output_type": "execute_result"
    },
    {
     "data": {
      "image/png": "[encoded data removed]",
      "text/plain": [
       "<Figure size 720x720 with 1 Axes>"
      ]
     },
     "metadata": {
      "needs_background": "light"
     },
     "output_type": "display_data"
    }
   ],
   "source": [
    "plt.figure(figsize=(10,10)) \n",
    "n, bins, patches = plt.hist(x=samples, bins=1000,density=True, color='#009171',\n",
    "                            alpha=0.7, rwidth=0.85)\n",
    "plt.grid(axis='y', alpha=0.75)\n",
    "plt.xlabel('Mpc/h')\n",
    "plt.ylabel('Frequency')\n",
    "plt.yscale('log')\n",
    "plt.title('Two-points correlation')\n",
    "maxfreq = n.max()\n",
    "# Set a clean upper y-axis limit.\n",
    "#plt.ylim(ymax=np.ceil(maxfreq / 10) * 10 if maxfreq % 10 else maxfreq + 2)\n",
    "plt.ylim(ymax=np.ceil(maxfreq))"
   ]
  },
  {
   "cell_type": "code",
   "execution_count": null,
   "id": "7c5c15e0",
   "metadata": {},
   "outputs": [],
   "source": []
  }
 ],
 "metadata": {
  "kernelspec": {
   "display_name": "Python 3",
   "language": "python",
   "name": "python3"
  },
  "language_info": {
   "codemirror_mode": {
    "name": "ipython",
    "version": 3
   },
   "file_extension": ".py",
   "mimetype": "text/x-python",
   "name": "python",
   "nbconvert_exporter": "python",
   "pygments_lexer": "ipython3",
   "version": "3.8.10"
  }
 },
 "nbformat": 4,
 "nbformat_minor": 5
}
