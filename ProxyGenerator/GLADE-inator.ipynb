{
 "cells": [
  {
   "cell_type": "code",
   "execution_count": 1,
   "id": "17fd150a",
   "metadata": {},
   "outputs": [],
   "source": [
    "#Script per modificare il catalogo GLADE_2.4 cambiandone i valori. \n",
    "#------------------Import--------------------------------\n",
    "\n",
    "import numpy as np \n",
    "import matplotlib.pyplot as plt \n",
    "import pandas as pd\n",
    "\n",
    "from astropy.cosmology import Planck15\n",
    "from astropy.cosmology import FlatLambdaCDM\n",
    "from astropy.io import fits\n",
    "from astropy.table import Table\n",
    "\n",
    "from multiprocessing import Pool\n",
    "import os \n",
    "import statistics as stat\n",
    "import time\n",
    "from tqdm import tqdm"
   ]
  },
  {
   "cell_type": "code",
   "execution_count": 2,
   "id": "d1e7c147",
   "metadata": {},
   "outputs": [],
   "source": [
    "#Catalogue path\n",
    "cat_data_path='/home/rciancarella/DarkSirensStat/data/GLADE/'\n",
    "os.chdir(cat_data_path)\n",
    "#all_event=os.listdir()\n",
    "#print(all_event)"
   ]
  },
  {
   "cell_type": "code",
   "execution_count": 3,
   "id": "8501f3bd",
   "metadata": {},
   "outputs": [],
   "source": [
    "H0GLOB= 67#67.9 #69\n",
    "Om0GLOB=0.319\n",
    "Xi0Glob =1.\n",
    "cosmoglob = Planck15\n",
    "clight = 2.99792458* 10**5#km/s\n",
    "cosmofast = FlatLambdaCDM(H0=H0GLOB, Om0=Om0GLOB)\n",
    "import random as rn\n",
    "clight = 2.99792458* 10**5#km/s\n",
    "\n",
    "\n",
    "#---------------Def Funzioni---------------------\n",
    "def reflag(dataframe, flag_value, trim_factor):\n",
    "    newdf=dataframe\n",
    "    print('setting flag error to {} on glaxies, trimming the number by a factor {}'.format(flag_value, trim_factor))\n",
    "    nrows=int(newdf.shape[0]/trim_factor)\n",
    "    print('nrows={}, initial rows={}'.format(nrows,newdf.shape[0]))\n",
    "    if trim_factor!=1:\n",
    "        newdf=newdf.sample(nrows)\n",
    "        print('trimmato')\n",
    "    newdf['lum_dist_flag']=newdf['lum_dist_flag'].replace(to_replace=2,value=flag_value)\n",
    "    newdf['lum_dist_flag']=newdf['lum_dist_flag'].replace(to_replace=1,value=flag_value)\n",
    "    if flag_value==4:\n",
    "        newdf['lum_dist_flag']=newdf['lum_dist_flag'].replace(to_replace=1,value=flag_value)\n",
    "        newdf['lum_dist_flag']=newdf['lum_dist_flag'].replace(to_replace=2,value=flag_value)\n",
    "        newdf['lum_dist_flag']=newdf['lum_dist_flag'].replace(to_replace=3,value=flag_value)\n",
    "        filename=os.path.join(os.getcwd(), 'GLADE_spectro_flag4'+'_'+str(trim_factor)+'.txt')\n",
    "    else:\n",
    "        filename=os.path.join(os.getcwd(), 'GLADE_spectro'+'_'+str(trim_factor)+'.txt')\n",
    "    print('\\nsalvataggio del nuovo catalogo, attendere')\n",
    "    np.savetxt(filename,newdf.values,fmt='%s')\n",
    "    print('{} salvato'.format(filename))\n",
    "    \n",
    "def cont_flag3(dataframe):\n",
    "    start=dataframe.shape[0]\n",
    "    flag3=dataframe.apply(lambda x: True if x['lum_dist_flag'] == 3 else False , axis=1)\n",
    "    nflag=len(flag3[flag3 == True].index)\n",
    "    perc=nflag*100/start\n",
    "    print('Initial hosts={}, number of flag3 host={} that is {}%'.format(start,nflag,perc))\n",
    "    \n",
    "def cont_flag2(dataframe):\n",
    "    start=dataframe.shape[0]\n",
    "    flag2=dataframe.apply(lambda x: True if x['lum_dist_flag'] == 2 else False , axis=1)\n",
    "    nflag=len(flag2[flag2 == True].index)\n",
    "    perc=nflag*100/start\n",
    "    print('Initial hosts={}, number of flag2 host={} that is {}%'.format(start,nflag,perc))\n",
    "    \n",
    "def trimmer(dataframe,trim_factor):\n",
    "    newdf=dataframe\n",
    "    print('trimming the catalogue by {} %'.format(trim_factor))\n",
    "    nrows=int(newdf.shape[0]*(1-trim_factor/100))\n",
    "    print('nrows={}, initial rows={}'.format(nrows,newdf.shape[0]))\n",
    "    if trim_factor!=0:\n",
    "        newdf=newdf.sample(nrows)\n",
    "        print('trimming')\n",
    "        filename=os.path.join(os.getcwd(), 'GLADE_trimmed'+'_'+str(trim_factor)+'.txt')\n",
    "        print('\\nsalvataggio del nuovo catalogo, attendere')\n",
    "        np.savetxt(filename,newdf.values,fmt='%s')\n",
    "        print('{} salvato'.format(filename))\n",
    "    \n",
    "\n",
    "def fake_host(df,ra,dec,dl,z):\n",
    "    newrow=puppetrow\n",
    "    newrow['right_ascension_degrees']=ra\n",
    "    newrow['declination_degrees']=dec\n",
    "    newrow['dl']=dl\n",
    "    newrow['app_K_mag']=8\n",
    "    newrow['pec_vel_correction']=1\n",
    "    #newrow['err_lum_dist']='NaN'\n",
    "    newrow['z']=z\n",
    "    return newrow\n",
    "def random_displace(ra,dec,dl,delta):\n",
    "    raout=ra+rn.uniform(-1,1)\n",
    "    decout=dec+rn.uniform(-1,1)\n",
    "    dlout=rn.gauss(dl,delta)\n",
    "    zout=Planck15.H(0).value*dlout/clight\n",
    "    return raout, decout, dlout, zout\n",
    "    \n",
    "    \n",
    "\n",
    "    \n",
    "    "
   ]
  },
  {
   "cell_type": "code",
   "execution_count": null,
   "id": "4b4cd49a",
   "metadata": {},
   "outputs": [],
   "source": []
  },
  {
   "cell_type": "code",
   "execution_count": null,
   "id": "620671dd",
   "metadata": {},
   "outputs": [],
   "source": [
    "#--------------globals and flags-----------------\n",
    "nohost=8\n",
    "clear=1\n",
    "onebyone=1\n",
    "#---------------Main-----------------------------\n",
    "#alcuni appunti sui flag:\n",
    "\n",
    "#Object type flag: Q the source is from the SDSS-DR12Q catalogue. C: the source is a globular cluster. \n",
    "#G:the source is not from the SDSS-DR12Q catalogue and notidentified as a globular cluster\n",
    "\n",
    "#Luminosity distance measurement flag. 0: the object has neither measured distance nor measured redshift value.\n",
    "#1: the object has measured redshift value from which we have calculated its distance. 2: the object has measured distance\n",
    "#value from which we have calculated its redshift. 3: we have replaced the measured photometric redshift with spectroscopic\n",
    "#redshift from the 2MASS Redshift Survey catalogue,from which we have calculated its distance.\n",
    "\n",
    "#Velocity correction flag. It indicates whether the peculiar velocity correction was not (’0’) or was (’1’) applied\n",
    "#when the distance of the object was calculated.\n",
    "\n",
    "#df = pd.read_csv('TestGLADE.txt', sep=\" \", header=None, low_memory=False)\n",
    "tempdf = pd.read_csv('puppet.txt', sep=\" \", header=None, low_memory=False)\n",
    "df = pd.read_csv('GLADE_2.4.txt', sep=\" \", header=None, low_memory=False)\n",
    "#print(df[20])#pandas lavora al contrario ossia [colonna][riga]\n",
    "colnames=['numevent','GWGC_name','HyperLEDA_name','2MASS_XSC_name','SDSS-DR12Q_name','type_flag','right_ascension_degrees',\n",
    "          'declination_degrees','dl','err_lum_dist','z','app_B_mag','err_app_B_mag','abs_B_mag','app_J_mag',\n",
    "          'err_app_J_mag','app_H_mag','err_app_H_mag','app_K_mag','err_app_K_mag','lum_dist_flag','pec_vel_correction'\n",
    "          ]\n",
    "df.columns=colnames\n",
    "tempdf.columns=colnames\n",
    "puppetrow=tempdf.iloc[0]\n",
    "ncols=len(df.columns)\n",
    "nraws=len(df.index)\n",
    "print(\"righe={}, colonne={}, shape={} \" .format(nraws,ncols,df.shape))\n",
    "\n",
    "#conteggio eventi tra z1 e z2\n",
    "#print(df.shape[0])\n",
    "#z1=0.05\n",
    "#z2=0.12\n",
    "#err=0.02\n",
    "#counterdf=df[df['z'].between(z1-err, z1+err)]\n",
    "#print(counterdf.shape[0])\n",
    "#newconter=df[df['z'].between(z2-err, z2+err)]\n",
    "#print(newconter.shape[0])\n",
    "#print(len(newconter))\n"
   ]
  },
  {
   "cell_type": "code",
   "execution_count": null,
   "id": "1bdd832f",
   "metadata": {},
   "outputs": [],
   "source": [
    "\n",
    "znull=np.where(df.z.notna(),1,0)\n",
    "dlnull=np.where(df.dl.notna(),1,0)\n",
    "z_zero=np.count_nonzero(znull==0)\n",
    "dl_zero=np.count_nonzero(dlnull==0)\n",
    "print('la colonna z ha {} elementi nulli\\nla colonna dl ha {} elementi nulli'.format(z_zero,dl_zero))\n",
    "dLvals = df[df.dl.notna()]['dl']\n",
    "print('%s elementi in dLvals'%dLvals.shape[0])\n",
    "zvals = df[df.z.notna()]['z']\n",
    "print('%s elementi in z'%zvals.shape[0])\n",
    "\n",
    "\n",
    "newdf=df[df['z'].notna()]\n",
    "newdf=newdf[newdf['dl'].notna()]\n",
    "znull=np.where(newdf.z.notna(),1,0)\n",
    "dlnull=np.where(newdf.dl.notna(),1,0)\n",
    "z_zero=np.count_nonzero(znull==0)\n",
    "dl_zero=np.count_nonzero(dlnull==0)\n",
    "col=newdf['z']\n",
    "max_z=col.max()\n",
    "print('massimo valore redshift: z={}  '.format(max_z))\n",
    "\n",
    "print('la colonna z ha {} elementi nulli\\nla colonna dl ha {} elementi nulli'.format(z_zero,dl_zero))\n",
    "#print('\\n\\n\\n salvataggio del nuovo catalogo, attendere')\n",
    "#np.savetxt('GLADE_nonull.txt',newdf.values,fmt='%s')\n",
    "#print('GLADE_nonull.txt salvato')\n",
    "    \n",
    "    \n"
   ]
  },
  {
   "cell_type": "code",
   "execution_count": null,
   "id": "fce7f26c",
   "metadata": {
    "scrolled": true
   },
   "outputs": [],
   "source": [
    "#reflag(newdf,3,1)"
   ]
  },
  {
   "cell_type": "code",
   "execution_count": null,
   "id": "848231c8",
   "metadata": {},
   "outputs": [],
   "source": [
    "#cont_flag3(newdf)"
   ]
  },
  {
   "cell_type": "code",
   "execution_count": null,
   "id": "e2b22f47",
   "metadata": {},
   "outputs": [],
   "source": [
    "#cont_flag2(newdf)"
   ]
  },
  {
   "cell_type": "code",
   "execution_count": null,
   "id": "6920bc31",
   "metadata": {
    "scrolled": true
   },
   "outputs": [],
   "source": [
    "#trimmer(newdf,90)"
   ]
  },
  {
   "cell_type": "code",
   "execution_count": null,
   "id": "c8abdb6f",
   "metadata": {
    "scrolled": true
   },
   "outputs": [],
   "source": [
    "#-------------Inserimento Fake Hosts--------------------------\n",
    "#fake_host(df,ra,dec,dl,z)\n",
    "iteration=10\n",
    "#----------------GW190412-----------------------\n",
    "ra=218.4521484375\n",
    "dec=36.42357364233115\n",
    "dl=734.121575455142\n",
    "std=93.28161482151035\n",
    "z=0.16587940821823915\n",
    "toadd=fake_host(newdf,ra,dec,dl,z)\n",
    "newdf=newdf.append(toadd)\n",
    "#for i in range(iteration):\n",
    "    #ra0,dec0,dl0,z0 = random_displace(ra,dec,dl,std)\n",
    "    #toadd=fake_host(newdf,ra0,dec0,dl0,z0)\n",
    "    #newdf=newdf.append(toadd)\n",
    "print('1 of 5 done')\n",
    "#-------------GW190814---------------------------\n",
    "ra=12.7001953125\n",
    "dec=-24.87076339473571\n",
    "dl=240.7344958889034\n",
    "std=26.05124052395576\n",
    "z=0.05439548032764159\n",
    "toadd=fake_host(newdf,ra,dec,dl,z)\n",
    "newdf=newdf.append(toadd)\n",
    "#for i in range(iteration):\n",
    "    #ra0,dec0,dl0,z0 = random_displace(ra,dec,dl,std)\n",
    "    #toadd=fake_host(newdf,ra0,dec0,dl0,z0)\n",
    "    #newdf=newdf.append(toadd)\n",
    "print('2 of 5 done')\n",
    "#---------------GW190924_021846---------------------\n",
    "ra=127.265625\n",
    "dec=16.25709623792208\n",
    "dl=572.3830413569922 \n",
    "std=136.682093600127\n",
    "z=0.1293335645605956\n",
    "toadd=fake_host(newdf,ra,dec,dl,z)\n",
    "newdf=newdf.append(toadd)\n",
    "for i in range(iteration):\n",
    "    ra0,dec0,dl0,z0 = random_displace(ra,dec,dl,std)\n",
    "    toadd=fake_host(newdf,ra0,dec0,dl0,z0)\n",
    "    newdf=newdf.append(toadd)\n",
    "print('3 of 5 done')    \n",
    "#-----------------GW190527_092055--------------------------\n",
    "ra=39.14383561643836\n",
    "dec=-63.07261938698223\n",
    "dl=3562.931275516\n",
    "std=1965.511983689016\n",
    "z=0.8050668326134269\n",
    "toadd=fake_host(newdf,ra,dec,dl,z)\n",
    "#newdf=newdf.append(toadd)\n",
    "#for i in range(iteration):\n",
    "    #ra0,dec0,dl0,z0 = random_displace(ra,dec,dl,std)\n",
    "    #toadd=fake_host(newdf,ra0,dec0,dl0,z0)\n",
    "    #newdf=newdf.append(toadd)\n",
    "print('4 of 5 done')\n",
    "\n",
    "#-----------------GW170817--------------------------\n",
    "#ra=196.03586373589667 #3.44616 #105.29296875\n",
    "#dec=-20.841149792255525#-0.408084 #-0.7833651412800737\n",
    "#dl=34.03408225450563\n",
    "#std=7.499686641911211\n",
    "#z=0.0087\n",
    "#toadd=fake_host(newdf,ra,dec,dl,z)\n",
    "#newdf=newdf.append(toadd)\n",
    "#for i in range(iteration):\n",
    "    #ra0,dec0,dl0,z0 = random_displace(ra,dec,dl,std)\n",
    "    #toadd=fake_host(newdf,ra0,dec0,dl0,z0)\n",
    "    #newdf=newdf.append(toadd)\n",
    "print('5 of 5 done')\n",
    "#------------------Fake-BS-------------------------\n",
    "ra=196.03586373589667 #3.44616 #105.29296875\n",
    "dec=-20.841149792255525#-0.408084 #-0.7833651412800737\n",
    "dl=20\n",
    "std=4.595980697842096\n",
    "z=cosmoglob.H(0).value*dl/clight\n",
    "toadd=fake_host(newdf,ra,dec,dl,z)\n",
    "newdf=newdf.append(toadd)\n",
    "newdf=newdf.tail(6)\n",
    "#----------------Saving-------------------------------\n",
    "filename=os.path.join(os.getcwd(), 'GLADE_fakeBS20'+'.txt')\n",
    "print('Saving new catalogue with host injection, wait...')\n",
    "np.savetxt(filename,newdf.values,fmt='%s')\n",
    "print('{} saved!'.format(filename))\n"
   ]
  },
  {
   "cell_type": "markdown",
   "id": "c10e8fd4",
   "metadata": {},
   "source": [
    "# From FlagShip to GLADE-like"
   ]
  },
  {
   "cell_type": "code",
   "execution_count": null,
   "id": "25c96550",
   "metadata": {},
   "outputs": [],
   "source": [
    "#------------read the flagship-------------------------------------\n",
    "dat = Table.read('11536.fits', format='fits')\n",
    "flagship = dat.to_pandas()#all good, is an only text fits\n",
    "print(flagship.columns)\n",
    "flagship.head(3)"
   ]
  },
  {
   "cell_type": "code",
   "execution_count": null,
   "id": "2be8efc6",
   "metadata": {},
   "outputs": [],
   "source": [
    "#alcuni appunti sui flag:\n",
    "\n",
    "#Object type flag: Q the source is from the SDSS-DR12Q catalogue.\n",
    "#C: the source is a globular cluster. \n",
    "#G:the source is not from the SDSS-DR12Q catalogue and notidentified as a globular cluster\n",
    "\n",
    "#Luminosity distance measurement flag.\n",
    "#0: the object has neither measured distance nor measured redshift value.\n",
    "#1: the object has measured redshift value from which we have calculated its distance. \n",
    "#2: the object has measured distance value from which we have calculated its redshift. \n",
    "#3: we have replaced the measured photometric redshift with spectroscopic redshift \n",
    "#from the 2MASS Redshift Survey catalogue,from which we have calculated its distance.\n",
    "\n",
    "#Velocity correction flag. It indicates whether the peculiar velocity correction was not (’0’)\n",
    "#or was (’1’) applied when the distance of the object was calculated.\n"
   ]
  },
  {
   "cell_type": "code",
   "execution_count": 6,
   "id": "cba1b141",
   "metadata": {},
   "outputs": [],
   "source": [
    "#---------------read Glade-------------------\n",
    "glade = pd.read_csv('GLADE_2.4.txt', sep=\" \", header=None, low_memory=False)\n",
    "#print(df[20])#pandas lavora al contrario ossia [colonna][riga]\n",
    "colnames=['numevent','GWGC_name','HyperLEDA_name','2MASS_XSC_name','SDSS-DR12Q_name','type_flag','right_ascension_degrees',\n",
    "          'declination_degrees','dl','err_lum_dist','z','app_B_mag','err_app_B_mag','abs_B_mag','app_J_mag',\n",
    "          'err_app_J_mag','app_H_mag','err_app_H_mag','app_K_mag','err_app_K_mag','lum_dist_flag','pec_vel_correction'\n",
    "          ]\n",
    "glade.columns=colnames\n",
    "glade.head(5)\n",
    "klum=np.array(glade['app_K_mag'])\n",
    "#zglade=np.array(flagship['true_redshift_gal'])"
   ]
  },
  {
   "cell_type": "code",
   "execution_count": null,
   "id": "a404f597",
   "metadata": {},
   "outputs": [],
   "source": [
    "ramin=np.array(flagship['ra_gal']).min()\n",
    "print(ramin)\n",
    "ramax=np.array(flagship['ra_gal']).max()\n",
    "print(ramax)"
   ]
  },
  {
   "cell_type": "code",
   "execution_count": null,
   "id": "8e9da2c7",
   "metadata": {},
   "outputs": [],
   "source": [
    "decmin=np.array(flagship['dec_gal']).min()\n",
    "print(decmin)\n",
    "decmax=np.array(flagship['dec_gal']).max()\n",
    "print(decmax)"
   ]
  },
  {
   "cell_type": "code",
   "execution_count": 7,
   "id": "f6054780",
   "metadata": {},
   "outputs": [
    {
     "name": "stdout",
     "output_type": "stream",
     "text": [
      "10.535271935685417 inf 5.277627146516081 4.923685721873297 4.862867403148511\n"
     ]
    }
   ],
   "source": [
    "mean_app_B_mag=np.sum(glade['app_B_mag'])/glade.shape[0]\n",
    "mean_abs_B_mag=np.sum(glade['abs_B_mag'])/glade.shape[0]\n",
    "mean_app_J_mag=np.sum(glade['app_J_mag'])/glade.shape[0]\n",
    "mean_app_H_mag=np.sum(glade['app_H_mag'])/glade.shape[0]\n",
    "mean_app_K_mag=np.sum(glade['app_K_mag'])/glade.shape[0]\n",
    "print(mean_app_B_mag,mean_abs_B_mag,mean_app_J_mag,mean_app_H_mag,mean_app_K_mag)"
   ]
  },
  {
   "cell_type": "code",
   "execution_count": 8,
   "id": "3fceb2eb",
   "metadata": {},
   "outputs": [
    {
     "name": "stdout",
     "output_type": "stream",
     "text": [
      "lum mean=13.334410160003385, lum std=0.7488173704298869\n"
     ]
    },
    {
     "data": {
      "image/png": "[encoded data removed]",
      "text/plain": [
       "<Figure size 432x288 with 1 Axes>"
      ]
     },
     "metadata": {
      "needs_background": "light"
     },
     "output_type": "display_data"
    }
   ],
   "source": [
    "klum = klum[~np.isnan(klum)]\n",
    "plt.hist(klum,bins='auto')\n",
    "klum_mean=stat.mean(klum)\n",
    "klum_std=stat.stdev(klum)\n",
    "print('lum mean={}, lum std={}'.format(klum_mean,klum_std))"
   ]
  },
  {
   "cell_type": "code",
   "execution_count": null,
   "id": "19e30dfe",
   "metadata": {},
   "outputs": [],
   "source": [
    "scatter_k=np.array(glade['app_K_mag'])\n",
    "scatter_z=np.array(glade['z'])\n"
   ]
  },
  {
   "cell_type": "code",
   "execution_count": 9,
   "id": "c039ccfe",
   "metadata": {},
   "outputs": [
    {
     "name": "stdout",
     "output_type": "stream",
     "text": [
      "0.12391253898540787 0.029373865791390466 0.033138621476712704 0.04406159611796981\n"
     ]
    }
   ],
   "source": [
    "err_app_B_mag=np.sum(glade['err_app_B_mag'])/glade.shape[0]\n",
    "err_app_J_mag=np.sum(glade['err_app_J_mag'])/glade.shape[0]\n",
    "err_app_H_mag=np.sum(glade['err_app_H_mag'])/glade.shape[0]\n",
    "err_app_K_mag=np.sum(glade['err_app_K_mag'])/glade.shape[0]\n",
    "print(err_app_B_mag,err_app_J_mag,err_app_H_mag,err_app_K_mag)"
   ]
  },
  {
   "cell_type": "code",
   "execution_count": null,
   "id": "9a325eec",
   "metadata": {},
   "outputs": [],
   "source": [
    "h=0.67\n",
    "mynumevent=int(43495)\n",
    "myngcup=int(4736)\n",
    "GWGC_name='NGC'+ str(myngcup)\n",
    "HyperLEDA_name=GWGC_name\n",
    "MASS_XSC_name='NaN'\n",
    "type_flag='G'\n",
    "proxy_row={'numevent':mynumevent,'GWGC_name':GWGC_name,'HyperLEDA_name':HyperLEDA_name,\n",
    "           '2MASS_XSC_name':MASS_XSC_name,'SDSS-DR12Q_name':'NaN','type_flag':type_flag,\n",
    "           'right_ascension_degrees':0,'declination_degrees':0,'dl':0,'z':0,\n",
    "           'app_B_mag':mean_app_B_mag,'err_app_B_mag':err_app_B_mag,'abs_B_mag':'NaN',\n",
    "           'app_J_mag':mean_app_J_mag,'err_app_J_mag':err_app_J_mag,\n",
    "           'app_H_mag':mean_app_H_mag,'err_app_H_mag':err_app_H_mag,\n",
    "           'app_K_mag':klum_mean+4,'err_app_K_mag':klum_std,\n",
    "           'lum_dist_flag':3,'pec_vel_correction':0\n",
    "          }"
   ]
  },
  {
   "cell_type": "code",
   "execution_count": null,
   "id": "63121ff7",
   "metadata": {},
   "outputs": [],
   "source": [
    "\n",
    "#print(df[20])#pandas lavora al contrario ossia [colonna][riga]\n",
    "colnames=['numevent','GWGC_name','HyperLEDA_name','2MASS_XSC_name','SDSS-DR12Q_name','type_flag','right_ascension_degrees',\n",
    "          'declination_degrees','dl','err_lum_dist','z','app_B_mag','err_app_B_mag','abs_B_mag','app_J_mag',\n",
    "          'err_app_J_mag','app_H_mag','err_app_H_mag','app_K_mag','err_app_K_mag','lum_dist_flag','pec_vel_correction'\n",
    "          ]\n",
    "glade_like = pd.DataFrame(columns=colnames)\n",
    "#glade_like.columns=colnames\n",
    "glade_like.head()"
   ]
  },
  {
   "cell_type": "code",
   "execution_count": null,
   "id": "9dd135ee",
   "metadata": {},
   "outputs": [],
   "source": [
    "#-----------filler-------------------\n",
    "def GLADE_inator(iterations):\n",
    "#for i in tqdm(range(flagship.shape[0])):\n",
    "#for i in range(iterations):\n",
    "    i=iterations\n",
    "    numevent=mynumevent+i\n",
    "    ngcup=myngcup+i\n",
    "    GWGC_name='NGC'+ str(ngcup)\n",
    "    HyperLEDA_name=GWGC_name\n",
    "    ra_gal=flagship['ra_gal'][i]\n",
    "    dec_gal=flagship['dec_gal'][i]\n",
    "    zz=flagship['true_redshift_gal'][i]\n",
    "    #----------dl----------------------\n",
    "    #distances are in Mpc/h and are comoving distances. We need luminosity distances and Mpc \n",
    "    host_x=flagship['x_gal'][i]/h #restore the right units\n",
    "    host_y=flagship['y_gal'][i]/h\n",
    "    host_z=flagship['z_gal'][i]/h\n",
    "\n",
    "    lum_host_x=host_x*(1+zz)\n",
    "    lum_host_y=host_y*(1+zz)\n",
    "    lum_host_z=host_z*(1+zz)\n",
    "    dl=np.sqrt(lum_host_x**2+lum_host_y**2+lum_host_z**2)\n",
    "    temp_k_lum=np.random.normal(loc=klum_mean,scale=2*klum_std)\n",
    "    #----------row to append---------------------\n",
    "    proxy_row={'numevent':numevent,'GWGC_name':GWGC_name,'HyperLEDA_name':HyperLEDA_name,\n",
    "           '2MASS_XSC_name':MASS_XSC_name,'SDSS-DR12Q_name':'NaN','type_flag':type_flag,\n",
    "           'right_ascension_degrees':ra_gal,'declination_degrees':dec_gal,'dl':dl,'z':zz,\n",
    "           'app_B_mag':mean_app_B_mag,'err_app_B_mag':err_app_B_mag,'abs_B_mag':'NaN',\n",
    "           'app_J_mag':mean_app_J_mag,'err_app_J_mag':err_app_J_mag,\n",
    "           'app_H_mag':mean_app_H_mag,'err_app_H_mag':err_app_H_mag,\n",
    "           'app_K_mag':temp_k_lum,'err_app_K_mag':klum_std,\n",
    "           'lum_dist_flag':3,'pec_vel_correction':0\n",
    "          }\n",
    "    #data.append([proxy_row])\n",
    "    return proxy_row\n",
    "    #print(proxy_row)\n",
    "#glade_like.head()"
   ]
  },
  {
   "cell_type": "code",
   "execution_count": null,
   "id": "ab88f11c",
   "metadata": {},
   "outputs": [],
   "source": [
    "arr=np.arange(0,flagship.shape[0],dtype=int)\n",
    "data=[]\n",
    "tmp=[]\n",
    "start_time = time.time()\n",
    "with Pool(13) as p:\n",
    "    tmp=p.map(GLADE_inator, arr)\n",
    "print(\"--- %s seconds ---\" % (time.time() - start_time))\n",
    "#glade_like.to_csv(r'GLADE_flagship.txt', header=None, index=None, sep=' ', mode='a')"
   ]
  },
  {
   "cell_type": "code",
   "execution_count": null,
   "id": "284e5235",
   "metadata": {},
   "outputs": [],
   "source": [
    "glade_like=glade_like.append(tmp, ignore_index=True)\n",
    "glade_like.head()"
   ]
  },
  {
   "cell_type": "code",
   "execution_count": null,
   "id": "3f4bba96",
   "metadata": {},
   "outputs": [],
   "source": [
    "glade_like.to_csv('GLADE_flagship.txt', header=None, index=None, sep=' ')"
   ]
  },
  {
   "cell_type": "code",
   "execution_count": null,
   "id": "d2842c2e",
   "metadata": {},
   "outputs": [],
   "source": [
    "del tmp\n",
    "del data"
   ]
  },
  {
   "cell_type": "code",
   "execution_count": null,
   "id": "24d38397",
   "metadata": {},
   "outputs": [],
   "source": [
    "proxy_row2={'numevent':7,'GWGC_name':GWGC_name,'HyperLEDA_name':HyperLEDA_name,\n",
    "           '2MASS_XSC_name':MASS_XSC_name,'SDSS-DR12Q_name':'NaN','type_flag':type_flag,\n",
    "           'right_ascension_degrees':0,'declination_degrees':0,'dl':0,'z':0,\n",
    "           'app_B_mag':mean_app_B_mag,'err_app_B_mag':err_app_B_mag,'abs_B_mag':'NaN',\n",
    "           'app_J_mag':mean_app_J_mag,'err_app_J_mag':err_app_J_mag,\n",
    "           'app_H_mag':mean_app_H_mag,'err_app_H_mag':err_app_H_mag,\n",
    "           'app_K_mag':temp_k_lum,'err_app_K_mag':klum_std,\n",
    "           'lum_dist_flag':3,'pec_vel_correction':0\n",
    "          }"
   ]
  },
  {
   "cell_type": "code",
   "execution_count": null,
   "id": "f3e77160",
   "metadata": {},
   "outputs": [],
   "source": [
    "tmp"
   ]
  },
  {
   "cell_type": "code",
   "execution_count": null,
   "id": "3bfba2ac",
   "metadata": {},
   "outputs": [],
   "source": [
    "glade_like=glade_like.append(tmp, ignore_index=True)\n",
    "glade_like.head()"
   ]
  },
  {
   "cell_type": "code",
   "execution_count": null,
   "id": "427f5752",
   "metadata": {},
   "outputs": [],
   "source": [
    "base=[]\n",
    "base.append([proxy_row,proxy_row2])\n",
    "print(base)"
   ]
  },
  {
   "cell_type": "code",
   "execution_count": null,
   "id": "68a0ce20",
   "metadata": {},
   "outputs": [],
   "source": [
    "print(glade_like['right_ascension_degrees'].min())\n",
    "print(glade_like['right_ascension_degrees'].max())\n",
    "print(glade_like['declination_degrees'].min())\n",
    "print(glade_like['declination_degrees'].max())"
   ]
  },
  {
   "cell_type": "markdown",
   "id": "57cd8194",
   "metadata": {},
   "source": [
    "# Add host to FlaghShip"
   ]
  },
  {
   "cell_type": "code",
   "execution_count": 4,
   "id": "814917f3",
   "metadata": {},
   "outputs": [
    {
     "data": {
      "text/html": [
       "<div>\n",
       "<style scoped>\n",
       "    .dataframe tbody tr th:only-of-type {\n",
       "        vertical-align: middle;\n",
       "    }\n",
       "\n",
       "    .dataframe tbody tr th {\n",
       "        vertical-align: top;\n",
       "    }\n",
       "\n",
       "    .dataframe thead th {\n",
       "        text-align: right;\n",
       "    }\n",
       "</style>\n",
       "<table border=\"1\" class=\"dataframe\">\n",
       "  <thead>\n",
       "    <tr style=\"text-align: right;\">\n",
       "      <th></th>\n",
       "      <th>numevent</th>\n",
       "      <th>GWGC_name</th>\n",
       "      <th>HyperLEDA_name</th>\n",
       "      <th>2MASS_XSC_name</th>\n",
       "      <th>SDSS-DR12Q_name</th>\n",
       "      <th>type_flag</th>\n",
       "      <th>right_ascension_degrees</th>\n",
       "      <th>declination_degrees</th>\n",
       "      <th>dl</th>\n",
       "      <th>err_lum_dist</th>\n",
       "      <th>...</th>\n",
       "      <th>err_app_B_mag</th>\n",
       "      <th>abs_B_mag</th>\n",
       "      <th>app_J_mag</th>\n",
       "      <th>err_app_J_mag</th>\n",
       "      <th>app_H_mag</th>\n",
       "      <th>err_app_H_mag</th>\n",
       "      <th>app_K_mag</th>\n",
       "      <th>err_app_K_mag</th>\n",
       "      <th>lum_dist_flag</th>\n",
       "      <th>pec_vel_correction</th>\n",
       "    </tr>\n",
       "  </thead>\n",
       "  <tbody>\n",
       "  </tbody>\n",
       "</table>\n",
       "<p>0 rows × 22 columns</p>\n",
       "</div>"
      ],
      "text/plain": [
       "Empty DataFrame\n",
       "Columns: [numevent, GWGC_name, HyperLEDA_name, 2MASS_XSC_name, SDSS-DR12Q_name, type_flag, right_ascension_degrees, declination_degrees, dl, err_lum_dist, z, app_B_mag, err_app_B_mag, abs_B_mag, app_J_mag, err_app_J_mag, app_H_mag, err_app_H_mag, app_K_mag, err_app_K_mag, lum_dist_flag, pec_vel_correction]\n",
       "Index: []\n",
       "\n",
       "[0 rows x 22 columns]"
      ]
     },
     "execution_count": 4,
     "metadata": {},
     "output_type": "execute_result"
    }
   ],
   "source": [
    "#myglade = pd.read_csv('GLADE_flagship.txt', sep=\" \", header=None)\n",
    "colnames=['numevent','GWGC_name','HyperLEDA_name','2MASS_XSC_name','SDSS-DR12Q_name','type_flag','right_ascension_degrees',\n",
    "          'declination_degrees','dl','err_lum_dist','z','app_B_mag','err_app_B_mag','abs_B_mag','app_J_mag',\n",
    "          'err_app_J_mag','app_H_mag','err_app_H_mag','app_K_mag','err_app_K_mag','lum_dist_flag','pec_vel_correction'\n",
    "          ]\n",
    "myglade = pd.DataFrame(columns = colnames)\n",
    "#myglade.columns=colnames\n",
    "myglade.head(5)"
   ]
  },
  {
   "cell_type": "code",
   "execution_count": null,
   "id": "22d45157",
   "metadata": {},
   "outputs": [],
   "source": [
    "myglade=myglade.query('1.4< z & z > 1.8')"
   ]
  },
  {
   "cell_type": "code",
   "execution_count": null,
   "id": "83cc4d33",
   "metadata": {},
   "outputs": [],
   "source": [
    "myglade.shape[0]"
   ]
  },
  {
   "cell_type": "code",
   "execution_count": null,
   "id": "c697d30b",
   "metadata": {},
   "outputs": [],
   "source": [
    "tempdf=myglade"
   ]
  },
  {
   "cell_type": "code",
   "execution_count": null,
   "id": "9107364f",
   "metadata": {},
   "outputs": [],
   "source": [
    "myglade=tempdf.query('35< declination_degrees & declination_degrees >75')\n",
    "#myglade=myglade.query('15< right_ascension_degrees & right_ascension_degrees > 65')"
   ]
  },
  {
   "cell_type": "code",
   "execution_count": null,
   "id": "073ade17",
   "metadata": {},
   "outputs": [],
   "source": [
    "myglade.shape[0]"
   ]
  },
  {
   "cell_type": "code",
   "execution_count": null,
   "id": "b8e61bde",
   "metadata": {},
   "outputs": [],
   "source": [
    "exist= 1.5 in myglade.z\n",
    "print (exist)"
   ]
  },
  {
   "cell_type": "code",
   "execution_count": 10,
   "id": "565d8d8f",
   "metadata": {},
   "outputs": [],
   "source": [
    "mynumevent=int(14091027)\n",
    "myngcup=int(14052268)\n",
    "GWGC_name='NGC'+ str(myngcup)\n",
    "HyperLEDA_name=GWGC_name\n",
    "MASS_XSC_name='NaN'\n",
    "type_flag='G'\n",
    "numevent=mynumevent+1\n",
    "ngcup=myngcup+1\n",
    "GWGC_name='NGC'+ str(ngcup)\n",
    "HyperLEDA_name=GWGC_name\n",
    "ra_gal=22.546875\n",
    "dec_gal=44.993880150457116\n",
    "zz=1.7\n",
    "#----------dl----------------------\n",
    "dl=13102.8222124438\n",
    "temp_k_lum=np.random.normal(loc=klum_mean,scale=2*klum_std)\n",
    "#----------row to append---------------------\n",
    "proxy_row={'numevent':numevent,'GWGC_name':GWGC_name,'HyperLEDA_name':HyperLEDA_name,\n",
    "       '2MASS_XSC_name':MASS_XSC_name,'SDSS-DR12Q_name':'NaN','type_flag':type_flag,\n",
    "       'right_ascension_degrees':ra_gal,'declination_degrees':dec_gal,'dl':dl,'z':zz,\n",
    "       'app_B_mag':mean_app_B_mag,'err_app_B_mag':err_app_B_mag,'abs_B_mag':'NaN',\n",
    "       'app_J_mag':mean_app_J_mag,'err_app_J_mag':err_app_J_mag,\n",
    "       'app_H_mag':mean_app_H_mag,'err_app_H_mag':err_app_H_mag,\n",
    "       'app_K_mag':14,'err_app_K_mag':0,\n",
    "       'lum_dist_flag':3,'pec_vel_correction':0\n",
    "      }"
   ]
  },
  {
   "cell_type": "code",
   "execution_count": 11,
   "id": "c0d7c2b1",
   "metadata": {},
   "outputs": [],
   "source": [
    "hostedglade=myglade.append(proxy_row, ignore_index=True)"
   ]
  },
  {
   "cell_type": "code",
   "execution_count": 12,
   "id": "484a9c53",
   "metadata": {},
   "outputs": [],
   "source": [
    "mynumevent=int(14091028)\n",
    "myngcup=int(14052269)\n",
    "GWGC_name='NGC'+ str(myngcup)\n",
    "HyperLEDA_name=GWGC_name\n",
    "MASS_XSC_name='NaN'\n",
    "type_flag='G'\n",
    "numevent=mynumevent+1\n",
    "ngcup=myngcup+1\n",
    "GWGC_name='NGC'+ str(ngcup)\n",
    "HyperLEDA_name=GWGC_name\n",
    "ra_gal=59.9768875192604\n",
    "dec_gal=60.008985691511455\n",
    "zz=1.499999\n",
    "#----------dl----------------------\n",
    "dl=11239.437561544408\n",
    "temp_k_lum=np.random.normal(loc=klum_mean,scale=2*klum_std)\n",
    "#----------row to append---------------------\n",
    "proxy_row={'numevent':numevent,'GWGC_name':GWGC_name,'HyperLEDA_name':HyperLEDA_name,\n",
    "       '2MASS_XSC_name':MASS_XSC_name,'SDSS-DR12Q_name':'NaN','type_flag':type_flag,\n",
    "       'right_ascension_degrees':ra_gal,'declination_degrees':dec_gal,'dl':dl,'z':zz,\n",
    "       'app_B_mag':mean_app_B_mag,'err_app_B_mag':err_app_B_mag,'abs_B_mag':'NaN',\n",
    "       'app_J_mag':mean_app_J_mag,'err_app_J_mag':err_app_J_mag,\n",
    "       'app_H_mag':mean_app_H_mag,'err_app_H_mag':err_app_H_mag,\n",
    "       'app_K_mag':14,'err_app_K_mag':0,\n",
    "       'lum_dist_flag':3,'pec_vel_correction':0\n",
    "      }"
   ]
  },
  {
   "cell_type": "code",
   "execution_count": 13,
   "id": "b995e957",
   "metadata": {},
   "outputs": [],
   "source": [
    "hostedglade=hostedglade.append(proxy_row, ignore_index=True)"
   ]
  },
  {
   "cell_type": "code",
   "execution_count": 14,
   "id": "a9363e53",
   "metadata": {},
   "outputs": [],
   "source": [
    "hostedglade.to_csv('GLADE_flagship_two_host_alone_nofodder.txt', header=None, index=None, sep=' ')"
   ]
  },
  {
   "cell_type": "code",
   "execution_count": null,
   "id": "9022d012",
   "metadata": {},
   "outputs": [],
   "source": []
  },
  {
   "cell_type": "code",
   "execution_count": null,
   "id": "9959a291",
   "metadata": {},
   "outputs": [],
   "source": []
  },
  {
   "cell_type": "code",
   "execution_count": null,
   "id": "05dc5007",
   "metadata": {},
   "outputs": [],
   "source": []
  },
  {
   "cell_type": "code",
   "execution_count": null,
   "id": "5f6565eb",
   "metadata": {},
   "outputs": [],
   "source": []
  }
 ],
 "metadata": {
  "kernelspec": {
   "display_name": "Python 3 (ipykernel)",
   "language": "python",
   "name": "python3"
  },
  "language_info": {
   "codemirror_mode": {
    "name": "ipython",
    "version": 3
   },
   "file_extension": ".py",
   "mimetype": "text/x-python",
   "name": "python",
   "nbconvert_exporter": "python",
   "pygments_lexer": "ipython3",
   "version": "3.10.4"
  }
 },
 "nbformat": 4,
 "nbformat_minor": 5
}
