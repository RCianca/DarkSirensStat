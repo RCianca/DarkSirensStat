{
 "cells": [
  {
   "cell_type": "code",
   "execution_count": 1,
   "id": "71ad66a8",
   "metadata": {},
   "outputs": [],
   "source": [
    "#Script per modificare il catalogo GLADE_2.4 cambiandone i valori. \n",
    "#------------------Import--------------------------------\n",
    "\n",
    "import numpy as np \n",
    "import matplotlib.pyplot as plt \n",
    "import pandas as pd\n",
    "from scipy.optimize import fsolve\n",
    "from scipy import interpolate\n",
    "import random\n",
    "from numpy.random import random\n",
    "\n",
    "from astropy.cosmology import Planck15\n",
    "from astropy.cosmology import Planck18\n",
    "from astropy.cosmology import FlatLambdaCDM\n",
    "from astropy.io import fits\n",
    "from astropy.table import Table\n",
    "\n",
    "from multiprocessing import Pool\n",
    "import os \n",
    "import statistics as stat\n",
    "import time\n",
    "from tqdm import tqdm\n"
   ]
  },
  {
   "cell_type": "code",
   "execution_count": 2,
   "id": "d1e7c147",
   "metadata": {},
   "outputs": [],
   "source": [
    "#Catalogue path\n",
    "cat_data_path='/home/rciancarella/DarkSirensStat/data/GLADE/'\n",
    "os.chdir(cat_data_path)\n",
    "#all_event=os.listdir()\n",
    "#print(all_event)"
   ]
  },
  {
   "cell_type": "code",
   "execution_count": 3,
   "id": "8501f3bd",
   "metadata": {},
   "outputs": [],
   "source": [
    "H0GLOB= 67#67.9 #69\n",
    "Om0GLOB=0.319\n",
    "Xi0Glob =1.\n",
    "#cosmoglob = Planck15\n",
    "clight = 2.99792458* 10**5#km/s\n",
    "cosmoflag = FlatLambdaCDM(H0=H0GLOB, Om0=Om0GLOB)\n",
    "import random as rn\n",
    "\n",
    "#---------------Def Funzioni---------------------\n",
    "def reflag(dataframe, flag_value, trim_factor):\n",
    "    newdf=dataframe\n",
    "    print('setting flag error to {} on glaxies, trimming the number by a factor {}'.format(flag_value, trim_factor))\n",
    "    nrows=int(newdf.shape[0]/trim_factor)\n",
    "    print('nrows={}, initial rows={}'.format(nrows,newdf.shape[0]))\n",
    "    if trim_factor!=1:\n",
    "        newdf=newdf.sample(nrows)\n",
    "        print('trimmato')\n",
    "    newdf['lum_dist_flag']=newdf['lum_dist_flag'].replace(to_replace=2,value=flag_value)\n",
    "    newdf['lum_dist_flag']=newdf['lum_dist_flag'].replace(to_replace=1,value=flag_value)\n",
    "    if flag_value==4:\n",
    "        newdf['lum_dist_flag']=newdf['lum_dist_flag'].replace(to_replace=1,value=flag_value)\n",
    "        newdf['lum_dist_flag']=newdf['lum_dist_flag'].replace(to_replace=2,value=flag_value)\n",
    "        newdf['lum_dist_flag']=newdf['lum_dist_flag'].replace(to_replace=3,value=flag_value)\n",
    "        filename=os.path.join(os.getcwd(), 'GLADE_spectro_flag4'+'_'+str(trim_factor)+'.txt')\n",
    "    else:\n",
    "        filename=os.path.join(os.getcwd(), 'GLADE_spectro'+'_'+str(trim_factor)+'.txt')\n",
    "    print('\\nsalvataggio del nuovo catalogo, attendere')\n",
    "    np.savetxt(filename,newdf.values,fmt='%s')\n",
    "    print('{} salvato'.format(filename))\n",
    "    \n",
    "def cont_flag3(dataframe):\n",
    "    start=dataframe.shape[0]\n",
    "    flag3=dataframe.apply(lambda x: True if x['lum_dist_flag'] == 3 else False , axis=1)\n",
    "    nflag=len(flag3[flag3 == True].index)\n",
    "    perc=nflag*100/start\n",
    "    print('Initial hosts={}, number of flag3 host={} that is {}%'.format(start,nflag,perc))\n",
    "    \n",
    "def cont_flag2(dataframe):\n",
    "    start=dataframe.shape[0]\n",
    "    flag2=dataframe.apply(lambda x: True if x['lum_dist_flag'] == 2 else False , axis=1)\n",
    "    nflag=len(flag2[flag2 == True].index)\n",
    "    perc=nflag*100/start\n",
    "    print('Initial hosts={}, number of flag2 host={} that is {}%'.format(start,nflag,perc))\n",
    "    \n",
    "def trimmer(dataframe,trim_factor):\n",
    "    newdf=dataframe\n",
    "    print('trimming the catalogue by {} %'.format(trim_factor))\n",
    "    nrows=int(newdf.shape[0]*(1-trim_factor/100))\n",
    "    print('nrows={}, initial rows={}'.format(nrows,newdf.shape[0]))\n",
    "    if trim_factor!=0:\n",
    "        newdf=newdf.sample(nrows)\n",
    "        print('trimming')\n",
    "        filename=os.path.join(os.getcwd(), 'GLADE_trimmed'+'_'+str(trim_factor)+'.txt')\n",
    "        print('\\nsalvataggio del nuovo catalogo, attendere')\n",
    "        np.savetxt(filename,newdf.values,fmt='%s')\n",
    "        print('{} salvato'.format(filename))\n",
    "    \n",
    "\n",
    "def fake_host(df,ra,dec,dl,z):\n",
    "    newrow=puppetrow\n",
    "    newrow['right_ascension_degrees']=ra\n",
    "    newrow['declination_degrees']=dec\n",
    "    newrow['dl']=dl\n",
    "    newrow['app_K_mag']=8\n",
    "    newrow['pec_vel_correction']=1\n",
    "    #newrow['err_lum_dist']='NaN'\n",
    "    newrow['z']=z\n",
    "    return newrow\n",
    "def random_displace(ra,dec,dl,delta):\n",
    "    raout=ra+rn.uniform(-1,1)\n",
    "    decout=dec+rn.uniform(-1,1)\n",
    "    dlout=rn.gauss(dl,delta)\n",
    "    zout=Planck15.H(0).value*dlout/clight\n",
    "    return raout, decout, dlout, zout\n",
    "\n",
    "def ra_dec_from_th_phi(theta, phi):\n",
    "        ra = np.rad2deg(phi)\n",
    "        dec = np.rad2deg(0.5 * np.pi - theta)\n",
    "        return ra, dec\n",
    "    \n",
    "def th_phi_from_ra_dec(ra, dec):\n",
    "    theta = 0.5 * np.pi - np.deg2rad(dec)\n",
    "    phi = np.deg2rad(ra)\n",
    "    return theta, phi\n",
    "\n",
    "def z_from_dL(dL_val):\n",
    "    '''\n",
    "    Returns redshift for a given luminosity distance dL (in Mpc)'''\n",
    "    \n",
    "    func = lambda z :cosmoflag.luminosity_distance(z).value - dL_val\n",
    "    z = fsolve(func, 0.77)\n",
    "    return z[0]\n",
    "\n",
    "def z_from_dcom(dc_val):\n",
    "    '''\n",
    "    Returns redshift for a given comoving distance dc (in Mpc)'''\n",
    "    \n",
    "    func = lambda z :cosmoflag.comoving_distance(z).value - dc_val\n",
    "    z = fsolve(func, 0.77)\n",
    "    return z[0]\n",
    "#-----------rejection-stuff------------\n",
    "def sample(g,xmin,xmax):\n",
    "    x = np.linspace(xmin,xmax,1000000)\n",
    "    y = g(x)                        # probability density function, pdf\n",
    "    cdf_y = np.cumsum(y)            # cumulative distribution function, cdf\n",
    "    cdf_y = cdf_y/cdf_y.max()       # takes care of normalizing cdf to 1.0\n",
    "    inverse_cdf = interpolate.interp1d(cdf_y,x,fill_value=\"extrapolate\")# this is a function\n",
    "    #inverse_cdf = np.interp(0,cdf_y,x) #this works but it is not a function\n",
    "    return inverse_cdf\n",
    "def return_samples(f,xmin,xmax,N=1000000):\n",
    "    # let's generate some samples according to the chosen pdf, f(x)\n",
    "    uniform_samples = random(int(N))       \n",
    "    required_samples = sample(f,xmin,xmax)(uniform_samples)\n",
    "    return required_samples\n",
    "#-----------filler-------------------\n",
    "def GLADE_inator(iterations):\n",
    "#for i in tqdm(range(flagship.shape[0])):\n",
    "#for i in range(iterations):\n",
    "    i=iterations\n",
    "    numevent=mynumevent+i\n",
    "    ngcup=myngcup+i\n",
    "    GWGC_name='NGC'+ str(ngcup)\n",
    "    HyperLEDA_name=GWGC_name\n",
    "    ra_gal=flagship['ra_gal'][i]\n",
    "    dec_gal=flagship['dec_gal'][i]\n",
    "    zz=flagship['true_redshift_gal'][i]\n",
    "    #----------dl----------------------\n",
    "    #distances are in Mpc/h and are comoving distances. We need luminosity distances and Mpc \n",
    "    host_x=flagship['x_gal'][i]/h #restore the right units\n",
    "    host_y=flagship['y_gal'][i]/h\n",
    "    host_z=flagship['z_gal'][i]/h\n",
    "\n",
    "    lum_host_x=host_x*(1+zz)\n",
    "    lum_host_y=host_y*(1+zz)\n",
    "    lum_host_z=host_z*(1+zz)\n",
    "    dl=np.sqrt(lum_host_x**2+lum_host_y**2+lum_host_z**2)\n",
    "    temp_k_lum=np.random.normal(loc=klum_mean,scale=2*klum_std)\n",
    "    #----------row to append---------------------\n",
    "    proxy_row={'numevent':numevent,'GWGC_name':GWGC_name,'HyperLEDA_name':HyperLEDA_name,\n",
    "           '2MASS_XSC_name':MASS_XSC_name,'SDSS-DR12Q_name':'NaN','type_flag':type_flag,\n",
    "           'right_ascension_degrees':ra_gal,'declination_degrees':dec_gal,'dl':dl,'z':zz,\n",
    "           'app_B_mag':mean_app_B_mag,'err_app_B_mag':err_app_B_mag,'abs_B_mag':'NaN',\n",
    "           'app_J_mag':mean_app_J_mag,'err_app_J_mag':err_app_J_mag,\n",
    "           'app_H_mag':mean_app_H_mag,'err_app_H_mag':err_app_H_mag,\n",
    "           'app_K_mag':temp_k_lum,'err_app_K_mag':klum_std,\n",
    "           'lum_dist_flag':3,'pec_vel_correction':0\n",
    "          }\n",
    "    #data.append([proxy_row])\n",
    "    return proxy_row\n",
    "    #print(proxy_row)\n",
    "#glade_like.head()\n",
    "\n",
    "#-----------filler-------------------\n",
    "def GLADE_inator_volume(iterations):\n",
    "#for i in tqdm(range(flagship.shape[0])):\n",
    "#for i in range(iterations):\n",
    "    i=iterations\n",
    "    numevent=mynumevent+i\n",
    "    ngcup=myngcup+i\n",
    "    GWGC_name='NGC'+ str(ngcup)\n",
    "    HyperLEDA_name=GWGC_name\n",
    "    ra_gal=ra_gals[i]\n",
    "    dec_gal=dec_gals[i]\n",
    "    #dl=dl_gals[i]\n",
    "    dc=dc_gals[i]\n",
    "    #----------z----------------------\n",
    "    #zz=z_from_dL(dl)\n",
    "    zz=z_from_dcom(dc)\n",
    "    dl=cosmoflag.luminosity_distance(zz).value\n",
    "    #zz=cosmoflag.luminosity_distance(z_min).value\n",
    "    temp_k_lum=np.random.normal(loc=klum_mean,scale=2*klum_std)\n",
    "    #----------row to append---------------------\n",
    "    proxy_row={'numevent':numevent,'GWGC_name':GWGC_name,'HyperLEDA_name':HyperLEDA_name,\n",
    "           '2MASS_XSC_name':MASS_XSC_name,'SDSS-DR12Q_name':'NaN','type_flag':type_flag,\n",
    "           'right_ascension_degrees':ra_gal,'declination_degrees':dec_gal,'dl':dl,'z':zz,\n",
    "           'app_B_mag':mean_app_B_mag,'err_app_B_mag':err_app_B_mag,'abs_B_mag':'NaN',\n",
    "           'app_J_mag':mean_app_J_mag,'err_app_J_mag':err_app_J_mag,\n",
    "           'app_H_mag':mean_app_H_mag,'err_app_H_mag':err_app_H_mag,\n",
    "           'app_K_mag':temp_k_lum,'err_app_K_mag':klum_std,\n",
    "           'lum_dist_flag':3,'pec_vel_correction':0\n",
    "          }\n",
    "    return proxy_row"
   ]
  },
  {
   "cell_type": "code",
   "execution_count": 4,
   "id": "620671dd",
   "metadata": {},
   "outputs": [
    {
     "name": "stdout",
     "output_type": "stream",
     "text": [
      "righe=2722493, colonne=22, shape=(2722493, 22) \n"
     ]
    }
   ],
   "source": [
    "#--------------globals and flags-----------------\n",
    "nohost=8\n",
    "clear=1\n",
    "onebyone=1\n",
    "#---------------Main-----------------------------\n",
    "#alcuni appunti sui flag:\n",
    "\n",
    "#Object type flag: Q the source is from the SDSS-DR12Q catalogue. C: the source is a globular cluster. \n",
    "#G:the source is not from the SDSS-DR12Q catalogue and notidentified as a globular cluster\n",
    "\n",
    "#Luminosity distance measurement flag. 0: the object has neither measured distance nor measured redshift value.\n",
    "#1: the object has measured redshift value from which we have calculated its distance. 2: the object has measured distance\n",
    "#value from which we have calculated its redshift. 3: we have replaced the measured photometric redshift with spectroscopic\n",
    "#redshift from the 2MASS Redshift Survey catalogue,from which we have calculated its distance.\n",
    "\n",
    "#Velocity correction flag. It indicates whether the peculiar velocity correction was not (’0’) or was (’1’) applied\n",
    "#when the distance of the object was calculated.\n",
    "\n",
    "#df = pd.read_csv('TestGLADE.txt', sep=\" \", header=None, low_memory=False)\n",
    "tempdf = pd.read_csv('puppet.txt', sep=\" \", header=None, low_memory=False)\n",
    "df = pd.read_csv('GLADE_2.4.txt', sep=\" \", header=None, low_memory=False)\n",
    "#print(df[20])#pandas lavora al contrario ossia [colonna][riga]\n",
    "colnames=['numevent','GWGC_name','HyperLEDA_name','2MASS_XSC_name','SDSS-DR12Q_name','type_flag','right_ascension_degrees',\n",
    "          'declination_degrees','dl','err_lum_dist','z','app_B_mag','err_app_B_mag','abs_B_mag','app_J_mag',\n",
    "          'err_app_J_mag','app_H_mag','err_app_H_mag','app_K_mag','err_app_K_mag','lum_dist_flag','pec_vel_correction'\n",
    "          ]\n",
    "df.columns=colnames\n",
    "tempdf.columns=colnames\n",
    "puppetrow=tempdf.iloc[0]\n",
    "ncols=len(df.columns)\n",
    "nraws=len(df.index)\n",
    "print(\"righe={}, colonne={}, shape={} \" .format(nraws,ncols,df.shape))\n",
    "\n",
    "#conteggio eventi tra z1 e z2\n",
    "#print(df.shape[0])\n",
    "#z1=0.05\n",
    "#z2=0.12\n",
    "#err=0.02\n",
    "#counterdf=df[df['z'].between(z1-err, z1+err)]\n",
    "#print(counterdf.shape[0])\n",
    "#newconter=df[df['z'].between(z2-err, z2+err)]\n",
    "#print(newconter.shape[0])\n",
    "#print(len(newconter))\n"
   ]
  },
  {
   "cell_type": "code",
   "execution_count": null,
   "id": "1bdd832f",
   "metadata": {},
   "outputs": [],
   "source": [
    "\n",
    "znull=np.where(df.z.notna(),1,0)\n",
    "dlnull=np.where(df.dl.notna(),1,0)\n",
    "z_zero=np.count_nonzero(znull==0)\n",
    "dl_zero=np.count_nonzero(dlnull==0)\n",
    "print('la colonna z ha {} elementi nulli\\nla colonna dl ha {} elementi nulli'.format(z_zero,dl_zero))\n",
    "dLvals = df[df.dl.notna()]['dl']\n",
    "print('%s elementi in dLvals'%dLvals.shape[0])\n",
    "zvals = df[df.z.notna()]['z']\n",
    "print('%s elementi in z'%zvals.shape[0])\n",
    "\n",
    "\n",
    "newdf=df[df['z'].notna()]\n",
    "newdf=newdf[newdf['dl'].notna()]\n",
    "znull=np.where(newdf.z.notna(),1,0)\n",
    "dlnull=np.where(newdf.dl.notna(),1,0)\n",
    "z_zero=np.count_nonzero(znull==0)\n",
    "dl_zero=np.count_nonzero(dlnull==0)\n",
    "col=newdf['z']\n",
    "max_z=col.max()\n",
    "print('massimo valore redshift: z={}  '.format(max_z))\n",
    "\n",
    "print('la colonna z ha {} elementi nulli\\nla colonna dl ha {} elementi nulli'.format(z_zero,dl_zero))\n",
    "#print('\\n\\n\\n salvataggio del nuovo catalogo, attendere')\n",
    "#np.savetxt('GLADE_nonull.txt',newdf.values,fmt='%s')\n",
    "#print('GLADE_nonull.txt salvato')\n",
    "    \n",
    "    \n"
   ]
  },
  {
   "cell_type": "code",
   "execution_count": null,
   "id": "fce7f26c",
   "metadata": {
    "scrolled": true
   },
   "outputs": [],
   "source": [
    "#reflag(newdf,3,1)"
   ]
  },
  {
   "cell_type": "code",
   "execution_count": null,
   "id": "848231c8",
   "metadata": {},
   "outputs": [],
   "source": [
    "#cont_flag3(newdf)"
   ]
  },
  {
   "cell_type": "code",
   "execution_count": null,
   "id": "e2b22f47",
   "metadata": {},
   "outputs": [],
   "source": [
    "#cont_flag2(newdf)"
   ]
  },
  {
   "cell_type": "code",
   "execution_count": null,
   "id": "6920bc31",
   "metadata": {
    "scrolled": true
   },
   "outputs": [],
   "source": [
    "#trimmer(newdf,90)"
   ]
  },
  {
   "cell_type": "code",
   "execution_count": null,
   "id": "c8abdb6f",
   "metadata": {
    "scrolled": true
   },
   "outputs": [],
   "source": [
    "#-------------Inserimento Fake Hosts--------------------------\n",
    "#fake_host(df,ra,dec,dl,z)\n",
    "iteration=10\n",
    "#----------------GW190412-----------------------\n",
    "ra=218.4521484375\n",
    "dec=36.42357364233115\n",
    "dl=734.121575455142\n",
    "std=93.28161482151035\n",
    "z=0.16587940821823915\n",
    "toadd=fake_host(newdf,ra,dec,dl,z)\n",
    "newdf=newdf.append(toadd)\n",
    "#for i in range(iteration):\n",
    "    #ra0,dec0,dl0,z0 = random_displace(ra,dec,dl,std)\n",
    "    #toadd=fake_host(newdf,ra0,dec0,dl0,z0)\n",
    "    #newdf=newdf.append(toadd)\n",
    "print('1 of 5 done')\n",
    "#-------------GW190814---------------------------\n",
    "ra=12.7001953125\n",
    "dec=-24.87076339473571\n",
    "dl=240.7344958889034\n",
    "std=26.05124052395576\n",
    "z=0.05439548032764159\n",
    "toadd=fake_host(newdf,ra,dec,dl,z)\n",
    "newdf=newdf.append(toadd)\n",
    "#for i in range(iteration):\n",
    "    #ra0,dec0,dl0,z0 = random_displace(ra,dec,dl,std)\n",
    "    #toadd=fake_host(newdf,ra0,dec0,dl0,z0)\n",
    "    #newdf=newdf.append(toadd)\n",
    "print('2 of 5 done')\n",
    "#---------------GW190924_021846---------------------\n",
    "ra=127.265625\n",
    "dec=16.25709623792208\n",
    "dl=572.3830413569922 \n",
    "std=136.682093600127\n",
    "z=0.1293335645605956\n",
    "toadd=fake_host(newdf,ra,dec,dl,z)\n",
    "newdf=newdf.append(toadd)\n",
    "for i in range(iteration):\n",
    "    ra0,dec0,dl0,z0 = random_displace(ra,dec,dl,std)\n",
    "    toadd=fake_host(newdf,ra0,dec0,dl0,z0)\n",
    "    newdf=newdf.append(toadd)\n",
    "print('3 of 5 done')    \n",
    "#-----------------GW190527_092055--------------------------\n",
    "ra=39.14383561643836\n",
    "dec=-63.07261938698223\n",
    "dl=3562.931275516\n",
    "std=1965.511983689016\n",
    "z=0.8050668326134269\n",
    "toadd=fake_host(newdf,ra,dec,dl,z)\n",
    "#newdf=newdf.append(toadd)\n",
    "#for i in range(iteration):\n",
    "    #ra0,dec0,dl0,z0 = random_displace(ra,dec,dl,std)\n",
    "    #toadd=fake_host(newdf,ra0,dec0,dl0,z0)\n",
    "    #newdf=newdf.append(toadd)\n",
    "print('4 of 5 done')\n",
    "\n",
    "#-----------------GW170817--------------------------\n",
    "#ra=196.03586373589667 #3.44616 #105.29296875\n",
    "#dec=-20.841149792255525#-0.408084 #-0.7833651412800737\n",
    "#dl=34.03408225450563\n",
    "#std=7.499686641911211\n",
    "#z=0.0087\n",
    "#toadd=fake_host(newdf,ra,dec,dl,z)\n",
    "#newdf=newdf.append(toadd)\n",
    "#for i in range(iteration):\n",
    "    #ra0,dec0,dl0,z0 = random_displace(ra,dec,dl,std)\n",
    "    #toadd=fake_host(newdf,ra0,dec0,dl0,z0)\n",
    "    #newdf=newdf.append(toadd)\n",
    "print('5 of 5 done')\n",
    "#------------------Fake-BS-------------------------\n",
    "ra=196.03586373589667 #3.44616 #105.29296875\n",
    "dec=-20.841149792255525#-0.408084 #-0.7833651412800737\n",
    "dl=20\n",
    "std=4.595980697842096\n",
    "z=cosmoglob.H(0).value*dl/clight\n",
    "toadd=fake_host(newdf,ra,dec,dl,z)\n",
    "newdf=newdf.append(toadd)\n",
    "newdf=newdf.tail(6)\n",
    "#----------------Saving-------------------------------\n",
    "filename=os.path.join(os.getcwd(), 'GLADE_fakeBS20'+'.txt')\n",
    "print('Saving new catalogue with host injection, wait...')\n",
    "np.savetxt(filename,newdf.values,fmt='%s')\n",
    "print('{} saved!'.format(filename))\n"
   ]
  },
  {
   "cell_type": "markdown",
   "id": "c10e8fd4",
   "metadata": {},
   "source": [
    "# From FlagShip to GLADE-like"
   ]
  },
  {
   "cell_type": "code",
   "execution_count": null,
   "id": "25c96550",
   "metadata": {},
   "outputs": [],
   "source": [
    "#------------read the flagship-------------------------------------\n",
    "dat = Table.read('11536.fits', format='fits')\n",
    "flagship = dat.to_pandas()#all good, is an only text fits\n",
    "print(flagship.columns)\n",
    "print(flagship.shape[0])\n",
    "flagship.head(3)"
   ]
  },
  {
   "cell_type": "code",
   "execution_count": null,
   "id": "ca840713",
   "metadata": {},
   "outputs": [],
   "source": [
    "z=np.array(flagship['true_redshift_gal'])\n",
    "ra=np.array(flagship['ra_gal'])\n",
    "dec=np.array(flagship['dec_gal'])\n",
    "print('z_min={}, z_max={}'.format(np.min(z),np.max(z)))\n",
    "print('ra_min={}, ra_max={}'.format(np.min(ra),np.max(ra)))\n",
    "print('dec_min={}, dec_max={}'.format(np.min(dec),np.max(dec)))\n",
    "thetamin,phimin=th_phi_from_ra_dec(np.min(ra),np.max(dec))\n",
    "thetamax,phimax=th_phi_from_ra_dec(np.max(ra),np.min(dec))\n",
    "print('phi_min={}, phi_max={}'.format(phimin,phimax))\n",
    "print('theta_min={}, theta_max={}'.format(thetamin,thetamax))"
   ]
  },
  {
   "cell_type": "code",
   "execution_count": null,
   "id": "804cff36",
   "metadata": {},
   "outputs": [],
   "source": [
    "#print(df[20])#pandas lavora al contrario ossia [colonna][riga]\n",
    "colnames=['ra_gal', 'dec_gal', 'observed_redshift_gal', 'true_redshift_gal',\n",
    "       'x_gal', 'y_gal', 'z_gal', 'vx_gal', 'vy_gal', 'vz_gal']\n",
    "randflagship = pd.DataFrame(columns=colnames)\n",
    "randflagship.head(3)"
   ]
  },
  {
   "cell_type": "code",
   "execution_count": null,
   "id": "a1b6a9a2",
   "metadata": {},
   "outputs": [],
   "source": [
    "randflagship=flagship.head(5000)\n",
    "cat_name='GLADE_flagship_5000incr.txt'"
   ]
  },
  {
   "cell_type": "code",
   "execution_count": null,
   "id": "eeb9095d",
   "metadata": {},
   "outputs": [],
   "source": [
    "#randflagship=randflagship.append(flagship.sample(5500), ignore_index=True)\n",
    "#randflagship.to_csv('flagrandsource.txt', header=None, index=None, sep=' ')"
   ]
  },
  {
   "cell_type": "code",
   "execution_count": null,
   "id": "2be8efc6",
   "metadata": {},
   "outputs": [],
   "source": [
    "#alcuni appunti sui flag:\n",
    "\n",
    "#Object type flag: Q the source is from the SDSS-DR12Q catalogue.\n",
    "#C: the source is a globular cluster. \n",
    "#G:the source is not from the SDSS-DR12Q catalogue and notidentified as a globular cluster\n",
    "\n",
    "#Luminosity distance measurement flag.\n",
    "#0: the object has neither measured distance nor measured redshift value.\n",
    "#1: the object has measured redshift value from which we have calculated its distance. \n",
    "#2: the object has measured distance value from which we have calculated its redshift. \n",
    "#3: we have replaced the measured photometric redshift with spectroscopic redshift \n",
    "#from the 2MASS Redshift Survey catalogue,from which we have calculated its distance.\n",
    "\n",
    "#Velocity correction flag. It indicates whether the peculiar velocity correction was not (’0’)\n",
    "#or was (’1’) applied when the distance of the object was calculated.\n"
   ]
  },
  {
   "cell_type": "code",
   "execution_count": 5,
   "id": "cba1b141",
   "metadata": {},
   "outputs": [],
   "source": [
    "#---------------read Glade-------------------\n",
    "glade = pd.read_csv('GLADE_2.4.txt', sep=\" \", header=None, low_memory=False)\n",
    "#print(df[20])#pandas lavora al contrario ossia [colonna][riga]\n",
    "colnames=['numevent','GWGC_name','HyperLEDA_name','2MASS_XSC_name','SDSS-DR12Q_name','type_flag','right_ascension_degrees',\n",
    "          'declination_degrees','dl','err_lum_dist','z','app_B_mag','err_app_B_mag','abs_B_mag','app_J_mag',\n",
    "          'err_app_J_mag','app_H_mag','err_app_H_mag','app_K_mag','err_app_K_mag','lum_dist_flag','pec_vel_correction'\n",
    "          ]\n",
    "glade.columns=colnames\n",
    "glade.head(5)\n",
    "klum=np.array(glade['app_K_mag'])\n",
    "#zglade=np.array(flagship['true_redshift_gal'])"
   ]
  },
  {
   "cell_type": "code",
   "execution_count": 6,
   "id": "f6054780",
   "metadata": {},
   "outputs": [
    {
     "name": "stdout",
     "output_type": "stream",
     "text": [
      "10.535271935685417 inf 5.277627146516081 4.923685721873297 4.862867403148511\n"
     ]
    }
   ],
   "source": [
    "mean_app_B_mag=np.sum(glade['app_B_mag'])/glade.shape[0]\n",
    "mean_abs_B_mag=np.sum(glade['abs_B_mag'])/glade.shape[0]\n",
    "mean_app_J_mag=np.sum(glade['app_J_mag'])/glade.shape[0]\n",
    "mean_app_H_mag=np.sum(glade['app_H_mag'])/glade.shape[0]\n",
    "mean_app_K_mag=np.sum(glade['app_K_mag'])/glade.shape[0]\n",
    "print(mean_app_B_mag,mean_abs_B_mag,mean_app_J_mag,mean_app_H_mag,mean_app_K_mag)"
   ]
  },
  {
   "cell_type": "code",
   "execution_count": 7,
   "id": "3fceb2eb",
   "metadata": {},
   "outputs": [
    {
     "name": "stdout",
     "output_type": "stream",
     "text": [
      "lum mean=13.334410160003385, lum std=0.7488173704298869\n"
     ]
    },
    {
     "data": {
      "image/png": "[encoded data removed]",
      "text/plain": [
       "<Figure size 432x288 with 1 Axes>"
      ]
     },
     "metadata": {
      "needs_background": "light"
     },
     "output_type": "display_data"
    }
   ],
   "source": [
    "klum = klum[~np.isnan(klum)]\n",
    "plt.hist(klum,bins='auto')\n",
    "klum_mean=stat.mean(klum)\n",
    "klum_std=stat.stdev(klum)\n",
    "print('lum mean={}, lum std={}'.format(klum_mean,klum_std))"
   ]
  },
  {
   "cell_type": "code",
   "execution_count": 8,
   "id": "c039ccfe",
   "metadata": {},
   "outputs": [
    {
     "name": "stdout",
     "output_type": "stream",
     "text": [
      "0.12391253898540787 0.029373865791390466 0.033138621476712704 0.04406159611796981\n"
     ]
    }
   ],
   "source": [
    "err_app_B_mag=np.sum(glade['err_app_B_mag'])/glade.shape[0]\n",
    "err_app_J_mag=np.sum(glade['err_app_J_mag'])/glade.shape[0]\n",
    "err_app_H_mag=np.sum(glade['err_app_H_mag'])/glade.shape[0]\n",
    "err_app_K_mag=np.sum(glade['err_app_K_mag'])/glade.shape[0]\n",
    "print(err_app_B_mag,err_app_J_mag,err_app_H_mag,err_app_K_mag)"
   ]
  },
  {
   "cell_type": "code",
   "execution_count": null,
   "id": "9a325eec",
   "metadata": {},
   "outputs": [],
   "source": [
    "h=0.67\n",
    "mynumevent=int(43495)\n",
    "myngcup=int(4736)\n",
    "GWGC_name='NGC'+ str(myngcup)\n",
    "HyperLEDA_name=GWGC_name\n",
    "MASS_XSC_name='NaN'\n",
    "type_flag='G'\n",
    "proxy_row={'numevent':mynumevent,'GWGC_name':GWGC_name,'HyperLEDA_name':HyperLEDA_name,\n",
    "           '2MASS_XSC_name':MASS_XSC_name,'SDSS-DR12Q_name':'NaN','type_flag':type_flag,\n",
    "           'right_ascension_degrees':0,'declination_degrees':0,'dl':0,'z':0,\n",
    "           'app_B_mag':mean_app_B_mag,'err_app_B_mag':err_app_B_mag,'abs_B_mag':'NaN',\n",
    "           'app_J_mag':mean_app_J_mag,'err_app_J_mag':err_app_J_mag,\n",
    "           'app_H_mag':mean_app_H_mag,'err_app_H_mag':err_app_H_mag,\n",
    "           'app_K_mag':klum_mean+4,'err_app_K_mag':klum_std,\n",
    "           'lum_dist_flag':3,'pec_vel_correction':0\n",
    "          }"
   ]
  },
  {
   "cell_type": "code",
   "execution_count": null,
   "id": "63121ff7",
   "metadata": {},
   "outputs": [],
   "source": [
    "\n",
    "#print(df[20])#pandas lavora al contrario ossia [colonna][riga]\n",
    "colnames=['numevent','GWGC_name','HyperLEDA_name','2MASS_XSC_name','SDSS-DR12Q_name','type_flag','right_ascension_degrees',\n",
    "          'declination_degrees','dl','err_lum_dist','z','app_B_mag','err_app_B_mag','abs_B_mag','app_J_mag',\n",
    "          'err_app_J_mag','app_H_mag','err_app_H_mag','app_K_mag','err_app_K_mag','lum_dist_flag','pec_vel_correction'\n",
    "          ]\n",
    "glade_like = pd.DataFrame(columns=colnames)\n",
    "#glade_like.columns=colnames\n",
    "glade_like.head()"
   ]
  },
  {
   "cell_type": "code",
   "execution_count": null,
   "id": "ab88f11c",
   "metadata": {},
   "outputs": [],
   "source": [
    "arr=np.arange(0,flagship.shape[0],dtype=int)\n",
    "data=[]\n",
    "tmp=[]\n",
    "start_time = time.time()\n",
    "with Pool(10) as p:\n",
    "    tmp=p.map(GLADE_inator, arr)\n",
    "print(\"--- %s seconds ---\" % (time.time() - start_time))\n",
    "#glade_like.to_csv(r'GLADE_flagship.txt', header=None, index=None, sep=' ', mode='a')"
   ]
  },
  {
   "cell_type": "code",
   "execution_count": null,
   "id": "284e5235",
   "metadata": {},
   "outputs": [],
   "source": [
    "glade_like=glade_like.append(tmp, ignore_index=True)\n",
    "glade_like.tail()"
   ]
  },
  {
   "cell_type": "code",
   "execution_count": null,
   "id": "3f4bba96",
   "metadata": {},
   "outputs": [],
   "source": [
    "glade_like.to_csv(cat_name, header=None, index=None, sep=' ')"
   ]
  },
  {
   "cell_type": "code",
   "execution_count": null,
   "id": "d2842c2e",
   "metadata": {},
   "outputs": [],
   "source": [
    "del tmp\n",
    "del data"
   ]
  },
  {
   "cell_type": "markdown",
   "id": "57cd8194",
   "metadata": {},
   "source": [
    "# Add host to FlaghShip"
   ]
  },
  {
   "cell_type": "code",
   "execution_count": null,
   "id": "814917f3",
   "metadata": {},
   "outputs": [],
   "source": [
    "myglade = pd.read_csv('GLADE_flagship.txt', sep=\" \", header=None)\n",
    "colnames=['numevent','GWGC_name','HyperLEDA_name','2MASS_XSC_name','SDSS-DR12Q_name','type_flag','right_ascension_degrees',\n",
    "          'declination_degrees','dl','err_lum_dist','z','app_B_mag','err_app_B_mag','abs_B_mag','app_J_mag',\n",
    "          'err_app_J_mag','app_H_mag','err_app_H_mag','app_K_mag','err_app_K_mag','lum_dist_flag','pec_vel_correction'\n",
    "          ]\n",
    "myglade = pd.DataFrame(columns = colnames)\n",
    "#myglade.columns=colnames\n",
    "myglade.head(5)"
   ]
  },
  {
   "cell_type": "code",
   "execution_count": null,
   "id": "22d45157",
   "metadata": {},
   "outputs": [],
   "source": [
    "glade500 = pd.read_csv(cat_name, sep=\" \", header=None, low_memory=False)\n",
    "#print(df[20])#pandas lavora al contrario ossia [colonna][riga]\n",
    "colnames=['numevent','GWGC_name','HyperLEDA_name','2MASS_XSC_name','SDSS-DR12Q_name','type_flag','right_ascension_degrees',\n",
    "          'declination_degrees','dl','err_lum_dist','z','app_B_mag','err_app_B_mag','abs_B_mag','app_J_mag',\n",
    "          'err_app_J_mag','app_H_mag','err_app_H_mag','app_K_mag','err_app_K_mag','lum_dist_flag','pec_vel_correction'\n",
    "          ]\n",
    "glade500.columns=colnames"
   ]
  },
  {
   "cell_type": "code",
   "execution_count": null,
   "id": "565d8d8f",
   "metadata": {},
   "outputs": [],
   "source": [
    "#GW221007\n",
    "mynumevent=int(14091027)\n",
    "myngcup=int(14052268)\n",
    "GWGC_name='NGC'+ str(myngcup)\n",
    "HyperLEDA_name=GWGC_name\n",
    "MASS_XSC_name='NaN'\n",
    "type_flag='G'\n",
    "numevent=mynumevent+1\n",
    "ngcup=myngcup+1\n",
    "GWGC_name='NGC'+ str(ngcup)\n",
    "HyperLEDA_name=GWGC_name\n",
    "ra_gal=22.546875\n",
    "dec_gal=44.993880150457116\n",
    "zz=1.7\n",
    "#----------dl----------------------\n",
    "dl=13102.8222124438\n",
    "temp_k_lum=np.random.normal(loc=klum_mean,scale=2*klum_std)\n",
    "#----------row to append---------------------\n",
    "proxy_row={'numevent':numevent,'GWGC_name':GWGC_name,'HyperLEDA_name':HyperLEDA_name,\n",
    "       '2MASS_XSC_name':MASS_XSC_name,'SDSS-DR12Q_name':'NaN','type_flag':type_flag,\n",
    "       'right_ascension_degrees':ra_gal,'declination_degrees':dec_gal,'dl':dl,'z':zz,\n",
    "       'app_B_mag':mean_app_B_mag,'err_app_B_mag':err_app_B_mag,'abs_B_mag':'NaN',\n",
    "       'app_J_mag':mean_app_J_mag,'err_app_J_mag':err_app_J_mag,\n",
    "       'app_H_mag':mean_app_H_mag,'err_app_H_mag':err_app_H_mag,\n",
    "       'app_K_mag':14,'err_app_K_mag':0,\n",
    "       'lum_dist_flag':3,'pec_vel_correction':0\n",
    "      }"
   ]
  },
  {
   "cell_type": "code",
   "execution_count": null,
   "id": "c0d7c2b1",
   "metadata": {},
   "outputs": [],
   "source": [
    "#hostedglade=myglade.append(glade_like, ignore_index=True)\n",
    "#hostedglade=hostedglade.append(proxy_row, ignore_index=True)\n",
    "#hostedglade=myglade.append(glade500, ignore_index=True)\n",
    "hostedglade=glade500.append(proxy_row, ignore_index=True)"
   ]
  },
  {
   "cell_type": "code",
   "execution_count": null,
   "id": "05ba8985",
   "metadata": {},
   "outputs": [],
   "source": [
    "hostedglade=hostedglade.append(proxy_row,ignore_index=True)\n",
    "hostedglade.tail(10)"
   ]
  },
  {
   "cell_type": "code",
   "execution_count": null,
   "id": "a9363e53",
   "metadata": {},
   "outputs": [],
   "source": [
    "hostedglade.to_csv(cat_name, header=None, index=None, sep=' ')"
   ]
  },
  {
   "cell_type": "markdown",
   "id": "be3a054c",
   "metadata": {},
   "source": [
    " # Line of Sight"
   ]
  },
  {
   "cell_type": "code",
   "execution_count": null,
   "id": "f8be70da",
   "metadata": {},
   "outputs": [],
   "source": [
    "tmp_host = pd.read_csv('host_of_GW2218xx.txt', sep=\" \", header=None, low_memory=False)\n",
    "#print(df[20])#pandas lavora al contrario ossia [colonna][riga]\n",
    "colnames=['numevent','GWGC_name','HyperLEDA_name','2MASS_XSC_name','SDSS-DR12Q_name','type_flag','right_ascension_degrees',\n",
    "          'declination_degrees','dl','err_lum_dist','z','app_B_mag','err_app_B_mag','abs_B_mag','app_J_mag',\n",
    "          'err_app_J_mag','app_H_mag','err_app_H_mag','app_K_mag','err_app_K_mag','lum_dist_flag','pec_vel_correction'\n",
    "          ]\n",
    "tmp_host.columns=colnames\n",
    "tmp_host.head(25)"
   ]
  },
  {
   "cell_type": "code",
   "execution_count": null,
   "id": "f5297c8c",
   "metadata": {},
   "outputs": [],
   "source": [
    "z_host=tmp_host['z']\n",
    "z_host=np.linspace(1.1,1.3,10)\n",
    "step=z_host[1]-z_host[0]\n",
    "print(step)\n",
    "z_host_min=np.min(z_host)\n",
    "z_host_max=np.max(z_host)\n",
    "zmin=0.79\n",
    "inf_range=z_host_min-zmin\n",
    "inf_Nsteps=inf_range/step\n",
    "#print(zmin+inf_Nsteps*step)\n",
    "zmax=2\n",
    "sup_range=zmax-z_host_max\n",
    "sup_Nsteps=sup_range/step\n",
    "#print(zmax-sup_Nsteps*step)\n",
    "zinf=np.zeros(int(inf_Nsteps))\n",
    "zsup=np.zeros(int(sup_Nsteps))\n",
    "for i in range(int(inf_Nsteps)):\n",
    "    zinf[i]=z_host_min-step*i\n",
    "zinf=np.sort(zinf)\n",
    "#print(zinf)\n",
    "#if zref not in zinf:\n",
    "#    zinf=np.append(zinf,zref)\n",
    "for i in range(int(sup_Nsteps)):\n",
    "    zsup[i]=z_host_max+step*i\n",
    "#print(zsup)\n",
    "zinf=zinf[0:-2]\n",
    "hold_zinf=list(zinf)\n",
    "zinf=random.sample(hold_zinf,5)\n",
    "zinf=np.asarray(zinf)\n",
    "\n",
    "zsup=zsup[1:]\n",
    "hold_zsup=list(zsup)\n",
    "zsup=random.sample(hold_zsup,5)\n",
    "zsup=np.asarray(zsup)\n",
    "\n",
    "z_line=np.append(zinf,zsup)\n",
    "z_line=np.append(z_line,z_host)\n",
    "z_line=np.sort(z_line)\n",
    "z_line=np.unique(z_line)\n",
    "#hold_zs=list(z_line)\n",
    "#z_line=random.sample(hold_zs,10)\n",
    "#z_line=np.asarray(z_line)\n",
    "#if 1.1 not in z_line:\n",
    "#    z_line=np.append(z_line,1.1)\n",
    "#z_line=np.sort(z_line)\n",
    "#z_line=np.unique(z_line)\n",
    "print(z_line,len(z_line))"
   ]
  },
  {
   "cell_type": "code",
   "execution_count": null,
   "id": "19354299",
   "metadata": {},
   "outputs": [],
   "source": [
    "#myglade = pd.read_csv('GLADE_flagship.txt', sep=\" \", header=None)\n",
    "colnames=['numevent','GWGC_name','HyperLEDA_name','2MASS_XSC_name','SDSS-DR12Q_name','type_flag','right_ascension_degrees',\n",
    "          'declination_degrees','dl','err_lum_dist','z','app_B_mag','err_app_B_mag','abs_B_mag','app_J_mag',\n",
    "          'err_app_J_mag','app_H_mag','err_app_H_mag','app_K_mag','err_app_K_mag','lum_dist_flag','pec_vel_correction'\n",
    "          ]\n",
    "myglade = pd.DataFrame(columns = colnames)\n",
    "#myglade.columns=colnames\n",
    "myglade.head(5)"
   ]
  },
  {
   "cell_type": "code",
   "execution_count": null,
   "id": "1e2fe40c",
   "metadata": {},
   "outputs": [],
   "source": [
    "for i in range(len(z_line)):\n",
    "    mynumevent=int(0)\n",
    "    myngcup=int(0)\n",
    "    GWGC_name='NGC'+ str(myngcup)\n",
    "    HyperLEDA_name=GWGC_name\n",
    "    MASS_XSC_name='NaN'\n",
    "    type_flag='G'\n",
    "    numevent=mynumevent+i\n",
    "    ngcup=myngcup+i\n",
    "    GWGC_name='NGC'+ str(ngcup)\n",
    "    HyperLEDA_name=GWGC_name\n",
    "    ra_gal=45.0\n",
    "    dec_gal=45.0\n",
    "    zz=z_line[i]\n",
    "    #----------dl----------------------\n",
    "    dl=cosmoflag.luminosity_distance(zz).value\n",
    "    temp_k_lum=np.random.normal(loc=klum_mean,scale=2*klum_std)\n",
    "    #----------row to append---------------------\n",
    "    proxy_row={'numevent':numevent,'GWGC_name':GWGC_name,'HyperLEDA_name':HyperLEDA_name,\n",
    "           '2MASS_XSC_name':MASS_XSC_name,'SDSS-DR12Q_name':'NaN','type_flag':type_flag,\n",
    "           'right_ascension_degrees':ra_gal,'declination_degrees':dec_gal,'dl':dl,'z':zz,\n",
    "           'app_B_mag':mean_app_B_mag,'err_app_B_mag':err_app_B_mag,'abs_B_mag':'NaN',\n",
    "           'app_J_mag':mean_app_J_mag,'err_app_J_mag':err_app_J_mag,\n",
    "           'app_H_mag':mean_app_H_mag,'err_app_H_mag':err_app_H_mag,\n",
    "           'app_K_mag':14,'err_app_K_mag':0,\n",
    "           'lum_dist_flag':3,'pec_vel_correction':0\n",
    "          }\n",
    "    myglade=myglade.append(proxy_row,ignore_index=True)"
   ]
  },
  {
   "cell_type": "code",
   "execution_count": null,
   "id": "a76217d1",
   "metadata": {},
   "outputs": [],
   "source": [
    "myglade.head(len(z_line))"
   ]
  },
  {
   "cell_type": "code",
   "execution_count": null,
   "id": "95131e22",
   "metadata": {},
   "outputs": [],
   "source": [
    "myglade.to_csv('GLADE_line18_20_allhost.txt', header=None, index=None, sep=' ')"
   ]
  },
  {
   "cell_type": "code",
   "execution_count": null,
   "id": "d4f02147",
   "metadata": {},
   "outputs": [],
   "source": [
    "myglade.to_csv('GLADE_flagship_angulardisp05_newsig.txt', header=None, index=None, sep=' ')"
   ]
  },
  {
   "cell_type": "markdown",
   "id": "1ea680ba",
   "metadata": {},
   "source": [
    "# Automatic Host Placer\n",
    "\n",
    "z_min=0.7887375950813293, z_max=2.0129446983337402\n",
    "ra_min=1.558116673550103e-05, ra_max=89.99999237060547\n",
    "dec_min=2.9646462280652486e-06, dec_max=89.98294830322266\n",
    "phi_min=2.7194266749575036e-07, phi_max=1.5707961320877075\n",
    "theta_min=0.0002976218846182377, theta_max=1.570796275052059"
   ]
  },
  {
   "cell_type": "code",
   "execution_count": null,
   "id": "feb3bab2",
   "metadata": {},
   "outputs": [],
   "source": [
    "'''Reading the datasheet of the GWs'''\n",
    "GW_data_path='/home/rciancarella/DarkSirensStat/data/GW/O3/'\n",
    "os.chdir(GW_data_path)\n",
    "with open('GW32xxxx_datasheet.txt','r') as f:\n",
    "    next(f)\n",
    "    lines=f.readlines()\n",
    "    GWs_dl=[]\n",
    "    GWs_theta=[]\n",
    "    GWs_phi=[]\n",
    "    GWs_z=[]\n",
    "    for x in lines:\n",
    "        GWs_dl.append(float(x.split('\\t')[1]))\n",
    "        GWs_theta.append(float(x.split('\\t')[2]))\n",
    "        GWs_phi.append(float(x.split('\\t')[3]))\n",
    "        GWs_z.append(float(x.split('\\t')[4]))\n",
    "    #for i in range(len(GW_z)):\n",
    "        \n",
    "cat_data_path='/home/rciancarella/DarkSirensStat/data/GLADE/'\n",
    "os.chdir(cat_data_path)\n",
    "GWs_dl=np.asarray(GWs_dl)\n",
    "GWs_theta=np.asarray(GWs_theta)\n",
    "GWs_phi=np.asarray(GWs_phi)\n",
    "GWs_z=np.asarray(GWs_z)\n",
    "#--------------from phi, theta to RA DEC the same way as Maggiore---------------------------\n",
    "GWs_ra=np.zeros(len(GWs_phi))\n",
    "GWs_dec=np.zeros(len(GWs_theta))\n",
    "for j in range(len(GWs_phi)):\n",
    "    GWs_ra[j]=np.rad2deg(GWs_phi[j])\n",
    "    GWs_dec[j] = np.rad2deg(0.5 * np.pi - GWs_theta[j])\n",
    "#print(GWs_ra,GWs_dec)"
   ]
  },
  {
   "cell_type": "code",
   "execution_count": null,
   "id": "a07e6708",
   "metadata": {},
   "outputs": [],
   "source": [
    "'''New cat containing only the true hosts'''\n",
    "colnames=['numevent','GWGC_name','HyperLEDA_name','2MASS_XSC_name','SDSS-DR12Q_name','type_flag','right_ascension_degrees',\n",
    "          'declination_degrees','dl','err_lum_dist','z','app_B_mag','err_app_B_mag','abs_B_mag','app_J_mag',\n",
    "          'err_app_J_mag','app_H_mag','err_app_H_mag','app_K_mag','err_app_K_mag','lum_dist_flag','pec_vel_correction'\n",
    "          ]\n",
    "myglade = pd.DataFrame(columns = colnames)\n",
    "#myglade.columns=colnames\n",
    "myglade.head(5)"
   ]
  },
  {
   "cell_type": "code",
   "execution_count": null,
   "id": "5a2f75f5",
   "metadata": {},
   "outputs": [],
   "source": [
    "for i in range(len(GWs_phi)):\n",
    "    mynumevent=int(90000000)\n",
    "    myngcup=int(99000000)\n",
    "    GWGC_name='NGC'+ str(myngcup)\n",
    "    HyperLEDA_name=GWGC_name\n",
    "    MASS_XSC_name='NaN'\n",
    "    type_flag='G'\n",
    "    numevent=mynumevent+i\n",
    "    ngcup=myngcup+i\n",
    "    GWGC_name='NGC'+ str(ngcup)\n",
    "    HyperLEDA_name=GWGC_name\n",
    "    ra_gal=GWs_ra[i]\n",
    "    dec_gal=GWs_dec[i]\n",
    "    zz=GWs_z[i]\n",
    "    #----------dl----------------------\n",
    "    dl=GWs_dl[i]\n",
    "    #temp_k_lum=np.random.normal(loc=klum_mean,scale=2*klum_std)\n",
    "    #----------row to append---------------------\n",
    "    proxy_row={'numevent':numevent,'GWGC_name':GWGC_name,'HyperLEDA_name':HyperLEDA_name,\n",
    "           '2MASS_XSC_name':MASS_XSC_name,'SDSS-DR12Q_name':'NaN','type_flag':type_flag,\n",
    "           'right_ascension_degrees':ra_gal,'declination_degrees':dec_gal,'dl':dl,'z':zz,\n",
    "           'app_B_mag':mean_app_B_mag,'err_app_B_mag':err_app_B_mag,'abs_B_mag':'NaN',\n",
    "           'app_J_mag':mean_app_J_mag,'err_app_J_mag':err_app_J_mag,\n",
    "           'app_H_mag':mean_app_H_mag,'err_app_H_mag':err_app_H_mag,\n",
    "           'app_K_mag':14,'err_app_K_mag':0,\n",
    "           'lum_dist_flag':3,'pec_vel_correction':0\n",
    "          }\n",
    "    myglade=myglade.append(proxy_row,ignore_index=True)\n",
    "myglade.tail(len(GWs_z)+10)"
   ]
  },
  {
   "cell_type": "code",
   "execution_count": null,
   "id": "02b8333a",
   "metadata": {},
   "outputs": [],
   "source": [
    "myglade.to_csv('host_of_GW32xxxx.txt', header=None, index=None, sep=' ')"
   ]
  },
  {
   "cell_type": "code",
   "execution_count": null,
   "id": "6bd6b814",
   "metadata": {},
   "outputs": [],
   "source": [
    "zs=myglade['z']\n",
    "dls=myglade['dl']\n",
    "for i in range(10):\n",
    "    print(zs[i],dls[i])"
   ]
  },
  {
   "cell_type": "markdown",
   "id": "b40a9954",
   "metadata": {},
   "source": [
    "# Uniform distributed in an Octant\n",
    "\n",
    "https://stackoverflow.com/questions/67285924/random-uniform-3d-distribution-of-points-inside-a-spherical-shell-of-inner-and-o\n",
    "\n",
    "Also made that in DSIRE. Uniform in DL so then find the z.\n",
    "dcom_min=2853.24\n",
    "dcom_max=5345.14"
   ]
  },
  {
   "cell_type": "code",
   "execution_count": null,
   "id": "3f5a1de7",
   "metadata": {},
   "outputs": [],
   "source": [
    "tmp_flag = pd.read_csv('GLADE_flagship.txt', sep=\" \", header=None)\n",
    "colnames=['numevent','GWGC_name','HyperLEDA_name','2MASS_XSC_name','SDSS-DR12Q_name','type_flag','right_ascension_degrees',\n",
    "          'declination_degrees','dl','err_lum_dist','z','app_B_mag','err_app_B_mag','abs_B_mag','app_J_mag',\n",
    "          'err_app_J_mag','app_H_mag','err_app_H_mag','app_K_mag','err_app_K_mag','lum_dist_flag','pec_vel_correction'\n",
    "          ]\n",
    "tmp_flag.columns=colnames"
   ]
  },
  {
   "cell_type": "code",
   "execution_count": null,
   "id": "a3f9f884",
   "metadata": {},
   "outputs": [],
   "source": [
    "numb=glade[glade['z']<=0.5].shape[0]\n",
    "tmp_flag=glade[glade['z']<=0.5]\n",
    "print(numb)"
   ]
  },
  {
   "cell_type": "code",
   "execution_count": null,
   "id": "45df88ee",
   "metadata": {},
   "outputs": [],
   "source": [
    "'''Uniform spherical distribution'''\n",
    "nsamp=int(numb/8)#int(2*tmp_flag.shape[0]/2)\n",
    "print('Half flag={}'.format(nsamp))\n",
    "#nsamp=nsamp+1260000*2\n",
    "#nsamp=1000\n",
    "tmp_flag[tmp_flag['z']>=0.05]\n",
    "z_min=tmp_flag['z'].min()\n",
    "z_max=tmp_flag['z'].max()\n",
    "dcom_min=cosmoflag.comoving_distance(z_min).value#2853.24\n",
    "dcom_max=cosmoflag.comoving_distance(z_max).value#5345.14\n",
    "dl_min=cosmoflag.luminosity_distance(z_min).value\n",
    "dl_max=cosmoflag.luminosity_distance(z_max).value\n",
    "phi_min=0.001\n",
    "phi_max=np.pi/2\n",
    "theta_min=0.0002976218846182377\n",
    "theta_max=1.570796275052059#depends on the arccos 0 to 1 is from pi/2 to 0 -1 to 1 is full range\n",
    "#------------------points generator------------------\n",
    "u     = np.random.uniform(0,1,size=nsamp) # uniform random vector of size nsamp\n",
    "#dl_gals_all     = np.cbrt((u*0**3)+((1-u)*dl_max**3))\n",
    "dc_gals_all     = np.cbrt((u*0**3)+((1-u)*dcom_max**3))\n",
    "phi_gals   = np.random.uniform(phi_min,phi_max,nsamp)\n",
    "theta_gals = np.arccos( np.random.uniform(-1,0,nsamp) )\n",
    "#dl_gals=dl_gals_all[dl_gals_all>=dl_min]\n",
    "dc_gals=dc_gals_all[dc_gals_all>=dcom_min]\n",
    "print(len(dc_gals_all),len(dc_gals),len(dc_gals)/len(dc_gals_all))"
   ]
  },
  {
   "cell_type": "code",
   "execution_count": null,
   "id": "a06980bf",
   "metadata": {},
   "outputs": [],
   "source": [
    "ra_gals=ra = np.rad2deg(phi_gals)\n",
    "dec_gals = np.rad2deg(0.5 * np.pi - theta_gals)"
   ]
  },
  {
   "cell_type": "code",
   "execution_count": null,
   "id": "cd47bb59",
   "metadata": {},
   "outputs": [],
   "source": [
    "h=0.67\n",
    "mynumevent=int(0)\n",
    "myngcup=int(0)\n",
    "GWGC_name='NGC'+ str(myngcup)\n",
    "HyperLEDA_name=GWGC_name\n",
    "MASS_XSC_name='NaN'\n",
    "type_flag='G'\n",
    "proxy_row={'numevent':mynumevent,'GWGC_name':GWGC_name,'HyperLEDA_name':HyperLEDA_name,\n",
    "           '2MASS_XSC_name':MASS_XSC_name,'SDSS-DR12Q_name':'NaN','type_flag':type_flag,\n",
    "           'right_ascension_degrees':0,'declination_degrees':0,'dl':0,'z':0,\n",
    "           'app_B_mag':mean_app_B_mag,'err_app_B_mag':err_app_B_mag,'abs_B_mag':'NaN',\n",
    "           'app_J_mag':mean_app_J_mag,'err_app_J_mag':err_app_J_mag,\n",
    "           'app_H_mag':mean_app_H_mag,'err_app_H_mag':err_app_H_mag,\n",
    "           'app_K_mag':klum_mean+4,'err_app_K_mag':klum_std,\n",
    "           'lum_dist_flag':3,'pec_vel_correction':0\n",
    "          }"
   ]
  },
  {
   "cell_type": "code",
   "execution_count": null,
   "id": "0344e480",
   "metadata": {},
   "outputs": [],
   "source": [
    "colnames=['numevent','GWGC_name','HyperLEDA_name','2MASS_XSC_name','SDSS-DR12Q_name','type_flag','right_ascension_degrees',\n",
    "          'declination_degrees','dl','err_lum_dist','z','app_B_mag','err_app_B_mag','abs_B_mag','app_J_mag',\n",
    "          'err_app_J_mag','app_H_mag','err_app_H_mag','app_K_mag','err_app_K_mag','lum_dist_flag','pec_vel_correction'\n",
    "          ]\n",
    "glade_like = pd.DataFrame(columns=colnames)\n",
    "#glade_like.columns=colnames\n",
    "glade_like.head()"
   ]
  },
  {
   "cell_type": "code",
   "execution_count": null,
   "id": "f6cc89b5",
   "metadata": {},
   "outputs": [],
   "source": [
    "arr=np.arange(0,len(dc_gals),dtype=int)\n",
    "data=[]\n",
    "tmp=[]\n",
    "start_time = time.time()\n",
    "print('I am Doing my best, please wait...')\n",
    "with Pool(14) as p:\n",
    "    tmp=p.map(GLADE_inator_volume, arr)\n",
    "print(\"--- %s seconds ---\" % (time.time() - start_time))"
   ]
  },
  {
   "cell_type": "code",
   "execution_count": null,
   "id": "4b5af1d0",
   "metadata": {},
   "outputs": [],
   "source": [
    "glade_like=glade_like.append(tmp, ignore_index=True)\n",
    "glade_like.head()"
   ]
  },
  {
   "cell_type": "code",
   "execution_count": null,
   "id": "93f546aa",
   "metadata": {},
   "outputs": [],
   "source": [
    "cat_name='MockGlade.txt'\n",
    "glade_like.to_csv(cat_name, header=None, index=None, sep=' ')"
   ]
  },
  {
   "cell_type": "code",
   "execution_count": null,
   "id": "9a82088d",
   "metadata": {},
   "outputs": [],
   "source": [
    "del tmp\n",
    "del data\n",
    "del ra_gals\n",
    "del dec_gals\n",
    "del u    \n",
    "del dc_gals\n",
    "del phi_gals\n",
    "del theta_gals\n",
    "del tmp_flag\n",
    "del glade_like"
   ]
  },
  {
   "cell_type": "markdown",
   "id": "441f0fad",
   "metadata": {},
   "source": [
    "# Append two Cat"
   ]
  },
  {
   "cell_type": "code",
   "execution_count": null,
   "id": "e99d0083",
   "metadata": {},
   "outputs": [],
   "source": [
    "tmp_host = pd.read_csv('host_of_GW32xxxx.txt', sep=\" \", header=None, low_memory=False)\n",
    "#print(df[20])#pandas lavora al contrario ossia [colonna][riga]\n",
    "colnames=['numevent','GWGC_name','HyperLEDA_name','2MASS_XSC_name','SDSS-DR12Q_name','type_flag','right_ascension_degrees',\n",
    "          'declination_degrees','dl','err_lum_dist','z','app_B_mag','err_app_B_mag','abs_B_mag','app_J_mag',\n",
    "          'err_app_J_mag','app_H_mag','err_app_H_mag','app_K_mag','err_app_K_mag','lum_dist_flag','pec_vel_correction'\n",
    "          ]\n",
    "tmp_host.columns=colnames\n",
    "#myfrac=0.08333346666666666\n",
    "tmp_host=tmp_host.sample(frac=0.5)\n",
    "#tmp_host.head(25)\n",
    "tmp_host.shape[0]"
   ]
  },
  {
   "cell_type": "code",
   "execution_count": null,
   "id": "3df59a05",
   "metadata": {},
   "outputs": [],
   "source": [
    "tmp_volume = pd.read_csv('gw23cat_uniform_30_1oct_halved.txt', sep=\" \", header=None, low_memory=False)\n",
    "#print(df[20])#pandas lavora al contrario ossia [colonna][riga]\n",
    "colnames=['numevent','GWGC_name','HyperLEDA_name','2MASS_XSC_name','SDSS-DR12Q_name','type_flag','right_ascension_degrees',\n",
    "          'declination_degrees','dl','err_lum_dist','z','app_B_mag','err_app_B_mag','abs_B_mag','app_J_mag',\n",
    "          'err_app_J_mag','app_H_mag','err_app_H_mag','app_K_mag','err_app_K_mag','lum_dist_flag','pec_vel_correction'\n",
    "          ]\n",
    "tmp_volume.columns=colnames\n",
    "\n",
    "tmp_volume.shape\n",
    "#tmp_volume.tail(5)"
   ]
  },
  {
   "cell_type": "code",
   "execution_count": null,
   "id": "e1963a2a",
   "metadata": {},
   "outputs": [],
   "source": [
    "tmp_volume=tmp_volume.append(tmp_host, ignore_index=True)\n",
    "tmp_volume.shape\n",
    "#tmp_volume.tail(tmp_host.shape[0]+10)\n",
    "#tmp_volume=tmp_volume.tail(1)"
   ]
  },
  {
   "cell_type": "code",
   "execution_count": null,
   "id": "fc77aebe",
   "metadata": {},
   "outputs": [],
   "source": [
    "cat_data_path='/home/rciancarella/DarkSirensStat/data/GLADE/'\n",
    "os.chdir(cat_data_path)\n",
    "tmp_volume.to_csv('gw23cat_uniform_32_1oct_halved_host.txt', header=None, index=None, sep=' ')"
   ]
  },
  {
   "cell_type": "code",
   "execution_count": null,
   "id": "319acf3c",
   "metadata": {},
   "outputs": [],
   "source": [
    "del tmp_volume\n",
    "tmp_volume = pd.read_csv('gw23cat_uniform_32_1oct_halved_host.txt', sep=\" \", header=None, low_memory=False)\n",
    "#print(df[20])#pandas lavora al contrario ossia [colonna][riga]\n",
    "colnames=['numevent','GWGC_name','HyperLEDA_name','2MASS_XSC_name','SDSS-DR12Q_name','type_flag','right_ascension_degrees',\n",
    "          'declination_degrees','dl','err_lum_dist','z','app_B_mag','err_app_B_mag','abs_B_mag','app_J_mag',\n",
    "          'err_app_J_mag','app_H_mag','err_app_H_mag','app_K_mag','err_app_K_mag','lum_dist_flag','pec_vel_correction'\n",
    "          ]\n",
    "tmp_volume.columns=colnames\n",
    "tmp_volume[tmp_volume['numevent']>=90000000]"
   ]
  },
  {
   "cell_type": "code",
   "execution_count": null,
   "id": "4ae02bf1",
   "metadata": {},
   "outputs": [],
   "source": [
    "tmp_volume = pd.read_csv('gw23cat_uniform_30_1oct.txt', sep=\" \", header=None, low_memory=False)\n",
    "#print(df[20])#pandas lavora al contrario ossia [colonna][riga]\n",
    "colnames=['numevent','GWGC_name','HyperLEDA_name','2MASS_XSC_name','SDSS-DR12Q_name','type_flag','right_ascension_degrees',\n",
    "          'declination_degrees','dl','err_lum_dist','z','app_B_mag','err_app_B_mag','abs_B_mag','app_J_mag',\n",
    "          'err_app_J_mag','app_H_mag','err_app_H_mag','app_K_mag','err_app_K_mag','lum_dist_flag','pec_vel_correction'\n",
    "          ]\n",
    "tmp_volume.columns=colnames"
   ]
  },
  {
   "cell_type": "code",
   "execution_count": null,
   "id": "6de9d741",
   "metadata": {},
   "outputs": [],
   "source": []
  },
  {
   "cell_type": "markdown",
   "id": "c255eedb",
   "metadata": {},
   "source": [
    "# Test"
   ]
  },
  {
   "cell_type": "code",
   "execution_count": null,
   "id": "fbf3bea0",
   "metadata": {},
   "outputs": [],
   "source": [
    "coneflag = pd.read_csv('gw23cat_uniform_30_host.txt', sep=\" \", header=None, low_memory=False)\n",
    "#'GLADE_flagship_volume_cone14.txt'\n",
    "\n",
    "colnames=['numevent','GWGC_name','HyperLEDA_name','2MASS_XSC_name','SDSS-DR12Q_name','type_flag','right_ascension_degrees',\n",
    "          'declination_degrees','dl','err_lum_dist','z','app_B_mag','err_app_B_mag','abs_B_mag','app_J_mag',\n",
    "          'err_app_J_mag','app_H_mag','err_app_H_mag','app_K_mag','err_app_K_mag','lum_dist_flag','pec_vel_correction'\n",
    "          ]\n",
    "coneflag.columns=colnames"
   ]
  },
  {
   "cell_type": "code",
   "execution_count": null,
   "id": "641414c0",
   "metadata": {},
   "outputs": [],
   "source": [
    "tmp_flag = pd.read_csv('uniform_comoving_autoconsistent_host_30.txt', sep=\" \", header=None)\n",
    "colnames=['numevent','GWGC_name','HyperLEDA_name','2MASS_XSC_name','SDSS-DR12Q_name','type_flag','right_ascension_degrees',\n",
    "          'declination_degrees','dl','err_lum_dist','z','app_B_mag','err_app_B_mag','abs_B_mag','app_J_mag',\n",
    "          'err_app_J_mag','app_H_mag','err_app_H_mag','app_K_mag','err_app_K_mag','lum_dist_flag','pec_vel_correction'\n",
    "          ]\n",
    "tmp_flag.columns=colnames"
   ]
  },
  {
   "cell_type": "code",
   "execution_count": null,
   "id": "bcc676a7",
   "metadata": {},
   "outputs": [],
   "source": [
    "alldl=np.asarray(tmp_flag['dl'])\n",
    "allz=np.asarray(tmp_flag['z'])\n",
    "#alldc=np.zeros(len(allz))\n",
    "#for i in range(len(allz)):\n",
    "#    alldc[i]=cosmoflag.luminosity_distance(allz[i]).value\n",
    "density=0.25*tmp_flag.shape[0]/(cosmoflag.comoving_volume(allz.max()).value-cosmoflag.comoving_volume(allz.min()).value)"
   ]
  },
  {
   "cell_type": "code",
   "execution_count": null,
   "id": "9d26fa1a",
   "metadata": {},
   "outputs": [],
   "source": [
    "fast_alldc=alldl/(1+allz)"
   ]
  },
  {
   "cell_type": "code",
   "execution_count": null,
   "id": "4055600c",
   "metadata": {},
   "outputs": [],
   "source": [
    "Num=10\n",
    "position=[]\n",
    "volume=[]\n",
    "numobj=[]\n",
    "step=(np.max(fast_alldc)-np.min(fast_alldc))/Num\n",
    "start=np.min(fast_alldc)\n",
    "for i in range(Num):\n",
    "    tmp=step/2 + start+(step)*i\n",
    "    position.append(tmp)\n",
    "    tmpnum=fast_alldc[fast_alldc<tmp]\n",
    "    numobj.append(len(tmpnum))\n",
    "    volume.append(tmp**3-start**3)\n",
    "position=np.asarray(position)\n",
    "volume=np.asarray(volume)\n",
    "volume=volume/np.min(volume)\n",
    "tmp=fast_alldc[fast_alldc<=(start+step)]\n",
    "norm=numobj[0]\n",
    "volume=volume*norm"
   ]
  },
  {
   "cell_type": "code",
   "execution_count": null,
   "id": "bbca02e1",
   "metadata": {},
   "outputs": [],
   "source": [
    "\n",
    "plt.figure(figsize=(15,10))\n",
    "plt.rcParams.update({'font.size': 20})\n",
    "#values=tmp_flag['dl'].hist(grid=True, bins=Num, rwidth=0.9,color='#607c8e')\n",
    "#plt.hist(fast_alldc,bins=Num,rwidth=0.9,color='#607c8e')\n",
    "plt.scatter(position,numobj,s=100, marker='+', c='k', zorder=10 )\n",
    "plt.xscale('log')\n",
    "plt.yscale('log')\n",
    "plt.title('Check')\n",
    "\n",
    "plt.plot(position,volume,color='r')\n",
    "plt.xlabel('dc')\n",
    "plt.ylabel('# of object in a shell')\n",
    "plt.grid(axis='y', alpha=0.75)"
   ]
  },
  {
   "cell_type": "code",
   "execution_count": null,
   "id": "67a6bdb2",
   "metadata": {},
   "outputs": [],
   "source": [
    "'''Uniform spherical distribution'''\n",
    "nsamp=int(2*tmp_flag.shape[0]/2)\n",
    "print('Half flag={}'.format(nsamp))\n",
    "nsamp=nsamp+1300000*2\n",
    "#nsamp=1000\n",
    "dcom_min=2853.24\n",
    "dcom_max=5345.14\n",
    "z_min=tmp_flag['z'].min()\n",
    "z_max=tmp_flag['z'].max()\n",
    "phi_min=np.pi#2.7194266749575036e-07\n",
    "phi_max=2*np.pi#1.5707961320877075\n",
    "theta_min=0.0002976218846182377\n",
    "theta_max=1.570796275052059\n",
    "#------------------points generator------------------\n",
    "u     = np.random.uniform(0,1,size=nsamp) # uniform random vector of size nsamp\n",
    "#dl_gals_all     = np.cbrt((u*0**3)+((1-u)*dl_max**3))\n",
    "dc_gals_all     = np.cbrt((u*0**3)+((1-u)*dcom_max**3))\n",
    "phi_gals   = np.random.uniform(phi_min,phi_max,nsamp)\n",
    "theta_gals = np.arccos( np.random.uniform(0,1,nsamp) )\n",
    "#dl_gals=dl_gals_all[dl_gals_all>=dl_min]\n",
    "dc_gals=dc_gals_all[dc_gals_all>=dcom_min]\n",
    "print(len(dc_gals_all),len(dc_gals),len(dc_gals)/len(dc_gals_all))"
   ]
  },
  {
   "cell_type": "code",
   "execution_count": null,
   "id": "9388cff7",
   "metadata": {},
   "outputs": [],
   "source": [
    "position=[]\n",
    "volume=[]\n",
    "numobj=[]\n",
    "\n",
    "Nbis=10\n",
    "step=(np.max(dc_gals_all)-np.min(dc_gals_all))/Nbis\n",
    "start=np.min(dc_gals_all)\n",
    "for i in range(Nbis):\n",
    "    dcsup=step/2 +start+(step)*i\n",
    "    position.append(dcsup)\n",
    "    tmp=dc_gals_all[dc_gals_all<dcsup]\n",
    "    numobj.append(len(tmp))\n",
    "    volume.append(dcsup**3)\n",
    "position=np.asarray(position)\n",
    "volume=np.asarray(volume)\n",
    "numobj=np.asarray(numobj)\n",
    "volume=volume/np.min(volume)\n",
    "norm=numobj[0]\n",
    "volume=volume*norm"
   ]
  },
  {
   "cell_type": "code",
   "execution_count": null,
   "id": "b54146c7",
   "metadata": {},
   "outputs": [],
   "source": [
    "plt.rcParams.update({'font.size': 20})\n",
    "plt.figure(figsize=(15,10))\n",
    "#n, bins, patches = plt.hist(x=numobj,grid=True, bins=Num, rwidth=0.9,color='#607c8e')\n",
    "plt.xscale('log')\n",
    "plt.yscale('log')\n",
    "plt.title('Check')\n",
    "plt.scatter(position,numobj,s=100, marker='+', c='k', zorder=10 )\n",
    "plt.plot(position,volume,color='g')\n",
    "plt.xlabel('dc')\n",
    "plt.ylabel('# of object in a sphere')\n",
    "plt.grid(axis='y', alpha=0.75)"
   ]
  },
  {
   "cell_type": "code",
   "execution_count": null,
   "id": "59b6f7d3",
   "metadata": {},
   "outputs": [],
   "source": [
    "n, bins, patches = plt.hist(x=phi_gals, bins=20, color='#0504aa',\n",
    "                            alpha=0.7, rwidth=0.85)\n",
    "plt.grid(axis='y', alpha=0.75)\n",
    "plt.xlabel('Value')\n",
    "plt.ylabel('Frequency')\n",
    "plt.title('My Very Own Histogram')\n"
   ]
  },
  {
   "cell_type": "code",
   "execution_count": null,
   "id": "8ae8e452",
   "metadata": {},
   "outputs": [],
   "source": [
    "#1.188889\n",
    "with pd.option_context('display.max_rows', None, 'display.max_columns', None):  # more options can be specified also\n",
    "    print(tmp_volume.loc[[539173]])"
   ]
  },
  {
   "cell_type": "code",
   "execution_count": null,
   "id": "898080bb",
   "metadata": {},
   "outputs": [],
   "source": [
    "testcat = pd.read_csv('host_of_GW2218xx.txt', sep=\" \", header=None)\n",
    "colnames=['numevent','GWGC_name','HyperLEDA_name','2MASS_XSC_name','SDSS-DR12Q_name','type_flag','right_ascension_degrees',\n",
    "          'declination_degrees','dl','err_lum_dist','z','app_B_mag','err_app_B_mag','abs_B_mag','app_J_mag',\n",
    "          'err_app_J_mag','app_H_mag','err_app_H_mag','app_K_mag','err_app_K_mag','lum_dist_flag','pec_vel_correction'\n",
    "          ]\n",
    "testcat.columns=colnames"
   ]
  },
  {
   "cell_type": "code",
   "execution_count": null,
   "id": "799059ca",
   "metadata": {
    "scrolled": true
   },
   "outputs": [],
   "source": [
    "with pd.option_context('display.max_rows', None, 'display.max_columns', None):  # more options can be specified also\n",
    "    print(testcat)"
   ]
  },
  {
   "cell_type": "code",
   "execution_count": null,
   "id": "1ee6f58e",
   "metadata": {
    "scrolled": true
   },
   "outputs": [],
   "source": [
    "allra=np.asarray(testcat['right_ascension_degrees'])\n",
    "alldec=np.asarray(testcat['declination_degrees'])\n",
    "print(allra)\n",
    "print(alldec)"
   ]
  },
  {
   "cell_type": "markdown",
   "id": "23bc90d6",
   "metadata": {},
   "source": [
    "# N(z)"
   ]
  },
  {
   "cell_type": "code",
   "execution_count": 16,
   "id": "3e10bce7",
   "metadata": {},
   "outputs": [],
   "source": [
    "flag = pd.read_csv('GLADE_flagship.txt', sep=\" \", header=None)\n",
    "colnames=['numevent','GWGC_name','HyperLEDA_name','2MASS_XSC_name','SDSS-DR12Q_name','type_flag','right_ascension_degrees',\n",
    "          'declination_degrees','dl','err_lum_dist','z','app_B_mag','err_app_B_mag','abs_B_mag','app_J_mag',\n",
    "          'err_app_J_mag','app_H_mag','err_app_H_mag','app_K_mag','err_app_K_mag','lum_dist_flag','pec_vel_correction'\n",
    "          ]\n",
    "flag.columns=colnames\n",
    "flag_z=flag['z']"
   ]
  },
  {
   "cell_type": "code",
   "execution_count": 17,
   "id": "110b9b33",
   "metadata": {},
   "outputs": [
    {
     "name": "stdout",
     "output_type": "stream",
     "text": [
      "9\n",
      "9\n"
     ]
    }
   ],
   "source": [
    "zz=[]\n",
    "values=[]\n",
    "datContent = [i.strip().split() for i in open(\"z_centre_dndzddeg_std_nz3Ben_new_Raul.dat\").readlines()]\n",
    "# z, dndzdedeg2, std\n",
    "for i in range(len(datContent)):\n",
    "    zz.append(float(datContent[i][0]))\n",
    "    values.append(float(datContent[i][1]))\n",
    "zz=np.asarray(zz)\n",
    "values=np.asarray(values)\n",
    "abs_num=values*5125*0.1\n",
    "myN=interpolate.interp1d(zz,values,kind='cubic',fill_value='extrapolate')\n",
    "myzz=np.linspace(0.95,1.75,1000)\n",
    "print(len(zz))\n",
    "print(len(values))"
   ]
  },
  {
   "cell_type": "code",
   "execution_count": null,
   "id": "8d7fbf70",
   "metadata": {},
   "outputs": [],
   "source": [
    "print(zz.min(),zz.max())"
   ]
  },
  {
   "cell_type": "code",
   "execution_count": 18,
   "id": "5e24a9fd",
   "metadata": {},
   "outputs": [
    {
     "data": {
      "text/plain": [
       "<matplotlib.legend.Legend at 0x7f47449aead0>"
      ]
     },
     "execution_count": 18,
     "metadata": {},
     "output_type": "execute_result"
    },
    {
     "data": {
      "image/png": "[encoded data removed]",
      "text/plain": [
       "<Figure size 864x576 with 1 Axes>"
      ]
     },
     "metadata": {
      "needs_background": "light"
     },
     "output_type": "display_data"
    }
   ],
   "source": [
    "fig, ax = plt.subplots(1, figsize=(12,8)) #crea un tupla che poi è più semplice da gestire\n",
    "ax.tick_params(axis='both', which='major', labelsize=14)\n",
    "ax.yaxis.get_offset_text().set_fontsize(14)\n",
    "ax.grid(linestyle='dotted', linewidth='0.6')#griglia in sfondo\n",
    "\n",
    "colors=plt.cm.turbo(np.linspace(0.99,0.01,16))\n",
    "ax.plot(zz,myN(zz)/np.trapz(myN(zz),zz),label='N(z)-Raw',color=colors[2])\n",
    "#ax.plot(myzz,myN(myzz)/np.trapz(myN(myzz),myzz),label='N(z)-Interpol',color=colors[3])\n",
    "#ax.set_xlim(0.8, 2)\n",
    "ax.set_xlabel(r'$z$', fontsize=20)\n",
    "ax.set_ylabel(r'$N(z)$', fontsize=20)\n",
    "ax.legend(fontsize=10,ncol=4)\n",
    "#working_path='/home/rciancarella/DarkSirensStat/PlotTest/'\n",
    "#plt.savefig(os.path.join(working_path+'Nz_euclidlike.pdf'))"
   ]
  },
  {
   "cell_type": "code",
   "execution_count": 19,
   "id": "5c1c765c",
   "metadata": {},
   "outputs": [
    {
     "data": {
      "text/plain": [
       "Text(0, 0.5, '$N(z)$')"
      ]
     },
     "execution_count": 19,
     "metadata": {},
     "output_type": "execute_result"
    },
    {
     "data": {
      "image/png": "[encoded data removed]",
      "text/plain": [
       "<Figure size 864x576 with 1 Axes>"
      ]
     },
     "metadata": {
      "needs_background": "light"
     },
     "output_type": "display_data"
    }
   ],
   "source": [
    "fig, ax = plt.subplots(1, figsize=(12,8)) #crea un tupla che poi è più semplice da gestire\n",
    "ax.tick_params(axis='both', which='major', labelsize=14)\n",
    "ax.yaxis.get_offset_text().set_fontsize(14)\n",
    "ax.grid(linestyle='dotted', linewidth='0.6')#griglia in sfondo\n",
    "colors=plt.cm.turbo(np.linspace(0.99,0.01,16))\n",
    "\n",
    "abs_num=values*5125*0.1\n",
    "bins_of_euclid=len(zz)\n",
    "ax.hist(flag_z,bins=bins_of_euclid,range=(myzz.min()-0.05,myzz.max()+0.05))\n",
    "ax.scatter(zz,abs_num,label='N(z)-Interpol',color=colors[3])\n",
    "ax.set_xlabel(r'$z$', fontsize=20)\n",
    "ax.set_ylabel(r'$N(z)$', fontsize=20)"
   ]
  },
  {
   "cell_type": "code",
   "execution_count": null,
   "id": "8d55a228",
   "metadata": {},
   "outputs": [],
   "source": [
    "print(np.trapz(values*5125,zz))\n",
    "tmp=flag_z[flag_z>zz.min()]\n",
    "tmp=tmp[tmp<zz.max()]\n",
    "print(len(tmp)/np.trapz(values*5125,zz))\n",
    "print(len(tmp)/np.sum(abs_num))"
   ]
  },
  {
   "cell_type": "markdown",
   "id": "aefe7b48",
   "metadata": {},
   "source": [
    "# Building our Catalogue-UniformCat\n",
    "First we need to generate an uniform catalogue in comoving volume. This imply a cosmology. We need a fixed and constant comoving density. The number of object in the most pupulated bin of the data must be the same as the uniform cat"
   ]
  },
  {
   "cell_type": "code",
   "execution_count": 20,
   "id": "6450864c",
   "metadata": {},
   "outputs": [],
   "source": [
    "#first the density at the 0 bin\n",
    "cutted_flag_z=flag_z[flag_z>=zz.min()-0.05]\n",
    "cutted_flag_z=cutted_flag_z[cutted_flag_z<=zz.max()+0.05]\n",
    "Nbin_max=abs_num.max()\n",
    "index=np.where(abs_num==abs_num.max())\n",
    "bin_max_vol=cosmoflag.comoving_volume(zz[index]+0.05).value-cosmoflag.comoving_volume(zz[index]-0.05).value\n",
    "density=Nbin_max/bin_max_vol\n",
    "tot_vol=cosmoflag.comoving_volume(zz.max()+0.05).value-cosmoflag.comoving_volume(zz.min()-0.05).value\n",
    "Numb=density*tot_vol\n",
    "mydcom_min=cosmoflag.comoving_distance(zz.min()-0.05).value\n",
    "mydcom_max=cosmoflag.comoving_distance(zz.max()+0.05).value"
   ]
  },
  {
   "cell_type": "code",
   "execution_count": 21,
   "id": "5cfa8208",
   "metadata": {},
   "outputs": [],
   "source": [
    "'''Uniform spherical distribution'''\n",
    "nsamp=int(Numb+1)\n",
    "#nsamp=1000\n",
    "dcom_min=mydcom_min\n",
    "dcom_max=mydcom_max\n",
    "\n",
    "phi_min=0.0001#0.0001\n",
    "phi_max=np.pi/2\n",
    "theta_min=0.0002976218846182377\n",
    "theta_max=1.570796275052059#depends on the arccos 0 to 1 is from pi/2 to 0 -1 to 1 is full range\n",
    "#------------------points generator------------------\n",
    "u     = np.random.uniform(0,1,size=nsamp) # uniform random vector of size nsamp\n",
    "\n",
    "#dc_gals_all     = np.cbrt((u*dcom_min**3)+((1-u)*dcom_max**3))\n",
    "dc_gals     = np.cbrt((u*dcom_min**3)+((1-u)*dcom_max**3))\n",
    "phi_gals   = np.random.uniform(phi_min,phi_max,nsamp)\n",
    "theta_gals = np.arccos( np.random.uniform(0,1,nsamp) )\n",
    "\n",
    "#dc_gals=dc_gals_all[dc_gals_all>=dcom_min]\n",
    "#print(len(dc_gals_all),len(dc_gals),len(dc_gals)/len(dc_gals_all))\n",
    "ra_gals=ra = np.rad2deg(phi_gals)\n",
    "dec_gals = np.rad2deg(0.5 * np.pi - theta_gals)"
   ]
  },
  {
   "cell_type": "code",
   "execution_count": null,
   "id": "3dc31b07",
   "metadata": {},
   "outputs": [],
   "source": [
    "print(phi_gals.min())\n",
    "print(phi_gals.max())\n",
    "print(theta_gals.min())\n",
    "print(theta_gals.max())"
   ]
  },
  {
   "cell_type": "code",
   "execution_count": 22,
   "id": "e0fcc503",
   "metadata": {},
   "outputs": [],
   "source": [
    "h=0.67\n",
    "mynumevent=int(0)\n",
    "myngcup=int(0)\n",
    "GWGC_name='NGC'+ str(myngcup)\n",
    "HyperLEDA_name=GWGC_name\n",
    "MASS_XSC_name='NaN'\n",
    "type_flag='G'\n",
    "proxy_row={'numevent':mynumevent,'GWGC_name':GWGC_name,'HyperLEDA_name':HyperLEDA_name,\n",
    "           '2MASS_XSC_name':MASS_XSC_name,'SDSS-DR12Q_name':'NaN','type_flag':type_flag,\n",
    "           'right_ascension_degrees':0,'declination_degrees':0,'dl':0,'z':0,\n",
    "           'app_B_mag':mean_app_B_mag,'err_app_B_mag':err_app_B_mag,'abs_B_mag':'NaN',\n",
    "           'app_J_mag':mean_app_J_mag,'err_app_J_mag':err_app_J_mag,\n",
    "           'app_H_mag':mean_app_H_mag,'err_app_H_mag':err_app_H_mag,\n",
    "           'app_K_mag':klum_mean+4,'err_app_K_mag':klum_std,\n",
    "           'lum_dist_flag':3,'pec_vel_correction':0\n",
    "          }"
   ]
  },
  {
   "cell_type": "code",
   "execution_count": 23,
   "id": "ce56d4ae",
   "metadata": {},
   "outputs": [
    {
     "data": {
      "text/html": [
       "<div>\n",
       "<style scoped>\n",
       "    .dataframe tbody tr th:only-of-type {\n",
       "        vertical-align: middle;\n",
       "    }\n",
       "\n",
       "    .dataframe tbody tr th {\n",
       "        vertical-align: top;\n",
       "    }\n",
       "\n",
       "    .dataframe thead th {\n",
       "        text-align: right;\n",
       "    }\n",
       "</style>\n",
       "<table border=\"1\" class=\"dataframe\">\n",
       "  <thead>\n",
       "    <tr style=\"text-align: right;\">\n",
       "      <th></th>\n",
       "      <th>numevent</th>\n",
       "      <th>GWGC_name</th>\n",
       "      <th>HyperLEDA_name</th>\n",
       "      <th>2MASS_XSC_name</th>\n",
       "      <th>SDSS-DR12Q_name</th>\n",
       "      <th>type_flag</th>\n",
       "      <th>right_ascension_degrees</th>\n",
       "      <th>declination_degrees</th>\n",
       "      <th>dl</th>\n",
       "      <th>err_lum_dist</th>\n",
       "      <th>...</th>\n",
       "      <th>err_app_B_mag</th>\n",
       "      <th>abs_B_mag</th>\n",
       "      <th>app_J_mag</th>\n",
       "      <th>err_app_J_mag</th>\n",
       "      <th>app_H_mag</th>\n",
       "      <th>err_app_H_mag</th>\n",
       "      <th>app_K_mag</th>\n",
       "      <th>err_app_K_mag</th>\n",
       "      <th>lum_dist_flag</th>\n",
       "      <th>pec_vel_correction</th>\n",
       "    </tr>\n",
       "  </thead>\n",
       "  <tbody>\n",
       "  </tbody>\n",
       "</table>\n",
       "<p>0 rows × 22 columns</p>\n",
       "</div>"
      ],
      "text/plain": [
       "Empty DataFrame\n",
       "Columns: [numevent, GWGC_name, HyperLEDA_name, 2MASS_XSC_name, SDSS-DR12Q_name, type_flag, right_ascension_degrees, declination_degrees, dl, err_lum_dist, z, app_B_mag, err_app_B_mag, abs_B_mag, app_J_mag, err_app_J_mag, app_H_mag, err_app_H_mag, app_K_mag, err_app_K_mag, lum_dist_flag, pec_vel_correction]\n",
       "Index: []\n",
       "\n",
       "[0 rows x 22 columns]"
      ]
     },
     "execution_count": 23,
     "metadata": {},
     "output_type": "execute_result"
    }
   ],
   "source": [
    "colnames=['numevent','GWGC_name','HyperLEDA_name','2MASS_XSC_name','SDSS-DR12Q_name','type_flag','right_ascension_degrees',\n",
    "          'declination_degrees','dl','err_lum_dist','z','app_B_mag','err_app_B_mag','abs_B_mag','app_J_mag',\n",
    "          'err_app_J_mag','app_H_mag','err_app_H_mag','app_K_mag','err_app_K_mag','lum_dist_flag','pec_vel_correction'\n",
    "          ]\n",
    "uniform_scaled = pd.DataFrame(columns=colnames)\n",
    "#glade_like.columns=colnames\n",
    "uniform_scaled.head()"
   ]
  },
  {
   "cell_type": "code",
   "execution_count": 24,
   "id": "324c9440",
   "metadata": {},
   "outputs": [
    {
     "name": "stdout",
     "output_type": "stream",
     "text": [
      "I am Doing my best, please wait...\n",
      "--- 1398.3210034370422 seconds ---\n"
     ]
    }
   ],
   "source": [
    "arr=np.arange(0,len(dc_gals),dtype=int)\n",
    "data=[]\n",
    "tmp=[]\n",
    "start_time = time.time()\n",
    "print('I am Doing my best, please wait...')\n",
    "with Pool(14) as p:\n",
    "    tmp=p.map(GLADE_inator_volume, arr)\n",
    "print(\"--- %s seconds ---\" % (time.time() - start_time))"
   ]
  },
  {
   "cell_type": "code",
   "execution_count": 25,
   "id": "89d9c651",
   "metadata": {},
   "outputs": [],
   "source": [
    "uniform_scaled=uniform_scaled.append(tmp, ignore_index=True)"
   ]
  },
  {
   "cell_type": "code",
   "execution_count": null,
   "id": "c373e0e1",
   "metadata": {},
   "outputs": [],
   "source": [
    "cat_name='uniform_comoving.txt'\n",
    "#uniform_scaled.to_csv(cat_name, header=None, index=None, sep=' ')"
   ]
  },
  {
   "cell_type": "code",
   "execution_count": 26,
   "id": "a1087f65",
   "metadata": {},
   "outputs": [
    {
     "data": {
      "text/plain": [
       "Text(0, 0.5, '$N(z)$')"
      ]
     },
     "execution_count": 26,
     "metadata": {},
     "output_type": "execute_result"
    },
    {
     "data": {
      "image/png": "[encoded data removed]",
      "text/plain": [
       "<Figure size 864x576 with 1 Axes>"
      ]
     },
     "metadata": {
      "needs_background": "light"
     },
     "output_type": "display_data"
    }
   ],
   "source": [
    "zz_from_unif=uniform_scaled['z']\n",
    "fig, ax = plt.subplots(1, figsize=(12,8)) #crea un tupla che poi è più semplice da gestire\n",
    "ax.tick_params(axis='both', which='major', labelsize=14)\n",
    "ax.yaxis.get_offset_text().set_fontsize(14)\n",
    "ax.grid(linestyle='dotted', linewidth='0.6')#griglia in sfondo\n",
    "colors=plt.cm.turbo(np.linspace(0.99,0.01,16))\n",
    "\n",
    "\n",
    "bins_of_euclid=len(zz)\n",
    "ax.hist(zz_from_unif,bins=len(zz),range=(zz.min()-0.05,zz.max()+0.05))\n",
    "ax.scatter(zz,abs_num,label='N(z)-Interpol',color=colors[3])\n",
    "ax.set_xlabel(r'$z$', fontsize=20)\n",
    "ax.set_ylabel(r'$N(z)$', fontsize=20)"
   ]
  },
  {
   "cell_type": "code",
   "execution_count": 27,
   "id": "dbb974db",
   "metadata": {},
   "outputs": [
    {
     "data": {
      "image/png": "[encoded data removed]",
      "text/plain": [
       "<Figure size 432x288 with 1 Axes>"
      ]
     },
     "metadata": {
      "needs_background": "light"
     },
     "output_type": "display_data"
    }
   ],
   "source": [
    "n, bins, patches = plt.hist(x=zz_from_unif,bins=len(zz),range=(zz.min()-0.05,zz.max()+0.05),color='#0504aa',\n",
    "                            alpha=0.7, rwidth=0.85)"
   ]
  },
  {
   "cell_type": "code",
   "execution_count": 28,
   "id": "1341c50f",
   "metadata": {},
   "outputs": [
    {
     "data": {
      "text/plain": [
       "Text(0, 0.5, '$N(z)$')"
      ]
     },
     "execution_count": 28,
     "metadata": {},
     "output_type": "execute_result"
    },
    {
     "data": {
      "image/png": "[encoded data removed]",
      "text/plain": [
       "<Figure size 864x576 with 1 Axes>"
      ]
     },
     "metadata": {
      "needs_background": "light"
     },
     "output_type": "display_data"
    }
   ],
   "source": [
    "Pesi=n/abs_num\n",
    "Pesi_interpol=interpolate.interp1d(zz,Pesi,kind='cubic',fill_value='extrapolate')\n",
    "temp_zz=np.linspace(zz.min()-0.05,zz.max()+0.05,50)\n",
    "fig, ax = plt.subplots(1, figsize=(12,8)) #crea un tupla che poi è più semplice da gestire\n",
    "ax.tick_params(axis='both', which='major', labelsize=14)\n",
    "ax.yaxis.get_offset_text().set_fontsize(14)\n",
    "ax.grid(linestyle='dotted', linewidth='0.6')#griglia in sfondo\n",
    "colors=plt.cm.turbo(np.linspace(0.99,0.01,16))\n",
    "\n",
    "#ax.scatter(zz,abs_num,label='Pesi-Interpol',color=colors[3])\n",
    "#ax.scatter(zz,n,label='Pesi-Interpol',color=colors[6])\n",
    "ax.scatter(zz,Pesi,label='Pesi-Interpol',color=colors[3])\n",
    "ax.plot(temp_zz,Pesi_interpol(temp_zz),label='Pesi-Interpol',color=colors[6])\n",
    "ax.set_xlabel(r'$z$', fontsize=20)\n",
    "ax.set_ylabel(r'$N(z)$', fontsize=20)"
   ]
  },
  {
   "cell_type": "code",
   "execution_count": null,
   "id": "870fd7e9",
   "metadata": {},
   "outputs": [],
   "source": [
    "# Saving the array in a text file\n",
    "#cat_data_path='/home/rciancarella/DarkSirensStat/data/GLADE/'\n",
    "#os.chdir(cat_data_path)\n",
    "#np.savetxt(\"myzz.txt\", zz)\n",
    "#np.savetxt(\"myweights.txt\", Pesi)"
   ]
  },
  {
   "cell_type": "markdown",
   "id": "d802474d",
   "metadata": {},
   "source": [
    "# Dilution of the flagship\n",
    "Now, for each bin of the data, we thake that many host from the flagship, thus keeping the structure of the catalogue "
   ]
  },
  {
   "cell_type": "code",
   "execution_count": null,
   "id": "becc3d80",
   "metadata": {},
   "outputs": [],
   "source": [
    "colnames=['numevent','GWGC_name','HyperLEDA_name','2MASS_XSC_name','SDSS-DR12Q_name','type_flag','right_ascension_degrees',\n",
    "          'declination_degrees','dl','err_lum_dist','z','app_B_mag','err_app_B_mag','abs_B_mag','app_J_mag',\n",
    "          'err_app_J_mag','app_H_mag','err_app_H_mag','app_K_mag','err_app_K_mag','lum_dist_flag','pec_vel_correction'\n",
    "          ]\n",
    "dilution = pd.DataFrame(columns = colnames)"
   ]
  },
  {
   "cell_type": "code",
   "execution_count": null,
   "id": "02a1a932",
   "metadata": {},
   "outputs": [],
   "source": [
    "for i in range(len(zz)):\n",
    "    temp_bin=flag[flag['z']>=zz[i]-0.05]\n",
    "    temp_bin=temp_bin[temp_bin['z']<=zz[i]+0.05]\n",
    "    temp_bin=temp_bin.sample(round(abs_num[i]))\n",
    "    dilution=dilution.append(temp_bin, ignore_index=True)"
   ]
  },
  {
   "cell_type": "code",
   "execution_count": null,
   "id": "e750cc1f",
   "metadata": {},
   "outputs": [],
   "source": [
    "dilution.shape[0]-np.sum(abs_num)"
   ]
  },
  {
   "cell_type": "code",
   "execution_count": null,
   "id": "a1bbf7df",
   "metadata": {},
   "outputs": [],
   "source": [
    "diluted_zz=dilution['z']\n",
    "fig, ax = plt.subplots(1, figsize=(12,8)) #crea un tupla che poi è più semplice da gestire\n",
    "ax.tick_params(axis='both', which='major', labelsize=14)\n",
    "ax.yaxis.get_offset_text().set_fontsize(14)\n",
    "ax.grid(linestyle='dotted', linewidth='0.6')#griglia in sfondo\n",
    "colors=plt.cm.turbo(np.linspace(0.99,0.01,16))\n",
    "\n",
    "\n",
    "bins_of_euclid=len(zz)\n",
    "ax.hist(diluted_zz,bins=len(zz),range=(zz.min()-0.05,zz.max()+0.05))\n",
    "ax.scatter(zz,abs_num,label='N(z)-Interpol',color=colors[3])\n",
    "ax.set_xlabel(r'$z$', fontsize=20)\n",
    "ax.set_ylabel(r'$N(z)$', fontsize=20)"
   ]
  },
  {
   "cell_type": "code",
   "execution_count": null,
   "id": "5c67c769",
   "metadata": {},
   "outputs": [],
   "source": [
    "cat_data_path='/home/rciancarella/DarkSirensStat/data/GLADE/'\n",
    "os.chdir(cat_data_path)\n",
    "dilution.to_csv('diluted_flag.txt', header=None, index=None, sep=' ')"
   ]
  },
  {
   "cell_type": "markdown",
   "id": "2692cb67",
   "metadata": {},
   "source": [
    "# Adding Diluted to Comoving:Output is the Father of diluted the flagship is the mother of diluted\n",
    "#uniform_comoving_father_of_diluted"
   ]
  },
  {
   "cell_type": "code",
   "execution_count": null,
   "id": "f906937a",
   "metadata": {},
   "outputs": [],
   "source": [
    "tmp_com = pd.read_csv('uniform_comoving_for_diluted.txt', sep=\" \", header=None)\n",
    "colnames=['numevent','GWGC_name','HyperLEDA_name','2MASS_XSC_name','SDSS-DR12Q_name','type_flag','right_ascension_degrees',\n",
    "          'declination_degrees','dl','err_lum_dist','z','app_B_mag','err_app_B_mag','abs_B_mag','app_J_mag',\n",
    "          'err_app_J_mag','app_H_mag','err_app_H_mag','app_K_mag','err_app_K_mag','lum_dist_flag','pec_vel_correction'\n",
    "          ]\n",
    "tmp_com.columns=colnames"
   ]
  },
  {
   "cell_type": "code",
   "execution_count": null,
   "id": "282c1c2e",
   "metadata": {},
   "outputs": [],
   "source": [
    "tmp_diluted = pd.read_csv('diluted_flag.txt', sep=\" \", header=None)\n",
    "colnames=['numevent','GWGC_name','HyperLEDA_name','2MASS_XSC_name','SDSS-DR12Q_name','type_flag','right_ascension_degrees',\n",
    "          'declination_degrees','dl','err_lum_dist','z','app_B_mag','err_app_B_mag','abs_B_mag','app_J_mag',\n",
    "          'err_app_J_mag','app_H_mag','err_app_H_mag','app_K_mag','err_app_K_mag','lum_dist_flag','pec_vel_correction'\n",
    "          ]\n",
    "tmp_diluted.columns=colnames"
   ]
  },
  {
   "cell_type": "code",
   "execution_count": null,
   "id": "b51f218c",
   "metadata": {},
   "outputs": [],
   "source": [
    "diff=np.zeros(len(zz))\n",
    "for i in tqdm(range(len(zz))):\n",
    "    temp_bin=tmp_com[tmp_com['z']>=zz[i]-0.05]\n",
    "    temp_bin=temp_bin[temp_bin['z']<=zz[i]+0.05]\n",
    "    diff[i]=temp_bin.shape[0]-abs_num[i]\n",
    "    sampled=temp_bin.sample(round(diff[i]))\n",
    "    tmp_diluted=tmp_diluted.append(sampled, ignore_index=True)"
   ]
  },
  {
   "cell_type": "code",
   "execution_count": null,
   "id": "bc395b15",
   "metadata": {},
   "outputs": [],
   "source": [
    "uniform_zz=tmp_com['z']\n",
    "fig, ax = plt.subplots(1, figsize=(12,8)) #crea un tupla che poi è più semplice da gestire\n",
    "ax.tick_params(axis='both', which='major', labelsize=14)\n",
    "ax.yaxis.get_offset_text().set_fontsize(14)\n",
    "ax.grid(linestyle='dotted', linewidth='0.6')#griglia in sfondo\n",
    "colors=plt.cm.turbo(np.linspace(0.99,0.01,16))\n",
    "\n",
    "\n",
    "\n",
    "ax.hist(uniform_zz,bins=len(zz),range=(zz.min()-0.05,zz.max()+0.05))\n",
    "ax.scatter(zz,abs_num,label='N(z)-Interpol',color=colors[3])\n",
    "ax.set_xlabel(r'$z$', fontsize=20)\n",
    "ax.set_ylabel(r'$N(z)$', fontsize=20)"
   ]
  },
  {
   "cell_type": "code",
   "execution_count": null,
   "id": "d8a8aa3a",
   "metadata": {},
   "outputs": [],
   "source": [
    "cat_data_path='/home/rciancarella/DarkSirensStat/data/GLADE/'\n",
    "os.chdir(cat_data_path)\n",
    "#tmp_diluted.to_csv('uniform_comoving_father_of_diluted.txt', header=None, index=None, sep=' ')"
   ]
  },
  {
   "cell_type": "markdown",
   "id": "3d5fa83d",
   "metadata": {},
   "source": [
    "# 100% sure Auto-consistent generation"
   ]
  },
  {
   "cell_type": "code",
   "execution_count": null,
   "id": "cd6d2364",
   "metadata": {},
   "outputs": [],
   "source": [
    "#Temporary stuff\n",
    "new_cat = pd.read_csv('uniform_comoving_autoconsistent.txt', sep=\" \", header=None)\n",
    "colnames=['numevent','GWGC_name','HyperLEDA_name','2MASS_XSC_name','SDSS-DR12Q_name','type_flag','right_ascension_degrees',\n",
    "          'declination_degrees','dl','err_lum_dist','z','app_B_mag','err_app_B_mag','abs_B_mag','app_J_mag',\n",
    "          'err_app_J_mag','app_H_mag','err_app_H_mag','app_K_mag','err_app_K_mag','lum_dist_flag','pec_vel_correction'\n",
    "          ]\n",
    "new_cat.columns=colnames"
   ]
  },
  {
   "cell_type": "code",
   "execution_count": null,
   "id": "025c2be8",
   "metadata": {},
   "outputs": [],
   "source": [
    "#first the density at the 0 bin\n",
    "#cutted_flag_z=flag_z[flag_z>=zz.min()-0.05]\n",
    "#cutted_flag_z=cutted_flag_z[cutted_flag_z<=zz.max()+0.05]\n",
    "#Nbin_max=abs_num.max()\n",
    "#index=np.where(abs_num==abs_num.max())\n",
    "#bin_max_vol=cosmoflag.comoving_volume(zz[index]+0.05).value-cosmoflag.comoving_volume(zz[index]-0.05).value\n",
    "#density=Nbin_max/bin_max_vol\n",
    "#tot_vol=cosmoflag.comoving_volume(zz.max()+0.05).value-cosmoflag.comoving_volume(zz.min()-0.05).value\n",
    "#Numb=density*tot_vol\n",
    "\n",
    "print(new_cat.shape[0],new_cat['z'].min(),new_cat['z'].max())\n",
    "mydcom_min=cosmoflag.comoving_distance(new_cat['z'].min()).value\n",
    "mydcom_max=cosmoflag.comoving_distance(new_cat['z'].max()).value"
   ]
  },
  {
   "cell_type": "code",
   "execution_count": null,
   "id": "b4daab83",
   "metadata": {},
   "outputs": [],
   "source": [
    "'''Uniform spherical distribution'''\n",
    "'''We can have arbitrary absolute number of object so nsamp can be whatever'''\n",
    "#fixed_density=1.5e-05#\n",
    "#nsamp=fixed_density*tot_vol\n",
    "nsamp=new_cat.shape[0]+2156000#int(6_500_000)#int(Numb+1)\n",
    "#nsamp=1000\n",
    "dcom_min=mydcom_min\n",
    "dcom_max=mydcom_max\n",
    "#tot_vol=cosmoflag.comoving_volume(zz.max()+0.05).value-cosmoflag.comoving_volume(zz.min()-0.05).value\n",
    "phi_min=0.0001#0.0001\n",
    "phi_max=np.pi/2\n",
    "theta_min=0.0002976218846182377\n",
    "theta_max=1.570796275052059#depends on the arccos 0 to 1 is from pi/2 to 0 -1 to 1 is full range\n",
    "#------------------points generator------------------\n",
    "u     = np.random.uniform(0,1,size=nsamp) # uniform random vector of size nsamp\n",
    "dc_gals_all     = np.cbrt((u*0**3)+((1-u)*dcom_max**3))\n",
    "#dc_gals     = np.cbrt((u*dcom_min**3)+((1-u)*dcom_max**3))\n",
    "phi_gals   = np.random.uniform(phi_min,phi_max,nsamp)\n",
    "theta_gals = np.arccos( np.random.uniform(0,1,nsamp) )\n",
    "\n",
    "dc_gals=dc_gals_all[dc_gals_all>=dcom_min]\n",
    "#print(len(dc_gals_all),len(dc_gals),len(dc_gals)/len(dc_gals_all))\n",
    "ra_gals=ra = np.rad2deg(phi_gals)\n",
    "dec_gals = np.rad2deg(0.5 * np.pi - theta_gals)\n",
    "print(len(dc_gals))\n",
    "print(len(dc_gals_all)-len(dc_gals))"
   ]
  },
  {
   "cell_type": "code",
   "execution_count": null,
   "id": "0d27a4c6",
   "metadata": {},
   "outputs": [],
   "source": [
    "h=0.67\n",
    "mynumevent=int(0)\n",
    "myngcup=int(0)\n",
    "GWGC_name='NGC'+ str(myngcup)\n",
    "HyperLEDA_name=GWGC_name\n",
    "MASS_XSC_name='NaN'\n",
    "type_flag='G'\n",
    "proxy_row={'numevent':mynumevent,'GWGC_name':GWGC_name,'HyperLEDA_name':HyperLEDA_name,\n",
    "           '2MASS_XSC_name':MASS_XSC_name,'SDSS-DR12Q_name':'NaN','type_flag':type_flag,\n",
    "           'right_ascension_degrees':0,'declination_degrees':0,'dl':0,'z':0,\n",
    "           'app_B_mag':mean_app_B_mag,'err_app_B_mag':err_app_B_mag,'abs_B_mag':'NaN',\n",
    "           'app_J_mag':mean_app_J_mag,'err_app_J_mag':err_app_J_mag,\n",
    "           'app_H_mag':mean_app_H_mag,'err_app_H_mag':err_app_H_mag,\n",
    "           'app_K_mag':klum_mean+4,'err_app_K_mag':klum_std,\n",
    "           'lum_dist_flag':3,'pec_vel_correction':0\n",
    "          }"
   ]
  },
  {
   "cell_type": "code",
   "execution_count": null,
   "id": "b6d53620",
   "metadata": {},
   "outputs": [],
   "source": [
    "colnames=['numevent','GWGC_name','HyperLEDA_name','2MASS_XSC_name','SDSS-DR12Q_name','type_flag','right_ascension_degrees',\n",
    "          'declination_degrees','dl','err_lum_dist','z','app_B_mag','err_app_B_mag','abs_B_mag','app_J_mag',\n",
    "          'err_app_J_mag','app_H_mag','err_app_H_mag','app_K_mag','err_app_K_mag','lum_dist_flag','pec_vel_correction'\n",
    "          ]\n",
    "uniform_scaled = pd.DataFrame(columns=colnames)\n",
    "#glade_like.columns=colnames\n",
    "uniform_scaled.head()"
   ]
  },
  {
   "cell_type": "code",
   "execution_count": null,
   "id": "5f480c40",
   "metadata": {},
   "outputs": [],
   "source": [
    "arr=np.arange(0,len(dc_gals),dtype=int)\n",
    "data=[]\n",
    "tmp=[]\n",
    "start_time = time.time()\n",
    "print('I am Doing my best, please wait...')\n",
    "with Pool(14) as p:\n",
    "    tmp=p.map(GLADE_inator_volume, arr)\n",
    "print(\"--- %s seconds ---\" % (time.time() - start_time))"
   ]
  },
  {
   "cell_type": "code",
   "execution_count": null,
   "id": "2bf5faa6",
   "metadata": {},
   "outputs": [],
   "source": [
    "uniform_scaled=uniform_scaled.append(tmp, ignore_index=True)"
   ]
  },
  {
   "cell_type": "code",
   "execution_count": null,
   "id": "e1de60b4",
   "metadata": {},
   "outputs": [],
   "source": [
    "cat_name='just_for_test_new.txt'\n",
    "uniform_scaled.to_csv(cat_name, header=None, index=None, sep=' ')"
   ]
  },
  {
   "cell_type": "code",
   "execution_count": null,
   "id": "282f7087",
   "metadata": {},
   "outputs": [],
   "source": [
    "uniform_scaled = pd.read_csv('uniform_comoving_autoconsistent.txt', sep=\" \", header=None)\n",
    "colnames=['numevent','GWGC_name','HyperLEDA_name','2MASS_XSC_name','SDSS-DR12Q_name','type_flag','right_ascension_degrees',\n",
    "          'declination_degrees','dl','err_lum_dist','z','app_B_mag','err_app_B_mag','abs_B_mag','app_J_mag',\n",
    "          'err_app_J_mag','app_H_mag','err_app_H_mag','app_K_mag','err_app_K_mag','lum_dist_flag','pec_vel_correction'\n",
    "          ]\n",
    "uniform_scaled.columns=colnames"
   ]
  },
  {
   "cell_type": "code",
   "execution_count": null,
   "id": "580969d7",
   "metadata": {},
   "outputs": [],
   "source": [
    "zz_from_unif=uniform_scaled['z']\n",
    "fig, ax = plt.subplots(1, figsize=(12,8)) #crea un tupla che poi è più semplice da gestire\n",
    "ax.tick_params(axis='both', which='major', labelsize=14)\n",
    "ax.yaxis.get_offset_text().set_fontsize(14)\n",
    "ax.grid(linestyle='dotted', linewidth='0.6')#griglia in sfondo\n",
    "colors=plt.cm.turbo(np.linspace(0.99,0.01,16))\n",
    "\n",
    "#bin~0.018\n",
    "my_bins=50\n",
    "\n",
    "ax.hist(zz_from_unif,bins=my_bins,range=(zz_from_unif.min(),zz_from_unif.max()))\n",
    "#ax.hist(zz_from_generated,bins=my_bins,range=(uniform_scaled.min(),uniform_scaled.max()))\n",
    "#ax.scatter(zz,abs_num,label='N(z)-Interpol',color=colors[3])\n",
    "#plt.xscale('log')\n",
    "#plt.yscale('log')\n",
    "ax.set_xlabel(r'$z$', fontsize=20)\n",
    "ax.set_ylabel(r'$N(z)$', fontsize=20)"
   ]
  },
  {
   "cell_type": "code",
   "execution_count": null,
   "id": "5d7b37f3",
   "metadata": {},
   "outputs": [],
   "source": [
    "print(len(zz_from_unif))\n",
    "mindec=uniform_scaled['declination_degrees'].min()\n",
    "maxdec=uniform_scaled['declination_degrees'].max()\n",
    "minra=uniform_scaled['right_ascension_degrees'].min()\n",
    "maxra=uniform_scaled['right_ascension_degrees'].max()\n",
    "print(mindec,maxdec,minra,maxra)"
   ]
  },
  {
   "cell_type": "code",
   "execution_count": null,
   "id": "6e83f9b7",
   "metadata": {},
   "outputs": [],
   "source": [
    "thmin,phimin=th_phi_from_ra_dec(minra,maxdec/2)\n",
    "thmax,phimax=th_phi_from_ra_dec(maxra,mindec)\n",
    "print(thmin,thmax,phimin,phimax)"
   ]
  },
  {
   "cell_type": "code",
   "execution_count": null,
   "id": "59656e88",
   "metadata": {},
   "outputs": [],
   "source": [
    "#-----------rejection-stuff------------\n",
    "def sample(g,xmin,xmax):\n",
    "    x = np.linspace(xmin,xmax,1000000)\n",
    "    y = g(x)                        # probability density function, pdf\n",
    "    cdf_y = np.cumsum(y)            # cumulative distribution function, cdf\n",
    "    cdf_y = cdf_y/cdf_y.max()       # takes care of normalizing cdf to 1.0\n",
    "    inverse_cdf = interpolate.interp1d(cdf_y,x,fill_value=\"extrapolate\")# this is a function\n",
    "    #inverse_cdf = np.interp(0,cdf_y,x) #this works but it is not a function\n",
    "    return inverse_cdf\n",
    "def return_samples(f,xmin,xmax,N=1000000):\n",
    "    # let's generate some samples according to the chosen pdf, f(x)\n",
    "    uniform_samples = random(int(N))       \n",
    "    required_samples = sample(f,xmin,xmax)(uniform_samples)\n",
    "    return required_samples\n",
    "\n",
    "'''Now each host should be in a simple one-to-one ralation with it's redshift: \n",
    "the index of the constructed redshift array should be the numevent or the line-1.\n",
    "Use this relation to extract the host''' \n",
    "\n",
    "my_zmin=zz_from_unif.min()\n",
    "my_zmax=zz_from_unif.max()\n",
    "nsamp=int(6_500_000)\n",
    "my_totnumb=int(1+nsamp/12)\n",
    "\n",
    "print(my_totnumb)\n",
    "target_dist= lambda z: 1/(z**2)\n",
    "extracted=return_samples(target_dist,my_zmin,my_zmax,my_totnumb)\n",
    "n, bins, patches = plt.hist(x=extracted,bins=my_bins,range=(zz_from_unif.min(),zz_from_unif.max()),color='#0504aa',\n",
    "                            alpha=0.7, rwidth=0.85)\n",
    "print(my_totnumb/uniform_scaled.shape[0])"
   ]
  },
  {
   "cell_type": "code",
   "execution_count": null,
   "id": "4350f2dc",
   "metadata": {},
   "outputs": [],
   "source": [
    "fig, ax = plt.subplots(1, figsize=(12,8)) #crea un tupla che poi è più semplice da gestire\n",
    "ax.tick_params(axis='both', which='major', labelsize=14)\n",
    "ax.yaxis.get_offset_text().set_fontsize(14)\n",
    "ax.grid(linestyle='dotted', linewidth='0.6')#griglia in sfondo\n",
    "colors=plt.cm.turbo(np.linspace(0.99,0.01,16))\n",
    "\n",
    "\n",
    "#bins_of_euclid=len(zz)\n",
    "ax.hist(zz_from_unif,bins=my_bins,range=(my_zmin,my_zmax))\n",
    "ax.hist(extracted,bins=my_bins,range=(my_zmin,my_zmax))\n",
    "#ax.scatter(zz,abs_num,label='N(z)-Interpol',color=colors[3])\n",
    "ax.set_xlabel(r'$z$', fontsize=20)\n",
    "ax.set_ylabel(r'$N(z)$', fontsize=20)"
   ]
  },
  {
   "cell_type": "code",
   "execution_count": null,
   "id": "82a841ee",
   "metadata": {},
   "outputs": [],
   "source": [
    "colnames=['numevent','GWGC_name','HyperLEDA_name','2MASS_XSC_name','SDSS-DR12Q_name','type_flag','right_ascension_degrees',\n",
    "          'declination_degrees','dl','err_lum_dist','z','app_B_mag','err_app_B_mag','abs_B_mag','app_J_mag',\n",
    "          'err_app_J_mag','app_H_mag','err_app_H_mag','app_K_mag','err_app_K_mag','lum_dist_flag','pec_vel_correction'\n",
    "          ]\n",
    "my_generated = pd.DataFrame(columns=colnames)\n",
    "#glade_like.columns=colnames\n",
    "my_generated.head()"
   ]
  },
  {
   "cell_type": "code",
   "execution_count": null,
   "id": "96dd4376",
   "metadata": {},
   "outputs": [],
   "source": [
    "#Temporary stuff\n",
    "old_one = pd.read_csv('gw23cat_uniform_30_1oct.txt', sep=\" \", header=None)\n",
    "colnames=['numevent','GWGC_name','HyperLEDA_name','2MASS_XSC_name','SDSS-DR12Q_name','type_flag','right_ascension_degrees',\n",
    "          'declination_degrees','dl','err_lum_dist','z','app_B_mag','err_app_B_mag','abs_B_mag','app_J_mag',\n",
    "          'err_app_J_mag','app_H_mag','err_app_H_mag','app_K_mag','err_app_K_mag','lum_dist_flag','pec_vel_correction'\n",
    "          ]\n",
    "old_one.columns=colnames"
   ]
  },
  {
   "cell_type": "code",
   "execution_count": null,
   "id": "da7d1de4",
   "metadata": {},
   "outputs": [],
   "source": [
    "#Temporary stuff\n",
    "new_one = pd.read_csv('uniform_comoving_autoconsistent.txt', sep=\" \", header=None)\n",
    "colnames=['numevent','GWGC_name','HyperLEDA_name','2MASS_XSC_name','SDSS-DR12Q_name','type_flag','right_ascension_degrees',\n",
    "          'declination_degrees','dl','err_lum_dist','z','app_B_mag','err_app_B_mag','abs_B_mag','app_J_mag',\n",
    "          'err_app_J_mag','app_H_mag','err_app_H_mag','app_K_mag','err_app_K_mag','lum_dist_flag','pec_vel_correction'\n",
    "          ]\n",
    "new_one.columns=colnames"
   ]
  },
  {
   "cell_type": "code",
   "execution_count": null,
   "id": "69ccf014",
   "metadata": {},
   "outputs": [],
   "source": [
    "#Temporary stuff\n",
    "fig, ax = plt.subplots(1, figsize=(12,8)) #crea un tupla che poi è più semplice da gestire\n",
    "ax.tick_params(axis='both', which='major', labelsize=14)\n",
    "ax.yaxis.get_offset_text().set_fontsize(14)\n",
    "ax.grid(linestyle='dotted', linewidth='0.6')#griglia in sfondo\n",
    "colors=plt.cm.turbo(np.linspace(0.99,0.01,16))\n",
    "\n",
    "my_bins=50\n",
    "#bins_of_euclid=len(zz)\n",
    "ax.hist(new_one['z'],bins=my_bins,range=(new_one['z'].min(),new_one['z'].max()))\n",
    "ax.hist(old_one['z'],bins=my_bins,range=(new_one['z'].min(),new_one['z'].max()))\n",
    "\n",
    "#ax.scatter(zz,abs_num,label='N(z)-Interpol',color=colors[3])\n",
    "ax.set_xlabel(r'$z$', fontsize=20)\n",
    "ax.set_ylabel(r'$N(z)$', fontsize=20)"
   ]
  },
  {
   "cell_type": "code",
   "execution_count": null,
   "id": "39f2d857",
   "metadata": {},
   "outputs": [],
   "source": [
    "print(len(bins))\n",
    "bin_width=bins[1]-bins[0]\n",
    "print(bin_width)"
   ]
  },
  {
   "cell_type": "code",
   "execution_count": null,
   "id": "e2e2c9fe",
   "metadata": {},
   "outputs": [],
   "source": [
    "for i in tqdm(range(my_bins)):\n",
    "    temp_bin=uniform_scaled[uniform_scaled['z']>=bins[i]]\n",
    "    temp_bin=temp_bin[temp_bin['z']<bins[i+1]]\n",
    "    sampled=temp_bin.sample(round(n[i]))\n",
    "    my_generated=my_generated.append(sampled, ignore_index=True)"
   ]
  },
  {
   "cell_type": "code",
   "execution_count": null,
   "id": "cff2e0f2",
   "metadata": {},
   "outputs": [],
   "source": [
    "fig, ax = plt.subplots(1, figsize=(12,8)) #crea un tupla che poi è più semplice da gestire\n",
    "ax.tick_params(axis='both', which='major', labelsize=14)\n",
    "ax.yaxis.get_offset_text().set_fontsize(14)\n",
    "ax.grid(linestyle='dotted', linewidth='0.6')#griglia in sfondo\n",
    "colors=plt.cm.turbo(np.linspace(0.99,0.01,16))\n",
    "\n",
    "#ax.set_yscale('log')\n",
    "#ax.set_xscale('log')\n",
    "\n",
    "ax.hist(zz_from_unif,bins=my_bins,range=(my_zmin,my_zmax))\n",
    "ax.hist(my_generated['z'],bins=my_bins,range=(my_zmin,my_zmax))\n",
    "#ax.scatter(zz,abs_num,label='N(z)-Interpol',color=colors[3])\n",
    "ax.set_xlabel(r'$z$', fontsize=20)\n",
    "ax.set_ylabel(r'$N(z)$', fontsize=20)"
   ]
  },
  {
   "cell_type": "code",
   "execution_count": null,
   "id": "12ea4635",
   "metadata": {},
   "outputs": [],
   "source": [
    "cat_name='selected_autoconsistent_halved.txt'\n",
    "my_generated.to_csv(cat_name, header=None, index=None, sep=' ')"
   ]
  },
  {
   "cell_type": "code",
   "execution_count": null,
   "id": "08aefe36",
   "metadata": {},
   "outputs": [],
   "source": [
    "fraction=my_generated.shape[0]/uniform_scaled.shape[0]\n",
    "print(fraction)"
   ]
  },
  {
   "cell_type": "markdown",
   "id": "fa41dbf4",
   "metadata": {},
   "source": [
    "# Test: Old vs New Catalogue"
   ]
  },
  {
   "cell_type": "code",
   "execution_count": null,
   "id": "13573dda",
   "metadata": {},
   "outputs": [],
   "source": [
    "cat1= pd.read_csv('gw23cat_uniform_30_1oct.txt', sep=\" \", header=None)\n",
    "colnames=['numevent','GWGC_name','HyperLEDA_name','2MASS_XSC_name','SDSS-DR12Q_name','type_flag','right_ascension_degrees',\n",
    "          'declination_degrees','dl','err_lum_dist','z','app_B_mag','err_app_B_mag','abs_B_mag','app_J_mag',\n",
    "          'err_app_J_mag','app_H_mag','err_app_H_mag','app_K_mag','err_app_K_mag','lum_dist_flag','pec_vel_correction'\n",
    "          ]\n",
    "cat1.columns=colnames"
   ]
  },
  {
   "cell_type": "code",
   "execution_count": null,
   "id": "a99dcbb6",
   "metadata": {},
   "outputs": [],
   "source": [
    "cat2 = pd.read_csv('uniform_comoving_autoconsistent.txt', sep=\" \", header=None)\n",
    "colnames=['numevent','GWGC_name','HyperLEDA_name','2MASS_XSC_name','SDSS-DR12Q_name','type_flag','right_ascension_degrees',\n",
    "          'declination_degrees','dl','err_lum_dist','z','app_B_mag','err_app_B_mag','abs_B_mag','app_J_mag',\n",
    "          'err_app_J_mag','app_H_mag','err_app_H_mag','app_K_mag','err_app_K_mag','lum_dist_flag','pec_vel_correction'\n",
    "          ]\n",
    "cat2.columns=colnames\n",
    "#gw23cat_uniform_30_1oct\n",
    "#uniform_comoving_autoconsistent\n",
    "#just_for_test\n",
    "#just_for_test_new"
   ]
  },
  {
   "cell_type": "code",
   "execution_count": null,
   "id": "f431e09e",
   "metadata": {},
   "outputs": [],
   "source": [
    "'''Weights'''\n",
    "phi_gals_cat1 = np.deg2rad(cat1['right_ascension_degrees'])\n",
    "phi_gals_cat2 = np.deg2rad(cat2['right_ascension_degrees'])\n",
    "\n",
    "theta_gals_cat1 = (0.5 * np.pi - np.deg2rad(cat1['declination_degrees']))\n",
    "theta_gals_cat2 = (0.5 * np.pi - np.deg2rad(cat2['declination_degrees']))\n",
    "\n",
    "costheta_cat1=np.cos(theta_gals_cat1)\n",
    "costheta_cat2=np.cos(theta_gals_cat2)\n",
    "#invertire queste\n",
    "n_cat1, bins, patches = plt.hist(x=costheta_cat1,bins=50,range=(costheta_cat1.min(),costheta_cat1.max()),color='#671D5B',\n",
    "                            alpha=0.7, rwidth=0.85)\n",
    "\n",
    "n_cat2, bins, patches = plt.hist(x=costheta_cat2,bins=50,range=(costheta_cat2.min(),costheta_cat2.max()),color='#17EA1E',\n",
    "                            alpha=0.7, rwidth=0.85)"
   ]
  },
  {
   "cell_type": "code",
   "execution_count": null,
   "id": "e6113f06",
   "metadata": {},
   "outputs": [],
   "source": [
    "n_cat1, bins, patches = plt.hist(x=phi_gals_cat1,bins=50,range=(phi_gals_cat1.min(),phi_gals_cat1.max()),color='#671D5B',\n",
    "                            alpha=0.7, rwidth=0.85)\n",
    "\n",
    "n_cat2, bins, patches = plt.hist(x=phi_gals_cat2,bins=50,range=(phi_gals_cat2.min(),phi_gals_cat2.max()),color='#17EA1E',\n",
    "                            alpha=0.7, rwidth=0.85)"
   ]
  },
  {
   "cell_type": "code",
   "execution_count": null,
   "id": "6bceabcd",
   "metadata": {},
   "outputs": [],
   "source": [
    "n_cat1, bins, patches = plt.hist(x=cat1['z'],bins=50,range=(cat2['z'].min(),cat2['z'].max()),color='#671D5B',\n",
    "                           alpha=0.7, rwidth=0.85)\n",
    "\n",
    "n_cat2, bins, patches = plt.hist(x=cat2['z'],bins=50,range=(cat2['z'].min(),cat2['z'].max()),color='#17EA1E',\n",
    "                            alpha=0.7, rwidth=0.85)"
   ]
  },
  {
   "cell_type": "code",
   "execution_count": null,
   "id": "6715108f",
   "metadata": {},
   "outputs": [],
   "source": [
    "norm=n_cat1[0]/n_cat2[0]#cat2.shape[0]/cat1.shape[0]\n",
    "bin_width=bins[1]-bins[0]\n",
    "x=bins[0:-1]+bin_width/2\n",
    "normed_nzcat1=n_cat1/np.trapz(n_cat1,x)\n",
    "normed_nzcat2=n_cat2/np.trapz(n_cat2,x)\n",
    "#Pesi=(n_uniform-(n_myzz*norm))/n_myzz\n",
    "Pesi=(normed_nzcat2)/normed_nzcat1\n",
    "#error on the ratio\n",
    "#absolute errors\n",
    "cat1_error=np.sqrt(n_cat1)\n",
    "cat2_error=np.sqrt(n_cat2*norm)\n",
    "#relative errors\n",
    "cat1_error_rel=cat1_error/n_cat1\n",
    "cat2_error_rel=cat2_error/(n_cat2*norm)\n",
    "#adding relative errors\n",
    "tot_errors_rel=cat1_error_rel+cat2_error_rel\n",
    "tot_errors=tot_errors_rel*Pesi\n",
    "#print(Pesi,n_uniform,n_myzz)\n",
    "print(cat1.shape[0],cat2.shape[0],Pesi[0],norm)\n",
    "print(Pesi)\n",
    "print((Pesi-1)/tot_errors)\n",
    "print(n_cat1[0],n_cat2[0])"
   ]
  },
  {
   "cell_type": "code",
   "execution_count": null,
   "id": "e3dc5bb6",
   "metadata": {},
   "outputs": [],
   "source": [
    "#np.savetxt(\"catgw23_run30_z.txt\", bins[0:-1]+bin_width/2)\n",
    "#np.savetxt(\"catgw23_run30_w.txt\", Pesi)\n",
    "#zz=np.loadtxt('/home/rciancarella/DarkSirensStat/data/GLADE/catgw23_run30_z.txt')\n",
    "#ww=np.loadtxt('/home/rciancarella/DarkSirensStat/data/GLADE/catgw23_run30_w.txt')"
   ]
  },
  {
   "cell_type": "code",
   "execution_count": null,
   "id": "7a196a50",
   "metadata": {
    "scrolled": false
   },
   "outputs": [],
   "source": [
    "#bin_width=bins[1]-bins[0]\n",
    "#stat_weights=interpolate.interp1d( bins[0:-1]+bin_width/2,Pesi,kind='cubic',fill_value='extrapolate')\n",
    "#x=np.linspace(bins[0]+bin_width/2,bins[-1]+bin_width/2,1000)\n",
    "fig, ax = plt.subplots(1, figsize=(12,8)) #crea un tupla che poi è più semplice da gestire\n",
    "ax.tick_params(axis='both', which='major', labelsize=14)\n",
    "ax.yaxis.get_offset_text().set_fontsize(14)\n",
    "ax.grid(linestyle='dotted', linewidth='0.6')#griglia in sfondo\n",
    "colors=plt.cm.turbo(np.linspace(0.99,0.01,16))\n",
    "x=bins[0:-1]+bin_width/2\n",
    "#ax.plot(zz,ww,label='interpol',color=colors[12])\n",
    "#ax.scatter(x,(Pesi-Pesi[0])/tot_errors,label='z-Pesi',color='k')\n",
    "#plt.errorbar(x, (Pesi-norm)/tot_errors, yerr=tot_errors, fmt=\"+\")\n",
    "ax.set_ylim([-3.5,3.5])\n",
    "ax.fill_between(x,1,-1,alpha=0.35, color='palegreen')\n",
    "ax.fill_between(x,2,1,alpha=0.35, color='magenta')\n",
    "ax.fill_between(x,-2,-1,alpha=0.35, color='magenta')\n",
    "ax.fill_between(x,3,2,alpha=0.35, color='cyan')\n",
    "ax.fill_between(x,-3,-2,alpha=0.35, color='cyan')\n",
    "ax.scatter(x,(Pesi-1)/tot_errors,label='z-Pesi',color='k')\n",
    "#plt.axhline(y=Pesi[0], color='k', linestyle='-')\n",
    "plt.axhline(y=0, color='k', linestyle='-')\n",
    "plt.title('OldCat_VS_NewCat',fontsize=20)\n",
    "ax.set_xlabel(r'$z$', fontsize=20)\n",
    "ax.set_ylabel(r'$W_s(z)$', fontsize=20)\n",
    "working_path='/home/rciancarella/DarkSirensStat/PlotTest/'\n",
    "plt.savefig(os.path.join(working_path+'OldCat_VS_OldProcedure.pdf'))"
   ]
  },
  {
   "cell_type": "code",
   "execution_count": null,
   "id": "481d254d",
   "metadata": {},
   "outputs": [],
   "source": [
    "print(np.mean((Pesi-1)/tot_errors))\n",
    "print(np.sum((Pesi-1)/1))"
   ]
  },
  {
   "cell_type": "code",
   "execution_count": null,
   "id": "e0bd3185",
   "metadata": {},
   "outputs": [],
   "source": [
    "x=bins[0:-1]+bin_width/2\n",
    "normed_nzcat1=n_cat1/np.trapz(n_cat1,x)\n",
    "normed_nzcat2=n_cat2/np.trapz(n_cat2,x)"
   ]
  },
  {
   "cell_type": "code",
   "execution_count": null,
   "id": "ed371353",
   "metadata": {},
   "outputs": [],
   "source": [
    "fig, ax = plt.subplots(1, figsize=(12,8)) #crea un tupla che poi è più semplice da gestire\n",
    "ax.tick_params(axis='both', which='major', labelsize=14)\n",
    "ax.yaxis.get_offset_text().set_fontsize(14)\n",
    "ax.grid(linestyle='dotted', linewidth='0.6')#griglia in sfondo\n",
    "colors=plt.cm.turbo(np.linspace(0.99,0.01,16))\n",
    "\n",
    "ax.plot(x,normed_nzcat1,label='N(z)_cat1',color=colors[3])\n",
    "ax.plot(x,normed_nzcat2,label='N(z)_cat2',color=colors[12])\n",
    "ax.legend()\n",
    "\n",
    "ax.set_xlabel(r'$z$', fontsize=20)\n",
    "ax.set_ylabel(r'$N_i(z)$', fontsize=20)"
   ]
  },
  {
   "cell_type": "markdown",
   "id": "85a09487",
   "metadata": {},
   "source": [
    "# Cat from minimal example"
   ]
  },
  {
   "cell_type": "code",
   "execution_count": null,
   "id": "2da09d5d",
   "metadata": {},
   "outputs": [],
   "source": [
    "#-----------filler-------------------\n",
    "def GLADE_inator_volume(iterations):\n",
    "#for i in tqdm(range(flagship.shape[0])):\n",
    "#for i in range(iterations):\n",
    "    i=iterations\n",
    "    numevent=mynumevent+i\n",
    "    ngcup=myngcup+i\n",
    "    GWGC_name='NGC'+ str(ngcup)\n",
    "    HyperLEDA_name=GWGC_name\n",
    "    ra_gal=ra_gals[i]\n",
    "    dec_gal=dec_gals[i]\n",
    "    #dl=dl_gals[i]\n",
    "    #dc=dc_gals[i]\n",
    "    #----------z----------------------\n",
    "    #zz=z_from_dL(dl)\n",
    "    zz=z_gals[i]\n",
    "    dc=cosmoflag.comoving_distance(zz).value\n",
    "    dl=(1+zz)*dc\n",
    "    #zz=cosmoflag.luminosity_distance(z_min).value\n",
    "    temp_k_lum=np.random.normal(loc=klum_mean,scale=2*klum_std)\n",
    "    #----------row to append---------------------\n",
    "    proxy_row={'numevent':numevent,'GWGC_name':GWGC_name,'HyperLEDA_name':HyperLEDA_name,\n",
    "           '2MASS_XSC_name':MASS_XSC_name,'SDSS-DR12Q_name':'NaN','type_flag':type_flag,\n",
    "           'right_ascension_degrees':ra_gal,'declination_degrees':dec_gal,'dl':dl,'z':zz,\n",
    "           'app_B_mag':mean_app_B_mag,'err_app_B_mag':err_app_B_mag,'abs_B_mag':'NaN',\n",
    "           'app_J_mag':mean_app_J_mag,'err_app_J_mag':err_app_J_mag,\n",
    "           'app_H_mag':mean_app_H_mag,'err_app_H_mag':err_app_H_mag,\n",
    "           'app_K_mag':temp_k_lum,'err_app_K_mag':klum_std,\n",
    "           'lum_dist_flag':3,'pec_vel_correction':0\n",
    "          }\n",
    "    return proxy_row"
   ]
  },
  {
   "cell_type": "code",
   "execution_count": null,
   "id": "b2e218de",
   "metadata": {},
   "outputs": [],
   "source": [
    "phi_gals=np.loadtxt('/home/rciancarella/DarkSirensStat/ProxyGenerator/Extractedcat_phigals.txt')\n",
    "theta_gals=np.loadtxt('/home/rciancarella/DarkSirensStat/ProxyGenerator/Extractedcat_thetagals.txt')\n",
    "z_gals=np.loadtxt('/home/rciancarella/DarkSirensStat/ProxyGenerator/Extractedcat_zgals.txt')\n",
    "dc_gals=np.loadtxt('/home/rciancarella/DarkSirensStat/ProxyGenerator/Extractedcat_dcgals.txt')"
   ]
  },
  {
   "cell_type": "code",
   "execution_count": null,
   "id": "3f3290c9",
   "metadata": {},
   "outputs": [],
   "source": [
    "ra_gals=np.rad2deg(phi_gals)\n",
    "dec_gals=np.rad2deg(0.5 * np.pi - theta_gals)\n",
    "print(len(ra_gals),len(dec_gals),len(z_gals),len(dc_gals))"
   ]
  },
  {
   "cell_type": "code",
   "execution_count": null,
   "id": "38331682",
   "metadata": {},
   "outputs": [],
   "source": [
    "h=0.67\n",
    "mynumevent=int(0)\n",
    "myngcup=int(0)\n",
    "GWGC_name='NGC'+ str(myngcup)\n",
    "HyperLEDA_name=GWGC_name\n",
    "MASS_XSC_name='NaN'\n",
    "type_flag='G'\n",
    "proxy_row={'numevent':mynumevent,'GWGC_name':GWGC_name,'HyperLEDA_name':HyperLEDA_name,\n",
    "           '2MASS_XSC_name':MASS_XSC_name,'SDSS-DR12Q_name':'NaN','type_flag':type_flag,\n",
    "           'right_ascension_degrees':0,'declination_degrees':0,'dl':0,'z':0,\n",
    "           'app_B_mag':mean_app_B_mag,'err_app_B_mag':err_app_B_mag,'abs_B_mag':'NaN',\n",
    "           'app_J_mag':mean_app_J_mag,'err_app_J_mag':err_app_J_mag,\n",
    "           'app_H_mag':mean_app_H_mag,'err_app_H_mag':err_app_H_mag,\n",
    "           'app_K_mag':klum_mean+4,'err_app_K_mag':klum_std,\n",
    "           'lum_dist_flag':3,'pec_vel_correction':0\n",
    "          }"
   ]
  },
  {
   "cell_type": "code",
   "execution_count": null,
   "id": "257a3230",
   "metadata": {},
   "outputs": [],
   "source": [
    "colnames=['numevent','GWGC_name','HyperLEDA_name','2MASS_XSC_name','SDSS-DR12Q_name','type_flag','right_ascension_degrees',\n",
    "          'declination_degrees','dl','err_lum_dist','z','app_B_mag','err_app_B_mag','abs_B_mag','app_J_mag',\n",
    "          'err_app_J_mag','app_H_mag','err_app_H_mag','app_K_mag','err_app_K_mag','lum_dist_flag','pec_vel_correction'\n",
    "          ]\n",
    "uniform_scaled = pd.DataFrame(columns=colnames)\n",
    "#glade_like.columns=colnames\n",
    "uniform_scaled.head()"
   ]
  },
  {
   "cell_type": "code",
   "execution_count": null,
   "id": "cc56fceb",
   "metadata": {},
   "outputs": [],
   "source": [
    "arr=np.arange(0,len(z_gals),dtype=int)\n",
    "data=[]\n",
    "tmp=[]\n",
    "start_time = time.time()\n",
    "print('I am Doing my best, please wait...')\n",
    "with Pool(14) as p:\n",
    "    tmp=p.map(GLADE_inator_volume, arr)\n",
    "print(\"--- %s seconds ---\" % (time.time() - start_time))"
   ]
  },
  {
   "cell_type": "code",
   "execution_count": null,
   "id": "f0b22ea9",
   "metadata": {},
   "outputs": [],
   "source": [
    "uniform_scaled=uniform_scaled.append(tmp, ignore_index=True)"
   ]
  },
  {
   "cell_type": "code",
   "execution_count": null,
   "id": "0863ea00",
   "metadata": {},
   "outputs": [],
   "source": [
    "cat_name='MinimalCat.txt'\n",
    "uniform_scaled.to_csv(cat_name, header=None, index=None, sep=' ')"
   ]
  },
  {
   "cell_type": "code",
   "execution_count": null,
   "id": "1ccfca2a",
   "metadata": {},
   "outputs": [],
   "source": []
  }
 ],
 "metadata": {
  "kernelspec": {
   "display_name": "Python 3 (ipykernel)",
   "language": "python",
   "name": "python3"
  },
  "language_info": {
   "codemirror_mode": {
    "name": "ipython",
    "version": 3
   },
   "file_extension": ".py",
   "mimetype": "text/x-python",
   "name": "python",
   "nbconvert_exporter": "python",
   "pygments_lexer": "ipython3",
   "version": "3.10.6"
  }
 },
 "nbformat": 4,
 "nbformat_minor": 5
}
