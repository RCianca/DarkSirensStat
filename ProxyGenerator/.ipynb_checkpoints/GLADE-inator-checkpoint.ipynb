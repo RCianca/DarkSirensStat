{
 "cells": [
  {
   "cell_type": "code",
   "execution_count": 1,
   "id": "17fd150a",
   "metadata": {},
   "outputs": [],
   "source": [
    "#Script per modificare il catalogo GLADE_2.4 cambiandone i valori. \n",
    "#------------------Import--------------------------------\n",
    "\n",
    "import numpy as np \n",
    "import matplotlib.pyplot as plt \n",
    "import pandas as pd\n",
    "\n",
    "from astropy.cosmology import Planck15\n",
    "from astropy.cosmology import Planck18\n",
    "from astropy.cosmology import FlatLambdaCDM\n",
    "from astropy.io import fits\n",
    "from astropy.table import Table\n",
    "\n",
    "from multiprocessing import Pool\n",
    "import os \n",
    "import statistics as stat\n",
    "import time\n",
    "from tqdm import tqdm"
   ]
  },
  {
   "cell_type": "code",
   "execution_count": 2,
   "id": "d1e7c147",
   "metadata": {},
   "outputs": [],
   "source": [
    "#Catalogue path\n",
    "cat_data_path='/home/rciancarella/DarkSirensStat/data/GLADE/'\n",
    "os.chdir(cat_data_path)\n",
    "#all_event=os.listdir()\n",
    "#print(all_event)"
   ]
  },
  {
   "cell_type": "code",
   "execution_count": null,
   "id": "88b0535b",
   "metadata": {},
   "outputs": [],
   "source": [
    "print(Planck18.H0)"
   ]
  },
  {
   "cell_type": "code",
   "execution_count": 3,
   "id": "8501f3bd",
   "metadata": {},
   "outputs": [],
   "source": [
    "H0GLOB= 67#67.9 #69\n",
    "Om0GLOB=0.319\n",
    "Xi0Glob =1.\n",
    "cosmoglob = Planck15\n",
    "clight = 2.99792458* 10**5#km/s\n",
    "cosmofast = FlatLambdaCDM(H0=H0GLOB, Om0=Om0GLOB)\n",
    "import random as rn\n",
    "clight = 2.99792458* 10**5#km/s\n",
    "\n",
    "\n",
    "#---------------Def Funzioni---------------------\n",
    "def reflag(dataframe, flag_value, trim_factor):\n",
    "    newdf=dataframe\n",
    "    print('setting flag error to {} on glaxies, trimming the number by a factor {}'.format(flag_value, trim_factor))\n",
    "    nrows=int(newdf.shape[0]/trim_factor)\n",
    "    print('nrows={}, initial rows={}'.format(nrows,newdf.shape[0]))\n",
    "    if trim_factor!=1:\n",
    "        newdf=newdf.sample(nrows)\n",
    "        print('trimmato')\n",
    "    newdf['lum_dist_flag']=newdf['lum_dist_flag'].replace(to_replace=2,value=flag_value)\n",
    "    newdf['lum_dist_flag']=newdf['lum_dist_flag'].replace(to_replace=1,value=flag_value)\n",
    "    if flag_value==4:\n",
    "        newdf['lum_dist_flag']=newdf['lum_dist_flag'].replace(to_replace=1,value=flag_value)\n",
    "        newdf['lum_dist_flag']=newdf['lum_dist_flag'].replace(to_replace=2,value=flag_value)\n",
    "        newdf['lum_dist_flag']=newdf['lum_dist_flag'].replace(to_replace=3,value=flag_value)\n",
    "        filename=os.path.join(os.getcwd(), 'GLADE_spectro_flag4'+'_'+str(trim_factor)+'.txt')\n",
    "    else:\n",
    "        filename=os.path.join(os.getcwd(), 'GLADE_spectro'+'_'+str(trim_factor)+'.txt')\n",
    "    print('\\nsalvataggio del nuovo catalogo, attendere')\n",
    "    np.savetxt(filename,newdf.values,fmt='%s')\n",
    "    print('{} salvato'.format(filename))\n",
    "    \n",
    "def cont_flag3(dataframe):\n",
    "    start=dataframe.shape[0]\n",
    "    flag3=dataframe.apply(lambda x: True if x['lum_dist_flag'] == 3 else False , axis=1)\n",
    "    nflag=len(flag3[flag3 == True].index)\n",
    "    perc=nflag*100/start\n",
    "    print('Initial hosts={}, number of flag3 host={} that is {}%'.format(start,nflag,perc))\n",
    "    \n",
    "def cont_flag2(dataframe):\n",
    "    start=dataframe.shape[0]\n",
    "    flag2=dataframe.apply(lambda x: True if x['lum_dist_flag'] == 2 else False , axis=1)\n",
    "    nflag=len(flag2[flag2 == True].index)\n",
    "    perc=nflag*100/start\n",
    "    print('Initial hosts={}, number of flag2 host={} that is {}%'.format(start,nflag,perc))\n",
    "    \n",
    "def trimmer(dataframe,trim_factor):\n",
    "    newdf=dataframe\n",
    "    print('trimming the catalogue by {} %'.format(trim_factor))\n",
    "    nrows=int(newdf.shape[0]*(1-trim_factor/100))\n",
    "    print('nrows={}, initial rows={}'.format(nrows,newdf.shape[0]))\n",
    "    if trim_factor!=0:\n",
    "        newdf=newdf.sample(nrows)\n",
    "        print('trimming')\n",
    "        filename=os.path.join(os.getcwd(), 'GLADE_trimmed'+'_'+str(trim_factor)+'.txt')\n",
    "        print('\\nsalvataggio del nuovo catalogo, attendere')\n",
    "        np.savetxt(filename,newdf.values,fmt='%s')\n",
    "        print('{} salvato'.format(filename))\n",
    "    \n",
    "\n",
    "def fake_host(df,ra,dec,dl,z):\n",
    "    newrow=puppetrow\n",
    "    newrow['right_ascension_degrees']=ra\n",
    "    newrow['declination_degrees']=dec\n",
    "    newrow['dl']=dl\n",
    "    newrow['app_K_mag']=8\n",
    "    newrow['pec_vel_correction']=1\n",
    "    #newrow['err_lum_dist']='NaN'\n",
    "    newrow['z']=z\n",
    "    return newrow\n",
    "def random_displace(ra,dec,dl,delta):\n",
    "    raout=ra+rn.uniform(-1,1)\n",
    "    decout=dec+rn.uniform(-1,1)\n",
    "    dlout=rn.gauss(dl,delta)\n",
    "    zout=Planck15.H(0).value*dlout/clight\n",
    "    return raout, decout, dlout, zout\n",
    "\n",
    "def ra_dec_from_th_phi(theta, phi):\n",
    "        ra = np.rad2deg(phi)\n",
    "        dec = np.rad2deg(0.5 * np.pi - theta)\n",
    "        return ra, dec\n",
    "    \n",
    "def th_phi_from_ra_dec(ra, dec):\n",
    "    theta = 0.5 * np.pi - np.deg2rad(dec)\n",
    "    phi = np.deg2rad(ra)\n",
    "    return theta, phi\n",
    "    \n",
    "    \n",
    "\n",
    "    \n",
    "    "
   ]
  },
  {
   "cell_type": "code",
   "execution_count": null,
   "id": "4b4cd49a",
   "metadata": {},
   "outputs": [],
   "source": []
  },
  {
   "cell_type": "code",
   "execution_count": null,
   "id": "620671dd",
   "metadata": {},
   "outputs": [],
   "source": [
    "#--------------globals and flags-----------------\n",
    "nohost=8\n",
    "clear=1\n",
    "onebyone=1\n",
    "#---------------Main-----------------------------\n",
    "#alcuni appunti sui flag:\n",
    "\n",
    "#Object type flag: Q the source is from the SDSS-DR12Q catalogue. C: the source is a globular cluster. \n",
    "#G:the source is not from the SDSS-DR12Q catalogue and notidentified as a globular cluster\n",
    "\n",
    "#Luminosity distance measurement flag. 0: the object has neither measured distance nor measured redshift value.\n",
    "#1: the object has measured redshift value from which we have calculated its distance. 2: the object has measured distance\n",
    "#value from which we have calculated its redshift. 3: we have replaced the measured photometric redshift with spectroscopic\n",
    "#redshift from the 2MASS Redshift Survey catalogue,from which we have calculated its distance.\n",
    "\n",
    "#Velocity correction flag. It indicates whether the peculiar velocity correction was not (’0’) or was (’1’) applied\n",
    "#when the distance of the object was calculated.\n",
    "\n",
    "#df = pd.read_csv('TestGLADE.txt', sep=\" \", header=None, low_memory=False)\n",
    "tempdf = pd.read_csv('puppet.txt', sep=\" \", header=None, low_memory=False)\n",
    "df = pd.read_csv('GLADE_2.4.txt', sep=\" \", header=None, low_memory=False)\n",
    "#print(df[20])#pandas lavora al contrario ossia [colonna][riga]\n",
    "colnames=['numevent','GWGC_name','HyperLEDA_name','2MASS_XSC_name','SDSS-DR12Q_name','type_flag','right_ascension_degrees',\n",
    "          'declination_degrees','dl','err_lum_dist','z','app_B_mag','err_app_B_mag','abs_B_mag','app_J_mag',\n",
    "          'err_app_J_mag','app_H_mag','err_app_H_mag','app_K_mag','err_app_K_mag','lum_dist_flag','pec_vel_correction'\n",
    "          ]\n",
    "df.columns=colnames\n",
    "tempdf.columns=colnames\n",
    "puppetrow=tempdf.iloc[0]\n",
    "ncols=len(df.columns)\n",
    "nraws=len(df.index)\n",
    "print(\"righe={}, colonne={}, shape={} \" .format(nraws,ncols,df.shape))\n",
    "\n",
    "#conteggio eventi tra z1 e z2\n",
    "#print(df.shape[0])\n",
    "#z1=0.05\n",
    "#z2=0.12\n",
    "#err=0.02\n",
    "#counterdf=df[df['z'].between(z1-err, z1+err)]\n",
    "#print(counterdf.shape[0])\n",
    "#newconter=df[df['z'].between(z2-err, z2+err)]\n",
    "#print(newconter.shape[0])\n",
    "#print(len(newconter))\n"
   ]
  },
  {
   "cell_type": "code",
   "execution_count": null,
   "id": "1bdd832f",
   "metadata": {},
   "outputs": [],
   "source": [
    "\n",
    "znull=np.where(df.z.notna(),1,0)\n",
    "dlnull=np.where(df.dl.notna(),1,0)\n",
    "z_zero=np.count_nonzero(znull==0)\n",
    "dl_zero=np.count_nonzero(dlnull==0)\n",
    "print('la colonna z ha {} elementi nulli\\nla colonna dl ha {} elementi nulli'.format(z_zero,dl_zero))\n",
    "dLvals = df[df.dl.notna()]['dl']\n",
    "print('%s elementi in dLvals'%dLvals.shape[0])\n",
    "zvals = df[df.z.notna()]['z']\n",
    "print('%s elementi in z'%zvals.shape[0])\n",
    "\n",
    "\n",
    "newdf=df[df['z'].notna()]\n",
    "newdf=newdf[newdf['dl'].notna()]\n",
    "znull=np.where(newdf.z.notna(),1,0)\n",
    "dlnull=np.where(newdf.dl.notna(),1,0)\n",
    "z_zero=np.count_nonzero(znull==0)\n",
    "dl_zero=np.count_nonzero(dlnull==0)\n",
    "col=newdf['z']\n",
    "max_z=col.max()\n",
    "print('massimo valore redshift: z={}  '.format(max_z))\n",
    "\n",
    "print('la colonna z ha {} elementi nulli\\nla colonna dl ha {} elementi nulli'.format(z_zero,dl_zero))\n",
    "#print('\\n\\n\\n salvataggio del nuovo catalogo, attendere')\n",
    "#np.savetxt('GLADE_nonull.txt',newdf.values,fmt='%s')\n",
    "#print('GLADE_nonull.txt salvato')\n",
    "    \n",
    "    \n"
   ]
  },
  {
   "cell_type": "code",
   "execution_count": null,
   "id": "fce7f26c",
   "metadata": {
    "scrolled": true
   },
   "outputs": [],
   "source": [
    "#reflag(newdf,3,1)"
   ]
  },
  {
   "cell_type": "code",
   "execution_count": null,
   "id": "848231c8",
   "metadata": {},
   "outputs": [],
   "source": [
    "#cont_flag3(newdf)"
   ]
  },
  {
   "cell_type": "code",
   "execution_count": null,
   "id": "e2b22f47",
   "metadata": {},
   "outputs": [],
   "source": [
    "#cont_flag2(newdf)"
   ]
  },
  {
   "cell_type": "code",
   "execution_count": null,
   "id": "6920bc31",
   "metadata": {
    "scrolled": true
   },
   "outputs": [],
   "source": [
    "#trimmer(newdf,90)"
   ]
  },
  {
   "cell_type": "code",
   "execution_count": null,
   "id": "c8abdb6f",
   "metadata": {
    "scrolled": true
   },
   "outputs": [],
   "source": [
    "#-------------Inserimento Fake Hosts--------------------------\n",
    "#fake_host(df,ra,dec,dl,z)\n",
    "iteration=10\n",
    "#----------------GW190412-----------------------\n",
    "ra=218.4521484375\n",
    "dec=36.42357364233115\n",
    "dl=734.121575455142\n",
    "std=93.28161482151035\n",
    "z=0.16587940821823915\n",
    "toadd=fake_host(newdf,ra,dec,dl,z)\n",
    "newdf=newdf.append(toadd)\n",
    "#for i in range(iteration):\n",
    "    #ra0,dec0,dl0,z0 = random_displace(ra,dec,dl,std)\n",
    "    #toadd=fake_host(newdf,ra0,dec0,dl0,z0)\n",
    "    #newdf=newdf.append(toadd)\n",
    "print('1 of 5 done')\n",
    "#-------------GW190814---------------------------\n",
    "ra=12.7001953125\n",
    "dec=-24.87076339473571\n",
    "dl=240.7344958889034\n",
    "std=26.05124052395576\n",
    "z=0.05439548032764159\n",
    "toadd=fake_host(newdf,ra,dec,dl,z)\n",
    "newdf=newdf.append(toadd)\n",
    "#for i in range(iteration):\n",
    "    #ra0,dec0,dl0,z0 = random_displace(ra,dec,dl,std)\n",
    "    #toadd=fake_host(newdf,ra0,dec0,dl0,z0)\n",
    "    #newdf=newdf.append(toadd)\n",
    "print('2 of 5 done')\n",
    "#---------------GW190924_021846---------------------\n",
    "ra=127.265625\n",
    "dec=16.25709623792208\n",
    "dl=572.3830413569922 \n",
    "std=136.682093600127\n",
    "z=0.1293335645605956\n",
    "toadd=fake_host(newdf,ra,dec,dl,z)\n",
    "newdf=newdf.append(toadd)\n",
    "for i in range(iteration):\n",
    "    ra0,dec0,dl0,z0 = random_displace(ra,dec,dl,std)\n",
    "    toadd=fake_host(newdf,ra0,dec0,dl0,z0)\n",
    "    newdf=newdf.append(toadd)\n",
    "print('3 of 5 done')    \n",
    "#-----------------GW190527_092055--------------------------\n",
    "ra=39.14383561643836\n",
    "dec=-63.07261938698223\n",
    "dl=3562.931275516\n",
    "std=1965.511983689016\n",
    "z=0.8050668326134269\n",
    "toadd=fake_host(newdf,ra,dec,dl,z)\n",
    "#newdf=newdf.append(toadd)\n",
    "#for i in range(iteration):\n",
    "    #ra0,dec0,dl0,z0 = random_displace(ra,dec,dl,std)\n",
    "    #toadd=fake_host(newdf,ra0,dec0,dl0,z0)\n",
    "    #newdf=newdf.append(toadd)\n",
    "print('4 of 5 done')\n",
    "\n",
    "#-----------------GW170817--------------------------\n",
    "#ra=196.03586373589667 #3.44616 #105.29296875\n",
    "#dec=-20.841149792255525#-0.408084 #-0.7833651412800737\n",
    "#dl=34.03408225450563\n",
    "#std=7.499686641911211\n",
    "#z=0.0087\n",
    "#toadd=fake_host(newdf,ra,dec,dl,z)\n",
    "#newdf=newdf.append(toadd)\n",
    "#for i in range(iteration):\n",
    "    #ra0,dec0,dl0,z0 = random_displace(ra,dec,dl,std)\n",
    "    #toadd=fake_host(newdf,ra0,dec0,dl0,z0)\n",
    "    #newdf=newdf.append(toadd)\n",
    "print('5 of 5 done')\n",
    "#------------------Fake-BS-------------------------\n",
    "ra=196.03586373589667 #3.44616 #105.29296875\n",
    "dec=-20.841149792255525#-0.408084 #-0.7833651412800737\n",
    "dl=20\n",
    "std=4.595980697842096\n",
    "z=cosmoglob.H(0).value*dl/clight\n",
    "toadd=fake_host(newdf,ra,dec,dl,z)\n",
    "newdf=newdf.append(toadd)\n",
    "newdf=newdf.tail(6)\n",
    "#----------------Saving-------------------------------\n",
    "filename=os.path.join(os.getcwd(), 'GLADE_fakeBS20'+'.txt')\n",
    "print('Saving new catalogue with host injection, wait...')\n",
    "np.savetxt(filename,newdf.values,fmt='%s')\n",
    "print('{} saved!'.format(filename))\n"
   ]
  },
  {
   "cell_type": "markdown",
   "id": "c10e8fd4",
   "metadata": {},
   "source": [
    "# From FlagShip to GLADE-like"
   ]
  },
  {
   "cell_type": "code",
   "execution_count": null,
   "id": "25c96550",
   "metadata": {},
   "outputs": [],
   "source": [
    "#------------read the flagship-------------------------------------\n",
    "dat = Table.read('11536.fits', format='fits')\n",
    "flagship = dat.to_pandas()#all good, is an only text fits\n",
    "print(flagship.columns)\n",
    "print(flagship.shape[0])\n",
    "flagship.head(3)"
   ]
  },
  {
   "cell_type": "code",
   "execution_count": null,
   "id": "ca840713",
   "metadata": {},
   "outputs": [],
   "source": [
    "z=np.array(flagship['true_redshift_gal'])\n",
    "ra=np.array(flagship['ra_gal'])\n",
    "dec=np.array(flagship['dec_gal'])\n",
    "print('z_min={}, z_max={}'.format(np.min(z),np.max(z)))\n",
    "print('ra_min={}, ra_max={}'.format(np.min(ra),np.max(ra)))\n",
    "print('dec_min={}, dec_max={}'.format(np.min(dec),np.max(dec)))\n",
    "thetamin,phimin=th_phi_from_ra_dec(np.min(ra),np.max(dec))\n",
    "thetamax,phimax=th_phi_from_ra_dec(np.max(ra),np.min(dec))\n",
    "print('phi_min={}, phi_max={}'.format(phimin,phimax))\n",
    "print('theta_min={}, theta_max={}'.format(thetamin,thetamax))"
   ]
  },
  {
   "cell_type": "code",
   "execution_count": null,
   "id": "804cff36",
   "metadata": {},
   "outputs": [],
   "source": [
    "#print(df[20])#pandas lavora al contrario ossia [colonna][riga]\n",
    "colnames=['ra_gal', 'dec_gal', 'observed_redshift_gal', 'true_redshift_gal',\n",
    "       'x_gal', 'y_gal', 'z_gal', 'vx_gal', 'vy_gal', 'vz_gal']\n",
    "randflagship = pd.DataFrame(columns=colnames)\n",
    "randflagship.head(3)"
   ]
  },
  {
   "cell_type": "code",
   "execution_count": null,
   "id": "a1b6a9a2",
   "metadata": {},
   "outputs": [],
   "source": [
    "randflagship=flagship.head(5000)\n",
    "cat_name='GLADE_flagship_5000incr.txt'"
   ]
  },
  {
   "cell_type": "code",
   "execution_count": null,
   "id": "eeb9095d",
   "metadata": {},
   "outputs": [],
   "source": [
    "#randflagship=randflagship.append(flagship.sample(5500), ignore_index=True)\n",
    "#randflagship.to_csv('flagrandsource.txt', header=None, index=None, sep=' ')"
   ]
  },
  {
   "cell_type": "code",
   "execution_count": null,
   "id": "2be8efc6",
   "metadata": {},
   "outputs": [],
   "source": [
    "#alcuni appunti sui flag:\n",
    "\n",
    "#Object type flag: Q the source is from the SDSS-DR12Q catalogue.\n",
    "#C: the source is a globular cluster. \n",
    "#G:the source is not from the SDSS-DR12Q catalogue and notidentified as a globular cluster\n",
    "\n",
    "#Luminosity distance measurement flag.\n",
    "#0: the object has neither measured distance nor measured redshift value.\n",
    "#1: the object has measured redshift value from which we have calculated its distance. \n",
    "#2: the object has measured distance value from which we have calculated its redshift. \n",
    "#3: we have replaced the measured photometric redshift with spectroscopic redshift \n",
    "#from the 2MASS Redshift Survey catalogue,from which we have calculated its distance.\n",
    "\n",
    "#Velocity correction flag. It indicates whether the peculiar velocity correction was not (’0’)\n",
    "#or was (’1’) applied when the distance of the object was calculated.\n"
   ]
  },
  {
   "cell_type": "code",
   "execution_count": null,
   "id": "cba1b141",
   "metadata": {},
   "outputs": [],
   "source": [
    "#---------------read Glade-------------------\n",
    "glade = pd.read_csv('GLADE_2.4.txt', sep=\" \", header=None, low_memory=False)\n",
    "#print(df[20])#pandas lavora al contrario ossia [colonna][riga]\n",
    "colnames=['numevent','GWGC_name','HyperLEDA_name','2MASS_XSC_name','SDSS-DR12Q_name','type_flag','right_ascension_degrees',\n",
    "          'declination_degrees','dl','err_lum_dist','z','app_B_mag','err_app_B_mag','abs_B_mag','app_J_mag',\n",
    "          'err_app_J_mag','app_H_mag','err_app_H_mag','app_K_mag','err_app_K_mag','lum_dist_flag','pec_vel_correction'\n",
    "          ]\n",
    "glade.columns=colnames\n",
    "glade.head(5)\n",
    "klum=np.array(glade['app_K_mag'])\n",
    "#zglade=np.array(flagship['true_redshift_gal'])"
   ]
  },
  {
   "cell_type": "code",
   "execution_count": null,
   "id": "f6054780",
   "metadata": {},
   "outputs": [],
   "source": [
    "mean_app_B_mag=np.sum(glade['app_B_mag'])/glade.shape[0]\n",
    "mean_abs_B_mag=np.sum(glade['abs_B_mag'])/glade.shape[0]\n",
    "mean_app_J_mag=np.sum(glade['app_J_mag'])/glade.shape[0]\n",
    "mean_app_H_mag=np.sum(glade['app_H_mag'])/glade.shape[0]\n",
    "mean_app_K_mag=np.sum(glade['app_K_mag'])/glade.shape[0]\n",
    "print(mean_app_B_mag,mean_abs_B_mag,mean_app_J_mag,mean_app_H_mag,mean_app_K_mag)"
   ]
  },
  {
   "cell_type": "code",
   "execution_count": null,
   "id": "3fceb2eb",
   "metadata": {},
   "outputs": [],
   "source": [
    "klum = klum[~np.isnan(klum)]\n",
    "plt.hist(klum,bins='auto')\n",
    "klum_mean=stat.mean(klum)\n",
    "klum_std=stat.stdev(klum)\n",
    "print('lum mean={}, lum std={}'.format(klum_mean,klum_std))"
   ]
  },
  {
   "cell_type": "code",
   "execution_count": null,
   "id": "c039ccfe",
   "metadata": {},
   "outputs": [],
   "source": [
    "err_app_B_mag=np.sum(glade['err_app_B_mag'])/glade.shape[0]\n",
    "err_app_J_mag=np.sum(glade['err_app_J_mag'])/glade.shape[0]\n",
    "err_app_H_mag=np.sum(glade['err_app_H_mag'])/glade.shape[0]\n",
    "err_app_K_mag=np.sum(glade['err_app_K_mag'])/glade.shape[0]\n",
    "print(err_app_B_mag,err_app_J_mag,err_app_H_mag,err_app_K_mag)"
   ]
  },
  {
   "cell_type": "code",
   "execution_count": null,
   "id": "9a325eec",
   "metadata": {},
   "outputs": [],
   "source": [
    "h=0.67\n",
    "mynumevent=int(43495)\n",
    "myngcup=int(4736)\n",
    "GWGC_name='NGC'+ str(myngcup)\n",
    "HyperLEDA_name=GWGC_name\n",
    "MASS_XSC_name='NaN'\n",
    "type_flag='G'\n",
    "proxy_row={'numevent':mynumevent,'GWGC_name':GWGC_name,'HyperLEDA_name':HyperLEDA_name,\n",
    "           '2MASS_XSC_name':MASS_XSC_name,'SDSS-DR12Q_name':'NaN','type_flag':type_flag,\n",
    "           'right_ascension_degrees':0,'declination_degrees':0,'dl':0,'z':0,\n",
    "           'app_B_mag':mean_app_B_mag,'err_app_B_mag':err_app_B_mag,'abs_B_mag':'NaN',\n",
    "           'app_J_mag':mean_app_J_mag,'err_app_J_mag':err_app_J_mag,\n",
    "           'app_H_mag':mean_app_H_mag,'err_app_H_mag':err_app_H_mag,\n",
    "           'app_K_mag':klum_mean+4,'err_app_K_mag':klum_std,\n",
    "           'lum_dist_flag':3,'pec_vel_correction':0\n",
    "          }"
   ]
  },
  {
   "cell_type": "code",
   "execution_count": null,
   "id": "63121ff7",
   "metadata": {},
   "outputs": [],
   "source": [
    "\n",
    "#print(df[20])#pandas lavora al contrario ossia [colonna][riga]\n",
    "colnames=['numevent','GWGC_name','HyperLEDA_name','2MASS_XSC_name','SDSS-DR12Q_name','type_flag','right_ascension_degrees',\n",
    "          'declination_degrees','dl','err_lum_dist','z','app_B_mag','err_app_B_mag','abs_B_mag','app_J_mag',\n",
    "          'err_app_J_mag','app_H_mag','err_app_H_mag','app_K_mag','err_app_K_mag','lum_dist_flag','pec_vel_correction'\n",
    "          ]\n",
    "glade_like = pd.DataFrame(columns=colnames)\n",
    "#glade_like.columns=colnames\n",
    "glade_like.head()"
   ]
  },
  {
   "cell_type": "code",
   "execution_count": null,
   "id": "9dd135ee",
   "metadata": {},
   "outputs": [],
   "source": [
    "#-----------filler-------------------\n",
    "def GLADE_inator(iterations):\n",
    "#for i in tqdm(range(flagship.shape[0])):\n",
    "#for i in range(iterations):\n",
    "    i=iterations\n",
    "    numevent=mynumevent+i\n",
    "    ngcup=myngcup+i\n",
    "    GWGC_name='NGC'+ str(ngcup)\n",
    "    HyperLEDA_name=GWGC_name\n",
    "    ra_gal=flagship['ra_gal'][i]\n",
    "    dec_gal=flagship['dec_gal'][i]\n",
    "    zz=flagship['true_redshift_gal'][i]\n",
    "    #----------dl----------------------\n",
    "    #distances are in Mpc/h and are comoving distances. We need luminosity distances and Mpc \n",
    "    host_x=flagship['x_gal'][i]/h #restore the right units\n",
    "    host_y=flagship['y_gal'][i]/h\n",
    "    host_z=flagship['z_gal'][i]/h\n",
    "\n",
    "    lum_host_x=host_x*(1+zz)\n",
    "    lum_host_y=host_y*(1+zz)\n",
    "    lum_host_z=host_z*(1+zz)\n",
    "    dl=np.sqrt(lum_host_x**2+lum_host_y**2+lum_host_z**2)\n",
    "    temp_k_lum=np.random.normal(loc=klum_mean,scale=2*klum_std)\n",
    "    #----------row to append---------------------\n",
    "    proxy_row={'numevent':numevent,'GWGC_name':GWGC_name,'HyperLEDA_name':HyperLEDA_name,\n",
    "           '2MASS_XSC_name':MASS_XSC_name,'SDSS-DR12Q_name':'NaN','type_flag':type_flag,\n",
    "           'right_ascension_degrees':ra_gal,'declination_degrees':dec_gal,'dl':dl,'z':zz,\n",
    "           'app_B_mag':mean_app_B_mag,'err_app_B_mag':err_app_B_mag,'abs_B_mag':'NaN',\n",
    "           'app_J_mag':mean_app_J_mag,'err_app_J_mag':err_app_J_mag,\n",
    "           'app_H_mag':mean_app_H_mag,'err_app_H_mag':err_app_H_mag,\n",
    "           'app_K_mag':temp_k_lum,'err_app_K_mag':klum_std,\n",
    "           'lum_dist_flag':3,'pec_vel_correction':0\n",
    "          }\n",
    "    #data.append([proxy_row])\n",
    "    return proxy_row\n",
    "    #print(proxy_row)\n",
    "#glade_like.head()"
   ]
  },
  {
   "cell_type": "code",
   "execution_count": null,
   "id": "ab88f11c",
   "metadata": {},
   "outputs": [],
   "source": [
    "arr=np.arange(0,flagship.shape[0],dtype=int)\n",
    "data=[]\n",
    "tmp=[]\n",
    "start_time = time.time()\n",
    "with Pool(10) as p:\n",
    "    tmp=p.map(GLADE_inator, arr)\n",
    "print(\"--- %s seconds ---\" % (time.time() - start_time))\n",
    "#glade_like.to_csv(r'GLADE_flagship.txt', header=None, index=None, sep=' ', mode='a')"
   ]
  },
  {
   "cell_type": "code",
   "execution_count": null,
   "id": "284e5235",
   "metadata": {},
   "outputs": [],
   "source": [
    "glade_like=glade_like.append(tmp, ignore_index=True)\n",
    "glade_like.tail()"
   ]
  },
  {
   "cell_type": "code",
   "execution_count": null,
   "id": "3f4bba96",
   "metadata": {},
   "outputs": [],
   "source": [
    "glade_like.to_csv(cat_name, header=None, index=None, sep=' ')"
   ]
  },
  {
   "cell_type": "code",
   "execution_count": null,
   "id": "d2842c2e",
   "metadata": {},
   "outputs": [],
   "source": [
    "del tmp\n",
    "del data"
   ]
  },
  {
   "cell_type": "markdown",
   "id": "96ad2b59",
   "metadata": {},
   "source": [
    "# Cone Selection"
   ]
  },
  {
   "cell_type": "code",
   "execution_count": null,
   "id": "99066a8e",
   "metadata": {},
   "outputs": [],
   "source": [
    "coneflag = pd.read_csv('GLADE_flagship.txt', sep=\" \", header=None, low_memory=False)\n",
    "#print(df[20])#pandas lavora al contrario ossia [colonna][riga]\n",
    "colnames=['numevent','GWGC_name','HyperLEDA_name','2MASS_XSC_name','SDSS-DR12Q_name','type_flag','right_ascension_degrees',\n",
    "          'declination_degrees','dl','err_lum_dist','z','app_B_mag','err_app_B_mag','abs_B_mag','app_J_mag',\n",
    "          'err_app_J_mag','app_H_mag','err_app_H_mag','app_K_mag','err_app_K_mag','lum_dist_flag','pec_vel_correction'\n",
    "          ]\n",
    "coneflag.columns=colnames"
   ]
  },
  {
   "cell_type": "code",
   "execution_count": null,
   "id": "e0e65cb2",
   "metadata": {},
   "outputs": [],
   "source": [
    "Sigma_theta=2.2072811544182263 # deg\n",
    "Sigma_phi=2.2072811544182263 # deg\n",
    "#Sigma_theta=0.03852432366181943 # rad\n",
    "#Sigma_phi=0.03852432366181943 # rad\n",
    "\n",
    "tollerance=2*Sigma_phi\n",
    "RA05=59.9768875192604\n",
    "DEC05=60.008985691511455\n",
    "inf_ra=RA05-tollerance\n",
    "sup_ra=RA05+tollerance\n",
    "inf_dec=RA05-tollerance\n",
    "sup_dec=RA05+tollerance\n",
    "\n",
    "reduced_flag=coneflag[coneflag['declination_degrees']>inf_dec]\n",
    "reduced_flag=reduced_flag[reduced_flag['declination_degrees']<sup_dec]\n",
    "reduced_flag=reduced_flag[reduced_flag['right_ascension_degrees']>inf_ra]\n",
    "reduced_flag=reduced_flag[reduced_flag['right_ascension_degrees']<sup_ra]\n",
    "print(coneflag.shape[0],reduced_flag.shape[0],100*reduced_flag.shape[0]/coneflag.shape[0])\n",
    "#reduced_flag.to_csv('Cone3sig_GW05.txt', header=None, index=None, sep=' ')"
   ]
  },
  {
   "cell_type": "code",
   "execution_count": null,
   "id": "aa65c111",
   "metadata": {},
   "outputs": [],
   "source": [
    "mycone=reduced_flag.head(10)\n",
    "cat_name='GLADE_flagship_cone05_10incr.txt'\n",
    "mycone.to_csv(cat_name, header=None, index=None, sep=' ')"
   ]
  },
  {
   "cell_type": "markdown",
   "id": "57cd8194",
   "metadata": {},
   "source": [
    "# Add host to FlaghShip"
   ]
  },
  {
   "cell_type": "code",
   "execution_count": null,
   "id": "814917f3",
   "metadata": {},
   "outputs": [],
   "source": [
    "#myglade = pd.read_csv('GLADE_flagship.txt', sep=\" \", header=None)\n",
    "colnames=['numevent','GWGC_name','HyperLEDA_name','2MASS_XSC_name','SDSS-DR12Q_name','type_flag','right_ascension_degrees',\n",
    "          'declination_degrees','dl','err_lum_dist','z','app_B_mag','err_app_B_mag','abs_B_mag','app_J_mag',\n",
    "          'err_app_J_mag','app_H_mag','err_app_H_mag','app_K_mag','err_app_K_mag','lum_dist_flag','pec_vel_correction'\n",
    "          ]\n",
    "myglade = pd.DataFrame(columns = colnames)\n",
    "#myglade.columns=colnames\n",
    "myglade.head(5)"
   ]
  },
  {
   "cell_type": "code",
   "execution_count": null,
   "id": "22d45157",
   "metadata": {},
   "outputs": [],
   "source": [
    "glade500 = pd.read_csv(cat_name, sep=\" \", header=None, low_memory=False)\n",
    "#print(df[20])#pandas lavora al contrario ossia [colonna][riga]\n",
    "colnames=['numevent','GWGC_name','HyperLEDA_name','2MASS_XSC_name','SDSS-DR12Q_name','type_flag','right_ascension_degrees',\n",
    "          'declination_degrees','dl','err_lum_dist','z','app_B_mag','err_app_B_mag','abs_B_mag','app_J_mag',\n",
    "          'err_app_J_mag','app_H_mag','err_app_H_mag','app_K_mag','err_app_K_mag','lum_dist_flag','pec_vel_correction'\n",
    "          ]\n",
    "glade500.columns=colnames"
   ]
  },
  {
   "cell_type": "code",
   "execution_count": null,
   "id": "565d8d8f",
   "metadata": {},
   "outputs": [],
   "source": [
    "#GW221007\n",
    "mynumevent=int(14091027)\n",
    "myngcup=int(14052268)\n",
    "GWGC_name='NGC'+ str(myngcup)\n",
    "HyperLEDA_name=GWGC_name\n",
    "MASS_XSC_name='NaN'\n",
    "type_flag='G'\n",
    "numevent=mynumevent+1\n",
    "ngcup=myngcup+1\n",
    "GWGC_name='NGC'+ str(ngcup)\n",
    "HyperLEDA_name=GWGC_name\n",
    "ra_gal=22.546875\n",
    "dec_gal=44.993880150457116\n",
    "zz=1.7\n",
    "#----------dl----------------------\n",
    "dl=13102.8222124438\n",
    "temp_k_lum=np.random.normal(loc=klum_mean,scale=2*klum_std)\n",
    "#----------row to append---------------------\n",
    "proxy_row={'numevent':numevent,'GWGC_name':GWGC_name,'HyperLEDA_name':HyperLEDA_name,\n",
    "       '2MASS_XSC_name':MASS_XSC_name,'SDSS-DR12Q_name':'NaN','type_flag':type_flag,\n",
    "       'right_ascension_degrees':ra_gal,'declination_degrees':dec_gal,'dl':dl,'z':zz,\n",
    "       'app_B_mag':mean_app_B_mag,'err_app_B_mag':err_app_B_mag,'abs_B_mag':'NaN',\n",
    "       'app_J_mag':mean_app_J_mag,'err_app_J_mag':err_app_J_mag,\n",
    "       'app_H_mag':mean_app_H_mag,'err_app_H_mag':err_app_H_mag,\n",
    "       'app_K_mag':14,'err_app_K_mag':0,\n",
    "       'lum_dist_flag':3,'pec_vel_correction':0\n",
    "      }"
   ]
  },
  {
   "cell_type": "code",
   "execution_count": null,
   "id": "c0d7c2b1",
   "metadata": {},
   "outputs": [],
   "source": [
    "#hostedglade=myglade.append(glade_like, ignore_index=True)\n",
    "#hostedglade=hostedglade.append(proxy_row, ignore_index=True)\n",
    "#hostedglade=myglade.append(glade500, ignore_index=True)\n",
    "hostedglade=glade500.append(proxy_row, ignore_index=True)"
   ]
  },
  {
   "cell_type": "code",
   "execution_count": null,
   "id": "464a7d65",
   "metadata": {},
   "outputs": [],
   "source": [
    "hostedglade.tail()"
   ]
  },
  {
   "cell_type": "code",
   "execution_count": null,
   "id": "484a9c53",
   "metadata": {},
   "outputs": [],
   "source": [
    "#GW221005\n",
    "mynumevent=int(14091028)\n",
    "myngcup=int(14052269)\n",
    "GWGC_name='NGC'+ str(myngcup)\n",
    "HyperLEDA_name=GWGC_name\n",
    "MASS_XSC_name='NaN'\n",
    "type_flag='G'\n",
    "numevent=mynumevent+1\n",
    "ngcup=myngcup+1\n",
    "GWGC_name='NGC'+ str(ngcup)\n",
    "HyperLEDA_name=GWGC_name\n",
    "ra_gal=59.9768875192604\n",
    "dec_gal=60.008985691511455\n",
    "zz=1.499999\n",
    "#----------dl----------------------\n",
    "dl=11239.437561544408\n",
    "temp_k_lum=np.random.normal(loc=klum_mean,scale=2*klum_std)\n",
    "#----------row to append---------------------\n",
    "proxy_row={'numevent':numevent,'GWGC_name':GWGC_name,'HyperLEDA_name':HyperLEDA_name,\n",
    "       '2MASS_XSC_name':MASS_XSC_name,'SDSS-DR12Q_name':'NaN','type_flag':type_flag,\n",
    "       'right_ascension_degrees':ra_gal,'declination_degrees':dec_gal,'dl':dl,'z':zz,\n",
    "       'app_B_mag':mean_app_B_mag,'err_app_B_mag':err_app_B_mag,'abs_B_mag':'NaN',\n",
    "       'app_J_mag':mean_app_J_mag,'err_app_J_mag':err_app_J_mag,\n",
    "       'app_H_mag':mean_app_H_mag,'err_app_H_mag':err_app_H_mag,\n",
    "       'app_K_mag':14,'err_app_K_mag':0,\n",
    "       'lum_dist_flag':3,'pec_vel_correction':0\n",
    "      }"
   ]
  },
  {
   "cell_type": "code",
   "execution_count": null,
   "id": "b995e957",
   "metadata": {},
   "outputs": [],
   "source": [
    "#hostedglade=hostedglade.append(proxy_row, ignore_index=True)\n",
    "hostedglade=glade500.append(proxy_row, ignore_index=True)\n",
    "hostedglade.tail()"
   ]
  },
  {
   "cell_type": "code",
   "execution_count": null,
   "id": "11650053",
   "metadata": {},
   "outputs": [],
   "source": [
    "#GW221009\n",
    "mynumevent=int(14091029)\n",
    "myngcup=int(14052270)\n",
    "GWGC_name='NGC'+ str(myngcup)\n",
    "HyperLEDA_name=GWGC_name\n",
    "MASS_XSC_name='NaN'\n",
    "type_flag='G'\n",
    "numevent=mynumevent+1\n",
    "ngcup=myngcup+1\n",
    "GWGC_name='NGC'+ str(ngcup)\n",
    "HyperLEDA_name=GWGC_name\n",
    "ra_gal=22.5\n",
    "dec_gal=67.46928707806836\n",
    "zz=1.499999\n",
    "#----------dl----------------------\n",
    "dl=11239.437561544408\n",
    "temp_k_lum=np.random.normal(loc=klum_mean,scale=2*klum_std)\n",
    "#----------row to append---------------------\n",
    "proxy_row={'numevent':numevent,'GWGC_name':GWGC_name,'HyperLEDA_name':HyperLEDA_name,\n",
    "       '2MASS_XSC_name':MASS_XSC_name,'SDSS-DR12Q_name':'NaN','type_flag':type_flag,\n",
    "       'right_ascension_degrees':ra_gal,'declination_degrees':dec_gal,'dl':dl,'z':zz,\n",
    "       'app_B_mag':mean_app_B_mag,'err_app_B_mag':err_app_B_mag,'abs_B_mag':'NaN',\n",
    "       'app_J_mag':mean_app_J_mag,'err_app_J_mag':err_app_J_mag,\n",
    "       'app_H_mag':mean_app_H_mag,'err_app_H_mag':err_app_H_mag,\n",
    "       'app_K_mag':14,'err_app_K_mag':0,\n",
    "       'lum_dist_flag':3,'pec_vel_correction':0\n",
    "      }"
   ]
  },
  {
   "cell_type": "code",
   "execution_count": null,
   "id": "56da0d19",
   "metadata": {},
   "outputs": [],
   "source": [
    "hostedglade=hostedglade.append(proxy_row,ignore_index=True)"
   ]
  },
  {
   "cell_type": "code",
   "execution_count": null,
   "id": "ee339082",
   "metadata": {},
   "outputs": [],
   "source": [
    "#GW221006\n",
    "mynumevent=int(14091030)\n",
    "myngcup=int(14052271)\n",
    "GWGC_name='NGC'+ str(myngcup)\n",
    "HyperLEDA_name=GWGC_name\n",
    "MASS_XSC_name='NaN'\n",
    "type_flag='G'\n",
    "numevent=mynumevent+1\n",
    "ngcup=myngcup+1\n",
    "GWGC_name='NGC'+ str(ngcup)\n",
    "HyperLEDA_name=GWGC_name\n",
    "ra_gal=45.0\n",
    "dec_gal=67.515868\n",
    "zz=1.999999\n",
    "#----------dl----------------------\n",
    "dl=15978.581718\n",
    "temp_k_lum=np.random.normal(loc=klum_mean,scale=2*klum_std)\n",
    "#----------row to append---------------------\n",
    "proxy_row={'numevent':numevent,'GWGC_name':GWGC_name,'HyperLEDA_name':HyperLEDA_name,\n",
    "       '2MASS_XSC_name':MASS_XSC_name,'SDSS-DR12Q_name':'NaN','type_flag':type_flag,\n",
    "       'right_ascension_degrees':ra_gal,'declination_degrees':dec_gal,'dl':dl,'z':zz,\n",
    "       'app_B_mag':mean_app_B_mag,'err_app_B_mag':err_app_B_mag,'abs_B_mag':'NaN',\n",
    "       'app_J_mag':mean_app_J_mag,'err_app_J_mag':err_app_J_mag,\n",
    "       'app_H_mag':mean_app_H_mag,'err_app_H_mag':err_app_H_mag,\n",
    "       'app_K_mag':14,'err_app_K_mag':0,\n",
    "       'lum_dist_flag':3,'pec_vel_correction':0\n",
    "      }"
   ]
  },
  {
   "cell_type": "code",
   "execution_count": null,
   "id": "026b8f96",
   "metadata": {},
   "outputs": [],
   "source": [
    "hostedglade=hostedglade.append(proxy_row,ignore_index=True)"
   ]
  },
  {
   "cell_type": "code",
   "execution_count": null,
   "id": "a3593e38",
   "metadata": {},
   "outputs": [],
   "source": [
    "#GW221004\n",
    "mynumevent=int(14091031)\n",
    "myngcup=int(14052272)\n",
    "GWGC_name='NGC'+ str(myngcup)\n",
    "HyperLEDA_name=GWGC_name\n",
    "MASS_XSC_name='NaN'\n",
    "type_flag='G'\n",
    "numevent=mynumevent+1\n",
    "ngcup=myngcup+1\n",
    "GWGC_name='NGC'+ str(ngcup)\n",
    "HyperLEDA_name=GWGC_name\n",
    "ra_gal=30.0146484\n",
    "dec_gal=30\n",
    "zz=0.8\n",
    "#----------dl----------------------\n",
    "dl=5192.923712\n",
    "temp_k_lum=np.random.normal(loc=klum_mean,scale=2*klum_std)\n",
    "#----------row to append---------------------\n",
    "proxy_row={'numevent':numevent,'GWGC_name':GWGC_name,'HyperLEDA_name':HyperLEDA_name,\n",
    "       '2MASS_XSC_name':MASS_XSC_name,'SDSS-DR12Q_name':'NaN','type_flag':type_flag,\n",
    "       'right_ascension_degrees':ra_gal,'declination_degrees':dec_gal,'dl':dl,'z':zz,\n",
    "       'app_B_mag':mean_app_B_mag,'err_app_B_mag':err_app_B_mag,'abs_B_mag':'NaN',\n",
    "       'app_J_mag':mean_app_J_mag,'err_app_J_mag':err_app_J_mag,\n",
    "       'app_H_mag':mean_app_H_mag,'err_app_H_mag':err_app_H_mag,\n",
    "       'app_K_mag':14,'err_app_K_mag':0,\n",
    "       'lum_dist_flag':3,'pec_vel_correction':0\n",
    "      }"
   ]
  },
  {
   "cell_type": "code",
   "execution_count": null,
   "id": "385d890c",
   "metadata": {},
   "outputs": [],
   "source": [
    "hostedglade=hostedglade.append(proxy_row,ignore_index=True)"
   ]
  },
  {
   "cell_type": "code",
   "execution_count": null,
   "id": "4d1a4f53",
   "metadata": {},
   "outputs": [],
   "source": [
    "#GW221003\n",
    "mynumevent=int(14091032)\n",
    "myngcup=int(14052273)\n",
    "GWGC_name='NGC'+ str(myngcup)\n",
    "HyperLEDA_name=GWGC_name\n",
    "MASS_XSC_name='NaN'\n",
    "type_flag='G'\n",
    "numevent=mynumevent+1\n",
    "ngcup=myngcup+1\n",
    "GWGC_name='NGC'+ str(ngcup)\n",
    "HyperLEDA_name=GWGC_name\n",
    "ra_gal=45\n",
    "dec_gal=45.043326\n",
    "zz=1\n",
    "#----------dl----------------------\n",
    "dl=6827.3827141\n",
    "temp_k_lum=np.random.normal(loc=klum_mean,scale=2*klum_std)\n",
    "#----------row to append---------------------\n",
    "proxy_row={'numevent':numevent,'GWGC_name':GWGC_name,'HyperLEDA_name':HyperLEDA_name,\n",
    "       '2MASS_XSC_name':MASS_XSC_name,'SDSS-DR12Q_name':'NaN','type_flag':type_flag,\n",
    "       'right_ascension_degrees':ra_gal,'declination_degrees':dec_gal,'dl':dl,'z':zz,\n",
    "       'app_B_mag':mean_app_B_mag,'err_app_B_mag':err_app_B_mag,'abs_B_mag':'NaN',\n",
    "       'app_J_mag':mean_app_J_mag,'err_app_J_mag':err_app_J_mag,\n",
    "       'app_H_mag':mean_app_H_mag,'err_app_H_mag':err_app_H_mag,\n",
    "       'app_K_mag':14,'err_app_K_mag':0,\n",
    "       'lum_dist_flag':3,'pec_vel_correction':0\n",
    "      }"
   ]
  },
  {
   "cell_type": "code",
   "execution_count": null,
   "id": "05ba8985",
   "metadata": {},
   "outputs": [],
   "source": [
    "hostedglade=hostedglade.append(proxy_row,ignore_index=True)\n",
    "hostedglade.tail(10)"
   ]
  },
  {
   "cell_type": "code",
   "execution_count": null,
   "id": "a9363e53",
   "metadata": {},
   "outputs": [],
   "source": [
    "hostedglade.to_csv(cat_name, header=None, index=None, sep=' ')"
   ]
  },
  {
   "cell_type": "code",
   "execution_count": null,
   "id": "9959a291",
   "metadata": {},
   "outputs": [],
   "source": [
    "check = pd.read_csv('GLADE_flagship_cone05_2000incr.txt', sep=\" \", header=None, low_memory=False)\n",
    "colnames=['numevent','GWGC_name','HyperLEDA_name','2MASS_XSC_name','SDSS-DR12Q_name','type_flag','right_ascension_degrees',\n",
    "          'declination_degrees','dl','err_lum_dist','z','app_B_mag','err_app_B_mag','abs_B_mag','app_J_mag',\n",
    "          'err_app_J_mag','app_H_mag','err_app_H_mag','app_K_mag','err_app_K_mag','lum_dist_flag','pec_vel_correction'\n",
    "          ]\n",
    "check.columns=colnames\n",
    "#print(df[20])#pandas lavora al contrario ossia [colonna][riga]\n",
    "check.head(7)"
   ]
  },
  {
   "cell_type": "code",
   "execution_count": null,
   "id": "a7455d54",
   "metadata": {},
   "outputs": [],
   "source": [
    "check = pd.read_csv(cat_name, sep=\" \", header=None, low_memory=False)\n",
    "colnames=['numevent','GWGC_name','HyperLEDA_name','2MASS_XSC_name','SDSS-DR12Q_name','type_flag','right_ascension_degrees',\n",
    "          'declination_degrees','dl','err_lum_dist','z','app_B_mag','err_app_B_mag','abs_B_mag','app_J_mag',\n",
    "          'err_app_J_mag','app_H_mag','err_app_H_mag','app_K_mag','err_app_K_mag','lum_dist_flag','pec_vel_correction'\n",
    "          ]\n",
    "check.columns=colnames\n",
    "#print(df[20])#pandas lavora al contrario ossia [colonna][riga]\n",
    "check.tail(7)"
   ]
  },
  {
   "cell_type": "code",
   "execution_count": null,
   "id": "ed5d0302",
   "metadata": {},
   "outputs": [],
   "source": [
    "dat = Table.read('11536.fits', format='fits')\n",
    "flagship = dat.to_pandas()#all good, is an only text fits\n",
    "print(flagship.columns)\n",
    "print(flagship.shape[0])\n",
    "flagship.head(3)\n",
    "#myglade=glade500.query('declination_degrees > 64.5 & declination_degrees <70.5')\n",
    "#myglade=myglade.query('right_ascension_degrees>42 & right_ascension_degrees<48 ')"
   ]
  },
  {
   "cell_type": "code",
   "execution_count": null,
   "id": "eb92ca2a",
   "metadata": {},
   "outputs": [],
   "source": [
    "print(myglade.shape[0])\n",
    "my_z=np.asarray(flagship.true_redshift_gal)\n",
    "print(np.min(my_z),np.max(my_z),np.mean(my_z))\n",
    "\n",
    "# An \"interface\" to matplotlib.axes.Axes.hist() method\n",
    "fig, pltplt = plt.subplots(1, figsize=(15,10))\n",
    "n, bins, patches = plt.hist(x=my_z, bins=500, color='#0504aa',\n",
    "                            alpha=0.7, rwidth=1)\n",
    "plt.grid(axis='y', alpha=0.75)\n",
    "plt.yscale('log')\n",
    "plt.xlabel('Redshift')\n",
    "plt.ylabel('Frequency')\n",
    "plt.title('Redshift distribution')\n",
    "maxfreq = n.max()\n",
    "sorted_freq=np.sort(n)\n",
    "#sorted_z\n",
    "#print(n)\n",
    "#print(bins)"
   ]
  },
  {
   "cell_type": "markdown",
   "id": "be3a054c",
   "metadata": {},
   "source": [
    " # Line of Sight"
   ]
  },
  {
   "cell_type": "markdown",
   "id": "bbc403a3",
   "metadata": {},
   "source": [
    "GW221005 zref=1.4999999"
   ]
  },
  {
   "cell_type": "code",
   "execution_count": null,
   "id": "f5297c8c",
   "metadata": {},
   "outputs": [],
   "source": [
    "\n",
    "step=0.15\n",
    "zref=1.499999\n",
    "zmin=0.8\n",
    "inf_range=zref-zmin\n",
    "inf_Nsteps=inf_range/step\n",
    "#print(zmin+inf_Nsteps*step)\n",
    "zmax=2\n",
    "sup_range=zmax-zref\n",
    "sup_Nsteps=sup_range/step\n",
    "#print(zmax-sup_Nsteps*step)\n",
    "zinf=np.zeros(int(inf_Nsteps))\n",
    "zsup=np.zeros(int(sup_Nsteps))\n",
    "for i in range(int(inf_Nsteps)):\n",
    "    zinf[i]=zref-step*i\n",
    "zinf=np.sort(zinf)\n",
    "#print(zinf)\n",
    "#if zref not in zinf:\n",
    "#    zinf=np.append(zinf,zref)\n",
    "for i in range(int(sup_Nsteps)):\n",
    "    zsup[i]=zref+step*i\n",
    "#print(zsup)\n",
    "z_line=np.append(zinf,zsup)\n",
    "z_line=np.unique(z_line)\n",
    "print(z_line)"
   ]
  },
  {
   "cell_type": "code",
   "execution_count": null,
   "id": "19354299",
   "metadata": {},
   "outputs": [],
   "source": [
    "#myglade = pd.read_csv('GLADE_flagship.txt', sep=\" \", header=None)\n",
    "colnames=['numevent','GWGC_name','HyperLEDA_name','2MASS_XSC_name','SDSS-DR12Q_name','type_flag','right_ascension_degrees',\n",
    "          'declination_degrees','dl','err_lum_dist','z','app_B_mag','err_app_B_mag','abs_B_mag','app_J_mag',\n",
    "          'err_app_J_mag','app_H_mag','err_app_H_mag','app_K_mag','err_app_K_mag','lum_dist_flag','pec_vel_correction'\n",
    "          ]\n",
    "myglade = pd.DataFrame(columns = colnames)\n",
    "#myglade.columns=colnames\n",
    "myglade.head(5)"
   ]
  },
  {
   "cell_type": "code",
   "execution_count": null,
   "id": "1e2fe40c",
   "metadata": {},
   "outputs": [],
   "source": [
    "#GW221005\n",
    "offline=2\n",
    "for i in range(len(z_line)):\n",
    "    mynumevent=int(14091028)\n",
    "    myngcup=int(14052269)\n",
    "    GWGC_name='NGC'+ str(myngcup)\n",
    "    HyperLEDA_name=GWGC_name\n",
    "    MASS_XSC_name='NaN'\n",
    "    type_flag='G'\n",
    "    numevent=mynumevent+i\n",
    "    ngcup=myngcup+i\n",
    "    GWGC_name='NGC'+ str(ngcup)\n",
    "    HyperLEDA_name=GWGC_name\n",
    "    ra_fixed=59.9768875192604\n",
    "    if offline==1:\n",
    "        if i==0:\n",
    "            ra_gal=ra_fixed+5\n",
    "        elif i==len(z_line)-1:\n",
    "            ra_gal=ra_fixed-5\n",
    "        else:\n",
    "            ra_gal=ra_fixed\n",
    "    elif offline==2:\n",
    "        if i==0:\n",
    "            ra_gal=ra_fixed+10\n",
    "        elif i==1:\n",
    "            ra_gal=ra_fixed+5\n",
    "        elif i==len(z_line)-2:\n",
    "            ra_gal=ra_fixed-5\n",
    "        elif i==len(z_line)-1:\n",
    "            ra_gal=ra_fixed-10\n",
    "        else:\n",
    "            ra_gal=ra_fixed\n",
    "    dec_gal=60.008985691511455\n",
    "    zz=z_line[i]\n",
    "    #----------dl----------------------\n",
    "    dl=cosmofast.luminosity_distance(zz).value\n",
    "    temp_k_lum=np.random.normal(loc=klum_mean,scale=2*klum_std)\n",
    "    #----------row to append---------------------\n",
    "    proxy_row={'numevent':numevent,'GWGC_name':GWGC_name,'HyperLEDA_name':HyperLEDA_name,\n",
    "           '2MASS_XSC_name':MASS_XSC_name,'SDSS-DR12Q_name':'NaN','type_flag':type_flag,\n",
    "           'right_ascension_degrees':ra_gal,'declination_degrees':dec_gal,'dl':dl,'z':zz,\n",
    "           'app_B_mag':mean_app_B_mag,'err_app_B_mag':err_app_B_mag,'abs_B_mag':'NaN',\n",
    "           'app_J_mag':mean_app_J_mag,'err_app_J_mag':err_app_J_mag,\n",
    "           'app_H_mag':mean_app_H_mag,'err_app_H_mag':err_app_H_mag,\n",
    "           'app_K_mag':14,'err_app_K_mag':0,\n",
    "           'lum_dist_flag':3,'pec_vel_correction':0\n",
    "          }\n",
    "    myglade=myglade.append(proxy_row,ignore_index=True)"
   ]
  },
  {
   "cell_type": "code",
   "execution_count": null,
   "id": "a76217d1",
   "metadata": {},
   "outputs": [],
   "source": [
    "myglade.head(len(z_line))"
   ]
  },
  {
   "cell_type": "code",
   "execution_count": null,
   "id": "95131e22",
   "metadata": {},
   "outputs": [],
   "source": [
    "myglade.to_csv('GLADE_flagship_lineof05_offline2.txt', header=None, index=None, sep=' ')"
   ]
  },
  {
   "cell_type": "markdown",
   "id": "8c97aa7f",
   "metadata": {},
   "source": [
    "#GW221007 zref=1.7"
   ]
  },
  {
   "cell_type": "code",
   "execution_count": null,
   "id": "0ce06e15",
   "metadata": {},
   "outputs": [],
   "source": [
    "step=0.15\n",
    "zref=1.7\n",
    "zmin=0.8\n",
    "inf_range=zref-zmin\n",
    "inf_Nsteps=inf_range/step\n",
    "#print(zmin+inf_Nsteps*step)\n",
    "zmax=2\n",
    "sup_range=zmax-zref\n",
    "sup_Nsteps=sup_range/step\n",
    "#print(zmax-sup_Nsteps*step)\n",
    "zinf=np.zeros(int(inf_Nsteps))\n",
    "zsup=np.zeros(int(sup_Nsteps))\n",
    "for i in range(int(inf_Nsteps)):\n",
    "    zinf[i]=zref-step*i\n",
    "zinf=np.sort(zinf)\n",
    "#print(zinf)\n",
    "#if zref not in zinf:\n",
    "#    zinf=np.append(zinf,zref)\n",
    "for i in range(int(sup_Nsteps)):\n",
    "    zsup[i]=zref+step*i\n",
    "#print(zsup)\n",
    "z_line=np.append(zinf,zsup)\n",
    "z_line=np.unique(z_line)\n",
    "print(z_line)\n",
    "#myglade = pd.read_csv('GLADE_flagship.txt', sep=\" \", header=None)\n",
    "colnames=['numevent','GWGC_name','HyperLEDA_name','2MASS_XSC_name','SDSS-DR12Q_name','type_flag','right_ascension_degrees',\n",
    "          'declination_degrees','dl','err_lum_dist','z','app_B_mag','err_app_B_mag','abs_B_mag','app_J_mag',\n",
    "          'err_app_J_mag','app_H_mag','err_app_H_mag','app_K_mag','err_app_K_mag','lum_dist_flag','pec_vel_correction'\n",
    "          ]\n",
    "myglade = pd.DataFrame(columns = colnames)\n",
    "#myglade.columns=colnames\n",
    "myglade.head(5)"
   ]
  },
  {
   "cell_type": "code",
   "execution_count": null,
   "id": "f457e300",
   "metadata": {},
   "outputs": [],
   "source": [
    "#GW221007\n",
    "offline=2\n",
    "for i in range(len(z_line)):\n",
    "    mynumevent=int(14091028)\n",
    "    myngcup=int(14052269)\n",
    "    GWGC_name='NGC'+ str(myngcup)\n",
    "    HyperLEDA_name=GWGC_name\n",
    "    MASS_XSC_name='NaN'\n",
    "    type_flag='G'\n",
    "    numevent=mynumevent+i\n",
    "    ngcup=myngcup+i\n",
    "    GWGC_name='NGC'+ str(ngcup)\n",
    "    HyperLEDA_name=GWGC_name\n",
    "    ra_fixed=22.546875\n",
    "    if offline==1:\n",
    "        if i==0:\n",
    "            ra_gal=ra_fixed+5\n",
    "        elif i==len(z_line)-1:\n",
    "            ra_gal=ra_fixed-5\n",
    "        else:\n",
    "            ra_gal=ra_fixed\n",
    "    elif offline==2:\n",
    "        if i==0:\n",
    "            ra_gal=ra_fixed+10\n",
    "        elif i==1:\n",
    "            ra_gal=ra_fixed+5\n",
    "        elif i==len(z_line)-2:\n",
    "            ra_gal=ra_fixed-5\n",
    "        elif i==len(z_line)-1:\n",
    "            ra_gal=ra_fixed-10\n",
    "        else:\n",
    "            ra_gal=ra_fixed\n",
    "    dec_gal=44.993880150457116\n",
    "    zz=z_line[i]\n",
    "    #----------dl----------------------\n",
    "    dl=cosmofast.luminosity_distance(zz).value\n",
    "    temp_k_lum=np.random.normal(loc=klum_mean,scale=2*klum_std)\n",
    "    #----------row to append---------------------\n",
    "    proxy_row={'numevent':numevent,'GWGC_name':GWGC_name,'HyperLEDA_name':HyperLEDA_name,\n",
    "           '2MASS_XSC_name':MASS_XSC_name,'SDSS-DR12Q_name':'NaN','type_flag':type_flag,\n",
    "           'right_ascension_degrees':ra_gal,'declination_degrees':dec_gal,'dl':dl,'z':zz,\n",
    "           'app_B_mag':mean_app_B_mag,'err_app_B_mag':err_app_B_mag,'abs_B_mag':'NaN',\n",
    "           'app_J_mag':mean_app_J_mag,'err_app_J_mag':err_app_J_mag,\n",
    "           'app_H_mag':mean_app_H_mag,'err_app_H_mag':err_app_H_mag,\n",
    "           'app_K_mag':14,'err_app_K_mag':0,\n",
    "           'lum_dist_flag':3,'pec_vel_correction':0\n",
    "          }\n",
    "    myglade=myglade.append(proxy_row,ignore_index=True)"
   ]
  },
  {
   "cell_type": "code",
   "execution_count": null,
   "id": "5b9e3351",
   "metadata": {},
   "outputs": [],
   "source": [
    "myglade.head(len(z_line))"
   ]
  },
  {
   "cell_type": "code",
   "execution_count": null,
   "id": "5812c0b9",
   "metadata": {},
   "outputs": [],
   "source": [
    "myglade.to_csv('GLADE_flagship_lineof07_offline2.txt', header=None, index=None, sep=' ')"
   ]
  },
  {
   "cell_type": "markdown",
   "id": "51216a57",
   "metadata": {},
   "source": [
    "GW221003 zref=1"
   ]
  },
  {
   "cell_type": "code",
   "execution_count": null,
   "id": "7679c522",
   "metadata": {},
   "outputs": [],
   "source": [
    "step=0.15\n",
    "zref=1\n",
    "zmin=0.8\n",
    "inf_range=zref-zmin\n",
    "inf_Nsteps=inf_range/step\n",
    "#print(zmin+inf_Nsteps*step)\n",
    "zmax=2\n",
    "sup_range=zmax-zref\n",
    "sup_Nsteps=sup_range/step\n",
    "#print(zmax-sup_Nsteps*step)\n",
    "zinf=np.zeros(int(inf_Nsteps+1))\n",
    "zsup=np.zeros(int(sup_Nsteps+1))\n",
    "for i in range(int(inf_Nsteps+1)):\n",
    "    zinf[i]=zref-step*i\n",
    "zinf=np.sort(zinf)\n",
    "#print(zinf)\n",
    "#if zref not in zinf:\n",
    "#    zinf=np.append(zinf,zref)\n",
    "for i in range(int(sup_Nsteps+1)):\n",
    "    zsup[i]=zref+step*i\n",
    "#print(zsup)\n",
    "z_line=np.append(zinf,zsup)\n",
    "z_line=np.unique(z_line)\n",
    "print(z_line)\n",
    "#myglade = pd.read_csv('GLADE_flagship.txt', sep=\" \", header=None)\n",
    "colnames=['numevent','GWGC_name','HyperLEDA_name','2MASS_XSC_name','SDSS-DR12Q_name','type_flag','right_ascension_degrees',\n",
    "          'declination_degrees','dl','err_lum_dist','z','app_B_mag','err_app_B_mag','abs_B_mag','app_J_mag',\n",
    "          'err_app_J_mag','app_H_mag','err_app_H_mag','app_K_mag','err_app_K_mag','lum_dist_flag','pec_vel_correction'\n",
    "          ]\n",
    "myglade = pd.DataFrame(columns = colnames)\n",
    "#myglade.columns=colnames\n",
    "myglade.head(5)"
   ]
  },
  {
   "cell_type": "code",
   "execution_count": null,
   "id": "b9ee2a53",
   "metadata": {},
   "outputs": [],
   "source": [
    "#GW221003\n",
    "offline=2\n",
    "for i in range(len(z_line)):\n",
    "    mynumevent=int(14091028)\n",
    "    myngcup=int(14052269)\n",
    "    GWGC_name='NGC'+ str(myngcup)\n",
    "    HyperLEDA_name=GWGC_name\n",
    "    MASS_XSC_name='NaN'\n",
    "    type_flag='G'\n",
    "    numevent=mynumevent+i\n",
    "    ngcup=myngcup+i\n",
    "    GWGC_name='NGC'+ str(ngcup)\n",
    "    HyperLEDA_name=GWGC_name\n",
    "    ra_fixed=45\n",
    "    if offline==1:\n",
    "        if i==0:\n",
    "            ra_gal=ra_fixed+5\n",
    "        elif i==len(z_line)-1:\n",
    "            ra_gal=ra_fixed-5\n",
    "        else:\n",
    "            ra_gal=ra_fixed\n",
    "    elif offline==2:\n",
    "        if i==0:\n",
    "            ra_gal=ra_fixed+10\n",
    "        elif i==1:\n",
    "            ra_gal=ra_fixed+5\n",
    "        elif i==len(z_line)-2:\n",
    "            ra_gal=ra_fixed-5\n",
    "        elif i==len(z_line)-1:\n",
    "            ra_gal=ra_fixed-10\n",
    "        else:\n",
    "            ra_gal=ra_fixed\n",
    "    dec_gal=45.043326\n",
    "    zz=z_line[i]\n",
    "    #----------dl----------------------\n",
    "    dl=cosmofast.luminosity_distance(zz).value\n",
    "    temp_k_lum=np.random.normal(loc=klum_mean,scale=2*klum_std)\n",
    "    #----------row to append---------------------\n",
    "    proxy_row={'numevent':numevent,'GWGC_name':GWGC_name,'HyperLEDA_name':HyperLEDA_name,\n",
    "           '2MASS_XSC_name':MASS_XSC_name,'SDSS-DR12Q_name':'NaN','type_flag':type_flag,\n",
    "           'right_ascension_degrees':ra_gal,'declination_degrees':dec_gal,'dl':dl,'z':zz,\n",
    "           'app_B_mag':mean_app_B_mag,'err_app_B_mag':err_app_B_mag,'abs_B_mag':'NaN',\n",
    "           'app_J_mag':mean_app_J_mag,'err_app_J_mag':err_app_J_mag,\n",
    "           'app_H_mag':mean_app_H_mag,'err_app_H_mag':err_app_H_mag,\n",
    "           'app_K_mag':14,'err_app_K_mag':0,\n",
    "           'lum_dist_flag':3,'pec_vel_correction':0\n",
    "          }\n",
    "    myglade=myglade.append(proxy_row,ignore_index=True)"
   ]
  },
  {
   "cell_type": "code",
   "execution_count": null,
   "id": "345ce0cf",
   "metadata": {},
   "outputs": [],
   "source": [
    "myglade.head(len(z_line))"
   ]
  },
  {
   "cell_type": "code",
   "execution_count": null,
   "id": "7612c762",
   "metadata": {},
   "outputs": [],
   "source": [
    "myglade.to_csv('GLADE_flagship_lineof03_offline2.txt', header=None, index=None, sep=' ')"
   ]
  },
  {
   "cell_type": "markdown",
   "id": "6c46b6b1",
   "metadata": {},
   "source": [
    "# Angular Probability Check "
   ]
  },
  {
   "cell_type": "code",
   "execution_count": null,
   "id": "8776db86",
   "metadata": {},
   "outputs": [],
   "source": [
    "sigma_phi=2.2072811544182263\n",
    "step=0.1\n",
    "zref=1.499999\n",
    "zmin=0.8\n",
    "inf_range=zref-zmin\n",
    "inf_Nsteps=inf_range/step\n",
    "#print(zmin+inf_Nsteps*step)\n",
    "zmax=2\n",
    "sup_range=zmax-zref\n",
    "sup_Nsteps=sup_range/step\n",
    "#print(zmax-sup_Nsteps*step)\n",
    "zinf=np.zeros(int(inf_Nsteps))\n",
    "zsup=np.zeros(int(sup_Nsteps))\n",
    "for i in range(int(inf_Nsteps)):\n",
    "    zinf[i]=zref-step*i\n",
    "zinf=np.sort(zinf)\n",
    "#print(zinf)\n",
    "#if zref not in zinf:\n",
    "#    zinf=np.append(zinf,zref)\n",
    "for i in range(int(sup_Nsteps)):\n",
    "    zsup[i]=zref+step*i\n",
    "#print(zsup)\n",
    "z_line=np.append(zinf,zsup)\n",
    "z_line=np.unique(z_line)\n",
    "if len(z_line)>9:\n",
    "    to_cut=len(z_line)-9\n",
    "    z_line=z_line[to_cut:]\n",
    "print(z_line,len(z_line))"
   ]
  },
  {
   "cell_type": "code",
   "execution_count": null,
   "id": "224222ad",
   "metadata": {},
   "outputs": [],
   "source": [
    "#myglade = pd.read_csv('GLADE_flagship.txt', sep=\" \", header=None)\n",
    "colnames=['numevent','GWGC_name','HyperLEDA_name','2MASS_XSC_name','SDSS-DR12Q_name','type_flag','right_ascension_degrees',\n",
    "          'declination_degrees','dl','err_lum_dist','z','app_B_mag','err_app_B_mag','abs_B_mag','app_J_mag',\n",
    "          'err_app_J_mag','app_H_mag','err_app_H_mag','app_K_mag','err_app_K_mag','lum_dist_flag','pec_vel_correction'\n",
    "          ]\n",
    "myglade = pd.DataFrame(columns = colnames)\n",
    "#myglade.columns=colnames\n",
    "myglade.head(5)"
   ]
  },
  {
   "cell_type": "code",
   "execution_count": null,
   "id": "293b790c",
   "metadata": {},
   "outputs": [],
   "source": [
    "for i in range(len(z_line)):\n",
    "    mynumevent=int(14091028)\n",
    "    myngcup=int(14052269)\n",
    "    GWGC_name='NGC'+ str(myngcup)\n",
    "    HyperLEDA_name=GWGC_name\n",
    "    MASS_XSC_name='NaN'\n",
    "    type_flag='G'\n",
    "    numevent=mynumevent+i\n",
    "    ngcup=myngcup+i\n",
    "    GWGC_name='NGC'+ str(ngcup)\n",
    "    HyperLEDA_name=GWGC_name\n",
    "    ra_fixed=59.9768875192604\n",
    "    dec_gal=60.008985691511455\n",
    "    if i==0:\n",
    "        ra_gal=ra_fixed-2*sigma_phi\n",
    "    if i==8:\n",
    "        ra_gal=ra_fixed+2*sigma_phi\n",
    "    if i==1:\n",
    "        ra_gal=ra_fixed-1.5*sigma_phi    \n",
    "    if i==7:\n",
    "        ra_gal=ra_fixed+1.5*sigma_phi\n",
    "    if i==2:\n",
    "        ra_gal=ra_fixed-1*sigma_phi    \n",
    "    if i==6:\n",
    "        ra_gal=ra_fixed+1*sigma_phi\n",
    "    if i==3:\n",
    "        ra_gal=ra_fixed-0.5*sigma_phi    \n",
    "    if i==5:\n",
    "        ra_gal=ra_fixed+0.5*sigma_phi\n",
    "    if i==4:\n",
    "        ra_gal=ra_fixed\n",
    "    zz=z_line[i]\n",
    "    #----------dl----------------------\n",
    "    dl=cosmofast.luminosity_distance(zz).value\n",
    "    temp_k_lum=np.random.normal(loc=klum_mean,scale=2*klum_std)\n",
    "    #----------row to append---------------------\n",
    "    proxy_row={'numevent':numevent,'GWGC_name':GWGC_name,'HyperLEDA_name':HyperLEDA_name,\n",
    "           '2MASS_XSC_name':MASS_XSC_name,'SDSS-DR12Q_name':'NaN','type_flag':type_flag,\n",
    "           'right_ascension_degrees':ra_gal,'declination_degrees':dec_gal,'dl':dl,'z':zz,\n",
    "           'app_B_mag':mean_app_B_mag,'err_app_B_mag':err_app_B_mag,'abs_B_mag':'NaN',\n",
    "           'app_J_mag':mean_app_J_mag,'err_app_J_mag':err_app_J_mag,\n",
    "           'app_H_mag':mean_app_H_mag,'err_app_H_mag':err_app_H_mag,\n",
    "           'app_K_mag':14,'err_app_K_mag':0,\n",
    "           'lum_dist_flag':3,'pec_vel_correction':0\n",
    "          }\n",
    "    myglade=myglade.append(proxy_row,ignore_index=True)\n",
    "myglade.head(len(z_line)+1)"
   ]
  },
  {
   "cell_type": "code",
   "execution_count": null,
   "id": "d4f02147",
   "metadata": {},
   "outputs": [],
   "source": [
    "myglade.to_csv('GLADE_flagship_angulardisp05_newsig.txt', header=None, index=None, sep=' ')"
   ]
  },
  {
   "cell_type": "markdown",
   "id": "1ea680ba",
   "metadata": {},
   "source": [
    "# Automatic Host Placer\n",
    "\n",
    "z_min=0.7887375950813293, z_max=2.0129446983337402\n",
    "ra_min=1.558116673550103e-05, ra_max=89.99999237060547\n",
    "dec_min=2.9646462280652486e-06, dec_max=89.98294830322266\n",
    "phi_min=2.7194266749575036e-07, phi_max=1.5707961320877075\n",
    "theta_min=0.0002976218846182377, theta_max=1.570796275052059"
   ]
  },
  {
   "cell_type": "code",
   "execution_count": null,
   "id": "feb3bab2",
   "metadata": {},
   "outputs": [],
   "source": [
    "'''Reading the datasheet of the GWs'''\n",
    "GW_data_path='/home/rciancarella/DarkSirensStat/data/GW/O3/'\n",
    "os.chdir(GW_data_path)\n",
    "with open('GW2215xx_datasheet.txt','r') as f:\n",
    "    next(f)\n",
    "    lines=f.readlines()\n",
    "    GWs_dl=[]\n",
    "    GWs_theta=[]\n",
    "    GWs_phi=[]\n",
    "    GWs_z=[]\n",
    "    for x in lines:\n",
    "        GWs_dl.append(float(x.split('\\t')[1]))\n",
    "        GWs_theta.append(float(x.split('\\t')[2]))\n",
    "        GWs_phi.append(float(x.split('\\t')[3]))\n",
    "        GWs_z.append(float(x.split('\\t')[4]))\n",
    "    #for i in range(len(GW_z)):\n",
    "        \n",
    "cat_data_path='/home/rciancarella/DarkSirensStat/data/GLADE/'\n",
    "os.chdir(cat_data_path)\n",
    "GWs_dl=np.asarray(GWs_dl)\n",
    "GWs_theta=np.asarray(GWs_theta)\n",
    "GWs_phi=np.asarray(GWs_phi)\n",
    "GWs_z=np.asarray(GWs_z)\n",
    "#--------------from phi, theta to RA DEC the same way as Maggiore---------------------------\n",
    "GWs_ra=np.zeros(len(GWs_phi))\n",
    "GWs_dec=np.zeros(len(GWs_theta))\n",
    "for j in range(len(GWs_phi)):\n",
    "    GWs_ra[j]=np.rad2deg(GWs_phi[j])\n",
    "    GWs_dec[j] = np.rad2deg(0.5 * np.pi - GWs_theta[j])\n",
    "print(GWs_ra)"
   ]
  },
  {
   "cell_type": "code",
   "execution_count": null,
   "id": "a07e6708",
   "metadata": {},
   "outputs": [],
   "source": [
    "'''New cat containing only the true hosts'''\n",
    "colnames=['numevent','GWGC_name','HyperLEDA_name','2MASS_XSC_name','SDSS-DR12Q_name','type_flag','right_ascension_degrees',\n",
    "          'declination_degrees','dl','err_lum_dist','z','app_B_mag','err_app_B_mag','abs_B_mag','app_J_mag',\n",
    "          'err_app_J_mag','app_H_mag','err_app_H_mag','app_K_mag','err_app_K_mag','lum_dist_flag','pec_vel_correction'\n",
    "          ]\n",
    "myglade = pd.DataFrame(columns = colnames)\n",
    "#myglade.columns=colnames\n",
    "myglade.head(5)"
   ]
  },
  {
   "cell_type": "code",
   "execution_count": null,
   "id": "5a2f75f5",
   "metadata": {},
   "outputs": [],
   "source": [
    "for i in range(len(GWs_z)):\n",
    "    mynumevent=int(90000000)\n",
    "    myngcup=int(99000000)\n",
    "    GWGC_name='NGC'+ str(myngcup)\n",
    "    HyperLEDA_name=GWGC_name\n",
    "    MASS_XSC_name='NaN'\n",
    "    type_flag='G'\n",
    "    numevent=mynumevent+i\n",
    "    ngcup=myngcup+i\n",
    "    GWGC_name='NGC'+ str(ngcup)\n",
    "    HyperLEDA_name=GWGC_name\n",
    "    ra_gal=GWs_ra[i]\n",
    "    dec_gal=GWs_dec[i]\n",
    "    zz=GWs_z[i]\n",
    "    #----------dl----------------------\n",
    "    dl=GWs_dl[i]\n",
    "    temp_k_lum=np.random.normal(loc=klum_mean,scale=2*klum_std)\n",
    "    #----------row to append---------------------\n",
    "    proxy_row={'numevent':numevent,'GWGC_name':GWGC_name,'HyperLEDA_name':HyperLEDA_name,\n",
    "           '2MASS_XSC_name':MASS_XSC_name,'SDSS-DR12Q_name':'NaN','type_flag':type_flag,\n",
    "           'right_ascension_degrees':ra_gal,'declination_degrees':dec_gal,'dl':dl,'z':zz,\n",
    "           'app_B_mag':mean_app_B_mag,'err_app_B_mag':err_app_B_mag,'abs_B_mag':'NaN',\n",
    "           'app_J_mag':mean_app_J_mag,'err_app_J_mag':err_app_J_mag,\n",
    "           'app_H_mag':mean_app_H_mag,'err_app_H_mag':err_app_H_mag,\n",
    "           'app_K_mag':14,'err_app_K_mag':0,\n",
    "           'lum_dist_flag':3,'pec_vel_correction':0\n",
    "          }\n",
    "    myglade=myglade.append(proxy_row,ignore_index=True)\n",
    "myglade.tail(len(GWs_z)+10)"
   ]
  },
  {
   "cell_type": "code",
   "execution_count": null,
   "id": "02b8333a",
   "metadata": {},
   "outputs": [],
   "source": [
    "myglade.to_csv('host_of_GW2215xx.txt', header=None, index=None, sep=' ')"
   ]
  },
  {
   "cell_type": "markdown",
   "id": "b40a9954",
   "metadata": {},
   "source": [
    "# Uniform distributed in an Octant\n",
    "\n",
    "https://stackoverflow.com/questions/67285924/random-uniform-3d-distribution-of-points-inside-a-spherical-shell-of-inner-and-o\n",
    "\n",
    "Also made that in DSIRE"
   ]
  },
  {
   "cell_type": "code",
   "execution_count": null,
   "id": "4b4aa2c4",
   "metadata": {},
   "outputs": [],
   "source": [
    "tmp_flag = pd.read_csv('GLADE_flagship.txt', sep=\" \", header=None, low_memory=False)\n",
    "#print(df[20])#pandas lavora al contrario ossia [colonna][riga]\n",
    "colnames=['numevent','GWGC_name','HyperLEDA_name','2MASS_XSC_name','SDSS-DR12Q_name','type_flag','right_ascension_degrees',\n",
    "          'declination_degrees','dl','err_lum_dist','z','app_B_mag','err_app_B_mag','abs_B_mag','app_J_mag',\n",
    "          'err_app_J_mag','app_H_mag','err_app_H_mag','app_K_mag','err_app_K_mag','lum_dist_flag','pec_vel_correction'\n",
    "          ]\n",
    "tmp_flag.columns=colnames"
   ]
  },
  {
   "cell_type": "code",
   "execution_count": null,
   "id": "45df88ee",
   "metadata": {},
   "outputs": [],
   "source": [
    "'''Uniform spherical distribution'''\n",
    "nsamp=int(tmp_flag.shape[0]/2)\n",
    "#nsamp=10000\n",
    "print(nsamp)\n",
    "z_min=tmp_flag['z'].min()\n",
    "z_max=tmp_flag['z'].max()\n",
    "phi_min=2.7194266749575036e-07\n",
    "phi_max=1.5707961320877075\n",
    "theta_min=0.0002976218846182377\n",
    "theta_max=1.570796275052059\n",
    "#------------------points generator------------------\n",
    "u     = np.random.uniform(0,1,size=nsamp) # uniform random vector of size nsamp\n",
    "z_gals     = np.cbrt((u*z_max**3)+((1-u)*z_min**3))\n",
    "phi_gals   = np.random.uniform(phi_min,phi_max,nsamp)\n",
    "theta_gals = np.arccos( np.random.uniform(0,1,nsamp) )"
   ]
  },
  {
   "cell_type": "code",
   "execution_count": null,
   "id": "a06980bf",
   "metadata": {},
   "outputs": [],
   "source": [
    "ra_gals=ra = np.rad2deg(phi_gals)\n",
    "dec_gals = np.rad2deg(0.5 * np.pi - theta_gals)"
   ]
  },
  {
   "cell_type": "code",
   "execution_count": null,
   "id": "cd47bb59",
   "metadata": {},
   "outputs": [],
   "source": [
    "h=0.67\n",
    "mynumevent=int(43495)\n",
    "myngcup=int(4736)\n",
    "GWGC_name='NGC'+ str(myngcup)\n",
    "HyperLEDA_name=GWGC_name\n",
    "MASS_XSC_name='NaN'\n",
    "type_flag='G'\n",
    "proxy_row={'numevent':mynumevent,'GWGC_name':GWGC_name,'HyperLEDA_name':HyperLEDA_name,\n",
    "           '2MASS_XSC_name':MASS_XSC_name,'SDSS-DR12Q_name':'NaN','type_flag':type_flag,\n",
    "           'right_ascension_degrees':0,'declination_degrees':0,'dl':0,'z':0,\n",
    "           'app_B_mag':mean_app_B_mag,'err_app_B_mag':err_app_B_mag,'abs_B_mag':'NaN',\n",
    "           'app_J_mag':mean_app_J_mag,'err_app_J_mag':err_app_J_mag,\n",
    "           'app_H_mag':mean_app_H_mag,'err_app_H_mag':err_app_H_mag,\n",
    "           'app_K_mag':klum_mean+4,'err_app_K_mag':klum_std,\n",
    "           'lum_dist_flag':3,'pec_vel_correction':0\n",
    "          }"
   ]
  },
  {
   "cell_type": "code",
   "execution_count": null,
   "id": "0344e480",
   "metadata": {},
   "outputs": [],
   "source": [
    "colnames=['numevent','GWGC_name','HyperLEDA_name','2MASS_XSC_name','SDSS-DR12Q_name','type_flag','right_ascension_degrees',\n",
    "          'declination_degrees','dl','err_lum_dist','z','app_B_mag','err_app_B_mag','abs_B_mag','app_J_mag',\n",
    "          'err_app_J_mag','app_H_mag','err_app_H_mag','app_K_mag','err_app_K_mag','lum_dist_flag','pec_vel_correction'\n",
    "          ]\n",
    "glade_like = pd.DataFrame(columns=colnames)\n",
    "#glade_like.columns=colnames\n",
    "glade_like.head()"
   ]
  },
  {
   "cell_type": "code",
   "execution_count": null,
   "id": "1b5c063f",
   "metadata": {},
   "outputs": [],
   "source": [
    "#-----------filler-------------------\n",
    "def GLADE_inator_volume(iterations):\n",
    "#for i in tqdm(range(flagship.shape[0])):\n",
    "#for i in range(iterations):\n",
    "    i=iterations\n",
    "    numevent=mynumevent+i\n",
    "    ngcup=myngcup+i\n",
    "    GWGC_name='NGC'+ str(ngcup)\n",
    "    HyperLEDA_name=GWGC_name\n",
    "    ra_gal=ra_gals[i]\n",
    "    dec_gal=dec_gals[i]\n",
    "    zz=z_gals[i]\n",
    "    #----------dl----------------------\n",
    "    dl=cosmofast.luminosity_distance(zz).value\n",
    "    temp_k_lum=np.random.normal(loc=klum_mean,scale=2*klum_std)\n",
    "    #----------row to append---------------------\n",
    "    proxy_row={'numevent':numevent,'GWGC_name':GWGC_name,'HyperLEDA_name':HyperLEDA_name,\n",
    "           '2MASS_XSC_name':MASS_XSC_name,'SDSS-DR12Q_name':'NaN','type_flag':type_flag,\n",
    "           'right_ascension_degrees':ra_gal,'declination_degrees':dec_gal,'dl':dl,'z':zz,\n",
    "           'app_B_mag':mean_app_B_mag,'err_app_B_mag':err_app_B_mag,'abs_B_mag':'NaN',\n",
    "           'app_J_mag':mean_app_J_mag,'err_app_J_mag':err_app_J_mag,\n",
    "           'app_H_mag':mean_app_H_mag,'err_app_H_mag':err_app_H_mag,\n",
    "           'app_K_mag':temp_k_lum,'err_app_K_mag':klum_std,\n",
    "           'lum_dist_flag':3,'pec_vel_correction':0\n",
    "          }\n",
    "    return proxy_row"
   ]
  },
  {
   "cell_type": "code",
   "execution_count": null,
   "id": "f6cc89b5",
   "metadata": {},
   "outputs": [],
   "source": [
    "arr=np.arange(0,nsamp,dtype=int)\n",
    "data=[]\n",
    "tmp=[]\n",
    "start_time = time.time()\n",
    "with Pool(10) as p:\n",
    "    tmp=p.map(GLADE_inator_volume, arr)\n",
    "print(\"--- %s seconds ---\" % (time.time() - start_time))\n",
    "#glade_like.to_csv(r'GLADE_flagship.txt', header=None, index=None, sep=' ', mode='a')"
   ]
  },
  {
   "cell_type": "code",
   "execution_count": null,
   "id": "4b5af1d0",
   "metadata": {},
   "outputs": [],
   "source": [
    "glade_like=glade_like.append(tmp, ignore_index=True)\n",
    "glade_like.tail()"
   ]
  },
  {
   "cell_type": "code",
   "execution_count": null,
   "id": "93f546aa",
   "metadata": {},
   "outputs": [],
   "source": [
    "cat_name='GLADE_flagship_volume.txt'\n",
    "glade_like.to_csv(cat_name, header=None, index=None, sep=' ')"
   ]
  },
  {
   "cell_type": "code",
   "execution_count": null,
   "id": "9a82088d",
   "metadata": {},
   "outputs": [],
   "source": [
    "del tmp\n",
    "del data\n",
    "del ra_gals\n",
    "del dec_gals\n",
    "del u    \n",
    "del z_gals\n",
    "del phi_gals\n",
    "del theta_gals"
   ]
  },
  {
   "cell_type": "code",
   "execution_count": null,
   "id": "e99d0083",
   "metadata": {},
   "outputs": [],
   "source": [
    "tmp_host = pd.read_csv('host_of_GW2214xx.txt', sep=\" \", header=None, low_memory=False)\n",
    "#print(df[20])#pandas lavora al contrario ossia [colonna][riga]\n",
    "colnames=['numevent','GWGC_name','HyperLEDA_name','2MASS_XSC_name','SDSS-DR12Q_name','type_flag','right_ascension_degrees',\n",
    "          'declination_degrees','dl','err_lum_dist','z','app_B_mag','err_app_B_mag','abs_B_mag','app_J_mag',\n",
    "          'err_app_J_mag','app_H_mag','err_app_H_mag','app_K_mag','err_app_K_mag','lum_dist_flag','pec_vel_correction'\n",
    "          ]\n",
    "tmp_host.columns=colnames"
   ]
  },
  {
   "cell_type": "code",
   "execution_count": null,
   "id": "3df59a05",
   "metadata": {},
   "outputs": [],
   "source": [
    "tmp_volume = pd.read_csv('GLADE_flagship_volume_cone14.txt', sep=\" \", header=None, low_memory=False)\n",
    "#print(df[20])#pandas lavora al contrario ossia [colonna][riga]\n",
    "colnames=['numevent','GWGC_name','HyperLEDA_name','2MASS_XSC_name','SDSS-DR12Q_name','type_flag','right_ascension_degrees',\n",
    "          'declination_degrees','dl','err_lum_dist','z','app_B_mag','err_app_B_mag','abs_B_mag','app_J_mag',\n",
    "          'err_app_J_mag','app_H_mag','err_app_H_mag','app_K_mag','err_app_K_mag','lum_dist_flag','pec_vel_correction'\n",
    "          ]\n",
    "tmp_volume.columns=colnames"
   ]
  },
  {
   "cell_type": "code",
   "execution_count": null,
   "id": "e1963a2a",
   "metadata": {},
   "outputs": [],
   "source": [
    "tmp_volume=tmp_volume.append(tmp_host, ignore_index=True)\n",
    "tmp_volume.tail(60)"
   ]
  },
  {
   "cell_type": "code",
   "execution_count": null,
   "id": "fc77aebe",
   "metadata": {},
   "outputs": [],
   "source": [
    "cat_data_path='/home/rciancarella/DarkSirensStat/data/GLADE/'\n",
    "os.chdir(cat_data_path)\n",
    "tmp_volume.to_csv('GLADE_flagship_cone14_host.txt', header=None, index=None, sep=' ')"
   ]
  },
  {
   "cell_type": "code",
   "execution_count": null,
   "id": "343644f4",
   "metadata": {},
   "outputs": [],
   "source": [
    "tmp_volume_host = pd.read_csv('GLADE_flagship_cone14_host.txt', sep=\" \", header=None, low_memory=False)\n",
    "#print(df[20])#pandas lavora al contrario ossia [colonna][riga]\n",
    "colnames=['numevent','GWGC_name','HyperLEDA_name','2MASS_XSC_name','SDSS-DR12Q_name','type_flag','right_ascension_degrees',\n",
    "          'declination_degrees','dl','err_lum_dist','z','app_B_mag','err_app_B_mag','abs_B_mag','app_J_mag',\n",
    "          'err_app_J_mag','app_H_mag','err_app_H_mag','app_K_mag','err_app_K_mag','lum_dist_flag','pec_vel_correction'\n",
    "          ]\n",
    "tmp_volume_host.columns=colnames"
   ]
  },
  {
   "cell_type": "code",
   "execution_count": null,
   "id": "7d8080a1",
   "metadata": {},
   "outputs": [],
   "source": [
    "tmp_volume_host.shape[0]"
   ]
  },
  {
   "cell_type": "markdown",
   "id": "b60920c4",
   "metadata": {},
   "source": [
    "# Cone uniform in volume\n",
    "Sigma_theta=0.019461775056937254, Sigma_phi=0.019461775056937254\n",
    "Sigma_theta=1.115077572595482°, Sigma_phi=1.115077572595482°"
   ]
  },
  {
   "cell_type": "code",
   "execution_count": null,
   "id": "5a6d103c",
   "metadata": {},
   "outputs": [],
   "source": [
    "coneflag = pd.read_csv('GLADE_flagship_volume.txt', sep=\" \", header=None, low_memory=False)\n",
    "#print(df[20])#pandas lavora al contrario ossia [colonna][riga]\n",
    "colnames=['numevent','GWGC_name','HyperLEDA_name','2MASS_XSC_name','SDSS-DR12Q_name','type_flag','right_ascension_degrees',\n",
    "          'declination_degrees','dl','err_lum_dist','z','app_B_mag','err_app_B_mag','abs_B_mag','app_J_mag',\n",
    "          'err_app_J_mag','app_H_mag','err_app_H_mag','app_K_mag','err_app_K_mag','lum_dist_flag','pec_vel_correction'\n",
    "          ]\n",
    "coneflag.columns=colnames"
   ]
  },
  {
   "cell_type": "code",
   "execution_count": null,
   "id": "f7284cbe",
   "metadata": {},
   "outputs": [],
   "source": [
    "colnames=['numevent','GWGC_name','HyperLEDA_name','2MASS_XSC_name','SDSS-DR12Q_name','type_flag','right_ascension_degrees',\n",
    "          'declination_degrees','dl','err_lum_dist','z','app_B_mag','err_app_B_mag','abs_B_mag','app_J_mag',\n",
    "          'err_app_J_mag','app_H_mag','err_app_H_mag','app_K_mag','err_app_K_mag','lum_dist_flag','pec_vel_correction'\n",
    "          ]\n",
    "appendto = pd.DataFrame(columns = colnames)"
   ]
  },
  {
   "cell_type": "code",
   "execution_count": null,
   "id": "02ad60a2",
   "metadata": {},
   "outputs": [],
   "source": [
    "print(GWs_dec)"
   ]
  },
  {
   "cell_type": "code",
   "execution_count": null,
   "id": "bfa729fd",
   "metadata": {},
   "outputs": [],
   "source": [
    "line=GWs_ra[-1]-GWs_ra[0]\n",
    "line=line/2\n",
    "print(line)"
   ]
  },
  {
   "cell_type": "code",
   "execution_count": null,
   "id": "0303bae9",
   "metadata": {},
   "outputs": [],
   "source": [
    "Sigma_theta=1.115077572595482 # deg\n",
    "Sigma_phi=1.115077572595482 # deg\n",
    "#Sigma_theta=0.03852432366181943 # rad\n",
    "#Sigma_phi=0.03852432366181943 # rad\n",
    "\n",
    "tollerance=6*Sigma_phi\n",
    "RA=np.rad2deg(np.pi/4)\n",
    "DEC=30.0\n",
    "inf_ra=GWs_ra[0]-3*Sigma_phi#RA-line-2*Sigma_phi\n",
    "sup_ra=GWs_ra[-1]+3*Sigma_phi\n",
    "inf_dec=DEC-tollerance\n",
    "sup_dec=DEC+tollerance\n",
    "print(inf_ra,sup_ra,inf_dec,sup_dec)\n",
    "reduced_flag=coneflag[coneflag['right_ascension_degrees']>inf_ra]\n",
    "reduced_flag=reduced_flag[reduced_flag['right_ascension_degrees']<sup_ra]\n",
    "reduced_flag=reduced_flag[reduced_flag['declination_degrees']>inf_dec]\n",
    "reduced_flag=reduced_flag[reduced_flag['declination_degrees']<sup_dec]\n",
    "print(coneflag.shape[0],reduced_flag.shape[0],100*reduced_flag.shape[0]/coneflag.shape[0])\n",
    "#reduced_flag.to_csv('Cone3sig_GW05.txt', header=None, index=None, sep=' ')"
   ]
  },
  {
   "cell_type": "code",
   "execution_count": null,
   "id": "c9621e91",
   "metadata": {},
   "outputs": [],
   "source": [
    "mycone=reduced_flag\n",
    "cat_name='GLADE_flagship_volume_cone14.txt'\n",
    "mycone.to_csv(cat_name, header=None, index=None, sep=' ')"
   ]
  },
  {
   "cell_type": "code",
   "execution_count": 4,
   "id": "fbf3bea0",
   "metadata": {},
   "outputs": [],
   "source": [
    "coneflag = pd.read_csv('GLADE_flagship_volume.txt', sep=\" \", header=None, low_memory=False)\n",
    "#'GLADE_flagship_volume_cone14.txt'\n",
    "\n",
    "colnames=['numevent','GWGC_name','HyperLEDA_name','2MASS_XSC_name','SDSS-DR12Q_name','type_flag','right_ascension_degrees',\n",
    "          'declination_degrees','dl','err_lum_dist','z','app_B_mag','err_app_B_mag','abs_B_mag','app_J_mag',\n",
    "          'err_app_J_mag','app_H_mag','err_app_H_mag','app_K_mag','err_app_K_mag','lum_dist_flag','pec_vel_correction'\n",
    "          ]\n",
    "coneflag.columns=colnames"
   ]
  },
  {
   "cell_type": "code",
   "execution_count": 43,
   "id": "d407ee20",
   "metadata": {},
   "outputs": [],
   "source": [
    "allz=np.asarray(coneflag['z'])\n",
    "Num=30\n",
    "position=[]\n",
    "volume=[]\n",
    "step=(np.max(allz)-np.min(allz))/Num\n",
    "start=np.min(allz)\n",
    "for i in range(Num):\n",
    "    tmp=step/2 + start+(step)*i\n",
    "    position.append(tmp)\n",
    "    volume.append(tmp**2)\n",
    "position=np.asarray(position)\n",
    "volume=np.asarray(volume)\n",
    "volume=volume/np.min(volume)\n",
    "tmp=allz[allz<(start+step)]\n",
    "norm=len(tmp)\n",
    "volume=volume*norm"
   ]
  },
  {
   "cell_type": "code",
   "execution_count": 44,
   "id": "fd39bcde",
   "metadata": {},
   "outputs": [
    {
     "data": {
      "image/png": "[encoded data removed]",
      "text/plain": [
       "<Figure size 1080x720 with 1 Axes>"
      ]
     },
     "metadata": {
      "needs_background": "light"
     },
     "output_type": "display_data"
    }
   ],
   "source": [
    "plt.figure(figsize=(15,10))\n",
    "values=coneflag['z'].hist(grid=True, bins=Num, rwidth=0.9,color='#607c8e')\n",
    "plt.xscale('log')\n",
    "plt.yscale('log')\n",
    "plt.title('Check')\n",
    "plt.plot(position,volume,color='r')\n",
    "plt.xlabel('z')\n",
    "plt.ylabel('# of object in a shell')\n",
    "plt.grid(axis='y', alpha=0.75)"
   ]
  },
  {
   "cell_type": "code",
   "execution_count": null,
   "id": "25eb548e",
   "metadata": {},
   "outputs": [],
   "source": []
  }
 ],
 "metadata": {
  "kernelspec": {
   "display_name": "Python 3 (ipykernel)",
   "language": "python",
   "name": "python3"
  },
  "language_info": {
   "codemirror_mode": {
    "name": "ipython",
    "version": 3
   },
   "file_extension": ".py",
   "mimetype": "text/x-python",
   "name": "python",
   "nbconvert_exporter": "python",
   "pygments_lexer": "ipython3",
   "version": "3.10.6"
  }
 },
 "nbformat": 4,
 "nbformat_minor": 5
}
