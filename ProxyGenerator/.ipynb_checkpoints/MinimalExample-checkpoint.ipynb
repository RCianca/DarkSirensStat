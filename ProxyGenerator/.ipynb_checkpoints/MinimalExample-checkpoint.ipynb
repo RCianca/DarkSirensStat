{
 "cells": [
  {
   "cell_type": "code",
   "execution_count": 1,
   "id": "781e4280",
   "metadata": {},
   "outputs": [],
   "source": [
    "import numpy as np\n",
    "import matplotlib.pyplot as plt\n",
    "from scipy import interpolate\n",
    "from scipy import integrate\n",
    "from scipy.optimize import fsolve\n",
    "\n",
    "from astropy.cosmology import FlatLambdaCDM\n",
    "from astropy.table import Table\n",
    "from ligo.skymap.io import fits\n",
    "import healpy as hp\n",
    "\n",
    "import os\n",
    "from os import listdir\n",
    "from os.path import isfile, join\n",
    "\n",
    "from multiprocessing import Pool\n",
    "import time\n",
    "\n",
    "import sys\n",
    "from tqdm import tqdm\n",
    "\n",
    "H0GLOB=67 #69\n",
    "Om0GLOB=0.319\n",
    "Xi0Glob =1.\n",
    "clight = 2.99792458* 10**5#km/s\n",
    "cosmoflag = FlatLambdaCDM(H0=H0GLOB, Om0=Om0GLOB)"
   ]
  },
  {
   "cell_type": "code",
   "execution_count": 2,
   "id": "21199311",
   "metadata": {},
   "outputs": [],
   "source": [
    "#-----------------Functions--------------------------\n",
    "def z_from_dL(dL_val):\n",
    "    '''\n",
    "    Returns redshift for a given luminosity distance dL (in Mpc)'''\n",
    "    \n",
    "    func = lambda z :cosmoflag.luminosity_distance(z).value - dL_val\n",
    "    z = fsolve(func, 0.77)\n",
    "    return z[0]\n",
    "def z_from_dcom(dc_val):\n",
    "    '''\n",
    "    Returns redshift for a given comoving distance dc (in Mpc)'''\n",
    "    \n",
    "    func = lambda z :cosmoflag.comoving_distance(z).value - dc_val\n",
    "    z = fsolve(func, 0.77)\n",
    "    return z[0]\n",
    "\n",
    "def Mises_Fisher(theta,phi,DS_theta,DS_phi,conc):\n",
    "    meanvec=hp.ang2vec(DS_theta,DS_phi)\n",
    "    meanvec=np.asarray(meanvec,dtype=np.float128)\n",
    "    norm=np.sqrt(np.dot(meanvec,meanvec))\n",
    "    meanvec=meanvec/norm\n",
    "    \n",
    "    var=hp.ang2vec(theta,phi)\n",
    "    var=np.asarray(var,dtype=np.float128)\n",
    "    norm=np.sqrt(np.dot(var,var))\n",
    "    var=var/norm\n",
    "    \n",
    "    factor=np.dot(conc*var,meanvec)\n",
    "    factor=np.float128(factor)\n",
    "    #Normalization is futile, we will devide by the sum\n",
    "    #fullnorm=conc/(2*np.pi*(np.exp(conc)-np.exp(-conc)))\n",
    "    ret=np.float128(np.exp(factor))#/fullnorm\n",
    "    #ret=factor\n",
    "    return ret\n",
    "\n",
    "def sphere_uncorr_gauss(x,y,mux,muy,sigx,sigy):\n",
    "    #correlation is 0 so is a multiplication of two gaussians\n",
    "    #x is theta, y is phi\n",
    "    meanvec=hp.ang2vec(mux,muy)\n",
    "    meanvec=np.asarray(meanvec)\n",
    "    norm=np.sqrt(np.dot(meanvec,meanvec))\n",
    "    meanvec=meanvec/norm\n",
    "    \n",
    "    var=hp.ang2vec(x,y)\n",
    "    var=np.asarray(var)\n",
    "    norm=np.sqrt(np.dot(var,var))\n",
    "    var=var/norm\n",
    "    \n",
    "    diff=meanvec-var\n",
    "    diff_len=np.sqrt(np.dot(diff,diff))\n",
    "    #xfactor=((x-mux)/sigx)**2\n",
    "    #yfactor=((y*(1-np.sin(y))-muy*(1-np.sin(muy)))/sigy)**2\n",
    "    #yfactor=((y-muy)/sigy)**2\n",
    "    #norm=2*np.pi*sigx*sigy\n",
    "    factor=((diff_len)/sigy)**2\n",
    "    ret=np.exp(-(1/2)*(factor))#/norm\n",
    "    return ret\n",
    "\n",
    "def beta_line(galaxies,z0,z1,zmax):\n",
    "    denom=len(galaxies[(galaxies>=z0)*(galaxies<=z1)])\n",
    "    num=len(galaxies[galaxies<=zmax])\n",
    "    ret=num/denom\n",
    "    return ret\n",
    "def normalisation(galaxies,zmax):\n",
    "    #is a beta after some simplification with the likelihood\n",
    "    #cat must be complete, omega must be a constant we set that all to 1\n",
    "    ret=len(galaxies[galaxies<=zmax])\n",
    "    return ret\n",
    "\n",
    "def likelihood_line(mu,dl,k=0.1):\n",
    "    sigma=k*mu\n",
    "    norm=1/(np.sqrt(2*np.pi)*sigma)\n",
    "    body=np.exp(-((dl-mu)**2)/(2*sigma**2))\n",
    "    ret=norm*body\n",
    "    return ret\n",
    "\n"
   ]
  },
  {
   "cell_type": "code",
   "execution_count": 17,
   "id": "82bc82f3",
   "metadata": {},
   "outputs": [
    {
     "name": "stdout",
     "output_type": "stream",
     "text": [
      "Sigma phi=0.8410441740067199°,Sigma theta=0.8410441740067199°\n"
     ]
    }
   ],
   "source": [
    "#-----------------Parameter setting--------------------------------\n",
    "H0min=30\n",
    "H0max=140\n",
    "H0Grid=np.linspace(H0min,H0max,1000)\n",
    "nsamp=1500000\n",
    "z_inf_cat=0.79\n",
    "z_sup_cat=2\n",
    "dcom_min=cosmoflag.comoving_distance(z_inf_cat).value\n",
    "dcom_max=cosmoflag.comoving_distance(z_sup_cat).value\n",
    "\n",
    "\n",
    "dl_min=cosmoflag.luminosity_distance(z_inf_cat).value\n",
    "dl_max=cosmoflag.luminosity_distance(z_sup_cat).value\n",
    "betaHomdMax =15978.6#(dl_max-dl_min)/2#15978.6#max dl\n",
    "#---------angular stuff------------------\n",
    "fisher=0\n",
    "#------meses-fisher-------------------------\n",
    "if fisher==1:\n",
    "    radius_deg= np.sqrt(10/np.pi)\n",
    "    sigma90=radius_deg/np.sqrt(2)\n",
    "    sigma_deg=sigma90/1.5\n",
    "    circle_deg=6*sigma_deg\n",
    "    sigma_theta=np.radians(sigma_deg)\n",
    "    sigma_phi=np.radians(sigma_deg)\n",
    "    conc=1/(sigma_phi**2)\n",
    "    print('Fisher concentration Parameter k={}'.format(conc))\n",
    "    print('Sigma phi={}°,Sigma theta={}°'.format(sigma_deg,sigma_deg))\n",
    "else:\n",
    "    #-----------Gaussian-----------------------------------\n",
    "    radius_deg= np.sqrt(10/np.pi)\n",
    "    sigma90=radius_deg/np.sqrt(2)\n",
    "    sigma_deg=sigma90/1.5\n",
    "    circle_deg=6*sigma_deg\n",
    "    sigma_theta=np.radians(sigma_deg)\n",
    "    sigma_phi=np.radians(sigma_deg)\n",
    "    radius_rad=np.radians(circle_deg)\n",
    "    print('Sigma phi={}°,Sigma theta={}°'.format(sigma_deg,sigma_deg))\n",
    "\n",
    "\n",
    "phi_min=0\n",
    "phi_max=phi_min+5*sigma_phi\n",
    "theta_min=0\n",
    "theta_max=theta_min+5*sigma_theta#depends on the arccos 0 to 1 is from pi/2 to 0 -1 to 1 is full range\n",
    "\n",
    "s=0.1\n",
    "DS_z=1.2\n",
    "DS_phi=(phi_max-phi_min)/2\n",
    "DS_theta=(theta_max-theta_min)/2"
   ]
  },
  {
   "cell_type": "code",
   "execution_count": 4,
   "id": "01e9998b",
   "metadata": {},
   "outputs": [
    {
     "name": "stdout",
     "output_type": "stream",
     "text": [
      "1500000 1268166 0.845444\n"
     ]
    }
   ],
   "source": [
    "#------------------points generator------------------\n",
    "u = np.random.uniform(0,1,size=nsamp) # uniform random vector of size nsamp\n",
    "dc_gals_all     = np.cbrt((u*0**3)+((1-u)*dcom_max**3))\n",
    "#dc_gals_all     = (u*dcom_min)+(1-u)*dcom_max\n",
    "phi_gals   = np.random.uniform(phi_min,phi_max,nsamp)\n",
    "theta_gals = np.arccos( np.random.uniform(np.cos(theta_max),1,nsamp) )\n",
    "dc_gals=dc_gals_all[dc_gals_all>=dcom_min]\n",
    "print(len(dc_gals_all),len(dc_gals),len(dc_gals)/len(dc_gals_all))"
   ]
  },
  {
   "cell_type": "code",
   "execution_count": 5,
   "id": "460ff84b",
   "metadata": {},
   "outputs": [],
   "source": [
    "np.savetxt('Fullcat_dcgals.txt',dc_gals)\n",
    "np.savetxt('Fullcat_phigals.txt',phi_gals)\n",
    "np.savetxt('Fullcat_thetagals.txt',theta_gals)"
   ]
  },
  {
   "cell_type": "code",
   "execution_count": 6,
   "id": "4e214b4e",
   "metadata": {},
   "outputs": [
    {
     "name": "stdout",
     "output_type": "stream",
     "text": [
      "8543.506112648105 8543.506112648105 1.2\n"
     ]
    }
   ],
   "source": [
    "mu=cosmoflag.luminosity_distance(DS_z).value\n",
    "real_mu=mu\n",
    "#mu=np.random.normal(real_mu,s*real_mu)\n",
    "print(real_mu,mu,DS_z)"
   ]
  },
  {
   "cell_type": "code",
   "execution_count": 32,
   "id": "0e4f3cfb",
   "metadata": {},
   "outputs": [
    {
     "name": "stdout",
     "output_type": "stream",
     "text": [
      "size was not 0, host added\n"
     ]
    }
   ],
   "source": [
    "nsamp=2500\n",
    "new_dc_gals=np.random.choice(dc_gals,nsamp)\n",
    "new_phi_gals=np.random.choice(phi_gals,nsamp)\n",
    "new_theta_gals=np.random.choice(theta_gals,nsamp)\n",
    "z_gals=np.zeros(len(new_dc_gals))\n",
    "dl_gals=np.zeros(len(new_dc_gals))\n",
    "\n",
    "for i in range(len(new_dc_gals)):\n",
    "    z_gals[i]=z_from_dcom(new_dc_gals[i])\n",
    "    dl_gals[i]=cosmoflag.luminosity_distance(new_dc_gals[i]).value\n",
    "#----------------DS creation-------------------------------\n",
    "\n",
    "if not (DS_z in z_gals)*(DS_phi in new_phi_gals)*(DS_theta in new_theta_gals): \n",
    "    if not z_gals.size:\n",
    "        z_gals=np.zeros(1)\n",
    "        dl_gals=np.zeros(1)\n",
    "        z_gals[0]=DS_z\n",
    "        dl_gals[0]=real_mu\n",
    "        new_phi_gals[0]=DS_phi\n",
    "        new_theta_gals[0]=DS_theta\n",
    "        print('size was 0, host added')\n",
    "    else:\n",
    "        z_gals=np.append(z_gals,DS_z)\n",
    "        dl_gals=np.append(dl_gals,real_mu)\n",
    "        new_phi_gals=np.append(new_phi_gals,DS_phi)\n",
    "        new_theta_gals=np.append(new_theta_gals,DS_theta)\n",
    "        print('size was not 0, host added')\n",
    "np.savetxt('Extractedcat_zgals.txt',z_gals)\n",
    "np.savetxt('Extractedcat_dcgals.txt',dc_gals)\n",
    "np.savetxt('Extractedcat_phigals.txt',new_phi_gals)\n",
    "np.savetxt('Extractedcat_thetagals.txt',new_theta_gals)"
   ]
  },
  {
   "cell_type": "markdown",
   "id": "855b7898",
   "metadata": {},
   "source": [
    "# Testing our distributions"
   ]
  },
  {
   "cell_type": "code",
   "execution_count": null,
   "id": "fb2fe56b",
   "metadata": {},
   "outputs": [],
   "source": [
    "#-----------------test the uniform distribution\n",
    "position=[]\n",
    "volume=[]\n",
    "numobj=[]\n",
    "\n",
    "Nbis=15\n",
    "step=(np.max(dc_gals_all)-np.min(dc_gals_all))/Nbis\n",
    "start=np.min(dc_gals_all)\n",
    "for i in range(Nbis):\n",
    "    dcsup=step/2 +start+(step)*i\n",
    "    position.append(dcsup)\n",
    "    tmp=dc_gals_all[dc_gals_all<dcsup]\n",
    "    numobj.append(len(tmp))\n",
    "    volume.append(dcsup**3)\n",
    "position=np.asarray(position)\n",
    "volume=np.asarray(volume)\n",
    "numobj=np.asarray(numobj)\n",
    "volume=volume/np.min(volume)\n",
    "norm=numobj[0]\n",
    "volume=volume*norm"
   ]
  },
  {
   "cell_type": "code",
   "execution_count": null,
   "id": "2725c564",
   "metadata": {},
   "outputs": [],
   "source": [
    "plt.rcParams.update({'font.size': 20})\n",
    "plt.figure(figsize=(15,10))\n",
    "#n, bins, patches = plt.hist(x=numobj,grid=True, bins=Num, rwidth=0.9,color='#607c8e')\n",
    "plt.xscale('log')\n",
    "plt.yscale('log')\n",
    "plt.title('Check')\n",
    "plt.scatter(position,numobj,s=100, marker='+', c='k', zorder=10 )\n",
    "plt.plot(position,volume,color='g')\n",
    "plt.xlabel('dc')\n",
    "plt.ylabel('# of object in a sphere')\n",
    "plt.grid(axis='y', alpha=0.75)"
   ]
  },
  {
   "cell_type": "code",
   "execution_count": null,
   "id": "2e117ac8",
   "metadata": {},
   "outputs": [],
   "source": [
    "n, bins, patches = plt.hist(x=phi_gals, bins=10, color='#0504aa',\n",
    "                            alpha=0.7, rwidth=0.85)\n",
    "plt.grid(axis='y', alpha=0.75)\n",
    "plt.xlabel('Value')\n",
    "plt.ylabel('Frequency')\n",
    "plt.title('Phi Dist')"
   ]
  },
  {
   "cell_type": "code",
   "execution_count": null,
   "id": "8b4653e7",
   "metadata": {},
   "outputs": [],
   "source": [
    "n, bins, patches = plt.hist(x=np.cos(theta_gals), bins=10, color='#0504aa',\n",
    "                            alpha=0.7, rwidth=0.85)\n",
    "plt.grid(axis='y', alpha=0.75)\n",
    "plt.xlabel('Value')\n",
    "plt.ylabel('Frequency')\n",
    "plt.title('Cos Theta dist')"
   ]
  },
  {
   "cell_type": "code",
   "execution_count": null,
   "id": "fd702172",
   "metadata": {},
   "outputs": [],
   "source": [
    "#------------Mises_Fisher-----------------\n",
    "Ntest=15000\n",
    "phi_test   = np.random.uniform(phi_min,phi_max,Ntest)\n",
    "theta_test = np.arccos(np.random.uniform(np.cos(theta_max),1,Ntest))\n",
    "print('Fisher is {}, make sure to use the right routine!'.format(fisher))\n",
    "if fisher==1:\n",
    "    values=np.float128(np.zeros(Ntest))\n",
    "else:\n",
    "    values=np.zeros(Ntest)\n",
    "\n",
    "for i in tqdm(range(Ntest)):\n",
    "    values[i]=sphere_uncorr_gauss(phi_test[i],theta_test[i],DS_phi,DS_theta,sigma_phi,sigma_theta)"
   ]
  },
  {
   "cell_type": "code",
   "execution_count": null,
   "id": "8cc54d05",
   "metadata": {},
   "outputs": [],
   "source": [
    "#fix the polar visualisation\n",
    "from mpl_toolkits.mplot3d import Axes3D\n",
    "from matplotlib import cm\n",
    "from matplotlib.ticker import LinearLocator, FormatStrFormatter\n",
    "values=values/np.max(values)\n",
    "\n",
    "fig = plt.figure()\n",
    "ax = fig.gca(projection='3d')\n",
    "\n",
    "#print(values)\n",
    "\n",
    "surf = ax.plot_trisurf(phi_test, theta_test, values,linewidth=1, antialiased=False)\n",
    "\n",
    "ax.zaxis.set_major_locator(LinearLocator(14))\n",
    "ax.zaxis.set_major_formatter(FormatStrFormatter('%.02f'))\n",
    "\n",
    "fig.colorbar(surf, shrink=0.5, aspect=5)"
   ]
  },
  {
   "cell_type": "markdown",
   "id": "1999e3e2",
   "metadata": {},
   "source": [
    "# Computing the likelihood\n",
    "\n",
    "$$\n",
    " L(D_{gw}|H_0)=\\frac{1}{\\sum_{z_{\\alpha}<z_{max} }\\omega_{\\alpha}}\\sum_{\\alpha}^{N(R)}\\omega_{\\alpha}\\frac{\\rho}{\\sqrt{2\\pi}\\sigma}e^{-\\frac{(dl_{\\alpha}-\\mu)^2}{2\\sigma^2}}\n",
    "$$\n",
    "$$\n",
    "\\omega_{\\alpha}=1; \\forall\\alpha\\,\\, \\rho=1\n",
    "$$"
   ]
  },
  {
   "cell_type": "code",
   "execution_count": 33,
   "id": "987d63c0",
   "metadata": {},
   "outputs": [],
   "source": [
    "arr=np.arange(0,len(H0Grid),dtype=int)\n",
    "beta=np.zeros(len(H0Grid))\n",
    "My_Like=np.zeros(len(H0Grid))\n"
   ]
  },
  {
   "cell_type": "code",
   "execution_count": 38,
   "id": "74279198",
   "metadata": {},
   "outputs": [],
   "source": [
    "def LikeofH0(iterator):\n",
    "    i=iterator\n",
    "    Htemp=H0Grid[i]\n",
    "    #norm=integrate.quad(lambda x:  FlatLambdaCDM(H0=Htemp, Om0=Om0GLOB).differential_comoving_volume(x).value, 0, 10 )[0]\n",
    "    #----------computing sum\n",
    "    to_sum=np.zeros(len(z_gals))\n",
    "    for j in range(len(z_gals)):\n",
    "        dl=FlatLambdaCDM(H0=Htemp, Om0=Om0GLOB).luminosity_distance(z_gals[j]).value\n",
    "        angular_prob=sphere_uncorr_gauss(new_phi_gals[j],new_theta_gals[j],DS_phi,DS_theta,sigma_phi,sigma_theta)\n",
    "        to_sum[j]=likelihood_line(mu,dl,s)*angular_prob#*norm\n",
    "    tmp=np.sum(to_sum)#*norm\n",
    "    return tmp\n",
    "def multibeta(iterator):\n",
    "    i=iterator\n",
    "    Htemp=H0Grid[i]\n",
    "    cosmo=FlatLambdaCDM(H0=Htemp, Om0=Om0GLOB)\n",
    "    func = lambda z :cosmo.luminosity_distance(z).value - betaHomdMax\n",
    "    zmax = fsolve(func, 0.6)[0]\n",
    "    Num=normalisation(z_gals,zmax)\n",
    "    if Num==0:\n",
    "        Num=Num+1\n",
    "    return Num\n",
    "\n",
    "def vol_beta(iterator):\n",
    "    i=iterator\n",
    "    Htemp=H0Grid[i]\n",
    "    cosmo=FlatLambdaCDM(H0=Htemp, Om0=Om0GLOB)\n",
    "    func = lambda z :cosmo.luminosity_distance(z).value - betaHomdMax\n",
    "    zMax = fsolve(func, 0.77)[0]        \n",
    "    norm = integrate.quad(lambda x: cosmo.differential_comoving_volume(x).value,0,10)[0]\n",
    "    num = integrate.quad(lambda x:cosmo.differential_comoving_volume(x).value,0,zMax)[0]\n",
    "    return num/norm"
   ]
  },
  {
   "cell_type": "code",
   "execution_count": 39,
   "id": "a3445bcb",
   "metadata": {},
   "outputs": [
    {
     "name": "stdout",
     "output_type": "stream",
     "text": [
      "I am Doing my best, please wait...\n",
      "--- 222.18762612342834 seconds ---\n"
     ]
    }
   ],
   "source": [
    "start_time = time.time()\n",
    "#s=0.01 #to do mixed runs\n",
    "print('I am Doing my best, please wait...')\n",
    "with Pool(14) as p:\n",
    "    My_Like=p.map(LikeofH0, arr)\n",
    "    beta=p.map(vol_beta, arr)\n",
    "print(\"--- %s seconds ---\" % (time.time() - start_time))\n",
    "My_Like=np.asarray(My_Like)\n",
    "beta=np.asarray(beta)"
   ]
  },
  {
   "cell_type": "code",
   "execution_count": 40,
   "id": "ae8241c9",
   "metadata": {},
   "outputs": [],
   "source": [
    "Beta=interpolate.CubicSpline(H0Grid,beta)"
   ]
  },
  {
   "cell_type": "code",
   "execution_count": 41,
   "id": "82b04e11",
   "metadata": {},
   "outputs": [
    {
     "data": {
      "text/plain": [
       "[<matplotlib.lines.Line2D at 0x7fb6d3b339a0>]"
      ]
     },
     "execution_count": 41,
     "metadata": {},
     "output_type": "execute_result"
    },
    {
     "data": {
      "image/png": "[encoded data removed]",
      "text/plain": [
       "<Figure size 1080x720 with 1 Axes>"
      ]
     },
     "metadata": {
      "needs_background": "light"
     },
     "output_type": "display_data"
    }
   ],
   "source": [
    "xmin=float(H0Grid[0])\n",
    "xmax=float(H0Grid[-1])\n",
    "x=H0Grid\n",
    "href=67\n",
    "fig, ax = plt.subplots(1, figsize=(15,10)) #crea un tupla che poi è più semplice da gestire\n",
    "ax.tick_params(axis='both', which='major', labelsize=14)\n",
    "ax.yaxis.get_offset_text().set_fontsize(14)\n",
    "ax.grid(linestyle='dotted', linewidth='0.6')#griglia in sfondo\n",
    "\n",
    "ax.set_xlabel(r'$H_0$', fontsize=15)\n",
    "#ax.set_ylabel(r'$P(H_0)$', fontsize=20)\n",
    "ax.set_ylabel(r'$Likelihood$', fontsize=20)\n",
    "if xmin<href<xmax:\n",
    "    ax.axvline(x = href, color = 'k', linestyle='dashdot',label = 'H0=67')\n",
    "#ax.axhline(y=np.max(My_Like)/np.trapz(My_Like,x),color = 'k', linestyle='dashdot')\n",
    "ax.plot(x,(My_Like/beta)/np.trapz(My_Like/beta,x),label='10% uncertainty',color='#671D5B',\n",
    "        linestyle='solid',linewidth=3)\n",
    "#ax.set_ylabel(r'$Beta$', fontsize=20)\n",
    "#ax.set_xscale('log')\n",
    "#ax.set_yscale('log')\n",
    "#data_path='/home/rciancarella/DarkSirensStat/results/GW33_Enzo_sig10samesig_11/'\n",
    "#os.chdir(data_path)\n",
    "#xx=np.loadtxt('H0_grid.txt')#x\n",
    "#event='GW330320'\n",
    "#bbeta=np.loadtxt(event+'_betaH0.txt')\n",
    "#ax.plot(x,Beta(x)/Beta(x[0]),label='10% uncertainty',color='#004b49',\n",
    "#        linestyle='solid',linewidth=3)\n",
    "#ax.plot(xx,bbeta/bbeta[0],label='10% uncertainty',color='#17EA1E',\n",
    "#        linestyle='solid',linewidth=3)\n",
    "\n",
    "#Nice-colours:\n",
    "#671D5B---violet\n",
    "#004b49---dark petrol\n",
    "#17EA1E---Eva01 green"
   ]
  },
  {
   "cell_type": "code",
   "execution_count": null,
   "id": "797bdf43",
   "metadata": {},
   "outputs": [],
   "source": [
    "dist=(My_Like/beta)/np.trapz(My_Like/beta,x)\n",
    "mean=np.trapz(x*dist,x)/np.trapz(dist,x)\n",
    "std=np.sqrt(np.trapz(dist*(x-mean)**2,x)/np.trapz(dist,x))\n",
    "#std=np.sqrt(np.sum((My_Like-mean)**2)/len(My_Like))"
   ]
  },
  {
   "cell_type": "code",
   "execution_count": null,
   "id": "412f5726",
   "metadata": {},
   "outputs": [],
   "source": [
    "print('mean={},std={}'.format(mean,std))"
   ]
  },
  {
   "cell_type": "code",
   "execution_count": null,
   "id": "3606c1d9",
   "metadata": {},
   "outputs": [],
   "source": [
    "save=0\n",
    "if save==1:\n",
    "    res_path='/home/rciancarella/DarkSirensStat/ProxyGenerator'\n",
    "    os.chdir(res_path)\n",
    "    np.savetxt('Post_sigma10.txt',dist)\n",
    "    #np.savetxt('myh0grid.txt',x)"
   ]
  },
  {
   "cell_type": "code",
   "execution_count": null,
   "id": "151f4e3f",
   "metadata": {},
   "outputs": [],
   "source": []
  },
  {
   "cell_type": "code",
   "execution_count": null,
   "id": "bd914dd2",
   "metadata": {},
   "outputs": [],
   "source": []
  }
 ],
 "metadata": {
  "kernelspec": {
   "display_name": "Python 3 (ipykernel)",
   "language": "python",
   "name": "python3"
  },
  "language_info": {
   "codemirror_mode": {
    "name": "ipython",
    "version": 3
   },
   "file_extension": ".py",
   "mimetype": "text/x-python",
   "name": "python",
   "nbconvert_exporter": "python",
   "pygments_lexer": "ipython3",
   "version": "3.10.6"
  }
 },
 "nbformat": 4,
 "nbformat_minor": 5
}
