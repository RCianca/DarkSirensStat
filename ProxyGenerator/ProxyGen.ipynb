{
 "cells": [
  {
   "cell_type": "code",
   "execution_count": 1,
   "id": "9abeb70a",
   "metadata": {},
   "outputs": [
    {
     "name": "stderr",
     "output_type": "stream",
     "text": [
      "WARNING: AstropyDeprecationWarning: The get_cosmology_from_string method is deprecated and may be removed in a future version.\n",
      "        Use get instead. [ligo.skymap.postprocess.cosmology]\n"
     ]
    }
   ],
   "source": [
    "import pandas as pd\n",
    "import numpy as np\n",
    "import healpy as hp\n",
    "import matplotlib.pyplot as plt\n",
    "\n",
    "from astropy.cosmology import Planck15\n",
    "from astropy.cosmology import FlatLambdaCDM\n",
    "from astropy.table import Table\n",
    "import astropy \n",
    "from ligo.skymap.io import fits\n",
    "from ligo.skymap.postprocess import find_greedy_credible_levels\n",
    "\n",
    "import os\n",
    "from os import listdir\n",
    "from os.path import isfile, join\n",
    "\n",
    "import sys\n",
    "\n",
    "H0GLOB=67 #69\n",
    "Om0GLOB=0.319\n",
    "Xi0Glob =1.\n",
    "cosmoglob = Planck15\n",
    "clight = 2.99792458* 10**5#km/s\n",
    "cosmoflag = FlatLambdaCDM(H0=H0GLOB, Om0=Om0GLOB)\n"
   ]
  },
  {
   "cell_type": "code",
   "execution_count": 9,
   "id": "b46975ce",
   "metadata": {},
   "outputs": [],
   "source": [
    "def get_ename(fname, verbose=True):\n",
    "\n",
    "        if len(fname.split('/')[-1].split('_')) <= 2:    #Same as before since certain names contain a \"_\"\n",
    "            event_name = fname.split('/')[-1].split('_')[0]\n",
    "        elif len(fname.split('/')[-1].split('_')) > 2:\n",
    "            event_name = fname.split('/')[-1].split('_')[0]+'_'+fname.split('/')[-1].split('_')[1]\n",
    "        else:\n",
    "            raise ValueError('Could not set event name. Got fname= %s'%fname)\n",
    "        if verbose:\n",
    "            print('-- %s' %event_name)\n",
    "        return event_name\n",
    "    \n",
    "def find_ra_dec(nside, pix):\n",
    "        '''\n",
    "        input:  pixel ra dec in degrees\n",
    "        output: (ra, dec) of pixel center in degrees, with nside given by that of the skymap \n",
    "        '''\n",
    "        theta, phi =find_theta_phi(nside,pix)\n",
    "        ra, dec = ra_dec_from_th_phi(theta, phi)\n",
    "        return ra, dec    \n",
    "    \n",
    "def ra_dec_from_th_phi(theta, phi):\n",
    "        ra = np.rad2deg(phi)\n",
    "        dec = np.rad2deg(0.5 * np.pi - theta)\n",
    "        return ra, dec\n",
    "    \n",
    "def find_theta_phi(nside, pix):\n",
    "        '''\n",
    "        input:  pixel\n",
    "        output: (theta, phi)of pixel center in rad, with nside given by that of the skymap \n",
    "        '''\n",
    "        return hp.pix2ang(nside, pix, nest=True)\n",
    "    \n",
    "def _read_O3( fname, convert_nested=True):\n",
    "        \n",
    "        skymap, metadata = fits.read_sky_map(fname, nest=None, distances=True) #Read the skymap\n",
    "        event_name = get_ename(fname, verbose=True)\n",
    "        print('Event: %s' %event_name)\n",
    "        if (convert_nested) & (metadata['nest']): #If one wants RING ordering (the one of O2 data afaik) just has to set \"convert_nested\" to True\n",
    "            p_posterior = hp.reorder(skymap[0],n2r=True)\n",
    "            mu = hp.reorder(skymap[1],n2r=True)\n",
    "            sigma = hp.reorder(skymap[2],n2r=True)\n",
    "            posteriorNorm = hp.reorder(skymap[3],n2r=True)\n",
    "            print('convertito da nested a ring')\n",
    "        else:\n",
    "            p_posterior= skymap[0]\n",
    "            mu= skymap[1]\n",
    "            sigma = skymap[2]\n",
    "            posteriorNorm= skymap[3]        \n",
    "        npix = len(p_posterior)\n",
    "        nside=hp.npix2nside(npix)\n",
    "        theta,phi=find_theta_phi(nside,np.argmax(p_posterior))\n",
    "        #print('Theta={}, Phi={}'.format(theta, phi))\n",
    "        #ra, dec=find_ra_dec(nside,np.argmax(p_posterior))\n",
    "        #print('Right Ascension={}, Declination={}'.format(ra, dec))\n",
    "        #print(metadata)\n",
    "        #dl=metadata['distmean']\n",
    "        #std=metadata['diststd']\n",
    "        #z=cosmoglob.H(0).value*dl/clight\n",
    "        #sigz=cosmoglob.H(0).value*std/clight\n",
    "        #print('dL={}Mpc, std={}Mpc'.format(dl,std))\n",
    "        #print('z={}, delta_z={}'.format(z,sigz))\n",
    "        #print('\\n')\n",
    "        head = None\n",
    "def z_from_dL(dL_GW_val):\n",
    "    '''\n",
    "    Returns redshift for a given luminosity distance dL_GW_val (in Mpc)\n",
    "    \n",
    "    Input:\n",
    "        - dL_GW_val luminosity dist in Mpc\n",
    "        - H0\n",
    "        - Xi0: float. Value of Xi_0\n",
    "        - n: float. Value of n\n",
    "\n",
    "    '''   \n",
    "    from scipy.optimize import fsolve\n",
    "    #print(cosmo.H0)\n",
    "    func = lambda z : cosmoflag.luminosity_distance(z).value - dL_GW_val\n",
    "    z = fsolve(func, 1)\n",
    "    return z[0]"
   ]
  },
  {
   "cell_type": "code",
   "execution_count": null,
   "id": "2bbf2760",
   "metadata": {},
   "outputs": [],
   "source": [
    "ra_dec_from_th_phi(np.pi/4,np.pi/4)"
   ]
  },
  {
   "cell_type": "code",
   "execution_count": 3,
   "id": "ec25c485",
   "metadata": {},
   "outputs": [],
   "source": [
    "#GWdata path\n",
    "GW_data_path='/home/rciancarella/DarkSirensStat/data/GW/O3/'\n",
    "os.chdir(GW_data_path)\n",
    "#all_event=os.listdir()\n"
   ]
  },
  {
   "cell_type": "markdown",
   "id": "24d9987e",
   "metadata": {},
   "source": [
    "  # Function to exploit, find how to localise an event and produce a proxy one. \n",
    "   def _read_O3(self, fname, convert_nested=True):\n",
    "        \n",
    "   skymap, metadata = fits.read_sky_map(fname, nest=None, distances=True) #Read the skymap\n",
    "        self.event_name = get_ename(fname, verbose=self.verbose)\n",
    "        if self.verbose:\n",
    "                print('\\nEvent: %s' %self.event_name)\n",
    "                #Raul: prints for control\n",
    "                print('Delta=%s. If delta=1, normal run '%delta)\n",
    "        if (convert_nested) & (metadata['nest']): #If one wants RING ordering (the one of O2 data afaik) just has to set \"convert_nested\" to True\n",
    "            self.p_posterior = hp.reorder(skymap[0],n2r=True)\n",
    "            self.mu = hp.reorder(skymap[1],n2r=True)\n",
    "            self.sigma = hp.reorder(skymap[2],n2r=True)*delta\n",
    "            self.posteriorNorm = hp.reorder(skymap[3],n2r=True)\n",
    "        else:\n",
    "            self.p_posterior= skymap[0]\n",
    "            self.mu= skymap[1]\n",
    "            self.sigma = skymap[2]*delta\n",
    "            self.posteriorNorm= skymap[3]    "
   ]
  },
  {
   "cell_type": "code",
   "execution_count": 5,
   "id": "8c88ee72",
   "metadata": {},
   "outputs": [],
   "source": [
    "#Some files to look at \n",
    "filenames=['GW190814_PublicationSamples.fits',\n",
    "           'GW190924_021846_PublicationSamples.fits',\n",
    "           'GW190412_PublicationSamples.fits',\n",
    "           'GW190915_235702_PublicationSamples.fits',\n",
    "           'GW190708_232457_PublicationSamples.fits',\n",
    "           'GW190421_213856_PublicationSamples.fits',\n",
    "           'GW190527_092055_PublicationSamples.fits' \n",
    "           ]\n",
    "########################## THIS GIVE US SOME INFO ######################################\n",
    "#for name in filenames:\n",
    "#    _read_O3(name)\n",
    "########################################################################################\n",
    "fname ='GW190814_PublicationSamples.fits'\n",
    "skymap, metadata = fits.read_sky_map(fname, nest=None, distances=True)"
   ]
  },
  {
   "cell_type": "code",
   "execution_count": 6,
   "id": "88daccbc",
   "metadata": {},
   "outputs": [
    {
     "name": "stdout",
     "output_type": "stream",
     "text": [
      "RA=12.7001953125,dec=-24.87076339473571,theta=2.004873035517517,phi=0.22166022384947515\n",
      "Dl=235.45665178530027\n",
      "average luminosity distance Sigma=26.530261090991182 Mpc\n"
     ]
    }
   ],
   "source": [
    "p_posterior= skymap[0]\n",
    "mu= skymap[1]\n",
    "sigma = skymap[2]\n",
    "posteriorNorm= skymap[3]        \n",
    "npix = len(p_posterior)\n",
    "nside=hp.npix2nside(npix)\n",
    "theta,phi=find_theta_phi(nside,np.argmax(p_posterior))\n",
    "ra, dec=find_ra_dec(nside,np.argmax(p_posterior))\n",
    "print('RA={},dec={},theta={},phi={}'.format(ra,dec,theta,phi))\n",
    "#10 deg^2 =0.000 304 617 419 786 71 sr\n",
    "radius_deg= np.sqrt(30/np.pi)\n",
    "sigma_deg=radius_deg/2.8\n",
    "circle_deg=6*sigma_deg\n",
    "print('Dl={}'.format(mu[np.argmax(p_posterior)]))\n",
    "sig_avr=np.average(sigma,weights=p_posterior)\n",
    "print('average luminosity distance Sigma={} Mpc'.format(sig_avr))"
   ]
  },
  {
   "cell_type": "code",
   "execution_count": null,
   "id": "47a725a0",
   "metadata": {},
   "outputs": [],
   "source": [
    "print(npix)"
   ]
  },
  {
   "cell_type": "code",
   "execution_count": null,
   "id": "2990bc07",
   "metadata": {},
   "outputs": [],
   "source": [
    "print()"
   ]
  },
  {
   "cell_type": "code",
   "execution_count": null,
   "id": "b6ea4dcc",
   "metadata": {},
   "outputs": [],
   "source": [
    "my_theta,my_phi=hp.pix2ang(nside, np.argmax(p_posterior), nest=True)\n",
    "vec = hp.ang2vec(my_theta, my_phi)\n",
    "my_maxpix=hp.ang2pix(nside, my_theta, my_phi,nest=True)\n",
    "maxpix=np.argmax(p_posterior)\n",
    "print(maxpix,my_maxpix)"
   ]
  },
  {
   "cell_type": "code",
   "execution_count": null,
   "id": "2d819853",
   "metadata": {},
   "outputs": [],
   "source": [
    "print(vec)"
   ]
  },
  {
   "cell_type": "code",
   "execution_count": null,
   "id": "efdfa4b7",
   "metadata": {},
   "outputs": [],
   "source": [
    "hp.mollview(p_posterior, title=fname,nest=True)"
   ]
  },
  {
   "cell_type": "code",
   "execution_count": null,
   "id": "59e0ee66",
   "metadata": {},
   "outputs": [],
   "source": [
    "credible_levels = find_greedy_credible_levels(p_posterior)\n",
    "Ligo_Area_99_deg=np.sum(credible_levels <= 0.99) * hp.nside2pixarea(nside, degrees=True)\n",
    "Ligo_Area_90_deg=np.sum(credible_levels <= 0.9) * hp.nside2pixarea(nside, degrees=True)\n",
    "print('Ligo area_deg 99% is {}\\nLigo area_deg 90% is {} '.format(Ligo_Area_99_deg,Ligo_Area_90_deg))"
   ]
  },
  {
   "cell_type": "code",
   "execution_count": null,
   "id": "f247f052",
   "metadata": {},
   "outputs": [],
   "source": [
    "vec = hp.ang2vec(my_theta, my_phi)\n",
    "ipix_disc = hp.query_disc(nside=nside, vec=vec, radius=np.radians(circle_deg), nest=True)\n",
    "ipix_90 = hp.query_disc(nside=nside, vec=vec, radius=np.radians(radius_deg), nest=True)\n",
    "m =np.zeros(len(p_posterior))\n",
    "m[ipix_disc] = 1/len(ipix_disc)\n",
    "hp.mollview(m, title=\"Gaussian Mask\",nest=True)"
   ]
  },
  {
   "cell_type": "code",
   "execution_count": null,
   "id": "cfab7d03",
   "metadata": {},
   "outputs": [],
   "source": [
    "Mock_Area_deg=len(ipix_disc) * hp.nside2pixarea(nside, degrees=True)\n",
    "Mock_Area_90_deg=len(ipix_90) *hp.nside2pixarea(nside, degrees=True)\n",
    "print('99.9999% area is {} squared deg\\n90% area is {} squared deg'.format(Mock_Area_deg,Mock_Area_90_deg))"
   ]
  },
  {
   "cell_type": "code",
   "execution_count": null,
   "id": "545c8fc4",
   "metadata": {},
   "outputs": [],
   "source": [
    "'''\n",
    "https://emfollow.docs.ligo.org/userguide/tutorial/skymaps.html(for ref on skymap)\n",
    "\n",
    "Now we need to rescale the probability. We set the prob=0 ouside the circle\n",
    "We assume that the renormalization is constant.\n",
    "We crate a mask with our circle. Outside the mask p_posterior=0, the renormalization\n",
    "constan alpha, is therefore 1/sum(p_posterior()). This ensure unitarity. \n",
    "\n",
    "If this works, than we will use a 2D Gaussian distribution for the probability\n",
    "\n",
    "'''\n"
   ]
  },
  {
   "cell_type": "code",
   "execution_count": null,
   "id": "91d08948",
   "metadata": {},
   "outputs": [],
   "source": [
    "#saved_prob=np.zeros(len(p_posterior))\n",
    "#saved_prob[ipix_disc]=p_posterior[ipix_disc]\n",
    "#prob_to_write=np.zeros(len(p_posterior))\n",
    "#alpha=1/np.sum(saved_prob)\n",
    "#prob_to_write[ipix_disc]=alpha*saved_prob[ipix_disc]"
   ]
  },
  {
   "cell_type": "code",
   "execution_count": null,
   "id": "c848b309",
   "metadata": {},
   "outputs": [],
   "source": [
    "#print(np.sum(prob_to_write))"
   ]
  },
  {
   "cell_type": "code",
   "execution_count": null,
   "id": "433cef76",
   "metadata": {},
   "outputs": [],
   "source": [
    "#hp.mollview(prob_to_write, title=\"Mollview image NESTED\",nest=True)"
   ]
  },
  {
   "cell_type": "code",
   "execution_count": null,
   "id": "53b6fa15",
   "metadata": {},
   "outputs": [],
   "source": [
    "#my_sky_tosave=(prob_to_write,skymap[1],sigma,posteriorNorm)\n",
    "#my_sky_tosave=np.array([prob_to_write,mu,sigma,posteriorNorm])\n",
    "#dat=Table([prob_to_write,mu,sigma,posteriorNorm],\n",
    "#          names=('PROB','DISTMU','DISTSIGMA','DISTNORM'))\n",
    "#dat.write('Amap.fits',format='fits',overwrite=True)\n",
    "#fits.write_sky_map('Amap.fits',dat, nest=True)"
   ]
  },
  {
   "cell_type": "code",
   "execution_count": null,
   "id": "3ec58cb7",
   "metadata": {},
   "outputs": [],
   "source": [
    "#check result"
   ]
  },
  {
   "cell_type": "code",
   "execution_count": null,
   "id": "e927c5b8",
   "metadata": {},
   "outputs": [],
   "source": [
    "#my_data,my_meta=fits.read_sky_map(\"Amap.fits\",nest=None, distances=True)\n",
    "#print(my_meta)"
   ]
  },
  {
   "cell_type": "code",
   "execution_count": null,
   "id": "a039790c",
   "metadata": {},
   "outputs": [],
   "source": [
    "#hp.mollview(my_data[0], title=\"Mollview image NESTED\",nest=True)"
   ]
  },
  {
   "cell_type": "code",
   "execution_count": null,
   "id": "e75e0099",
   "metadata": {},
   "outputs": [],
   "source": [
    "#print(my_meta)"
   ]
  },
  {
   "cell_type": "code",
   "execution_count": null,
   "id": "dfdf7282",
   "metadata": {},
   "outputs": [],
   "source": [
    "#_read_O3('Amap.fits')"
   ]
  },
  {
   "cell_type": "code",
   "execution_count": null,
   "id": "d8219175",
   "metadata": {},
   "outputs": [],
   "source": [
    "sigma_theta=np.radians(sigma_deg)*2\n",
    "sigma_phi=np.radians(sigma_deg)*2\n",
    "zref=1.7\n",
    "my_theta=np.pi/3\n",
    "my_phi=np.pi/\n",
    "#print(my_theta,my_phi)\n",
    "vec = hp.ang2vec(my_theta, my_phi)\n",
    "ipix_disc = hp.query_disc(nside=nside, vec=vec, radius=np.radians(circle_deg), nest=True)\n",
    "def uncorr_gauss(x,y,mux=my_theta,muy=my_phi,sigx=sigma_theta,sigy=sigma_phi):\n",
    "    #correlation is 0 so is a multiplication of two gaussians\n",
    "    xfactor=((x-mux)/sigx)**2\n",
    "    yfactor=((y-muy)/sigy)**2\n",
    "    #norm=2*np.pi*sigx*sigy\n",
    "    ret=np.exp(-(1/2)*(xfactor+yfactor))#/norm\n",
    "    return ret"
   ]
  },
  {
   "cell_type": "code",
   "execution_count": null,
   "id": "3d7fd6ed",
   "metadata": {},
   "outputs": [],
   "source": [
    "gaussmap =np.zeros(len(p_posterior))\n",
    "mod_mu=np.zeros(len(p_posterior))\n",
    "mod_sigma=np.zeros(len(p_posterior))\n",
    "theta_arr=np.zeros(len(p_posterior))\n",
    "phi_arr=np.zeros(len(p_posterior))\n",
    "#zref=0.8\n",
    "dlref=(1+zref)*cosmoflag.comoving_distance(zref).value\n",
    "dlsig=0.01*dlref\n",
    "print('Dl={}, Sigma={}'.format(dlref,dlsig))\n",
    "peakdl=mu[np.argmax(p_posterior)]\n",
    "#diff=abs(dlref-peakdl)\n",
    "#np.max(mod_mu)"
   ]
  },
  {
   "cell_type": "code",
   "execution_count": null,
   "id": "f82a73b4",
   "metadata": {},
   "outputs": [],
   "source": [
    "for i in ipix_disc:\n",
    "    theta,phi=hp.pix2ang(nside,i, nest=True)\n",
    "    theta_arr[i]=theta\n",
    "    phi_arr[i]=phi\n",
    "    gaussmap[i]=uncorr_gauss(theta,phi)*hp.nside2pixarea(nside, degrees=True)\n",
    "    mod_mu[i]=dlref#uncorr_gauss(theta,phi)\n",
    "    mod_sigma[i]=dlsig\n",
    "#gaussmap[ipix_disc] = 1/len(ipix_disc)\n",
    "gaussmap[ipix_disc]=gaussmap[ipix_disc]/np.sum(gaussmap)\n",
    "#dist_factor=dlref/np.max(mod_mu)\n",
    "#mod_mu_gauss=mod_mu\n",
    "#mod_mu_gauss[ipix_disc]=mod_mu[ipix_disc]*dist_factor\n",
    "hp.mollview(gaussmap, title=\"Gaussian Mock\",nest=True)"
   ]
  },
  {
   "cell_type": "code",
   "execution_count": null,
   "id": "e18ff040",
   "metadata": {},
   "outputs": [],
   "source": [
    "sig_avr=np.average(mod_sigma,weights=gaussmap)\n",
    "print('average luminosity distance Sigma={} Mpc'.format(sig_avr))\n",
    "print(sigma)"
   ]
  },
  {
   "cell_type": "code",
   "execution_count": null,
   "id": "80783664",
   "metadata": {},
   "outputs": [],
   "source": [
    "print(np.max(p_posterior))\n",
    "print(np.max(gaussmap))\n",
    "print(np.max(mod_mu))\n",
    "print(len(ipix_disc))"
   ]
  },
  {
   "cell_type": "code",
   "execution_count": null,
   "id": "ece387fc",
   "metadata": {},
   "outputs": [],
   "source": [
    "print(np.min(theta_arr))\n",
    "print(np.min(phi_arr))\n",
    "#print(phi_arr)"
   ]
  },
  {
   "cell_type": "code",
   "execution_count": null,
   "id": "248f997b",
   "metadata": {},
   "outputs": [],
   "source": [
    "test_theta=np.linspace(np.pi/6,np.pi/3,200)\n",
    "test_phi=np.linspace(np.pi/6,np.pi/3,200)\n",
    "\n",
    "plt.rcParams.update({'font.size': 25})\n",
    "fig,ax = plt.subplots()\n",
    "fig.set_size_inches(18.5, 10.5)\n",
    "ax.set_xlabel('theta')\n",
    "ax.set_ylabel('prob')\n",
    "ax.scatter(test_theta,uncorr_gauss(test_theta,np.pi/4),label='prob_dist_phi=45°')\n",
    "#plt.yscale('log')\n",
    "#plt.xscale('log')\n",
    "plt.grid(axis='y', alpha=0.75)\n",
    "plt.grid(axis='x', alpha=0.75)"
   ]
  },
  {
   "cell_type": "code",
   "execution_count": null,
   "id": "2180f577",
   "metadata": {},
   "outputs": [],
   "source": [
    "#mod_mu=mod_mu*dist_factor\n",
    "figtot = plt.figure(figsize = (10,10))\n",
    "ax = plt.axes(projection='3d')\n",
    "ax.grid()\n",
    "ax1 = figtot.add_subplot(111,projection='3d')\n",
    "ax1.view_init(30, 60)\n",
    "ax1.scatter(theta_arr[ipix_disc],phi_arr[ipix_disc],gaussmap[ipix_disc],\n",
    "            c=gaussmap[ipix_disc],cmap='viridis')\n"
   ]
  },
  {
   "cell_type": "code",
   "execution_count": null,
   "id": "2d74ea6d",
   "metadata": {},
   "outputs": [],
   "source": [
    "temp_theta,temp_phi=find_theta_phi(nside,np.argmax(gaussmap))\n",
    "temp_ra, temp_dec=find_ra_dec(nside,np.argmax(gaussmap))\n",
    "print('GW220810 location: theta={}, phi={}, RA={}, DEC={}'.format(temp_theta,temp_phi,temp_ra,temp_dec))"
   ]
  },
  {
   "cell_type": "code",
   "execution_count": null,
   "id": "bb87b61b",
   "metadata": {},
   "outputs": [],
   "source": [
    "#my_sky_tosave=(gaussmap,mu,sigma,posteriorNorm)\n",
    "my_sky_tosave=np.array([gaussmap,mod_mu,mod_sigma,posteriorNorm])\n",
    "dat=Table([gaussmap,mod_mu,mod_sigma,posteriorNorm],\n",
    "          names=('PROB','DISTMU','DISTSIGMA','DISTNORM'))\n",
    "#dat.write('Amap.fits',format='fits',overwrite=True)\n",
    "fits.write_sky_map('GW221008_PublicationSamples.fits',dat, nest=True)"
   ]
  },
  {
   "cell_type": "code",
   "execution_count": 17,
   "id": "1d53b221",
   "metadata": {},
   "outputs": [],
   "source": [
    "my_data,my_meta=fits.read_sky_map(\"GW221005_PublicationSamples.fits\",nest=None, distances=True)"
   ]
  },
  {
   "cell_type": "code",
   "execution_count": 18,
   "id": "72bd2654",
   "metadata": {},
   "outputs": [],
   "source": [
    "my_prob=my_data[0]\n",
    "my_mu=my_data[1]\n",
    "my_sigma=my_data[2]\n",
    "npix = len(my_prob)\n",
    "nside=hp.npix2nside(npix)\n",
    "#my_mu[np.isinf(my_mu)]=0"
   ]
  },
  {
   "cell_type": "code",
   "execution_count": 19,
   "id": "ee3856a0",
   "metadata": {},
   "outputs": [
    {
     "name": "stdout",
     "output_type": "stream",
     "text": [
      "GW221005 location: theta=0.5234419456958556, phi=1.046794162309388, RA=59.9768875192604, DEC=60.008985691511455\n"
     ]
    }
   ],
   "source": [
    "my_theta,my_phi=find_theta_phi(nside,np.argmax(my_prob))\n",
    "my_ra, my_dec=find_ra_dec(nside,np.argmax(my_prob))\n",
    "print('GW location: theta={}, phi={}, RA={}, DEC={}'.format(my_theta,my_phi,my_ra,my_dec))\n"
   ]
  },
  {
   "cell_type": "code",
   "execution_count": 11,
   "id": "5bfa8106",
   "metadata": {},
   "outputs": [
    {
     "name": "stdout",
     "output_type": "stream",
     "text": [
      "The Array does not contain NaN values\n",
      "The Array does not contain NaN values\n",
      "The Array does not contain inf values\n",
      "The Array does not contain inf values\n"
     ]
    }
   ],
   "source": [
    "if(np.isnan(my_prob).any()):\n",
    "    print(\"The Array contain NaN values\")\n",
    "else:\n",
    "    print(\"The Array does not contain NaN values\")\n",
    "if(np.isnan(my_mu).any()):\n",
    "    print(\"The Array contain NaN values\")\n",
    "else:\n",
    "    print(\"The Array does not contain NaN values\")\n",
    "    \n",
    "if(np.isinf(my_prob).any()):\n",
    "    print(\"The Array contain inf values\")\n",
    "else:\n",
    "    print(\"The Array does not contain inf values\")\n",
    "if(np.isinf(my_mu).any()):\n",
    "    print(\"The Array contain inf values\")\n",
    "else:\n",
    "    print(\"The Array does not contain inf values\")"
   ]
  },
  {
   "cell_type": "code",
   "execution_count": null,
   "id": "8d41312b",
   "metadata": {},
   "outputs": [],
   "source": [
    "credible_levels = find_greedy_credible_levels(my_prob)\n",
    "#Ligo_Area_99_deg=np.sum(credible_levels <= 0.99) * hp.nside2pixarea(nside, degrees=True)\n",
    "#Ligo_Area_90_deg=np.sum(credible_levels <= 0.9) * hp.nside2pixarea(nside, degrees=True)\n",
    "#print('Ligo area_deg 99% is {}\\nLigo area_deg 90% is {} '.format(Ligo_Area_99_deg,Ligo_Area_90_deg))\n"
   ]
  },
  {
   "cell_type": "code",
   "execution_count": 20,
   "id": "c26238dc",
   "metadata": {},
   "outputs": [
    {
     "name": "stdout",
     "output_type": "stream",
     "text": [
      "average luminosity distance=11239.437561544408 Mpc\n",
      "average luminosity distance Sigma=112.39437561544406 Mpc\n",
      "redshift=1.4999999999999993, in flagship cosmology\n",
      "comoving distance=4495.775024617765\n"
     ]
    }
   ],
   "source": [
    "mu_avr=np.average(my_mu,weights=my_prob)\n",
    "print('average luminosity distance={} Mpc'.format(mu_avr))\n",
    "sig_avr=np.average(my_sigma,weights=my_prob)\n",
    "print('average luminosity distance Sigma={} Mpc'.format(sig_avr))\n",
    "z_gw=z_from_dL(mu_avr)\n",
    "print('redshift={}, in flagship cosmology'.format(z_gw))\n",
    "comov=mu_avr/(1+z_gw)\n",
    "print('comoving distance={}'.format(comov))"
   ]
  },
  {
   "cell_type": "code",
   "execution_count": null,
   "id": "46c0b100",
   "metadata": {},
   "outputs": [],
   "source": [
    "np.sum(my_mu[0:3]*my_prob[0:3])"
   ]
  },
  {
   "cell_type": "code",
   "execution_count": null,
   "id": "87f5aeff",
   "metadata": {},
   "outputs": [],
   "source": [
    "len(my_mu)==len(my_prob)"
   ]
  },
  {
   "cell_type": "markdown",
   "id": "bbd3deaf",
   "metadata": {},
   "source": [
    "# Noise"
   ]
  },
  {
   "cell_type": "code",
   "execution_count": null,
   "id": "430c3992",
   "metadata": {},
   "outputs": [],
   "source": [
    "noise_data_path='/home/rciancarella/DarkSirensStat/data/GW/detectors/'\n",
    "os.chdir(noise_data_path)"
   ]
  },
  {
   "cell_type": "code",
   "execution_count": null,
   "id": "1ca114e1",
   "metadata": {},
   "outputs": [],
   "source": [
    "freq=np.loadtxt('ET-0000A-18_ETDSensitivityCurveTxtFile.txt',usecols=0)\n",
    "temp_noise=np.loadtxt('ET-0000A-18_ETDSensitivityCurveTxtFile.txt',usecols=1)\n",
    "temp_noise=temp_noise/100"
   ]
  },
  {
   "cell_type": "code",
   "execution_count": null,
   "id": "e28fcf3d",
   "metadata": {},
   "outputs": [],
   "source": [
    "to_save=np.column_stack([freq,temp_noise])\n",
    "#print(to_save)\n",
    "np.savetxt('O3-L1-C01_CLEAN_SUB60HZ-1240573680.0_sensitivity_strain_asd.txt',to_save)\n",
    "np.savetxt('O3-H1-C01_CLEAN_SUB60HZ-1251752040.0_sensitivity_strain_asd.txt',to_save)"
   ]
  },
  {
   "cell_type": "code",
   "execution_count": null,
   "id": "73401a72",
   "metadata": {},
   "outputs": [],
   "source": [
    "explore=np.loadtxt('ET-0000A-18_ETDSensitivityCurveTxtFile.txt',usecols=(0,3))"
   ]
  },
  {
   "cell_type": "code",
   "execution_count": null,
   "id": "1b4ad49f",
   "metadata": {},
   "outputs": [],
   "source": [
    "print(explore)"
   ]
  },
  {
   "cell_type": "code",
   "execution_count": null,
   "id": "0f4ad05a",
   "metadata": {},
   "outputs": [],
   "source": []
  }
 ],
 "metadata": {
  "kernelspec": {
   "display_name": "Python 3 (ipykernel)",
   "language": "python",
   "name": "python3"
  },
  "language_info": {
   "codemirror_mode": {
    "name": "ipython",
    "version": 3
   },
   "file_extension": ".py",
   "mimetype": "text/x-python",
   "name": "python",
   "nbconvert_exporter": "python",
   "pygments_lexer": "ipython3",
   "version": "3.10.4"
  }
 },
 "nbformat": 4,
 "nbformat_minor": 5
}
