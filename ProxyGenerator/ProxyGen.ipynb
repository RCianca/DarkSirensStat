{
 "cells": [
  {
   "cell_type": "code",
   "execution_count": 2,
   "id": "9abeb70a",
   "metadata": {},
   "outputs": [
    {
     "name": "stderr",
     "output_type": "stream",
     "text": [
      "WARNING: AstropyDeprecationWarning: The get_cosmology_from_string method is deprecated and may be removed in a future version.\n",
      "        Use get instead. [ligo.skymap.postprocess.cosmology]\n"
     ]
    }
   ],
   "source": [
    "import pandas as pd\n",
    "import numpy as np\n",
    "import healpy as hp\n",
    "import matplotlib.pyplot as plt\n",
    "import scipy\n",
    "from scipy.optimize import fsolve\n",
    "\n",
    "from astropy.cosmology import Planck15\n",
    "from astropy.cosmology import FlatLambdaCDM\n",
    "from astropy.table import Table\n",
    "import astropy \n",
    "from ligo.skymap.io import fits\n",
    "from ligo.skymap.postprocess import find_greedy_credible_levels\n",
    "\n",
    "import os\n",
    "from os import listdir\n",
    "from os.path import isfile, join\n",
    "\n",
    "import sys\n",
    "from tqdm import tqdm\n",
    "\n",
    "H0GLOB=67 #69\n",
    "Om0GLOB=0.319\n",
    "Xi0Glob =1.\n",
    "clight = 2.99792458* 10**5#km/s\n",
    "cosmoflag = FlatLambdaCDM(H0=H0GLOB, Om0=Om0GLOB)\n"
   ]
  },
  {
   "cell_type": "code",
   "execution_count": 3,
   "id": "b46975ce",
   "metadata": {},
   "outputs": [],
   "source": [
    "def get_ename(fname, verbose=True):\n",
    "\n",
    "        if len(fname.split('/')[-1].split('_')) <= 2:    #Same as before since certain names contain a \"_\"\n",
    "            event_name = fname.split('/')[-1].split('_')[0]\n",
    "        elif len(fname.split('/')[-1].split('_')) > 2:\n",
    "            event_name = fname.split('/')[-1].split('_')[0]+'_'+fname.split('/')[-1].split('_')[1]\n",
    "        else:\n",
    "            raise ValueError('Could not set event name. Got fname= %s'%fname)\n",
    "        if verbose:\n",
    "            print('-- %s' %event_name)\n",
    "        return event_name\n",
    "    \n",
    "def find_ra_dec(nside, pix):\n",
    "        '''\n",
    "        input:  pixel ra dec in degrees\n",
    "        output: (ra, dec) of pixel center in degrees, with nside given by that of the skymap \n",
    "        '''\n",
    "        theta, phi =find_theta_phi(nside,pix)\n",
    "        ra, dec = ra_dec_from_th_phi(theta, phi)\n",
    "        return ra, dec    \n",
    "    \n",
    "def ra_dec_from_th_phi(theta, phi):\n",
    "        ra = np.rad2deg(phi)\n",
    "        dec = np.rad2deg(0.5 * np.pi - theta)\n",
    "        return ra, dec\n",
    "    \n",
    "def find_theta_phi(nside, pix):\n",
    "        '''\n",
    "        input:  pixel\n",
    "        output: (theta, phi)of pixel center in rad, with nside given by that of the skymap \n",
    "        '''\n",
    "        return hp.pix2ang(nside, pix, nest=True)\n",
    "    \n",
    "def _read_O3( fname, convert_nested=True):\n",
    "        \n",
    "        skymap, metadata = fits.read_sky_map(fname, nest=None, distances=True) #Read the skymap\n",
    "        event_name = get_ename(fname, verbose=True)\n",
    "        print('Event: %s' %event_name)\n",
    "        if (convert_nested) & (metadata['nest']): #If one wants RING ordering (the one of O2 data afaik) just has to set \"convert_nested\" to True\n",
    "            p_posterior = hp.reorder(skymap[0],n2r=True)\n",
    "            mu = hp.reorder(skymap[1],n2r=True)\n",
    "            sigma = hp.reorder(skymap[2],n2r=True)\n",
    "            posteriorNorm = hp.reorder(skymap[3],n2r=True)\n",
    "            print('convertito da nested a ring')\n",
    "        else:\n",
    "            p_posterior= skymap[0]\n",
    "            mu= skymap[1]\n",
    "            sigma = skymap[2]\n",
    "            posteriorNorm= skymap[3]        \n",
    "        npix = len(p_posterior)\n",
    "        nside=hp.npix2nside(npix)\n",
    "        theta,phi=find_theta_phi(nside,np.argmax(p_posterior))\n",
    "        #print('Theta={}, Phi={}'.format(theta, phi))\n",
    "        #ra, dec=find_ra_dec(nside,np.argmax(p_posterior))\n",
    "        #print('Right Ascension={}, Declination={}'.format(ra, dec))\n",
    "        #print(metadata)\n",
    "        #dl=metadata['distmean']\n",
    "        #std=metadata['diststd']\n",
    "        #z=cosmoglob.H(0).value*dl/clight\n",
    "        #sigz=cosmoglob.H(0).value*std/clight\n",
    "        #print('dL={}Mpc, std={}Mpc'.format(dl,std))\n",
    "        #print('z={}, delta_z={}'.format(z,sigz))\n",
    "        #print('\\n')\n",
    "        head = None\n",
    "def z_from_dL(dL_GW_val):\n",
    "    '''\n",
    "    Returns redshift for a given luminosity distance dL_GW_val (in Mpc)\n",
    "    \n",
    "    Input:\n",
    "        - dL_GW_val luminosity dist in Mpc\n",
    "        - H0\n",
    "        - Xi0: float. Value of Xi_0\n",
    "        - n: float. Value of n\n",
    "\n",
    "    '''   \n",
    "    #print(cosmo.H0)\n",
    "    func = lambda z : cosmoflag.luminosity_distance(z).value - dL_GW_val\n",
    "    z = fsolve(func, 1)\n",
    "    return z[0]\n",
    "\n",
    "def z_from_dcom(dc_val):\n",
    "    '''\n",
    "    Returns redshift for a given comoving distance dc (in Mpc)'''\n",
    "    \n",
    "    func = lambda z :cosmoflag.comoving_distance(z).value - dc_val\n",
    "    z = fsolve(func, 0.77)\n",
    "    return z[0]\n",
    "\n",
    "def mygaussint(prov_mu,prov_sigma,rho=1):\n",
    "    first=np.exp(-(prov_mu**2)/(2*prov_sigma**2))*prov_mu*rho*prov_sigma/np.sqrt(2*np.pi)\n",
    "    factor=0.5*rho*(prov_mu**2+prov_sigma**2)\n",
    "    second=(1+scipy.special.erf(prov_mu/(np.sqrt(2)*prov_sigma)))\n",
    "    ret=first+factor*second\n",
    "    return ret\n",
    "\n",
    "def sphere_uncorr_gauss(x,y,mux,muy,sigx,sigy):\n",
    "    #correlation is 0 so is a multiplication of two gaussians\n",
    "    #x is theta, y is phi\n",
    "    meanvec=hp.ang2vec(mux,muy)\n",
    "    meanvec=np.asarray(meanvec)\n",
    "    norm=np.sqrt(np.dot(meanvec,meanvec))\n",
    "    meanvec=meanvec/norm\n",
    "    \n",
    "    var=hp.ang2vec(x,y)\n",
    "    var=np.asarray(var)\n",
    "    norm=np.sqrt(np.dot(var,var))\n",
    "    var=var/norm\n",
    "    \n",
    "    diff=meanvec-var\n",
    "    diff_len=np.sqrt(np.dot(diff,diff))\n",
    "    #xfactor=((x-mux)/sigx)**2\n",
    "    #yfactor=((y*(1-np.sin(y))-muy*(1-np.sin(muy)))/sigy)**2\n",
    "    #yfactor=((y-muy)/sigy)**2\n",
    "    #norm=2*np.pi*sigx*sigy\n",
    "    factor=((diff_len)/sigy)**2\n",
    "    ret=np.exp(-(1/2)*(factor))#/norm\n",
    "    return ret\n",
    "\n",
    "def Mises_Fisher(theta,phi,DS_theta,DS_phi,conc):\n",
    "    meanvec=hp.ang2vec(DS_theta,DS_phi)\n",
    "    meanvec=np.asarray(meanvec,dtype=np.float128)\n",
    "    norm=np.sqrt(np.dot(meanvec,meanvec))\n",
    "    meanvec=meanvec/norm\n",
    "    \n",
    "    var=hp.ang2vec(theta,phi)\n",
    "    var=np.asarray(var,dtype=np.float128)\n",
    "    norm=np.sqrt(np.dot(var,var))\n",
    "    var=var/norm\n",
    "    \n",
    "    factor=np.dot(conc*var,meanvec)\n",
    "    factor=np.float128(factor)\n",
    "    #Normalization is futile, we will devide by the sum\n",
    "    #fullnorm=conc/(2*np.pi*(np.exp(conc)-np.exp(-conc)))\n",
    "    ret=np.float128(np.exp(factor))#/fullnorm\n",
    "    #ret=factor\n",
    "    return ret"
   ]
  },
  {
   "cell_type": "code",
   "execution_count": 4,
   "id": "ec25c485",
   "metadata": {},
   "outputs": [],
   "source": [
    "#GWdata path\n",
    "GW_data_path='/home/rciancarella/DarkSirensStat/data/GW/Hold_O3/'\n",
    "os.chdir(GW_data_path)\n",
    "#all_event=os.listdir()"
   ]
  },
  {
   "cell_type": "markdown",
   "id": "24d9987e",
   "metadata": {},
   "source": [
    "  # Function to exploit, find how to localise an event and produce a proxy one. \n",
    "   def _read_O3(self, fname, convert_nested=True):\n",
    "        \n",
    "   skymap, metadata = fits.read_sky_map(fname, nest=None, distances=True) #Read the skymap\n",
    "        self.event_name = get_ename(fname, verbose=self.verbose)\n",
    "        if self.verbose:\n",
    "                print('\\nEvent: %s' %self.event_name)\n",
    "                #Raul: prints for control\n",
    "                print('Delta=%s. If delta=1, normal run '%delta)\n",
    "        if (convert_nested) & (metadata['nest']): #If one wants RING ordering (the one of O2 data afaik) just has to set \"convert_nested\" to True\n",
    "            self.p_posterior = hp.reorder(skymap[0],n2r=True)\n",
    "            self.mu = hp.reorder(skymap[1],n2r=True)\n",
    "            self.sigma = hp.reorder(skymap[2],n2r=True)*delta\n",
    "            self.posteriorNorm = hp.reorder(skymap[3],n2r=True)\n",
    "        else:\n",
    "            self.p_posterior= skymap[0]\n",
    "            self.mu= skymap[1]\n",
    "            self.sigma = skymap[2]*delta\n",
    "            self.posteriorNorm= skymap[3]    "
   ]
  },
  {
   "cell_type": "code",
   "execution_count": 5,
   "id": "8c88ee72",
   "metadata": {},
   "outputs": [
    {
     "name": "stdout",
     "output_type": "stream",
     "text": [
      "GW190814_PublicationSamples.fits\n",
      "RA=12.7001953125,dec=-24.87076339473571,theta=2.004873035517517,phi=0.22166022384947515\n",
      "Dl=235.45665178530027\n",
      "average luminosity distance Sigma=26.530261090991182 Mpc\n",
      "12582912\n",
      "GW190924_021846_PublicationSamples.fits\n",
      "RA=127.265625,dec=16.25709623792208,theta=1.2870564706295728,phi=2.2212041808584084\n",
      "Dl=499.3721200365884\n",
      "average luminosity distance Sigma=134.49092733306685 Mpc\n",
      "3145728\n",
      "GW190412_PublicationSamples.fits\n",
      "RA=218.4521484375,dec=36.42357364233115,theta=0.9350850413935945,phi=3.812709248289761\n",
      "Dl=714.0899052030237\n",
      "average luminosity distance Sigma=92.22291002240516 Mpc\n",
      "12582912\n",
      "GW190915_235702_PublicationSamples.fits\n",
      "RA=195.46875,dec=37.26258031838149,theta=0.9204416124503026,phi=3.411573272257666\n",
      "Dl=1591.1906291650755\n",
      "average luminosity distance Sigma=422.8751010649481 Mpc\n",
      "3145728\n",
      "GW190708_232457_PublicationSamples.fits\n",
      "RA=199.77272727272725,dec=65.69633519657744,theta=0.4241789711207841,phi=3.4866918465977625\n",
      "Dl=867.5678481523114\n",
      "average luminosity distance Sigma=195.88865316558437 Mpc\n",
      "196608\n",
      "GW190421_213856_PublicationSamples.fits\n",
      "RA=205.30042918454936,dec=-46.3750811884355,theta=2.380194184412781,phi=3.5831684450278436\n",
      "Dl=3003.725271530694\n",
      "average luminosity distance Sigma=822.948525148932 Mpc\n",
      "786432\n",
      "GW190527_092055_PublicationSamples.fits\n",
      "RA=39.14383561643836,dec=-63.07261938698223,theta=2.671621202954944,phi=0.6831888133662736\n",
      "Dl=116.24292364482653\n",
      "average luminosity distance Sigma=3139.079208227675 Mpc\n",
      "786432\n"
     ]
    }
   ],
   "source": [
    "#Some files to look at \n",
    "filenames=['GW190814_PublicationSamples.fits',\n",
    "           'GW190924_021846_PublicationSamples.fits',\n",
    "           'GW190412_PublicationSamples.fits',\n",
    "           'GW190915_235702_PublicationSamples.fits',\n",
    "           'GW190708_232457_PublicationSamples.fits',\n",
    "           'GW190421_213856_PublicationSamples.fits',\n",
    "           'GW190527_092055_PublicationSamples.fits' \n",
    "           ]\n",
    "########################## THIS GIVE US SOME INFO ######################################\n",
    "#for name in filenames:\n",
    "#    _read_O3(name)\n",
    "########################################################################################\n",
    "fname ='GW190814_PublicationSamples.fits'\n",
    "alldl=[]\n",
    "for fname in filenames:\n",
    "    print(fname)\n",
    "    skymap, metadata = fits.read_sky_map(fname, nest=None, distances=True)\n",
    "    p_posterior= skymap[0]\n",
    "    mu= skymap[1]\n",
    "    sigma = skymap[2]\n",
    "    posteriorNorm= skymap[3]        \n",
    "    npix = len(p_posterior)\n",
    "    nside=hp.npix2nside(npix)\n",
    "    theta,phi=find_theta_phi(nside,np.argmax(p_posterior))\n",
    "    ra, dec=find_ra_dec(nside,np.argmax(p_posterior))\n",
    "    print('RA={},dec={},theta={},phi={}'.format(ra,dec,theta,phi))\n",
    "    alldl.append(mu[np.argmax(p_posterior)])\n",
    "    print('Dl={}'.format(mu[np.argmax(p_posterior)]))\n",
    "    sig_avr=np.average(sigma,weights=p_posterior)\n",
    "    print('average luminosity distance Sigma={} Mpc'.format(sig_avr))\n",
    "    print(len(p_posterior))\n",
    "#alldl=np.asarray(alldl)\n",
    "#print(np.mean(alldl))"
   ]
  },
  {
   "cell_type": "code",
   "execution_count": null,
   "id": "b6ea4dcc",
   "metadata": {},
   "outputs": [],
   "source": [
    "my_theta,my_phi=hp.pix2ang(nside, np.argmax(p_posterior), nest=True)\n",
    "vec = hp.ang2vec(my_theta, my_phi)\n",
    "my_maxpix=hp.ang2pix(nside, my_theta, my_phi,nest=True)\n",
    "maxpix=np.argmax(p_posterior)\n",
    "print(maxpix,my_maxpix)"
   ]
  },
  {
   "cell_type": "code",
   "execution_count": null,
   "id": "2d819853",
   "metadata": {},
   "outputs": [],
   "source": [
    "print(vec)"
   ]
  },
  {
   "cell_type": "code",
   "execution_count": null,
   "id": "efdfa4b7",
   "metadata": {},
   "outputs": [],
   "source": [
    "hp.mollview(p_posterior, title=fname,nest=True)"
   ]
  },
  {
   "cell_type": "code",
   "execution_count": null,
   "id": "59e0ee66",
   "metadata": {},
   "outputs": [],
   "source": [
    "credible_levels = find_greedy_credible_levels(p_posterior)\n",
    "Ligo_Area_99_deg=np.sum(credible_levels <= 0.99) * hp.nside2pixarea(nside, degrees=True)\n",
    "Ligo_Area_90_deg=np.sum(credible_levels <= 0.9) * hp.nside2pixarea(nside, degrees=True)\n",
    "print('Ligo area_deg 99% is {}\\nLigo area_deg 90% is {} '.format(Ligo_Area_99_deg,Ligo_Area_90_deg))"
   ]
  },
  {
   "cell_type": "code",
   "execution_count": null,
   "id": "2c8f5d9e",
   "metadata": {},
   "outputs": [],
   "source": [
    "_read_O3(fname)"
   ]
  },
  {
   "cell_type": "code",
   "execution_count": null,
   "id": "f247f052",
   "metadata": {},
   "outputs": [],
   "source": [
    "vec = hp.ang2vec(my_theta, my_phi)\n",
    "ipix_disc = hp.query_disc(nside=nside, vec=vec, radius=np.radians(circle_deg), nest=True)\n",
    "ipix_90 = hp.query_disc(nside=nside, vec=vec, radius=np.radians(radius_deg), nest=True)\n",
    "m =np.zeros(len(p_posterior))\n",
    "m[ipix_disc] = 1/len(ipix_disc)\n",
    "hp.mollview(m, title=\"Gaussian Mask\",nest=True)"
   ]
  },
  {
   "cell_type": "code",
   "execution_count": null,
   "id": "cfab7d03",
   "metadata": {},
   "outputs": [],
   "source": [
    "Mock_Area_deg=len(ipix_disc) * hp.nside2pixarea(nside, degrees=True)\n",
    "Mock_Area_90_deg=len(ipix_90) *hp.nside2pixarea(nside, degrees=True)\n",
    "print('99.9999% area is {} squared deg\\n90% area is {} squared deg'.format(Mock_Area_deg,Mock_Area_90_deg))"
   ]
  },
  {
   "cell_type": "code",
   "execution_count": null,
   "id": "545c8fc4",
   "metadata": {},
   "outputs": [],
   "source": [
    "'''\n",
    "https://emfollow.docs.ligo.org/userguide/tutorial/skymaps.html(for ref on skymap)\n",
    "\n",
    "Now we need to rescale the probability. We set the prob=0 ouside the circle\n",
    "We assume that the renormalization is constant.\n",
    "We crate a mask with our circle. Outside the mask p_posterior=0, the renormalization\n",
    "constan alpha, is therefore 1/sum(p_posterior()). This ensure unitarity. \n",
    "\n",
    "If this works, than we will use a 2D Gaussian distribution for the probability\n",
    "\n",
    "'''\n"
   ]
  },
  {
   "cell_type": "code",
   "execution_count": null,
   "id": "91d08948",
   "metadata": {},
   "outputs": [],
   "source": [
    "#saved_prob=np.zeros(len(p_posterior))\n",
    "#saved_prob[ipix_disc]=p_posterior[ipix_disc]\n",
    "#prob_to_write=np.zeros(len(p_posterior))\n",
    "#alpha=1/np.sum(saved_prob)\n",
    "#prob_to_write[ipix_disc]=alpha*saved_prob[ipix_disc]"
   ]
  },
  {
   "cell_type": "code",
   "execution_count": null,
   "id": "c848b309",
   "metadata": {},
   "outputs": [],
   "source": [
    "#print(np.sum(prob_to_write))"
   ]
  },
  {
   "cell_type": "code",
   "execution_count": null,
   "id": "433cef76",
   "metadata": {},
   "outputs": [],
   "source": [
    "#hp.mollview(prob_to_write, title=\"Mollview image NESTED\",nest=True)"
   ]
  },
  {
   "cell_type": "code",
   "execution_count": null,
   "id": "53b6fa15",
   "metadata": {},
   "outputs": [],
   "source": [
    "#my_sky_tosave=(prob_to_write,skymap[1],sigma,posteriorNorm)\n",
    "#my_sky_tosave=np.array([prob_to_write,mu,sigma,posteriorNorm])\n",
    "#dat=Table([prob_to_write,mu,sigma,posteriorNorm],\n",
    "#          names=('PROB','DISTMU','DISTSIGMA','DISTNORM'))\n",
    "#dat.write('Amap.fits',format='fits',overwrite=True)\n",
    "#fits.write_sky_map('Amap.fits',dat, nest=True)"
   ]
  },
  {
   "cell_type": "code",
   "execution_count": null,
   "id": "3ec58cb7",
   "metadata": {},
   "outputs": [],
   "source": [
    "#check result"
   ]
  },
  {
   "cell_type": "code",
   "execution_count": null,
   "id": "e927c5b8",
   "metadata": {},
   "outputs": [],
   "source": [
    "#my_data,my_meta=fits.read_sky_map(\"Amap.fits\",nest=None, distances=True)\n",
    "#print(my_meta)"
   ]
  },
  {
   "cell_type": "code",
   "execution_count": null,
   "id": "a039790c",
   "metadata": {},
   "outputs": [],
   "source": [
    "#hp.mollview(my_data[0], title=\"Mollview image NESTED\",nest=True)"
   ]
  },
  {
   "cell_type": "code",
   "execution_count": null,
   "id": "e75e0099",
   "metadata": {},
   "outputs": [],
   "source": [
    "#print(my_meta)"
   ]
  },
  {
   "cell_type": "code",
   "execution_count": null,
   "id": "dfdf7282",
   "metadata": {},
   "outputs": [],
   "source": [
    "#_read_O3('Amap.fits')"
   ]
  },
  {
   "cell_type": "code",
   "execution_count": null,
   "id": "2d74ea6d",
   "metadata": {},
   "outputs": [],
   "source": [
    "temp_theta,temp_phi=find_theta_phi(nside,np.argmax(gaussmap))\n",
    "temp_ra, temp_dec=find_ra_dec(nside,np.argmax(gaussmap))\n",
    "print('GW221005 location: theta={}, phi={}, RA={}, DEC={}'.format(temp_theta,temp_phi,temp_ra,temp_dec))"
   ]
  },
  {
   "cell_type": "code",
   "execution_count": null,
   "id": "bb87b61b",
   "metadata": {},
   "outputs": [],
   "source": []
  },
  {
   "cell_type": "code",
   "execution_count": null,
   "id": "1d53b221",
   "metadata": {},
   "outputs": [],
   "source": [
    "fname ='GW221900_PublicationSamples.fits'\n",
    "my_data,my_meta=fits.read_sky_map(fname,nest=None, distances=True)"
   ]
  },
  {
   "cell_type": "code",
   "execution_count": null,
   "id": "72bd2654",
   "metadata": {},
   "outputs": [],
   "source": [
    "my_prob=my_data[0]\n",
    "my_mu=my_data[1]\n",
    "my_sigma=my_data[2]\n",
    "npix = len(my_prob)\n",
    "nside=hp.npix2nside(npix)\n",
    "#my_mu[np.isinf(my_mu)]=0\n",
    "hp.mollview(my_prob, title=fname,nest=True)"
   ]
  },
  {
   "cell_type": "code",
   "execution_count": null,
   "id": "ee3856a0",
   "metadata": {},
   "outputs": [],
   "source": [
    "my_theta,my_phi=find_theta_phi(nside,np.argmax(my_prob))\n",
    "my_ra, my_dec=find_ra_dec(nside,np.argmax(my_prob))\n",
    "print('GW location: theta={}, phi={}, RA={}, DEC={}'.format(my_theta,my_phi,my_ra,my_dec))\n",
    "mu_avr=np.average(my_mu,weights=my_prob)\n",
    "print('average luminosity distance={} Mpc'.format(mu_avr))\n",
    "sig_avr=np.average(my_sigma,weights=my_prob)\n",
    "print('average luminosity distance Sigma={} Mpc'.format(sig_avr))\n",
    "z_gw=z_from_dL(mu_avr)\n",
    "print('redshift={}, in flagship cosmology'.format(z_gw))\n",
    "comov=mu_avr/(1+z_gw)\n",
    "print('comoving distance={}'.format(comov))"
   ]
  },
  {
   "cell_type": "code",
   "execution_count": null,
   "id": "96d5a6c4",
   "metadata": {},
   "outputs": [],
   "source": [
    "np.argmax(my_prob)\n",
    "maxtheta,maxphi=hp.pix2ang(nside, 841536)\n",
    "vicini=hp.get_all_neighbours(nside,maxtheta,maxphi)\n",
    "print(maxtheta,maxphi)\n",
    "print(vicini)"
   ]
  },
  {
   "cell_type": "code",
   "execution_count": null,
   "id": "e495e4d1",
   "metadata": {},
   "outputs": [],
   "source": [
    "for i in vicini:\n",
    "    maxtheta,maxphi=hp.pix2ang(nside, i, nest=True)\n",
    "    print(hp.get_all_neighbours(nside,maxtheta,maxphi,nest=True))"
   ]
  },
  {
   "cell_type": "code",
   "execution_count": null,
   "id": "5bfa8106",
   "metadata": {},
   "outputs": [],
   "source": [
    "if(np.isnan(my_prob).any()):\n",
    "    print(\"The Array contain NaN values\")\n",
    "else:\n",
    "    print(\"The Array does not contain NaN values\")\n",
    "if(np.isnan(my_mu).any()):\n",
    "    print(\"The Array contain NaN values\")\n",
    "else:\n",
    "    print(\"The Array does not contain NaN values\")\n",
    "    \n",
    "if(np.isinf(my_prob).any()):\n",
    "    print(\"The Array contain inf values\")\n",
    "else:\n",
    "    print(\"The Array does not contain inf values\")\n",
    "if(np.isinf(my_mu).any()):\n",
    "    print(\"The Array contain inf values\")\n",
    "else:\n",
    "    print(\"The Array does not contain inf values\")"
   ]
  },
  {
   "cell_type": "code",
   "execution_count": null,
   "id": "8d41312b",
   "metadata": {},
   "outputs": [],
   "source": [
    "credible_levels = find_greedy_credible_levels(gaussmap)\n",
    "Ligo_Area_99_deg=np.sum(credible_levels <= 0.99) * hp.nside2pixarea(nside, degrees=True)\n",
    "Ligo_Area_90_deg=np.sum(credible_levels <= 0.9) * hp.nside2pixarea(nside, degrees=True)\n",
    "print('Ligo area_deg 99% is {}\\nLigo area_deg 90% is {} '.format(Ligo_Area_99_deg,Ligo_Area_90_deg))\n"
   ]
  },
  {
   "cell_type": "code",
   "execution_count": null,
   "id": "c26238dc",
   "metadata": {},
   "outputs": [],
   "source": [
    "my_theta,my_phi=find_theta_phi(nside,np.argmax(my_prob))\n",
    "my_ra, my_dec=find_ra_dec(nside,np.argmax(my_prob))\n",
    "print('GW location: theta={}, phi={}, RA={}, DEC={}'.format(my_theta,my_phi,my_ra,my_dec))\n",
    "mu_avr=np.average(my_mu,weights=my_prob)\n",
    "print('average luminosity distance={} Mpc'.format(mu_avr))\n",
    "sig_avr=np.average(my_sigma,weights=my_prob)\n",
    "print('average luminosity distance Sigma={} Mpc'.format(sig_avr))\n",
    "z_gw=z_from_dL(mu_avr)\n",
    "print('redshift={}, in flagship cosmology'.format(z_gw))\n",
    "comov=mu_avr/(1+z_gw)\n",
    "print('comoving distance={}'.format(comov))"
   ]
  },
  {
   "cell_type": "code",
   "execution_count": null,
   "id": "46c0b100",
   "metadata": {},
   "outputs": [],
   "source": [
    "np.sum(my_mu[0:3]*my_prob[0:3])"
   ]
  },
  {
   "cell_type": "code",
   "execution_count": null,
   "id": "87f5aeff",
   "metadata": {},
   "outputs": [],
   "source": [
    "len(my_mu)==len(my_prob)"
   ]
  },
  {
   "cell_type": "markdown",
   "id": "6be4bcff",
   "metadata": {},
   "source": [
    "# Automatic Map Creator \n",
    "\n",
    "z_min=0.7887375950813293, z_max=2.0129446983337402\n",
    "ra_min=1.558116673550103e-05, ra_max=89.99999237060547\n",
    "dec_min=2.9646462280652486e-06, dec_max=89.98294830322266\n",
    "phi_min=2.7194266749575036e-07, phi_max=1.5707961320877075\n",
    "theta_min=0.0002976218846182377, theta_max=1.570796275052059"
   ]
  },
  {
   "cell_type": "code",
   "execution_count": 5,
   "id": "c670f1a8",
   "metadata": {},
   "outputs": [],
   "source": [
    "GW_data_path='/home/rciancarella/DarkSirensStat/data/GW/O3/'\n",
    "os.chdir(GW_data_path)"
   ]
  },
  {
   "cell_type": "code",
   "execution_count": 8,
   "id": "c730ece8",
   "metadata": {},
   "outputs": [
    {
     "name": "stdout",
     "output_type": "stream",
     "text": [
      "Fisher concentration Parameter k=4640.958140559668\n",
      "Sigma_theta=0.014678989991133373, Sigma_phi=0.014678989991133373\n",
      "Sigma_theta=0.84104417400672°, Sigma_phi=0.84104417400672°\n",
      "0.07339494995566687 19\n",
      "N=19,M=18, NxM=342\n"
     ]
    }
   ],
   "source": [
    "fisher=1\n",
    "if fisher==1:\n",
    "    radius_deg= np.sqrt(10/np.pi)\n",
    "    sigma90=radius_deg/np.sqrt(2)\n",
    "    sigma_deg=sigma90/1.5\n",
    "    circle_deg=6*sigma_deg\n",
    "    sigma_theta=np.radians(sigma_deg)\n",
    "    sigma_phi=np.radians(sigma_deg)\n",
    "    conc=1/(sigma_phi**2)\n",
    "    print('Fisher concentration Parameter k={}'.format(conc))\n",
    "    radius_rad=np.radians(circle_deg)\n",
    "else:\n",
    "    radius_deg= np.sqrt(10/np.pi)\n",
    "    sigma90=radius_deg/np.sqrt(2)\n",
    "    sigma_deg=sigma90/1.5\n",
    "    circle_deg=6*sigma_deg\n",
    "    sigma_theta=np.radians(sigma_deg)\n",
    "    sigma_phi=np.radians(sigma_deg)\n",
    "    radius_rad=np.radians(circle_deg)\n",
    "\n",
    "phi_min=0.0001\n",
    "phi_max=1.5707961320877075\n",
    "theta_min=0.0001976218846182377\n",
    "theta_max=1.570796275052059\n",
    "phi_start=phi_min+5*sigma_phi\n",
    "phi_stop=phi_max-5*sigma_phi\n",
    "step =5* sigma_phi\n",
    "N=np.floor((phi_stop-phi_start)/step)\n",
    "N=int(N)\n",
    "#----------------------uniform in comoving DS-----------------------------\n",
    "zlen=10\n",
    "allredshift=np.zeros(zlen)\n",
    "my_zmin=1.1\n",
    "my_zmax=1.3\n",
    "my_dcom_min=cosmoflag.comoving_distance(my_zmin).value\n",
    "my_dcom_max=cosmoflag.comoving_distance(my_zmax).value\n",
    "alldcom=np.linspace(my_dcom_min,my_dcom_max,zlen)\n",
    "for i in range(zlen):\n",
    "    allredshift[i]=z_from_dcom(alldcom[i])\n",
    "#-------------------------------------------------------------------------\n",
    "print('Sigma_theta={}, Sigma_phi={}'.format(sigma_theta,sigma_phi))\n",
    "print('Sigma_theta={}°, Sigma_phi={}°'.format(np.rad2deg(sigma_theta)\n",
    "                                              ,np.rad2deg(sigma_phi)))\n",
    "print(step, N)\n",
    "allphi=np.arange(0,N)*step+phi_start\n",
    "\n",
    "\n",
    "truethetamin=theta_min+6*sigma_theta\n",
    "truethetamax=theta_max-6*sigma_theta\n",
    "M=np.floor((truethetamax-truethetamin)/step)\n",
    "M=int(M)\n",
    "alltheta=np.arange(0,M)*step+truethetamin\n",
    "\n",
    "print('N={},M={}, NxM={}'.format(N,M,N*M))\n",
    "\n",
    "\n",
    "name='GW33xxxx_datasheet.txt'\n",
    "file= open(name,'w')\n",
    "my_header=['name\\t','dl\\t','theta\\t','phi\\t','z\\t','deltadl\\t','sigma_phi\\n']\n",
    "file.writelines(my_header)\n",
    "file.close()"
   ]
  },
  {
   "cell_type": "code",
   "execution_count": null,
   "id": "d57f6b82",
   "metadata": {},
   "outputs": [],
   "source": [
    "testdcom=np.linspace(my_dcom_min,my_dcom_max*2,30)\n",
    "testz=np.zeros(30)\n",
    "for i in range(len(testdcom)):\n",
    "    testz[i]=z_from_dcom(testdcom[i])\n",
    "    \n",
    "fig, ax = plt.subplots(1, figsize=(12,8)) #crea un tupla che poi è più semplice da gestire\n",
    "ax.tick_params(axis='both', which='major', labelsize=14)\n",
    "ax.yaxis.get_offset_text().set_fontsize(14)\n",
    "ax.grid(linestyle='dotted', linewidth='0.6')#griglia in sfondo\n",
    "colors=plt.cm.turbo(np.linspace(0.99,0.01,16))\n",
    "\n",
    "#ax.set_yscale('log')\n",
    "#ax.set_xscale('log')\n",
    "\n",
    "ax.scatter(alldcom/1000,allredshift,label='dc-z',color=colors[3])\n",
    "ax.scatter(testdcom/1000,testz,label='dc-z',color=colors[7])\n",
    "ax.set_xlabel(r'$dc$', fontsize=20)\n",
    "ax.set_ylabel(r'$z$', fontsize=20)"
   ]
  },
  {
   "cell_type": "code",
   "execution_count": 9,
   "id": "f8a206bf",
   "metadata": {},
   "outputs": [
    {
     "name": "stderr",
     "output_type": "stream",
     "text": [
      "100%|███████████████████████████████████████████████████████████████| 18/18 [01:00<00:00,  3.39s/it]\n"
     ]
    }
   ],
   "source": [
    "'''Use this when phi and theta both changes'''\n",
    "for j in tqdm(range(M)):\n",
    "    for k in range(N):\n",
    "        numevent=int(320000)+k+j*N\n",
    "        fname='GW'+str(numevent)+'_PublicationSamples.fits'\n",
    "        index=k%zlen\n",
    "        zref=allredshift[index]\n",
    "        DS_phi=allphi[k]\n",
    "        DS_theta=alltheta[j]\n",
    "        vec = hp.ang2vec(DS_theta, DS_phi)\n",
    "        ipix_disc = hp.query_disc(nside=nside, vec=vec, radius=radius_rad, nest=True)\n",
    "        #print(DS_theta,DS_phi)\n",
    "        if fisher==1:\n",
    "            gaussmap =np.zeros(len(p_posterior),dtype=np.float128)\n",
    "        else:\n",
    "            gaussmap =np.zeros(len(p_posterior))\n",
    "        mod_mu=np.zeros(len(p_posterior))\n",
    "        mod_sigma=np.zeros(len(p_posterior))\n",
    "        mod_postnorm=np.zeros(len(p_posterior))\n",
    "        theta_arr=np.zeros(len(p_posterior))\n",
    "        phi_arr=np.zeros(len(p_posterior))\n",
    "        gauss64 =np.zeros(len(p_posterior),dtype=np.float128)\n",
    "\n",
    "        dlref=cosmoflag.luminosity_distance(zref).value\n",
    "        dlsig=0.1*dlref\n",
    "        #print(zref,dlref)\n",
    "        line=[str(numevent)+'\\t',str(dlref)+'\\t',str(DS_theta)+'\\t',str(DS_phi)+'\\t',str(zref)+'\\t',\n",
    "             str(dlsig)+'\\t',str(sigma_phi)+'\\n']\n",
    "\n",
    "        for i in ipix_disc:\n",
    "            theta,phi=hp.pix2ang(nside,i, nest=True)\n",
    "            theta_arr[i]=theta\n",
    "            phi_arr[i]=phi\n",
    "            #gaussmap[i]=sphere_uncorr_gauss(theta,phi,DS_theta,DS_phi,sigma_theta,sigma_phi)*hp.nside2pixarea(nside,degrees=True)\n",
    "            gaussmap[i]=np.float128(Mises_Fisher(theta,phi,DS_theta,DS_phi,conc))*np.float128(hp.nside2pixarea(nside,degrees=False))\n",
    "            mod_mu[i]=dlref#uncorr_gauss(theta,phi)\n",
    "            mod_sigma[i]=dlsig\n",
    "            mod_postnorm[i]=1#/(mygaussint(mod_mu[i],mod_sigma[i]))\n",
    "        gaussmap[ipix_disc]=gaussmap[ipix_disc]/np.sum(gaussmap)\n",
    "        #mod_postnorm[ipix_disc]=mod_postnorm[ipix_disc]/(len(ipix_disc))\n",
    "        #mod_postnorm[ipix_disc]=1/len(ipix_disc)#gaussmap[ipix_disc]\n",
    "        \n",
    "        gauss64=np.float64(gaussmap)\n",
    "        dat=Table([gauss64,mod_mu,mod_sigma,mod_postnorm],\n",
    "              names=('PROB','DISTMU','DISTSIGMA','DISTNORM'))\n",
    "        fits.write_sky_map(fname,dat, nest=True)\n",
    "        with open(name,'a') as f:\n",
    "            f.writelines(line)"
   ]
  },
  {
   "cell_type": "code",
   "execution_count": null,
   "id": "ff890b29",
   "metadata": {},
   "outputs": [],
   "source": [
    "allredshift=np.linspace(1.1,1.3,10)\n",
    "fisher=1\n",
    "if fisher==1:\n",
    "    radius_deg= np.sqrt(10/np.pi)\n",
    "    sigma90=radius_deg/np.sqrt(2)\n",
    "    sigma_deg=sigma90/1.5\n",
    "    circle_deg=6*sigma_deg\n",
    "    sigma_theta=np.radians(sigma_deg)\n",
    "    sigma_phi=np.radians(sigma_deg)\n",
    "    conc=1/(sigma_phi**2)\n",
    "    #conc=4740\n",
    "    #sigma_phi=np.sqrt(1/conc)\n",
    "    #sigma_theta=sigma_phi\n",
    "    radius_rad=np.radians(circle_deg)\n",
    "for k in tqdm(range(10)):\n",
    "    numevent=int(220000)+k\n",
    "    fname='GW'+str(numevent)+'_PublicationSamples.fits'\n",
    "    zref=allredshift[k]\n",
    "    #print(zref)\n",
    "    DS_phi=np.pi/4\n",
    "    DS_theta=np.pi/4\n",
    "    vec = hp.ang2vec(DS_theta, DS_phi)\n",
    "    ipix_disc = hp.query_disc(nside=nside, vec=vec, radius=radius_rad, nest=True)\n",
    "    #print(DS_theta,DS_phi)\n",
    "    gaussmap =np.zeros(len(p_posterior),dtype=np.float128)\n",
    "    mod_mu=np.zeros(len(p_posterior))\n",
    "    mod_sigma=np.zeros(len(p_posterior))\n",
    "    mod_postnorm=np.zeros(len(p_posterior))\n",
    "    theta_arr=np.zeros(len(p_posterior))\n",
    "    phi_arr=np.zeros(len(p_posterior))\n",
    "\n",
    "    dlref=cosmoflag.luminosity_distance(zref).value\n",
    "    dlsig=0.01*dlref\n",
    "    line=[str(numevent)+'\\t',str(dlref)+'\\t',str(DS_theta)+'\\t',str(DS_phi)+'\\t',str(zref)+'\\t',\n",
    "         str(dlsig)+'\\n']\n",
    "    \n",
    "    for i in ipix_disc:\n",
    "        theta,phi=hp.pix2ang(nside,i, nest=True)\n",
    "        theta_arr[i]=theta\n",
    "        phi_arr[i]=phi\n",
    "        #gaussmap[i]=uncorr_gauss(theta,phi,DS_theta,DS_phi,sigma_theta,sigma_phi)*hp.nside2pixarea(nside,degrees=True)\n",
    "        gaussmap[i]=np.float128(Mises_Fisher(theta,phi,DS_theta,DS_phi,conc))*np.float128(hp.nside2pixarea(nside,degrees=False))\n",
    "        mod_mu[i]=dlref#uncorr_gauss(theta,phi)\n",
    "        mod_sigma[i]=dlsig\n",
    "        #mod_postnorm[i]=1/(mygaussint(mod_mu[i],mod_sigma[i]))\n",
    "    #gaussmap[ipix_disc] = 1/len(ipix_disc)\n",
    "    gaussmap[ipix_disc]=gaussmap[ipix_disc]/np.sum(gaussmap)\n",
    "    #mod_postnorm[ipix_disc]=1/(len(ipix_disc))\n",
    "    mod_postnorm[ipix_disc]=1\n",
    "    gauss64 =np.zeros(len(p_posterior),dtype=np.float128)\n",
    "    gauss64=np.float64(gaussmap)\n",
    "    dat=Table([gauss64,mod_mu,mod_sigma,mod_postnorm],\n",
    "          names=('PROB','DISTMU','DISTSIGMA','DISTNORM'))\n",
    "    fits.write_sky_map(fname,dat, nest=True)\n",
    "   # with open(name,'a') as f:\n",
    "    #    f.writelines(line)"
   ]
  },
  {
   "cell_type": "code",
   "execution_count": 19,
   "id": "7f167615",
   "metadata": {},
   "outputs": [],
   "source": [
    "fname ='GW330025_PublicationSamples.fits'\n",
    "my_data,my_meta=fits.read_sky_map(fname,nest=None, distances=True)"
   ]
  },
  {
   "cell_type": "code",
   "execution_count": 20,
   "id": "5f5c8293",
   "metadata": {},
   "outputs": [
    {
     "name": "stdout",
     "output_type": "stream",
     "text": [
      "0.9999999999999999 1525.0\n"
     ]
    },
    {
     "data": {
      "image/png": "[encoded data removed]",
      "text/plain": [
       "<Figure size 612x388.8 with 2 Axes>"
      ]
     },
     "metadata": {
      "needs_background": "light"
     },
     "output_type": "display_data"
    }
   ],
   "source": [
    "my_prob=my_data[0]\n",
    "my_mu=my_data[1]\n",
    "my_sigma=my_data[2]\n",
    "my_norm=my_data[3]\n",
    "npix = len(my_prob)\n",
    "nside=hp.npix2nside(npix)\n",
    "#my_mu[np.isinf(my_mu)]=0\n",
    "print(np.sum(my_prob),(np.sum(my_norm)))\n",
    "hp.mollview(my_prob, title=fname,nest=True)\n",
    "#gaussmap00=my_prob"
   ]
  },
  {
   "cell_type": "code",
   "execution_count": null,
   "id": "c17bbdb4",
   "metadata": {},
   "outputs": [],
   "source": [
    "fig = plt.subplots(1,figsize=(30,15))\n",
    "#collection=gaussmap00*my_prob\n",
    "#hp.cartview(collection,nest=True, hold=True)"
   ]
  },
  {
   "cell_type": "code",
   "execution_count": 21,
   "id": "c7a3bc40",
   "metadata": {},
   "outputs": [
    {
     "name": "stdout",
     "output_type": "stream",
     "text": [
      "Ligo area_deg 99% is 20.457782602022192\n",
      "Ligo area_deg 90% is 10.228891301011096 \n"
     ]
    }
   ],
   "source": [
    "credible_levels = find_greedy_credible_levels(my_prob)\n",
    "Ligo_Area_99_deg=np.sum(credible_levels <= 0.99) * hp.nside2pixarea(nside, degrees=True)\n",
    "Ligo_Area_90_deg=np.sum(credible_levels <= 0.9) * hp.nside2pixarea(nside, degrees=True)\n",
    "print('Ligo area_deg 99% is {}\\nLigo area_deg 90% is {} '.format(Ligo_Area_99_deg,Ligo_Area_90_deg))\n"
   ]
  },
  {
   "cell_type": "code",
   "execution_count": 22,
   "id": "c08db393",
   "metadata": {},
   "outputs": [
    {
     "name": "stdout",
     "output_type": "stream",
     "text": [
      "AngularProb\n",
      "The Array does not contain NaN values\n",
      "The Array does not contain inf values\n",
      "Mu\n",
      "The Array does not contain NaN values\n",
      "The Array does not contain inf values\n",
      "DistNorm\n",
      "The Array does not contain NaN values\n",
      "The Array does not contain inf values\n"
     ]
    }
   ],
   "source": [
    "print('AngularProb')\n",
    "if(np.isnan(my_prob).any()):\n",
    "    print(\"The Array contain NaN values\")\n",
    "else:\n",
    "    print(\"The Array does not contain NaN values\")\n",
    "if(np.isinf(my_prob).any()):\n",
    "    print(\"The Array contain inf values\")\n",
    "else:\n",
    "    print(\"The Array does not contain inf values\")\n",
    "    \n",
    "print('Mu')\n",
    "if(np.isnan(my_mu).any()):\n",
    "    print(\"The Array contain NaN values\")\n",
    "else:\n",
    "    print(\"The Array does not contain NaN values\")\n",
    "if(np.isinf(my_mu).any()):\n",
    "    print(\"The Array contain inf values\")\n",
    "else:\n",
    "    print(\"The Array does not contain inf values\")\n",
    "\n",
    "print('DistNorm')\n",
    "if(np.isnan(my_norm).any()):\n",
    "    print(\"The Array contain NaN values\")\n",
    "else:\n",
    "    print(\"The Array does not contain NaN values\")\n",
    "\n",
    "if(np.isinf(my_norm).any()):\n",
    "    print(\"The Array contain inf values\")\n",
    "else:\n",
    "    print(\"The Array does not contain inf values\")"
   ]
  },
  {
   "cell_type": "markdown",
   "id": "c35a08b8",
   "metadata": {},
   "source": [
    "# Generation by extraction from a Galaxy Catalogue"
   ]
  },
  {
   "cell_type": "code",
   "execution_count": 4,
   "id": "79517bf0",
   "metadata": {},
   "outputs": [],
   "source": [
    "#----------------Load the catalogue---------------------\n",
    "cat_data_path='/home/rciancarella/DarkSirensStat/data/GLADE/'\n",
    "os.chdir(cat_data_path)\n",
    "galcat = pd.read_csv('uniform_comoving_autoconsistent.txt', sep=\" \", header=None)\n",
    "colnames=['numevent','GWGC_name','HyperLEDA_name','2MASS_XSC_name','SDSS-DR12Q_name','type_flag','right_ascension_degrees',\n",
    "          'declination_degrees','dl','err_lum_dist','z','app_B_mag','err_app_B_mag','abs_B_mag','app_J_mag',\n",
    "          'err_app_J_mag','app_H_mag','err_app_H_mag','app_K_mag','err_app_K_mag','lum_dist_flag','pec_vel_correction'\n",
    "          ]\n",
    "galcat.columns=colnames\n",
    "GW_data_path='/home/rciancarella/DarkSirensStat/data/GW/O3/'\n",
    "os.chdir(GW_data_path)\n"
   ]
  },
  {
   "cell_type": "code",
   "execution_count": 6,
   "id": "80f301f1",
   "metadata": {},
   "outputs": [
    {
     "name": "stdout",
     "output_type": "stream",
     "text": [
      "1370955 0.21091615384615384\n",
      "342 5.2615384615384616e-05\n",
      "Fisher concentration Parameter k=4640.958140559668\n"
     ]
    }
   ],
   "source": [
    "#----------------------select random hosts ----------------------------------\n",
    "zmin=1.1\n",
    "zmax=1.3\n",
    "Numb_of_DS=342\n",
    "source=galcat[galcat['z']>=zmin]\n",
    "source=source[source['z']<=zmax]\n",
    "print(source.shape[0],source.shape[0]/galcat.shape[0])\n",
    "source=source.sample(n=Numb_of_DS)\n",
    "print(source.shape[0],source.shape[0]/galcat.shape[0])\n",
    "\n",
    "#Best would be to remove the selected one, make them host and then add those again, \n",
    "#since we are converting coordinates\n",
    "#pd.concat([df1, df2, df2]).drop_duplicates(keep=False)\n",
    "\n",
    "DS_z=np.asarray(source['z'])\n",
    "DS_dl=np.asarray(source['dl'])\n",
    "DS_RA=np.asarray(source['right_ascension_degrees'])\n",
    "DS_DEC=np.asarray(source['declination_degrees'])\n",
    "\n",
    "phi_gals=np.deg2rad(DS_RA)\n",
    "theta_gals = (0.5 * np.pi - np.deg2rad(DS_DEC))\n",
    "#ra_gals=ra = np.rad2deg(phi_gals)\n",
    "#dec_gals = np.rad2deg(0.5 * np.pi - theta_gals)\n",
    "\n",
    "#checkRA=DS_RA-ra_gals\n",
    "#chackDEC=DS_DEC-dec_gals\n",
    "#print(checkRA)\n",
    "#print(chackDEC)\n",
    "fisher=1\n",
    "if fisher==1:\n",
    "    radius_deg= np.sqrt(10/np.pi)\n",
    "    sigma90=radius_deg/np.sqrt(2)\n",
    "    sigma_deg=sigma90/1.5\n",
    "    circle_deg=6*sigma_deg\n",
    "    sigma_theta=np.radians(sigma_deg)\n",
    "    sigma_phi=np.radians(sigma_deg)\n",
    "    conc=1/(sigma_phi**2)\n",
    "    print('Fisher concentration Parameter k={}'.format(conc))\n",
    "    radius_rad=np.radians(circle_deg)\n",
    "else:\n",
    "    radius_deg= np.sqrt(10/np.pi)\n",
    "    sigma90=radius_deg/np.sqrt(2)\n",
    "    sigma_deg=sigma90/1.5\n",
    "    circle_deg=6*sigma_deg\n",
    "    sigma_theta=np.radians(sigma_deg)\n",
    "    sigma_phi=np.radians(sigma_deg)\n",
    "    radius_rad=np.radians(circle_deg)\n",
    "#-------------------DATASHEET--------------------------------------\n",
    "#name='GW35xxxx_datasheet.txt'\n",
    "#file= open(name,'w')\n",
    "#my_header=['name\\t','dl\\t','theta\\t','phi\\t','z\\t','deltadl\\t','sigma_phi\\n']\n",
    "#file.writelines(my_header)\n",
    "#file.close()"
   ]
  },
  {
   "cell_type": "code",
   "execution_count": 54,
   "id": "ac67a6a2",
   "metadata": {},
   "outputs": [],
   "source": [
    "#ztest=np.linspace(0.9,1.5,150)\n",
    "#dltest=cosmoflag.luminosity_distance(ztest).value\n",
    "    \n",
    "#fig, ax = plt.subplots(1, figsize=(12,8)) #crea un tupla che poi è più semplice da gestire\n",
    "#ax.tick_params(axis='both', which='major', labelsize=14)\n",
    "#ax.yaxis.get_offset_text().set_fontsize(14)\n",
    "#ax.grid(linestyle='dotted', linewidth='0.6')#griglia in sfondo\n",
    "#colors=plt.cm.turbo(np.linspace(0.99,0.01,16))\n",
    "\n",
    "#ax.set_yscale('log')\n",
    "#ax.set_xscale('log')\n",
    "\n",
    "#ax.scatter(DS_z,DS_dl,label='catalog',color=colors[3])\n",
    "#ax.plot(ztest,dltest,label='theo',color=colors[11])\n",
    "#ax.set_xlabel(r'$z$', fontsize=20)\n",
    "#ax.set_ylabel(r'$dl$', fontsize=20)"
   ]
  },
  {
   "cell_type": "code",
   "execution_count": 9,
   "id": "963a5ff6",
   "metadata": {},
   "outputs": [
    {
     "name": "stdout",
     "output_type": "stream",
     "text": [
      "1.2065072052298285 8603.203346794842\n"
     ]
    }
   ],
   "source": [
    "print(np.mean(DS_z),np.mean(DS_dl))"
   ]
  },
  {
   "cell_type": "code",
   "execution_count": 55,
   "id": "604796aa",
   "metadata": {},
   "outputs": [
    {
     "name": "stderr",
     "output_type": "stream",
     "text": [
      "100%|█████████████████████████████████████████████████████████████| 342/342 [01:01<00:00,  5.60it/s]\n"
     ]
    }
   ],
   "source": [
    "#--------------------Maps Generations-------------------------------\n",
    "'''Use this when phi and theta both changes'''\n",
    "for i in tqdm(range(Numb_of_DS)):\n",
    "    numevent=int(350000)+i\n",
    "    fname='GW'+str(numevent)+'_PublicationSamples.fits'\n",
    "    zref=DS_z[i]\n",
    "    DS_phi=phi_gals[i]\n",
    "    DS_theta=theta_gals[i]\n",
    "    vec = hp.ang2vec(DS_theta, DS_phi)\n",
    "    ipix_disc = hp.query_disc(nside=nside, vec=vec, radius=radius_rad, nest=True)\n",
    "    #print(DS_theta,DS_phi)\n",
    "    if fisher==1:\n",
    "        gaussmap =np.zeros(len(p_posterior),dtype=np.float128)\n",
    "    else:\n",
    "        gaussmap =np.zeros(len(p_posterior))\n",
    "     #-------------inizialising some arrays------------   \n",
    "    mod_mu=np.zeros(len(p_posterior))\n",
    "    mod_sigma=np.zeros(len(p_posterior))\n",
    "    mod_postnorm=np.zeros(len(p_posterior))\n",
    "    theta_arr=np.zeros(len(p_posterior))\n",
    "    phi_arr=np.zeros(len(p_posterior))\n",
    "    gauss64 =np.zeros(len(p_posterior),dtype=np.float128)\n",
    "\n",
    "    dlref=DS_dl[i]#cosmoflag.luminosity_distance(zref).value\n",
    "    dlsig=0.01*dlref\n",
    "    #print(zref,dlref)\n",
    "    line=[str(numevent)+'\\t',str(dlref)+'\\t',str(DS_theta)+'\\t',str(DS_phi)+'\\t',str(zref)+'\\t',\n",
    "         str(dlsig)+'\\t',str(sigma_phi)+'\\n']\n",
    "\n",
    "    for i in ipix_disc:\n",
    "        theta,phi=hp.pix2ang(nside,i, nest=True)\n",
    "        theta_arr[i]=theta\n",
    "        phi_arr[i]=phi\n",
    "        #gaussmap[i]=sphere_uncorr_gauss(theta,phi,DS_theta,DS_phi,sigma_theta,sigma_phi)*hp.nside2pixarea(nside,degrees=True)\n",
    "        gaussmap[i]=np.float128(Mises_Fisher(theta,phi,DS_theta,DS_phi,conc))*np.float128(hp.nside2pixarea(nside,degrees=False))\n",
    "        mod_mu[i]=dlref#uncorr_gauss(theta,phi)\n",
    "        mod_sigma[i]=dlsig\n",
    "        mod_postnorm[i]=1#/(mygaussint(mod_mu[i],mod_sigma[i]))\n",
    "    gaussmap[ipix_disc]=gaussmap[ipix_disc]/np.sum(gaussmap)\n",
    "    #mod_postnorm[ipix_disc]=mod_postnorm[ipix_disc]/(len(ipix_disc))\n",
    "    #mod_postnorm[ipix_disc]=1/len(ipix_disc)#gaussmap[ipix_disc]\n",
    "\n",
    "    gauss64=np.float64(gaussmap)\n",
    "    dat=Table([gauss64,mod_mu,mod_sigma,mod_postnorm],\n",
    "          names=('PROB','DISTMU','DISTSIGMA','DISTNORM'))\n",
    "    fits.write_sky_map(fname,dat, nest=True)\n",
    "    with open(name,'a') as f:\n",
    "        f.writelines(line)"
   ]
  },
  {
   "cell_type": "markdown",
   "id": "dfdd2646",
   "metadata": {},
   "source": [
    "# Read Maps, Change sigma and/or Gauss displace\n",
    "Those changes will not appear in the datasheet, so attention"
   ]
  },
  {
   "cell_type": "code",
   "execution_count": 59,
   "id": "14f638ad",
   "metadata": {},
   "outputs": [
    {
     "name": "stdout",
     "output_type": "stream",
     "text": [
      "342\n"
     ]
    }
   ],
   "source": [
    "GW_data_path='/home/rciancarella/DarkSirensStat/data/GW/O3/'\n",
    "os.chdir(GW_data_path)\n",
    "all_files=os.listdir()\n",
    "GWs=[]\n",
    "for i in range(len(all_files)):\n",
    "    if 'GW320' in all_files[i]:\n",
    "        GWs.append(all_files[i])\n",
    "GWs=list(dict.fromkeys(GWs))\n",
    "del (all_files)\n",
    "print(len(GWs))"
   ]
  },
  {
   "cell_type": "code",
   "execution_count": 60,
   "id": "7d0c22a8",
   "metadata": {},
   "outputs": [
    {
     "name": "stderr",
     "output_type": "stream",
     "text": [
      "100%|███████████████████████████████████████████████████████████████████████| 342/342 [00:16<00:00, 20.70it/s]\n"
     ]
    }
   ],
   "source": [
    "for fname in tqdm(GWs):\n",
    "    #print(fname)\n",
    "    skymap, metadata = fits.read_sky_map(fname, nest=None, distances=True)\n",
    "    p_posterior= skymap[0]\n",
    "    mu= skymap[1]\n",
    "    sigma = skymap[2]\n",
    "    posteriorNorm= skymap[3]        \n",
    "    npix = len(p_posterior)\n",
    "    nside=hp.npix2nside(npix)\n",
    "    #alldl.append(mu[np.argmax(p_posterior)])\n",
    "    #print('Dl={}'.format(mu[np.argmax(p_posterior)]))\n",
    "    sigma=mu*0.1\n",
    "    sig=np.average(sigma,weights=p_posterior)\n",
    "    dl=np.average(mu,weights=p_posterior)\n",
    "    newdl=np.random.normal(dl,sig)\n",
    "    scale=newdl/dl\n",
    "    new_mu=scale*mu\n",
    "    #new_sigma=new_mu*0.1\n",
    "    #sig_avr=np.average(sigma,weights=p_posterior)\n",
    "    #print('average luminosity distance Sigma={} Mpc'.format(sig_avr))\n",
    "    #dat=Table([p_posterior,new_mu,sigma,posteriorNorm],\n",
    "    #          names=('PROB','DISTMU','DISTSIGMA','DISTNORM'))\n",
    "    #fits.write_sky_map(fname,dat, nest=True)"
   ]
  },
  {
   "cell_type": "code",
   "execution_count": 61,
   "id": "cd252962",
   "metadata": {},
   "outputs": [
    {
     "name": "stdout",
     "output_type": "stream",
     "text": [
      "9408.806287205822\n",
      "918.9983055023276\n",
      "9189.983055023275\n",
      "1.023811059375451\n"
     ]
    }
   ],
   "source": [
    "print(newdl)\n",
    "print(sig)\n",
    "print(dl)\n",
    "print(scale)"
   ]
  },
  {
   "cell_type": "markdown",
   "id": "8ff35644",
   "metadata": {},
   "source": [
    "# List Creator to config.py"
   ]
  },
  {
   "cell_type": "code",
   "execution_count": 19,
   "id": "4506fbed",
   "metadata": {},
   "outputs": [
    {
     "name": "stdout",
     "output_type": "stream",
     "text": [
      "'GW360000','GW360001','GW360002','GW360003','GW360004','GW360005','GW360006','GW360007','GW360008','GW360009','GW360010','GW360011','GW360012','GW360013','GW360014','GW360015','GW360016','GW360017','GW360018','GW360019','GW360020','GW360021','GW360022','GW360023','GW360024','GW360025','GW360026','GW360027','GW360028','GW360029'\n",
      "'GW360030','GW360031','GW360032','GW360033','GW360034','GW360035','GW360036','GW360037','GW360038','GW360039','GW360040','GW360041','GW360042','GW360043','GW360044','GW360045','GW360046','GW360047','GW360048','GW360049','GW360050','GW360051','GW360052','GW360053','GW360054','GW360055','GW360056','GW360057','GW360058'\n",
      "'GW360059','GW360060','GW360061','GW360062','GW360063','GW360064','GW360065','GW360066','GW360067','GW360068','GW360069','GW360070','GW360071','GW360072','GW360073','GW360074','GW360075','GW360076','GW360077','GW360078','GW360079','GW360080','GW360081','GW360082','GW360083','GW360084','GW360085','GW360086','GW360087'\n",
      "'GW360088','GW360089','GW360090','GW360091','GW360092','GW360093','GW360094','GW360095','GW360096','GW360097','GW360098','GW360099','GW360100','GW360101','GW360102','GW360103','GW360104','GW360105','GW360106','GW360107','GW360108','GW360109','GW360110','GW360111','GW360112','GW360113','GW360114','GW360115','GW360116'\n",
      "'GW360117','GW360118','GW360119','GW360120','GW360121','GW360122','GW360123','GW360124','GW360125','GW360126','GW360127','GW360128','GW360129','GW360130','GW360131','GW360132','GW360133','GW360134','GW360135','GW360136','GW360137','GW360138','GW360139','GW360140','GW360141','GW360142','GW360143','GW360144','GW360145'\n",
      "'GW360146','GW360147','GW360148','GW360149','GW360150','GW360151','GW360152','GW360153','GW360154','GW360155','GW360156','GW360157','GW360158','GW360159','GW360160','GW360161','GW360162','GW360163','GW360164','GW360165','GW360166','GW360167','GW360168','GW360169','GW360170','GW360171','GW360172','GW360173','GW360174'\n",
      "'GW360175','GW360176','GW360177','GW360178','GW360179','GW360180','GW360181','GW360182','GW360183','GW360184','GW360185','GW360186','GW360187','GW360188','GW360189','GW360190','GW360191','GW360192','GW360193','GW360194','GW360195','GW360196','GW360197','GW360198','GW360199','GW360200','GW360201','GW360202','GW360203'\n",
      "'GW360204','GW360205','GW360206','GW360207','GW360208','GW360209','GW360210','GW360211','GW360212','GW360213','GW360214','GW360215','GW360216','GW360217','GW360218','GW360219','GW360220','GW360221','GW360222','GW360223','GW360224','GW360225','GW360226','GW360227','GW360228','GW360229','GW360230','GW360231','GW360232'\n",
      "'GW360233','GW360234','GW360235','GW360236','GW360237','GW360238','GW360239','GW360240','GW360241','GW360242','GW360243','GW360244','GW360245','GW360246','GW360247','GW360248','GW360249','GW360250','GW360251','GW360252','GW360253','GW360254','GW360255','GW360256','GW360257','GW360258','GW360259','GW360260','GW360261'\n",
      "'GW360262','GW360263','GW360264','GW360265','GW360266','GW360267','GW360268','GW360269','GW360270','GW360271','GW360272','GW360273','GW360274','GW360275','GW360276','GW360277','GW360278','GW360279','GW360280','GW360281','GW360282','GW360283','GW360284','GW360285','GW360286','GW360287','GW360288','GW360289','GW360290'\n",
      "'GW360291','GW360292','GW360293','GW360294','GW360295','GW360296','GW360297','GW360298','GW360299','GW360300','GW360301','GW360302','GW360303','GW360304','GW360305','GW360306','GW360307','GW360308','GW360309','GW360310','GW360311','GW360312','GW360313','GW360314','GW360315','GW360316','GW360317','GW360318','GW360319'\n",
      "'GW360320','GW360321','GW360322','GW360323','GW360324','GW360325','GW360326','GW360327','GW360328','GW360329','GW360330','GW360331','GW360332','GW360333','GW360334','GW360335','GW360336','GW360337','GW360338','GW360339','GW360340','GW360341','GW360342','GW360343','GW360344','GW360345','GW360346','GW360347','GW360348'\n"
     ]
    }
   ],
   "source": [
    "names=[]\n",
    "\n",
    "for i in range(350):\n",
    "    numevent=int(360000)+i\n",
    "    fname=\"'\"+'GW'+str(numevent)+\"'\"\n",
    "    names.append(fname)\n",
    "    if (i % 29== 0)&(i>0):\n",
    "        to_print=','.join(names)\n",
    "        print('{}'.format(to_print))\n",
    "        names=[]"
   ]
  },
  {
   "cell_type": "code",
   "execution_count": 25,
   "id": "5be13418",
   "metadata": {},
   "outputs": [
    {
     "name": "stdout",
     "output_type": "stream",
     "text": [
      "'GW410000','GW410001','GW410002','GW410003','GW410004','GW410005','GW410006','GW410007','GW410008','GW410009','GW410010','GW410011','GW410012','GW410013','GW410014','GW410015','GW410016','GW410017','GW410018','GW410019','GW410020','GW410021','GW410022','GW410023','GW410024','GW410025','GW410026','GW410027','GW410028','GW410029','GW410030','GW410031','GW410032','GW410033','GW410034','GW410035','GW410036','GW410037','GW410038','GW410039','GW410040','GW410041','GW410042','GW410043','GW410044','GW410045','GW410046','GW410047','GW410048','GW410049','GW410050','GW410051','GW410052','GW410053','GW410054','GW410055','GW410056','GW410057','GW410058','GW410059','GW410060','GW410061','GW410062','GW410063','GW410064','GW410065','GW410066','GW410067','GW410068','GW410069','GW410070','GW410071','GW410072','GW410073','GW410074','GW410075','GW410076','GW410077','GW410078','GW410079','GW410080','GW410081','GW410082','GW410083','GW410084','GW410085','GW410086','GW410087','GW410088','GW410089','GW410090','GW410091','GW410092','GW410093','GW410094','GW410095','GW410096','GW410097','GW410098','GW410099','GW410100','GW410101','GW410102','GW410103','GW410104','GW410105','GW410106','GW410107','GW410108','GW410109','GW410110','GW410111','GW410112','GW410113','GW410114','GW410115','GW410116','GW410117','GW410118','GW410119','GW410120','GW410121','GW410122','GW410123','GW410124','GW410125','GW410126','GW410127','GW410128','GW410129','GW410130','GW410131','GW410132','GW410133','GW410134','GW410135','GW410136','GW410137','GW410138','GW410139','GW410140','GW410141','GW410142','GW410143','GW410144','GW410145','GW410146','GW410147','GW410148','GW410149','GW410150','GW410151','GW410152','GW410153','GW410154','GW410155','GW410156','GW410157','GW410158','GW410159','GW410160','GW410161','GW410162','GW410163','GW410164','GW410165','GW410166','GW410167','GW410168','GW410169','GW410170','GW410171','GW410172','GW410173','GW410174','GW410175','GW410176','GW410177','GW410178','GW410179','GW410180','GW410181','GW410182','GW410183','GW410184','GW410185','GW410186','GW410187','GW410188','GW410189','GW410190','GW410191','GW410192','GW410193','GW410194','GW410195','GW410196','GW410197','GW410198','GW410199','GW410200','GW410201','GW410202','GW410203','GW410204','GW410205','GW410206','GW410207','GW410208','GW410209','GW410210','GW410211','GW410212','GW410213','GW410214','GW410215','GW410216','GW410217','GW410218','GW410219','GW410220','GW410221','GW410222','GW410223','GW410224','GW410225','GW410226','GW410227','GW410228','GW410229','GW410230','GW410231','GW410232','GW410233','GW410234','GW410235','GW410236','GW410237','GW410238','GW410239','GW410240','GW410241','GW410242','GW410243','GW410244','GW410245','GW410246','GW410247','GW410248','GW410249','GW410250','GW410251','GW410252','GW410253','GW410254','GW410255','GW410256','GW410257','GW410258','GW410259','GW410260','GW410261','GW410262','GW410263','GW410264','GW410265','GW410266','GW410267','GW410268','GW410269','GW410270','GW410271','GW410272','GW410273','GW410274','GW410275','GW410276','GW410277','GW410278','GW410279','GW410280','GW410281','GW410282','GW410283','GW410284','GW410285','GW410286','GW410287','GW410288','GW410289','GW410290','GW410291','GW410292','GW410293','GW410294','GW410295','GW410296','GW410297','GW410298','GW410299','GW410300','GW410301','GW410302','GW410303','GW410304','GW410305','GW410306','GW410307','GW410308','GW410309','GW410310','GW410311','GW410312','GW410313','GW410314','GW410315','GW410316','GW410317','GW410318','GW410319','GW410320','GW410321','GW410322','GW410323','GW410324','GW410325','GW410326','GW410327','GW410328','GW410329','GW410330','GW410331','GW410332','GW410333','GW410334','GW410335','GW410336','GW410337','GW410338','GW410339','GW410340','GW410341'\n"
     ]
    }
   ],
   "source": [
    "names=[]\n",
    "\n",
    "for i in range(342):\n",
    "    numevent=int(410000)+i\n",
    "    fname=\"'\"+'GW'+str(numevent)+\"'\"\n",
    "    names.append(fname)\n",
    "    to_print=','.join(names)\n",
    "print('{}'.format(to_print))"
   ]
  },
  {
   "cell_type": "code",
   "execution_count": 18,
   "id": "48de3a58",
   "metadata": {},
   "outputs": [
    {
     "name": "stdout",
     "output_type": "stream",
     "text": [
      "'GW370','GW380','GW390','GW400','GW410','GW420','GW430','GW440','GW450','GW460','GW470','GW480','GW490','GW500','GW510','GW520','GW530','GW540','GW550','GW560','GW570','GW580','GW590','GW600','GW610','GW620','GW630','GW640','GW650','GW660','GW670','GW680','GW690','GW700','GW710','GW720','GW730','GW740','GW750','GW760','GW770','GW780','GW790','GW800','GW810','GW820','GW830','GW840','GW850','GW860'\n"
     ]
    }
   ],
   "source": [
    "names=[]\n",
    "\n",
    "for i in range(50):\n",
    "    numevent=int(37)+i\n",
    "    fname=\"'\"+'GW'+str(numevent)+'0'+\"'\"\n",
    "    names.append(fname)\n",
    "    to_print=','.join(names)\n",
    "print('{}'.format(to_print))"
   ]
  },
  {
   "cell_type": "markdown",
   "id": "5e1fcc19",
   "metadata": {},
   "source": [
    "# Reset\n",
    "those lines are used to reset the maps to the Datasheet state"
   ]
  },
  {
   "cell_type": "code",
   "execution_count": null,
   "id": "3c3d584c",
   "metadata": {},
   "outputs": [],
   "source": [
    "GW_data_path='/home/rciancarella/DarkSirensStat/data/GW/O3/'\n",
    "os.chdir(GW_data_path)"
   ]
  },
  {
   "cell_type": "code",
   "execution_count": 62,
   "id": "22e33d2a",
   "metadata": {},
   "outputs": [],
   "source": [
    "#-------------------DATASHEET--------------------------------------\n",
    "name='GW31xxxx_datasheet.txt'\n",
    "#file= open(name,'w')\n",
    "#my_header=['name\\t','dl\\t','theta\\t','phi\\t','z\\t','deltadl\\t','sigma_phi\\n']\n",
    "#file.writelines(my_header)\n",
    "#file.close()\n",
    "with open(name,'r') as f:\n",
    "    next(f)\n",
    "    lines=f.readlines()\n",
    "    GWs_dl=[]\n",
    "    GWs_theta=[]\n",
    "    GWs_phi=[]\n",
    "    GWs_z=[]\n",
    "    GWs_deltadl=[]\n",
    "    for x in lines:\n",
    "        GWs_dl.append(float(x.split('\\t')[1]))\n",
    "        GWs_theta.append(float(x.split('\\t')[2]))\n",
    "        GWs_phi.append(float(x.split('\\t')[3]))\n",
    "        GWs_z.append(float(x.split('\\t')[4]))\n",
    "        GWs_deltadl.append(float(x.split('\\t')[5]))\n",
    "    #for i in range(len(GW_z)):\n",
    "\n",
    "GWs_dl=np.asarray(GWs_dl)\n",
    "GWs_theta=np.asarray(GWs_theta)\n",
    "GWs_phi=np.asarray(GWs_phi)\n",
    "GWs_z=np.asarray(GWs_z)\n",
    "GWs_deltadl=np.asarray(GWs_deltadl)"
   ]
  },
  {
   "cell_type": "code",
   "execution_count": 63,
   "id": "60744b5d",
   "metadata": {},
   "outputs": [
    {
     "name": "stderr",
     "output_type": "stream",
     "text": [
      "100%|███████████████████████████████████████████████████████████████████████| 342/342 [01:19<00:00,  4.28it/s]\n"
     ]
    }
   ],
   "source": [
    "for i in tqdm(range(len(GWs_dl))):\n",
    "    numevent=int(310000)+i\n",
    "    fname='GW'+str(numevent)+'_PublicationSamples.fits'\n",
    "    zref=GWs_z[i]\n",
    "    DS_phi=GWs_phi[i]\n",
    "    DS_theta=GWs_theta[i]\n",
    "    vec = hp.ang2vec(DS_theta, DS_phi)\n",
    "    ipix_disc = hp.query_disc(nside=nside, vec=vec, radius=radius_rad, nest=True)\n",
    "    #print(DS_theta,DS_phi)\n",
    "    if fisher==1:\n",
    "        gaussmap =np.zeros(len(p_posterior),dtype=np.float128)\n",
    "    else:\n",
    "        gaussmap =np.zeros(len(p_posterior))\n",
    "     #-------------inizialising some arrays------------   \n",
    "    mod_mu=np.zeros(len(p_posterior))\n",
    "    mod_sigma=np.zeros(len(p_posterior))\n",
    "    mod_postnorm=np.zeros(len(p_posterior))\n",
    "    theta_arr=np.zeros(len(p_posterior))\n",
    "    phi_arr=np.zeros(len(p_posterior))\n",
    "    gauss64 =np.zeros(len(p_posterior),dtype=np.float128)\n",
    "\n",
    "    dlref=GWs_dl[i]#cosmoflag.luminosity_distance(zref).value\n",
    "    dlsig=0.01*dlref\n",
    "    #print(zref,dlref)\n",
    "    #line=[str(numevent)+'\\t',str(dlref)+'\\t',str(DS_theta)+'\\t',str(DS_phi)+'\\t',str(zref)+'\\t',\n",
    "    #     str(dlsig)+'\\t',str(sigma_phi)+'\\n']\n",
    "\n",
    "    for i in ipix_disc:\n",
    "        theta,phi=hp.pix2ang(nside,i, nest=True)\n",
    "        theta_arr[i]=theta\n",
    "        phi_arr[i]=phi\n",
    "        #gaussmap[i]=sphere_uncorr_gauss(theta,phi,DS_theta,DS_phi,sigma_theta,sigma_phi)*hp.nside2pixarea(nside,degrees=True)\n",
    "        gaussmap[i]=np.float128(Mises_Fisher(theta,phi,DS_theta,DS_phi,conc))*np.float128(hp.nside2pixarea(nside,degrees=False))\n",
    "        mod_mu[i]=dlref#uncorr_gauss(theta,phi)\n",
    "        mod_sigma[i]=dlsig\n",
    "        mod_postnorm[i]=1#/(mygaussint(mod_mu[i],mod_sigma[i]))\n",
    "    gaussmap[ipix_disc]=gaussmap[ipix_disc]/np.sum(gaussmap)\n",
    "    #mod_postnorm[ipix_disc]=mod_postnorm[ipix_disc]/(len(ipix_disc))\n",
    "    #mod_postnorm[ipix_disc]=1/len(ipix_disc)#gaussmap[ipix_disc]\n",
    "\n",
    "    gauss64=np.float64(gaussmap)\n",
    "    dat=Table([gauss64,mod_mu,mod_sigma,mod_postnorm],\n",
    "          names=('PROB','DISTMU','DISTSIGMA','DISTNORM'))\n",
    "    fits.write_sky_map(fname,dat, nest=True)\n",
    "    #with open(name,'a') as f:\n",
    "    #    f.writelines(line)"
   ]
  },
  {
   "cell_type": "code",
   "execution_count": null,
   "id": "d907959b",
   "metadata": {},
   "outputs": [],
   "source": [
    "fisher=1\n",
    "if fisher==1:\n",
    "    radius_deg= np.sqrt(10/np.pi)\n",
    "    sigma90=radius_deg/np.sqrt(2)\n",
    "    sigma_deg=sigma90/1.5\n",
    "    circle_deg=6*sigma_deg\n",
    "    sigma_theta=np.radians(sigma_deg)\n",
    "    sigma_phi=np.radians(sigma_deg)\n",
    "    conc=1/(sigma_phi**2)\n",
    "    print('Fisher concentration Parameter k={}'.format(conc))\n",
    "    radius_rad=np.radians(circle_deg)\n",
    "else:\n",
    "    radius_deg= np.sqrt(10/np.pi)\n",
    "    sigma90=radius_deg/np.sqrt(2)\n",
    "    sigma_deg=sigma90/1.5\n",
    "    circle_deg=6*sigma_deg\n",
    "    sigma_theta=np.radians(sigma_deg)\n",
    "    sigma_phi=np.radians(sigma_deg)\n",
    "    radius_rad=np.radians(circle_deg)\n",
    "\n",
    "phi_min=0.0001\n",
    "phi_max=1.5707961320877075\n",
    "theta_min=0.0001976218846182377\n",
    "theta_max=1.570796275052059\n",
    "phi_start=phi_min+5*sigma_phi\n",
    "phi_stop=phi_max-5*sigma_phi\n",
    "step =5* sigma_phi\n",
    "N=np.floor((phi_stop-phi_start)/step)\n",
    "N=int(N)\n",
    "#----------------------uniform in comoving DS-----------------------------\n",
    "zlen=10\n",
    "allredshift=np.zeros(zlen)\n",
    "my_zmin=1.1\n",
    "my_zmax=1.3\n",
    "my_dcom_min=cosmoflag.comoving_distance(my_zmin).value\n",
    "my_dcom_max=cosmoflag.comoving_distance(my_zmax).value\n",
    "alldcom=np.linspace(my_dcom_min,my_dcom_max,zlen)\n",
    "for i in range(zlen):\n",
    "    allredshift[i]=z_from_dcom(alldcom[i])\n",
    "#-------------------------------------------------------------------------\n",
    "print('Sigma_theta={}, Sigma_phi={}'.format(sigma_theta,sigma_phi))\n",
    "print('Sigma_theta={}°, Sigma_phi={}°'.format(np.rad2deg(sigma_theta)\n",
    "                                              ,np.rad2deg(sigma_phi)))\n",
    "print(step, N)\n",
    "allphi=np.arange(0,N)*step+phi_start\n",
    "\n",
    "\n",
    "truethetamin=theta_min+6*sigma_theta\n",
    "truethetamax=theta_max-6*sigma_theta\n",
    "M=np.floor((truethetamax-truethetamin)/step)\n",
    "M=int(M)\n",
    "alltheta=np.arange(0,M)*step+truethetamin\n"
   ]
  },
  {
   "cell_type": "code",
   "execution_count": 14,
   "id": "53662ceb",
   "metadata": {},
   "outputs": [
    {
     "name": "stderr",
     "output_type": "stream",
     "text": [
      "100%|███████████████████████████████████████████████████████████████████████████| 1/1 [00:08<00:00,  8.81s/it]\n"
     ]
    }
   ],
   "source": [
    "allredshift=np.linspace(1.1,1.3,10)\n",
    "fisher=1\n",
    "if fisher==1:\n",
    "    radius_deg= np.sqrt(1000/np.pi)\n",
    "    sigma90=radius_deg/np.sqrt(2)\n",
    "    sigma_deg=sigma90/1.5\n",
    "    circle_deg=6*sigma_deg\n",
    "    sigma_theta=np.radians(sigma_deg)\n",
    "    sigma_phi=np.radians(sigma_deg)\n",
    "    conc=1/(sigma_phi**2)\n",
    "    #conc=100\n",
    "    #sigma_phi=np.sqrt(1/conc)\n",
    "    #sigma_theta=sigma_phi\n",
    "    radius_rad=np.radians(circle_deg)\n",
    "for k in tqdm(range(1)):\n",
    "    numevent=int(220000)+k\n",
    "    fname='GW'+str(numevent)+'_PublicationSamples.fits'\n",
    "    zref=allredshift[k]\n",
    "    #print(zref)\n",
    "    DS_phi=np.pi/4\n",
    "    DS_theta=np.pi/4\n",
    "    vec = hp.ang2vec(DS_theta, DS_phi)\n",
    "    ipix_disc = hp.query_disc(nside=nside, vec=vec, radius=radius_rad, nest=True)\n",
    "    #print(DS_theta,DS_phi)\n",
    "    gaussmap =np.zeros(len(p_posterior),dtype=np.float128)\n",
    "    mod_mu=np.zeros(len(p_posterior))\n",
    "    mod_sigma=np.zeros(len(p_posterior))\n",
    "    mod_postnorm=np.zeros(len(p_posterior))\n",
    "    theta_arr=np.zeros(len(p_posterior))\n",
    "    phi_arr=np.zeros(len(p_posterior))\n",
    "\n",
    "    dlref=cosmoflag.luminosity_distance(zref).value\n",
    "    dlsig=0.01*dlref\n",
    "    line=[str(numevent)+'\\t',str(dlref)+'\\t',str(DS_theta)+'\\t',str(DS_phi)+'\\t',str(zref)+'\\t',\n",
    "         str(dlsig)+'\\n']\n",
    "    \n",
    "    for i in ipix_disc:\n",
    "        theta,phi=hp.pix2ang(nside,i, nest=True)\n",
    "        theta_arr[i]=theta\n",
    "        phi_arr[i]=phi\n",
    "        #gaussmap[i]=uncorr_gauss(theta,phi,DS_theta,DS_phi,sigma_theta,sigma_phi)*hp.nside2pixarea(nside,degrees=True)\n",
    "        gaussmap[i]=np.float128(Mises_Fisher(theta,phi,DS_theta,DS_phi,conc))*np.float128(hp.nside2pixarea(nside,degrees=False))\n",
    "        mod_mu[i]=dlref#uncorr_gauss(theta,phi)\n",
    "        mod_sigma[i]=dlsig\n",
    "        #mod_postnorm[i]=1/(mygaussint(mod_mu[i],mod_sigma[i]))\n",
    "    #gaussmap[ipix_disc] = 1/len(ipix_disc)\n",
    "    gaussmap[ipix_disc]=gaussmap[ipix_disc]/np.sum(gaussmap)\n",
    "    #mod_postnorm[ipix_disc]=1/(len(ipix_disc))\n",
    "    mod_postnorm[ipix_disc]=1\n",
    "    gauss64 =np.zeros(len(p_posterior),dtype=np.float128)\n",
    "    gauss64=np.float64(gaussmap)\n",
    "    dat=Table([gauss64,mod_mu,mod_sigma,mod_postnorm],\n",
    "          names=('PROB','DISTMU','DISTSIGMA','DISTNORM'))\n",
    "    #fits.write_sky_map(fname,dat, nest=True)\n",
    "   # with open(name,'a') as f:\n",
    "    #    f.writelines(line)"
   ]
  },
  {
   "cell_type": "code",
   "execution_count": 15,
   "id": "6ad81bc5",
   "metadata": {},
   "outputs": [
    {
     "data": {
      "image/png": "[encoded data removed]",
      "text/plain": [
       "<Figure size 612x388.8 with 2 Axes>"
      ]
     },
     "metadata": {
      "needs_background": "light"
     },
     "output_type": "display_data"
    }
   ],
   "source": [
    "hp.mollview(gauss64, title=fname,nest=True)"
   ]
  },
  {
   "cell_type": "code",
   "execution_count": null,
   "id": "f35d9a5b",
   "metadata": {},
   "outputs": [],
   "source": []
  }
 ],
 "metadata": {
  "kernelspec": {
   "display_name": "Python 3 (ipykernel)",
   "language": "python",
   "name": "python3"
  },
  "language_info": {
   "codemirror_mode": {
    "name": "ipython",
    "version": 3
   },
   "file_extension": ".py",
   "mimetype": "text/x-python",
   "name": "python",
   "nbconvert_exporter": "python",
   "pygments_lexer": "ipython3",
   "version": "3.10.6"
  }
 },
 "nbformat": 4,
 "nbformat_minor": 5
}
