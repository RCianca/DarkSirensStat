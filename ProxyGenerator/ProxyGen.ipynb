{
 "cells": [
  {
   "cell_type": "code",
   "execution_count": 1,
   "id": "9abeb70a",
   "metadata": {},
   "outputs": [
    {
     "name": "stderr",
     "output_type": "stream",
     "text": [
      "WARNING: AstropyDeprecationWarning: The get_cosmology_from_string method is deprecated and may be removed in a future version.\n",
      "        Use get instead. [ligo.skymap.postprocess.cosmology]\n"
     ]
    }
   ],
   "source": [
    "import pandas as pd\n",
    "import numpy as np\n",
    "import healpy as hp\n",
    "import matplotlib.pyplot as plt\n",
    "import scipy\n",
    "from scipy.optimize import fsolve\n",
    "\n",
    "from astropy.cosmology import Planck15\n",
    "from astropy.cosmology import FlatLambdaCDM\n",
    "from astropy.table import Table\n",
    "import astropy \n",
    "from ligo.skymap.io import fits\n",
    "from ligo.skymap.postprocess import find_greedy_credible_levels\n",
    "\n",
    "import os\n",
    "from os import listdir\n",
    "from os.path import isfile, join\n",
    "\n",
    "import sys\n",
    "from tqdm import tqdm\n",
    "from numba import njit\n",
    "\n",
    "H0GLOB=67 #69\n",
    "Om0GLOB=0.319\n",
    "Xi0Glob =1.\n",
    "clight = 2.99792458* 10**5#km/s\n",
    "cosmoflag = FlatLambdaCDM(H0=H0GLOB, Om0=Om0GLOB)\n"
   ]
  },
  {
   "cell_type": "code",
   "execution_count": 58,
   "id": "b46975ce",
   "metadata": {},
   "outputs": [],
   "source": [
    "def get_ename(fname, verbose=True):\n",
    "\n",
    "        if len(fname.split('/')[-1].split('_')) <= 2:    #Same as before since certain names contain a \"_\"\n",
    "            event_name = fname.split('/')[-1].split('_')[0]\n",
    "        elif len(fname.split('/')[-1].split('_')) > 2:\n",
    "            event_name = fname.split('/')[-1].split('_')[0]+'_'+fname.split('/')[-1].split('_')[1]\n",
    "        else:\n",
    "            raise ValueError('Could not set event name. Got fname= %s'%fname)\n",
    "        if verbose:\n",
    "            print('-- %s' %event_name)\n",
    "        return event_name\n",
    "    \n",
    "def find_ra_dec(nside, pix):\n",
    "        '''\n",
    "        input:  pixel ra dec in degrees\n",
    "        output: (ra, dec) of pixel center in degrees, with nside given by that of the skymap \n",
    "        '''\n",
    "        theta, phi =find_theta_phi(nside,pix)\n",
    "        ra, dec = ra_dec_from_th_phi(theta, phi)\n",
    "        return ra, dec    \n",
    "    \n",
    "def ra_dec_from_th_phi(theta, phi):\n",
    "        ra = np.rad2deg(phi)\n",
    "        dec = np.rad2deg(0.5 * np.pi - theta)\n",
    "        return ra, dec\n",
    "    \n",
    "def find_theta_phi(nside, pix):\n",
    "        '''\n",
    "        input:  pixel\n",
    "        output: (theta, phi)of pixel center in rad, with nside given by that of the skymap \n",
    "        '''\n",
    "        return hp.pix2ang(nside, pix, nest=True)\n",
    "    \n",
    "def _read_O3( fname, convert_nested=True):\n",
    "        \n",
    "        skymap, metadata = fits.read_sky_map(fname, nest=None, distances=True) #Read the skymap\n",
    "        event_name = get_ename(fname, verbose=True)\n",
    "        print('Event: %s' %event_name)\n",
    "        if (convert_nested) & (metadata['nest']): #If one wants RING ordering (the one of O2 data afaik) just has to set \"convert_nested\" to True\n",
    "            p_posterior = hp.reorder(skymap[0],n2r=True)\n",
    "            mu = hp.reorder(skymap[1],n2r=True)\n",
    "            sigma = hp.reorder(skymap[2],n2r=True)\n",
    "            posteriorNorm = hp.reorder(skymap[3],n2r=True)\n",
    "            print('convertito da nested a ring')\n",
    "            mu_avr=np.average(mu,weights=p_posterior)\n",
    "            print('average luminosity distance={} Mpc'.format(mu_avr))\n",
    "            sig_avr=np.average(sigma,weights=p_posterior)\n",
    "            print('average luminosity distance Sigma={} Mpc'.format(sig_avr))\n",
    "            Norm_avr=np.average(posteriorNorm,weights=p_posterior)\n",
    "            print('average posteriorNorm={} Mpc'.format(Norm_avr))\n",
    "            z_gw=z_from_dL(mu_avr)\n",
    "        else:\n",
    "            p_posterior= skymap[0]\n",
    "            mu= skymap[1]\n",
    "            sigma = skymap[2]\n",
    "            posteriorNorm= skymap[3]        \n",
    "        npix = len(p_posterior)\n",
    "        nside=hp.npix2nside(npix)\n",
    "        theta,phi=find_theta_phi(nside,np.argmax(p_posterior))\n",
    "        print('Theta={}, Phi={}'.format(theta, phi))\n",
    "        ra, dec=find_ra_dec(nside,np.argmax(p_posterior))\n",
    "        print('Right Ascension={}, Declination={}'.format(ra, dec))\n",
    "        mu_avr=np.average(mu,weights=p_posterior)\n",
    "        print('average luminosity distance={} Mpc'.format(mu_avr))\n",
    "        sig_avr=np.average(sigma,weights=p_posterior)\n",
    "        print('average luminosity distance Sigma={} Mpc'.format(sig_avr))\n",
    "        Norm_avr=np.average(posteriorNorm,weights=p_posterior)\n",
    "        print('average posteriorNorm={}'.format(Norm_avr))\n",
    "        #print(metadata)\n",
    "        #dl=metadata['distmean']\n",
    "        #std=metadata['diststd']\n",
    "        #z=cosmoglob.H(0).value*dl/clight\n",
    "        #sigz=cosmoglob.H(0).value*std/clight\n",
    "        #print('dL={}Mpc, std={}Mpc'.format(dl,std))\n",
    "        #print('z={}, delta_z={}'.format(z,sigz))\n",
    "        #print('\\n')\n",
    "        head = None\n",
    "def z_from_dL(dL_GW_val):\n",
    "    '''\n",
    "    Returns redshift for a given luminosity distance dL_GW_val (in Mpc)\n",
    "    \n",
    "    Input:\n",
    "        - dL_GW_val luminosity dist in Mpc\n",
    "        - H0\n",
    "        - Xi0: float. Value of Xi_0\n",
    "        - n: float. Value of n\n",
    "\n",
    "    '''   \n",
    "    #print(cosmo.H0)\n",
    "    func = lambda z : cosmoflag.luminosity_distance(z).value - dL_GW_val\n",
    "    z = fsolve(func, 1)\n",
    "    return z[0]\n",
    "\n",
    "def z_from_dcom(dc_val):\n",
    "    '''\n",
    "    Returns redshift for a given comoving distance dc (in Mpc)'''\n",
    "    \n",
    "    func = lambda z :cosmoflag.comoving_distance(z).value - dc_val\n",
    "    z = fsolve(func, 0.77)\n",
    "    return z[0]\n",
    "\n",
    "def mygaussint(prov_mu,prov_sigma,rho=1):\n",
    "    first=np.exp(-(prov_mu**2)/(2*prov_sigma**2))*prov_mu*rho*prov_sigma/np.sqrt(2*np.pi)\n",
    "    factor=0.5*rho*(prov_mu**2+prov_sigma**2)\n",
    "    second=(1+scipy.special.erf(prov_mu/(np.sqrt(2)*prov_sigma)))\n",
    "    ret=first+factor*second\n",
    "    return ret\n",
    "#@njit\n",
    "def sphere_uncorr_gauss(x,y,mux,muy,sigx,sigy):\n",
    "    #correlation is 0 so is a multiplication of two gaussians\n",
    "    #x is theta, y is phi\n",
    "    #meanvec=(mux,muy)\n",
    "    meanvec=hp.ang2vec(mux,muy)\n",
    "    #meanvec=np.asarray((1,mux,muy))\n",
    "    norm=np.sqrt(np.sum(meanvec**2))\n",
    "    meanvec=meanvec/norm\n",
    "    \n",
    "    #var=(x,y)\n",
    "    var=hp.ang2vec(x,y)\n",
    "    #var=np.asarray((1,x,y))\n",
    "    #norm=np.sqrt(np.dot(var,var))\n",
    "    norm=np.sqrt(np.sum(var**2))\n",
    "    var=var/norm\n",
    "    \n",
    "    diff=meanvec-var\n",
    "    diff_len=np.sqrt(np.sum(diff**2))\n",
    "    #xfactor=((x-mux)/sigx)**2\n",
    "    #yfactor=((y*(1-np.sin(y))-muy*(1-np.sin(muy)))/sigy)**2\n",
    "    #yfactor=((y-muy)/sigy)**2\n",
    "    #norm=2*np.pi*sigx*sigy\n",
    "    factor=((diff_len)/sigy)**2\n",
    "    ret=np.exp(-(1/2)*(factor))#/norm\n",
    "    #ret=np.exp(-1/2*(xfactor+yfactor))\n",
    "    return ret\n",
    "\n",
    "def Mises_Fisher(theta,phi,DS_theta,DS_phi,conc):\n",
    "    meanvec=hp.ang2vec(DS_theta,DS_phi)\n",
    "    meanvec=np.asarray(meanvec,dtype=np.float128)\n",
    "    norm=np.sqrt(np.dot(meanvec,meanvec))\n",
    "    meanvec=meanvec/norm\n",
    "    \n",
    "    var=hp.ang2vec(theta,phi)\n",
    "    var=np.asarray(var,dtype=np.float128)\n",
    "    norm=np.sqrt(np.dot(var,var))\n",
    "    var=var/norm\n",
    "    \n",
    "    factor=np.dot(conc*var,meanvec)\n",
    "    factor=np.float128(factor)\n",
    "    #Normalization is futile, we will devide by the sum\n",
    "    #fullnorm=conc/(2*np.pi*(np.exp(conc)-np.exp(-conc)))\n",
    "    ret=np.float128(np.exp(factor))#/fullnorm\n",
    "    #ret=factor\n",
    "    return ret"
   ]
  },
  {
   "cell_type": "code",
   "execution_count": null,
   "id": "ec25c485",
   "metadata": {},
   "outputs": [],
   "source": [
    "#GWdata path\n",
    "GW_data_path='/home/rciancarella/DarkSirensStat/data/GW/Hold_O3/'\n",
    "os.chdir(GW_data_path)\n",
    "#all_event=os.listdir()"
   ]
  },
  {
   "cell_type": "markdown",
   "id": "24d9987e",
   "metadata": {},
   "source": [
    "  # Function to exploit, find how to localise an event and produce a proxy one. \n",
    "   def _read_O3(self, fname, convert_nested=True):\n",
    "        \n",
    "   skymap, metadata = fits.read_sky_map(fname, nest=None, distances=True) #Read the skymap\n",
    "        self.event_name = get_ename(fname, verbose=self.verbose)\n",
    "        if self.verbose:\n",
    "                print('\\nEvent: %s' %self.event_name)\n",
    "                #Raul: prints for control\n",
    "                print('Delta=%s. If delta=1, normal run '%delta)\n",
    "        if (convert_nested) & (metadata['nest']): #If one wants RING ordering (the one of O2 data afaik) just has to set \"convert_nested\" to True\n",
    "            self.p_posterior = hp.reorder(skymap[0],n2r=True)\n",
    "            self.mu = hp.reorder(skymap[1],n2r=True)\n",
    "            self.sigma = hp.reorder(skymap[2],n2r=True)*delta\n",
    "            self.posteriorNorm = hp.reorder(skymap[3],n2r=True)\n",
    "        else:\n",
    "            self.p_posterior= skymap[0]\n",
    "            self.mu= skymap[1]\n",
    "            self.sigma = skymap[2]*delta\n",
    "            self.posteriorNorm= skymap[3]    "
   ]
  },
  {
   "cell_type": "code",
   "execution_count": null,
   "id": "8c88ee72",
   "metadata": {},
   "outputs": [],
   "source": [
    "#Some files to look at \n",
    "filenames=['GW190814_PublicationSamples.fits'\n",
    "           #,'GW190924_021846_PublicationSamples.fits'\n",
    "           #,'GW190412_PublicationSamples.fits'\n",
    "           #,'GW190915_235702_PublicationSamples.fits',\n",
    "           #'GW190708_232457_PublicationSamples.fits',\n",
    "           #'GW190421_213856_PublicationSamples.fits',\n",
    "           #,'GW190527_092055_PublicationSamples.fits' \n",
    "           ]\n",
    "########################## THIS GIVE US SOME INFO ######################################\n",
    "#for name in filenames:\n",
    "#    _read_O3(name)\n",
    "########################################################################################\n",
    "fname ='GW190814_PublicationSamples.fits'\n",
    "alldl=[]\n",
    "allsig=[]\n",
    "for fname in filenames:\n",
    "    print(fname)\n",
    "    skymap, metadata = fits.read_sky_map(fname, nest=None, distances=True)\n",
    "    p_posterior= skymap[0]\n",
    "    mu= skymap[1]\n",
    "    sigma = skymap[2]\n",
    "    posteriorNorm= skymap[3]        \n",
    "    npix = len(p_posterior)\n",
    "    print('npix={}'.format(npix))\n",
    "    nside=hp.npix2nside(npix)\n",
    "    print('nside={}'.format(nside))\n",
    "    theta,phi=find_theta_phi(nside,np.argmax(p_posterior))\n",
    "    ra, dec=find_ra_dec(nside,np.argmax(p_posterior))\n",
    "    print('RA={},dec={},theta={},phi={}'.format(ra,dec,theta,phi))\n",
    "    alldl.append(mu[np.argmax(p_posterior)])\n",
    "    print('Dl={}'.format(mu[np.argmax(p_posterior)]))\n",
    "    sig_avr=np.average(sigma,weights=p_posterior)\n",
    "    allsig.append(sig_avr)\n",
    "    print('average luminosity distance Sigma={} Mpc'.format(sig_avr))\n",
    "    #print(len(p_posterior))\n",
    "#alldl=np.asarray(alldl)\n",
    "#print(np.mean(alldl))"
   ]
  },
  {
   "cell_type": "code",
   "execution_count": null,
   "id": "fa93342b",
   "metadata": {},
   "outputs": [],
   "source": [
    "sig_perc=[]\n",
    "for i in range(len(alldl)):\n",
    "    sig_perc.append(100*allsig[i]/alldl[i])\n",
    "sig_perc=np.asarray(sig_perc[0:-1])\n",
    "print(np.mean(sig_perc))"
   ]
  },
  {
   "cell_type": "code",
   "execution_count": null,
   "id": "b6ea4dcc",
   "metadata": {},
   "outputs": [],
   "source": [
    "my_theta,my_phi=hp.pix2ang(nside, np.argmax(p_posterior), nest=True)\n",
    "vec = hp.ang2vec(my_theta, my_phi)\n",
    "my_maxpix=hp.ang2pix(nside, my_theta, my_phi,nest=True)\n",
    "maxpix=np.argmax(p_posterior)\n",
    "print(maxpix,my_maxpix)"
   ]
  },
  {
   "cell_type": "code",
   "execution_count": null,
   "id": "2d819853",
   "metadata": {},
   "outputs": [],
   "source": [
    "print(vec)"
   ]
  },
  {
   "cell_type": "code",
   "execution_count": null,
   "id": "efdfa4b7",
   "metadata": {},
   "outputs": [],
   "source": [
    "hp.mollview(p_posterior, title=fname,nest=True)"
   ]
  },
  {
   "cell_type": "code",
   "execution_count": null,
   "id": "59e0ee66",
   "metadata": {},
   "outputs": [],
   "source": [
    "credible_levels = find_greedy_credible_levels(p_posterior)\n",
    "Ligo_Area_99_deg=np.sum(credible_levels <= 0.99) * hp.nside2pixarea(nside, degrees=True)\n",
    "Ligo_Area_90_deg=np.sum(credible_levels <= 0.9) * hp.nside2pixarea(nside, degrees=True)\n",
    "print('Ligo area_deg 99% is {}\\nLigo area_deg 90% is {} '.format(Ligo_Area_99_deg,Ligo_Area_90_deg))"
   ]
  },
  {
   "cell_type": "code",
   "execution_count": null,
   "id": "2c8f5d9e",
   "metadata": {},
   "outputs": [],
   "source": [
    "_read_O3(fname)"
   ]
  },
  {
   "cell_type": "code",
   "execution_count": null,
   "id": "f247f052",
   "metadata": {},
   "outputs": [],
   "source": [
    "vec = hp.ang2vec(my_theta, my_phi)\n",
    "ipix_disc = hp.query_disc(nside=nside, vec=vec, radius=np.radians(circle_deg), nest=True)\n",
    "ipix_90 = hp.query_disc(nside=nside, vec=vec, radius=np.radians(radius_deg), nest=True)\n",
    "m =np.zeros(len(p_posterior))\n",
    "m[ipix_disc] = 1/len(ipix_disc)\n",
    "hp.mollview(m, title=\"Gaussian Mask\",nest=True)"
   ]
  },
  {
   "cell_type": "code",
   "execution_count": null,
   "id": "cfab7d03",
   "metadata": {},
   "outputs": [],
   "source": [
    "Mock_Area_deg=len(ipix_disc) * hp.nside2pixarea(nside, degrees=True)\n",
    "Mock_Area_90_deg=len(ipix_90) *hp.nside2pixarea(nside, degrees=True)\n",
    "print('99.9999% area is {} squared deg\\n90% area is {} squared deg'.format(Mock_Area_deg,Mock_Area_90_deg))"
   ]
  },
  {
   "cell_type": "code",
   "execution_count": null,
   "id": "545c8fc4",
   "metadata": {},
   "outputs": [],
   "source": [
    "'''\n",
    "https://emfollow.docs.ligo.org/userguide/tutorial/skymaps.html(for ref on skymap)\n",
    "\n",
    "Now we need to rescale the probability. We set the prob=0 ouside the circle\n",
    "We assume that the renormalization is constant.\n",
    "We crate a mask with our circle. Outside the mask p_posterior=0, the renormalization\n",
    "constan alpha, is therefore 1/sum(p_posterior()). This ensure unitarity. \n",
    "\n",
    "If this works, than we will use a 2D Gaussian distribution for the probability\n",
    "\n",
    "'''\n"
   ]
  },
  {
   "cell_type": "code",
   "execution_count": null,
   "id": "bfa9fdea",
   "metadata": {},
   "outputs": [],
   "source": [
    "fname ='GW190708_232457_PublicationSamples.fits'\n",
    "print(fname)\n",
    "skymap, metadata = fits.read_sky_map(fname, nest=None, distances=True)\n",
    "p_posterior= skymap[0]\n",
    "mu= skymap[1]\n",
    "sigma = skymap[2]\n",
    "posteriorNorm= skymap[3]        \n",
    "npix = len(p_posterior)\n",
    "nside=hp.npix2nside(npix)\n",
    "hp.mollview(p_posterior, title=fname,nest=True)"
   ]
  },
  {
   "cell_type": "code",
   "execution_count": null,
   "id": "91d08948",
   "metadata": {},
   "outputs": [],
   "source": [
    "#saved_prob=np.zeros(len(p_posterior))\n",
    "#saved_prob[ipix_disc]=p_posterior[ipix_disc]\n",
    "#prob_to_write=np.zeros(len(p_posterior))\n",
    "#alpha=1/np.sum(saved_prob)\n",
    "#prob_to_write[ipix_disc]=alpha*saved_prob[ipix_disc]"
   ]
  },
  {
   "cell_type": "code",
   "execution_count": null,
   "id": "c848b309",
   "metadata": {},
   "outputs": [],
   "source": [
    "#print(np.sum(prob_to_write))"
   ]
  },
  {
   "cell_type": "code",
   "execution_count": null,
   "id": "433cef76",
   "metadata": {},
   "outputs": [],
   "source": [
    "#hp.mollview(prob_to_write, title=\"Mollview image NESTED\",nest=True)"
   ]
  },
  {
   "cell_type": "code",
   "execution_count": null,
   "id": "53b6fa15",
   "metadata": {},
   "outputs": [],
   "source": [
    "#my_sky_tosave=(prob_to_write,skymap[1],sigma,posteriorNorm)\n",
    "#my_sky_tosave=np.array([prob_to_write,mu,sigma,posteriorNorm])\n",
    "#dat=Table([prob_to_write,mu,sigma,posteriorNorm],\n",
    "#          names=('PROB','DISTMU','DISTSIGMA','DISTNORM'))\n",
    "#dat.write('Amap.fits',format='fits',overwrite=True)\n",
    "#fits.write_sky_map('Amap.fits',dat, nest=True)"
   ]
  },
  {
   "cell_type": "code",
   "execution_count": null,
   "id": "3ec58cb7",
   "metadata": {},
   "outputs": [],
   "source": [
    "#check result"
   ]
  },
  {
   "cell_type": "code",
   "execution_count": null,
   "id": "e927c5b8",
   "metadata": {},
   "outputs": [],
   "source": [
    "#my_data,my_meta=fits.read_sky_map(\"Amap.fits\",nest=None, distances=True)\n",
    "#print(my_meta)"
   ]
  },
  {
   "cell_type": "code",
   "execution_count": null,
   "id": "a039790c",
   "metadata": {},
   "outputs": [],
   "source": [
    "#hp.mollview(my_data[0], title=\"Mollview image NESTED\",nest=True)"
   ]
  },
  {
   "cell_type": "code",
   "execution_count": null,
   "id": "e75e0099",
   "metadata": {},
   "outputs": [],
   "source": [
    "#print(my_meta)"
   ]
  },
  {
   "cell_type": "code",
   "execution_count": null,
   "id": "dfdf7282",
   "metadata": {},
   "outputs": [],
   "source": [
    "#_read_O3('Amap.fits')"
   ]
  },
  {
   "cell_type": "code",
   "execution_count": null,
   "id": "2d74ea6d",
   "metadata": {},
   "outputs": [],
   "source": [
    "temp_theta,temp_phi=find_theta_phi(nside,np.argmax(gaussmap))\n",
    "temp_ra, temp_dec=find_ra_dec(nside,np.argmax(gaussmap))\n",
    "print('GW221005 location: theta={}, phi={}, RA={}, DEC={}'.format(temp_theta,temp_phi,temp_ra,temp_dec))"
   ]
  },
  {
   "cell_type": "code",
   "execution_count": null,
   "id": "bb87b61b",
   "metadata": {},
   "outputs": [],
   "source": []
  },
  {
   "cell_type": "code",
   "execution_count": null,
   "id": "1d53b221",
   "metadata": {},
   "outputs": [],
   "source": [
    "fname ='GW221900_PublicationSamples.fits'\n",
    "my_data,my_meta=fits.read_sky_map(fname,nest=None, distances=True)"
   ]
  },
  {
   "cell_type": "code",
   "execution_count": null,
   "id": "72bd2654",
   "metadata": {},
   "outputs": [],
   "source": [
    "my_prob=my_data[0]\n",
    "my_mu=my_data[1]\n",
    "my_sigma=my_data[2]\n",
    "npix = len(my_prob)\n",
    "nside=hp.npix2nside(npix)\n",
    "#my_mu[np.isinf(my_mu)]=0\n",
    "hp.mollview(my_prob, title=fname,nest=True)"
   ]
  },
  {
   "cell_type": "code",
   "execution_count": null,
   "id": "ee3856a0",
   "metadata": {},
   "outputs": [],
   "source": [
    "my_theta,my_phi=find_theta_phi(nside,np.argmax(my_prob))\n",
    "my_ra, my_dec=find_ra_dec(nside,np.argmax(my_prob))\n",
    "print('GW location: theta={}, phi={}, RA={}, DEC={}'.format(my_theta,my_phi,my_ra,my_dec))\n",
    "mu_avr=np.average(my_mu,weights=my_prob)\n",
    "print('average luminosity distance={} Mpc'.format(mu_avr))\n",
    "sig_avr=np.average(my_sigma,weights=my_prob)\n",
    "print('average luminosity distance Sigma={} Mpc'.format(sig_avr))\n",
    "z_gw=z_from_dL(mu_avr)\n",
    "print('redshift={}, in flagship cosmology'.format(z_gw))\n",
    "comov=mu_avr/(1+z_gw)\n",
    "print('comoving distance={}'.format(comov))"
   ]
  },
  {
   "cell_type": "code",
   "execution_count": null,
   "id": "96d5a6c4",
   "metadata": {},
   "outputs": [],
   "source": [
    "np.argmax(my_prob)\n",
    "maxtheta,maxphi=hp.pix2ang(nside, 841536)\n",
    "vicini=hp.get_all_neighbours(nside,maxtheta,maxphi)\n",
    "print(maxtheta,maxphi)\n",
    "print(vicini)"
   ]
  },
  {
   "cell_type": "code",
   "execution_count": null,
   "id": "e495e4d1",
   "metadata": {},
   "outputs": [],
   "source": [
    "for i in vicini:\n",
    "    maxtheta,maxphi=hp.pix2ang(nside, i, nest=True)\n",
    "    print(hp.get_all_neighbours(nside,maxtheta,maxphi,nest=True))"
   ]
  },
  {
   "cell_type": "code",
   "execution_count": null,
   "id": "5bfa8106",
   "metadata": {},
   "outputs": [],
   "source": [
    "if(np.isnan(my_prob).any()):\n",
    "    print(\"The Array contain NaN values\")\n",
    "else:\n",
    "    print(\"The Array does not contain NaN values\")\n",
    "if(np.isnan(my_mu).any()):\n",
    "    print(\"The Array contain NaN values\")\n",
    "else:\n",
    "    print(\"The Array does not contain NaN values\")\n",
    "    \n",
    "if(np.isinf(my_prob).any()):\n",
    "    print(\"The Array contain inf values\")\n",
    "else:\n",
    "    print(\"The Array does not contain inf values\")\n",
    "if(np.isinf(my_mu).any()):\n",
    "    print(\"The Array contain inf values\")\n",
    "else:\n",
    "    print(\"The Array does not contain inf values\")"
   ]
  },
  {
   "cell_type": "code",
   "execution_count": null,
   "id": "8d41312b",
   "metadata": {},
   "outputs": [],
   "source": [
    "credible_levels = find_greedy_credible_levels(gaussmap)\n",
    "Ligo_Area_99_deg=np.sum(credible_levels <= 0.99) * hp.nside2pixarea(nside, degrees=True)\n",
    "Ligo_Area_90_deg=np.sum(credible_levels <= 0.9) * hp.nside2pixarea(nside, degrees=True)\n",
    "print('Ligo area_deg 99% is {}\\nLigo area_deg 90% is {} '.format(Ligo_Area_99_deg,Ligo_Area_90_deg))\n"
   ]
  },
  {
   "cell_type": "code",
   "execution_count": null,
   "id": "c26238dc",
   "metadata": {},
   "outputs": [],
   "source": [
    "my_theta,my_phi=find_theta_phi(nside,np.argmax(my_prob))\n",
    "my_ra, my_dec=find_ra_dec(nside,np.argmax(my_prob))\n",
    "print('GW location: theta={}, phi={}, RA={}, DEC={}'.format(my_theta,my_phi,my_ra,my_dec))\n",
    "mu_avr=np.average(my_mu,weights=my_prob)\n",
    "print('average luminosity distance={} Mpc'.format(mu_avr))\n",
    "sig_avr=np.average(my_sigma,weights=my_prob)\n",
    "print('average luminosity distance Sigma={} Mpc'.format(sig_avr))\n",
    "z_gw=z_from_dL(mu_avr)\n",
    "print('redshift={}, in flagship cosmology'.format(z_gw))\n",
    "comov=mu_avr/(1+z_gw)\n",
    "print('comoving distance={}'.format(comov))"
   ]
  },
  {
   "cell_type": "code",
   "execution_count": null,
   "id": "46c0b100",
   "metadata": {},
   "outputs": [],
   "source": [
    "np.sum(my_mu[0:3]*my_prob[0:3])"
   ]
  },
  {
   "cell_type": "code",
   "execution_count": null,
   "id": "87f5aeff",
   "metadata": {},
   "outputs": [],
   "source": [
    "len(my_mu)==len(my_prob)"
   ]
  },
  {
   "cell_type": "markdown",
   "id": "6be4bcff",
   "metadata": {},
   "source": [
    "# Automatic Map Creator \n",
    "\n",
    "z_min=0.7887375950813293, z_max=2.0129446983337402\n",
    "ra_min=1.558116673550103e-05, ra_max=89.99999237060547\n",
    "dec_min=2.9646462280652486e-06, dec_max=89.98294830322266\n",
    "phi_min=2.7194266749575036e-07, phi_max=1.5707961320877075\n",
    "theta_min=0.0002976218846182377, theta_max=1.570796275052059"
   ]
  },
  {
   "cell_type": "code",
   "execution_count": null,
   "id": "c670f1a8",
   "metadata": {},
   "outputs": [],
   "source": [
    "GW_data_path='/home/rciancarella/DarkSirensStat/data/GW/O3/'\n",
    "os.chdir(GW_data_path)"
   ]
  },
  {
   "cell_type": "code",
   "execution_count": null,
   "id": "c730ece8",
   "metadata": {},
   "outputs": [],
   "source": [
    "nside=1024#512\n",
    "npix = hp.nside2npix(nside)\n",
    "fisher=1\n",
    "if fisher==1:\n",
    "    radius_deg= np.sqrt(10/np.pi)\n",
    "    sigma90=radius_deg/np.sqrt(2)\n",
    "    sigma_deg=sigma90/1.5\n",
    "    circle_deg=6*sigma_deg\n",
    "    sigma_theta=np.radians(sigma_deg)\n",
    "    sigma_phi=np.radians(sigma_deg)\n",
    "    conc=1/(sigma_phi**2)\n",
    "    print('Fisher concentration Parameter k={}'.format(conc))\n",
    "    radius_rad=np.radians(circle_deg)\n",
    "else:\n",
    "    radius_deg= np.sqrt(10/np.pi)\n",
    "    sigma90=radius_deg/np.sqrt(2)\n",
    "    sigma_deg=sigma90/1.5\n",
    "    circle_deg=6*sigma_deg\n",
    "    sigma_theta=np.radians(sigma_deg)\n",
    "    sigma_phi=np.radians(sigma_deg)\n",
    "    radius_rad=np.radians(circle_deg)\n",
    "\n",
    "phi_min=0.0001\n",
    "phi_max=1.5707961320877075\n",
    "theta_min=0.0001976218846182377\n",
    "theta_max=1.570796275052059\n",
    "phi_start=phi_min+5*sigma_phi\n",
    "phi_stop=phi_max-5*sigma_phi\n",
    "step =5* sigma_phi\n",
    "N=np.floor((phi_stop-phi_start)/step)\n",
    "N=int(N)\n",
    "#----------------------uniform in comoving DS-----------------------------\n",
    "zlen=10\n",
    "allredshift=np.zeros(zlen)\n",
    "my_zmin=1.1\n",
    "my_zmax=1.3\n",
    "my_dcom_min=cosmoflag.comoving_distance(my_zmin).value\n",
    "my_dcom_max=cosmoflag.comoving_distance(my_zmax).value\n",
    "alldcom=np.linspace(my_dcom_min,my_dcom_max,zlen)\n",
    "for i in range(zlen):\n",
    "    allredshift[i]=z_from_dcom(alldcom[i])\n",
    "#-------------------------------------------------------------------------\n",
    "print('Sigma_theta={}, Sigma_phi={}'.format(sigma_theta,sigma_phi))\n",
    "print('Sigma_theta={}°, Sigma_phi={}°'.format(np.rad2deg(sigma_theta)\n",
    "                                              ,np.rad2deg(sigma_phi)))\n",
    "print(step, N)\n",
    "allphi=np.arange(0,N)*step+phi_start\n",
    "\n",
    "\n",
    "truethetamin=theta_min+6*sigma_theta\n",
    "truethetamax=theta_max-6*sigma_theta\n",
    "M=np.floor((truethetamax-truethetamin)/step)\n",
    "M=int(M)\n",
    "alltheta=np.arange(0,M)*step+truethetamin\n",
    "\n",
    "print('N={},M={}, NxM={}'.format(N,M,N*M))\n",
    "\n",
    "\n",
    "#name='GW33xxxx_datasheet.txt'\n",
    "#file= open(name,'w')\n",
    "#my_header=['name\\t','dl\\t','theta\\t','phi\\t','z\\t','deltadl\\t','sigma_phi\\n']\n",
    "#file.writelines(my_header)\n",
    "#file.close()"
   ]
  },
  {
   "cell_type": "code",
   "execution_count": null,
   "id": "f8a206bf",
   "metadata": {},
   "outputs": [],
   "source": [
    "'''Use this when phi and theta both changes'''\n",
    "for j in tqdm(range(M)):\n",
    "    for k in range(N):\n",
    "        numevent=int(320000)+k+j*N\n",
    "        fname='GW'+str(numevent)+'_PublicationSamples.fits'\n",
    "        index=k%zlen\n",
    "        zref=allredshift[index]\n",
    "        DS_phi=allphi[k]\n",
    "        DS_theta=alltheta[j]\n",
    "        vec = hp.ang2vec(DS_theta, DS_phi)\n",
    "        ipix_disc = hp.query_disc(nside=nside, vec=vec, radius=radius_rad, nest=True)\n",
    "        #print(DS_theta,DS_phi)\n",
    "        if fisher==1:\n",
    "            gaussmap =np.zeros(npix,dtype=np.float128)\n",
    "        else:\n",
    "            gaussmap =np.zeros(npix)\n",
    "        mod_mu=np.zeros(len(gaussmap))\n",
    "        mod_sigma=np.zeros(len(gaussmap))\n",
    "        mod_postnorm=np.zeros(len(gaussmap))\n",
    "        theta_arr=np.zeros(len(gaussmap))\n",
    "        phi_arr=np.zeros(len(gaussmap))\n",
    "        gauss64 =np.zeros(len(gaussmap),dtype=np.float128)\n",
    "\n",
    "        dlref=cosmoflag.luminosity_distance(zref).value\n",
    "        dlsig=0.1*dlref\n",
    "        #print(zref,dlref)\n",
    "        line=[str(numevent)+'\\t',str(dlref)+'\\t',str(DS_theta)+'\\t',str(DS_phi)+'\\t',str(zref)+'\\t',\n",
    "             str(dlsig)+'\\t',str(sigma_phi)+'\\n']\n",
    "\n",
    "        for i in ipix_disc:\n",
    "            theta,phi=hp.pix2ang(nside,i, nest=True)\n",
    "            theta_arr[i]=theta\n",
    "            phi_arr[i]=phi\n",
    "            #gaussmap[i]=sphere_uncorr_gauss(theta,phi,DS_theta,DS_phi,sigma_theta,sigma_phi)*hp.nside2pixarea(nside,degrees=True)\n",
    "            gaussmap[i]=np.float128(Mises_Fisher(theta,phi,DS_theta,DS_phi,conc))*np.float128(hp.nside2pixarea(nside,degrees=False))\n",
    "            mod_mu[i]=dlref#uncorr_gauss(theta,phi)\n",
    "            mod_sigma[i]=dlsig\n",
    "            mod_postnorm[i]=1#/(mygaussint(mod_mu[i],mod_sigma[i]))\n",
    "        gaussmap[ipix_disc]=gaussmap[ipix_disc]/np.sum(gaussmap)\n",
    "        #mod_postnorm[ipix_disc]=mod_postnorm[ipix_disc]/(len(ipix_disc))\n",
    "        #mod_postnorm[ipix_disc]=1/len(ipix_disc)#gaussmap[ipix_disc]\n",
    "        \n",
    "        gauss64=np.float64(gaussmap)\n",
    "        dat=Table([gauss64,mod_mu,mod_sigma,mod_postnorm],\n",
    "              names=('PROB','DISTMU','DISTSIGMA','DISTNORM'))\n",
    "        fits.write_sky_map(fname,dat, nest=True)\n",
    "        with open(name,'a') as f:\n",
    "            f.writelines(line)"
   ]
  },
  {
   "cell_type": "markdown",
   "id": "c35a08b8",
   "metadata": {},
   "source": [
    "# Generation by extraction from a Galaxy Catalogue"
   ]
  },
  {
   "cell_type": "code",
   "execution_count": 78,
   "id": "79517bf0",
   "metadata": {},
   "outputs": [],
   "source": [
    "#----------------Load the catalogue---------------------\n",
    "cat_data_path='/home/rciancarella/DarkSirensStat/data/GLADE/'\n",
    "os.chdir(cat_data_path)\n",
    "galcat = pd.read_csv('genova_uniform_samezasminimal.txt', sep=\" \", header=None)\n",
    "colnames=['numevent','GWGC_name','HyperLEDA_name','2MASS_XSC_name','SDSS-DR12Q_name','type_flag','right_ascension_degrees',\n",
    "          'declination_degrees','dl','err_lum_dist','z','app_B_mag','err_app_B_mag','abs_B_mag','app_J_mag',\n",
    "          'err_app_J_mag','app_H_mag','err_app_H_mag','app_K_mag','err_app_K_mag','lum_dist_flag','pec_vel_correction'\n",
    "          ]\n",
    "galcat.columns=colnames\n",
    "GW_data_path='/home/rciancarella/DarkSirensStat/data/GW/O3/'\n",
    "os.chdir(GW_data_path)\n"
   ]
  },
  {
   "cell_type": "code",
   "execution_count": 79,
   "id": "80f301f1",
   "metadata": {},
   "outputs": [
    {
     "name": "stdout",
     "output_type": "stream",
     "text": [
      "Fisher concentration Parameter k=4640.958140559668\n",
      "256 786432\n"
     ]
    }
   ],
   "source": [
    "#----------------------select random hosts ----------------------------------\n",
    "zmin=0.95\n",
    "zmax=1.05\n",
    "Numb_of_DS=300\n",
    "source=galcat[galcat['z']>=zmin]\n",
    "source=source[source['z']<=zmax]\n",
    "nside=256#1024\n",
    "npix=hp.nside2npix(nside)\n",
    "#Best would be to remove the selected one, make them host and then add those again, \n",
    "#since we are converting coordinates\n",
    "#pd.concat([df1, df2, df2]).drop_duplicates(keep=False)\n",
    "\n",
    "DS_z=np.asarray(source['z'])\n",
    "DS_dl=np.asarray(source['dl'])\n",
    "DS_RA=np.asarray(source['right_ascension_degrees'])\n",
    "DS_DEC=np.asarray(source['declination_degrees'])\n",
    "\n",
    "phi_gals=np.deg2rad(DS_RA)\n",
    "theta_gals = (0.5 * np.pi - np.deg2rad(DS_DEC))\n",
    "#ra_gals=ra = np.rad2deg(phi_gals)\n",
    "#dec_gals = np.rad2deg(0.5 * np.pi - theta_gals)\n",
    "\n",
    "#checkRA=DS_RA-ra_gals\n",
    "#chackDEC=DS_DEC-dec_gals\n",
    "#print(checkRA)\n",
    "#print(chackDEC)\n",
    "fisher=1\n",
    "if fisher==1:\n",
    "    radius_deg= np.sqrt(10/np.pi)\n",
    "    sigma90=radius_deg/np.sqrt(2)\n",
    "    sigma_deg=sigma90/1.5\n",
    "    circle_deg=6*sigma_deg\n",
    "    sigma_theta=np.radians(sigma_deg)\n",
    "    sigma_phi=np.radians(sigma_deg)\n",
    "    conc=1/(sigma_phi**2)\n",
    "    #conc=50\n",
    "    print('Fisher concentration Parameter k={}'.format(conc))\n",
    "    radius_rad=np.radians(circle_deg)\n",
    "else:\n",
    "    radius_deg= np.sqrt(10/np.pi)\n",
    "    sigma90=radius_deg/np.sqrt(2)\n",
    "    sigma_deg=sigma90/1.5\n",
    "    circle_deg=6*sigma_deg\n",
    "    sigma_theta=np.radians(sigma_deg)\n",
    "    sigma_phi=np.radians(sigma_deg)\n",
    "    radius_rad=np.radians(circle_deg)\n",
    "\n",
    "\n",
    "theta_min=np.min(theta_gals)\n",
    "theta_max=np.max(theta_gals)\n",
    "phi_min=np.min(phi_gals)\n",
    "phi_max=np.max(phi_gals)\n",
    "\n",
    "truethetamin=theta_min+10*sigma_theta\n",
    "truethetamax=theta_max-10*sigma_theta\n",
    "truephimin=phi_min+10*sigma_phi\n",
    "truephimax=phi_max-10*sigma_phi\n",
    "\n",
    "trueRA_min=np.rad2deg(truephimin)\n",
    "trueRA_max=np.rad2deg(truephimax)\n",
    "trueDECmin=np.rad2deg(-truethetamax+0.5*np.pi)\n",
    "trueDECmax=np.rad2deg(-truethetamin+0.5*np.pi)\n",
    "\n",
    "source=source[source['right_ascension_degrees']>=trueRA_min]\n",
    "source=source[source['right_ascension_degrees']<=trueRA_max]\n",
    "source=source[source['declination_degrees']>=trueDECmin]\n",
    "source=source[source['declination_degrees']<=trueDECmax]\n",
    "\n",
    "cutted=source.sample(Numb_of_DS)\n",
    "\n",
    "DS_z=np.asarray(cutted['z'])\n",
    "DS_dl=np.asarray(cutted['dl'])\n",
    "DS_RA=np.asarray(cutted['right_ascension_degrees'])\n",
    "DS_DEC=np.asarray(cutted['declination_degrees'])\n",
    "\n",
    "phi_gals=np.deg2rad(DS_RA)\n",
    "theta_gals = (0.5 * np.pi - np.deg2rad(DS_DEC))\n",
    "\n",
    "\n",
    "#print(trueDECmin,trueDECmax,trueRA_min,trueRA_max)\n",
    "\n",
    "#-------------------DATASHEET--------------------------------------\n",
    "write=1\n",
    "if write==1:\n",
    "    name='GW99xxxx_datasheet.txt'\n",
    "    file= open(name,'w')\n",
    "    my_header=['name\\t','dl\\t','theta\\t','phi\\t','z\\t','deltadl\\t','sigma_phi\\n']\n",
    "    file.writelines(my_header)\n",
    "    file.close()\n",
    "print(nside,npix) "
   ]
  },
  {
   "cell_type": "code",
   "execution_count": 80,
   "id": "6d51e552",
   "metadata": {},
   "outputs": [],
   "source": [
    "#print(((phi_gals>=truephimin).sum()==len(phi_gals)).astype(np.int))\n",
    "#print(((phi_gals<=truephimax).sum()==len(phi_gals)).astype(np.int))\n",
    "\n",
    "#print(((theta_gals>=truethetamin).sum()==len(theta_gals)).astype(np.int))\n",
    "#print(((theta_gals<=truethetamax).sum()==len(theta_gals)).astype(np.int))\n",
    "#print(truethetamin,truethetamax,truephimin,truephimax)\n",
    "#print(trueDECmin,trueDECmax,trueRA_min,trueRA_max)\n",
    "#print((truethetamin-theta_min)/sigma_theta)"
   ]
  },
  {
   "cell_type": "code",
   "execution_count": 81,
   "id": "ac67a6a2",
   "metadata": {},
   "outputs": [],
   "source": [
    "#j=0\n",
    "#test_DS_z=np.asarray(galcat['z'])\n",
    "#test_DS_dl=np.asarray(galcat['dl'])\n",
    "#test_DS_RA=np.asarray(galcat['right_ascension_degrees'])\n",
    "#test_DS_DEC=np.asarray(galcat['declination_degrees'])\n",
    "#for k in range(len(DS_z)):\n",
    "#    idx=np.where(test_DS_z==DS_z[k])\n",
    "#    if ((test_DS_dl[idx]==DS_dl[k])*(test_DS_RA[idx]==DS_RA[k])*(test_DS_DEC[idx]==DS_DEC[k])):\n",
    "#        j=j+1\n",
    "#        print('DS {} is in the full cat'.format(k))\n",
    "#print(j)"
   ]
  },
  {
   "cell_type": "code",
   "execution_count": 82,
   "id": "604796aa",
   "metadata": {},
   "outputs": [
    {
     "name": "stderr",
     "output_type": "stream",
     "text": [
      "100%|███████████████████████████████████████████████████████████████████████| 300/300 [00:32<00:00,  9.10it/s]\n"
     ]
    }
   ],
   "source": [
    "#--------------------Maps Generations-------------------------------\n",
    "'''Use this when phi and theta both changes'''\n",
    "for i in tqdm(range(Numb_of_DS)):\n",
    "    numevent=int(990000)+i\n",
    "    fname='GW'+str(numevent)+'_PublicationSamples.fits'\n",
    "    zref=DS_z[i]\n",
    "    DS_phi=phi_gals[i]\n",
    "    DS_theta=theta_gals[i]\n",
    "    vec = hp.ang2vec(DS_theta, DS_phi)\n",
    "    ipix_disc = hp.query_disc(nside=nside, vec=vec, radius=radius_rad, nest=True)\n",
    "    #print(DS_theta,DS_phi)\n",
    "    if fisher==1:\n",
    "        gaussmap =np.zeros(npix,dtype=np.float128)\n",
    "    else:\n",
    "        gaussmap =np.zeros(npix)\n",
    "     #-------------inizialising some arrays------------   \n",
    "    mod_mu=np.zeros(len(gaussmap))\n",
    "    mod_sigma=np.zeros(len(gaussmap))\n",
    "    mod_postnorm=np.zeros(len(gaussmap))\n",
    "    theta_arr=np.zeros(len(gaussmap))\n",
    "    phi_arr=np.zeros(len(gaussmap))\n",
    "    gauss64 =np.zeros(len(gaussmap),dtype=np.float128)\n",
    "\n",
    "    dlref=DS_dl[i]#cosmoflag.luminosity_distance(zref).value\n",
    "    dlsig=0.1*dlref\n",
    "    #print(zref,dlref)\n",
    "    line=[str(numevent)+'\\t',str(dlref)+'\\t',str(DS_theta)+'\\t',str(DS_phi)+'\\t',str(zref)+'\\t',\n",
    "         str(dlsig)+'\\t',str(sigma_phi)+'\\n']\n",
    "\n",
    "    for i in ipix_disc:\n",
    "        theta,phi=hp.pix2ang(nside,i, nest=True)\n",
    "        theta_arr[i]=theta\n",
    "        phi_arr[i]=phi\n",
    "        gaussmap[i]=1#hp.nside2pixarea(nside,degrees=True)\n",
    "        #gaussmap[i]=sphere_uncorr_gauss(theta,phi,DS_theta,DS_phi,sigma_theta,sigma_phi)*hp.nside2pixarea(nside,degrees=True)\n",
    "        #gaussmap[i]=np.float128(Mises_Fisher(theta,phi,DS_theta,DS_phi,conc))*np.float128(hp.nside2pixarea(nside,degrees=False))\n",
    "        mod_mu[i]=dlref\n",
    "        mod_sigma[i]=dlsig\n",
    "        mod_postnorm[i]=1\n",
    "    #gaussmap[ipix_disc]=gaussmap[ipix_disc]/np.sum(gaussmap)\n",
    "    #mod_postnorm[ipix_disc]=mod_postnorm[ipix_disc]/(len(ipix_disc))\n",
    "    #mod_postnorm[ipix_disc]=1/len(ipix_disc)#gaussmap[ipix_disc]\n",
    "\n",
    "    gauss64=np.float64(gaussmap)\n",
    "    dat=Table([gauss64,mod_mu,mod_sigma,mod_postnorm],\n",
    "          names=('PROB','DISTMU','DISTSIGMA','DISTNORM'))\n",
    "    if write==1:\n",
    "        fits.write_sky_map(fname,dat, nest=True)\n",
    "        with open(name,'a') as f:\n",
    "            f.writelines(line)\n",
    "    #print(nside,npix)"
   ]
  },
  {
   "cell_type": "code",
   "execution_count": 74,
   "id": "f73ad632",
   "metadata": {},
   "outputs": [
    {
     "name": "stdout",
     "output_type": "stream",
     "text": [
      "Approximate resolution at NSIDE 256 is 0.23 deg\n",
      "0.8410441740067199 8.4104417400672\n"
     ]
    }
   ],
   "source": [
    "nside=256\n",
    "print(\n",
    "    \"Approximate resolution at NSIDE {} is {:.2} deg\".format(\n",
    "        nside, hp.nside2resol(nside, arcmin=True) / 60\n",
    "    )\n",
    ")\n",
    "print(sigma_deg,10*sigma_deg)"
   ]
  },
  {
   "cell_type": "markdown",
   "id": "dfdd2646",
   "metadata": {},
   "source": [
    "# Read Maps, Change sigma and/or Gauss displace\n",
    "Those changes will not appear in the datasheet, so attention"
   ]
  },
  {
   "cell_type": "code",
   "execution_count": 60,
   "id": "14f638ad",
   "metadata": {},
   "outputs": [
    {
     "name": "stdout",
     "output_type": "stream",
     "text": [
      "1\n",
      "['GW990000_PublicationSamples.fits']\n"
     ]
    }
   ],
   "source": [
    "GW_data_path='/home/rciancarella/DarkSirensStat/data/GW/O3/'\n",
    "os.chdir(GW_data_path)\n",
    "all_files=os.listdir()\n",
    "GWs=[]\n",
    "for i in range(len(all_files)):\n",
    "    if 'GW990000' in all_files[i]:\n",
    "        GWs.append(all_files[i])\n",
    "GWs=list(dict.fromkeys(GWs))\n",
    "del (all_files)\n",
    "print(len(GWs))\n",
    "print(GWs)"
   ]
  },
  {
   "cell_type": "code",
   "execution_count": 64,
   "id": "b27be94e",
   "metadata": {},
   "outputs": [],
   "source": [
    "skymap, metadata = fits.read_sky_map(GWs[0], nest=None, distances=True)\n",
    "p_posterior= skymap[0]\n",
    "mu= skymap[1]\n",
    "sigma = skymap[2]\n",
    "posteriorNorm= skymap[3]        \n",
    "npix = len(p_posterior)\n",
    "nside=hp.npix2nside(npix)\n"
   ]
  },
  {
   "cell_type": "code",
   "execution_count": 65,
   "id": "cbceebbd",
   "metadata": {},
   "outputs": [
    {
     "data": {
      "image/png": "[encoded data removed]",
      "text/plain": [
       "<Figure size 612x388.8 with 2 Axes>"
      ]
     },
     "metadata": {
      "needs_background": "light"
     },
     "output_type": "display_data"
    }
   ],
   "source": [
    "hp.mollview(p_posterior, title=fname,nest=True)"
   ]
  },
  {
   "cell_type": "code",
   "execution_count": 66,
   "id": "0f8517de",
   "metadata": {},
   "outputs": [
    {
     "name": "stdout",
     "output_type": "stream",
     "text": [
      "Ligo area_deg 99% is 20.457782602022192\n",
      "Ligo area_deg 90% is 10.228891301011096 \n",
      "256\n"
     ]
    }
   ],
   "source": [
    "credible_levels = find_greedy_credible_levels(p_posterior)\n",
    "Ligo_Area_99_deg=np.sum(credible_levels <= 0.99) * hp.nside2pixarea(nside, degrees=True)\n",
    "Ligo_Area_90_deg=np.sum(credible_levels <= 0.9) * hp.nside2pixarea(nside, degrees=True)\n",
    "print('Ligo area_deg 99% is {}\\nLigo area_deg 90% is {} '.format(Ligo_Area_99_deg,Ligo_Area_90_deg))\n",
    "print(nside)"
   ]
  },
  {
   "cell_type": "code",
   "execution_count": 67,
   "id": "64bbb37d",
   "metadata": {},
   "outputs": [
    {
     "name": "stdout",
     "output_type": "stream",
     "text": [
      "GW location: theta=1.29924196070497, phi=1.141281706186917, RA=65.390625, DEC=15.558919085303277\n",
      "average luminosity distance=6493.487101218317 Mpc\n",
      "average luminosity distance Sigma=649.3487101218317 Mpc\n",
      "average posteriorNorm=1.0\n",
      "redshift=0.9600104688183967, in flagship cosmology\n",
      "comoving distance=3312.985927637903\n"
     ]
    }
   ],
   "source": [
    "my_theta,my_phi=find_theta_phi(nside,np.argmax(p_posterior))\n",
    "my_ra, my_dec=find_ra_dec(nside,np.argmax(p_posterior))\n",
    "print('GW location: theta={}, phi={}, RA={}, DEC={}'.format(my_theta,my_phi,my_ra,my_dec))\n",
    "mu_avr=np.average(mu,weights=p_posterior)\n",
    "print('average luminosity distance={} Mpc'.format(mu_avr))\n",
    "sig_avr=np.average(sigma,weights=p_posterior)\n",
    "print('average luminosity distance Sigma={} Mpc'.format(sig_avr))\n",
    "Norm_avr=np.average(posteriorNorm,weights=p_posterior)\n",
    "print('average posteriorNorm={}'.format(Norm_avr))\n",
    "z_gw=z_from_dL(mu_avr)\n",
    "print('redshift={}, in flagship cosmology'.format(z_gw))\n",
    "comov=mu_avr/(1+z_gw)\n",
    "print('comoving distance={}'.format(comov))"
   ]
  },
  {
   "cell_type": "code",
   "execution_count": 68,
   "id": "445b5205",
   "metadata": {},
   "outputs": [
    {
     "name": "stdout",
     "output_type": "stream",
     "text": [
      "-- GW990000\n",
      "Event: GW990000\n",
      "Theta=1.29924196070497, Phi=1.141281706186917\n",
      "Right Ascension=65.390625, Declination=15.558919085303277\n",
      "average luminosity distance=6493.487101218317 Mpc\n",
      "average luminosity distance Sigma=649.3487101218317 Mpc\n",
      "average posteriorNorm=1.0\n"
     ]
    }
   ],
   "source": [
    "_read_O3(GWs[0])"
   ]
  },
  {
   "cell_type": "code",
   "execution_count": 77,
   "id": "4cb8b501",
   "metadata": {},
   "outputs": [
    {
     "data": {
      "text/plain": [
       "0.37893536415922485"
      ]
     },
     "execution_count": 77,
     "metadata": {},
     "output_type": "execute_result"
    }
   ],
   "source": [
    "phi_gals[14]"
   ]
  },
  {
   "cell_type": "raw",
   "id": "d07161c9",
   "metadata": {},
   "source": []
  },
  {
   "cell_type": "code",
   "execution_count": null,
   "id": "7d0c22a8",
   "metadata": {},
   "outputs": [],
   "source": [
    "for fname in tqdm(GWs):\n",
    "    #print(fname)\n",
    "    skymap, metadata = fits.read_sky_map(fname, nest=None, distances=True)\n",
    "    p_posterior= skymap[0]\n",
    "    mu= skymap[1]\n",
    "    sigma = skymap[2]\n",
    "    posteriorNorm= skymap[3]        \n",
    "    npix = len(p_posterior)\n",
    "    nside=hp.npix2nside(npix)\n",
    "    #alldl.append(mu[np.argmax(p_posterior)])\n",
    "    #print('Dl={}'.format(mu[np.argmax(p_posterior)]))\n",
    "    sigma=mu*0.1\n",
    "    #sig=np.average(sigma,weights=p_posterior)\n",
    "    #dl=np.average(mu,weights=p_posterior)\n",
    "    #newdl=np.random.normal(dl,sig)\n",
    "    #scale=newdl/dl\n",
    "    #new_mu=scale*mu\n",
    "    #new_sigma=new_mu*0.1\n",
    "    #sig_avr=np.average(sigma,weights=p_posterior)\n",
    "    #print('average luminosity distance Sigma={} Mpc'.format(sig_avr))\n",
    "    dat=Table([p_posterior,mu,sigma,posteriorNorm],\n",
    "             names=('PROB','DISTMU','DISTSIGMA','DISTNORM'))\n",
    "    fits.write_sky_map(fname,dat, nest=True)"
   ]
  },
  {
   "cell_type": "code",
   "execution_count": null,
   "id": "cd252962",
   "metadata": {},
   "outputs": [],
   "source": [
    "print(sigma[sigma>0])\n",
    "np.shape(sigma)\n",
    "print(len(p_posterior),len(sigma))\n",
    "\n"
   ]
  },
  {
   "cell_type": "markdown",
   "id": "8ff35644",
   "metadata": {},
   "source": [
    "# List Creator to config.py"
   ]
  },
  {
   "cell_type": "code",
   "execution_count": null,
   "id": "4506fbed",
   "metadata": {},
   "outputs": [],
   "source": [
    "names=[]\n",
    "\n",
    "for i in range(306):\n",
    "    numevent=int(990000)+i\n",
    "    fname=\"'\"+'GW'+str(numevent)+\"'\"\n",
    "    names.append(fname)\n",
    "    if (i % 38== 0)&(i>0):\n",
    "        to_print=','.join(names)\n",
    "        print('{}'.format(to_print))\n",
    "        names=[]"
   ]
  },
  {
   "cell_type": "code",
   "execution_count": null,
   "id": "5be13418",
   "metadata": {},
   "outputs": [],
   "source": [
    "names=[]\n",
    "\n",
    "for i in range():\n",
    "    numevent=int(970000)+i\n",
    "    fname=\"'\"+'GW'+str(numevent)+\"'\"\n",
    "    names.append(fname)\n",
    "    to_print=','.join(names)\n",
    "print('{}'.format(to_print))"
   ]
  },
  {
   "cell_type": "code",
   "execution_count": null,
   "id": "48de3a58",
   "metadata": {},
   "outputs": [],
   "source": [
    "names=[]\n",
    "\n",
    "for i in range(50):\n",
    "    numevent=int(37)+i\n",
    "    fname=\"'\"+'GW'+str(numevent)+'0'+\"'\"\n",
    "    names.append(fname)\n",
    "    to_print=','.join(names)\n",
    "print('{}'.format(to_print))"
   ]
  },
  {
   "cell_type": "markdown",
   "id": "5e1fcc19",
   "metadata": {},
   "source": [
    "# Reset\n",
    "those lines are used to reset the maps to the Datasheet state"
   ]
  },
  {
   "cell_type": "code",
   "execution_count": null,
   "id": "3c3d584c",
   "metadata": {},
   "outputs": [],
   "source": [
    "GW_data_path='/home/rciancarella/DarkSirensStat/data/GW/O3/'\n",
    "os.chdir(GW_data_path)"
   ]
  },
  {
   "cell_type": "code",
   "execution_count": null,
   "id": "22e33d2a",
   "metadata": {},
   "outputs": [],
   "source": [
    "#-------------------DATASHEET--------------------------------------\n",
    "name='GW31xxxx_datasheet.txt'\n",
    "#file= open(name,'w')\n",
    "#my_header=['name\\t','dl\\t','theta\\t','phi\\t','z\\t','deltadl\\t','sigma_phi\\n']\n",
    "#file.writelines(my_header)\n",
    "#file.close()\n",
    "with open(name,'r') as f:\n",
    "    next(f)\n",
    "    lines=f.readlines()\n",
    "    GWs_dl=[]\n",
    "    GWs_theta=[]\n",
    "    GWs_phi=[]\n",
    "    GWs_z=[]\n",
    "    GWs_deltadl=[]\n",
    "    for x in lines:\n",
    "        GWs_dl.append(float(x.split('\\t')[1]))\n",
    "        GWs_theta.append(float(x.split('\\t')[2]))\n",
    "        GWs_phi.append(float(x.split('\\t')[3]))\n",
    "        GWs_z.append(float(x.split('\\t')[4]))\n",
    "        GWs_deltadl.append(float(x.split('\\t')[5]))\n",
    "    #for i in range(len(GW_z)):\n",
    "\n",
    "GWs_dl=np.asarray(GWs_dl)\n",
    "GWs_theta=np.asarray(GWs_theta)\n",
    "GWs_phi=np.asarray(GWs_phi)\n",
    "GWs_z=np.asarray(GWs_z)\n",
    "GWs_deltadl=np.asarray(GWs_deltadl)"
   ]
  },
  {
   "cell_type": "code",
   "execution_count": null,
   "id": "60744b5d",
   "metadata": {},
   "outputs": [],
   "source": [
    "for i in tqdm(range(len(GWs_dl))):\n",
    "    numevent=int(310000)+i\n",
    "    fname='GW'+str(numevent)+'_PublicationSamples.fits'\n",
    "    zref=GWs_z[i]\n",
    "    DS_phi=GWs_phi[i]\n",
    "    DS_theta=GWs_theta[i]\n",
    "    vec = hp.ang2vec(DS_theta, DS_phi)\n",
    "    ipix_disc = hp.query_disc(nside=nside, vec=vec, radius=radius_rad, nest=True)\n",
    "    #print(DS_theta,DS_phi)\n",
    "    if fisher==1:\n",
    "        gaussmap =np.zeros(len(p_posterior),dtype=np.float128)\n",
    "    else:\n",
    "        gaussmap =np.zeros(len(p_posterior))\n",
    "     #-------------inizialising some arrays------------   \n",
    "    mod_mu=np.zeros(len(p_posterior))\n",
    "    mod_sigma=np.zeros(len(p_posterior))\n",
    "    mod_postnorm=np.zeros(len(p_posterior))\n",
    "    theta_arr=np.zeros(len(p_posterior))\n",
    "    phi_arr=np.zeros(len(p_posterior))\n",
    "    gauss64 =np.zeros(len(p_posterior),dtype=np.float128)\n",
    "\n",
    "    dlref=GWs_dl[i]#cosmoflag.luminosity_distance(zref).value\n",
    "    dlsig=0.01*dlref\n",
    "    #print(zref,dlref)\n",
    "    #line=[str(numevent)+'\\t',str(dlref)+'\\t',str(DS_theta)+'\\t',str(DS_phi)+'\\t',str(zref)+'\\t',\n",
    "    #     str(dlsig)+'\\t',str(sigma_phi)+'\\n']\n",
    "\n",
    "    for i in ipix_disc:\n",
    "        theta,phi=hp.pix2ang(nside,i, nest=True)\n",
    "        theta_arr[i]=theta\n",
    "        phi_arr[i]=phi\n",
    "        #gaussmap[i]=sphere_uncorr_gauss(theta,phi,DS_theta,DS_phi,sigma_theta,sigma_phi)*hp.nside2pixarea(nside,degrees=True)\n",
    "        gaussmap[i]=np.float128(Mises_Fisher(theta,phi,DS_theta,DS_phi,conc))*np.float128(hp.nside2pixarea(nside,degrees=False))\n",
    "        mod_mu[i]=dlref#uncorr_gauss(theta,phi)\n",
    "        mod_sigma[i]=dlsig\n",
    "        mod_postnorm[i]=1#/(mygaussint(mod_mu[i],mod_sigma[i]))\n",
    "    gaussmap[ipix_disc]=gaussmap[ipix_disc]/np.sum(gaussmap)\n",
    "    #mod_postnorm[ipix_disc]=mod_postnorm[ipix_disc]/(len(ipix_disc))\n",
    "    #mod_postnorm[ipix_disc]=1/len(ipix_disc)#gaussmap[ipix_disc]\n",
    "\n",
    "    gauss64=np.float64(gaussmap)\n",
    "    dat=Table([gauss64,mod_mu,mod_sigma,mod_postnorm],\n",
    "          names=('PROB','DISTMU','DISTSIGMA','DISTNORM'))\n",
    "    fits.write_sky_map(fname,dat, nest=True)\n",
    "    #with open(name,'a') as f:\n",
    "    #    f.writelines(line)"
   ]
  },
  {
   "cell_type": "code",
   "execution_count": null,
   "id": "d907959b",
   "metadata": {},
   "outputs": [],
   "source": [
    "fisher=1\n",
    "if fisher==1:\n",
    "    radius_deg= np.sqrt(10/np.pi)\n",
    "    sigma90=radius_deg/np.sqrt(2)\n",
    "    sigma_deg=sigma90/1.5\n",
    "    circle_deg=6*sigma_deg\n",
    "    sigma_theta=np.radians(sigma_deg)\n",
    "    sigma_phi=np.radians(sigma_deg)\n",
    "    conc=1/(sigma_phi**2)\n",
    "    print('Fisher concentration Parameter k={}'.format(conc))\n",
    "    radius_rad=np.radians(circle_deg)\n",
    "else:\n",
    "    radius_deg= np.sqrt(10/np.pi)\n",
    "    sigma90=radius_deg/np.sqrt(2)\n",
    "    sigma_deg=sigma90/1.5\n",
    "    circle_deg=6*sigma_deg\n",
    "    sigma_theta=np.radians(sigma_deg)\n",
    "    sigma_phi=np.radians(sigma_deg)\n",
    "    radius_rad=np.radians(circle_deg)\n",
    "\n",
    "phi_min=0.0001\n",
    "phi_max=1.5707961320877075\n",
    "theta_min=0.0001976218846182377\n",
    "theta_max=1.570796275052059\n",
    "phi_start=phi_min+5*sigma_phi\n",
    "phi_stop=phi_max-5*sigma_phi\n",
    "step =5* sigma_phi\n",
    "N=np.floor((phi_stop-phi_start)/step)\n",
    "N=int(N)\n",
    "#----------------------uniform in comoving DS-----------------------------\n",
    "zlen=10\n",
    "allredshift=np.zeros(zlen)\n",
    "my_zmin=1.1\n",
    "my_zmax=1.3\n",
    "my_dcom_min=cosmoflag.comoving_distance(my_zmin).value\n",
    "my_dcom_max=cosmoflag.comoving_distance(my_zmax).value\n",
    "alldcom=np.linspace(my_dcom_min,my_dcom_max,zlen)\n",
    "for i in range(zlen):\n",
    "    allredshift[i]=z_from_dcom(alldcom[i])\n",
    "#-------------------------------------------------------------------------\n",
    "print('Sigma_theta={}, Sigma_phi={}'.format(sigma_theta,sigma_phi))\n",
    "print('Sigma_theta={}°, Sigma_phi={}°'.format(np.rad2deg(sigma_theta)\n",
    "                                              ,np.rad2deg(sigma_phi)))\n",
    "print(step, N)\n",
    "allphi=np.arange(0,N)*step+phi_start\n",
    "\n",
    "\n",
    "truethetamin=theta_min+6*sigma_theta\n",
    "truethetamax=theta_max-6*sigma_theta\n",
    "M=np.floor((truethetamax-truethetamin)/step)\n",
    "M=int(M)\n",
    "alltheta=np.arange(0,M)*step+truethetamin\n"
   ]
  },
  {
   "cell_type": "code",
   "execution_count": null,
   "id": "53662ceb",
   "metadata": {},
   "outputs": [],
   "source": [
    "allredshift=np.linspace(1.1,1.3,10)\n",
    "fisher=1\n",
    "if fisher==1:\n",
    "    radius_deg= np.sqrt(1000/np.pi)\n",
    "    sigma90=radius_deg/np.sqrt(2)\n",
    "    sigma_deg=sigma90/1.5\n",
    "    circle_deg=6*sigma_deg\n",
    "    sigma_theta=np.radians(sigma_deg)\n",
    "    sigma_phi=np.radians(sigma_deg)\n",
    "    conc=1/(sigma_phi**2)\n",
    "    #conc=100\n",
    "    #sigma_phi=np.sqrt(1/conc)\n",
    "    #sigma_theta=sigma_phi\n",
    "    radius_rad=np.radians(circle_deg)\n",
    "for k in tqdm(range(1)):\n",
    "    numevent=int(220000)+k\n",
    "    fname='GW'+str(numevent)+'_PublicationSamples.fits'\n",
    "    zref=allredshift[k]\n",
    "    #print(zref)\n",
    "    DS_phi=np.pi/4\n",
    "    DS_theta=np.pi/4\n",
    "    vec = hp.ang2vec(DS_theta, DS_phi)\n",
    "    ipix_disc = hp.query_disc(nside=nside, vec=vec, radius=radius_rad, nest=True)\n",
    "    #print(DS_theta,DS_phi)\n",
    "    gaussmap =np.zeros(len(p_posterior),dtype=np.float128)\n",
    "    mod_mu=np.zeros(len(p_posterior))\n",
    "    mod_sigma=np.zeros(len(p_posterior))\n",
    "    mod_postnorm=np.zeros(len(p_posterior))\n",
    "    theta_arr=np.zeros(len(p_posterior))\n",
    "    phi_arr=np.zeros(len(p_posterior))\n",
    "\n",
    "    dlref=cosmoflag.luminosity_distance(zref).value\n",
    "    dlsig=0.01*dlref\n",
    "    line=[str(numevent)+'\\t',str(dlref)+'\\t',str(DS_theta)+'\\t',str(DS_phi)+'\\t',str(zref)+'\\t',\n",
    "         str(dlsig)+'\\n']\n",
    "    \n",
    "    for i in ipix_disc:\n",
    "        theta,phi=hp.pix2ang(nside,i, nest=True)\n",
    "        theta_arr[i]=theta\n",
    "        phi_arr[i]=phi\n",
    "        #gaussmap[i]=uncorr_gauss(theta,phi,DS_theta,DS_phi,sigma_theta,sigma_phi)*hp.nside2pixarea(nside,degrees=True)\n",
    "        gaussmap[i]=np.float128(Mises_Fisher(theta,phi,DS_theta,DS_phi,conc))*np.float128(hp.nside2pixarea(nside,degrees=False))\n",
    "        mod_mu[i]=dlref#uncorr_gauss(theta,phi)\n",
    "        mod_sigma[i]=dlsig\n",
    "        #mod_postnorm[i]=1/(mygaussint(mod_mu[i],mod_sigma[i]))\n",
    "    #gaussmap[ipix_disc] = 1/len(ipix_disc)\n",
    "    gaussmap[ipix_disc]=gaussmap[ipix_disc]/np.sum(gaussmap)\n",
    "    #mod_postnorm[ipix_disc]=1/(len(ipix_disc))\n",
    "    mod_postnorm[ipix_disc]=1\n",
    "    gauss64 =np.zeros(len(p_posterior),dtype=np.float128)\n",
    "    gauss64=np.float64(gaussmap)\n",
    "    dat=Table([gauss64,mod_mu,mod_sigma,mod_postnorm],\n",
    "          names=('PROB','DISTMU','DISTSIGMA','DISTNORM'))\n",
    "    #fits.write_sky_map(fname,dat, nest=True)\n",
    "   # with open(name,'a') as f:\n",
    "    #    f.writelines(line)"
   ]
  },
  {
   "cell_type": "code",
   "execution_count": null,
   "id": "6ad81bc5",
   "metadata": {},
   "outputs": [],
   "source": [
    "hp.mollview(gauss64, title=fname,nest=True)"
   ]
  },
  {
   "cell_type": "markdown",
   "id": "f229d700",
   "metadata": {},
   "source": [
    "# Map for Minimal Example"
   ]
  },
  {
   "cell_type": "code",
   "execution_count": null,
   "id": "a9a7c6e0",
   "metadata": {},
   "outputs": [],
   "source": [
    "#----------------Load the catalogue---------------------\n",
    "cat_data_path='/home/rciancarella/DarkSirensStat/data/GLADE/'\n",
    "os.chdir(cat_data_path)\n",
    "galcat = pd.read_csv('genova_uniform_samezasminimal.txt', sep=\" \", header=None)\n",
    "colnames=['numevent','GWGC_name','HyperLEDA_name','2MASS_XSC_name','SDSS-DR12Q_name','type_flag','right_ascension_degrees',\n",
    "          'declination_degrees','dl','err_lum_dist','z','app_B_mag','err_app_B_mag','abs_B_mag','app_J_mag',\n",
    "          'err_app_J_mag','app_H_mag','err_app_H_mag','app_K_mag','err_app_K_mag','lum_dist_flag','pec_vel_correction'\n",
    "          ]\n",
    "galcat.columns=colnames\n",
    "GW_data_path='/home/rciancarella/DarkSirensStat/data/GW/O3/'\n",
    "os.chdir(GW_data_path)"
   ]
  },
  {
   "cell_type": "code",
   "execution_count": null,
   "id": "c57281f9",
   "metadata": {},
   "outputs": [],
   "source": [
    "phi_min=0\n",
    "phi_max=phi_min+5.5*sigma_phi\n",
    "theta_min=0\n",
    "theta_max=theta_min+5.5*sigma_theta#depends on the arccos 0 to 1 is from pi/2 to 0 -1 to 1 is full range\n",
    "DS_phi=(phi_max-phi_min)/2\n",
    "DS_theta=(theta_max-theta_min)/2"
   ]
  },
  {
   "cell_type": "code",
   "execution_count": null,
   "id": "b5542dd9",
   "metadata": {},
   "outputs": [],
   "source": [
    "#----------------------select random hosts ----------------------------------\n",
    "zmin=0.1\n",
    "zmax=0.3\n",
    "#ra_min=np.rad2deg(DS_phi-1*sigma_phi)\n",
    "#ra_max=np.rad2deg(DS_phi+1*sigma_phi)\n",
    "\n",
    "#dec_max=np.rad2deg(0.5 * np.pi - (DS_theta-1*sigma_theta))\n",
    "#dec_min=np.rad2deg(0.5 * np.pi - (DS_theta+1*sigma_theta))\n",
    "\n",
    "Numb_of_DS=40\n",
    "source=galcat[galcat['z']>=zmin]\n",
    "source=source[source['z']<=zmax]\n",
    "#source=source[source['declination_degrees']<=dec_max]\n",
    "#source=source[source['declination_degrees']>=dec_min]\n",
    "#source=source[source['right_ascension_degrees']<=ra_max]\n",
    "#source=source[source['right_ascension_degrees']>=ra_min]\n",
    "\n",
    "source=source.sample(n=Numb_of_DS)\n",
    "\n",
    "\n",
    "#Best would be to remove the selected one, make them host and then add those again, \n",
    "#since we are converting coordinates\n",
    "#pd.concat([df1, df2, df2]).drop_duplicates(keep=False)\n",
    "\n",
    "DS_z=np.asarray(source['z'])\n",
    "DS_dl=np.asarray(source['dl'])\n",
    "DS_RA=np.asarray(source['right_ascension_degrees'])\n",
    "DS_DEC=np.asarray(source['declination_degrees'])\n",
    "\n",
    "phi_gals=np.deg2rad(DS_RA)\n",
    "theta_gals = (0.5 * np.pi - np.deg2rad(DS_DEC))\n",
    "#ra_gals=ra = np.rad2deg(phi_gals)\n",
    "#dec_gals = np.rad2deg(0.5 * np.pi - theta_gals)\n",
    "\n",
    "#checkRA=DS_RA-ra_gals\n",
    "#chackDEC=DS_DEC-dec_gals\n",
    "#print(checkRA)\n",
    "#print(chackDEC)\n",
    "fisher=1\n",
    "if fisher==1:\n",
    "    radius_deg= np.sqrt(10/np.pi)\n",
    "    sigma90=radius_deg/np.sqrt(2)\n",
    "    sigma_deg=sigma90/1.5\n",
    "    circle_deg=6*sigma_deg\n",
    "    sigma_theta=np.radians(sigma_deg)\n",
    "    sigma_phi=np.radians(sigma_deg)\n",
    "    conc=1/(sigma_phi**2)\n",
    "    print('Fisher concentration Parameter k={}'.format(conc))\n",
    "    radius_rad=np.radians(circle_deg)\n",
    "else:\n",
    "    radius_deg= np.sqrt(10/np.pi)\n",
    "    sigma90=radius_deg/np.sqrt(2)\n",
    "    sigma_deg=sigma90/1.5\n",
    "    circle_deg=6*sigma_deg\n",
    "    sigma_theta=np.radians(sigma_deg)\n",
    "    sigma_phi=np.radians(sigma_deg)\n",
    "    radius_rad=np.radians(circle_deg)\n",
    "#-------------------DATASHEET--------------------------------------\n",
    "name='GW98xxxx_datasheet.txt'\n",
    "file= open(name,'w')\n",
    "my_header=['name\\t','dl\\t','theta\\t','phi\\t','z\\t','deltadl\\t','sigma_phi\\n']\n",
    "file.writelines(my_header)\n",
    "file.close()"
   ]
  },
  {
   "cell_type": "code",
   "execution_count": null,
   "id": "acf0fe8a",
   "metadata": {},
   "outputs": [],
   "source": [
    "#--------------------Maps Generations-------------------------------\n",
    "'''Use this when phi and theta both changes'''\n",
    "for i in tqdm(range(Numb_of_DS)):\n",
    "    numevent=int(980000)+i\n",
    "    fname='GW'+str(numevent)+'_PublicationSamples.fits'\n",
    "    zref=DS_z[i]\n",
    "    DS_phi=phi_gals[i]\n",
    "    DS_theta=theta_gals[i]\n",
    "    vec = hp.ang2vec(DS_theta, DS_phi)\n",
    "    ipix_disc = hp.query_disc(nside=nside, vec=vec, radius=radius_rad, nest=True)\n",
    "    #print(DS_theta,DS_phi)\n",
    "    if fisher==1:\n",
    "        gaussmap =np.zeros(len(p_posterior),dtype=np.float128)\n",
    "    else:\n",
    "        gaussmap =np.zeros(len(p_posterior))\n",
    "     #-------------inizialising some arrays------------   \n",
    "    mod_mu=np.zeros(len(p_posterior))\n",
    "    mod_sigma=np.zeros(len(p_posterior))\n",
    "    mod_postnorm=np.zeros(len(p_posterior))\n",
    "    theta_arr=np.zeros(len(p_posterior))\n",
    "    phi_arr=np.zeros(len(p_posterior))\n",
    "    gauss64 =np.zeros(len(p_posterior),dtype=np.float128)\n",
    "\n",
    "    dlref=DS_dl[i]#cosmoflag.luminosity_distance(zref).value\n",
    "    dlsig=0.1*dlref\n",
    "    #print(zref,dlref)\n",
    "    line=[str(numevent)+'\\t',str(dlref)+'\\t',str(DS_theta)+'\\t',str(DS_phi)+'\\t',str(zref)+'\\t',\n",
    "         str(dlsig)+'\\t',str(sigma_phi)+'\\n']\n",
    "\n",
    "    for i in ipix_disc:\n",
    "        theta,phi=hp.pix2ang(nside,i, nest=True)\n",
    "        theta_arr[i]=theta\n",
    "        phi_arr[i]=phi\n",
    "        #gaussmap[i]=sphere_uncorr_gauss(theta,phi,DS_theta,DS_phi,sigma_theta,sigma_phi)*hp.nside2pixarea(nside,degrees=True)\n",
    "        gaussmap[i]=np.float128(Mises_Fisher(theta,phi,DS_theta,DS_phi,conc))*np.float128(hp.nside2pixarea(nside,degrees=False))\n",
    "        mod_mu[i]=dlref#uncorr_gauss(theta,phi)\n",
    "        mod_sigma[i]=dlsig\n",
    "        mod_postnorm[i]=1#/(mygaussint(mod_mu[i],mod_sigma[i]))\n",
    "    gaussmap[ipix_disc]=gaussmap[ipix_disc]/np.sum(gaussmap)\n",
    "    #mod_postnorm[ipix_disc]=mod_postnorm[ipix_disc]/(len(ipix_disc))\n",
    "    #mod_postnorm[ipix_disc]=1/len(ipix_disc)#gaussmap[ipix_disc]\n",
    "\n",
    "    gauss64=np.float64(gaussmap)\n",
    "    dat=Table([gauss64,mod_mu,mod_sigma,mod_postnorm],\n",
    "          names=('PROB','DISTMU','DISTSIGMA','DISTNORM'))\n",
    "    fits.write_sky_map(fname,dat, nest=True)\n",
    "    with open(name,'a') as f:\n",
    "        f.writelines(line)"
   ]
  },
  {
   "cell_type": "markdown",
   "id": "89b0bda2",
   "metadata": {},
   "source": [
    "# Testing the distributions"
   ]
  },
  {
   "cell_type": "code",
   "execution_count": null,
   "id": "999042e9",
   "metadata": {},
   "outputs": [],
   "source": [
    "#GWdata path\n",
    "GW_data_path='/home/rciancarella/DarkSirensStat/data/GW/O3/'\n",
    "os.chdir(GW_data_path)"
   ]
  },
  {
   "cell_type": "code",
   "execution_count": null,
   "id": "fa7fc275",
   "metadata": {},
   "outputs": [],
   "source": [
    "fname ='GW960000_PublicationSamples.fits'\n",
    "alldl=[]\n",
    "allsig=[]\n",
    "print(fname)\n",
    "skymap, metadata = fits.read_sky_map(fname, nest=None, distances=True)\n",
    "p_posterior= skymap[0]\n",
    "mu= skymap[1]\n",
    "sigma = skymap[2]\n",
    "posteriorNorm= skymap[3]        \n",
    "npix = len(p_posterior)\n",
    "print('npix={}'.format(npix))\n",
    "nside=hp.npix2nside(npix)\n",
    "print('nside={}'.format(nside))\n",
    "theta,phi=find_theta_phi(nside,np.argmax(p_posterior))\n",
    "ra, dec=find_ra_dec(nside,np.argmax(p_posterior))\n",
    "print('RA={},dec={},theta={},phi={}'.format(ra,dec,theta,phi))\n",
    "alldl.append(mu[np.argmax(p_posterior)])\n",
    "print('Dl={}'.format(mu[np.argmax(p_posterior)]))\n",
    "sig_avr=np.average(sigma,weights=p_posterior)\n",
    "allsig.append(sig_avr)\n",
    "print('average luminosity distance Sigma={} Mpc'.format(sig_avr))\n",
    "allni=np.average(posteriorNorm,weights=p_posterior)\n",
    "print('average N_i={}'.format(allni))\n",
    "#print(len(p_posterior))\n",
    "#alldl=np.asarray(alldl)\n",
    "#print(np.mean(alldl))"
   ]
  },
  {
   "cell_type": "code",
   "execution_count": null,
   "id": "0d4ae29c",
   "metadata": {},
   "outputs": [],
   "source": []
  }
 ],
 "metadata": {
  "kernelspec": {
   "display_name": "Python 3 (ipykernel)",
   "language": "python",
   "name": "python3"
  },
  "language_info": {
   "codemirror_mode": {
    "name": "ipython",
    "version": 3
   },
   "file_extension": ".py",
   "mimetype": "text/x-python",
   "name": "python",
   "nbconvert_exporter": "python",
   "pygments_lexer": "ipython3",
   "version": "3.10.6"
  }
 },
 "nbformat": 4,
 "nbformat_minor": 5
}
