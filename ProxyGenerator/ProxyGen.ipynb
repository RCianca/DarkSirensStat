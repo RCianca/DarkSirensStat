{
 "cells": [
  {
   "cell_type": "code",
   "execution_count": 60,
   "id": "9abeb70a",
   "metadata": {},
   "outputs": [
    {
     "name": "stderr",
     "output_type": "stream",
     "text": [
      "WARNING: AstropyDeprecationWarning: The get_cosmology_from_string method is deprecated and may be removed in a future version.\n",
      "        Use get instead. [ligo.skymap.postprocess.cosmology]\n"
     ]
    },
    {
     "data": {
      "text/plain": [
       "FlatLambdaCDM(name=\"Planck18\", H0=67.66 km / (Mpc s), Om0=0.30966, Tcmb0=2.7255 K, Neff=3.046, m_nu=[0.   0.   0.06] eV, Ob0=0.04897)"
      ]
     },
     "execution_count": 60,
     "metadata": {},
     "output_type": "execute_result"
    }
   ],
   "source": [
    "import pandas as pd\n",
    "import numpy as np\n",
    "import healpy as hp\n",
    "import matplotlib.pyplot as plt\n",
    "import scipy\n",
    "from scipy.optimize import fsolve\n",
    "\n",
    "from astropy.cosmology import Planck18\n",
    "from astropy.cosmology import FlatLambdaCDM\n",
    "from astropy.table import Table\n",
    "import astropy \n",
    "from ligo.skymap.io import fits\n",
    "from ligo.skymap.postprocess import find_greedy_credible_levels\n",
    "\n",
    "import os\n",
    "from os import listdir\n",
    "from os.path import isfile, join\n",
    "\n",
    "import sys\n",
    "from tqdm import tqdm\n",
    "from numba import njit\n",
    "\n",
    "H0GLOB=67 #69\n",
    "Om0GLOB=0.319\n",
    "Xi0Glob =1.\n",
    "clight = 2.99792458* 10**5#km/s\n",
    "cosmoflag = FlatLambdaCDM(H0=H0GLOB, Om0=Om0GLOB)\n",
    "Planck18\n"
   ]
  },
  {
   "cell_type": "code",
   "execution_count": 61,
   "id": "b46975ce",
   "metadata": {},
   "outputs": [],
   "source": [
    "def get_ename(fname, verbose=True):\n",
    "\n",
    "        if len(fname.split('/')[-1].split('_')) <= 2:    #Same as before since certain names contain a \"_\"\n",
    "            event_name = fname.split('/')[-1].split('_')[0]\n",
    "        elif len(fname.split('/')[-1].split('_')) > 2:\n",
    "            event_name = fname.split('/')[-1].split('_')[0]+'_'+fname.split('/')[-1].split('_')[1]\n",
    "        else:\n",
    "            raise ValueError('Could not set event name. Got fname= %s'%fname)\n",
    "        if verbose:\n",
    "            print('-- %s' %event_name)\n",
    "        return event_name\n",
    "    \n",
    "def find_ra_dec(nside, pix):\n",
    "        '''\n",
    "        input:  pixel ra dec in degrees\n",
    "        output: (ra, dec) of pixel center in degrees, with nside given by that of the skymap \n",
    "        '''\n",
    "        theta, phi =find_theta_phi(nside,pix)\n",
    "        ra, dec = ra_dec_from_th_phi(theta, phi)\n",
    "        return ra, dec    \n",
    "    \n",
    "def ra_dec_from_th_phi(theta, phi):\n",
    "        ra = np.rad2deg(phi)\n",
    "        dec = np.rad2deg(0.5 * np.pi - theta)\n",
    "        return ra, dec\n",
    "    \n",
    "def find_theta_phi(nside, pix):\n",
    "        '''\n",
    "        input:  pixel\n",
    "        output: (theta, phi)of pixel center in rad, with nside given by that of the skymap \n",
    "        '''\n",
    "        return hp.pix2ang(nside, pix, nest=True)\n",
    "    \n",
    "def _read_O3( fname, convert_nested=True):\n",
    "        \n",
    "        skymap, metadata = fits.read_sky_map(fname, nest=None, distances=True) #Read the skymap\n",
    "        event_name = get_ename(fname, verbose=True)\n",
    "        print('Event: %s' %event_name)\n",
    "        if (convert_nested) & (metadata['nest']): #If one wants RING ordering (the one of O2 data afaik) just has to set \"convert_nested\" to True\n",
    "            p_posterior = hp.reorder(skymap[0],n2r=True)\n",
    "            mu = hp.reorder(skymap[1],n2r=True)\n",
    "            sigma = hp.reorder(skymap[2],n2r=True)\n",
    "            posteriorNorm = hp.reorder(skymap[3],n2r=True)\n",
    "            print('convertito da nested a ring')\n",
    "            mu_avr=np.average(mu,weights=p_posterior)\n",
    "            print('average luminosity distance={} Mpc'.format(mu_avr))\n",
    "            sig_avr=np.average(sigma,weights=p_posterior)\n",
    "            print('average luminosity distance Sigma={} Mpc'.format(sig_avr))\n",
    "            Norm_avr=np.average(posteriorNorm,weights=p_posterior)\n",
    "            print('average posteriorNorm={} Mpc'.format(Norm_avr))\n",
    "            z_gw=z_from_dL(mu_avr)\n",
    "        else:\n",
    "            p_posterior= skymap[0]\n",
    "            mu= skymap[1]\n",
    "            sigma = skymap[2]\n",
    "            posteriorNorm= skymap[3]        \n",
    "        npix = len(p_posterior)\n",
    "        nside=hp.npix2nside(npix)\n",
    "        theta,phi=find_theta_phi(nside,np.argmax(p_posterior))\n",
    "        print('Theta={}, Phi={}'.format(theta, phi))\n",
    "        ra, dec=find_ra_dec(nside,np.argmax(p_posterior))\n",
    "        print('Right Ascension={}, Declination={}'.format(ra, dec))\n",
    "        mu_avr=np.average(mu,weights=p_posterior)\n",
    "        print('average luminosity distance={} Mpc'.format(mu_avr))\n",
    "        sig_avr=np.average(sigma,weights=p_posterior)\n",
    "        print('average luminosity distance Sigma={} Mpc'.format(sig_avr))\n",
    "        Norm_avr=np.average(posteriorNorm,weights=p_posterior)\n",
    "        print('average posteriorNorm={}'.format(Norm_avr))\n",
    "        #print(metadata)\n",
    "        #dl=metadata['distmean']\n",
    "        #std=metadata['diststd']\n",
    "        #z=cosmoglob.H(0).value*dl/clight\n",
    "        #sigz=cosmoglob.H(0).value*std/clight\n",
    "        #print('dL={}Mpc, std={}Mpc'.format(dl,std))\n",
    "        #print('z={}, delta_z={}'.format(z,sigz))\n",
    "        #print('\\n')\n",
    "        head = None\n",
    "def z_from_dL(dL_GW_val):\n",
    "    '''\n",
    "    Returns redshift for a given luminosity distance dL_GW_val (in Mpc)\n",
    "    \n",
    "    Input:\n",
    "        - dL_GW_val luminosity dist in Mpc\n",
    "        - H0\n",
    "        - Xi0: float. Value of Xi_0\n",
    "        - n: float. Value of n\n",
    "\n",
    "    '''   \n",
    "    #print(cosmo.H0)\n",
    "    func = lambda z : cosmoflag.luminosity_distance(z).value - dL_GW_val\n",
    "    z = fsolve(func, 1)\n",
    "    return z[0]\n",
    "\n",
    "def z_from_dcom(dc_val):\n",
    "    '''\n",
    "    Returns redshift for a given comoving distance dc (in Mpc)'''\n",
    "    \n",
    "    func = lambda z :cosmoflag.comoving_distance(z).value - dc_val\n",
    "    z = fsolve(func, 0.77)\n",
    "    return z[0]\n",
    "\n",
    "def mygaussint(prov_mu,prov_sigma,rho=1):\n",
    "    first=np.exp(-(prov_mu**2)/(2*prov_sigma**2))*prov_mu*rho*prov_sigma/np.sqrt(2*np.pi)\n",
    "    factor=0.5*rho*(prov_mu**2+prov_sigma**2)\n",
    "    second=(1+scipy.special.erf(prov_mu/(np.sqrt(2)*prov_sigma)))\n",
    "    ret=first+factor*second\n",
    "    return ret\n",
    "@njit\n",
    "def sphere_uncorr_gauss(x,y,mux,muy,sigx,sigy):\n",
    "    #correlation is 0 so is a multiplication of two gaussians\n",
    "    #x is theta, y is phi\n",
    "    #meanvec=(mux,muy)\n",
    "    meanvec=np.asarray((np.sin(mux)*np.cos(muy),np.sin(mux)*np.sin(muy),np.cos(mux)))\n",
    "    norm=np.sqrt(np.sum(meanvec**2))\n",
    "    meanvec=meanvec/norm\n",
    "    \n",
    "    #var=(x,y)\n",
    "    var=np.asarray((np.sin(x)*np.cos(y),np.sin(x)*np.sin(y),np.cos(x)))\n",
    "    #norm=np.sqrt(np.dot(var,var))\n",
    "    norm=np.sqrt(np.sum(var**2))\n",
    "    var=var/norm\n",
    "    \n",
    "    diff=meanvec-var\n",
    "    diff_len=np.sqrt(np.sum(diff**2))\n",
    "    #xfactor=((x-mux)/sigx)**2\n",
    "    #yfactor=((y*(1-np.sin(y))-muy*(1-np.sin(muy)))/sigy)**2\n",
    "    #yfactor=((y-muy)/sigy)**2\n",
    "    #norm=2*np.pi*sigx*sigy\n",
    "    factor=((diff_len)/sigy)**2\n",
    "    ret=np.exp(-(1/2)*(factor))#/norm\n",
    "    #ret=np.exp(-1/2*(xfactor+yfactor))\n",
    "    return ret\n",
    "def sphere_uncorr_gauss_hp(x,y,mux,muy,sigx,sigy):\n",
    "    #correlation is 0 so is a multiplication of two gaussians\n",
    "    #x is theta, y is phi\n",
    "    #meanvec=(mux,muy)\n",
    "    meanvec=hp.ang2vec(mux,muy)\n",
    "    #meanvec=np.asarray((1,mux,muy))\n",
    "    norm=np.sqrt(np.sum(meanvec**2))\n",
    "    meanvec=meanvec/norm\n",
    "    \n",
    "    #var=(x,y)\n",
    "    var=hp.ang2vec(x,y)\n",
    "    #var=np.asarray((1,x,y))\n",
    "    #norm=np.sqrt(np.dot(var,var))\n",
    "    norm=np.sqrt(np.sum(var**2))\n",
    "    var=var/norm\n",
    "    \n",
    "    diff=meanvec-var\n",
    "    diff_len=np.sqrt(np.sum(diff**2))\n",
    "    #xfactor=((x-mux)/sigx)**2\n",
    "    #yfactor=((y*(1-np.sin(y))-muy*(1-np.sin(muy)))/sigy)**2\n",
    "    #yfactor=((y-muy)/sigy)**2\n",
    "    #norm=2*np.pi*sigx*sigy\n",
    "    factor=((diff_len)/sigy)**2\n",
    "    ret=np.exp(-(1/2)*(factor))#/norm\n",
    "    #ret=np.exp(-1/2*(xfactor+yfactor))\n",
    "    return ret\n",
    "\n",
    "@njit\n",
    "def Mises_Fisher(theta,phi,DS_theta,DS_phi,conc):\n",
    "    meanvec=hp.ang2vec(DS_theta,DS_phi)\n",
    "    meanvec=np.asarray(meanvec,dtype=np.float128)\n",
    "    norm=np.sqrt(np.dot(meanvec,meanvec))\n",
    "    meanvec=meanvec/norm\n",
    "    \n",
    "    var=hp.ang2vec(theta,phi)\n",
    "    var=np.asarray(var,dtype=np.float128)\n",
    "    norm=np.sqrt(np.dot(var,var))\n",
    "    var=var/norm\n",
    "    \n",
    "    factor=np.dot(conc*var,meanvec)\n",
    "    factor=np.float128(factor)\n",
    "    #Normalization is futile, we will devide by the sum\n",
    "    #fullnorm=conc/(2*np.pi*(np.exp(conc)-np.exp(-conc)))\n",
    "    ret=np.float128(np.exp(factor))#/fullnorm\n",
    "    #ret=factor\n",
    "    return ret\n",
    "\n",
    "def N_i(mu,sigma):\n",
    "    #Visto che usiamo pochi valori di sigma, puoi anche sostituire\n",
    "    #la formula generale con il valore numerico calcolato con Mathematica\n",
    "    q1=0.5*(mu**2 + sigma**2)\n",
    "    q2=1+scipy.special.erf(mu/(np.sqrt(2)*sigma))\n",
    "    q3=np.exp(-(mu**2)/(2*(sigma**2) ))*mu*sigma\n",
    "    q4=1/(np.sqrt(2*np.pi))\n",
    "    ret= q3/q4 + q1*q2\n",
    "    return ret"
   ]
  },
  {
   "cell_type": "code",
   "execution_count": 62,
   "id": "ec25c485",
   "metadata": {},
   "outputs": [],
   "source": [
    "#GWdata path\n",
    "GW_data_path='/home/rciancarella/DarkSirensStat/data/GW/Hold_O3/'\n",
    "os.chdir(GW_data_path)\n",
    "#all_event=os.listdir()"
   ]
  },
  {
   "cell_type": "markdown",
   "id": "24d9987e",
   "metadata": {},
   "source": [
    "  # Function to exploit, find how to localise an event and produce a proxy one. \n",
    "   def _read_O3(self, fname, convert_nested=True):\n",
    "        \n",
    "   skymap, metadata = fits.read_sky_map(fname, nest=None, distances=True) #Read the skymap\n",
    "        self.event_name = get_ename(fname, verbose=self.verbose)\n",
    "        if self.verbose:\n",
    "                print('\\nEvent: %s' %self.event_name)\n",
    "                #Raul: prints for control\n",
    "                print('Delta=%s. If delta=1, normal run '%delta)\n",
    "        if (convert_nested) & (metadata['nest']): #If one wants RING ordering (the one of O2 data afaik) just has to set \"convert_nested\" to True\n",
    "            self.p_posterior = hp.reorder(skymap[0],n2r=True)\n",
    "            self.mu = hp.reorder(skymap[1],n2r=True)\n",
    "            self.sigma = hp.reorder(skymap[2],n2r=True)*delta\n",
    "            self.posteriorNorm = hp.reorder(skymap[3],n2r=True)\n",
    "        else:\n",
    "            self.p_posterior= skymap[0]\n",
    "            self.mu= skymap[1]\n",
    "            self.sigma = skymap[2]*delta\n",
    "            self.posteriorNorm= skymap[3]    "
   ]
  },
  {
   "cell_type": "code",
   "execution_count": 4,
   "id": "8c88ee72",
   "metadata": {},
   "outputs": [
    {
     "name": "stdout",
     "output_type": "stream",
     "text": [
      "GW190814_PublicationSamples.fits\n",
      "npix=12582912\n",
      "nside=1024\n",
      "RA=12.7001953125,dec=-24.87076339473571,theta=2.004873035517517,phi=0.22166022384947515\n",
      "Dl=235.45665178530027\n",
      "average luminosity distance Sigma=26.530261090991182 Mpc\n"
     ]
    }
   ],
   "source": [
    "#Some files to look at \n",
    "filenames=['GW190814_PublicationSamples.fits'\n",
    "           #,'GW190924_021846_PublicationSamples.fits'\n",
    "           #,'GW190412_PublicationSamples.fits'\n",
    "           #,'GW190915_235702_PublicationSamples.fits',\n",
    "           #'GW190708_232457_PublicationSamples.fits',\n",
    "           #'GW190421_213856_PublicationSamples.fits',\n",
    "           #,'GW190527_092055_PublicationSamples.fits' \n",
    "           ]\n",
    "########################## THIS GIVE US SOME INFO ######################################\n",
    "#for name in filenames:\n",
    "#    _read_O3(name)\n",
    "########################################################################################\n",
    "fname ='GW190814_PublicationSamples.fits'\n",
    "alldl=[]\n",
    "allsig=[]\n",
    "for fname in filenames:\n",
    "    print(fname)\n",
    "    skymap, metadata = fits.read_sky_map(fname, nest=None, distances=True)\n",
    "    p_posterior= skymap[0]\n",
    "    mu= skymap[1]\n",
    "    sigma = skymap[2]\n",
    "    posteriorNorm= skymap[3]        \n",
    "    npix = len(p_posterior)\n",
    "    print('npix={}'.format(npix))\n",
    "    nside=hp.npix2nside(npix)\n",
    "    print('nside={}'.format(nside))\n",
    "    theta,phi=find_theta_phi(nside,np.argmax(p_posterior))\n",
    "    ra, dec=find_ra_dec(nside,np.argmax(p_posterior))\n",
    "    print('RA={},dec={},theta={},phi={}'.format(ra,dec,theta,phi))\n",
    "    alldl.append(mu[np.argmax(p_posterior)])\n",
    "    print('Dl={}'.format(mu[np.argmax(p_posterior)]))\n",
    "    sig_avr=np.average(sigma,weights=p_posterior)\n",
    "    allsig.append(sig_avr)\n",
    "    print('average luminosity distance Sigma={} Mpc'.format(sig_avr))\n",
    "    #print(len(p_posterior))\n",
    "#alldl=np.asarray(alldl)\n",
    "#print(np.mean(alldl))"
   ]
  },
  {
   "cell_type": "code",
   "execution_count": 5,
   "id": "fa93342b",
   "metadata": {},
   "outputs": [
    {
     "name": "stdout",
     "output_type": "stream",
     "text": [
      "nan\n"
     ]
    },
    {
     "name": "stderr",
     "output_type": "stream",
     "text": [
      "/home/rciancarella/.local/lib/python3.10/site-packages/numpy/core/fromnumeric.py:3432: RuntimeWarning: Mean of empty slice.\n",
      "  return _methods._mean(a, axis=axis, dtype=dtype,\n",
      "/home/rciancarella/.local/lib/python3.10/site-packages/numpy/core/_methods.py:190: RuntimeWarning: invalid value encountered in double_scalars\n",
      "  ret = ret.dtype.type(ret / rcount)\n"
     ]
    }
   ],
   "source": [
    "sig_perc=[]\n",
    "for i in range(len(alldl)):\n",
    "    sig_perc.append(100*allsig[i]/alldl[i])\n",
    "sig_perc=np.asarray(sig_perc[0:-1])\n",
    "print(np.mean(sig_perc))"
   ]
  },
  {
   "cell_type": "code",
   "execution_count": null,
   "id": "b6ea4dcc",
   "metadata": {},
   "outputs": [],
   "source": [
    "my_theta,my_phi=hp.pix2ang(nside, np.argmax(p_posterior), nest=True)\n",
    "vec = hp.ang2vec(my_theta, my_phi)\n",
    "my_maxpix=hp.ang2pix(nside, my_theta, my_phi,nest=True)\n",
    "maxpix=np.argmax(p_posterior)\n",
    "print(maxpix,my_maxpix)"
   ]
  },
  {
   "cell_type": "code",
   "execution_count": null,
   "id": "2d819853",
   "metadata": {},
   "outputs": [],
   "source": [
    "print(vec)"
   ]
  },
  {
   "cell_type": "code",
   "execution_count": null,
   "id": "efdfa4b7",
   "metadata": {},
   "outputs": [],
   "source": [
    "hp.mollview(p_posterior, title=fname,nest=True)"
   ]
  },
  {
   "cell_type": "code",
   "execution_count": null,
   "id": "59e0ee66",
   "metadata": {},
   "outputs": [],
   "source": [
    "credible_levels = find_greedy_credible_levels(p_posterior)\n",
    "Ligo_Area_99_deg=np.sum(credible_levels <= 0.99) * hp.nside2pixarea(nside, degrees=True)\n",
    "Ligo_Area_90_deg=np.sum(credible_levels <= 0.9) * hp.nside2pixarea(nside, degrees=True)\n",
    "print('Ligo area_deg 99% is {}\\nLigo area_deg 90% is {} '.format(Ligo_Area_99_deg,Ligo_Area_90_deg))"
   ]
  },
  {
   "cell_type": "code",
   "execution_count": null,
   "id": "2c8f5d9e",
   "metadata": {},
   "outputs": [],
   "source": [
    "_read_O3(fname)"
   ]
  },
  {
   "cell_type": "code",
   "execution_count": null,
   "id": "f247f052",
   "metadata": {},
   "outputs": [],
   "source": [
    "vec = hp.ang2vec(my_theta, my_phi)\n",
    "ipix_disc = hp.query_disc(nside=nside, vec=vec, radius=np.radians(circle_deg), nest=True)\n",
    "ipix_90 = hp.query_disc(nside=nside, vec=vec, radius=np.radians(radius_deg), nest=True)\n",
    "m =np.zeros(len(p_posterior))\n",
    "m[ipix_disc] = 1/len(ipix_disc)\n",
    "hp.mollview(m, title=\"Gaussian Mask\",nest=True)"
   ]
  },
  {
   "cell_type": "code",
   "execution_count": null,
   "id": "cfab7d03",
   "metadata": {},
   "outputs": [],
   "source": [
    "Mock_Area_deg=len(ipix_disc) * hp.nside2pixarea(nside, degrees=True)\n",
    "Mock_Area_90_deg=len(ipix_90) *hp.nside2pixarea(nside, degrees=True)\n",
    "print('99.9999% area is {} squared deg\\n90% area is {} squared deg'.format(Mock_Area_deg,Mock_Area_90_deg))"
   ]
  },
  {
   "cell_type": "code",
   "execution_count": null,
   "id": "545c8fc4",
   "metadata": {},
   "outputs": [],
   "source": [
    "'''\n",
    "https://emfollow.docs.ligo.org/userguide/tutorial/skymaps.html(for ref on skymap)\n",
    "\n",
    "Now we need to rescale the probability. We set the prob=0 ouside the circle\n",
    "We assume that the renormalization is constant.\n",
    "We crate a mask with our circle. Outside the mask p_posterior=0, the renormalization\n",
    "constan alpha, is therefore 1/sum(p_posterior()). This ensure unitarity. \n",
    "\n",
    "If this works, than we will use a 2D Gaussian distribution for the probability\n",
    "\n",
    "'''\n"
   ]
  },
  {
   "cell_type": "code",
   "execution_count": 63,
   "id": "bfa9fdea",
   "metadata": {},
   "outputs": [
    {
     "name": "stdout",
     "output_type": "stream",
     "text": [
      "GW190512_180714_PublicationSamples.fits\n"
     ]
    },
    {
     "data": {
      "text/plain": [
       "9.986854087797142e-07"
      ]
     },
     "execution_count": 63,
     "metadata": {},
     "output_type": "execute_result"
    },
    {
     "data": {
      "image/png": "[encoded data removed]",
      "text/plain": [
       "<Figure size 612x388.8 with 2 Axes>"
      ]
     },
     "metadata": {
      "needs_background": "light"
     },
     "output_type": "display_data"
    }
   ],
   "source": [
    "fname ='GW190512_180714_PublicationSamples.fits'\n",
    "print(fname)\n",
    "skymap, metadata = fits.read_sky_map(fname, nest=None, distances=True)\n",
    "p_posterior= skymap[0]\n",
    "mu= skymap[1]\n",
    "sigma = skymap[2]\n",
    "posteriorNorm= skymap[3]        \n",
    "npix = len(p_posterior)\n",
    "nside=hp.npix2nside(npix)\n",
    "all_pixels=np.arange(npix)\n",
    "hp.mollview(p_posterior, title=fname,nest=True)\n",
    "hp.nside2pixarea(nside)"
   ]
  },
  {
   "cell_type": "code",
   "execution_count": 102,
   "id": "e48daf6e",
   "metadata": {},
   "outputs": [
    {
     "name": "stdout",
     "output_type": "stream",
     "text": [
      "GW location: theta=2.0352301478699384, phi=4.366476312716477, RA=250.18066406249997, DEC=-26.610097810733922\n",
      "[ True  True  True ...  True  True  True] 69008\n",
      "average luminosity distance=1270.5684715395284 Mpc; Distance from metadata 1462.46170897 Mpc\n"
     ]
    }
   ],
   "source": [
    "my_theta,my_phi=find_theta_phi(nside,np.argmax(p_posterior))\n",
    "my_ra, my_dec=find_ra_dec(nside,np.argmax(p_posterior))\n",
    "print('GW location: theta={}, phi={}, RA={}, DEC={}'.format(my_theta,my_phi,my_ra,my_dec))\n",
    "mutmp=mu[myidx]\n",
    "ptmp=p_posterior[myidx]\n",
    "pxmask = np.isfinite(mutmp) & (mutmp >= 0)\n",
    "print(pxmask,len(pxmask))\n",
    "mu_avr=np.average(mutmp[pxmask],weights=ptmp[pxmask])\n",
    "print('average luminosity distance={} Mpc; Distance from metadata {} Mpc'.format(mu_avr,metadata['distmean']))"
   ]
  },
  {
   "cell_type": "code",
   "execution_count": 67,
   "id": "bfd88665",
   "metadata": {},
   "outputs": [
    {
     "name": "stdout",
     "output_type": "stream",
     "text": [
      "False\n",
      "False\n"
     ]
    }
   ],
   "source": [
    "print(np.isinf(p_posterior).all())\n",
    "print(np.isnan(p_posterior).all())"
   ]
  },
  {
   "cell_type": "code",
   "execution_count": 69,
   "id": "32f5af35",
   "metadata": {},
   "outputs": [],
   "source": [
    "for i in range(len(p_posterior)):\n",
    "    if mu[i] is None:\n",
    "        print(i)"
   ]
  },
  {
   "cell_type": "code",
   "execution_count": 65,
   "id": "f92fa3d2",
   "metadata": {},
   "outputs": [
    {
     "data": {
      "text/plain": [
       "odict_keys(['HISTORY', 'gps_time', 'gps_creation_time', 'creator', 'origin', 'distmean', 'diststd', 'vcs_version', 'nest'])"
      ]
     },
     "execution_count": 65,
     "metadata": {},
     "output_type": "execute_result"
    }
   ],
   "source": [
    "metadata.keys()"
   ]
  },
  {
   "cell_type": "markdown",
   "id": "196da336",
   "metadata": {},
   "source": [
    "# Prova selezione pix 90%"
   ]
  },
  {
   "cell_type": "code",
   "execution_count": null,
   "id": "cdb45611",
   "metadata": {},
   "outputs": [],
   "source": [
    "    def compute_sky_conf_event(event, nside):\n",
    "        \"\"\"Return all the Healpix pixel indices where the probability of an event is above a given threshold.\n",
    "\n",
    "        Args:\n",
    "            event (int): number of the event\n",
    "            nside (int): nside parameter for Healpix\n",
    "\n",
    "        Returns:\n",
    "            np.ndarray: Healpix indices of the skymap where the probability of an event is above a given threshold.\n",
    "        \"\"\"\n",
    "\n",
    "        pixel_key      = f\"pix{nside}\"\n",
    "        unique, counts = np.unique(self.data[pixel_key][event], return_counts=True)\n",
    "        p              = np.zeros(hp.nside2npix(nside), dtype=float)\n",
    "        p[unique]      = counts/self.data[pixel_key][event].shape[0]\n",
    "\n",
    "        return np.argwhere(p >= self._get_threshold(p, level=self.sky_conf)).flatten()"
   ]
  },
  {
   "cell_type": "code",
   "execution_count": 14,
   "id": "55fb4e39",
   "metadata": {},
   "outputs": [],
   "source": [
    "    def _get_threshold(norm_counts, level=0.9):\n",
    "        '''\n",
    "        Finds value mincount of normalized number counts norm_counts that bouds the x% credible region , with x=level\n",
    "        Then to select pixels in that region: all_pixels[norm_count>mincount]\n",
    "        '''\n",
    "        prob_sorted     = np.sort(norm_counts)[::-1]\n",
    "        prob_sorted_cum = np.cumsum(prob_sorted)\n",
    "        idx             = np.searchsorted(prob_sorted_cum, level) # find index of array which bounds the confidence interval\n",
    "        mincount        = prob_sorted[idx] \n",
    "        return mincount"
   ]
  },
  {
   "cell_type": "code",
   "execution_count": 28,
   "id": "2a652fd2",
   "metadata": {},
   "outputs": [],
   "source": [
    "    def My_compute_sky_conf_event(event,ProbLevel=0.9):\n",
    "        print(event)\n",
    "        skymap, metadata = fits.read_sky_map(fname, nest=None, distances=True)\n",
    "        p_posterior= skymap[0]\n",
    "        mu= skymap[1]\n",
    "        sigma = skymap[2]\n",
    "        posteriorNorm= skymap[3]        \n",
    "        npix = len(p_posterior)\n",
    "        nside=hp.npix2nside(npix)\n",
    "        \"\"\"Return all the Healpix pixel indices where the probability of an event is above a given threshold.\n",
    "\n",
    "        Args:\n",
    "            event (int): number of the event\n",
    "            nside (int): nside parameter for Healpix\n",
    "\n",
    "        Returns:\n",
    "            np.ndarray: Healpix indices of the skymap where the probability of an event is above a given threshold.\n",
    "        \"\"\"\n",
    "\n",
    "        pixel_key      = f\"pix{nside}\"\n",
    "        unique, counts = np.unique(all_pixels, return_counts=True)\n",
    "        #print(unique)\n",
    "        p              = np.zeros(hp.nside2npix(nside), dtype=float)\n",
    "        p[unique]      = counts/all_pixels.shape[0]\n",
    "\n",
    "        return np.argwhere(p >=_get_threshold(p, level=ProbLevel)).flatten()"
   ]
  },
  {
   "cell_type": "code",
   "execution_count": 29,
   "id": "89184721",
   "metadata": {},
   "outputs": [
    {
     "name": "stdout",
     "output_type": "stream",
     "text": [
      "GW190512_180714_PublicationSamples.fits\n",
      "[       0        1        2 ... 12582909 12582910 12582911]\n"
     ]
    }
   ],
   "source": [
    "test=My_compute_sky_conf_event(fname)"
   ]
  },
  {
   "cell_type": "code",
   "execution_count": 30,
   "id": "d213c638",
   "metadata": {},
   "outputs": [
    {
     "name": "stdout",
     "output_type": "stream",
     "text": [
      "[       0        1        2 ... 12582909 12582910 12582911]\n"
     ]
    }
   ],
   "source": [
    "print(test)"
   ]
  },
  {
   "cell_type": "code",
   "execution_count": 64,
   "id": "1914bcf8",
   "metadata": {},
   "outputs": [],
   "source": [
    "    def area(nside,all_pixels,p_posterior,level=0.9):\n",
    "        \n",
    "        ''' Area of level% credible region, in square degrees.\n",
    "            If level is not specified, uses current selection '''\n",
    "        pixarea=hp.nside2pixarea(nside)\n",
    "        return get_credible_region_pixels(all_pixels,p_posterior,level=level).size*pixarea*(180/np.pi)**2\n",
    "            \n",
    "        \n",
    "    def _get_credible_region_pth(p_posterior, level=0.9):\n",
    "        '''\n",
    "        Finds value minskypdf of rho_i that bouds the x% credible region , with x=level\n",
    "        Then to select pixels in that region: self.all_pixels[self.p_posterior>minskypdf]\n",
    "        '''\n",
    "            \n",
    "        prob_sorted = np.sort(p_posterior)[::-1]\n",
    "        prob_sorted_cum = np.cumsum(prob_sorted)\n",
    "        # find index of array which bounds the self.area confidence interval\n",
    "        idx = np.searchsorted(prob_sorted_cum, level)\n",
    "        minskypdf = prob_sorted[idx] #*skymap.npix\n",
    "        \n",
    "        #self.p[self.p]  >= minskypdf       \n",
    "        return minskypdf\n",
    "    \n",
    "    def get_credible_region_pixels(all_pixels,p_posterior,level=0.9):\n",
    "        return all_pixels[p_posterior>_get_credible_region_pth(p_posterior,level=level)]"
   ]
  },
  {
   "cell_type": "code",
   "execution_count": 67,
   "id": "ad226fe6",
   "metadata": {},
   "outputs": [
    {
     "name": "stdout",
     "output_type": "stream",
     "text": [
      "869.9278632613745\n",
      "226.24209323723514\n"
     ]
    }
   ],
   "source": [
    "myarea= area(nside,all_pixels,p_posterior,level=0.99)\n",
    "print(myarea)\n",
    "myarea= area(nside,all_pixels,p_posterior,level=0.9)\n",
    "print(myarea)"
   ]
  },
  {
   "cell_type": "code",
   "execution_count": 68,
   "id": "d1723b32",
   "metadata": {},
   "outputs": [
    {
     "name": "stdout",
     "output_type": "stream",
     "text": [
      "Ligo area_deg 99% is 869.9967115682081\n",
      "Ligo area_deg 90% is 226.2781566360528 \n"
     ]
    }
   ],
   "source": [
    "credible_levels = find_greedy_credible_levels(p_posterior)\n",
    "Ligo_Area_99_deg=np.sum(credible_levels <= 0.99) * hp.nside2pixarea(nside, degrees=True)\n",
    "Ligo_Area_90_deg=np.sum(credible_levels <= 0.9) * hp.nside2pixarea(nside, degrees=True)\n",
    "print('Ligo area_deg 99% is {}\\nLigo area_deg 90% is {} '.format(Ligo_Area_99_deg,Ligo_Area_90_deg))\n"
   ]
  },
  {
   "cell_type": "code",
   "execution_count": 98,
   "id": "141e5227",
   "metadata": {},
   "outputs": [],
   "source": [
    "myidx=get_credible_region_pixels(all_pixels,p_posterior,level=0.9)\n",
    "#print(myidx)"
   ]
  },
  {
   "cell_type": "code",
   "execution_count": 92,
   "id": "b51db670",
   "metadata": {},
   "outputs": [],
   "source": [
    "new_allpix=np.zeros(len(p_posterior))\n",
    "new_allpix[myidx]=p_posterior[myidx]"
   ]
  },
  {
   "cell_type": "code",
   "execution_count": 93,
   "id": "a2c439fd",
   "metadata": {},
   "outputs": [
    {
     "data": {
      "image/png": "[encoded data removed]",
      "text/plain": [
       "<Figure size 612x388.8 with 2 Axes>"
      ]
     },
     "metadata": {
      "needs_background": "light"
     },
     "output_type": "display_data"
    },
    {
     "data": {
      "image/png": "[encoded data removed]",
      "text/plain": [
       "<Figure size 612x388.8 with 2 Axes>"
      ]
     },
     "metadata": {
      "needs_background": "light"
     },
     "output_type": "display_data"
    }
   ],
   "source": [
    "hp.mollview(p_posterior, title=fname,nest=True)\n",
    "hp.mollview(new_allpix, title=fname,nest=True)"
   ]
  },
  {
   "cell_type": "code",
   "execution_count": 149,
   "id": "d6b5fb9c",
   "metadata": {},
   "outputs": [],
   "source": [
    "class GWskymap:\n",
    "    def __init__(self,event,level=None):\n",
    "       #Costruttore classe\n",
    "        self.event=event\n",
    "        self.read_event(event)\n",
    "        if level==None:\n",
    "            self.level=0.9\n",
    "        else:\n",
    "            self.level=level\n",
    "        \n",
    "    def read_event(self,event):\n",
    "        skymap, metadata = fits.read_sky_map(event, nest=None, distances=True)\n",
    "        self.p_posterior= skymap[0]\n",
    "        self.mu= skymap[1]\n",
    "        self.sigma = skymap[2]\n",
    "        self.posteriorNorm= skymap[3]        \n",
    "        self.npix = len(p_posterior)\n",
    "        self.nside=hp.npix2nside(npix)\n",
    "        self.metadata=metadata\n",
    "        #all_pixels=np.arange(npix)\n",
    "        #return p_posterior,mu,sigma,posteriorNorm,nside,npix,metadata             \n",
    "    def area(self):\n",
    "        level=self.level\n",
    "        nside=self.nside\n",
    "        ''' Area of level% credible region, in square degrees.\n",
    "            If level is not specified, uses current selection '''\n",
    "        pixarea=hp.nside2pixarea(nside)\n",
    "        return get_credible_region_pixels(all_pixels,p_posterior,level=level).size*pixarea*(180/np.pi)**2\n",
    "    \n",
    "    def _get_credible_region_pth(self,p_posterior,level):\n",
    "        '''\n",
    "        Finds value minskypdf of rho_i that bouds the x% credible region , with x=level\n",
    "        Then to select pixels in that region: self.all_pixels[self.p_posterior>minskypdf]\n",
    "        '''\n",
    "\n",
    "        prob_sorted = np.sort(self.p_posterior)[::-1]\n",
    "        prob_sorted_cum = np.cumsum(prob_sorted)\n",
    "        # find index of array which bounds the self.area confidence interval\n",
    "        idx = np.searchsorted(prob_sorted_cum, self.level)\n",
    "        minskypdf = prob_sorted[idx] #*skymap.npix\n",
    "\n",
    "        #self.p[self.p]  >= minskypdf       \n",
    "        return minskypdf\n",
    "    \n",
    "    def get_credible_region_pixels(self):\n",
    "        all_pixels=np.arange(self.npix)\n",
    "        return all_pixels[self.p_posterior>self._get_credible_region_pth(self.p_posterior,self.level)]"
   ]
  },
  {
   "cell_type": "code",
   "execution_count": 147,
   "id": "726f6fe0",
   "metadata": {},
   "outputs": [],
   "source": [
    "DS01=GWskymap(fname)"
   ]
  },
  {
   "cell_type": "code",
   "execution_count": 148,
   "id": "64f4e4ef",
   "metadata": {},
   "outputs": [],
   "source": [
    "mypix=DS01.get_credible_region_pixels()"
   ]
  },
  {
   "cell_type": "code",
   "execution_count": 158,
   "id": "7d4219b9",
   "metadata": {},
   "outputs": [
    {
     "name": "stdout",
     "output_type": "stream",
     "text": [
      "OrderedDict([('HISTORY',\n",
      "              ['',\n",
      "               'Generated by running the following script:',\n",
      "               'ligo-skymap-from-samples --maxpts 5000 --seed 41 --jobs 1 '\n",
      "               '--fitsoutname',\n",
      "               '/home/john.veitch/o3a_catalog_events/o3a_pe_samples_release_uniform_como',\n",
      "               'ving/GW190512A_PublicationSamples.fits --path '\n",
      "               'PublicationSamples/posteri',\n",
      "               'or_samples /local/condor/execute/dir_1954/tmpc594_5d2.h5']),\n",
      "             ('gps_time', 1241719652.42),\n",
      "             ('gps_creation_time', 1285506619.072436),\n",
      "             ('creator', 'ligo-skymap-from-samples'),\n",
      "             ('origin', 'LIGO/Virgo'),\n",
      "             ('distmean', 1462.46170897),\n",
      "             ('diststd', 346.8710515556066),\n",
      "             ('vcs_version', 'ligo.skymap 0.5.0'),\n",
      "             ('nest', True)])\n"
     ]
    }
   ],
   "source": [
    "import pprint\n",
    "pprint.pprint(DS01.metadata)"
   ]
  },
  {
   "cell_type": "code",
   "execution_count": null,
   "id": "ae216591",
   "metadata": {},
   "outputs": [],
   "source": [
    "\n",
    "#saved_prob=np.zeros(len(p_posterior))\n",
    "#saved_prob[ipix_disc]=p_posterior[ipix_disc]\n",
    "#prob_to_write=np.zeros(len(p_posterior))\n",
    "#alpha=1/np.sum(saved_prob)\n",
    "#prob_to_write[ipix_disc]=alpha*saved_prob[ipix_disc]"
   ]
  },
  {
   "cell_type": "code",
   "execution_count": null,
   "id": "c848b309",
   "metadata": {},
   "outputs": [],
   "source": [
    "#print(np.sum(prob_to_write))"
   ]
  },
  {
   "cell_type": "code",
   "execution_count": null,
   "id": "433cef76",
   "metadata": {},
   "outputs": [],
   "source": [
    "#hp.mollview(prob_to_write, title=\"Mollview image NESTED\",nest=True)"
   ]
  },
  {
   "cell_type": "code",
   "execution_count": null,
   "id": "53b6fa15",
   "metadata": {},
   "outputs": [],
   "source": [
    "#my_sky_tosave=(prob_to_write,skymap[1],sigma,posteriorNorm)\n",
    "#my_sky_tosave=np.array([prob_to_write,mu,sigma,posteriorNorm])\n",
    "#dat=Table([prob_to_write,mu,sigma,posteriorNorm],\n",
    "#          names=('PROB','DISTMU','DISTSIGMA','DISTNORM'))\n",
    "#dat.write('Amap.fits',format='fits',overwrite=True)\n",
    "#fits.write_sky_map('Amap.fits',dat, nest=True)"
   ]
  },
  {
   "cell_type": "code",
   "execution_count": null,
   "id": "3ec58cb7",
   "metadata": {},
   "outputs": [],
   "source": [
    "#check result"
   ]
  },
  {
   "cell_type": "code",
   "execution_count": null,
   "id": "e927c5b8",
   "metadata": {},
   "outputs": [],
   "source": [
    "#my_data,my_meta=fits.read_sky_map(\"Amap.fits\",nest=None, distances=True)\n",
    "#print(my_meta)"
   ]
  },
  {
   "cell_type": "code",
   "execution_count": null,
   "id": "a039790c",
   "metadata": {},
   "outputs": [],
   "source": [
    "#hp.mollview(my_data[0], title=\"Mollview image NESTED\",nest=True)"
   ]
  },
  {
   "cell_type": "code",
   "execution_count": null,
   "id": "e75e0099",
   "metadata": {},
   "outputs": [],
   "source": [
    "#print(my_meta)"
   ]
  },
  {
   "cell_type": "code",
   "execution_count": null,
   "id": "dfdf7282",
   "metadata": {},
   "outputs": [],
   "source": [
    "#_read_O3('Amap.fits')"
   ]
  },
  {
   "cell_type": "code",
   "execution_count": null,
   "id": "2d74ea6d",
   "metadata": {},
   "outputs": [],
   "source": [
    "temp_theta,temp_phi=find_theta_phi(nside,np.argmax(gaussmap))\n",
    "temp_ra, temp_dec=find_ra_dec(nside,np.argmax(gaussmap))\n",
    "print('GW221005 location: theta={}, phi={}, RA={}, DEC={}'.format(temp_theta,temp_phi,temp_ra,temp_dec))"
   ]
  },
  {
   "cell_type": "code",
   "execution_count": null,
   "id": "bb87b61b",
   "metadata": {},
   "outputs": [],
   "source": []
  },
  {
   "cell_type": "code",
   "execution_count": null,
   "id": "1d53b221",
   "metadata": {},
   "outputs": [],
   "source": [
    "fname ='GW221900_PublicationSamples.fits'\n",
    "my_data,my_meta=fits.read_sky_map(fname,nest=None, distances=True)"
   ]
  },
  {
   "cell_type": "code",
   "execution_count": null,
   "id": "72bd2654",
   "metadata": {},
   "outputs": [],
   "source": [
    "my_prob=my_data[0]\n",
    "my_mu=my_data[1]\n",
    "my_sigma=my_data[2]\n",
    "npix = len(my_prob)\n",
    "nside=hp.npix2nside(npix)\n",
    "#my_mu[np.isinf(my_mu)]=0\n",
    "hp.mollview(my_prob, title=fname,nest=True)"
   ]
  },
  {
   "cell_type": "code",
   "execution_count": null,
   "id": "ee3856a0",
   "metadata": {},
   "outputs": [],
   "source": [
    "my_theta,my_phi=find_theta_phi(nside,np.argmax(my_prob))\n",
    "my_ra, my_dec=find_ra_dec(nside,np.argmax(my_prob))\n",
    "print('GW location: theta={}, phi={}, RA={}, DEC={}'.format(my_theta,my_phi,my_ra,my_dec))\n",
    "mu_avr=np.average(my_mu,weights=my_prob)\n",
    "print('average luminosity distance={} Mpc'.format(mu_avr))\n",
    "sig_avr=np.average(my_sigma,weights=my_prob)\n",
    "print('average luminosity distance Sigma={} Mpc'.format(sig_avr))\n",
    "z_gw=z_from_dL(mu_avr)\n",
    "print('redshift={}, in flagship cosmology'.format(z_gw))\n",
    "comov=mu_avr/(1+z_gw)\n",
    "print('comoving distance={}'.format(comov))"
   ]
  },
  {
   "cell_type": "code",
   "execution_count": null,
   "id": "96d5a6c4",
   "metadata": {},
   "outputs": [],
   "source": [
    "np.argmax(my_prob)\n",
    "maxtheta,maxphi=hp.pix2ang(nside, 841536)\n",
    "vicini=hp.get_all_neighbours(nside,maxtheta,maxphi)\n",
    "print(maxtheta,maxphi)\n",
    "print(vicini)"
   ]
  },
  {
   "cell_type": "code",
   "execution_count": null,
   "id": "e495e4d1",
   "metadata": {},
   "outputs": [],
   "source": [
    "for i in vicini:\n",
    "    maxtheta,maxphi=hp.pix2ang(nside, i, nest=True)\n",
    "    print(hp.get_all_neighbours(nside,maxtheta,maxphi,nest=True))"
   ]
  },
  {
   "cell_type": "code",
   "execution_count": null,
   "id": "5bfa8106",
   "metadata": {},
   "outputs": [],
   "source": [
    "if(np.isnan(my_prob).any()):\n",
    "    print(\"The Array contain NaN values\")\n",
    "else:\n",
    "    print(\"The Array does not contain NaN values\")\n",
    "if(np.isnan(my_mu).any()):\n",
    "    print(\"The Array contain NaN values\")\n",
    "else:\n",
    "    print(\"The Array does not contain NaN values\")\n",
    "    \n",
    "if(np.isinf(my_prob).any()):\n",
    "    print(\"The Array contain inf values\")\n",
    "else:\n",
    "    print(\"The Array does not contain inf values\")\n",
    "if(np.isinf(my_mu).any()):\n",
    "    print(\"The Array contain inf values\")\n",
    "else:\n",
    "    print(\"The Array does not contain inf values\")"
   ]
  },
  {
   "cell_type": "code",
   "execution_count": null,
   "id": "8d41312b",
   "metadata": {},
   "outputs": [],
   "source": [
    "credible_levels = find_greedy_credible_levels(gaussmap)\n",
    "Ligo_Area_99_deg=np.sum(credible_levels <= 0.99) * hp.nside2pixarea(nside, degrees=True)\n",
    "Ligo_Area_90_deg=np.sum(credible_levels <= 0.9) * hp.nside2pixarea(nside, degrees=True)\n",
    "print('Ligo area_deg 99% is {}\\nLigo area_deg 90% is {} '.format(Ligo_Area_99_deg,Ligo_Area_90_deg))\n"
   ]
  },
  {
   "cell_type": "code",
   "execution_count": null,
   "id": "c26238dc",
   "metadata": {},
   "outputs": [],
   "source": [
    "my_theta,my_phi=find_theta_phi(nside,np.argmax(my_prob))\n",
    "my_ra, my_dec=find_ra_dec(nside,np.argmax(my_prob))\n",
    "print('GW location: theta={}, phi={}, RA={}, DEC={}'.format(my_theta,my_phi,my_ra,my_dec))\n",
    "mu_avr=np.average(my_mu,weights=my_prob)\n",
    "print('average luminosity distance={} Mpc'.format(mu_avr))\n",
    "sig_avr=np.average(my_sigma,weights=my_prob)\n",
    "print('average luminosity distance Sigma={} Mpc'.format(sig_avr))\n",
    "z_gw=z_from_dL(mu_avr)\n",
    "print('redshift={}, in flagship cosmology'.format(z_gw))\n",
    "comov=mu_avr/(1+z_gw)\n",
    "print('comoving distance={}'.format(comov))"
   ]
  },
  {
   "cell_type": "code",
   "execution_count": null,
   "id": "46c0b100",
   "metadata": {},
   "outputs": [],
   "source": [
    "np.sum(my_mu[0:3]*my_prob[0:3])"
   ]
  },
  {
   "cell_type": "code",
   "execution_count": null,
   "id": "87f5aeff",
   "metadata": {},
   "outputs": [],
   "source": [
    "len(my_mu)==len(my_prob)"
   ]
  },
  {
   "cell_type": "markdown",
   "id": "6be4bcff",
   "metadata": {},
   "source": [
    "# Automatic Map Creator \n",
    "\n",
    "z_min=0.7887375950813293, z_max=2.0129446983337402\n",
    "ra_min=1.558116673550103e-05, ra_max=89.99999237060547\n",
    "dec_min=2.9646462280652486e-06, dec_max=89.98294830322266\n",
    "phi_min=2.7194266749575036e-07, phi_max=1.5707961320877075\n",
    "theta_min=0.0002976218846182377, theta_max=1.570796275052059"
   ]
  },
  {
   "cell_type": "code",
   "execution_count": null,
   "id": "c670f1a8",
   "metadata": {},
   "outputs": [],
   "source": [
    "GW_data_path='/home/rciancarella/DarkSirensStat/data/GW/O3/'\n",
    "os.chdir(GW_data_path)"
   ]
  },
  {
   "cell_type": "code",
   "execution_count": null,
   "id": "c730ece8",
   "metadata": {},
   "outputs": [],
   "source": [
    "nside=512#512#1024\n",
    "npix = hp.nside2npix(nside)\n",
    "fisher=0\n",
    "if fisher==1:\n",
    "    radius_deg= np.sqrt(10/np.pi)\n",
    "    sigma90=radius_deg/np.sqrt(2)\n",
    "    sigma_deg=sigma90/1.5\n",
    "    circle_deg=6*sigma_deg\n",
    "    sigma_theta=np.radians(sigma_deg)\n",
    "    sigma_phi=np.radians(sigma_deg)\n",
    "    conc=1/(sigma_phi**2)\n",
    "    print('Fisher concentration Parameter k={}'.format(conc))\n",
    "    radius_rad=np.radians(circle_deg)\n",
    "else:\n",
    "    radius_deg= np.sqrt(10/np.pi)\n",
    "    sigma90=radius_deg/np.sqrt(2)\n",
    "    sigma_deg=sigma90/1.5\n",
    "    circle_deg=6*sigma_deg\n",
    "    sigma_theta=np.radians(sigma_deg)\n",
    "    sigma_phi=np.radians(sigma_deg)\n",
    "    radius_rad=np.radians(circle_deg)\n",
    "\n",
    "phi_min=0.0001\n",
    "phi_max=1.5707961320877075\n",
    "theta_min=0.0001976218846182377\n",
    "theta_max=1.570796275052059\n",
    "phi_start=phi_min+5*sigma_phi\n",
    "phi_stop=phi_max-5*sigma_phi\n",
    "step =5* sigma_phi\n",
    "N=np.floor((phi_stop-phi_start)/step)\n",
    "N=int(N/2)\n",
    "#----------------------uniform in comoving DS-----------------------------\n",
    "zlen=10\n",
    "allredshift=np.zeros(zlen)\n",
    "my_zmin=1.1\n",
    "my_zmax=1.3\n",
    "my_dcom_min=cosmoflag.comoving_distance(my_zmin).value\n",
    "my_dcom_max=cosmoflag.comoving_distance(my_zmax).value\n",
    "alldcom=np.linspace(my_dcom_min,my_dcom_max,zlen)\n",
    "for i in range(zlen):\n",
    "    allredshift[i]=z_from_dcom(alldcom[i])\n",
    "#-------------------------------------------------------------------------\n",
    "print('Sigma_theta={}, Sigma_phi={}'.format(sigma_theta,sigma_phi))\n",
    "print('Sigma_theta={}°, Sigma_phi={}°'.format(np.rad2deg(sigma_theta)\n",
    "                                              ,np.rad2deg(sigma_phi)))\n",
    "print(step, N)\n",
    "allphi=np.arange(0,N)*step+phi_start\n",
    "\n",
    "\n",
    "truethetamin=theta_min+6*sigma_theta\n",
    "truethetamax=theta_max-6*sigma_theta\n",
    "M=np.floor((truethetamax-truethetamin)/step)\n",
    "M=int(M/2)\n",
    "alltheta=np.arange(0,M)*step+truethetamin\n",
    "\n",
    "print('N={},M={}, NxM={}'.format(N,M,N*M))\n",
    "\n",
    "\n",
    "name='GW34xxxx_datasheet.txt'\n",
    "file= open(name,'w')\n",
    "my_header=['name\\t','dl\\t','theta\\t','phi\\t','z\\t','deltadl\\t','sigma_phi\\n']\n",
    "file.writelines(my_header)\n",
    "file.close()"
   ]
  },
  {
   "cell_type": "code",
   "execution_count": null,
   "id": "f8a206bf",
   "metadata": {},
   "outputs": [],
   "source": [
    "'''Use this when phi and theta both changes'''\n",
    "for j in tqdm(range(M)):\n",
    "    for k in range(N):\n",
    "        numevent=int(340000)+k+j*N\n",
    "        fname='GW'+str(numevent)+'_PublicationSamples.fits'\n",
    "        index=k%zlen\n",
    "        zref=allredshift[index]\n",
    "        DS_phi=allphi[k]\n",
    "        DS_theta=alltheta[j]\n",
    "        vec = hp.ang2vec(DS_theta, DS_phi)\n",
    "        ipix_disc = hp.query_disc(nside=nside, vec=vec, radius=radius_rad, nest=True)\n",
    "        #print(DS_theta,DS_phi)\n",
    "        if fisher==1:\n",
    "            gaussmap =np.zeros(npix,dtype=np.float128)\n",
    "        else:\n",
    "            gaussmap =np.zeros(npix)\n",
    "        mod_mu=np.zeros(len(gaussmap))\n",
    "        mod_sigma=np.zeros(len(gaussmap))\n",
    "        mod_postnorm=np.zeros(len(gaussmap))\n",
    "        theta_arr=np.zeros(len(gaussmap))\n",
    "        phi_arr=np.zeros(len(gaussmap))\n",
    "        gauss64 =np.zeros(len(gaussmap),dtype=np.float128)\n",
    "\n",
    "        dlref=cosmoflag.luminosity_distance(zref).value\n",
    "        dlsig=0.1*dlref\n",
    "        #print(zref,dlref)\n",
    "        line=[str(numevent)+'\\t',str(dlref)+'\\t',str(DS_theta)+'\\t',str(DS_phi)+'\\t',str(zref)+'\\t',\n",
    "             str(dlsig)+'\\t',str(sigma_phi)+'\\n']\n",
    "\n",
    "        for i in ipix_disc:\n",
    "            theta,phi=hp.pix2ang(nside,i, nest=True)\n",
    "            theta_arr[i]=theta\n",
    "            phi_arr[i]=phi\n",
    "            gaussmap[i]=sphere_uncorr_gauss(theta,phi,DS_theta,DS_phi,sigma_theta,sigma_phi)*hp.nside2pixarea(nside,degrees=False)\n",
    "            #gaussmap[i]=np.float128(Mises_Fisher(theta,phi,DS_theta,DS_phi,conc))*np.float128(hp.nside2pixarea(nside,degrees=False))\n",
    "            mod_mu[i]=dlref#uncorr_gauss(theta,phi)\n",
    "            mod_sigma[i]=dlsig\n",
    "            mod_postnorm[i]=1#/(mygaussint(mod_mu[i],mod_sigma[i]))\n",
    "        gaussmap[ipix_disc]=gaussmap[ipix_disc]/np.sum(gaussmap)\n",
    "        #mod_postnorm[ipix_disc]=mod_postnorm[ipix_disc]/(len(ipix_disc))\n",
    "        #mod_postnorm[ipix_disc]=1/len(ipix_disc)#gaussmap[ipix_disc]\n",
    "        \n",
    "        gauss64=np.float64(gaussmap)\n",
    "        dat=Table([gauss64,mod_mu,mod_sigma,mod_postnorm],\n",
    "              names=('PROB','DISTMU','DISTSIGMA','DISTNORM'))\n",
    "        fits.write_sky_map(fname,dat, nest=True)\n",
    "        with open(name,'a') as f:\n",
    "            f.writelines(line)"
   ]
  },
  {
   "cell_type": "markdown",
   "id": "c35a08b8",
   "metadata": {},
   "source": [
    "# Generation by extraction from a Galaxy Catalogue"
   ]
  },
  {
   "cell_type": "code",
   "execution_count": null,
   "id": "79517bf0",
   "metadata": {},
   "outputs": [],
   "source": [
    "#----------------Load the catalogue---------------------\n",
    "cat_data_path='/home/rciancarella/DarkSirensStat/data/GLADE/'\n",
    "os.chdir(cat_data_path)\n",
    "galcat = pd.read_csv('uniform_comoving_autoconsistent.txt', sep=\" \", header=None)\n",
    "colnames=['numevent','GWGC_name','HyperLEDA_name','2MASS_XSC_name','SDSS-DR12Q_name','type_flag','right_ascension_degrees',\n",
    "          'declination_degrees','dl','err_lum_dist','z','app_B_mag','err_app_B_mag','abs_B_mag','app_J_mag',\n",
    "          'err_app_J_mag','app_H_mag','err_app_H_mag','app_K_mag','err_app_K_mag','lum_dist_flag','pec_vel_correction'\n",
    "          ]\n",
    "galcat.columns=colnames\n",
    "GW_data_path='/home/rciancarella/DarkSirensStat/data/GW/O3/'\n",
    "os.chdir(GW_data_path)\n"
   ]
  },
  {
   "cell_type": "code",
   "execution_count": null,
   "id": "018a56f1",
   "metadata": {},
   "outputs": [],
   "source": [
    "galcat['declination_degrees'].max()"
   ]
  },
  {
   "cell_type": "code",
   "execution_count": null,
   "id": "80f301f1",
   "metadata": {},
   "outputs": [],
   "source": [
    "#----------------------select random hosts ----------------------------------\n",
    "zmin=1.25\n",
    "zmax=1.3\n",
    "Numb_of_DS=300\n",
    "datasheet='GW97xxxx'\n",
    "mapnum=970000\n",
    "source=galcat[galcat['z']>=zmin]\n",
    "source=source[source['z']<=zmax]\n",
    "nside=256#1024\n",
    "npix=hp.nside2npix(nside)\n",
    "#Best would be to remove the selected one, make them host and then add those again, \n",
    "#since we are converting coordinates\n",
    "#pd.concat([df1, df2, df2]).drop_duplicates(keep=False)\n",
    "\n",
    "DS_z=np.asarray(source['z'])\n",
    "DS_dl=np.asarray(source['dl'])\n",
    "DS_RA=np.asarray(source['right_ascension_degrees'])\n",
    "DS_DEC=np.asarray(source['declination_degrees'])\n",
    "\n",
    "phi_gals=np.deg2rad(DS_RA)\n",
    "theta_gals = (0.5 * np.pi - np.deg2rad(DS_DEC))\n",
    "#ra_gals=ra = np.rad2deg(phi_gals)\n",
    "#dec_gals = np.rad2deg(0.5 * np.pi - theta_gals)\n",
    "\n",
    "#checkRA=DS_RA-ra_gals\n",
    "#chackDEC=DS_DEC-dec_gals\n",
    "#print(checkRA)\n",
    "#print(chackDEC)\n",
    "fisher=0\n",
    "if fisher==1:\n",
    "    radius_deg= np.sqrt(10/np.pi)\n",
    "    sigma90=radius_deg/np.sqrt(2)\n",
    "    sigma_deg=sigma90/1.5\n",
    "    circle_deg=6*sigma_deg\n",
    "    sigma_theta=np.radians(sigma_deg)\n",
    "    sigma_phi=np.radians(sigma_deg)\n",
    "    conc=1/(sigma_phi**2)\n",
    "    #conc=50\n",
    "    print('Fisher concentration Parameter k={}'.format(conc))\n",
    "    radius_rad=np.radians(circle_deg)\n",
    "else:\n",
    "    radius_deg= np.sqrt(10/np.pi)\n",
    "    sigma90=radius_deg/np.sqrt(2)\n",
    "    sigma_deg=sigma90/1.5\n",
    "    circle_deg=6*sigma_deg\n",
    "    sigma_theta=np.radians(sigma_deg)\n",
    "    sigma_phi=np.radians(sigma_deg)\n",
    "    radius_rad=np.radians(circle_deg)\n",
    "\n",
    "\n",
    "theta_min=np.min(theta_gals)\n",
    "theta_max=np.max(theta_gals)\n",
    "phi_min=np.min(phi_gals)\n",
    "phi_max=np.max(phi_gals)\n",
    "\n",
    "truethetamin=theta_min+10*sigma_theta\n",
    "truethetamax=theta_max-10*sigma_theta\n",
    "truephimin=phi_min+10*sigma_phi\n",
    "truephimax=phi_max-10*sigma_phi\n",
    "\n",
    "trueRA_min=np.rad2deg(truephimin)\n",
    "trueRA_max=np.rad2deg(truephimax)\n",
    "trueDECmin=np.rad2deg(-truethetamax+0.5*np.pi)\n",
    "trueDECmax=np.rad2deg(-truethetamin+0.5*np.pi)\n",
    "\n",
    "source=source[source['right_ascension_degrees']>=trueRA_min]\n",
    "source=source[source['right_ascension_degrees']<=trueRA_max]\n",
    "source=source[source['declination_degrees']>=trueDECmin]\n",
    "source=source[source['declination_degrees']<=trueDECmax]\n",
    "\n",
    "cutted=source.sample(Numb_of_DS)\n",
    "\n",
    "DS_z=np.asarray(cutted['z'])\n",
    "DS_dl=np.asarray(cutted['dl'])\n",
    "DS_RA=np.asarray(cutted['right_ascension_degrees'])\n",
    "DS_DEC=np.asarray(cutted['declination_degrees'])\n",
    "\n",
    "phi_gals=np.deg2rad(DS_RA)\n",
    "theta_gals = (0.5 * np.pi - np.deg2rad(DS_DEC))\n",
    "\n",
    "\n",
    "#print(trueDECmin,trueDECmax,trueRA_min,trueRA_max)\n",
    "\n",
    "#-------------------DATASHEET--------------------------------------\n",
    "write=1\n",
    "if write==1:\n",
    "    name=datasheet+'_datasheet.txt'\n",
    "    file= open(name,'w')\n",
    "    my_header=['name\\t','dl\\t','theta\\t','phi\\t','z\\t','deltadl\\t','sigma_phi\\n']\n",
    "    file.writelines(my_header)\n",
    "    file.close()\n",
    "#print(nside,npix) "
   ]
  },
  {
   "cell_type": "code",
   "execution_count": null,
   "id": "604796aa",
   "metadata": {},
   "outputs": [],
   "source": [
    "#--------------------Maps Generations-------------------------------\n",
    "'''Use this when phi and theta both changes'''\n",
    "for i in tqdm(range(Numb_of_DS)):\n",
    "    numevent=int(mapnum)+i\n",
    "    fname='GW'+str(numevent)+'_PublicationSamples.fits'\n",
    "    zref=DS_z[i]\n",
    "    DS_phi=phi_gals[i]\n",
    "    DS_theta=theta_gals[i]\n",
    "    vec = hp.ang2vec(DS_theta, DS_phi)\n",
    "    ipix_disc = hp.query_disc(nside=nside, vec=vec, radius=radius_rad, nest=True)\n",
    "    #print(DS_theta,DS_phi)\n",
    "    if fisher==1:\n",
    "        gaussmap =np.zeros(npix,dtype=np.float128)\n",
    "    else:\n",
    "        gaussmap =np.zeros(npix)\n",
    "     #-------------inizialising some arrays------------   \n",
    "    mod_mu=np.zeros(len(gaussmap))\n",
    "    mod_sigma=np.zeros(len(gaussmap))\n",
    "    mod_postnorm=np.zeros(len(gaussmap))\n",
    "    theta_arr=np.zeros(len(gaussmap))\n",
    "    phi_arr=np.zeros(len(gaussmap))\n",
    "    gauss64 =np.zeros(len(gaussmap),dtype=np.float128)\n",
    "\n",
    "    dlref=DS_dl[i]#cosmoflag.luminosity_distance(zref).value\n",
    "    dlsig=0.1*dlref\n",
    "    #print(zref,dlref)\n",
    "    line=[str(numevent)+'\\t',str(dlref)+'\\t',str(DS_theta)+'\\t',str(DS_phi)+'\\t',str(zref)+'\\t',\n",
    "         str(dlsig)+'\\t',str(sigma_phi)+'\\n']\n",
    "\n",
    "    for i in ipix_disc:\n",
    "        theta,phi=hp.pix2ang(nside,i, nest=True)\n",
    "        theta_arr[i]=theta\n",
    "        phi_arr[i]=phi\n",
    "        #gaussmap[i]=1#hp.nside2pixarea(nside,degrees=True)\n",
    "        gaussmap[i]=sphere_uncorr_gauss(theta,phi,DS_theta,DS_phi,sigma_theta,sigma_phi)*hp.nside2pixarea(nside,degrees=True)\n",
    "        #gaussmap[i]=np.float128(Mises_Fisher(theta,phi,DS_theta,DS_phi,conc))*np.float128(hp.nside2pixarea(nside,degrees=False))\n",
    "        mod_mu[i]=dlref\n",
    "        mod_sigma[i]=dlsig\n",
    "        mod_postnorm[i]=1#N_i(dlref,dlsig)\n",
    "    gaussmap[ipix_disc]=gaussmap[ipix_disc]/np.sum(gaussmap)\n",
    "    #mod_postnorm[ipix_disc]=mod_postnorm[ipix_disc]/(len(ipix_disc))\n",
    "    #mod_postnorm[ipix_disc]=1/len(ipix_disc)#gaussmap[ipix_disc]\n",
    "\n",
    "    gauss64=np.float64(gaussmap)\n",
    "    dat=Table([gauss64,mod_mu,mod_sigma,mod_postnorm],\n",
    "          names=('PROB','DISTMU','DISTSIGMA','DISTNORM'))\n",
    "    if write==1:\n",
    "        fits.write_sky_map(fname,dat, nest=True)\n",
    "        with open(name,'a') as f:\n",
    "            f.writelines(line)\n",
    "    #print(nside,npix)"
   ]
  },
  {
   "cell_type": "code",
   "execution_count": null,
   "id": "f73ad632",
   "metadata": {},
   "outputs": [],
   "source": [
    "nside=256\n",
    "print(\n",
    "    \"Approximate resolution at NSIDE {} is {:.2} deg\".format(\n",
    "        nside, hp.nside2resol(nside, arcmin=True) / 60\n",
    "    )\n",
    ")\n",
    "print(sigma_deg,10*sigma_deg)"
   ]
  },
  {
   "cell_type": "markdown",
   "id": "dfdd2646",
   "metadata": {},
   "source": [
    "# Read Maps, Change sigma and/or Gauss displace\n",
    "Those changes will not appear in the datasheet, so attention"
   ]
  },
  {
   "cell_type": "code",
   "execution_count": 26,
   "id": "14f638ad",
   "metadata": {},
   "outputs": [
    {
     "name": "stdout",
     "output_type": "stream",
     "text": [
      "100\n",
      "['GW330024_PublicationSamples.fits', 'GW330031_PublicationSamples.fits', 'GW330053_PublicationSamples.fits', 'GW330011_PublicationSamples.fits', 'GW330009_PublicationSamples.fits', 'GW330037_PublicationSamples.fits', 'GW330032_PublicationSamples.fits', 'GW330008_PublicationSamples.fits', 'GW330085_PublicationSamples.fits', 'GW330094_PublicationSamples.fits', 'GW330047_PublicationSamples.fits', 'GW330081_PublicationSamples.fits', 'GW330042_PublicationSamples.fits', 'GW330092_PublicationSamples.fits', 'GW330036_PublicationSamples.fits', 'GW330016_PublicationSamples.fits', 'GW330075_PublicationSamples.fits', 'GW330084_PublicationSamples.fits', 'GW330052_PublicationSamples.fits', 'GW330058_PublicationSamples.fits', 'GW330048_PublicationSamples.fits', 'GW330039_PublicationSamples.fits', 'GW330059_PublicationSamples.fits', 'GW330023_PublicationSamples.fits', 'GW330019_PublicationSamples.fits', 'GW330004_PublicationSamples.fits', 'GW330071_PublicationSamples.fits', 'GW330096_PublicationSamples.fits', 'GW330050_PublicationSamples.fits', 'GW330088_PublicationSamples.fits', 'GW330093_PublicationSamples.fits', 'GW330089_PublicationSamples.fits', 'GW330070_PublicationSamples.fits', 'GW330001_PublicationSamples.fits', 'GW330086_PublicationSamples.fits', 'GW330030_PublicationSamples.fits', 'GW330061_PublicationSamples.fits', 'GW330028_PublicationSamples.fits', 'GW330082_PublicationSamples.fits', 'GW330034_PublicationSamples.fits', 'GW330007_PublicationSamples.fits', 'GW330065_PublicationSamples.fits', 'GW330055_PublicationSamples.fits', 'GW330062_PublicationSamples.fits', 'GW330078_PublicationSamples.fits', 'GW330043_PublicationSamples.fits', 'GW330041_PublicationSamples.fits', 'GW330010_PublicationSamples.fits', 'GW330021_PublicationSamples.fits', 'GW330099_PublicationSamples.fits', 'GW330080_PublicationSamples.fits', 'GW330044_PublicationSamples.fits', 'GW330057_PublicationSamples.fits', 'GW330003_PublicationSamples.fits', 'GW330017_PublicationSamples.fits', 'GW330015_PublicationSamples.fits', 'GW330027_PublicationSamples.fits', 'GW330079_PublicationSamples.fits', 'GW330012_PublicationSamples.fits', 'GW330064_PublicationSamples.fits', 'GW330002_PublicationSamples.fits', 'GW330056_PublicationSamples.fits', 'GW330068_PublicationSamples.fits', 'GW330076_PublicationSamples.fits', 'GW330087_PublicationSamples.fits', 'GW330000_PublicationSamples.fits', 'GW330060_PublicationSamples.fits', 'GW330074_PublicationSamples.fits', 'GW330013_PublicationSamples.fits', 'GW330022_PublicationSamples.fits', 'GW330066_PublicationSamples.fits', 'GW330026_PublicationSamples.fits', 'GW330054_PublicationSamples.fits', 'GW330006_PublicationSamples.fits', 'GW330072_PublicationSamples.fits', 'GW330045_PublicationSamples.fits', 'GW330095_PublicationSamples.fits', 'GW330063_PublicationSamples.fits', 'GW330049_PublicationSamples.fits', 'GW330029_PublicationSamples.fits', 'GW330091_PublicationSamples.fits', 'GW330035_PublicationSamples.fits', 'GW330098_PublicationSamples.fits', 'GW330046_PublicationSamples.fits', 'GW330020_PublicationSamples.fits', 'GW330077_PublicationSamples.fits', 'GW330069_PublicationSamples.fits', 'GW330038_PublicationSamples.fits', 'GW330033_PublicationSamples.fits', 'GW330014_PublicationSamples.fits', 'GW330051_PublicationSamples.fits', 'GW330073_PublicationSamples.fits', 'GW330067_PublicationSamples.fits', 'GW330025_PublicationSamples.fits', 'GW330005_PublicationSamples.fits', 'GW330018_PublicationSamples.fits', 'GW330083_PublicationSamples.fits', 'GW330090_PublicationSamples.fits', 'GW330097_PublicationSamples.fits', 'GW330040_PublicationSamples.fits']\n"
     ]
    }
   ],
   "source": [
    "GW_data_path='/home/rciancarella/DarkSirensStat/data/GW/O3/'\n",
    "os.chdir(GW_data_path)\n",
    "all_files=os.listdir()\n",
    "GWs=[]\n",
    "for i in range(len(all_files)):\n",
    "    if 'GW3300' in all_files[i]:\n",
    "        GWs.append(all_files[i])\n",
    "GWs=list(dict.fromkeys(GWs))\n",
    "del (all_files)\n",
    "print(len(GWs))\n",
    "print(GWs)"
   ]
  },
  {
   "cell_type": "code",
   "execution_count": 31,
   "id": "b27be94e",
   "metadata": {},
   "outputs": [],
   "source": [
    "skymap, metadata = fits.read_sky_map(GWs[56], nest=None, distances=True)\n",
    "p_posterior= skymap[0]\n",
    "mu= skymap[1]\n",
    "sigma = skymap[2]\n",
    "posteriorNorm= skymap[3]        \n",
    "npix = len(p_posterior)\n",
    "nside=hp.npix2nside(npix)\n"
   ]
  },
  {
   "cell_type": "code",
   "execution_count": 28,
   "id": "cbceebbd",
   "metadata": {},
   "outputs": [
    {
     "data": {
      "image/png": "[encoded data removed]",
      "text/plain": [
       "<Figure size 612x388.8 with 2 Axes>"
      ]
     },
     "metadata": {
      "needs_background": "light"
     },
     "output_type": "display_data"
    }
   ],
   "source": [
    "hp.mollview(p_posterior, title=GWs[98],nest=True)"
   ]
  },
  {
   "cell_type": "code",
   "execution_count": 32,
   "id": "0f8517de",
   "metadata": {},
   "outputs": [
    {
     "name": "stdout",
     "output_type": "stream",
     "text": [
      "Ligo area_deg 99% is 20.405326749196494\n",
      "Ligo area_deg 90% is 10.228891301011096 \n",
      "256\n"
     ]
    },
    {
     "data": {
      "image/png": "[encoded data removed]",
      "text/plain": [
       "<Figure size 612x388.8 with 2 Axes>"
      ]
     },
     "metadata": {
      "needs_background": "light"
     },
     "output_type": "display_data"
    }
   ],
   "source": [
    "hp.mollview(p_posterior, title=GWs[56],nest=True)\n",
    "credible_levels = find_greedy_credible_levels(p_posterior)\n",
    "Ligo_Area_99_deg=np.sum(credible_levels <= 0.99) * hp.nside2pixarea(nside, degrees=True)\n",
    "Ligo_Area_90_deg=np.sum(credible_levels <= 0.9) * hp.nside2pixarea(nside, degrees=True)\n",
    "print('Ligo area_deg 99% is {}\\nLigo area_deg 90% is {} '.format(Ligo_Area_99_deg,Ligo_Area_90_deg))\n",
    "print(nside)"
   ]
  },
  {
   "cell_type": "code",
   "execution_count": 30,
   "id": "64bbb37d",
   "metadata": {},
   "outputs": [
    {
     "name": "stdout",
     "output_type": "stream",
     "text": [
      "GW location: theta=1.1121794481956586, phi=0.32213596545598466, RA=18.45703125, DEC=26.27681155719998\n",
      "average luminosity distance=8956.669910354267 Mpc\n",
      "average luminosity distance Sigma=891.5533441876415 Mpc\n",
      "average posteriorNorm=1.0\n",
      "redshift=1.2469678532257413, in flagship cosmology\n",
      "comoving distance=3986.113952407505\n"
     ]
    }
   ],
   "source": [
    "my_theta,my_phi=find_theta_phi(nside,np.argmax(p_posterior))\n",
    "my_ra, my_dec=find_ra_dec(nside,np.argmax(p_posterior))\n",
    "print('GW location: theta={}, phi={}, RA={}, DEC={}'.format(my_theta,my_phi,my_ra,my_dec))\n",
    "mu_avr=np.average(mu,weights=p_posterior)\n",
    "print('average luminosity distance={} Mpc'.format(mu_avr))\n",
    "sig_avr=np.average(sigma,weights=p_posterior)\n",
    "print('average luminosity distance Sigma={} Mpc'.format(sig_avr))\n",
    "Norm_avr=np.average(posteriorNorm,weights=p_posterior)\n",
    "print('average posteriorNorm={}'.format(Norm_avr))\n",
    "z_gw=z_from_dL(mu_avr)\n",
    "print('redshift={}, in flagship cosmology'.format(z_gw))\n",
    "comov=mu_avr/(1+z_gw)\n",
    "print('comoving distance={}'.format(comov))"
   ]
  },
  {
   "cell_type": "code",
   "execution_count": null,
   "id": "445b5205",
   "metadata": {},
   "outputs": [],
   "source": [
    "_read_O3(GWs[0])"
   ]
  },
  {
   "cell_type": "code",
   "execution_count": null,
   "id": "4cb8b501",
   "metadata": {},
   "outputs": [],
   "source": [
    "phi_gals[14]"
   ]
  },
  {
   "cell_type": "raw",
   "id": "d07161c9",
   "metadata": {},
   "source": []
  },
  {
   "cell_type": "code",
   "execution_count": null,
   "id": "7d0c22a8",
   "metadata": {},
   "outputs": [],
   "source": [
    "for fname in tqdm(GWs):\n",
    "    #print(fname)\n",
    "    skymap, metadata = fits.read_sky_map(fname, nest=None, distances=True)\n",
    "    p_posterior= skymap[0]\n",
    "    mu= skymap[1]\n",
    "    sigma = skymap[2]\n",
    "    posteriorNorm= skymap[3]        \n",
    "    npix = len(p_posterior)\n",
    "    nside=hp.npix2nside(npix)\n",
    "    #alldl.append(mu[np.argmax(p_posterior)])\n",
    "    #print('Dl={}'.format(mu[np.argmax(p_posterior)]))\n",
    "    sigma=mu*0.1\n",
    "    #sig=np.average(sigma,weights=p_posterior)\n",
    "    #dl=np.average(mu,weights=p_posterior)\n",
    "    #newdl=np.random.normal(dl,sig)\n",
    "    #scale=newdl/dl\n",
    "    #new_mu=scale*mu\n",
    "    #new_sigma=new_mu*0.1\n",
    "    #sig_avr=np.average(sigma,weights=p_posterior)\n",
    "    #print('average luminosity distance Sigma={} Mpc'.format(sig_avr))\n",
    "    dat=Table([p_posterior,mu,sigma,posteriorNorm],\n",
    "             names=('PROB','DISTMU','DISTSIGMA','DISTNORM'))\n",
    "    fits.write_sky_map(fname,dat, nest=True)"
   ]
  },
  {
   "cell_type": "code",
   "execution_count": null,
   "id": "cd252962",
   "metadata": {},
   "outputs": [],
   "source": [
    "print(sigma[sigma>0])\n",
    "np.shape(sigma)\n",
    "print(len(p_posterior),len(sigma))\n",
    "\n"
   ]
  },
  {
   "cell_type": "markdown",
   "id": "8ff35644",
   "metadata": {},
   "source": [
    "# List Creator to config.py"
   ]
  },
  {
   "cell_type": "code",
   "execution_count": null,
   "id": "4506fbed",
   "metadata": {},
   "outputs": [],
   "source": [
    "names=[]\n",
    "\n",
    "for i in range(306):\n",
    "    numevent=int(990000)+i\n",
    "    fname=\"'\"+'GW'+str(numevent)+\"'\"\n",
    "    names.append(fname)\n",
    "    if (i % 38== 0)&(i>0):\n",
    "        to_print=','.join(names)\n",
    "        print('{}'.format(to_print))\n",
    "        names=[]"
   ]
  },
  {
   "cell_type": "code",
   "execution_count": null,
   "id": "5be13418",
   "metadata": {},
   "outputs": [],
   "source": [
    "names=[]\n",
    "\n",
    "for i in range():\n",
    "    numevent=int(970000)+i\n",
    "    fname=\"'\"+'GW'+str(numevent)+\"'\"\n",
    "    names.append(fname)\n",
    "    to_print=','.join(names)\n",
    "print('{}'.format(to_print))"
   ]
  },
  {
   "cell_type": "code",
   "execution_count": null,
   "id": "48de3a58",
   "metadata": {},
   "outputs": [],
   "source": [
    "names=[]\n",
    "\n",
    "for i in range(50):\n",
    "    numevent=int(37)+i\n",
    "    fname=\"'\"+'GW'+str(numevent)+'0'+\"'\"\n",
    "    names.append(fname)\n",
    "    to_print=','.join(names)\n",
    "print('{}'.format(to_print))"
   ]
  },
  {
   "cell_type": "markdown",
   "id": "5e1fcc19",
   "metadata": {},
   "source": [
    "# Reset\n",
    "those lines are used to reset the maps to the Datasheet state"
   ]
  },
  {
   "cell_type": "code",
   "execution_count": null,
   "id": "3c3d584c",
   "metadata": {},
   "outputs": [],
   "source": [
    "GW_data_path='/home/rciancarella/DarkSirensStat/data/GW/O3/'\n",
    "os.chdir(GW_data_path)"
   ]
  },
  {
   "cell_type": "code",
   "execution_count": null,
   "id": "22e33d2a",
   "metadata": {},
   "outputs": [],
   "source": [
    "#-------------------DATASHEET--------------------------------------\n",
    "name='GW31xxxx_datasheet.txt'\n",
    "#file= open(name,'w')\n",
    "#my_header=['name\\t','dl\\t','theta\\t','phi\\t','z\\t','deltadl\\t','sigma_phi\\n']\n",
    "#file.writelines(my_header)\n",
    "#file.close()\n",
    "with open(name,'r') as f:\n",
    "    next(f)\n",
    "    lines=f.readlines()\n",
    "    GWs_dl=[]\n",
    "    GWs_theta=[]\n",
    "    GWs_phi=[]\n",
    "    GWs_z=[]\n",
    "    GWs_deltadl=[]\n",
    "    for x in lines:\n",
    "        GWs_dl.append(float(x.split('\\t')[1]))\n",
    "        GWs_theta.append(float(x.split('\\t')[2]))\n",
    "        GWs_phi.append(float(x.split('\\t')[3]))\n",
    "        GWs_z.append(float(x.split('\\t')[4]))\n",
    "        GWs_deltadl.append(float(x.split('\\t')[5]))\n",
    "    #for i in range(len(GW_z)):\n",
    "\n",
    "GWs_dl=np.asarray(GWs_dl)\n",
    "GWs_theta=np.asarray(GWs_theta)\n",
    "GWs_phi=np.asarray(GWs_phi)\n",
    "GWs_z=np.asarray(GWs_z)\n",
    "GWs_deltadl=np.asarray(GWs_deltadl)"
   ]
  },
  {
   "cell_type": "code",
   "execution_count": null,
   "id": "60744b5d",
   "metadata": {},
   "outputs": [],
   "source": [
    "for i in tqdm(range(len(GWs_dl))):\n",
    "    numevent=int(310000)+i\n",
    "    fname='GW'+str(numevent)+'_PublicationSamples.fits'\n",
    "    zref=GWs_z[i]\n",
    "    DS_phi=GWs_phi[i]\n",
    "    DS_theta=GWs_theta[i]\n",
    "    vec = hp.ang2vec(DS_theta, DS_phi)\n",
    "    ipix_disc = hp.query_disc(nside=nside, vec=vec, radius=radius_rad, nest=True)\n",
    "    #print(DS_theta,DS_phi)\n",
    "    if fisher==1:\n",
    "        gaussmap =np.zeros(len(p_posterior),dtype=np.float128)\n",
    "    else:\n",
    "        gaussmap =np.zeros(len(p_posterior))\n",
    "     #-------------inizialising some arrays------------   \n",
    "    mod_mu=np.zeros(len(p_posterior))\n",
    "    mod_sigma=np.zeros(len(p_posterior))\n",
    "    mod_postnorm=np.zeros(len(p_posterior))\n",
    "    theta_arr=np.zeros(len(p_posterior))\n",
    "    phi_arr=np.zeros(len(p_posterior))\n",
    "    gauss64 =np.zeros(len(p_posterior),dtype=np.float128)\n",
    "\n",
    "    dlref=GWs_dl[i]#cosmoflag.luminosity_distance(zref).value\n",
    "    dlsig=0.01*dlref\n",
    "    #print(zref,dlref)\n",
    "    #line=[str(numevent)+'\\t',str(dlref)+'\\t',str(DS_theta)+'\\t',str(DS_phi)+'\\t',str(zref)+'\\t',\n",
    "    #     str(dlsig)+'\\t',str(sigma_phi)+'\\n']\n",
    "\n",
    "    for i in ipix_disc:\n",
    "        theta,phi=hp.pix2ang(nside,i, nest=True)\n",
    "        theta_arr[i]=theta\n",
    "        phi_arr[i]=phi\n",
    "        #gaussmap[i]=sphere_uncorr_gauss(theta,phi,DS_theta,DS_phi,sigma_theta,sigma_phi)*hp.nside2pixarea(nside,degrees=True)\n",
    "        gaussmap[i]=np.float128(Mises_Fisher(theta,phi,DS_theta,DS_phi,conc))*np.float128(hp.nside2pixarea(nside,degrees=False))\n",
    "        mod_mu[i]=dlref#uncorr_gauss(theta,phi)\n",
    "        mod_sigma[i]=dlsig\n",
    "        mod_postnorm[i]=1#/(mygaussint(mod_mu[i],mod_sigma[i]))\n",
    "    gaussmap[ipix_disc]=gaussmap[ipix_disc]/np.sum(gaussmap)\n",
    "    #mod_postnorm[ipix_disc]=mod_postnorm[ipix_disc]/(len(ipix_disc))\n",
    "    #mod_postnorm[ipix_disc]=1/len(ipix_disc)#gaussmap[ipix_disc]\n",
    "\n",
    "    gauss64=np.float64(gaussmap)\n",
    "    dat=Table([gauss64,mod_mu,mod_sigma,mod_postnorm],\n",
    "          names=('PROB','DISTMU','DISTSIGMA','DISTNORM'))\n",
    "    fits.write_sky_map(fname,dat, nest=True)\n",
    "    #with open(name,'a') as f:\n",
    "    #    f.writelines(line)"
   ]
  },
  {
   "cell_type": "code",
   "execution_count": null,
   "id": "d907959b",
   "metadata": {},
   "outputs": [],
   "source": [
    "fisher=1\n",
    "if fisher==1:\n",
    "    radius_deg= np.sqrt(10/np.pi)\n",
    "    sigma90=radius_deg/np.sqrt(2)\n",
    "    sigma_deg=sigma90/1.5\n",
    "    circle_deg=6*sigma_deg\n",
    "    sigma_theta=np.radians(sigma_deg)\n",
    "    sigma_phi=np.radians(sigma_deg)\n",
    "    conc=1/(sigma_phi**2)\n",
    "    print('Fisher concentration Parameter k={}'.format(conc))\n",
    "    radius_rad=np.radians(circle_deg)\n",
    "else:\n",
    "    radius_deg= np.sqrt(10/np.pi)\n",
    "    sigma90=radius_deg/np.sqrt(2)\n",
    "    sigma_deg=sigma90/1.5\n",
    "    circle_deg=6*sigma_deg\n",
    "    sigma_theta=np.radians(sigma_deg)\n",
    "    sigma_phi=np.radians(sigma_deg)\n",
    "    radius_rad=np.radians(circle_deg)\n",
    "\n",
    "phi_min=0.0001\n",
    "phi_max=1.5707961320877075\n",
    "theta_min=0.0001976218846182377\n",
    "theta_max=1.570796275052059\n",
    "phi_start=phi_min+5*sigma_phi\n",
    "phi_stop=phi_max-5*sigma_phi\n",
    "step =5* sigma_phi\n",
    "N=np.floor((phi_stop-phi_start)/step)\n",
    "N=int(N)\n",
    "#----------------------uniform in comoving DS-----------------------------\n",
    "zlen=10\n",
    "allredshift=np.zeros(zlen)\n",
    "my_zmin=1.1\n",
    "my_zmax=1.3\n",
    "my_dcom_min=cosmoflag.comoving_distance(my_zmin).value\n",
    "my_dcom_max=cosmoflag.comoving_distance(my_zmax).value\n",
    "alldcom=np.linspace(my_dcom_min,my_dcom_max,zlen)\n",
    "for i in range(zlen):\n",
    "    allredshift[i]=z_from_dcom(alldcom[i])\n",
    "#-------------------------------------------------------------------------\n",
    "print('Sigma_theta={}, Sigma_phi={}'.format(sigma_theta,sigma_phi))\n",
    "print('Sigma_theta={}°, Sigma_phi={}°'.format(np.rad2deg(sigma_theta)\n",
    "                                              ,np.rad2deg(sigma_phi)))\n",
    "print(step, N)\n",
    "allphi=np.arange(0,N)*step+phi_start\n",
    "\n",
    "\n",
    "truethetamin=theta_min+6*sigma_theta\n",
    "truethetamax=theta_max-6*sigma_theta\n",
    "M=np.floor((truethetamax-truethetamin)/step)\n",
    "M=int(M)\n",
    "alltheta=np.arange(0,M)*step+truethetamin\n"
   ]
  },
  {
   "cell_type": "code",
   "execution_count": null,
   "id": "53662ceb",
   "metadata": {},
   "outputs": [],
   "source": [
    "allredshift=np.linspace(1.1,1.3,10)\n",
    "fisher=1\n",
    "if fisher==1:\n",
    "    radius_deg= np.sqrt(1000/np.pi)\n",
    "    sigma90=radius_deg/np.sqrt(2)\n",
    "    sigma_deg=sigma90/1.5\n",
    "    circle_deg=6*sigma_deg\n",
    "    sigma_theta=np.radians(sigma_deg)\n",
    "    sigma_phi=np.radians(sigma_deg)\n",
    "    conc=1/(sigma_phi**2)\n",
    "    #conc=100\n",
    "    #sigma_phi=np.sqrt(1/conc)\n",
    "    #sigma_theta=sigma_phi\n",
    "    radius_rad=np.radians(circle_deg)\n",
    "for k in tqdm(range(1)):\n",
    "    numevent=int(220000)+k\n",
    "    fname='GW'+str(numevent)+'_PublicationSamples.fits'\n",
    "    zref=allredshift[k]\n",
    "    #print(zref)\n",
    "    DS_phi=np.pi/4\n",
    "    DS_theta=np.pi/4\n",
    "    vec = hp.ang2vec(DS_theta, DS_phi)\n",
    "    ipix_disc = hp.query_disc(nside=nside, vec=vec, radius=radius_rad, nest=True)\n",
    "    #print(DS_theta,DS_phi)\n",
    "    gaussmap =np.zeros(len(p_posterior),dtype=np.float128)\n",
    "    mod_mu=np.zeros(len(p_posterior))\n",
    "    mod_sigma=np.zeros(len(p_posterior))\n",
    "    mod_postnorm=np.zeros(len(p_posterior))\n",
    "    theta_arr=np.zeros(len(p_posterior))\n",
    "    phi_arr=np.zeros(len(p_posterior))\n",
    "\n",
    "    dlref=cosmoflag.luminosity_distance(zref).value\n",
    "    dlsig=0.01*dlref\n",
    "    line=[str(numevent)+'\\t',str(dlref)+'\\t',str(DS_theta)+'\\t',str(DS_phi)+'\\t',str(zref)+'\\t',\n",
    "         str(dlsig)+'\\n']\n",
    "    \n",
    "    for i in ipix_disc:\n",
    "        theta,phi=hp.pix2ang(nside,i, nest=True)\n",
    "        theta_arr[i]=theta\n",
    "        phi_arr[i]=phi\n",
    "        #gaussmap[i]=uncorr_gauss(theta,phi,DS_theta,DS_phi,sigma_theta,sigma_phi)*hp.nside2pixarea(nside,degrees=True)\n",
    "        gaussmap[i]=np.float128(Mises_Fisher(theta,phi,DS_theta,DS_phi,conc))*np.float128(hp.nside2pixarea(nside,degrees=False))\n",
    "        mod_mu[i]=dlref#uncorr_gauss(theta,phi)\n",
    "        mod_sigma[i]=dlsig\n",
    "        #mod_postnorm[i]=1/(mygaussint(mod_mu[i],mod_sigma[i]))\n",
    "    #gaussmap[ipix_disc] = 1/len(ipix_disc)\n",
    "    gaussmap[ipix_disc]=gaussmap[ipix_disc]/np.sum(gaussmap)\n",
    "    #mod_postnorm[ipix_disc]=1/(len(ipix_disc))\n",
    "    mod_postnorm[ipix_disc]=1\n",
    "    gauss64 =np.zeros(len(p_posterior),dtype=np.float128)\n",
    "    gauss64=np.float64(gaussmap)\n",
    "    dat=Table([gauss64,mod_mu,mod_sigma,mod_postnorm],\n",
    "          names=('PROB','DISTMU','DISTSIGMA','DISTNORM'))\n",
    "    #fits.write_sky_map(fname,dat, nest=True)\n",
    "   # with open(name,'a') as f:\n",
    "    #    f.writelines(line)"
   ]
  },
  {
   "cell_type": "code",
   "execution_count": null,
   "id": "6ad81bc5",
   "metadata": {},
   "outputs": [],
   "source": [
    "hp.mollview(gauss64, title=fname,nest=True)"
   ]
  },
  {
   "cell_type": "markdown",
   "id": "f229d700",
   "metadata": {},
   "source": [
    "# Map for Minimal Example"
   ]
  },
  {
   "cell_type": "code",
   "execution_count": null,
   "id": "a9a7c6e0",
   "metadata": {},
   "outputs": [],
   "source": [
    "#----------------Load the catalogue---------------------\n",
    "cat_data_path='/home/rciancarella/DarkSirensStat/data/GLADE/'\n",
    "os.chdir(cat_data_path)\n",
    "galcat = pd.read_csv('genova_uniform_samezasminimal.txt', sep=\" \", header=None)\n",
    "colnames=['numevent','GWGC_name','HyperLEDA_name','2MASS_XSC_name','SDSS-DR12Q_name','type_flag','right_ascension_degrees',\n",
    "          'declination_degrees','dl','err_lum_dist','z','app_B_mag','err_app_B_mag','abs_B_mag','app_J_mag',\n",
    "          'err_app_J_mag','app_H_mag','err_app_H_mag','app_K_mag','err_app_K_mag','lum_dist_flag','pec_vel_correction'\n",
    "          ]\n",
    "galcat.columns=colnames\n",
    "GW_data_path='/home/rciancarella/DarkSirensStat/data/GW/O3/'\n",
    "os.chdir(GW_data_path)"
   ]
  },
  {
   "cell_type": "code",
   "execution_count": null,
   "id": "c57281f9",
   "metadata": {},
   "outputs": [],
   "source": [
    "phi_min=0\n",
    "phi_max=phi_min+5.5*sigma_phi\n",
    "theta_min=0\n",
    "theta_max=theta_min+5.5*sigma_theta#depends on the arccos 0 to 1 is from pi/2 to 0 -1 to 1 is full range\n",
    "DS_phi=(phi_max-phi_min)/2\n",
    "DS_theta=(theta_max-theta_min)/2"
   ]
  },
  {
   "cell_type": "code",
   "execution_count": null,
   "id": "b5542dd9",
   "metadata": {},
   "outputs": [],
   "source": [
    "#----------------------select random hosts ----------------------------------\n",
    "zmin=0.1\n",
    "zmax=0.3\n",
    "#ra_min=np.rad2deg(DS_phi-1*sigma_phi)\n",
    "#ra_max=np.rad2deg(DS_phi+1*sigma_phi)\n",
    "\n",
    "#dec_max=np.rad2deg(0.5 * np.pi - (DS_theta-1*sigma_theta))\n",
    "#dec_min=np.rad2deg(0.5 * np.pi - (DS_theta+1*sigma_theta))\n",
    "\n",
    "Numb_of_DS=2\n",
    "source=galcat[galcat['z']>=zmin]\n",
    "source=source[source['z']<=zmax]\n",
    "#source=source[source['declination_degrees']<=dec_max]\n",
    "#source=source[source['declination_degrees']>=dec_min]\n",
    "#source=source[source['right_ascension_degrees']<=ra_max]\n",
    "#source=source[source['right_ascension_degrees']>=ra_min]\n",
    "\n",
    "source=source.sample(n=Numb_of_DS)\n",
    "\n",
    "\n",
    "#Best would be to remove the selected one, make them host and then add those again, \n",
    "#since we are converting coordinates\n",
    "#pd.concat([df1, df2, df2]).drop_duplicates(keep=False)\n",
    "\n",
    "DS_z=np.asarray(source['z'])\n",
    "DS_dl=np.asarray(source['dl'])\n",
    "DS_RA=np.asarray(source['right_ascension_degrees'])\n",
    "DS_DEC=np.asarray(source['declination_degrees'])\n",
    "\n",
    "phi_gals=np.deg2rad(DS_RA)\n",
    "theta_gals = (0.5 * np.pi - np.deg2rad(DS_DEC))\n",
    "#ra_gals=ra = np.rad2deg(phi_gals)\n",
    "#dec_gals = np.rad2deg(0.5 * np.pi - theta_gals)\n",
    "\n",
    "#checkRA=DS_RA-ra_gals\n",
    "#chackDEC=DS_DEC-dec_gals\n",
    "#print(checkRA)\n",
    "#print(chackDEC)\n",
    "fisher=0\n",
    "if fisher==1:\n",
    "    radius_deg= np.sqrt(10/np.pi)\n",
    "    sigma90=radius_deg/np.sqrt(2)\n",
    "    sigma_deg=sigma90/1.5\n",
    "    circle_deg=6*sigma_deg\n",
    "    sigma_theta=np.radians(sigma_deg)\n",
    "    sigma_phi=np.radians(sigma_deg)\n",
    "    conc=1/(sigma_phi**2)\n",
    "    print('Fisher concentration Parameter k={}'.format(conc))\n",
    "    radius_rad=np.radians(circle_deg)\n",
    "else:\n",
    "    radius_deg= np.sqrt(10/np.pi)\n",
    "    sigma90=radius_deg/np.sqrt(2)\n",
    "    sigma_deg=sigma90/1.5\n",
    "    circle_deg=6*sigma_deg\n",
    "    sigma_theta=np.radians(sigma_deg)\n",
    "    sigma_phi=np.radians(sigma_deg)\n",
    "    radius_rad=np.radians(circle_deg)\n",
    "#-------------------DATASHEET--------------------------------------\n",
    "name='GW98xxxx_datasheet.txt'\n",
    "file= open(name,'w')\n",
    "my_header=['name\\t','dl\\t','theta\\t','phi\\t','z\\t','deltadl\\t','sigma_phi\\n']\n",
    "file.writelines(my_header)\n",
    "file.close()"
   ]
  },
  {
   "cell_type": "code",
   "execution_count": null,
   "id": "acf0fe8a",
   "metadata": {},
   "outputs": [],
   "source": [
    "#--------------------Maps Generations-------------------------------\n",
    "'''Use this when phi and theta both changes'''\n",
    "for i in tqdm(range(Numb_of_DS)):\n",
    "    numevent=int(980000)+i\n",
    "    fname='GW'+str(numevent)+'_PublicationSamples.fits'\n",
    "    zref=DS_z[i]\n",
    "    DS_phi=phi_gals[i]\n",
    "    DS_theta=theta_gals[i]\n",
    "    vec = hp.ang2vec(DS_theta, DS_phi)\n",
    "    ipix_disc = hp.query_disc(nside=nside, vec=vec, radius=radius_rad, nest=True)\n",
    "    #print(DS_theta,DS_phi)\n",
    "    if fisher==1:\n",
    "        gaussmap =np.zeros(len(p_posterior),dtype=np.float128)\n",
    "    else:\n",
    "        gaussmap =np.zeros(len(p_posterior))\n",
    "     #-------------inizialising some arrays------------   \n",
    "    mod_mu=np.zeros(len(p_posterior))\n",
    "    mod_sigma=np.zeros(len(p_posterior))\n",
    "    mod_postnorm=np.zeros(len(p_posterior))\n",
    "    theta_arr=np.zeros(len(p_posterior))\n",
    "    phi_arr=np.zeros(len(p_posterior))\n",
    "    gauss64 =np.zeros(len(p_posterior),dtype=np.float128)\n",
    "\n",
    "    dlref=DS_dl[i]#cosmoflag.luminosity_distance(zref).value\n",
    "    dlsig=0.1*dlref\n",
    "    #print(zref,dlref)\n",
    "    line=[str(numevent)+'\\t',str(dlref)+'\\t',str(DS_theta)+'\\t',str(DS_phi)+'\\t',str(zref)+'\\t',\n",
    "         str(dlsig)+'\\t',str(sigma_phi)+'\\n']\n",
    "\n",
    "    for i in ipix_disc:\n",
    "        theta,phi=hp.pix2ang(nside,i, nest=True)\n",
    "        theta_arr[i]=theta\n",
    "        phi_arr[i]=phi\n",
    "        gaussmap[i]=sphere_uncorr_gauss(theta,phi,DS_theta,DS_phi,sigma_theta,sigma_phi)*hp.nside2pixarea(nside,degrees=True)\n",
    "        #gaussmap[i]=np.float128(Mises_Fisher(theta,phi,DS_theta,DS_phi,conc))*np.float128(hp.nside2pixarea(nside,degrees=False))\n",
    "        mod_mu[i]=dlref#uncorr_gauss(theta,phi)\n",
    "        mod_sigma[i]=dlsig\n",
    "        mod_postnorm[i]=1#/(mygaussint(mod_mu[i],mod_sigma[i]))\n",
    "    gaussmap[ipix_disc]=gaussmap[ipix_disc]/np.sum(gaussmap)\n",
    "    #mod_postnorm[ipix_disc]=mod_postnorm[ipix_disc]/(len(ipix_disc))\n",
    "    #mod_postnorm[ipix_disc]=1/len(ipix_disc)#gaussmap[ipix_disc]\n",
    "\n",
    "    gauss64=np.float64(gaussmap)\n",
    "    dat=Table([gauss64,mod_mu,mod_sigma,mod_postnorm],\n",
    "          names=('PROB','DISTMU','DISTSIGMA','DISTNORM'))\n",
    "    fits.write_sky_map(fname,dat, nest=True)\n",
    "    with open(name,'a') as f:\n",
    "        f.writelines(line)"
   ]
  },
  {
   "cell_type": "markdown",
   "id": "89b0bda2",
   "metadata": {},
   "source": [
    "# Testing the distributions"
   ]
  },
  {
   "cell_type": "code",
   "execution_count": null,
   "id": "999042e9",
   "metadata": {},
   "outputs": [],
   "source": [
    "#GWdata path\n",
    "GW_data_path='/home/rciancarella/DarkSirensStat/data/GW/O3/'\n",
    "os.chdir(GW_data_path)"
   ]
  },
  {
   "cell_type": "code",
   "execution_count": null,
   "id": "fa7fc275",
   "metadata": {},
   "outputs": [],
   "source": [
    "fname ='GW960000_PublicationSamples.fits'\n",
    "alldl=[]\n",
    "allsig=[]\n",
    "print(fname)\n",
    "skymap, metadata = fits.read_sky_map(fname, nest=None, distances=True)\n",
    "p_posterior= skymap[0]\n",
    "mu= skymap[1]\n",
    "sigma = skymap[2]\n",
    "posteriorNorm= skymap[3]        \n",
    "npix = len(p_posterior)\n",
    "print('npix={}'.format(npix))\n",
    "nside=hp.npix2nside(npix)\n",
    "print('nside={}'.format(nside))\n",
    "theta,phi=find_theta_phi(nside,np.argmax(p_posterior))\n",
    "ra, dec=find_ra_dec(nside,np.argmax(p_posterior))\n",
    "print('RA={},dec={},theta={},phi={}'.format(ra,dec,theta,phi))\n",
    "alldl.append(mu[np.argmax(p_posterior)])\n",
    "print('Dl={}'.format(mu[np.argmax(p_posterior)]))\n",
    "sig_avr=np.average(sigma,weights=p_posterior)\n",
    "allsig.append(sig_avr)\n",
    "print('average luminosity distance Sigma={} Mpc'.format(sig_avr))\n",
    "allni=np.average(posteriorNorm,weights=p_posterior)\n",
    "print('average N_i={}'.format(allni))\n",
    "#print(len(p_posterior))\n",
    "#alldl=np.asarray(alldl)\n",
    "#print(np.mean(alldl))"
   ]
  },
  {
   "cell_type": "markdown",
   "id": "81edee70",
   "metadata": {},
   "source": [
    "# Single Map"
   ]
  },
  {
   "cell_type": "code",
   "execution_count": 56,
   "id": "9fa3e73b",
   "metadata": {},
   "outputs": [],
   "source": [
    "@njit\n",
    "def sphere_uncorr_gauss_vec(x_vec,mu_vec,sigy):\n",
    "    #correlation is 0 so is a multiplication of two gaussians\n",
    "    meanvec=mu_vec\n",
    "    norm=np.sqrt(np.sum(meanvec**2))\n",
    "    meanvec=meanvec/norm\n",
    "\n",
    "    var=x_vec\n",
    "    norm=np.sqrt(np.sum(var**2))\n",
    "    var=var/norm\n",
    "    \n",
    "    diff=meanvec-var\n",
    "    diff_len=np.sqrt(np.sum(diff**2))\n",
    "\n",
    "    norm=np.sqrt(1/(2*np.pi*sigy*sigy))**3\n",
    "    factor=((diff_len)/sigy)**2\n",
    "    ret=np.exp(-(1/2)*(factor))/norm\n",
    "\n",
    "    return ret"
   ]
  },
  {
   "cell_type": "code",
   "execution_count": 66,
   "id": "b62bb1eb",
   "metadata": {},
   "outputs": [
    {
     "name": "stderr",
     "output_type": "stream",
     "text": [
      "100%|████████████████████████████████████████████████████████████████| 59741/59741 [00:02<00:00, 23251.55it/s]\n"
     ]
    },
    {
     "name": "stdout",
     "output_type": "stream",
     "text": [
      "Ligo area_deg 99% is 201.6927541148085\n",
      "Ligo area_deg 90% is 100.84637705740425 \n",
      "512\n"
     ]
    },
    {
     "data": {
      "image/png": "[encoded data removed]",
      "text/plain": [
       "<Figure size 612x388.8 with 2 Axes>"
      ]
     },
     "metadata": {
      "needs_background": "light"
     },
     "output_type": "display_data"
    }
   ],
   "source": [
    "radius_deg= np.sqrt(100/np.pi)\n",
    "sigma90=radius_deg/np.sqrt(2)\n",
    "sigma_deg=sigma90/1.511#*(np.sqrt(2)/3)#sigma90/1.511#1.6448536269514\n",
    "circle_deg=6*sigma_deg\n",
    "sigma_theta=np.radians(sigma_deg)\n",
    "sigma_phi=np.radians(sigma_deg)\n",
    "radius_rad=np.radians(circle_deg)\n",
    "\n",
    "nside=512#1024#512\n",
    "npix = hp.nside2npix(nside)\n",
    "DS_phi=np.pi/3\n",
    "DS_theta=np.pi/3\n",
    "vec = hp.ang2vec(DS_theta, DS_phi)\n",
    "ipix_disc = hp.query_disc(nside=nside, vec=vec, radius=radius_rad, nest=True)\n",
    "#print(DS_theta,DS_phi)\n",
    "\n",
    "gaussmap =np.zeros(npix)\n",
    " #-------------inizialising some arrays------------   \n",
    "mod_mu=np.zeros(len(gaussmap))\n",
    "mod_sigma=np.zeros(len(gaussmap))\n",
    "mod_postnorm=np.zeros(len(gaussmap))\n",
    "theta_arr=np.zeros(len(gaussmap))\n",
    "phi_arr=np.zeros(len(gaussmap))\n",
    "gauss128 =np.zeros(len(gaussmap),dtype=np.float128)\n",
    "ref_vec=hp.ang2vec(DS_theta,DS_phi)\n",
    "ref_norm=np.sqrt(np.sum(ref_vec**2))\n",
    "ref_vec=ref_vec/ref_norm\n",
    "\n",
    "for i in tqdm(ipix_disc):\n",
    "    theta,phi=hp.pix2ang(nside,i, nest=True)\n",
    "    theta_arr[i]=theta\n",
    "    phi_arr[i]=phi\n",
    "    my_vec=hp.ang2vec(theta,phi)\n",
    "    vec_norm=np.sqrt(np.sum(my_vec**2))\n",
    "    my_vec=my_vec/vec_norm\n",
    "    #gaussmap[i]=sphere_uncorr_gauss(theta,phi,DS_theta,DS_phi,sigma_theta,sigma_phi)*hp.nside2pixarea(nside,degrees=True)\n",
    "    gaussmap[i]=sphere_uncorr_gauss_vec(my_vec,ref_vec,sigma_phi)*hp.nside2pixarea(nside,degrees=True)\n",
    "    #gaussmap[i]=np.float128(Mises_Fisher(theta,phi,DS_theta,DS_phi,conc))*np.float128(hp.nside2pixarea(nside,degrees=False))\n",
    "gaussmap[ipix_disc]=gaussmap[ipix_disc]/np.sum(gaussmap)\n",
    "#print(np.sum(gaussmap))\n",
    "hp.mollview(gaussmap, title='test',nest=True)\n",
    "credible_levels = find_greedy_credible_levels(gaussmap)\n",
    "Ligo_Area_99_deg=np.sum(credible_levels <= 0.99) * hp.nside2pixarea(nside, degrees=True)\n",
    "Ligo_Area_90_deg=np.sum(credible_levels <= 0.9) * hp.nside2pixarea(nside, degrees=True)\n",
    "print('Ligo area_deg 99% is {}\\nLigo area_deg 90% is {} '.format(Ligo_Area_99_deg,Ligo_Area_90_deg))\n",
    "print(nside)"
   ]
  },
  {
   "cell_type": "code",
   "execution_count": 37,
   "id": "d82a03cf",
   "metadata": {},
   "outputs": [
    {
     "data": {
      "text/plain": [
       "0.4679727208382181"
      ]
     },
     "execution_count": 37,
     "metadata": {},
     "output_type": "execute_result"
    }
   ],
   "source": [
    "1/(np.sqrt(2)*1.511)"
   ]
  },
  {
   "cell_type": "code",
   "execution_count": 61,
   "id": "f4427af8",
   "metadata": {},
   "outputs": [],
   "source": [
    "t =np.random.uniform(-1,1,1_000_000)\n",
    "Omega_90=50\n",
    "radius_deg= np.sqrt(Omega_90/np.pi)\n",
    "sigma90=radius_deg/np.sqrt(2)\n",
    "sigma_deg=sigma90/(1.511*1)#1.6448536269514\n",
    "circle_deg=6*sigma_deg\n",
    "sigma_theta=np.radians(sigma_deg)\n",
    "sigma_phi=np.radians(sigma_deg)\n",
    "radius_rad=np.radians(circle_deg)\n",
    "k=1/sigma_phi**2\n",
    "y=np.exp(t*k*(1-t**2)**(1/2))"
   ]
  },
  {
   "cell_type": "code",
   "execution_count": null,
   "id": "c6887983",
   "metadata": {},
   "outputs": [],
   "source": [
    "hp.nside2pixarea(nside, degrees=True)"
   ]
  },
  {
   "cell_type": "markdown",
   "id": "d4c57435",
   "metadata": {},
   "source": [
    "# Using Covariance"
   ]
  },
  {
   "cell_type": "code",
   "execution_count": 71,
   "id": "efa3ec0b",
   "metadata": {},
   "outputs": [],
   "source": [
    "import numpy as np\n",
    "import healpy as hp\n",
    "import matplotlib.pyplot as plt\n",
    "from multiprocessing import Pool\n",
    "import pickle\n",
    "from tqdm import tqdm\n",
    "\n",
    "from astropy.table import Table\n",
    "from ligo.skymap.io import fits\n",
    "import os\n",
    "from os import listdir\n",
    "from os.path import isfile, join"
   ]
  },
  {
   "cell_type": "code",
   "execution_count": 72,
   "id": "744ac66e",
   "metadata": {},
   "outputs": [
    {
     "name": "stdout",
     "output_type": "stream",
     "text": [
      "GWtest00.fits\n"
     ]
    },
    {
     "data": {
      "image/png": "[encoded data removed]",
      "text/plain": [
       "<Figure size 612x388.8 with 2 Axes>"
      ]
     },
     "metadata": {
      "needs_background": "light"
     },
     "output_type": "display_data"
    }
   ],
   "source": [
    "os.chdir('/home/rciancarella/DarkSirensStat/ProxyGenerator/')\n",
    "fname ='GWtest00.fits'\n",
    "print(fname)\n",
    "LigoData, metadata = fits.read_sky_map(fname, nest=True, distances=True)\n",
    "p_posterior= LigoData[0]\n",
    "mu= LigoData[1]\n",
    "sigma = LigoData[2]\n",
    "posteriorNorm= LigoData[3]        \n",
    "Ligonpix = len(p_posterior)\n",
    "Ligonpixnside=hp.npix2nside(Ligonpix)\n",
    "hp.mollview(p_posterior, title=fname,nest=True)"
   ]
  },
  {
   "cell_type": "code",
   "execution_count": 73,
   "id": "4d15bfda",
   "metadata": {},
   "outputs": [],
   "source": [
    "def area(nside,all_pixels,p_posterior,level=0.9):\n",
    "\n",
    "    ''' Area of level% credible region, in square degrees.\n",
    "        If level is not specified, uses current selection '''\n",
    "    pixarea=hp.nside2pixarea(nside)\n",
    "    return get_credible_region_pixels(all_pixels,p_posterior,level=level).size*pixarea*(180/np.pi)**2\n",
    "\n",
    "\n",
    "def _get_credible_region_pth(p_posterior,level=0.9):\n",
    "    '''\n",
    "    Finds value minskypdf of rho_i that bouds the x% credible region , with x=level\n",
    "    Then to select pixels in that region: self.all_pixels[self.p_posterior>minskypdf]\n",
    "    '''\n",
    "    prob_sorted = np.sort(p_posterior)[::-1]\n",
    "    prob_sorted_cum = np.cumsum(prob_sorted)\n",
    "    # find index of array which bounds the self.area confidence interval\n",
    "    idx = np.searchsorted(prob_sorted_cum, level)\n",
    "    minskypdf = prob_sorted[idx] #*skymap.npix\n",
    "\n",
    "    #self.p[self.p]  >= minskypdf       \n",
    "    return minskypdf\n",
    "\n",
    "def get_credible_region_pixels(all_pixels, p_posterior, level=0.9):\n",
    "\n",
    "    return all_pixels[p_posterior>_get_credible_region_pth(p_posterior,level=level)]"
   ]
  },
  {
   "cell_type": "code",
   "execution_count": 95,
   "id": "35bc1540",
   "metadata": {},
   "outputs": [
    {
     "name": "stderr",
     "output_type": "stream",
     "text": [
      "100%|███████████████████████████████████████████████████████████████████████████| 2/2 [00:00<00:00, 16.06it/s]\n"
     ]
    },
    {
     "data": {
      "image/png": "[encoded data removed]",
      "text/plain": [
       "<Figure size 612x388.8 with 2 Axes>"
      ]
     },
     "metadata": {
      "needs_background": "light"
     },
     "output_type": "display_data"
    },
    {
     "data": {
      "image/png": "[encoded data removed]",
      "text/plain": [
       "<Figure size 612x388.8 with 2 Axes>"
      ]
     },
     "metadata": {
      "needs_background": "light"
     },
     "output_type": "display_data"
    },
    {
     "data": {
      "image/png": "[encoded data removed]",
      "text/plain": [
       "<Figure size 612x388.8 with 2 Axes>"
      ]
     },
     "metadata": {
      "needs_background": "light"
     },
     "output_type": "display_data"
    }
   ],
   "source": [
    "# Parameters for the multivariate Gaussian distribution\n",
    "mean = [100, np.pi/2. + 0.4080839999999999, 3.4461599999999994-np.pi]  # Mean of the distribution i.e. from catalogue [dl,theta,phi]\n",
    "#cov = np.array([[0.01, 0.005, -0.0003], \n",
    "#                [0.005, 0.01, 0.0002], \n",
    "#                [-0.0003, 0.0002, 0.01]])  # Covariance matrix from GWfast [dl,theta,phi]\n",
    "cov=np.load('covar_test.npy',allow_pickle=True)\n",
    "cov=np.float64(cov[:,:,0])\n",
    "# Number of samples\n",
    "num_samples = 10_000_000\n",
    "samples = np.random.multivariate_normal(mean, cov, num_samples)\n",
    "\n",
    "# Extract phi, theta\n",
    "phi = samples[:, 2]\n",
    "theta = samples[:, 1]\n",
    "luminosity_distance = samples#[:, 0]\n",
    "# Ensure theta is within the range [0, π]\n",
    "theta = np.mod(theta, np.pi)\n",
    "\n",
    "# Number of pixels in the sky map\n",
    "nside = 64\n",
    "npix=hp.nside2npix(nside)\n",
    "all_pixels=np.arange(npix)\n",
    "# Convert phi and theta to the format used by HEALpy\n",
    "theta_hp = theta\n",
    "phi_hp = np.mod(phi, 2 * np.pi)  # Ensure phi is within the range [0, 2π]\n",
    "\n",
    "# Create a HEALPix map\n",
    "sky_map = np.zeros(hp.nside2npix(nside))\n",
    "pixels = hp.ang2pix(nside, theta_hp, phi_hp)\n",
    "# Increment the pixel values\n",
    "np.add.at(sky_map, pixels, 1)\n",
    "sky_map = sky_map / np.sum(sky_map)\n",
    "\n",
    "# Get the array of good pixels where sky_map > 0 and 90%\n",
    "good_pix = np.where(sky_map > 0)[0]\n",
    "pix90=get_credible_region_pixels(all_pixels,sky_map)\n",
    "# arrays to store the mean and std of luminosity distance\n",
    "all_mu = np.zeros(hp.nside2npix(nside))\n",
    "all_std = np.zeros(hp.nside2npix(nside))\n",
    "\n",
    "# dictionary to store new luminosity distance arrays for each pixel, maybe will be useful\n",
    "luminosity_distance_samples = {}\n",
    "\n",
    "# Number of new samples to generate for each pixel\n",
    "new_samples_per_pixel = 600_000\n",
    "\n",
    "def process_pixel_if(pix):\n",
    "    if sky_map[pix] > 0:\n",
    "        # Get the fixed theta and phi for this pixel\n",
    "        theta_fixed, phi_fixed = hp.pix2ang(nside, pix)\n",
    "        \n",
    "        # Create a new mean vector with the fixed theta and phi\n",
    "        new_mean = np.array([mean[0], theta_fixed, phi_fixed])\n",
    "        \n",
    "        # Partition the covariance matrix\n",
    "        Sigma_xx = cov[1:, 1:]\n",
    "        Sigma_xy = cov[1:, 0]\n",
    "        Sigma_yx = cov[0, 1:]\n",
    "        Sigma_yy = cov[0, 0]\n",
    "        \n",
    "        # Compute the conditional mean and covariance\n",
    "        mu_cond = mean[0] + Sigma_yx @ np.linalg.inv(Sigma_xx) @ (np.array([theta_fixed, phi_fixed]) - mean[1:])\n",
    "        Sigma_cond = Sigma_yy - Sigma_yx @ np.linalg.inv(Sigma_xx) @ Sigma_xy\n",
    "        \n",
    "        # Sample from the conditional Gaussian distribution\n",
    "        new_samples = np.random.normal(mu_cond, np.sqrt(Sigma_cond), new_samples_per_pixel)\n",
    "        \n",
    "        # Extract the new luminosity distances\n",
    "        new_luminosity_distance = new_samples\n",
    "        \n",
    "        # Compute the mean and std of the luminosity distance\n",
    "        mu = np.mean(new_luminosity_distance)\n",
    "        std = np.std(new_luminosity_distance)\n",
    "        \n",
    "        return pix, mu, std, new_luminosity_distance\n",
    "    return pix, None, None, None\n",
    "\n",
    "def process_pixel(pix):\n",
    "    # Get the fixed theta and phi for this pixel\n",
    "    theta_fixed, phi_fixed = hp.pix2ang(nside, pix)\n",
    "\n",
    "    # Create a new mean vector with the fixed theta and phi\n",
    "    new_mean = np.array([mean[0], theta_fixed, phi_fixed])\n",
    "\n",
    "    # Partition the covariance matrix\n",
    "    Sigma_xx = cov[1:, 1:]\n",
    "    Sigma_xy = cov[1:, 0]\n",
    "    Sigma_yx = cov[0, 1:]\n",
    "    Sigma_yy = cov[0, 0]\n",
    "\n",
    "    # Compute the conditional mean and covariance\n",
    "    mu_cond = mean[0] + Sigma_yx @ np.linalg.inv(Sigma_xx) @ (np.array([theta_fixed, phi_fixed]) - mean[1:])\n",
    "    Sigma_cond = Sigma_yy - Sigma_yx @ np.linalg.inv(Sigma_xx) @ Sigma_xy\n",
    "\n",
    "    # Sample from the conditional Gaussian distribution\n",
    "    new_samples = np.random.normal(mu_cond, np.sqrt(Sigma_cond), new_samples_per_pixel)\n",
    "\n",
    "    # Extract the new luminosity distances\n",
    "    new_luminosity_distance = new_samples\n",
    "\n",
    "    # Compute the mean and std of the luminosity distance\n",
    "    mu = np.mean(new_luminosity_distance)\n",
    "    std = np.std(new_luminosity_distance)\n",
    "\n",
    "    return pix, mu, std, new_luminosity_distance\n",
    "\n",
    "num_processors = 10\n",
    "\n",
    "with Pool(processes=num_processors) as pool:\n",
    "    # Using tqdm to add a progress bar\n",
    "    results = list(tqdm(pool.imap(process_pixel, pix90), total=len(pix90)))\n",
    "    \n",
    "#with Pool(processes=num_processors) as pool:\n",
    "#    results = pool.map(process_pixel, good_pix)\n",
    "\n",
    "# Collect the results\n",
    "for pix, mu, std, new_luminosity_distance in results:\n",
    "    if mu is not None and std is not None:\n",
    "        all_mu[pix] = mu\n",
    "        all_std[pix] = std\n",
    "        luminosity_distance_samples[pix] = new_luminosity_distance\n",
    "\n",
    "# Plot the sky map\n",
    "hp.mollview(sky_map, title=\"Sky Map\", coord=['C'],unit='rad')\n",
    "hp.graticule()\n",
    "plt.show()\n",
    "\n",
    "# Plot the mean luminosity distance map\n",
    "hp.mollview(all_mu, title=\"Mean Luminosity Distance\", coord=['C'])\n",
    "hp.graticule()\n",
    "plt.show()\n",
    "\n",
    "# Plot the std luminosity distance map\n",
    "hp.mollview(all_std, title=\"Std Luminosity Distance\", coord=['C'])\n",
    "hp.graticule()\n",
    "plt.show()\n",
    "\n",
    "#with open('luminosity_distance_samples.pkl', 'wb') as f:\n",
    "#    pickle.dump(luminosity_distance_samples, f)\n"
   ]
  },
  {
   "cell_type": "code",
   "execution_count": 92,
   "id": "f0da5bc5",
   "metadata": {},
   "outputs": [
    {
     "name": "stdout",
     "output_type": "stream",
     "text": [
      "1.6785872904223336\n"
     ]
    }
   ],
   "source": [
    "myarea=area(nside,all_pixels,sky_map)\n",
    "print(myarea)"
   ]
  },
  {
   "cell_type": "code",
   "execution_count": 108,
   "id": "a331d77f",
   "metadata": {},
   "outputs": [
    {
     "name": "stdout",
     "output_type": "stream",
     "text": [
      "(10000000,)\n"
     ]
    }
   ],
   "source": [
    "print(np.shape(theta_hp))"
   ]
  },
  {
   "cell_type": "code",
   "execution_count": 80,
   "id": "edfae516",
   "metadata": {},
   "outputs": [
    {
     "name": "stdout",
     "output_type": "stream",
     "text": [
      "Ligo area_deg 99% is 5.8750555164781675\n",
      "Ligo area_deg 90% is 2.5178809356335003 \n"
     ]
    }
   ],
   "source": [
    "credible_levels = find_greedy_credible_levels(sky_map)\n",
    "Ligo_Area_99_deg=np.sum(credible_levels <= 0.99) * hp.nside2pixarea(nside, degrees=True)\n",
    "Ligo_Area_90_deg=np.sum(credible_levels <= 0.9) * hp.nside2pixarea(nside, degrees=True)\n",
    "print('Ligo area_deg 99% is {}\\nLigo area_deg 90% is {} '.format(Ligo_Area_99_deg,Ligo_Area_90_deg))"
   ]
  },
  {
   "cell_type": "code",
   "execution_count": 81,
   "id": "d6f31037",
   "metadata": {},
   "outputs": [
    {
     "name": "stdout",
     "output_type": "stream",
     "text": [
      "1\n"
     ]
    },
    {
     "data": {
      "text/plain": [
       "(array([1.01162584e-04, 6.51234134e-04, 4.27411917e-03, 2.23253177e-02,\n",
       "        9.03919301e-02, 2.96027011e-01, 7.48154212e-01, 1.50477131e+00,\n",
       "        2.38289415e+00, 2.98739749e+00, 2.95809828e+00, 2.31315835e+00,\n",
       "        1.42743567e+00, 6.97048139e-01, 2.68640403e-01, 8.11134243e-02,\n",
       "        1.97741238e-02, 3.79675823e-03, 5.27942235e-04, 7.27106072e-05]),\n",
       " array([ 99.37006955,  99.43333405,  99.49659854,  99.55986304,\n",
       "         99.62312754,  99.68639203,  99.74965653,  99.81292103,\n",
       "         99.87618552,  99.93945002, 100.00271452, 100.06597902,\n",
       "        100.12924351, 100.19250801, 100.25577251, 100.319037  ,\n",
       "        100.3823015 , 100.445566  , 100.5088305 , 100.57209499,\n",
       "        100.63535949]),\n",
       " <BarContainer object of 20 artists>)"
      ]
     },
     "execution_count": 81,
     "metadata": {},
     "output_type": "execute_result"
    },
    {
     "data": {
      "image/png": "[encoded data removed]",
      "text/plain": [
       "<Figure size 432x288 with 1 Axes>"
      ]
     },
     "metadata": {
      "needs_background": "light"
     },
     "output_type": "display_data"
    }
   ],
   "source": [
    "print(int(len(pix90)/2))\n",
    "for pix in pix90 :\n",
    "    plt.hist(luminosity_distance_samples.get(pix),bins=20,density=True)\n",
    "plt.hist(luminosity_distance,bins=20,density=True)"
   ]
  },
  {
   "cell_type": "markdown",
   "id": "3c7c71ea",
   "metadata": {},
   "source": [
    "Now we try to save this as a skymap"
   ]
  },
  {
   "cell_type": "code",
   "execution_count": 6,
   "id": "01307548",
   "metadata": {},
   "outputs": [],
   "source": [
    "mod_postnorm=np.ones(len(sky_map))\n",
    "fname='GWtest00.fits'\n",
    "dat=Table([sky_map,all_mu,all_std,mod_postnorm],\n",
    "      names=('PROB','DISTMU','DISTSIGMA','DISTNORM'))\n",
    "fits.write_sky_map(fname,dat, nest=False)\n",
    "#with open(fname,'a') as f:\n",
    "#    f.writelines(line)"
   ]
  },
  {
   "cell_type": "code",
   "execution_count": null,
   "id": "d4c01b02",
   "metadata": {},
   "outputs": [],
   "source": [
    "#GWdata path\n",
    "GW_data_path='/home/rciancarella/DarkSirensStat/data/GW/Hold_O3/'\n",
    "#os.chdir(GW_data_path)"
   ]
  },
  {
   "cell_type": "code",
   "execution_count": 56,
   "id": "e75d325c",
   "metadata": {},
   "outputs": [],
   "source": [
    "covar=np.load('covar_test.npy',allow_pickle=True)\n",
    "covar=covar[:,:,0]\n",
    "covar64=np.float64(covar)"
   ]
  },
  {
   "cell_type": "code",
   "execution_count": 57,
   "id": "166111d2",
   "metadata": {},
   "outputs": [
    {
     "name": "stdout",
     "output_type": "stream",
     "text": [
      "[[ 1.66481239e-02 -1.10493426e-05  6.66515552e-05]\n",
      " [-1.10493426e-05  6.13005918e-06  1.71153275e-05]\n",
      " [ 6.66515552e-05  1.71153275e-05  1.44472949e-04]] \n",
      " [[ 1.66481239e-02 -1.10493426e-05  6.66515552e-05]\n",
      " [-1.10493426e-05  6.13005918e-06  1.71153275e-05]\n",
      " [ 6.66515552e-05  1.71153275e-05  1.44472949e-04]] [1.35178327e-15]\n"
     ]
    }
   ],
   "source": [
    "print(covar,'\\n',cov,err)"
   ]
  },
  {
   "cell_type": "code",
   "execution_count": 55,
   "id": "477b02d0",
   "metadata": {},
   "outputs": [
    {
     "name": "stdout",
     "output_type": "stream",
     "text": [
      "(3, 3, 1) (3, 3)\n"
     ]
    }
   ],
   "source": [
    "print(np.shape(covar),np.shape(cov))"
   ]
  },
  {
   "cell_type": "code",
   "execution_count": 45,
   "id": "47278f99",
   "metadata": {},
   "outputs": [
    {
     "name": "stdout",
     "output_type": "stream",
     "text": [
      "[[0. 0. 0.]\n",
      " [0. 0. 0.]\n",
      " [0. 0. 0.]]\n"
     ]
    }
   ],
   "source": [
    "print(covar64-covar)"
   ]
  },
  {
   "cell_type": "code",
   "execution_count": 119,
   "id": "51427765",
   "metadata": {},
   "outputs": [
    {
     "ename": "TypeError",
     "evalue": "ufunc '_pix2ang_ring' not supported for the input types, and the inputs could not be safely coerced to any supported types according to the casting rule ''safe''",
     "output_type": "error",
     "traceback": [
      "\u001b[0;31m---------------------------------------------------------------------------\u001b[0m",
      "\u001b[0;31mTypeError\u001b[0m                                 Traceback (most recent call last)",
      "Input \u001b[0;32mIn [119]\u001b[0m, in \u001b[0;36m<cell line: 1>\u001b[0;34m()\u001b[0m\n\u001b[0;32m----> 1\u001b[0m \u001b[43mprocess_pixel\u001b[49m\u001b[43m(\u001b[49m\u001b[43margs\u001b[49m\u001b[43m[\u001b[49m\u001b[38;5;241;43m0\u001b[39;49m\u001b[43m]\u001b[49m\u001b[43m)\u001b[49m\n",
      "Input \u001b[0;32mIn [95]\u001b[0m, in \u001b[0;36mprocess_pixel\u001b[0;34m(pix)\u001b[0m\n\u001b[1;32m     78\u001b[0m \u001b[38;5;28;01mdef\u001b[39;00m \u001b[38;5;21mprocess_pixel\u001b[39m(pix):\n\u001b[1;32m     79\u001b[0m     \u001b[38;5;66;03m# Get the fixed theta and phi for this pixel\u001b[39;00m\n\u001b[0;32m---> 80\u001b[0m     theta_fixed, phi_fixed \u001b[38;5;241m=\u001b[39m \u001b[43mhp\u001b[49m\u001b[38;5;241;43m.\u001b[39;49m\u001b[43mpix2ang\u001b[49m\u001b[43m(\u001b[49m\u001b[43mnside\u001b[49m\u001b[43m,\u001b[49m\u001b[43m \u001b[49m\u001b[43mpix\u001b[49m\u001b[43m)\u001b[49m\n\u001b[1;32m     82\u001b[0m     \u001b[38;5;66;03m# Create a new mean vector with the fixed theta and phi\u001b[39;00m\n\u001b[1;32m     83\u001b[0m     new_mean \u001b[38;5;241m=\u001b[39m np\u001b[38;5;241m.\u001b[39marray([mean[\u001b[38;5;241m0\u001b[39m], theta_fixed, phi_fixed])\n",
      "File \u001b[0;32m~/.local/lib/python3.10/site-packages/healpy/pixelfunc.py:529\u001b[0m, in \u001b[0;36mpix2ang\u001b[0;34m(nside, ipix, nest, lonlat)\u001b[0m\n\u001b[1;32m    527\u001b[0m     theta, phi \u001b[38;5;241m=\u001b[39m pixlib\u001b[38;5;241m.\u001b[39m_pix2ang_nest(nside, ipix)\n\u001b[1;32m    528\u001b[0m \u001b[38;5;28;01melse\u001b[39;00m:\n\u001b[0;32m--> 529\u001b[0m     theta, phi \u001b[38;5;241m=\u001b[39m \u001b[43mpixlib\u001b[49m\u001b[38;5;241;43m.\u001b[39;49m\u001b[43m_pix2ang_ring\u001b[49m\u001b[43m(\u001b[49m\u001b[43mnside\u001b[49m\u001b[43m,\u001b[49m\u001b[43m \u001b[49m\u001b[43mipix\u001b[49m\u001b[43m)\u001b[49m\n\u001b[1;32m    531\u001b[0m \u001b[38;5;28;01mif\u001b[39;00m lonlat:\n\u001b[1;32m    532\u001b[0m     \u001b[38;5;28;01mreturn\u001b[39;00m thetaphi2lonlat(theta, phi)\n",
      "\u001b[0;31mTypeError\u001b[0m: ufunc '_pix2ang_ring' not supported for the input types, and the inputs could not be safely coerced to any supported types according to the casting rule ''safe''"
     ]
    }
   ],
   "source": [
    "process_pixel(args[0])"
   ]
  },
  {
   "cell_type": "code",
   "execution_count": 123,
   "id": "fdc5f264",
   "metadata": {},
   "outputs": [
    {
     "name": "stderr",
     "output_type": "stream",
     "text": [
      "100%|███████████████████████████████████████████████████████████████████████| 487/487 [00:08<00:00, 58.64it/s]\n"
     ]
    },
    {
     "data": {
      "image/png": "[encoded data removed]",
      "text/plain": [
       "<Figure size 612x388.8 with 2 Axes>"
      ]
     },
     "metadata": {
      "needs_background": "light"
     },
     "output_type": "display_data"
    },
    {
     "data": {
      "image/png": "[encoded data removed]",
      "text/plain": [
       "<Figure size 612x388.8 with 2 Axes>"
      ]
     },
     "metadata": {
      "needs_background": "light"
     },
     "output_type": "display_data"
    }
   ],
   "source": [
    "import numpy as np\n",
    "import healpy as hp\n",
    "import matplotlib.pyplot as plt\n",
    "from multiprocessing import Pool\n",
    "import pickle\n",
    "from tqdm import tqdm\n",
    "\n",
    "def area(nside,all_pixels,p_posterior,level=0.9):\n",
    "\n",
    "    ''' Area of level% credible region, in square degrees.\n",
    "        If level is not specified, uses current selection '''\n",
    "    pixarea=hp.nside2pixarea(nside)\n",
    "    return get_credible_region_pixels(all_pixels,p_posterior,level=level).size*pixarea*(180/np.pi)**2\n",
    "\n",
    "\n",
    "def _get_credible_region_pth(p_posterior,level=0.9):\n",
    "    '''\n",
    "    Finds value minskypdf of rho_i that bouds the x% credible region , with x=level\n",
    "    Then to select pixels in that region: self.all_pixels[self.p_posterior>minskypdf]\n",
    "    '''\n",
    "    prob_sorted = np.sort(p_posterior)[::-1]\n",
    "    prob_sorted_cum = np.cumsum(prob_sorted)\n",
    "    # find index of array which bounds the self.area confidence interval\n",
    "    idx = np.searchsorted(prob_sorted_cum, level)\n",
    "    minskypdf = prob_sorted[idx] #*skymap.npix\n",
    "\n",
    "    #self.p[self.p]  >= minskypdf       \n",
    "    return minskypdf\n",
    "\n",
    "def get_credible_region_pixels(all_pixels, p_posterior, level=0.9):\n",
    "\n",
    "    return all_pixels[p_posterior>_get_credible_region_pth(p_posterior,level=level)]\n",
    "\n",
    "def sample_multivariate_gaussian(mean, cov, num_samples):\n",
    "    return np.random.multivariate_normal(mean, cov, num_samples)\n",
    "\n",
    "def process_pixel(args):\n",
    "    pix, sky_map, nside, mean, cov, new_samples_per_pixel = args\n",
    "    \n",
    "    if sky_map[pix] > 0:\n",
    "        # Get the fixed angles for this pixel\n",
    "        theta_fixed, phi_fixed = hp.pix2ang(nside, pix)\n",
    "        \n",
    "        # Create a new mean vector with the fixed angles\n",
    "        new_mean = np.copy(mean)\n",
    "        new_mean[1:] = [theta_fixed, phi_fixed]\n",
    "        \n",
    "        # Partition the covariance matrix\n",
    "        Sigma_xx = cov[1:, 1:]\n",
    "        Sigma_xy = cov[1:, 0]\n",
    "        Sigma_yx = cov[0, 1:]\n",
    "        Sigma_yy = cov[0, 0]\n",
    "        \n",
    "        # Compute the conditional mean and covariance\n",
    "        mu_cond = mean[0] + Sigma_yx @ np.linalg.inv(Sigma_xx) @ (np.array([theta_fixed, phi_fixed]) - mean[1:])\n",
    "        Sigma_cond = Sigma_yy - Sigma_yx @ np.linalg.inv(Sigma_xx) @ Sigma_xy\n",
    "        \n",
    "        # Sample from the conditional Gaussian distribution\n",
    "        new_samples = np.random.normal(mu_cond, np.sqrt(Sigma_cond), new_samples_per_pixel)\n",
    "        \n",
    "        # Extract the new luminosity distances\n",
    "        new_luminosity_distance = new_samples\n",
    "        \n",
    "        # Compute the mean and std of the luminosity distance\n",
    "        mu = np.mean(new_luminosity_distance)\n",
    "        std = np.std(new_luminosity_distance)\n",
    "        \n",
    "        return pix, mu, std, new_luminosity_distance\n",
    "    \n",
    "    return pix, None, None, None\n",
    "\n",
    "#def main():\n",
    "# Parameters for the multivariate Gaussian distribution\n",
    "#N = 3  # Dimension of the Gaussian\n",
    "mean = [100, np.pi/2, 0]  # Mean of the distribution\n",
    "cov = np.array([[0.01, 0.002, 0.003], \n",
    "                [0.002, 0.01, 0.005], \n",
    "                [0.003, 0.005, 0.01]])  # Covariance matrix with no zero values\n",
    "#cov=np.load('covar_test.npy',allow_pickle=True)\n",
    "#cov=np.float64(cov[:,:,0])\n",
    "# Number of samples\n",
    "num_samples = 1_000_000#\n",
    "\n",
    "# Sample from the multivariate Gaussian distribution\n",
    "samples = sample_multivariate_gaussian(mean, cov, num_samples)\n",
    "\n",
    "# Extract variables\n",
    "luminosity_distance = samples[:, 0]\n",
    "angles = samples[:, 1:]\n",
    "\n",
    "# Ensure angles are within valid ranges\n",
    "angles[:, 0] = np.mod(angles[:, 0], np.pi)  # theta in range [0, π]\n",
    "angles[:, 1] = np.mod(angles[:, 1], 2 * np.pi)  # phi in range [0, 2π]\n",
    "\n",
    "# Number of pixels in the sky map\n",
    "nside = 64\n",
    "\n",
    "# Create a HEALPix map\n",
    "sky_map = np.zeros(hp.nside2npix(nside))\n",
    "\n",
    "# Convert angles to pixel indices\n",
    "pixels = hp.ang2pix(nside, angles[:, 0], angles[:, 1])\n",
    "\n",
    "# Increment the pixel values\n",
    "np.add.at(sky_map, pixels, 1)\n",
    "\n",
    "# Normalize the sky map\n",
    "sky_map = sky_map / np.sum(sky_map)\n",
    "\n",
    "# Get the array of good pixels where sky_map > 0\n",
    "good_pix = np.where(sky_map > 0)[0]\n",
    "pix90=get_credible_region_pixels(all_pixels,sky_map)\n",
    "# Initialize arrays to store the mean and std of luminosity distance\n",
    "all_mu = np.zeros(hp.nside2npix(nside))\n",
    "all_std = np.zeros(hp.nside2npix(nside))\n",
    "\n",
    "# Initialize dictionary to store new luminosity distance arrays for each pixel\n",
    "luminosity_distance_samples = {}\n",
    "\n",
    "# Number of new samples to generate for each pixel\n",
    "new_samples_per_pixel = 1000_000\n",
    "\n",
    "# Prepare arguments for multiprocessing\n",
    "args = [(pix, sky_map, nside, mean, cov, new_samples_per_pixel) for pix in pix90]\n",
    "\n",
    "# Specify the number of processors to use\n",
    "num_processors = 10\n",
    "\n",
    "# Using multiprocessing Pool to parallelize the process\n",
    "with Pool(processes=num_processors) as pool:\n",
    "    # Using tqdm to add a progress bar\n",
    "    results = list(tqdm(pool.imap(process_pixel, args), total=len(pix90)))\n",
    "\n",
    "# Collect the results\n",
    "for pix, mu, std, new_luminosity_distance in results:\n",
    "    if mu is not None and std is not None:\n",
    "        all_mu[pix] = mu\n",
    "        all_std[pix] = std\n",
    "        luminosity_distance_samples[pix] = new_luminosity_distance\n",
    "\n",
    "# Plot the sky map\n",
    "hp.mollview(sky_map, title=\"Sky Map\", coord=['C'])\n",
    "hp.graticule()\n",
    "plt.show()\n",
    "\n",
    "# Plot the mean luminosity distance map\n",
    "hp.mollview(all_mu, title=\"Mean Luminosity Distance\", coord=['C'])\n",
    "hp.graticule()\n",
    "plt.show()\n",
    "\n",
    "# Plot the std luminosity distance map\n",
    "#hp.mollview(all_std, title=\"Std Luminosity Distance\", coord=['C'])\n",
    "#hp.graticule()\n",
    "#plt.show()\n",
    "\n",
    "## Optionally, save the luminosity distance samples to a file for further analysis\n",
    "#with open('luminosity_distance_samples.pkl', 'wb') as f:\n",
    "#    pickle.dump(luminosity_distance_samples, f)\n",
    "\n",
    "#if __name__ == \"__main__\":\n",
    "#    main()\n"
   ]
  },
  {
   "cell_type": "code",
   "execution_count": null,
   "id": "f116d5eb",
   "metadata": {},
   "outputs": [
    {
     "name": "stdout",
     "output_type": "stream",
     "text": [
      "243\n"
     ]
    }
   ],
   "source": [
    "print(int(len(pix90)/2))\n",
    "for pix in pix90 :\n",
    "    plt.hist(luminosity_distance_samples.get(pix),bins=20,density=True)\n",
    "plt.hist(luminosity_distance,bins=20,density=True)"
   ]
  },
  {
   "cell_type": "code",
   "execution_count": null,
   "id": "e7de1669",
   "metadata": {},
   "outputs": [],
   "source": []
  }
 ],
 "metadata": {
  "kernelspec": {
   "display_name": "Python 3 (ipykernel)",
   "language": "python",
   "name": "python3"
  },
  "language_info": {
   "codemirror_mode": {
    "name": "ipython",
    "version": 3
   },
   "file_extension": ".py",
   "mimetype": "text/x-python",
   "name": "python",
   "nbconvert_exporter": "python",
   "pygments_lexer": "ipython3",
   "version": "3.10.12"
  }
 },
 "nbformat": 4,
 "nbformat_minor": 5
}
