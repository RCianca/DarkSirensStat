{
 "cells": [
  {
   "cell_type": "code",
   "execution_count": 1,
   "id": "9abeb70a",
   "metadata": {},
   "outputs": [
    {
     "name": "stderr",
     "output_type": "stream",
     "text": [
      "WARNING: AstropyDeprecationWarning: The get_cosmology_from_string method is deprecated and may be removed in a future version.\n",
      "        Use get instead. [ligo.skymap.postprocess.cosmology]\n"
     ]
    }
   ],
   "source": [
    "import pandas as pd\n",
    "import numpy as np\n",
    "import healpy as hp\n",
    "import matplotlib.pyplot as plt\n",
    "import scipy\n",
    "from scipy.optimize import fsolve\n",
    "\n",
    "from astropy.cosmology import Planck15\n",
    "from astropy.cosmology import FlatLambdaCDM\n",
    "from astropy.table import Table\n",
    "import astropy \n",
    "from ligo.skymap.io import fits\n",
    "from ligo.skymap.postprocess import find_greedy_credible_levels\n",
    "\n",
    "import os\n",
    "from os import listdir\n",
    "from os.path import isfile, join\n",
    "\n",
    "import sys\n",
    "from tqdm import tqdm\n",
    "\n",
    "H0GLOB=67 #69\n",
    "Om0GLOB=0.319\n",
    "Xi0Glob =1.\n",
    "clight = 2.99792458* 10**5#km/s\n",
    "cosmoflag = FlatLambdaCDM(H0=H0GLOB, Om0=Om0GLOB)\n"
   ]
  },
  {
   "cell_type": "code",
   "execution_count": 2,
   "id": "b46975ce",
   "metadata": {},
   "outputs": [],
   "source": [
    "def get_ename(fname, verbose=True):\n",
    "\n",
    "        if len(fname.split('/')[-1].split('_')) <= 2:    #Same as before since certain names contain a \"_\"\n",
    "            event_name = fname.split('/')[-1].split('_')[0]\n",
    "        elif len(fname.split('/')[-1].split('_')) > 2:\n",
    "            event_name = fname.split('/')[-1].split('_')[0]+'_'+fname.split('/')[-1].split('_')[1]\n",
    "        else:\n",
    "            raise ValueError('Could not set event name. Got fname= %s'%fname)\n",
    "        if verbose:\n",
    "            print('-- %s' %event_name)\n",
    "        return event_name\n",
    "    \n",
    "def find_ra_dec(nside, pix):\n",
    "        '''\n",
    "        input:  pixel ra dec in degrees\n",
    "        output: (ra, dec) of pixel center in degrees, with nside given by that of the skymap \n",
    "        '''\n",
    "        theta, phi =find_theta_phi(nside,pix)\n",
    "        ra, dec = ra_dec_from_th_phi(theta, phi)\n",
    "        return ra, dec    \n",
    "    \n",
    "def ra_dec_from_th_phi(theta, phi):\n",
    "        ra = np.rad2deg(phi)\n",
    "        dec = np.rad2deg(0.5 * np.pi - theta)\n",
    "        return ra, dec\n",
    "    \n",
    "def find_theta_phi(nside, pix):\n",
    "        '''\n",
    "        input:  pixel\n",
    "        output: (theta, phi)of pixel center in rad, with nside given by that of the skymap \n",
    "        '''\n",
    "        return hp.pix2ang(nside, pix, nest=True)\n",
    "    \n",
    "def _read_O3( fname, convert_nested=True):\n",
    "        \n",
    "        skymap, metadata = fits.read_sky_map(fname, nest=None, distances=True) #Read the skymap\n",
    "        event_name = get_ename(fname, verbose=True)\n",
    "        print('Event: %s' %event_name)\n",
    "        if (convert_nested) & (metadata['nest']): #If one wants RING ordering (the one of O2 data afaik) just has to set \"convert_nested\" to True\n",
    "            p_posterior = hp.reorder(skymap[0],n2r=True)\n",
    "            mu = hp.reorder(skymap[1],n2r=True)\n",
    "            sigma = hp.reorder(skymap[2],n2r=True)\n",
    "            posteriorNorm = hp.reorder(skymap[3],n2r=True)\n",
    "            print('convertito da nested a ring')\n",
    "        else:\n",
    "            p_posterior= skymap[0]\n",
    "            mu= skymap[1]\n",
    "            sigma = skymap[2]\n",
    "            posteriorNorm= skymap[3]        \n",
    "        npix = len(p_posterior)\n",
    "        nside=hp.npix2nside(npix)\n",
    "        theta,phi=find_theta_phi(nside,np.argmax(p_posterior))\n",
    "        #print('Theta={}, Phi={}'.format(theta, phi))\n",
    "        #ra, dec=find_ra_dec(nside,np.argmax(p_posterior))\n",
    "        #print('Right Ascension={}, Declination={}'.format(ra, dec))\n",
    "        #print(metadata)\n",
    "        #dl=metadata['distmean']\n",
    "        #std=metadata['diststd']\n",
    "        #z=cosmoglob.H(0).value*dl/clight\n",
    "        #sigz=cosmoglob.H(0).value*std/clight\n",
    "        #print('dL={}Mpc, std={}Mpc'.format(dl,std))\n",
    "        #print('z={}, delta_z={}'.format(z,sigz))\n",
    "        #print('\\n')\n",
    "        head = None\n",
    "def z_from_dL(dL_GW_val):\n",
    "    '''\n",
    "    Returns redshift for a given luminosity distance dL_GW_val (in Mpc)\n",
    "    \n",
    "    Input:\n",
    "        - dL_GW_val luminosity dist in Mpc\n",
    "        - H0\n",
    "        - Xi0: float. Value of Xi_0\n",
    "        - n: float. Value of n\n",
    "\n",
    "    '''   \n",
    "    #print(cosmo.H0)\n",
    "    func = lambda z : cosmoflag.luminosity_distance(z).value - dL_GW_val\n",
    "    z = fsolve(func, 1)\n",
    "    return z[0]\n",
    "\n",
    "def z_from_dcom(dc_val):\n",
    "    '''\n",
    "    Returns redshift for a given comoving distance dc (in Mpc)'''\n",
    "    \n",
    "    func = lambda z :cosmoflag.comoving_distance(z).value - dc_val\n",
    "    z = fsolve(func, 0.77)\n",
    "    return z[0]\n",
    "\n",
    "def mygaussint(prov_mu,prov_sigma,rho=1):\n",
    "    first=np.exp(-(prov_mu**2)/(2*prov_sigma**2))*prov_mu*rho*prov_sigma/np.sqrt(2*np.pi)\n",
    "    factor=0.5*rho*(prov_mu**2+prov_sigma**2)\n",
    "    second=(1+scipy.special.erf(prov_mu/(np.sqrt(2)*prov_sigma)))\n",
    "    ret=first+factor*second\n",
    "    return ret\n",
    "\n",
    "def sphere_uncorr_gauss(x,y,mux,muy,sigx,sigy):\n",
    "    #correlation is 0 so is a multiplication of two gaussians\n",
    "    #x is theta, y is phi\n",
    "    meanvec=hp.ang2vec(mux,muy)\n",
    "    meanvec=np.asarray(meanvec)\n",
    "    norm=np.sqrt(np.dot(meanvec,meanvec))\n",
    "    meanvec=meanvec/norm\n",
    "    \n",
    "    var=hp.ang2vec(x,y)\n",
    "    var=np.asarray(var)\n",
    "    norm=np.sqrt(np.dot(var,var))\n",
    "    var=var/norm\n",
    "    \n",
    "    diff=meanvec-var\n",
    "    diff_len=np.sqrt(np.dot(diff,diff))\n",
    "    #xfactor=((x-mux)/sigx)**2\n",
    "    #yfactor=((y*(1-np.sin(y))-muy*(1-np.sin(muy)))/sigy)**2\n",
    "    #yfactor=((y-muy)/sigy)**2\n",
    "    #norm=2*np.pi*sigx*sigy\n",
    "    factor=((diff_len)/sigy)**2\n",
    "    ret=np.exp(-(1/2)*(factor))#/norm\n",
    "    return ret\n",
    "\n",
    "def Mises_Fisher(theta,phi,DS_theta,DS_phi,conc):\n",
    "    meanvec=hp.ang2vec(DS_theta,DS_phi)\n",
    "    meanvec=np.asarray(meanvec,dtype=np.float128)\n",
    "    norm=np.sqrt(np.dot(meanvec,meanvec))\n",
    "    meanvec=meanvec/norm\n",
    "    \n",
    "    var=hp.ang2vec(theta,phi)\n",
    "    var=np.asarray(var,dtype=np.float128)\n",
    "    norm=np.sqrt(np.dot(var,var))\n",
    "    var=var/norm\n",
    "    \n",
    "    factor=np.dot(conc*var,meanvec)\n",
    "    factor=np.float128(factor)\n",
    "    #Normalization is futile, we will devide by the sum\n",
    "    #fullnorm=conc/(2*np.pi*(np.exp(conc)-np.exp(-conc)))\n",
    "    ret=np.float128(np.exp(factor))#/fullnorm\n",
    "    #ret=factor\n",
    "    return ret"
   ]
  },
  {
   "cell_type": "code",
   "execution_count": 3,
   "id": "ec25c485",
   "metadata": {},
   "outputs": [],
   "source": [
    "#GWdata path\n",
    "GW_data_path='/home/rciancarella/DarkSirensStat/data/GW/Hold_O3/'\n",
    "os.chdir(GW_data_path)\n",
    "#all_event=os.listdir()"
   ]
  },
  {
   "cell_type": "markdown",
   "id": "24d9987e",
   "metadata": {},
   "source": [
    "  # Function to exploit, find how to localise an event and produce a proxy one. \n",
    "   def _read_O3(self, fname, convert_nested=True):\n",
    "        \n",
    "   skymap, metadata = fits.read_sky_map(fname, nest=None, distances=True) #Read the skymap\n",
    "        self.event_name = get_ename(fname, verbose=self.verbose)\n",
    "        if self.verbose:\n",
    "                print('\\nEvent: %s' %self.event_name)\n",
    "                #Raul: prints for control\n",
    "                print('Delta=%s. If delta=1, normal run '%delta)\n",
    "        if (convert_nested) & (metadata['nest']): #If one wants RING ordering (the one of O2 data afaik) just has to set \"convert_nested\" to True\n",
    "            self.p_posterior = hp.reorder(skymap[0],n2r=True)\n",
    "            self.mu = hp.reorder(skymap[1],n2r=True)\n",
    "            self.sigma = hp.reorder(skymap[2],n2r=True)*delta\n",
    "            self.posteriorNorm = hp.reorder(skymap[3],n2r=True)\n",
    "        else:\n",
    "            self.p_posterior= skymap[0]\n",
    "            self.mu= skymap[1]\n",
    "            self.sigma = skymap[2]*delta\n",
    "            self.posteriorNorm= skymap[3]    "
   ]
  },
  {
   "cell_type": "code",
   "execution_count": 4,
   "id": "8c88ee72",
   "metadata": {},
   "outputs": [
    {
     "name": "stdout",
     "output_type": "stream",
     "text": [
      "GW190814_PublicationSamples.fits\n",
      "RA=12.7001953125,dec=-24.87076339473571,theta=2.004873035517517,phi=0.22166022384947515\n",
      "Dl=235.45665178530027\n",
      "average luminosity distance Sigma=26.530261090991182 Mpc\n",
      "GW190924_021846_PublicationSamples.fits\n",
      "RA=127.265625,dec=16.25709623792208,theta=1.2870564706295728,phi=2.2212041808584084\n",
      "Dl=499.3721200365884\n",
      "average luminosity distance Sigma=134.49092733306685 Mpc\n",
      "GW190412_PublicationSamples.fits\n",
      "RA=218.4521484375,dec=36.42357364233115,theta=0.9350850413935945,phi=3.812709248289761\n",
      "Dl=714.0899052030237\n",
      "average luminosity distance Sigma=92.22291002240516 Mpc\n",
      "GW190915_235702_PublicationSamples.fits\n",
      "RA=195.46875,dec=37.26258031838149,theta=0.9204416124503026,phi=3.411573272257666\n",
      "Dl=1591.1906291650755\n",
      "average luminosity distance Sigma=422.8751010649481 Mpc\n",
      "GW190708_232457_PublicationSamples.fits\n",
      "RA=199.77272727272725,dec=65.69633519657744,theta=0.4241789711207841,phi=3.4866918465977625\n",
      "Dl=867.5678481523114\n",
      "average luminosity distance Sigma=195.88865316558437 Mpc\n",
      "GW190421_213856_PublicationSamples.fits\n",
      "RA=205.30042918454936,dec=-46.3750811884355,theta=2.380194184412781,phi=3.5831684450278436\n",
      "Dl=3003.725271530694\n",
      "average luminosity distance Sigma=822.948525148932 Mpc\n",
      "GW190527_092055_PublicationSamples.fits\n",
      "RA=39.14383561643836,dec=-63.07261938698223,theta=2.671621202954944,phi=0.6831888133662736\n",
      "Dl=116.24292364482653\n",
      "average luminosity distance Sigma=3139.079208227675 Mpc\n"
     ]
    }
   ],
   "source": [
    "#Some files to look at \n",
    "filenames=['GW190814_PublicationSamples.fits',\n",
    "           'GW190924_021846_PublicationSamples.fits',\n",
    "           'GW190412_PublicationSamples.fits',\n",
    "           'GW190915_235702_PublicationSamples.fits',\n",
    "           'GW190708_232457_PublicationSamples.fits',\n",
    "           'GW190421_213856_PublicationSamples.fits',\n",
    "           'GW190527_092055_PublicationSamples.fits' \n",
    "           ]\n",
    "########################## THIS GIVE US SOME INFO ######################################\n",
    "#for name in filenames:\n",
    "#    _read_O3(name)\n",
    "########################################################################################\n",
    "fname ='GW190814_PublicationSamples.fits'\n",
    "alldl=[]\n",
    "for fname in filenames:\n",
    "    print(fname)\n",
    "    skymap, metadata = fits.read_sky_map(fname, nest=None, distances=True)\n",
    "    p_posterior= skymap[0]\n",
    "    mu= skymap[1]\n",
    "    sigma = skymap[2]\n",
    "    posteriorNorm= skymap[3]        \n",
    "    npix = len(p_posterior)\n",
    "    nside=hp.npix2nside(npix)\n",
    "    theta,phi=find_theta_phi(nside,np.argmax(p_posterior))\n",
    "    ra, dec=find_ra_dec(nside,np.argmax(p_posterior))\n",
    "    print('RA={},dec={},theta={},phi={}'.format(ra,dec,theta,phi))\n",
    "    alldl.append(mu[np.argmax(p_posterior)])\n",
    "    print('Dl={}'.format(mu[np.argmax(p_posterior)]))\n",
    "    sig_avr=np.average(sigma,weights=p_posterior)\n",
    "    print('average luminosity distance Sigma={} Mpc'.format(sig_avr))\n",
    "#alldl=np.asarray(alldl)\n",
    "#print(np.mean(alldl))"
   ]
  },
  {
   "cell_type": "code",
   "execution_count": null,
   "id": "b6ea4dcc",
   "metadata": {},
   "outputs": [],
   "source": [
    "my_theta,my_phi=hp.pix2ang(nside, np.argmax(p_posterior), nest=True)\n",
    "vec = hp.ang2vec(my_theta, my_phi)\n",
    "my_maxpix=hp.ang2pix(nside, my_theta, my_phi,nest=True)\n",
    "maxpix=np.argmax(p_posterior)\n",
    "print(maxpix,my_maxpix)"
   ]
  },
  {
   "cell_type": "code",
   "execution_count": null,
   "id": "2d819853",
   "metadata": {},
   "outputs": [],
   "source": [
    "print(vec)"
   ]
  },
  {
   "cell_type": "code",
   "execution_count": null,
   "id": "efdfa4b7",
   "metadata": {},
   "outputs": [],
   "source": [
    "hp.mollview(p_posterior, title=fname,nest=True)"
   ]
  },
  {
   "cell_type": "code",
   "execution_count": null,
   "id": "59e0ee66",
   "metadata": {},
   "outputs": [],
   "source": [
    "credible_levels = find_greedy_credible_levels(p_posterior)\n",
    "Ligo_Area_99_deg=np.sum(credible_levels <= 0.99) * hp.nside2pixarea(nside, degrees=True)\n",
    "Ligo_Area_90_deg=np.sum(credible_levels <= 0.9) * hp.nside2pixarea(nside, degrees=True)\n",
    "print('Ligo area_deg 99% is {}\\nLigo area_deg 90% is {} '.format(Ligo_Area_99_deg,Ligo_Area_90_deg))"
   ]
  },
  {
   "cell_type": "code",
   "execution_count": null,
   "id": "2c8f5d9e",
   "metadata": {},
   "outputs": [],
   "source": [
    "_read_O3(fname)"
   ]
  },
  {
   "cell_type": "code",
   "execution_count": null,
   "id": "f247f052",
   "metadata": {},
   "outputs": [],
   "source": [
    "vec = hp.ang2vec(my_theta, my_phi)\n",
    "ipix_disc = hp.query_disc(nside=nside, vec=vec, radius=np.radians(circle_deg), nest=True)\n",
    "ipix_90 = hp.query_disc(nside=nside, vec=vec, radius=np.radians(radius_deg), nest=True)\n",
    "m =np.zeros(len(p_posterior))\n",
    "m[ipix_disc] = 1/len(ipix_disc)\n",
    "hp.mollview(m, title=\"Gaussian Mask\",nest=True)"
   ]
  },
  {
   "cell_type": "code",
   "execution_count": null,
   "id": "cfab7d03",
   "metadata": {},
   "outputs": [],
   "source": [
    "Mock_Area_deg=len(ipix_disc) * hp.nside2pixarea(nside, degrees=True)\n",
    "Mock_Area_90_deg=len(ipix_90) *hp.nside2pixarea(nside, degrees=True)\n",
    "print('99.9999% area is {} squared deg\\n90% area is {} squared deg'.format(Mock_Area_deg,Mock_Area_90_deg))"
   ]
  },
  {
   "cell_type": "code",
   "execution_count": null,
   "id": "545c8fc4",
   "metadata": {},
   "outputs": [],
   "source": [
    "'''\n",
    "https://emfollow.docs.ligo.org/userguide/tutorial/skymaps.html(for ref on skymap)\n",
    "\n",
    "Now we need to rescale the probability. We set the prob=0 ouside the circle\n",
    "We assume that the renormalization is constant.\n",
    "We crate a mask with our circle. Outside the mask p_posterior=0, the renormalization\n",
    "constan alpha, is therefore 1/sum(p_posterior()). This ensure unitarity. \n",
    "\n",
    "If this works, than we will use a 2D Gaussian distribution for the probability\n",
    "\n",
    "'''\n"
   ]
  },
  {
   "cell_type": "code",
   "execution_count": null,
   "id": "91d08948",
   "metadata": {},
   "outputs": [],
   "source": [
    "#saved_prob=np.zeros(len(p_posterior))\n",
    "#saved_prob[ipix_disc]=p_posterior[ipix_disc]\n",
    "#prob_to_write=np.zeros(len(p_posterior))\n",
    "#alpha=1/np.sum(saved_prob)\n",
    "#prob_to_write[ipix_disc]=alpha*saved_prob[ipix_disc]"
   ]
  },
  {
   "cell_type": "code",
   "execution_count": null,
   "id": "c848b309",
   "metadata": {},
   "outputs": [],
   "source": [
    "#print(np.sum(prob_to_write))"
   ]
  },
  {
   "cell_type": "code",
   "execution_count": null,
   "id": "433cef76",
   "metadata": {},
   "outputs": [],
   "source": [
    "#hp.mollview(prob_to_write, title=\"Mollview image NESTED\",nest=True)"
   ]
  },
  {
   "cell_type": "code",
   "execution_count": null,
   "id": "53b6fa15",
   "metadata": {},
   "outputs": [],
   "source": [
    "#my_sky_tosave=(prob_to_write,skymap[1],sigma,posteriorNorm)\n",
    "#my_sky_tosave=np.array([prob_to_write,mu,sigma,posteriorNorm])\n",
    "#dat=Table([prob_to_write,mu,sigma,posteriorNorm],\n",
    "#          names=('PROB','DISTMU','DISTSIGMA','DISTNORM'))\n",
    "#dat.write('Amap.fits',format='fits',overwrite=True)\n",
    "#fits.write_sky_map('Amap.fits',dat, nest=True)"
   ]
  },
  {
   "cell_type": "code",
   "execution_count": null,
   "id": "3ec58cb7",
   "metadata": {},
   "outputs": [],
   "source": [
    "#check result"
   ]
  },
  {
   "cell_type": "code",
   "execution_count": null,
   "id": "e927c5b8",
   "metadata": {},
   "outputs": [],
   "source": [
    "#my_data,my_meta=fits.read_sky_map(\"Amap.fits\",nest=None, distances=True)\n",
    "#print(my_meta)"
   ]
  },
  {
   "cell_type": "code",
   "execution_count": null,
   "id": "a039790c",
   "metadata": {},
   "outputs": [],
   "source": [
    "#hp.mollview(my_data[0], title=\"Mollview image NESTED\",nest=True)"
   ]
  },
  {
   "cell_type": "code",
   "execution_count": null,
   "id": "e75e0099",
   "metadata": {},
   "outputs": [],
   "source": [
    "#print(my_meta)"
   ]
  },
  {
   "cell_type": "code",
   "execution_count": null,
   "id": "dfdf7282",
   "metadata": {},
   "outputs": [],
   "source": [
    "#_read_O3('Amap.fits')"
   ]
  },
  {
   "cell_type": "code",
   "execution_count": null,
   "id": "2d74ea6d",
   "metadata": {},
   "outputs": [],
   "source": [
    "temp_theta,temp_phi=find_theta_phi(nside,np.argmax(gaussmap))\n",
    "temp_ra, temp_dec=find_ra_dec(nside,np.argmax(gaussmap))\n",
    "print('GW221005 location: theta={}, phi={}, RA={}, DEC={}'.format(temp_theta,temp_phi,temp_ra,temp_dec))"
   ]
  },
  {
   "cell_type": "code",
   "execution_count": null,
   "id": "bb87b61b",
   "metadata": {},
   "outputs": [],
   "source": []
  },
  {
   "cell_type": "code",
   "execution_count": null,
   "id": "1d53b221",
   "metadata": {},
   "outputs": [],
   "source": [
    "fname ='GW221900_PublicationSamples.fits'\n",
    "my_data,my_meta=fits.read_sky_map(fname,nest=None, distances=True)"
   ]
  },
  {
   "cell_type": "code",
   "execution_count": null,
   "id": "72bd2654",
   "metadata": {},
   "outputs": [],
   "source": [
    "my_prob=my_data[0]\n",
    "my_mu=my_data[1]\n",
    "my_sigma=my_data[2]\n",
    "npix = len(my_prob)\n",
    "nside=hp.npix2nside(npix)\n",
    "#my_mu[np.isinf(my_mu)]=0\n",
    "hp.mollview(my_prob, title=fname,nest=True)"
   ]
  },
  {
   "cell_type": "code",
   "execution_count": null,
   "id": "ee3856a0",
   "metadata": {},
   "outputs": [],
   "source": [
    "my_theta,my_phi=find_theta_phi(nside,np.argmax(my_prob))\n",
    "my_ra, my_dec=find_ra_dec(nside,np.argmax(my_prob))\n",
    "print('GW location: theta={}, phi={}, RA={}, DEC={}'.format(my_theta,my_phi,my_ra,my_dec))\n",
    "mu_avr=np.average(my_mu,weights=my_prob)\n",
    "print('average luminosity distance={} Mpc'.format(mu_avr))\n",
    "sig_avr=np.average(my_sigma,weights=my_prob)\n",
    "print('average luminosity distance Sigma={} Mpc'.format(sig_avr))\n",
    "z_gw=z_from_dL(mu_avr)\n",
    "print('redshift={}, in flagship cosmology'.format(z_gw))\n",
    "comov=mu_avr/(1+z_gw)\n",
    "print('comoving distance={}'.format(comov))"
   ]
  },
  {
   "cell_type": "code",
   "execution_count": null,
   "id": "96d5a6c4",
   "metadata": {},
   "outputs": [],
   "source": [
    "np.argmax(my_prob)\n",
    "maxtheta,maxphi=hp.pix2ang(nside, 841536)\n",
    "vicini=hp.get_all_neighbours(nside,maxtheta,maxphi)\n",
    "print(maxtheta,maxphi)\n",
    "print(vicini)"
   ]
  },
  {
   "cell_type": "code",
   "execution_count": null,
   "id": "e495e4d1",
   "metadata": {},
   "outputs": [],
   "source": [
    "for i in vicini:\n",
    "    maxtheta,maxphi=hp.pix2ang(nside, i, nest=True)\n",
    "    print(hp.get_all_neighbours(nside,maxtheta,maxphi,nest=True))"
   ]
  },
  {
   "cell_type": "code",
   "execution_count": null,
   "id": "5bfa8106",
   "metadata": {},
   "outputs": [],
   "source": [
    "if(np.isnan(my_prob).any()):\n",
    "    print(\"The Array contain NaN values\")\n",
    "else:\n",
    "    print(\"The Array does not contain NaN values\")\n",
    "if(np.isnan(my_mu).any()):\n",
    "    print(\"The Array contain NaN values\")\n",
    "else:\n",
    "    print(\"The Array does not contain NaN values\")\n",
    "    \n",
    "if(np.isinf(my_prob).any()):\n",
    "    print(\"The Array contain inf values\")\n",
    "else:\n",
    "    print(\"The Array does not contain inf values\")\n",
    "if(np.isinf(my_mu).any()):\n",
    "    print(\"The Array contain inf values\")\n",
    "else:\n",
    "    print(\"The Array does not contain inf values\")"
   ]
  },
  {
   "cell_type": "code",
   "execution_count": null,
   "id": "8d41312b",
   "metadata": {},
   "outputs": [],
   "source": [
    "credible_levels = find_greedy_credible_levels(gaussmap)\n",
    "Ligo_Area_99_deg=np.sum(credible_levels <= 0.99) * hp.nside2pixarea(nside, degrees=True)\n",
    "Ligo_Area_90_deg=np.sum(credible_levels <= 0.9) * hp.nside2pixarea(nside, degrees=True)\n",
    "print('Ligo area_deg 99% is {}\\nLigo area_deg 90% is {} '.format(Ligo_Area_99_deg,Ligo_Area_90_deg))\n"
   ]
  },
  {
   "cell_type": "code",
   "execution_count": null,
   "id": "c26238dc",
   "metadata": {},
   "outputs": [],
   "source": [
    "my_theta,my_phi=find_theta_phi(nside,np.argmax(my_prob))\n",
    "my_ra, my_dec=find_ra_dec(nside,np.argmax(my_prob))\n",
    "print('GW location: theta={}, phi={}, RA={}, DEC={}'.format(my_theta,my_phi,my_ra,my_dec))\n",
    "mu_avr=np.average(my_mu,weights=my_prob)\n",
    "print('average luminosity distance={} Mpc'.format(mu_avr))\n",
    "sig_avr=np.average(my_sigma,weights=my_prob)\n",
    "print('average luminosity distance Sigma={} Mpc'.format(sig_avr))\n",
    "z_gw=z_from_dL(mu_avr)\n",
    "print('redshift={}, in flagship cosmology'.format(z_gw))\n",
    "comov=mu_avr/(1+z_gw)\n",
    "print('comoving distance={}'.format(comov))"
   ]
  },
  {
   "cell_type": "code",
   "execution_count": null,
   "id": "46c0b100",
   "metadata": {},
   "outputs": [],
   "source": [
    "np.sum(my_mu[0:3]*my_prob[0:3])"
   ]
  },
  {
   "cell_type": "code",
   "execution_count": null,
   "id": "87f5aeff",
   "metadata": {},
   "outputs": [],
   "source": [
    "len(my_mu)==len(my_prob)"
   ]
  },
  {
   "cell_type": "markdown",
   "id": "6be4bcff",
   "metadata": {},
   "source": [
    "# Automatic Map Creator \n",
    "\n",
    "z_min=0.7887375950813293, z_max=2.0129446983337402\n",
    "ra_min=1.558116673550103e-05, ra_max=89.99999237060547\n",
    "dec_min=2.9646462280652486e-06, dec_max=89.98294830322266\n",
    "phi_min=2.7194266749575036e-07, phi_max=1.5707961320877075\n",
    "theta_min=0.0002976218846182377, theta_max=1.570796275052059"
   ]
  },
  {
   "cell_type": "code",
   "execution_count": 5,
   "id": "c670f1a8",
   "metadata": {},
   "outputs": [],
   "source": [
    "GW_data_path='/home/rciancarella/DarkSirensStat/data/GW/O3/'\n",
    "os.chdir(GW_data_path)"
   ]
  },
  {
   "cell_type": "code",
   "execution_count": 8,
   "id": "c730ece8",
   "metadata": {},
   "outputs": [
    {
     "name": "stdout",
     "output_type": "stream",
     "text": [
      "Fisher concentration Parameter k=4640.958140559668\n",
      "Sigma_theta=0.014678989991133373, Sigma_phi=0.014678989991133373\n",
      "Sigma_theta=0.84104417400672°, Sigma_phi=0.84104417400672°\n",
      "0.07339494995566687 19\n",
      "N=19,M=18, NxM=342\n"
     ]
    }
   ],
   "source": [
    "fisher=1\n",
    "if fisher==1:\n",
    "    radius_deg= np.sqrt(10/np.pi)\n",
    "    sigma90=radius_deg/np.sqrt(2)\n",
    "    sigma_deg=sigma90/1.5\n",
    "    circle_deg=6*sigma_deg\n",
    "    sigma_theta=np.radians(sigma_deg)\n",
    "    sigma_phi=np.radians(sigma_deg)\n",
    "    conc=1/(sigma_phi**2)\n",
    "    print('Fisher concentration Parameter k={}'.format(conc))\n",
    "    radius_rad=np.radians(circle_deg)\n",
    "else:\n",
    "    radius_deg= np.sqrt(10/np.pi)\n",
    "    sigma90=radius_deg/np.sqrt(2)\n",
    "    sigma_deg=sigma90/1.5\n",
    "    circle_deg=6*sigma_deg\n",
    "    sigma_theta=np.radians(sigma_deg)\n",
    "    sigma_phi=np.radians(sigma_deg)\n",
    "    radius_rad=np.radians(circle_deg)\n",
    "\n",
    "phi_min=0.0001\n",
    "phi_max=1.5707961320877075\n",
    "theta_min=0.0001976218846182377\n",
    "theta_max=1.570796275052059\n",
    "phi_start=phi_min+5*sigma_phi\n",
    "phi_stop=phi_max-5*sigma_phi\n",
    "step =5* sigma_phi\n",
    "N=np.floor((phi_stop-phi_start)/step)\n",
    "N=int(N)\n",
    "#----------------------uniform in comoving DS-----------------------------\n",
    "zlen=10\n",
    "allredshift=np.zeros(zlen)\n",
    "my_zmin=1.1\n",
    "my_zmax=1.3\n",
    "my_dcom_min=cosmoflag.comoving_distance(my_zmin).value\n",
    "my_dcom_max=cosmoflag.comoving_distance(my_zmax).value\n",
    "alldcom=np.linspace(my_dcom_min,my_dcom_max,zlen)\n",
    "for i in range(zlen):\n",
    "    allredshift[i]=z_from_dcom(alldcom[i])\n",
    "#-------------------------------------------------------------------------\n",
    "print('Sigma_theta={}, Sigma_phi={}'.format(sigma_theta,sigma_phi))\n",
    "print('Sigma_theta={}°, Sigma_phi={}°'.format(np.rad2deg(sigma_theta)\n",
    "                                              ,np.rad2deg(sigma_phi)))\n",
    "print(step, N)\n",
    "allphi=np.arange(0,N)*step+phi_start\n",
    "\n",
    "\n",
    "truethetamin=theta_min+6*sigma_theta\n",
    "truethetamax=theta_max-6*sigma_theta\n",
    "M=np.floor((truethetamax-truethetamin)/step)\n",
    "M=int(M)\n",
    "alltheta=np.arange(0,M)*step+truethetamin\n",
    "\n",
    "print('N={},M={}, NxM={}'.format(N,M,N*M))\n",
    "\n",
    "\n",
    "name='GW33xxxx_datasheet.txt'\n",
    "file= open(name,'w')\n",
    "my_header=['name\\t','dl\\t','theta\\t','phi\\t','z\\t','deltadl\\t','sigma_phi\\n']\n",
    "file.writelines(my_header)\n",
    "file.close()"
   ]
  },
  {
   "cell_type": "code",
   "execution_count": null,
   "id": "d57f6b82",
   "metadata": {},
   "outputs": [],
   "source": [
    "testdcom=np.linspace(my_dcom_min,my_dcom_max*2,30)\n",
    "testz=np.zeros(30)\n",
    "for i in range(len(testdcom)):\n",
    "    testz[i]=z_from_dcom(testdcom[i])\n",
    "    \n",
    "fig, ax = plt.subplots(1, figsize=(12,8)) #crea un tupla che poi è più semplice da gestire\n",
    "ax.tick_params(axis='both', which='major', labelsize=14)\n",
    "ax.yaxis.get_offset_text().set_fontsize(14)\n",
    "ax.grid(linestyle='dotted', linewidth='0.6')#griglia in sfondo\n",
    "colors=plt.cm.turbo(np.linspace(0.99,0.01,16))\n",
    "\n",
    "#ax.set_yscale('log')\n",
    "#ax.set_xscale('log')\n",
    "\n",
    "ax.scatter(alldcom/1000,allredshift,label='dc-z',color=colors[3])\n",
    "ax.scatter(testdcom/1000,testz,label='dc-z',color=colors[7])\n",
    "ax.set_xlabel(r'$dc$', fontsize=20)\n",
    "ax.set_ylabel(r'$z$', fontsize=20)"
   ]
  },
  {
   "cell_type": "code",
   "execution_count": 9,
   "id": "f8a206bf",
   "metadata": {},
   "outputs": [
    {
     "name": "stderr",
     "output_type": "stream",
     "text": [
      "100%|███████████████████████████████████████████████████████████████| 18/18 [01:00<00:00,  3.39s/it]\n"
     ]
    }
   ],
   "source": [
    "'''Use this when phi and theta both changes'''\n",
    "for j in tqdm(range(M)):\n",
    "    for k in range(N):\n",
    "        numevent=int(320000)+k+j*N\n",
    "        fname='GW'+str(numevent)+'_PublicationSamples.fits'\n",
    "        index=k%zlen\n",
    "        zref=allredshift[index]\n",
    "        DS_phi=allphi[k]\n",
    "        DS_theta=alltheta[j]\n",
    "        vec = hp.ang2vec(DS_theta, DS_phi)\n",
    "        ipix_disc = hp.query_disc(nside=nside, vec=vec, radius=radius_rad, nest=True)\n",
    "        #print(DS_theta,DS_phi)\n",
    "        if fisher==1:\n",
    "            gaussmap =np.zeros(len(p_posterior),dtype=np.float128)\n",
    "        else:\n",
    "            gaussmap =np.zeros(len(p_posterior))\n",
    "        mod_mu=np.zeros(len(p_posterior))\n",
    "        mod_sigma=np.zeros(len(p_posterior))\n",
    "        mod_postnorm=np.zeros(len(p_posterior))\n",
    "        theta_arr=np.zeros(len(p_posterior))\n",
    "        phi_arr=np.zeros(len(p_posterior))\n",
    "        gauss64 =np.zeros(len(p_posterior),dtype=np.float128)\n",
    "\n",
    "        dlref=cosmoflag.luminosity_distance(zref).value\n",
    "        dlsig=0.1*dlref\n",
    "        #print(zref,dlref)\n",
    "        line=[str(numevent)+'\\t',str(dlref)+'\\t',str(DS_theta)+'\\t',str(DS_phi)+'\\t',str(zref)+'\\t',\n",
    "             str(dlsig)+'\\t',str(sigma_phi)+'\\n']\n",
    "\n",
    "        for i in ipix_disc:\n",
    "            theta,phi=hp.pix2ang(nside,i, nest=True)\n",
    "            theta_arr[i]=theta\n",
    "            phi_arr[i]=phi\n",
    "            #gaussmap[i]=sphere_uncorr_gauss(theta,phi,DS_theta,DS_phi,sigma_theta,sigma_phi)*hp.nside2pixarea(nside,degrees=True)\n",
    "            gaussmap[i]=np.float128(Mises_Fisher(theta,phi,DS_theta,DS_phi,conc))*np.float128(hp.nside2pixarea(nside,degrees=False))\n",
    "            mod_mu[i]=dlref#uncorr_gauss(theta,phi)\n",
    "            mod_sigma[i]=dlsig\n",
    "            mod_postnorm[i]=1#/(mygaussint(mod_mu[i],mod_sigma[i]))\n",
    "        gaussmap[ipix_disc]=gaussmap[ipix_disc]/np.sum(gaussmap)\n",
    "        #mod_postnorm[ipix_disc]=mod_postnorm[ipix_disc]/(len(ipix_disc))\n",
    "        #mod_postnorm[ipix_disc]=1/len(ipix_disc)#gaussmap[ipix_disc]\n",
    "        \n",
    "        gauss64=np.float64(gaussmap)\n",
    "        dat=Table([gauss64,mod_mu,mod_sigma,mod_postnorm],\n",
    "              names=('PROB','DISTMU','DISTSIGMA','DISTNORM'))\n",
    "        fits.write_sky_map(fname,dat, nest=True)\n",
    "        with open(name,'a') as f:\n",
    "            f.writelines(line)"
   ]
  },
  {
   "cell_type": "code",
   "execution_count": null,
   "id": "ff890b29",
   "metadata": {},
   "outputs": [],
   "source": [
    "allredshift=np.linspace(1.1,1.3,10)\n",
    "fisher=1\n",
    "if fisher==1:\n",
    "    radius_deg= np.sqrt(10/np.pi)\n",
    "    sigma90=radius_deg/np.sqrt(2)\n",
    "    sigma_deg=sigma90/1.5\n",
    "    circle_deg=6*sigma_deg\n",
    "    sigma_theta=np.radians(sigma_deg)\n",
    "    sigma_phi=np.radians(sigma_deg)\n",
    "    conc=1/(sigma_phi**2)\n",
    "    #conc=4740\n",
    "    #sigma_phi=np.sqrt(1/conc)\n",
    "    #sigma_theta=sigma_phi\n",
    "    radius_rad=np.radians(circle_deg)\n",
    "for k in tqdm(range(10)):\n",
    "    numevent=int(220000)+k\n",
    "    fname='GW'+str(numevent)+'_PublicationSamples.fits'\n",
    "    zref=allredshift[k]\n",
    "    #print(zref)\n",
    "    DS_phi=np.pi/4\n",
    "    DS_theta=np.pi/4\n",
    "    vec = hp.ang2vec(DS_theta, DS_phi)\n",
    "    ipix_disc = hp.query_disc(nside=nside, vec=vec, radius=radius_rad, nest=True)\n",
    "    #print(DS_theta,DS_phi)\n",
    "    gaussmap =np.zeros(len(p_posterior),dtype=np.float128)\n",
    "    mod_mu=np.zeros(len(p_posterior))\n",
    "    mod_sigma=np.zeros(len(p_posterior))\n",
    "    mod_postnorm=np.zeros(len(p_posterior))\n",
    "    theta_arr=np.zeros(len(p_posterior))\n",
    "    phi_arr=np.zeros(len(p_posterior))\n",
    "\n",
    "    dlref=cosmoflag.luminosity_distance(zref).value\n",
    "    dlsig=0.01*dlref\n",
    "    line=[str(numevent)+'\\t',str(dlref)+'\\t',str(DS_theta)+'\\t',str(DS_phi)+'\\t',str(zref)+'\\t',\n",
    "         str(dlsig)+'\\n']\n",
    "    \n",
    "    for i in ipix_disc:\n",
    "        theta,phi=hp.pix2ang(nside,i, nest=True)\n",
    "        theta_arr[i]=theta\n",
    "        phi_arr[i]=phi\n",
    "        #gaussmap[i]=uncorr_gauss(theta,phi,DS_theta,DS_phi,sigma_theta,sigma_phi)*hp.nside2pixarea(nside,degrees=True)\n",
    "        gaussmap[i]=np.float128(Mises_Fisher(theta,phi,DS_theta,DS_phi,conc))*np.float128(hp.nside2pixarea(nside,degrees=False))\n",
    "        mod_mu[i]=dlref#uncorr_gauss(theta,phi)\n",
    "        mod_sigma[i]=dlsig\n",
    "        #mod_postnorm[i]=1/(mygaussint(mod_mu[i],mod_sigma[i]))\n",
    "    #gaussmap[ipix_disc] = 1/len(ipix_disc)\n",
    "    gaussmap[ipix_disc]=gaussmap[ipix_disc]/np.sum(gaussmap)\n",
    "    #mod_postnorm[ipix_disc]=1/(len(ipix_disc))\n",
    "    mod_postnorm[ipix_disc]=1\n",
    "    gauss64 =np.zeros(len(p_posterior),dtype=np.float128)\n",
    "    gauss64=np.float64(gaussmap)\n",
    "    dat=Table([gauss64,mod_mu,mod_sigma,mod_postnorm],\n",
    "          names=('PROB','DISTMU','DISTSIGMA','DISTNORM'))\n",
    "    fits.write_sky_map(fname,dat, nest=True)\n",
    "   # with open(name,'a') as f:\n",
    "    #    f.writelines(line)"
   ]
  },
  {
   "cell_type": "code",
   "execution_count": 19,
   "id": "7f167615",
   "metadata": {},
   "outputs": [],
   "source": [
    "fname ='GW330025_PublicationSamples.fits'\n",
    "my_data,my_meta=fits.read_sky_map(fname,nest=None, distances=True)"
   ]
  },
  {
   "cell_type": "code",
   "execution_count": 20,
   "id": "5f5c8293",
   "metadata": {},
   "outputs": [
    {
     "name": "stdout",
     "output_type": "stream",
     "text": [
      "0.9999999999999999 1525.0\n"
     ]
    },
    {
     "data": {
      "image/png": "[encoded data removed]",
      "text/plain": [
       "<Figure size 612x388.8 with 2 Axes>"
      ]
     },
     "metadata": {
      "needs_background": "light"
     },
     "output_type": "display_data"
    }
   ],
   "source": [
    "my_prob=my_data[0]\n",
    "my_mu=my_data[1]\n",
    "my_sigma=my_data[2]\n",
    "my_norm=my_data[3]\n",
    "npix = len(my_prob)\n",
    "nside=hp.npix2nside(npix)\n",
    "#my_mu[np.isinf(my_mu)]=0\n",
    "print(np.sum(my_prob),(np.sum(my_norm)))\n",
    "hp.mollview(my_prob, title=fname,nest=True)\n",
    "#gaussmap00=my_prob"
   ]
  },
  {
   "cell_type": "code",
   "execution_count": null,
   "id": "c17bbdb4",
   "metadata": {},
   "outputs": [],
   "source": [
    "fig = plt.subplots(1,figsize=(30,15))\n",
    "#collection=gaussmap00*my_prob\n",
    "#hp.cartview(collection,nest=True, hold=True)"
   ]
  },
  {
   "cell_type": "code",
   "execution_count": 21,
   "id": "c7a3bc40",
   "metadata": {},
   "outputs": [
    {
     "name": "stdout",
     "output_type": "stream",
     "text": [
      "Ligo area_deg 99% is 20.457782602022192\n",
      "Ligo area_deg 90% is 10.228891301011096 \n"
     ]
    }
   ],
   "source": [
    "credible_levels = find_greedy_credible_levels(my_prob)\n",
    "Ligo_Area_99_deg=np.sum(credible_levels <= 0.99) * hp.nside2pixarea(nside, degrees=True)\n",
    "Ligo_Area_90_deg=np.sum(credible_levels <= 0.9) * hp.nside2pixarea(nside, degrees=True)\n",
    "print('Ligo area_deg 99% is {}\\nLigo area_deg 90% is {} '.format(Ligo_Area_99_deg,Ligo_Area_90_deg))\n"
   ]
  },
  {
   "cell_type": "code",
   "execution_count": 22,
   "id": "c08db393",
   "metadata": {},
   "outputs": [
    {
     "name": "stdout",
     "output_type": "stream",
     "text": [
      "AngularProb\n",
      "The Array does not contain NaN values\n",
      "The Array does not contain inf values\n",
      "Mu\n",
      "The Array does not contain NaN values\n",
      "The Array does not contain inf values\n",
      "DistNorm\n",
      "The Array does not contain NaN values\n",
      "The Array does not contain inf values\n"
     ]
    }
   ],
   "source": [
    "print('AngularProb')\n",
    "if(np.isnan(my_prob).any()):\n",
    "    print(\"The Array contain NaN values\")\n",
    "else:\n",
    "    print(\"The Array does not contain NaN values\")\n",
    "if(np.isinf(my_prob).any()):\n",
    "    print(\"The Array contain inf values\")\n",
    "else:\n",
    "    print(\"The Array does not contain inf values\")\n",
    "    \n",
    "print('Mu')\n",
    "if(np.isnan(my_mu).any()):\n",
    "    print(\"The Array contain NaN values\")\n",
    "else:\n",
    "    print(\"The Array does not contain NaN values\")\n",
    "if(np.isinf(my_mu).any()):\n",
    "    print(\"The Array contain inf values\")\n",
    "else:\n",
    "    print(\"The Array does not contain inf values\")\n",
    "\n",
    "print('DistNorm')\n",
    "if(np.isnan(my_norm).any()):\n",
    "    print(\"The Array contain NaN values\")\n",
    "else:\n",
    "    print(\"The Array does not contain NaN values\")\n",
    "\n",
    "if(np.isinf(my_norm).any()):\n",
    "    print(\"The Array contain inf values\")\n",
    "else:\n",
    "    print(\"The Array does not contain inf values\")"
   ]
  },
  {
   "cell_type": "markdown",
   "id": "c35a08b8",
   "metadata": {},
   "source": [
    "# Generation by extraction from a Galaxy Catalogue"
   ]
  },
  {
   "cell_type": "code",
   "execution_count": 43,
   "id": "79517bf0",
   "metadata": {},
   "outputs": [],
   "source": [
    "#----------------Load the catalogue---------------------\n",
    "cat_data_path='/home/rciancarella/DarkSirensStat/data/GLADE/'\n",
    "os.chdir(cat_data_path)\n",
    "galcat = pd.read_csv('uniform_comoving_autoconsistent.txt', sep=\" \", header=None)\n",
    "colnames=['numevent','GWGC_name','HyperLEDA_name','2MASS_XSC_name','SDSS-DR12Q_name','type_flag','right_ascension_degrees',\n",
    "          'declination_degrees','dl','err_lum_dist','z','app_B_mag','err_app_B_mag','abs_B_mag','app_J_mag',\n",
    "          'err_app_J_mag','app_H_mag','err_app_H_mag','app_K_mag','err_app_K_mag','lum_dist_flag','pec_vel_correction'\n",
    "          ]\n",
    "galcat.columns=colnames\n",
    "os.chdir(GW_data_path)"
   ]
  },
  {
   "cell_type": "code",
   "execution_count": 44,
   "id": "80f301f1",
   "metadata": {},
   "outputs": [
    {
     "name": "stdout",
     "output_type": "stream",
     "text": [
      "1370955 0.21091615384615384\n",
      "342 5.2615384615384616e-05\n",
      "Fisher concentration Parameter k=4640.958140559668\n"
     ]
    }
   ],
   "source": [
    "#----------------------select random hosts ----------------------------------\n",
    "zmin=1.1\n",
    "zmax=1.3\n",
    "Numb_of_DS=342\n",
    "source=glacat[glacat['z']>=zmin]\n",
    "source=source[source['z']<=zmax]\n",
    "print(source.shape[0],source.shape[0]/galcat.shape[0])\n",
    "source=source.sample(n=Numb_of_DS)\n",
    "print(source.shape[0],source.shape[0]/galcat.shape[0])\n",
    "\n",
    "#Best would be to remove the selected one, make them host and then add those again, \n",
    "#since we are converting coordinates\n",
    "#pd.concat([df1, df2, df2]).drop_duplicates(keep=False)\n",
    "\n",
    "DS_z=np.asarray(source['z'])\n",
    "DS_dl=np.asarray(source['dl'])\n",
    "DS_RA=np.asarray(source['right_ascension_degrees'])\n",
    "DS_DEC=np.asarray(source['declination_degrees'])\n",
    "\n",
    "phi_gals=np.deg2rad(DS_RA)\n",
    "theta_gals = (0.5 * np.pi - np.deg2rad(DS_DEC))\n",
    "#ra_gals=ra = np.rad2deg(phi_gals)\n",
    "#dec_gals = np.rad2deg(0.5 * np.pi - theta_gals)\n",
    "\n",
    "#checkRA=DS_RA-ra_gals\n",
    "#chackDEC=DS_DEC-dec_gals\n",
    "#print(checkRA)\n",
    "#print(chackDEC)\n",
    "fisher=1\n",
    "if fisher==1:\n",
    "    radius_deg= np.sqrt(10/np.pi)\n",
    "    sigma90=radius_deg/np.sqrt(2)\n",
    "    sigma_deg=sigma90/1.5\n",
    "    circle_deg=6*sigma_deg\n",
    "    sigma_theta=np.radians(sigma_deg)\n",
    "    sigma_phi=np.radians(sigma_deg)\n",
    "    conc=1/(sigma_phi**2)\n",
    "    print('Fisher concentration Parameter k={}'.format(conc))\n",
    "    radius_rad=np.radians(circle_deg)\n",
    "else:\n",
    "    radius_deg= np.sqrt(10/np.pi)\n",
    "    sigma90=radius_deg/np.sqrt(2)\n",
    "    sigma_deg=sigma90/1.5\n",
    "    circle_deg=6*sigma_deg\n",
    "    sigma_theta=np.radians(sigma_deg)\n",
    "    sigma_phi=np.radians(sigma_deg)\n",
    "    radius_rad=np.radians(circle_deg)\n",
    "#-------------------DATASHEET--------------------------------------\n",
    "name='GW31xxxx_datasheet.txt'\n",
    "file= open(name,'w')\n",
    "my_header=['name\\t','dl\\t','theta\\t','phi\\t','z\\t','deltadl\\t','sigma_phi\\n']\n",
    "file.writelines(my_header)\n",
    "file.close()"
   ]
  },
  {
   "cell_type": "code",
   "execution_count": 45,
   "id": "ac67a6a2",
   "metadata": {},
   "outputs": [],
   "source": [
    "#ztest=np.linspace(0.9,1.5,150)\n",
    "#dltest=cosmoflag.luminosity_distance(ztest).value\n",
    "    \n",
    "#fig, ax = plt.subplots(1, figsize=(12,8)) #crea un tupla che poi è più semplice da gestire\n",
    "#ax.tick_params(axis='both', which='major', labelsize=14)\n",
    "#ax.yaxis.get_offset_text().set_fontsize(14)\n",
    "#ax.grid(linestyle='dotted', linewidth='0.6')#griglia in sfondo\n",
    "#colors=plt.cm.turbo(np.linspace(0.99,0.01,16))\n",
    "\n",
    "#ax.set_yscale('log')\n",
    "#ax.set_xscale('log')\n",
    "\n",
    "#ax.scatter(DS_z,DS_dl,label='catalog',color=colors[3])\n",
    "#ax.plot(ztest,dltest,label='theo',color=colors[11])\n",
    "#ax.set_xlabel(r'$z$', fontsize=20)\n",
    "#ax.set_ylabel(r'$dl$', fontsize=20)"
   ]
  },
  {
   "cell_type": "code",
   "execution_count": 46,
   "id": "604796aa",
   "metadata": {},
   "outputs": [
    {
     "name": "stderr",
     "output_type": "stream",
     "text": [
      "100%|█████████████████████████████████████████████████████████████| 342/342 [01:03<00:00,  5.38it/s]\n"
     ]
    }
   ],
   "source": [
    "#--------------------Maps Generations-------------------------------\n",
    "'''Use this when phi and theta both changes'''\n",
    "for i in tqdm(range(Numb_of_DS)):\n",
    "    numevent=int(310000)+i\n",
    "    fname='GW'+str(numevent)+'_PublicationSamples.fits'\n",
    "    zref=DS_z[i]\n",
    "    DS_phi=phi_gals[i]\n",
    "    DS_theta=theta_gals[i]\n",
    "    vec = hp.ang2vec(DS_theta, DS_phi)\n",
    "    ipix_disc = hp.query_disc(nside=nside, vec=vec, radius=radius_rad, nest=True)\n",
    "    #print(DS_theta,DS_phi)\n",
    "    if fisher==1:\n",
    "        gaussmap =np.zeros(len(p_posterior),dtype=np.float128)\n",
    "    else:\n",
    "        gaussmap =np.zeros(len(p_posterior))\n",
    "     #-------------inizialising some arrays------------   \n",
    "    mod_mu=np.zeros(len(p_posterior))\n",
    "    mod_sigma=np.zeros(len(p_posterior))\n",
    "    mod_postnorm=np.zeros(len(p_posterior))\n",
    "    theta_arr=np.zeros(len(p_posterior))\n",
    "    phi_arr=np.zeros(len(p_posterior))\n",
    "    gauss64 =np.zeros(len(p_posterior),dtype=np.float128)\n",
    "\n",
    "    dlref=DS_dl[i]#cosmoflag.luminosity_distance(zref).value\n",
    "    dlsig=0.01*dlref\n",
    "    #print(zref,dlref)\n",
    "    line=[str(numevent)+'\\t',str(dlref)+'\\t',str(DS_theta)+'\\t',str(DS_phi)+'\\t',str(zref)+'\\t',\n",
    "         str(dlsig)+'\\t',str(sigma_phi)+'\\n']\n",
    "\n",
    "    for i in ipix_disc:\n",
    "        theta,phi=hp.pix2ang(nside,i, nest=True)\n",
    "        theta_arr[i]=theta\n",
    "        phi_arr[i]=phi\n",
    "        #gaussmap[i]=sphere_uncorr_gauss(theta,phi,DS_theta,DS_phi,sigma_theta,sigma_phi)*hp.nside2pixarea(nside,degrees=True)\n",
    "        gaussmap[i]=np.float128(Mises_Fisher(theta,phi,DS_theta,DS_phi,conc))*np.float128(hp.nside2pixarea(nside,degrees=False))\n",
    "        mod_mu[i]=dlref#uncorr_gauss(theta,phi)\n",
    "        mod_sigma[i]=dlsig\n",
    "        mod_postnorm[i]=1#/(mygaussint(mod_mu[i],mod_sigma[i]))\n",
    "    gaussmap[ipix_disc]=gaussmap[ipix_disc]/np.sum(gaussmap)\n",
    "    #mod_postnorm[ipix_disc]=mod_postnorm[ipix_disc]/(len(ipix_disc))\n",
    "    #mod_postnorm[ipix_disc]=1/len(ipix_disc)#gaussmap[ipix_disc]\n",
    "\n",
    "    gauss64=np.float64(gaussmap)\n",
    "    dat=Table([gauss64,mod_mu,mod_sigma,mod_postnorm],\n",
    "          names=('PROB','DISTMU','DISTSIGMA','DISTNORM'))\n",
    "    fits.write_sky_map(fname,dat, nest=True)\n",
    "    with open(name,'a') as f:\n",
    "        f.writelines(line)"
   ]
  },
  {
   "cell_type": "markdown",
   "id": "8ff35644",
   "metadata": {},
   "source": [
    "# List Creator to config.py"
   ]
  },
  {
   "cell_type": "code",
   "execution_count": 12,
   "id": "4506fbed",
   "metadata": {
    "scrolled": false
   },
   "outputs": [
    {
     "name": "stdout",
     "output_type": "stream",
     "text": [
      "'GW320000','GW320001','GW320002','GW320003','GW320004','GW320005','GW320006','GW320007','GW320008','GW320009','GW320010','GW320011','GW320012','GW320013','GW320014','GW320015','GW320016','GW320017','GW320018','GW320019','GW320020','GW320021','GW320022','GW320023','GW320024','GW320025','GW320026','GW320027','GW320028','GW320029'\n",
      "'GW320030','GW320031','GW320032','GW320033','GW320034','GW320035','GW320036','GW320037','GW320038','GW320039','GW320040','GW320041','GW320042','GW320043','GW320044','GW320045','GW320046','GW320047','GW320048','GW320049','GW320050','GW320051','GW320052','GW320053','GW320054','GW320055','GW320056','GW320057','GW320058'\n",
      "'GW320059','GW320060','GW320061','GW320062','GW320063','GW320064','GW320065','GW320066','GW320067','GW320068','GW320069','GW320070','GW320071','GW320072','GW320073','GW320074','GW320075','GW320076','GW320077','GW320078','GW320079','GW320080','GW320081','GW320082','GW320083','GW320084','GW320085','GW320086','GW320087'\n",
      "'GW320088','GW320089','GW320090','GW320091','GW320092','GW320093','GW320094','GW320095','GW320096','GW320097','GW320098','GW320099','GW320100','GW320101','GW320102','GW320103','GW320104','GW320105','GW320106','GW320107','GW320108','GW320109','GW320110','GW320111','GW320112','GW320113','GW320114','GW320115','GW320116'\n",
      "'GW320117','GW320118','GW320119','GW320120','GW320121','GW320122','GW320123','GW320124','GW320125','GW320126','GW320127','GW320128','GW320129','GW320130','GW320131','GW320132','GW320133','GW320134','GW320135','GW320136','GW320137','GW320138','GW320139','GW320140','GW320141','GW320142','GW320143','GW320144','GW320145'\n",
      "'GW320146','GW320147','GW320148','GW320149','GW320150','GW320151','GW320152','GW320153','GW320154','GW320155','GW320156','GW320157','GW320158','GW320159','GW320160','GW320161','GW320162','GW320163','GW320164','GW320165','GW320166','GW320167','GW320168','GW320169','GW320170','GW320171','GW320172','GW320173','GW320174'\n",
      "'GW320175','GW320176','GW320177','GW320178','GW320179','GW320180','GW320181','GW320182','GW320183','GW320184','GW320185','GW320186','GW320187','GW320188','GW320189','GW320190','GW320191','GW320192','GW320193','GW320194','GW320195','GW320196','GW320197','GW320198','GW320199','GW320200','GW320201','GW320202','GW320203'\n",
      "'GW320204','GW320205','GW320206','GW320207','GW320208','GW320209','GW320210','GW320211','GW320212','GW320213','GW320214','GW320215','GW320216','GW320217','GW320218','GW320219','GW320220','GW320221','GW320222','GW320223','GW320224','GW320225','GW320226','GW320227','GW320228','GW320229','GW320230','GW320231','GW320232'\n",
      "'GW320233','GW320234','GW320235','GW320236','GW320237','GW320238','GW320239','GW320240','GW320241','GW320242','GW320243','GW320244','GW320245','GW320246','GW320247','GW320248','GW320249','GW320250','GW320251','GW320252','GW320253','GW320254','GW320255','GW320256','GW320257','GW320258','GW320259','GW320260','GW320261'\n",
      "'GW320262','GW320263','GW320264','GW320265','GW320266','GW320267','GW320268','GW320269','GW320270','GW320271','GW320272','GW320273','GW320274','GW320275','GW320276','GW320277','GW320278','GW320279','GW320280','GW320281','GW320282','GW320283','GW320284','GW320285','GW320286','GW320287','GW320288','GW320289','GW320290'\n",
      "'GW320291','GW320292','GW320293','GW320294','GW320295','GW320296','GW320297','GW320298','GW320299','GW320300','GW320301','GW320302','GW320303','GW320304','GW320305','GW320306','GW320307','GW320308','GW320309','GW320310','GW320311','GW320312','GW320313','GW320314','GW320315','GW320316','GW320317','GW320318','GW320319'\n",
      "'GW320320','GW320321','GW320322','GW320323','GW320324','GW320325','GW320326','GW320327','GW320328','GW320329','GW320330','GW320331','GW320332','GW320333','GW320334','GW320335','GW320336','GW320337','GW320338','GW320339','GW320340','GW320341','GW320342','GW320343','GW320344','GW320345','GW320346','GW320347','GW320348'\n"
     ]
    }
   ],
   "source": [
    "names=[]\n",
    "\n",
    "for i in range(350):\n",
    "    numevent=int(320000)+i\n",
    "    fname=\"'\"+'GW'+str(numevent)+\"'\"\n",
    "    names.append(fname)\n",
    "    if (i % 29== 0)&(i>0):\n",
    "        to_print=','.join(names)\n",
    "        print('{}'.format(to_print))\n",
    "        names=[]"
   ]
  },
  {
   "cell_type": "code",
   "execution_count": null,
   "id": "5a325ce5",
   "metadata": {},
   "outputs": [],
   "source": [
    "test=np.asarray(range(10))\n",
    "base=len(test)\n",
    "for i in range(23):\n",
    "    index= i%10\n",
    "    a=test[index]\n",
    "    print(index)"
   ]
  },
  {
   "cell_type": "code",
   "execution_count": null,
   "id": "8e084671",
   "metadata": {},
   "outputs": [],
   "source": [
    "radius_deg= np.sqrt(10/np.pi)\n",
    "print(circle_deg)"
   ]
  },
  {
   "cell_type": "code",
   "execution_count": null,
   "id": "d261f03e",
   "metadata": {},
   "outputs": [],
   "source": [
    "myz=np.linspace(0.8,2,50)\n",
    "mydl=cosmoflag.luminosity_distance(myz).value\n",
    "mycd=cosmoflag.comoving_distance(myz).value"
   ]
  },
  {
   "cell_type": "code",
   "execution_count": null,
   "id": "97c82e1f",
   "metadata": {},
   "outputs": [],
   "source": [
    "plt.rcParams.update({'font.size': 20})\n",
    "plt.figure(figsize=(15,10))\n",
    "plt.title('DL vs DC')\n",
    "#plt.plot(myz,mycd,color='k')\n",
    "plt.plot(mycd,mydl,color='#607c8e')\n",
    "plt.plot(mycd,mycd,color='g')\n",
    "plt.xlabel('dc')\n",
    "plt.ylabel('dl')\n",
    "plt.grid(axis='y', alpha=0.75)"
   ]
  },
  {
   "cell_type": "code",
   "execution_count": null,
   "id": "5be13418",
   "metadata": {},
   "outputs": [],
   "source": []
  }
 ],
 "metadata": {
  "kernelspec": {
   "display_name": "Python 3 (ipykernel)",
   "language": "python",
   "name": "python3"
  },
  "language_info": {
   "codemirror_mode": {
    "name": "ipython",
    "version": 3
   },
   "file_extension": ".py",
   "mimetype": "text/x-python",
   "name": "python",
   "nbconvert_exporter": "python",
   "pygments_lexer": "ipython3",
   "version": "3.10.6"
  }
 },
 "nbformat": 4,
 "nbformat_minor": 5
}
