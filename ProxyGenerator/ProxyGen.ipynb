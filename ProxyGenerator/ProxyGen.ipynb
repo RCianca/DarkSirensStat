{
 "cells": [
  {
   "cell_type": "code",
   "execution_count": 8,
   "id": "9abeb70a",
   "metadata": {},
   "outputs": [],
   "source": [
    "import pandas as pd\n",
    "import numpy as np\n",
    "import healpy as hp\n",
    "import matplotlib.pyplot as plt\n",
    "import scipy\n",
    "\n",
    "from astropy.cosmology import Planck15\n",
    "from astropy.cosmology import FlatLambdaCDM\n",
    "from astropy.table import Table\n",
    "import astropy \n",
    "from ligo.skymap.io import fits\n",
    "from ligo.skymap.postprocess import find_greedy_credible_levels\n",
    "\n",
    "import os\n",
    "from os import listdir\n",
    "from os.path import isfile, join\n",
    "\n",
    "import sys\n",
    "from tqdm import tqdm\n",
    "\n",
    "H0GLOB=67 #69\n",
    "Om0GLOB=0.319\n",
    "Xi0Glob =1.\n",
    "cosmoglob = Planck15\n",
    "clight = 2.99792458* 10**5#km/s\n",
    "cosmoflag = FlatLambdaCDM(H0=H0GLOB, Om0=Om0GLOB)\n"
   ]
  },
  {
   "cell_type": "code",
   "execution_count": 9,
   "id": "b46975ce",
   "metadata": {},
   "outputs": [],
   "source": [
    "def get_ename(fname, verbose=True):\n",
    "\n",
    "        if len(fname.split('/')[-1].split('_')) <= 2:    #Same as before since certain names contain a \"_\"\n",
    "            event_name = fname.split('/')[-1].split('_')[0]\n",
    "        elif len(fname.split('/')[-1].split('_')) > 2:\n",
    "            event_name = fname.split('/')[-1].split('_')[0]+'_'+fname.split('/')[-1].split('_')[1]\n",
    "        else:\n",
    "            raise ValueError('Could not set event name. Got fname= %s'%fname)\n",
    "        if verbose:\n",
    "            print('-- %s' %event_name)\n",
    "        return event_name\n",
    "    \n",
    "def find_ra_dec(nside, pix):\n",
    "        '''\n",
    "        input:  pixel ra dec in degrees\n",
    "        output: (ra, dec) of pixel center in degrees, with nside given by that of the skymap \n",
    "        '''\n",
    "        theta, phi =find_theta_phi(nside,pix)\n",
    "        ra, dec = ra_dec_from_th_phi(theta, phi)\n",
    "        return ra, dec    \n",
    "    \n",
    "def ra_dec_from_th_phi(theta, phi):\n",
    "        ra = np.rad2deg(phi)\n",
    "        dec = np.rad2deg(0.5 * np.pi - theta)\n",
    "        return ra, dec\n",
    "    \n",
    "def find_theta_phi(nside, pix):\n",
    "        '''\n",
    "        input:  pixel\n",
    "        output: (theta, phi)of pixel center in rad, with nside given by that of the skymap \n",
    "        '''\n",
    "        return hp.pix2ang(nside, pix, nest=True)\n",
    "    \n",
    "def _read_O3( fname, convert_nested=True):\n",
    "        \n",
    "        skymap, metadata = fits.read_sky_map(fname, nest=None, distances=True) #Read the skymap\n",
    "        event_name = get_ename(fname, verbose=True)\n",
    "        print('Event: %s' %event_name)\n",
    "        if (convert_nested) & (metadata['nest']): #If one wants RING ordering (the one of O2 data afaik) just has to set \"convert_nested\" to True\n",
    "            p_posterior = hp.reorder(skymap[0],n2r=True)\n",
    "            mu = hp.reorder(skymap[1],n2r=True)\n",
    "            sigma = hp.reorder(skymap[2],n2r=True)\n",
    "            posteriorNorm = hp.reorder(skymap[3],n2r=True)\n",
    "            print('convertito da nested a ring')\n",
    "        else:\n",
    "            p_posterior= skymap[0]\n",
    "            mu= skymap[1]\n",
    "            sigma = skymap[2]\n",
    "            posteriorNorm= skymap[3]        \n",
    "        npix = len(p_posterior)\n",
    "        nside=hp.npix2nside(npix)\n",
    "        theta,phi=find_theta_phi(nside,np.argmax(p_posterior))\n",
    "        #print('Theta={}, Phi={}'.format(theta, phi))\n",
    "        #ra, dec=find_ra_dec(nside,np.argmax(p_posterior))\n",
    "        #print('Right Ascension={}, Declination={}'.format(ra, dec))\n",
    "        #print(metadata)\n",
    "        #dl=metadata['distmean']\n",
    "        #std=metadata['diststd']\n",
    "        #z=cosmoglob.H(0).value*dl/clight\n",
    "        #sigz=cosmoglob.H(0).value*std/clight\n",
    "        #print('dL={}Mpc, std={}Mpc'.format(dl,std))\n",
    "        #print('z={}, delta_z={}'.format(z,sigz))\n",
    "        #print('\\n')\n",
    "        head = None\n",
    "def z_from_dL(dL_GW_val):\n",
    "    '''\n",
    "    Returns redshift for a given luminosity distance dL_GW_val (in Mpc)\n",
    "    \n",
    "    Input:\n",
    "        - dL_GW_val luminosity dist in Mpc\n",
    "        - H0\n",
    "        - Xi0: float. Value of Xi_0\n",
    "        - n: float. Value of n\n",
    "\n",
    "    '''   \n",
    "    from scipy.optimize import fsolve\n",
    "    #print(cosmo.H0)\n",
    "    func = lambda z : cosmoflag.luminosity_distance(z).value - dL_GW_val\n",
    "    z = fsolve(func, 1)\n",
    "    return z[0]\n",
    "\n",
    "def mygaussint(prov_mu,prov_sigma,rho=1):\n",
    "    first=np.exp(-(prov_mu**2)/(2*prov_sigma**2))*prov_mu*rho*prov_sigma/np.sqrt(2*np.pi)\n",
    "    factor=0.5*rho*(prov_mu**2+prov_sigma**2)\n",
    "    second=(1+scipy.special.erf(prov_mu/(np.sqrt(2)*prov_sigma)))\n",
    "    ret=first+factor*second\n",
    "    return ret\n",
    "\n",
    "def sphere_uncorr_gauss(x,y,mux,muy,sigx,sigy):\n",
    "    #correlation is 0 so is a multiplication of two gaussians\n",
    "    #x is theta, y is phi\n",
    "    meanvec=hp.ang2vec(mux,muy)\n",
    "    meanvec=np.asarray(meanvec)\n",
    "    norm=np.sqrt(np.dot(meanvec,meanvec))\n",
    "    meanvec=meanvec/norm\n",
    "    \n",
    "    var=hp.ang2vec(x,y)\n",
    "    var=np.asarray(var)\n",
    "    norm=np.sqrt(np.dot(var,var))\n",
    "    var=var/norm\n",
    "    \n",
    "    diff=meanvec-var\n",
    "    diff_len=np.sqrt(np.dot(diff,diff))\n",
    "    #xfactor=((x-mux)/sigx)**2\n",
    "    #yfactor=((y*(1-np.sin(y))-muy*(1-np.sin(muy)))/sigy)**2\n",
    "    #yfactor=((y-muy)/sigy)**2\n",
    "    #norm=2*np.pi*sigx*sigy\n",
    "    factor=((diff_len)/sigy)**2\n",
    "    ret=np.exp(-(1/2)*(factor))#/norm\n",
    "    return ret\n",
    "\n",
    "def Mises_Fisher(theta,phi,DS_theta,DS_phi,conc):\n",
    "    meanvec=hp.ang2vec(DS_theta,DS_phi)\n",
    "    meanvec=np.asarray(meanvec,dtype=np.float128)\n",
    "    norm=np.sqrt(np.dot(meanvec,meanvec))\n",
    "    meanvec=meanvec/norm\n",
    "    \n",
    "    var=hp.ang2vec(theta,phi)\n",
    "    var=np.asarray(var,dtype=np.float128)\n",
    "    norm=np.sqrt(np.dot(var,var))\n",
    "    var=var/norm\n",
    "    \n",
    "    factor=np.dot(conc*var,meanvec)\n",
    "    factor=np.float128(factor)\n",
    "    #Normalization is futile, we will devide by the sum\n",
    "    #fullnorm=conc/(2*np.pi*(np.exp(conc)-np.exp(-conc)))\n",
    "    ret=np.float128(np.exp(factor))#/fullnorm\n",
    "    #ret=factor\n",
    "    return ret"
   ]
  },
  {
   "cell_type": "code",
   "execution_count": 18,
   "id": "ec25c485",
   "metadata": {},
   "outputs": [],
   "source": [
    "#GWdata path\n",
    "GW_data_path='/home/rciancarella/DarkSirensStat/data/GW/Hold_O3/'\n",
    "os.chdir(GW_data_path)\n",
    "#all_event=os.listdir()\n"
   ]
  },
  {
   "cell_type": "markdown",
   "id": "24d9987e",
   "metadata": {},
   "source": [
    "  # Function to exploit, find how to localise an event and produce a proxy one. \n",
    "   def _read_O3(self, fname, convert_nested=True):\n",
    "        \n",
    "   skymap, metadata = fits.read_sky_map(fname, nest=None, distances=True) #Read the skymap\n",
    "        self.event_name = get_ename(fname, verbose=self.verbose)\n",
    "        if self.verbose:\n",
    "                print('\\nEvent: %s' %self.event_name)\n",
    "                #Raul: prints for control\n",
    "                print('Delta=%s. If delta=1, normal run '%delta)\n",
    "        if (convert_nested) & (metadata['nest']): #If one wants RING ordering (the one of O2 data afaik) just has to set \"convert_nested\" to True\n",
    "            self.p_posterior = hp.reorder(skymap[0],n2r=True)\n",
    "            self.mu = hp.reorder(skymap[1],n2r=True)\n",
    "            self.sigma = hp.reorder(skymap[2],n2r=True)*delta\n",
    "            self.posteriorNorm = hp.reorder(skymap[3],n2r=True)\n",
    "        else:\n",
    "            self.p_posterior= skymap[0]\n",
    "            self.mu= skymap[1]\n",
    "            self.sigma = skymap[2]*delta\n",
    "            self.posteriorNorm= skymap[3]    "
   ]
  },
  {
   "cell_type": "code",
   "execution_count": 20,
   "id": "8c88ee72",
   "metadata": {},
   "outputs": [
    {
     "name": "stdout",
     "output_type": "stream",
     "text": [
      "GW190814_PublicationSamples.fits\n",
      "RA=12.7001953125,dec=-24.87076339473571,theta=2.004873035517517,phi=0.22166022384947515\n",
      "Dl=235.45665178530027\n",
      "average luminosity distance Sigma=26.530261090991182 Mpc\n",
      "GW190924_021846_PublicationSamples.fits\n",
      "RA=127.265625,dec=16.25709623792208,theta=1.2870564706295728,phi=2.2212041808584084\n",
      "Dl=499.3721200365884\n",
      "average luminosity distance Sigma=134.49092733306685 Mpc\n",
      "GW190412_PublicationSamples.fits\n",
      "RA=218.4521484375,dec=36.42357364233115,theta=0.9350850413935945,phi=3.812709248289761\n",
      "Dl=714.0899052030237\n",
      "average luminosity distance Sigma=92.22291002240516 Mpc\n",
      "GW190915_235702_PublicationSamples.fits\n",
      "RA=195.46875,dec=37.26258031838149,theta=0.9204416124503026,phi=3.411573272257666\n",
      "Dl=1591.1906291650755\n",
      "average luminosity distance Sigma=422.8751010649481 Mpc\n",
      "GW190708_232457_PublicationSamples.fits\n",
      "RA=199.77272727272725,dec=65.69633519657744,theta=0.4241789711207841,phi=3.4866918465977625\n",
      "Dl=867.5678481523114\n",
      "average luminosity distance Sigma=195.88865316558437 Mpc\n",
      "GW190421_213856_PublicationSamples.fits\n",
      "RA=205.30042918454936,dec=-46.3750811884355,theta=2.380194184412781,phi=3.5831684450278436\n",
      "Dl=3003.725271530694\n",
      "average luminosity distance Sigma=822.948525148932 Mpc\n",
      "GW190527_092055_PublicationSamples.fits\n",
      "RA=39.14383561643836,dec=-63.07261938698223,theta=2.671621202954944,phi=0.6831888133662736\n",
      "Dl=116.24292364482653\n",
      "average luminosity distance Sigma=3139.079208227675 Mpc\n",
      "1003.9493356454028\n"
     ]
    }
   ],
   "source": [
    "#Some files to look at \n",
    "filenames=['GW190814_PublicationSamples.fits',\n",
    "           'GW190924_021846_PublicationSamples.fits',\n",
    "           'GW190412_PublicationSamples.fits',\n",
    "           'GW190915_235702_PublicationSamples.fits',\n",
    "           'GW190708_232457_PublicationSamples.fits',\n",
    "           'GW190421_213856_PublicationSamples.fits',\n",
    "           'GW190527_092055_PublicationSamples.fits' \n",
    "           ]\n",
    "########################## THIS GIVE US SOME INFO ######################################\n",
    "#for name in filenames:\n",
    "#    _read_O3(name)\n",
    "########################################################################################\n",
    "fname ='GW190814_PublicationSamples.fits'\n",
    "alldl=[]\n",
    "for fname in filenames:\n",
    "    print(fname)\n",
    "    skymap, metadata = fits.read_sky_map(fname, nest=None, distances=True)\n",
    "    p_posterior= skymap[0]\n",
    "    mu= skymap[1]\n",
    "    sigma = skymap[2]\n",
    "    posteriorNorm= skymap[3]        \n",
    "    npix = len(p_posterior)\n",
    "    nside=hp.npix2nside(npix)\n",
    "    theta,phi=find_theta_phi(nside,np.argmax(p_posterior))\n",
    "    ra, dec=find_ra_dec(nside,np.argmax(p_posterior))\n",
    "    print('RA={},dec={},theta={},phi={}'.format(ra,dec,theta,phi))\n",
    "#10 deg^2 =0.000 304 617 419 786 71 sr\n",
    "    radius_deg= np.sqrt(30/np.pi)\n",
    "    sigma_deg=radius_deg/2.8\n",
    "    circle_deg=6*sigma_deg\n",
    "    alldl.append(mu[np.argmax(p_posterior)])\n",
    "    print('Dl={}'.format(mu[np.argmax(p_posterior)]))\n",
    "    sig_avr=np.average(sigma,weights=p_posterior)\n",
    "    print('average luminosity distance Sigma={} Mpc'.format(sig_avr))\n",
    "alldl=np.asarray(alldl)\n",
    "print(np.mean(alldl))"
   ]
  },
  {
   "cell_type": "code",
   "execution_count": null,
   "id": "b6ea4dcc",
   "metadata": {},
   "outputs": [],
   "source": [
    "my_theta,my_phi=hp.pix2ang(nside, np.argmax(p_posterior), nest=True)\n",
    "vec = hp.ang2vec(my_theta, my_phi)\n",
    "my_maxpix=hp.ang2pix(nside, my_theta, my_phi,nest=True)\n",
    "maxpix=np.argmax(p_posterior)\n",
    "print(maxpix,my_maxpix)"
   ]
  },
  {
   "cell_type": "code",
   "execution_count": null,
   "id": "2d819853",
   "metadata": {},
   "outputs": [],
   "source": [
    "print(vec)"
   ]
  },
  {
   "cell_type": "code",
   "execution_count": null,
   "id": "efdfa4b7",
   "metadata": {},
   "outputs": [],
   "source": [
    "hp.mollview(p_posterior, title=fname,nest=True)"
   ]
  },
  {
   "cell_type": "code",
   "execution_count": null,
   "id": "59e0ee66",
   "metadata": {},
   "outputs": [],
   "source": [
    "credible_levels = find_greedy_credible_levels(p_posterior)\n",
    "Ligo_Area_99_deg=np.sum(credible_levels <= 0.99) * hp.nside2pixarea(nside, degrees=True)\n",
    "Ligo_Area_90_deg=np.sum(credible_levels <= 0.9) * hp.nside2pixarea(nside, degrees=True)\n",
    "print('Ligo area_deg 99% is {}\\nLigo area_deg 90% is {} '.format(Ligo_Area_99_deg,Ligo_Area_90_deg))"
   ]
  },
  {
   "cell_type": "code",
   "execution_count": null,
   "id": "2c8f5d9e",
   "metadata": {},
   "outputs": [],
   "source": [
    "_read_O3(fname)"
   ]
  },
  {
   "cell_type": "code",
   "execution_count": null,
   "id": "f247f052",
   "metadata": {},
   "outputs": [],
   "source": [
    "vec = hp.ang2vec(my_theta, my_phi)\n",
    "ipix_disc = hp.query_disc(nside=nside, vec=vec, radius=np.radians(circle_deg), nest=True)\n",
    "ipix_90 = hp.query_disc(nside=nside, vec=vec, radius=np.radians(radius_deg), nest=True)\n",
    "m =np.zeros(len(p_posterior))\n",
    "m[ipix_disc] = 1/len(ipix_disc)\n",
    "hp.mollview(m, title=\"Gaussian Mask\",nest=True)"
   ]
  },
  {
   "cell_type": "code",
   "execution_count": null,
   "id": "cfab7d03",
   "metadata": {},
   "outputs": [],
   "source": [
    "Mock_Area_deg=len(ipix_disc) * hp.nside2pixarea(nside, degrees=True)\n",
    "Mock_Area_90_deg=len(ipix_90) *hp.nside2pixarea(nside, degrees=True)\n",
    "print('99.9999% area is {} squared deg\\n90% area is {} squared deg'.format(Mock_Area_deg,Mock_Area_90_deg))"
   ]
  },
  {
   "cell_type": "code",
   "execution_count": null,
   "id": "545c8fc4",
   "metadata": {},
   "outputs": [],
   "source": [
    "'''\n",
    "https://emfollow.docs.ligo.org/userguide/tutorial/skymaps.html(for ref on skymap)\n",
    "\n",
    "Now we need to rescale the probability. We set the prob=0 ouside the circle\n",
    "We assume that the renormalization is constant.\n",
    "We crate a mask with our circle. Outside the mask p_posterior=0, the renormalization\n",
    "constan alpha, is therefore 1/sum(p_posterior()). This ensure unitarity. \n",
    "\n",
    "If this works, than we will use a 2D Gaussian distribution for the probability\n",
    "\n",
    "'''\n"
   ]
  },
  {
   "cell_type": "code",
   "execution_count": null,
   "id": "91d08948",
   "metadata": {},
   "outputs": [],
   "source": [
    "#saved_prob=np.zeros(len(p_posterior))\n",
    "#saved_prob[ipix_disc]=p_posterior[ipix_disc]\n",
    "#prob_to_write=np.zeros(len(p_posterior))\n",
    "#alpha=1/np.sum(saved_prob)\n",
    "#prob_to_write[ipix_disc]=alpha*saved_prob[ipix_disc]"
   ]
  },
  {
   "cell_type": "code",
   "execution_count": null,
   "id": "c848b309",
   "metadata": {},
   "outputs": [],
   "source": [
    "#print(np.sum(prob_to_write))"
   ]
  },
  {
   "cell_type": "code",
   "execution_count": null,
   "id": "433cef76",
   "metadata": {},
   "outputs": [],
   "source": [
    "#hp.mollview(prob_to_write, title=\"Mollview image NESTED\",nest=True)"
   ]
  },
  {
   "cell_type": "code",
   "execution_count": null,
   "id": "53b6fa15",
   "metadata": {},
   "outputs": [],
   "source": [
    "#my_sky_tosave=(prob_to_write,skymap[1],sigma,posteriorNorm)\n",
    "#my_sky_tosave=np.array([prob_to_write,mu,sigma,posteriorNorm])\n",
    "#dat=Table([prob_to_write,mu,sigma,posteriorNorm],\n",
    "#          names=('PROB','DISTMU','DISTSIGMA','DISTNORM'))\n",
    "#dat.write('Amap.fits',format='fits',overwrite=True)\n",
    "#fits.write_sky_map('Amap.fits',dat, nest=True)"
   ]
  },
  {
   "cell_type": "code",
   "execution_count": null,
   "id": "3ec58cb7",
   "metadata": {},
   "outputs": [],
   "source": [
    "#check result"
   ]
  },
  {
   "cell_type": "code",
   "execution_count": null,
   "id": "e927c5b8",
   "metadata": {},
   "outputs": [],
   "source": [
    "#my_data,my_meta=fits.read_sky_map(\"Amap.fits\",nest=None, distances=True)\n",
    "#print(my_meta)"
   ]
  },
  {
   "cell_type": "code",
   "execution_count": null,
   "id": "a039790c",
   "metadata": {},
   "outputs": [],
   "source": [
    "#hp.mollview(my_data[0], title=\"Mollview image NESTED\",nest=True)"
   ]
  },
  {
   "cell_type": "code",
   "execution_count": null,
   "id": "e75e0099",
   "metadata": {},
   "outputs": [],
   "source": [
    "#print(my_meta)"
   ]
  },
  {
   "cell_type": "code",
   "execution_count": null,
   "id": "dfdf7282",
   "metadata": {},
   "outputs": [],
   "source": [
    "#_read_O3('Amap.fits')"
   ]
  },
  {
   "cell_type": "code",
   "execution_count": null,
   "id": "2d74ea6d",
   "metadata": {},
   "outputs": [],
   "source": [
    "temp_theta,temp_phi=find_theta_phi(nside,np.argmax(gaussmap))\n",
    "temp_ra, temp_dec=find_ra_dec(nside,np.argmax(gaussmap))\n",
    "print('GW221005 location: theta={}, phi={}, RA={}, DEC={}'.format(temp_theta,temp_phi,temp_ra,temp_dec))"
   ]
  },
  {
   "cell_type": "code",
   "execution_count": null,
   "id": "bb87b61b",
   "metadata": {},
   "outputs": [],
   "source": []
  },
  {
   "cell_type": "code",
   "execution_count": null,
   "id": "1d53b221",
   "metadata": {},
   "outputs": [],
   "source": [
    "fname ='GW221900_PublicationSamples.fits'\n",
    "my_data,my_meta=fits.read_sky_map(fname,nest=None, distances=True)"
   ]
  },
  {
   "cell_type": "code",
   "execution_count": null,
   "id": "72bd2654",
   "metadata": {},
   "outputs": [],
   "source": [
    "my_prob=my_data[0]\n",
    "my_mu=my_data[1]\n",
    "my_sigma=my_data[2]\n",
    "npix = len(my_prob)\n",
    "nside=hp.npix2nside(npix)\n",
    "#my_mu[np.isinf(my_mu)]=0\n",
    "hp.mollview(my_prob, title=fname,nest=True)"
   ]
  },
  {
   "cell_type": "code",
   "execution_count": null,
   "id": "ee3856a0",
   "metadata": {},
   "outputs": [],
   "source": [
    "my_theta,my_phi=find_theta_phi(nside,np.argmax(my_prob))\n",
    "my_ra, my_dec=find_ra_dec(nside,np.argmax(my_prob))\n",
    "print('GW location: theta={}, phi={}, RA={}, DEC={}'.format(my_theta,my_phi,my_ra,my_dec))\n",
    "mu_avr=np.average(my_mu,weights=my_prob)\n",
    "print('average luminosity distance={} Mpc'.format(mu_avr))\n",
    "sig_avr=np.average(my_sigma,weights=my_prob)\n",
    "print('average luminosity distance Sigma={} Mpc'.format(sig_avr))\n",
    "z_gw=z_from_dL(mu_avr)\n",
    "print('redshift={}, in flagship cosmology'.format(z_gw))\n",
    "comov=mu_avr/(1+z_gw)\n",
    "print('comoving distance={}'.format(comov))"
   ]
  },
  {
   "cell_type": "code",
   "execution_count": null,
   "id": "96d5a6c4",
   "metadata": {},
   "outputs": [],
   "source": [
    "np.argmax(my_prob)\n",
    "maxtheta,maxphi=hp.pix2ang(nside, 841536)\n",
    "vicini=hp.get_all_neighbours(nside,maxtheta,maxphi)\n",
    "print(maxtheta,maxphi)\n",
    "print(vicini)"
   ]
  },
  {
   "cell_type": "code",
   "execution_count": null,
   "id": "e495e4d1",
   "metadata": {},
   "outputs": [],
   "source": [
    "for i in vicini:\n",
    "    maxtheta,maxphi=hp.pix2ang(nside, i, nest=True)\n",
    "    print(hp.get_all_neighbours(nside,maxtheta,maxphi,nest=True))"
   ]
  },
  {
   "cell_type": "code",
   "execution_count": null,
   "id": "5bfa8106",
   "metadata": {},
   "outputs": [],
   "source": [
    "if(np.isnan(my_prob).any()):\n",
    "    print(\"The Array contain NaN values\")\n",
    "else:\n",
    "    print(\"The Array does not contain NaN values\")\n",
    "if(np.isnan(my_mu).any()):\n",
    "    print(\"The Array contain NaN values\")\n",
    "else:\n",
    "    print(\"The Array does not contain NaN values\")\n",
    "    \n",
    "if(np.isinf(my_prob).any()):\n",
    "    print(\"The Array contain inf values\")\n",
    "else:\n",
    "    print(\"The Array does not contain inf values\")\n",
    "if(np.isinf(my_mu).any()):\n",
    "    print(\"The Array contain inf values\")\n",
    "else:\n",
    "    print(\"The Array does not contain inf values\")"
   ]
  },
  {
   "cell_type": "code",
   "execution_count": null,
   "id": "8d41312b",
   "metadata": {},
   "outputs": [],
   "source": [
    "credible_levels = find_greedy_credible_levels(gaussmap)\n",
    "Ligo_Area_99_deg=np.sum(credible_levels <= 0.99) * hp.nside2pixarea(nside, degrees=True)\n",
    "Ligo_Area_90_deg=np.sum(credible_levels <= 0.9) * hp.nside2pixarea(nside, degrees=True)\n",
    "print('Ligo area_deg 99% is {}\\nLigo area_deg 90% is {} '.format(Ligo_Area_99_deg,Ligo_Area_90_deg))\n"
   ]
  },
  {
   "cell_type": "code",
   "execution_count": null,
   "id": "c26238dc",
   "metadata": {},
   "outputs": [],
   "source": [
    "my_theta,my_phi=find_theta_phi(nside,np.argmax(my_prob))\n",
    "my_ra, my_dec=find_ra_dec(nside,np.argmax(my_prob))\n",
    "print('GW location: theta={}, phi={}, RA={}, DEC={}'.format(my_theta,my_phi,my_ra,my_dec))\n",
    "mu_avr=np.average(my_mu,weights=my_prob)\n",
    "print('average luminosity distance={} Mpc'.format(mu_avr))\n",
    "sig_avr=np.average(my_sigma,weights=my_prob)\n",
    "print('average luminosity distance Sigma={} Mpc'.format(sig_avr))\n",
    "z_gw=z_from_dL(mu_avr)\n",
    "print('redshift={}, in flagship cosmology'.format(z_gw))\n",
    "comov=mu_avr/(1+z_gw)\n",
    "print('comoving distance={}'.format(comov))"
   ]
  },
  {
   "cell_type": "code",
   "execution_count": null,
   "id": "46c0b100",
   "metadata": {},
   "outputs": [],
   "source": [
    "np.sum(my_mu[0:3]*my_prob[0:3])"
   ]
  },
  {
   "cell_type": "code",
   "execution_count": null,
   "id": "87f5aeff",
   "metadata": {},
   "outputs": [],
   "source": [
    "len(my_mu)==len(my_prob)"
   ]
  },
  {
   "cell_type": "markdown",
   "id": "6be4bcff",
   "metadata": {},
   "source": [
    "# Automatic Map Creator \n",
    "\n",
    "z_min=0.7887375950813293, z_max=2.0129446983337402\n",
    "ra_min=1.558116673550103e-05, ra_max=89.99999237060547\n",
    "dec_min=2.9646462280652486e-06, dec_max=89.98294830322266\n",
    "phi_min=2.7194266749575036e-07, phi_max=1.5707961320877075\n",
    "theta_min=0.0002976218846182377, theta_max=1.570796275052059"
   ]
  },
  {
   "cell_type": "code",
   "execution_count": 13,
   "id": "c670f1a8",
   "metadata": {},
   "outputs": [],
   "source": [
    "GW_data_path='/home/rciancarella/DarkSirensStat/data/GW/O3/'\n",
    "os.chdir(GW_data_path)"
   ]
  },
  {
   "cell_type": "code",
   "execution_count": 21,
   "id": "c730ece8",
   "metadata": {},
   "outputs": [
    {
     "name": "stdout",
     "output_type": "stream",
     "text": [
      "Sigma_theta=0.014678989991133373, Sigma_phi=0.014678989991133373\n",
      "Sigma_theta=0.84104417400672°, Sigma_phi=0.84104417400672°\n",
      "0.14678989991133373 9\n",
      "N=9,M=8, NxM=72\n",
      "[ 4.21095045 12.62139219 21.03183393 29.44227567 37.85271741 46.26315915\n",
      " 54.67360089 63.08404263 71.49448437] [16.83793596 25.2483777  33.65881944 42.06926118 50.47970292 58.89014466\n",
      " 67.3005864  75.71102814]\n"
     ]
    }
   ],
   "source": [
    "fisher=0\n",
    "if fisher==1:\n",
    "    conc=4740\n",
    "    sigma_phi=np.sqrt(1/conc)\n",
    "    sigma_theta=sigma_phi\n",
    "    radius_rad=6*sigma_phi\n",
    "else:\n",
    "    radius_deg= np.sqrt(10/np.pi)\n",
    "    sigma90=radius_deg/np.sqrt(2)\n",
    "    sigma_deg=sigma90/1.5\n",
    "    circle_deg=6*sigma_deg\n",
    "    sigma_theta=np.radians(sigma_deg)\n",
    "    sigma_phi=np.radians(sigma_deg)\n",
    "    radius_rad=np.radians(circle_deg)\n",
    "\n",
    "phi_min=0.0001\n",
    "phi_max=1.5707961320877075\n",
    "theta_min=0.0002976218846182377\n",
    "theta_max=1.570796275052059\n",
    "phi_start=phi_min+5*sigma_phi\n",
    "phi_stop=phi_max-5*sigma_phi\n",
    "step =10* sigma_phi\n",
    "N=np.floor((phi_stop-phi_start)/step)\n",
    "N=int(N)\n",
    "print('Sigma_theta={}, Sigma_phi={}'.format(sigma_theta,sigma_phi))\n",
    "print('Sigma_theta={}°, Sigma_phi={}°'.format(np.rad2deg(sigma_theta)\n",
    "                                              ,np.rad2deg(sigma_phi)))\n",
    "print(step, N)\n",
    "allphi=np.arange(0,N)*step+phi_start\n",
    "#allphi=np.ones(N)*np.pi/4\n",
    "\n",
    "truethetamin=theta_min+20*sigma_theta\n",
    "truethetamax=theta_max-5*sigma_theta\n",
    "M=np.floor((truethetamax-truethetamin)/step)\n",
    "M=int(M)\n",
    "alltheta=np.arange(0,M)*step+truethetamin\n",
    "#alltheta=np.linspace(np.pi/2,0.1,N,endpoint=False)\n",
    "print('N={},M={}, NxM={}'.format(N,M,N*M))\n",
    "allredshift=np.linspace(1.1,1.3,N)\n",
    "print(np.rad2deg(allphi),np.rad2deg(alltheta))\n",
    "#name='GW2220xx_datasheet.txt'\n",
    "#file= open(name,'w')\n",
    "#my_header=['name\\t','dl\\t','theta\\t','phi\\t','z\\t','deltadl\\t','sigma_phi\\n']\n",
    "#file.writelines(my_header)\n",
    "#file.close()"
   ]
  },
  {
   "cell_type": "code",
   "execution_count": 23,
   "id": "0b65efff",
   "metadata": {},
   "outputs": [
    {
     "name": "stdout",
     "output_type": "stream",
     "text": [
      "8546.973683167127\n"
     ]
    }
   ],
   "source": [
    "mydl=cosmoflag.luminosity_distance(allredshift).value\n",
    "print(np.mean(mydl))"
   ]
  },
  {
   "cell_type": "code",
   "execution_count": 16,
   "id": "f8a206bf",
   "metadata": {},
   "outputs": [
    {
     "name": "stderr",
     "output_type": "stream",
     "text": [
      "100%|████████████████████████████████████████████████████████████████████████| 8/8 [03:18<00:00, 24.78s/it]\n"
     ]
    }
   ],
   "source": [
    "'''Use this when phi and theta both changes'''\n",
    "for j in tqdm(range(M)):\n",
    "    for k in range(N):\n",
    "        numevent=int(222000)+k+j*N\n",
    "        fname='GW'+str(numevent)+'_PublicationSamples.fits'\n",
    "        zref=allredshift[k]\n",
    "        DS_phi=allphi[k]\n",
    "        DS_theta=alltheta[j]\n",
    "        vec = hp.ang2vec(DS_theta, DS_phi)\n",
    "        ipix_disc = hp.query_disc(nside=nside, vec=vec, radius=radius_rad, nest=True)\n",
    "        #print(DS_theta,DS_phi)\n",
    "        if fisher==1:\n",
    "            gaussmap =np.zeros(len(p_posterior),dtype=np.float128)\n",
    "        else:\n",
    "            gaussmap =np.zeros(len(p_posterior))\n",
    "        mod_mu=np.zeros(len(p_posterior))\n",
    "        mod_sigma=np.zeros(len(p_posterior))\n",
    "        mod_postnorm=np.zeros(len(p_posterior))\n",
    "        theta_arr=np.zeros(len(p_posterior))\n",
    "        phi_arr=np.zeros(len(p_posterior))\n",
    "\n",
    "        dlref=cosmoflag.luminosity_distance(zref).value\n",
    "        dlsig=0.01*dlref\n",
    "        line=[str(numevent)+'\\t',str(dlref)+'\\t',str(DS_theta)+'\\t',str(DS_phi)+'\\t',str(zref)+'\\t',\n",
    "             str(dlsig)+'\\t',str(sigma_phi)+'\\n']\n",
    "\n",
    "        for i in ipix_disc:\n",
    "            theta,phi=hp.pix2ang(nside,i, nest=True)\n",
    "            theta_arr[i]=theta\n",
    "            phi_arr[i]=phi\n",
    "            gaussmap[i]=sphere_uncorr_gauss(theta,phi,DS_theta,DS_phi,sigma_theta,sigma_phi)*hp.nside2pixarea(nside,degrees=True)\n",
    "            #gaussmap[i]=np.float128(Mises_Fisher(theta,phi,DS_theta,DS_phi,conc))*np.float128(hp.nside2pixarea(nside,degrees=False))\n",
    "            mod_mu[i]=dlref#uncorr_gauss(theta,phi)\n",
    "            mod_sigma[i]=dlsig\n",
    "            mod_postnorm[i]=1#/(mygaussint(mod_mu[i],mod_sigma[i]))\n",
    "        #gaussmap[ipix_disc] = 1/len(ipix_disc)\n",
    "        gaussmap[ipix_disc]=gaussmap[ipix_disc]/np.sum(gaussmap)\n",
    "        #mod_postnorm[ipix_disc]=mod_postnorm[ipix_disc]/(len(ipix_disc))\n",
    "        #mod_postnorm[ipix_disc]=1/len(ipix_disc)#gaussmap[ipix_disc]\n",
    "        dat=Table([gaussmap,mod_mu,mod_sigma,mod_postnorm],\n",
    "              names=('PROB','DISTMU','DISTSIGMA','DISTNORM'))\n",
    "        fits.write_sky_map(fname,dat, nest=True)\n",
    "        with open(name,'a') as f:\n",
    "            f.writelines(line)"
   ]
  },
  {
   "cell_type": "code",
   "execution_count": null,
   "id": "ff890b29",
   "metadata": {},
   "outputs": [],
   "source": [
    "allredshift=np.linspace(1.1,1.3,10)\n",
    "for k in tqdm(range(10)):\n",
    "    numevent=int(221800)+k\n",
    "    fname='GW'+str(numevent)+'_PublicationSamples.fits'\n",
    "    zref=allredshift[k]\n",
    "    #print(zref)\n",
    "    DS_phi=np.pi/4\n",
    "    DS_theta=np.pi/4\n",
    "    vec = hp.ang2vec(DS_theta, DS_phi)\n",
    "    ipix_disc = hp.query_disc(nside=nside, vec=vec, radius=np.radians(circle_deg), nest=True)\n",
    "    #print(DS_theta,DS_phi)\n",
    "    gaussmap =np.zeros(len(p_posterior))\n",
    "    mod_mu=np.zeros(len(p_posterior))\n",
    "    mod_sigma=np.zeros(len(p_posterior))\n",
    "    mod_postnorm=np.zeros(len(p_posterior))\n",
    "    theta_arr=np.zeros(len(p_posterior))\n",
    "    phi_arr=np.zeros(len(p_posterior))\n",
    "\n",
    "    dlref=cosmoflag.luminosity_distance(zref).value\n",
    "    dlsig=0.01*dlref\n",
    "    line=[str(numevent)+'\\t',str(dlref)+'\\t',str(DS_theta)+'\\t',str(DS_phi)+'\\t',str(zref)+'\\t',\n",
    "         str(dlsig)+'\\n']\n",
    "    \n",
    "    for i in ipix_disc:\n",
    "        theta,phi=hp.pix2ang(nside,i, nest=True)\n",
    "        theta_arr[i]=theta\n",
    "        phi_arr[i]=phi\n",
    "        #gaussmap[i]=uncorr_gauss(theta,phi,DS_theta,DS_phi,sigma_theta,sigma_phi)*hp.nside2pixarea(nside,degrees=True)\n",
    "        gaussmap[i]=np.float128(Mises_Fisher(theta,phi,DS_theta,DS_phi,conc))*np.float128(hp.nside2pixarea(nside,degrees=False))\n",
    "        mod_mu[i]=dlref#uncorr_gauss(theta,phi)\n",
    "        mod_sigma[i]=dlsig\n",
    "        #mod_postnorm[i]=1/(mygaussint(mod_mu[i],mod_sigma[i]))\n",
    "    #gaussmap[ipix_disc] = 1/len(ipix_disc)\n",
    "    gaussmap[ipix_disc]=gaussmap[ipix_disc]/np.sum(gaussmap)\n",
    "    #mod_postnorm[ipix_disc]=1/(len(ipix_disc))\n",
    "    mod_postnorm[ipix_disc]=1\n",
    "    dat=Table([gaussmap,mod_mu,mod_sigma,mod_postnorm],\n",
    "          names=('PROB','DISTMU','DISTSIGMA','DISTNORM'))\n",
    "    fits.write_sky_map(fname,dat, nest=True)\n",
    "    with open(name,'a') as f:\n",
    "        f.writelines(line)"
   ]
  },
  {
   "cell_type": "code",
   "execution_count": 32,
   "id": "7f167615",
   "metadata": {},
   "outputs": [],
   "source": [
    "fname ='GW222031_PublicationSamples.fits'\n",
    "my_data,my_meta=fits.read_sky_map(fname,nest=None, distances=True)"
   ]
  },
  {
   "cell_type": "code",
   "execution_count": 33,
   "id": "a7bf76d7",
   "metadata": {},
   "outputs": [
    {
     "name": "stdout",
     "output_type": "stream",
     "text": [
      "0.9999999999999998 24390.0\n"
     ]
    },
    {
     "data": {
      "image/png": "[encoded data removed]",
      "text/plain": [
       "<Figure size 612x388.8 with 2 Axes>"
      ]
     },
     "metadata": {
      "needs_background": "light"
     },
     "output_type": "display_data"
    }
   ],
   "source": [
    "my_prob=my_data[0]\n",
    "my_mu=my_data[1]\n",
    "my_sigma=my_data[2]\n",
    "my_norm=my_data[3]\n",
    "npix = len(my_prob)\n",
    "nside=hp.npix2nside(npix)\n",
    "#my_mu[np.isinf(my_mu)]=0\n",
    "print(np.sum(my_prob),(np.sum(my_norm)))\n",
    "hp.mollview(my_prob, title=fname,nest=True)"
   ]
  },
  {
   "cell_type": "code",
   "execution_count": 34,
   "id": "c17bbdb4",
   "metadata": {},
   "outputs": [
    {
     "data": {
      "image/png": "[encoded data removed]",
      "text/plain": [
       "<Figure size 2160x1080 with 4 Axes>"
      ]
     },
     "metadata": {
      "needs_background": "light"
     },
     "output_type": "display_data"
    }
   ],
   "source": [
    "fig, (ax1, ax2) = plt.subplots(2,figsize=(30,15))\n",
    "gaussmap00=my_prob+gaussmap00\n",
    "plt.axes(ax1)\n",
    "hp.mollview(my_prob,nest=True, hold=True)\n",
    "\n",
    "plt.axes(ax2)\n",
    "hp.mollview(gaussmap00,nest=True, hold=True)"
   ]
  },
  {
   "cell_type": "code",
   "execution_count": null,
   "id": "c7a3bc40",
   "metadata": {},
   "outputs": [],
   "source": [
    "credible_levels = find_greedy_credible_levels(my_prob)\n",
    "Ligo_Area_99_deg=np.sum(credible_levels <= 0.99) * hp.nside2pixarea(nside, degrees=True)\n",
    "Ligo_Area_90_deg=np.sum(credible_levels <= 0.9) * hp.nside2pixarea(nside, degrees=True)\n",
    "print('Ligo area_deg 99% is {}\\nLigo area_deg 90% is {} '.format(Ligo_Area_99_deg,Ligo_Area_90_deg))\n"
   ]
  },
  {
   "cell_type": "code",
   "execution_count": null,
   "id": "c08db393",
   "metadata": {},
   "outputs": [],
   "source": [
    "print('AngularProb')\n",
    "if(np.isnan(my_prob).any()):\n",
    "    print(\"The Array contain NaN values\")\n",
    "else:\n",
    "    print(\"The Array does not contain NaN values\")\n",
    "if(np.isinf(my_prob).any()):\n",
    "    print(\"The Array contain inf values\")\n",
    "else:\n",
    "    print(\"The Array does not contain inf values\")\n",
    "    \n",
    "print('Mu')\n",
    "if(np.isnan(my_mu).any()):\n",
    "    print(\"The Array contain NaN values\")\n",
    "else:\n",
    "    print(\"The Array does not contain NaN values\")\n",
    "if(np.isinf(my_mu).any()):\n",
    "    print(\"The Array contain inf values\")\n",
    "else:\n",
    "    print(\"The Array does not contain inf values\")\n",
    "\n",
    "print('DistNorm')\n",
    "if(np.isnan(my_norm).any()):\n",
    "    print(\"The Array contain NaN values\")\n",
    "else:\n",
    "    print(\"The Array does not contain NaN values\")\n",
    "\n",
    "if(np.isinf(my_norm).any()):\n",
    "    print(\"The Array contain inf values\")\n",
    "else:\n",
    "    print(\"The Array does not contain inf values\")"
   ]
  },
  {
   "cell_type": "code",
   "execution_count": null,
   "id": "8feba536",
   "metadata": {},
   "outputs": [],
   "source": [
    "def uncorr_gauss(x,y,mux,muy,sigx,sigy):\n",
    "    #correlation is 0 so is a multiplication of two gaussians\n",
    "    #x is theta, y is phi\n",
    "    xfactor=((x-mux)/sigx)**2\n",
    "    #yfactor=((y*(1-np.sin(y))-muy*(1-np.sin(muy)))/sigy)**2\n",
    "    yfactor=((y-muy)/sigy)**2\n",
    "    #norm=2*np.pi*sigx*sigy\n",
    "    ret=np.exp(-(1/2)*(xfactor+yfactor))#/norm\n",
    "    return ret\n",
    "\n",
    "def new_uncorr_gauss(x,y,mux,muy,sigx,sigy):\n",
    "    #correlation is 0 so is a multiplication of two gaussians\n",
    "    #x is theta, y is phi\n",
    "    meanvec=hp.ang2vec(mux,muy)\n",
    "    meanvec=np.asarray(meanvec)\n",
    "    norm=np.sqrt(np.dot(meanvec,meanvec))\n",
    "    meanvec=meanvec/norm\n",
    "    \n",
    "    var=hp.ang2vec(x,y)\n",
    "    var=np.asarray(var)\n",
    "    norm=np.sqrt(np.dot(var,var))\n",
    "    var=var/norm\n",
    "    \n",
    "    diff=meanvec-var\n",
    "    diff_len=np.sqrt(np.dot(diff,diff))\n",
    "    #xfactor=((x-mux)/sigx)**2\n",
    "    #yfactor=((y*(1-np.sin(y))-muy*(1-np.sin(muy)))/sigy)**2\n",
    "    #yfactor=((y-muy)/sigy)**2\n",
    "    #norm=2*np.pi*sigx*sigy\n",
    "    factor=((diff_len)/sigy)**2\n",
    "    ret=np.exp(-(1/2)*(factor))#/norm\n",
    "    return ret\n",
    "\n",
    "def Mises_Fisher(theta,phi,DS_theta,DS_phi,conc):\n",
    "    meanvec=hp.ang2vec(DS_theta,DS_phi)\n",
    "    meanvec=np.asarray(meanvec,dtype=np.float128)\n",
    "    norm=np.sqrt(np.dot(meanvec,meanvec))\n",
    "    meanvec=meanvec/norm\n",
    "    \n",
    "    var=hp.ang2vec(theta,phi)\n",
    "    var=np.asarray(var,dtype=np.float128)\n",
    "    norm=np.sqrt(np.dot(var,var))\n",
    "    var=var/norm\n",
    "    \n",
    "    factor=np.dot(conc*var,meanvec)\n",
    "    factor=np.float128(factor)\n",
    "    #Normalization is futile, we will devide by the sum\n",
    "    #fullnorm=conc/(2*np.pi*(np.exp(conc)-np.exp(-conc)))\n",
    "    ret=np.float128(np.exp(factor))#/fullnorm\n",
    "    #ret=factor\n",
    "    return ret\n",
    "\n",
    "radius_deg= np.sqrt(10/np.pi)\n",
    "sigma90=radius_deg/np.sqrt(2)\n",
    "sigma_deg=sigma90/1.5\n",
    "circle_deg=6*sigma_deg\n",
    "sigma_theta=np.radians(sigma_deg)\n",
    "sigma_phi=np.radians(sigma_deg)\n",
    "\n",
    "numevent=int(220000)+0\n",
    "fname='GW'+str(numevent)+'_PublicationSamples.fits'\n",
    "zref=1#allredshift[0]\n",
    "\n",
    "DS_phi=0*np.pi/4\n",
    "DS_theta=np.pi/2\n",
    "\n",
    "vec = hp.ang2vec(DS_theta, DS_phi)\n",
    "print(len(vec),vec)\n",
    "ipix_disc = hp.query_disc(nside=nside, vec=vec, radius=np.radians(circle_deg), nest=True)\n",
    "#print(DS_theta,DS_phi)\n",
    "gaussmap =np.zeros(len(p_posterior),dtype=np.float128)\n",
    "mod_mu=np.zeros(len(p_posterior))\n",
    "mod_sigma=np.zeros(len(p_posterior))\n",
    "mod_postnorm=np.zeros(len(p_posterior))\n",
    "theta_arr=np.zeros(len(p_posterior))\n",
    "phi_arr=np.zeros(len(p_posterior))\n",
    "\n",
    "dlref=(1+zref)*cosmoflag.comoving_distance(zref).value\n",
    "dlsig=0.01*dlref\n",
    "line=[str(numevent)+'\\t',str(dlref)+'\\t',str(DS_theta)+'\\t',str(DS_phi)+'\\t',str(zref)+'\\t',\n",
    "     str(dlsig)+'\\n']\n",
    "conc=4740\n",
    "for i in ipix_disc:\n",
    "    theta,phi=hp.pix2ang(nside,i, nest=True)\n",
    "    theta_arr[i]=theta\n",
    "    phi_arr[i]=phi\n",
    "    gaussmap[i]=new_uncorr_gauss(theta,phi,DS_theta,DS_phi,sigma_theta,sigma_phi)*hp.nside2pixarea(nside,degrees=False)\n",
    "    #gaussmap[i]=np.float128(Mises_Fisher(theta,phi,DS_theta,DS_phi,conc))*np.float128(hp.nside2pixarea(nside,degrees=False))\n",
    "    mod_mu[i]=dlref#uncorr_gauss(theta,phi)\n",
    "    mod_sigma[i]=dlsig\n",
    "    mod_postnorm[i]=1\n",
    "#gaussmap[ipix_disc] = gaussmap[ipix_disc]\n",
    "gaussmap[ipix_disc]=gaussmap[ipix_disc]/np.sum(gaussmap)"
   ]
  },
  {
   "cell_type": "code",
   "execution_count": null,
   "id": "3367d2a7",
   "metadata": {},
   "outputs": [],
   "source": [
    "credible_levels = find_greedy_credible_levels(gaussmap)\n",
    "Ligo_Area_99_deg=np.sum(credible_levels <= 0.99) * hp.nside2pixarea(nside, degrees=True)\n",
    "Ligo_Area_90_deg=np.sum(credible_levels <= 0.9) * hp.nside2pixarea(nside, degrees=True)\n",
    "print('Ligo area_deg 99% is {}\\nLigo area_deg 90% is {} '.format(Ligo_Area_99_deg,Ligo_Area_90_deg))\n"
   ]
  },
  {
   "cell_type": "code",
   "execution_count": null,
   "id": "4f7ad8d7",
   "metadata": {},
   "outputs": [],
   "source": [
    "hp.mollview(gaussmap, title=fname,nest=True)"
   ]
  },
  {
   "cell_type": "code",
   "execution_count": null,
   "id": "1cfbe968",
   "metadata": {},
   "outputs": [],
   "source": [
    "fig, (ax1, ax2) = plt.subplots(2,figsize=(30,15))\n",
    "#gaussmap00=gaussmap\n",
    "plt.axes(ax1)\n",
    "hp.mollview(gaussmap,nest=True, hold=True)\n",
    "\n",
    "plt.axes(ax2)\n",
    "hp.mollview(gaussmap00,nest=True, hold=True)"
   ]
  },
  {
   "cell_type": "code",
   "execution_count": null,
   "id": "428021e8",
   "metadata": {},
   "outputs": [],
   "source": [
    "print(np.sqrt(1/conc))"
   ]
  },
  {
   "cell_type": "code",
   "execution_count": null,
   "id": "e0e0749e",
   "metadata": {},
   "outputs": [],
   "source": [
    "print('AngularProb')\n",
    "if(np.isnan(gaussmap).any()):\n",
    "    print(\"The Array contain NaN values\")\n",
    "else:\n",
    "    print(\"The Array does not contain NaN values\")\n",
    "if(np.isinf(gaussmap).any()):\n",
    "    print(\"The Array contain inf values\")\n",
    "else:\n",
    "    print(\"The Array does not contain inf values\")\n",
    "    \n",
    "print('Mu')\n",
    "if(np.isnan(mod_mu).any()):\n",
    "    print(\"The Array contain NaN values\")\n",
    "else:\n",
    "    print(\"The Array does not contain NaN values\")\n",
    "if(np.isinf(mod_mu).any()):\n",
    "    print(\"The Array contain inf values\")\n",
    "else:\n",
    "    print(\"The Array does not contain inf values\")\n",
    "\n",
    "print('DistNorm')\n",
    "if(np.isnan(mod_postnorm).any()):\n",
    "    print(\"The Array contain NaN values\")\n",
    "else:\n",
    "    print(\"The Array does not contain NaN values\")\n",
    "\n",
    "if(np.isinf(mod_postnorm).any()):\n",
    "    print(\"The Array contain inf values\")\n",
    "else:\n",
    "    print(\"The Array does not contain inf values\")"
   ]
  },
  {
   "cell_type": "code",
   "execution_count": null,
   "id": "1cdc93c2",
   "metadata": {},
   "outputs": [],
   "source": [
    "allphi=phi_arr[ipix_disc]#np.linspace(0,2*np.pi,500)\n",
    "allphi=np.sort(allphi)\n",
    "thetafix=np.pi/4\n",
    "phifix=np.pi\n",
    "results=np.zeros(len(allphi))\n",
    "for i in range(len(allphi)):\n",
    "    results[i]=Mises_Fisher(DS_theta,allphi[i],DS_theta,DS_phi,1000)\n",
    "results=results/np.sum(results)\n",
    "plt.rcParams.update({'font.size': 20})\n",
    "plt.figure(figsize=(15,10))\n",
    "#res0=results\n",
    "#n, bins, patches = plt.hist(x=numobj,grid=True, bins=Num, rwidth=0.9,color='#607c8e')\n",
    "plt.plot(allphi,results,color='g')\n",
    "plt.plot(allphi,res0,color='k')\n",
    "plt.xlabel('dc')\n",
    "plt.ylabel('# of object in a sphere')\n",
    "plt.grid(axis='y', alpha=0.75)"
   ]
  },
  {
   "cell_type": "code",
   "execution_count": null,
   "id": "8ff9f25c",
   "metadata": {},
   "outputs": [],
   "source": []
  }
 ],
 "metadata": {
  "kernelspec": {
   "display_name": "Python 3 (ipykernel)",
   "language": "python",
   "name": "python3"
  },
  "language_info": {
   "codemirror_mode": {
    "name": "ipython",
    "version": 3
   },
   "file_extension": ".py",
   "mimetype": "text/x-python",
   "name": "python",
   "nbconvert_exporter": "python",
   "pygments_lexer": "ipython3",
   "version": "3.10.6"
  }
 },
 "nbformat": 4,
 "nbformat_minor": 5
}
