{
 "cells": [
  {
   "cell_type": "code",
   "execution_count": 1,
   "id": "781e4280",
   "metadata": {},
   "outputs": [],
   "source": [
    "import numpy as np\n",
    "import matplotlib.pyplot as plt\n",
    "import matplotlib.pylab as pl\n",
    "from scipy import interpolate\n",
    "from scipy import integrate\n",
    "from scipy.optimize import fsolve\n",
    "\n",
    "from astropy.cosmology import FlatLambdaCDM\n",
    "from astropy.table import Table\n",
    "from ligo.skymap.io import fits\n",
    "import healpy as hp\n",
    "\n",
    "import os\n",
    "from os import listdir\n",
    "from os.path import isfile, join\n",
    "\n",
    "from multiprocessing import Pool\n",
    "import time\n",
    "from numba import njit\n",
    "\n",
    "import sys\n",
    "from tqdm import tqdm\n",
    "\n",
    "H0GLOB=67 #69\n",
    "Om0GLOB=0.319\n",
    "Xi0Glob =1.\n",
    "clight = 2.99792458* 10**5#km/s\n",
    "cosmoflag = FlatLambdaCDM(H0=H0GLOB, Om0=Om0GLOB)"
   ]
  },
  {
   "cell_type": "code",
   "execution_count": 2,
   "id": "21199311",
   "metadata": {},
   "outputs": [],
   "source": [
    "#-----------------Functions--------------------------\n",
    "def z_from_dL(dL_val):\n",
    "    '''\n",
    "    Returns redshift for a given luminosity distance dL (in Mpc)'''\n",
    "    \n",
    "    func = lambda z :cosmoflag.luminosity_distance(z).value - dL_val\n",
    "    z = fsolve(func, 0.77)\n",
    "    return z[0]\n",
    "def z_from_dcom(dc_val):\n",
    "    '''\n",
    "    Returns redshift for a given comoving distance dc (in Mpc)'''\n",
    "    \n",
    "    func = lambda z :cosmoflag.comoving_distance(z).value - dc_val\n",
    "    z = fsolve(func, 0.77)\n",
    "    return z[0]\n",
    "\n",
    "def Mises_Fisher(theta,phi,DS_theta,DS_phi,conc):\n",
    "    meanvec=hp.ang2vec(DS_theta,DS_phi)\n",
    "    meanvec=np.asarray(meanvec,dtype=np.float128)\n",
    "    norm=np.sqrt(np.dot(meanvec,meanvec))\n",
    "    meanvec=meanvec/norm\n",
    "    \n",
    "    var=hp.ang2vec(theta,phi)\n",
    "    var=np.asarray(var,dtype=np.float128)\n",
    "    norm=np.sqrt(np.dot(var,var))\n",
    "    var=var/norm\n",
    "    \n",
    "    factor=np.dot(conc*var,meanvec)\n",
    "    factor=np.float128(factor)\n",
    "    #Normalization is futile, we will devide by the sum\n",
    "    #fullnorm=conc/(2*np.pi*(np.exp(conc)-np.exp(-conc)))\n",
    "    ret=np.float128(np.exp(factor))#/fullnorm\n",
    "    #ret=factor\n",
    "    return ret\n",
    "\n",
    "@njit\n",
    "def sphere_uncorr_gauss(x,y,mux,muy,sigx,sigy):\n",
    "    #correlation is 0 so is a multiplication of two gaussians\n",
    "    #x is theta, y is phi\n",
    "    #meanvec=(mux,muy)\n",
    "    meanvec=np.asarray((1,mux,muy))\n",
    "    norm=np.sqrt(np.sum(meanvec**2))\n",
    "    meanvec=meanvec/norm\n",
    "    \n",
    "    #var=(x,y)\n",
    "    var=np.asarray((1,x,y))\n",
    "    #norm=np.sqrt(np.dot(var,var))\n",
    "    norm=np.sqrt(np.sum(var**2))\n",
    "    var=var/norm\n",
    "    \n",
    "    diff=meanvec-var\n",
    "    diff_len=np.sqrt(np.sum(diff**2))\n",
    "    #xfactor=((x-mux)/sigx)**2\n",
    "    #yfactor=((y*(1-np.sin(y))-muy*(1-np.sin(muy)))/sigy)**2\n",
    "    #yfactor=((y-muy)/sigy)**2\n",
    "    #norm=2*np.pi*sigx*sigy\n",
    "    factor=((diff_len)/sigy)**2\n",
    "    ret=np.exp(-(1/2)*(factor))#/norm\n",
    "    #ret=np.exp(-1/2*(xfactor+yfactor))\n",
    "    return ret\n",
    "\n",
    "def beta_line(galaxies,z0,z1,zmax):\n",
    "    denom=len(galaxies[(galaxies>=z0)*(galaxies<=z1)])\n",
    "    num=len(galaxies[galaxies<=zmax])\n",
    "    ret=num/denom\n",
    "    return ret\n",
    "def normalisation(galaxies,zmax):\n",
    "    #is a beta after some simplification with the likelihood\n",
    "    #cat must be complete, omega must be a constant we set that all to 1\n",
    "    ret=len(galaxies[galaxies<=zmax])\n",
    "    return ret\n",
    "\n",
    "@njit\n",
    "def likelihood_line(mu,dl,k=0.1):\n",
    "    sigma=k*mu\n",
    "    norm=1/(np.sqrt(2*np.pi)*sigma)\n",
    "    body=np.exp(-((dl-mu)**2)/(2*sigma**2))\n",
    "    ret=norm*body\n",
    "    return ret\n",
    "\n"
   ]
  },
  {
   "cell_type": "code",
   "execution_count": 3,
   "id": "82bc82f3",
   "metadata": {},
   "outputs": [
    {
     "name": "stdout",
     "output_type": "stream",
     "text": [
      "Sigma phi=0.014678989991133373,Sigma theta=0.014678989991133373\n",
      "Sigma phi=0.8410441740067199°,Sigma theta=0.8410441740067199°\n",
      "phi min=0,phi Max=0.08073444495123355\n",
      "theta min=0,theta Max=0.08073444495123355\n",
      "Area in Str=0.0032572554759325617\n"
     ]
    }
   ],
   "source": [
    "#-----------------Parameter setting--------------------------------\n",
    "H0min=55#30\n",
    "H0max=85#140\n",
    "H0Grid=np.linspace(H0min,H0max,1000)\n",
    "nsamp=1500000\n",
    "z_inf_cat=0.85#0.79\n",
    "z_sup_cat=1.15#2\n",
    "dcom_min=cosmoflag.comoving_distance(z_inf_cat).value\n",
    "dcom_max=cosmoflag.comoving_distance(z_sup_cat).value\n",
    "\n",
    "\n",
    "dl_min=cosmoflag.luminosity_distance(z_inf_cat).value\n",
    "dl_max=cosmoflag.luminosity_distance(z_sup_cat).value\n",
    "betaHomdMax =15978#dl_max#15978.6#(dl_max-dl_min)/2#15978.6#max dl\n",
    "#---------angular stuff------------------\n",
    "fisher=0\n",
    "#------meses-fisher-------------------------\n",
    "if fisher==1:\n",
    "    radius_deg= np.sqrt(10/np.pi)\n",
    "    sigma90=radius_deg/np.sqrt(2)\n",
    "    sigma_deg=sigma90/1.5\n",
    "    circle_deg=6*sigma_deg\n",
    "    sigma_theta=np.radians(sigma_deg)\n",
    "    sigma_phi=np.radians(sigma_deg)\n",
    "    conc=1/(sigma_phi**2)\n",
    "    print('Fisher concentration Parameter k={}'.format(conc))\n",
    "    print('Sigma phi={}°,Sigma theta={}°'.format(sigma_deg,sigma_deg))\n",
    "else:\n",
    "    #-----------Gaussian-----------------------------------\n",
    "    radius_deg= np.sqrt(10/np.pi)\n",
    "    sigma90=radius_deg/np.sqrt(2)\n",
    "    sigma_deg=sigma90/1.5\n",
    "    circle_deg=6*sigma_deg\n",
    "    sigma_theta=np.radians(sigma_deg)\n",
    "    sigma_phi=np.radians(sigma_deg)\n",
    "    radius_rad=np.radians(circle_deg)\n",
    "    print('Sigma phi={},Sigma theta={}'.format(sigma_phi,sigma_phi))\n",
    "    print('Sigma phi={}°,Sigma theta={}°'.format(sigma_deg,sigma_deg))\n",
    "\n",
    "\n",
    "phi_min=0\n",
    "phi_max=phi_min+5.5*sigma_phi\n",
    "theta_min=0\n",
    "theta_max=theta_min+5.5*sigma_theta#depends on the arccos 0 to 1 is from pi/2 to 0 -1 to 1 is full range\n",
    "print('phi min={},phi Max={}'.format(phi_min,phi_max))\n",
    "print('theta min={},theta Max={}'.format(theta_min,theta_max))\n",
    "s=0.1\n",
    "DS_z=1\n",
    "DS_phi=(phi_max-phi_min)/2\n",
    "DS_theta=(theta_max-theta_min)/2\n",
    "\n",
    "dphi=np.linspace(phi_min,phi_max,1000)\n",
    "dtheta=np.linspace(theta_min,theta_max,1000)\n",
    "area=(phi_max-phi_min)*np.trapz(np.sin(dtheta),dtheta)\n",
    "area=np.trapz(np.sin(dtheta),dtheta)\n",
    "print('Area in Str={}'.format(area))\n",
    "fixed_phi=DS_phi\n",
    "fixed_theta=DS_theta"
   ]
  },
  {
   "cell_type": "code",
   "execution_count": 16,
   "id": "cd768fa6",
   "metadata": {},
   "outputs": [
    {
     "name": "stdout",
     "output_type": "stream",
     "text": [
      "Volume of MinimalExample 0.0022787133337858903 Gpc^3\n",
      "Density of MinimalExample 0.0021942207147631516 #/Mpc^3\n"
     ]
    }
   ],
   "source": [
    "#--------------Volume and Density----------------------\n",
    "delta_phi=phi_max-phi_min\n",
    "theta_part=np.cos(theta_min)-np.cos(theta_max)\n",
    "integrand=lambda x:clight*(cosmoflag.comoving_distance(x).value)**2/(cosmoflag.H(x).value)\n",
    "z_part=integrate.quad(integrand,z_inf_cat,z_sup_cat)[0]\n",
    "#print(delta_phi,theta_part,z_part)\n",
    "Volume=delta_phi*theta_part*z_part\n",
    "print('Volume of MinimalExample {} Gpc^3'.format(Volume/1000**3))\n",
    "Nobj=5000\n",
    "Density=Nobj/Volume\n",
    "print('Density of MinimalExample {} #/Mpc^3'.format(Density))"
   ]
  },
  {
   "cell_type": "code",
   "execution_count": 17,
   "id": "01e9998b",
   "metadata": {},
   "outputs": [
    {
     "name": "stdout",
     "output_type": "stream",
     "text": [
      "1500000 725675 0.48378333333333334\n"
     ]
    }
   ],
   "source": [
    "#------------------points generator------------------\n",
    "u = np.random.uniform(0,1,size=nsamp) # uniform random vector of size nsamp\n",
    "dc_gals_all     = np.cbrt((u*0**3)+((1-u)*dcom_max**3))\n",
    "#dc_gals_all     = (u*dcom_min)+(1-u)*dcom_max\n",
    "phi_gals   = np.random.uniform(phi_min,phi_max,nsamp)\n",
    "theta_gals = np.arccos( np.random.uniform(np.cos(theta_max),1,nsamp) )\n",
    "dc_gals=dc_gals_all[dc_gals_all>=dcom_min]\n",
    "print(len(dc_gals_all),len(dc_gals),len(dc_gals)/len(dc_gals_all))"
   ]
  },
  {
   "cell_type": "code",
   "execution_count": null,
   "id": "460ff84b",
   "metadata": {},
   "outputs": [],
   "source": [
    "np.savetxt('Fullcat_dcgals.txt',dc_gals)\n",
    "np.savetxt('Fullcat_phigals.txt',phi_gals)\n",
    "np.savetxt('Fullcat_thetagals.txt',theta_gals)"
   ]
  },
  {
   "cell_type": "code",
   "execution_count": 18,
   "id": "4e214b4e",
   "metadata": {},
   "outputs": [
    {
     "name": "stdout",
     "output_type": "stream",
     "text": [
      "3413.691357055775 6827.38271411155 6827.38271411155 1\n"
     ]
    }
   ],
   "source": [
    "mu=cosmoflag.luminosity_distance(DS_z).value\n",
    "dc_ds=cosmoflag.comoving_distance(DS_z).value\n",
    "real_mu=mu\n",
    "#mu=np.random.normal(real_mu,s*real_mu)\n",
    "print(dc_ds,real_mu,mu,DS_z)"
   ]
  },
  {
   "cell_type": "code",
   "execution_count": 19,
   "id": "0e4f3cfb",
   "metadata": {},
   "outputs": [
    {
     "name": "stdout",
     "output_type": "stream",
     "text": [
      "size was not 0, host added\n"
     ]
    }
   ],
   "source": [
    "nsamp=5000\n",
    "new_dc_gals=np.random.choice(dc_gals,nsamp)\n",
    "new_phi_gals=np.random.choice(phi_gals,nsamp)\n",
    "new_theta_gals=np.random.choice(theta_gals,nsamp)\n",
    "z_gals=np.zeros(len(new_dc_gals))\n",
    "dl_gals=np.zeros(len(new_dc_gals))\n",
    "\n",
    "for i in range(len(new_dc_gals)):\n",
    "    z_gals[i]=z_from_dcom(new_dc_gals[i])\n",
    "    dl_gals[i]=cosmoflag.luminosity_distance(new_dc_gals[i]).value\n",
    "\n",
    "#----------------DS creation-------------------------------\n",
    "\n",
    "if not (DS_z in z_gals)*(DS_phi in new_phi_gals)*(DS_theta in new_theta_gals): \n",
    "    if not z_gals.size:\n",
    "        z_gals=np.zeros(1)\n",
    "        dl_gals=np.zeros(1)\n",
    "        z_gals[0]=DS_z\n",
    "        dl_gals[0]=real_mu\n",
    "        new_phi_gals[0]=DS_phi\n",
    "        new_theta_gals[0]=DS_theta\n",
    "        print('size was 0, host added')\n",
    "    else:\n",
    "        z_gals=np.append(z_gals,DS_z)\n",
    "        dl_gals=np.append(dl_gals,real_mu)\n",
    "        new_phi_gals=np.append(new_phi_gals,DS_phi)\n",
    "        new_theta_gals=np.append(new_theta_gals,DS_theta)\n",
    "        print('size was not 0, host added')\n",
    "np.savetxt('Extractedcat_zgals.txt',z_gals)\n",
    "np.savetxt('Extractedcat_dcgals.txt',new_dc_gals)\n",
    "np.savetxt('Extractedcat_phigals.txt',new_phi_gals)\n",
    "np.savetxt('Extractedcat_thetagals.txt',new_theta_gals)"
   ]
  },
  {
   "cell_type": "markdown",
   "id": "855b7898",
   "metadata": {},
   "source": [
    "# Testing our distributions"
   ]
  },
  {
   "cell_type": "code",
   "execution_count": 50,
   "id": "e72a3832",
   "metadata": {},
   "outputs": [],
   "source": [
    "#Generator for Uniform in Finke\n",
    "\n",
    "nsamp=+6500000+2156000#int(6_500_000)#int(Numb+1)\n",
    "#nsamp=1000\n",
    "zmin=0.9000001039126828\n",
    "zmax=1.799999998727529\n",
    "dcom_min=cosmoflag.comoving_distance(zmin).value\n",
    "dcom_max=cosmoflag.comoving_distance(zmax).value\n",
    "#tot_vol=cosmoflag.comoving_volume(zz.max()+0.05).value-cosmoflag.comoving_volume(zz.min()-0.05).value\n",
    "phi_min=0.0001#0.0001\n",
    "phi_max=np.pi/2\n",
    "theta_min=0.0002976218846182377\n",
    "theta_max=1.570796275052059#depends on the arccos 0 to 1 is from pi/2 to 0 -1 to 1 is full range\n",
    "#------------------points generator------------------\n",
    "u     = np.random.uniform(0,1,size=nsamp) # uniform random vector of size nsamp\n",
    "unif_dc_gals_all     = np.cbrt((u*0**3)+((1-u)*dcom_max**3))\n",
    "#dc_gals     = np.cbrt((u*dcom_min**3)+((1-u)*dcom_max**3))\n",
    "phi_gals   = np.random.uniform(phi_min,phi_max,nsamp)\n",
    "theta_gals = np.arccos( np.random.uniform(0,1,nsamp) )\n",
    "\n",
    "unif_dc_gals=unif_dc_gals_all[unif_dc_gals_all>=dcom_min]\n",
    "#print(len(dc_gals_all),len(dc_gals),len(dc_gals)/len(dc_gals_all))\n",
    "ra_gals=ra = np.rad2deg(phi_gals)\n",
    "dec_gals = np.rad2deg(0.5 * np.pi - theta_gals)"
   ]
  },
  {
   "cell_type": "code",
   "execution_count": 57,
   "id": "fb2fe56b",
   "metadata": {},
   "outputs": [],
   "source": [
    "#-----------------test the uniform distribution\n",
    "position=[]\n",
    "volume=[]\n",
    "numobj=[]\n",
    "\n",
    "Nbis=15\n",
    "step=(np.max(dc_gals_all)-np.min(dc_gals_all))/Nbis\n",
    "start=np.min(dc_gals_all)\n",
    "for i in range(Nbis):\n",
    "    dcsup=step/2 +start+(step)*i\n",
    "    position.append(dcsup)\n",
    "    tmp=dc_gals_all[dc_gals_all<dcsup]\n",
    "    numobj.append(len(tmp))\n",
    "    volume.append(dcsup**3)\n",
    "position=np.asarray(position)\n",
    "volume=np.asarray(volume)\n",
    "numobj=np.asarray(numobj)\n",
    "volume=volume/np.min(volume)\n",
    "norm=numobj[0]\n",
    "volume=volume*norm"
   ]
  },
  {
   "cell_type": "code",
   "execution_count": 58,
   "id": "af1b5d80",
   "metadata": {},
   "outputs": [],
   "source": [
    "#-----------------test the uniform distribution\n",
    "unif_position=[]\n",
    "unif_volume=[]\n",
    "unif_numobj=[]\n",
    "\n",
    "Nbis=15\n",
    "step=(np.max(unif_dc_gals_all)-np.min(unif_dc_gals_all))/Nbis\n",
    "start=np.min(unif_dc_gals_all)\n",
    "for i in range(Nbis):\n",
    "    dcsup=step/2 +start+(step)*i\n",
    "    unif_position.append(dcsup)\n",
    "    tmp=unif_dc_gals_all[unif_dc_gals_all<dcsup]\n",
    "    unif_numobj.append(len(tmp))\n",
    "    unif_volume.append(dcsup**3)\n",
    "unif_position=np.asarray(unif_position)\n",
    "unif_volume=np.asarray(unif_volume)\n",
    "unif_numobj=np.asarray(unif_numobj)\n",
    "unif_volume=unif_volume/np.min(unif_volume)\n",
    "norm=unif_numobj[0]\n",
    "unif_volume=unif_volume*norm"
   ]
  },
  {
   "cell_type": "code",
   "execution_count": 64,
   "id": "2725c564",
   "metadata": {},
   "outputs": [
    {
     "data": {
      "image/png": "[encoded data removed]",
      "text/plain": [
       "<Figure size 1080x720 with 1 Axes>"
      ]
     },
     "metadata": {
      "needs_background": "light"
     },
     "output_type": "display_data"
    }
   ],
   "source": [
    "plt.rcParams.update({'font.size': 20})\n",
    "plt.figure(figsize=(15,10))\n",
    "#n, bins, patches = plt.hist(x=numobj,grid=True, bins=Num, rwidth=0.9,color='#607c8e')\n",
    "plt.xscale('log')\n",
    "plt.yscale('log')\n",
    "plt.title('Check')\n",
    "plt.scatter(position/np.max(position),numobj/np.max(numobj),s=100, marker='+', c='k', zorder=10 )\n",
    "plt.scatter(unif_position/(np.max(unif_position)),unif_numobj/(np.max(unif_numobj)),s=100, marker='x', c='r', zorder=10 )\n",
    "plt.plot(position/np.max(position),volume/np.max(volume),color='g')\n",
    "plt.plot(unif_position/(np.max(unif_position)),unif_volume/np.max(unif_volume),color='b')\n",
    "plt.xlabel('dc')\n",
    "plt.ylabel('# of object in a sphere')\n",
    "plt.grid(axis='y', alpha=0.75)"
   ]
  },
  {
   "cell_type": "code",
   "execution_count": 34,
   "id": "2e117ac8",
   "metadata": {},
   "outputs": [
    {
     "data": {
      "text/plain": [
       "Text(0.5, 1.0, 'Phi Dist')"
      ]
     },
     "execution_count": 34,
     "metadata": {},
     "output_type": "execute_result"
    },
    {
     "data": {
      "image/png": "[encoded data removed]",
      "text/plain": [
       "<Figure size 432x288 with 1 Axes>"
      ]
     },
     "metadata": {
      "needs_background": "light"
     },
     "output_type": "display_data"
    }
   ],
   "source": [
    "n, bins, patches = plt.hist(x=phi_gals, bins=10, color='#0504aa',\n",
    "                            alpha=0.7, rwidth=0.85)\n",
    "plt.grid(axis='y', alpha=0.75)\n",
    "plt.xlabel('Value')\n",
    "plt.ylabel('Frequency')\n",
    "plt.title('Phi Dist')"
   ]
  },
  {
   "cell_type": "code",
   "execution_count": 35,
   "id": "8b4653e7",
   "metadata": {},
   "outputs": [
    {
     "data": {
      "text/plain": [
       "Text(0.5, 1.0, 'Cos Theta dist')"
      ]
     },
     "execution_count": 35,
     "metadata": {},
     "output_type": "execute_result"
    },
    {
     "data": {
      "image/png": "[encoded data removed]",
      "text/plain": [
       "<Figure size 432x288 with 1 Axes>"
      ]
     },
     "metadata": {
      "needs_background": "light"
     },
     "output_type": "display_data"
    }
   ],
   "source": [
    "n, bins, patches = plt.hist(x=np.cos(theta_gals), bins=10, color='#0504aa',\n",
    "                            alpha=0.7, rwidth=0.85)\n",
    "plt.grid(axis='y', alpha=0.75)\n",
    "plt.xlabel('Value')\n",
    "plt.ylabel('Frequency')\n",
    "plt.title('Cos Theta dist')"
   ]
  },
  {
   "cell_type": "code",
   "execution_count": null,
   "id": "fd702172",
   "metadata": {},
   "outputs": [],
   "source": [
    "#------------Mises_Fisher-----------------\n",
    "import matplotlib.cm as cm\n",
    "point=500\n",
    "\n",
    "theta_test=np.linspace(theta_min,theta_max,point)\n",
    "phi_test=np.linspace(phi_min,phi_max,point)\n",
    "values=np.float128(np.zeros((point,point)))\n",
    "for i in range(point):\n",
    "    for j in range(point):\n",
    "        values[i,j]=sphere_uncorr_gauss(phi_test[i],theta_test[j],DS_phi,DS_theta,sigma_phi,sigma_theta)\n",
    "X,Y=np.meshgrid(phi_test,theta_test)\n",
    "Z=values\n",
    "fig, ax = plt.subplots(1,figsize=(10,10))\n",
    "CS = ax.contour(X, Y, Z)\n",
    "ax.clabel(CS, inline=True, fontsize=10)\n",
    "ax.set_title('Contours')\n",
    "ax.set_xlabel('phi')\n",
    "ax.set_ylabel('theta')\n",
    "fig = plt.figure(figsize=(10,10))\n",
    "ax = fig.add_subplot(projection='3d')\n",
    "ax.plot_surface(X, Y, Z, cmap=plt.cm.YlGnBu_r)\n"
   ]
  },
  {
   "cell_type": "code",
   "execution_count": null,
   "id": "045364d0",
   "metadata": {},
   "outputs": [],
   "source": [
    "@njit\n",
    "def E_z(z, H0, Om):\n",
    "    return np.sqrt(Om*(1+z)**3+(1-Om))"
   ]
  },
  {
   "cell_type": "code",
   "execution_count": null,
   "id": "9bc195e8",
   "metadata": {},
   "outputs": [],
   "source": [
    "%%timeit\n",
    "E_z(3, 67, 0.3)"
   ]
  },
  {
   "cell_type": "code",
   "execution_count": null,
   "id": "12edc8f8",
   "metadata": {},
   "outputs": [],
   "source": [
    "def r_z(z, H0, Om):\n",
    "    c = 299792.458\n",
    "    integrand = lambda x : 1/E_z(x, H0, Om)\n",
    "    integral, error = integrate.quad(integrand, 0, z)\n",
    "    return c/H0*integral"
   ]
  },
  {
   "cell_type": "code",
   "execution_count": null,
   "id": "4260e1e1",
   "metadata": {},
   "outputs": [],
   "source": [
    "def Dl_z(z, H0, Om):\n",
    "    return r_z(z, H0, Om)*(1+z)"
   ]
  },
  {
   "cell_type": "code",
   "execution_count": null,
   "id": "2b779fb9",
   "metadata": {},
   "outputs": [],
   "source": [
    "%%timeit\n",
    "r_z(3,67, 0.3)"
   ]
  },
  {
   "cell_type": "code",
   "execution_count": null,
   "id": "c8f22f69",
   "metadata": {},
   "outputs": [],
   "source": [
    "%%timeit\n",
    "Dl_z(3, 67, 0.3)"
   ]
  },
  {
   "cell_type": "raw",
   "id": "1c788d44",
   "metadata": {},
   "source": []
  },
  {
   "cell_type": "markdown",
   "id": "1999e3e2",
   "metadata": {},
   "source": [
    "# Computing the likelihood\n",
    "\n",
    "$$\n",
    " L(D_{gw}|H_0)=\\frac{1}{\\sum_{z_{\\alpha}<z_{max} }\\omega_{\\alpha}}\\sum_{\\alpha}^{N(R)}\\omega_{\\alpha}\\frac{\\rho}{\\sqrt{2\\pi}\\sigma}e^{-\\frac{(dl_{\\alpha}-\\mu)^2}{2\\sigma^2}}\n",
    "$$\n",
    "$$\n",
    "\\omega_{\\alpha}=1; \\forall\\alpha\\,\\, \\rho=1\n",
    "$$"
   ]
  },
  {
   "cell_type": "code",
   "execution_count": null,
   "id": "987d63c0",
   "metadata": {},
   "outputs": [],
   "source": [
    "arr=np.arange(0,len(H0Grid),dtype=int)\n",
    "beta=np.zeros(len(H0Grid))\n",
    "My_Like=np.zeros(len(H0Grid))\n"
   ]
  },
  {
   "cell_type": "code",
   "execution_count": null,
   "id": "627c7c13",
   "metadata": {},
   "outputs": [],
   "source": [
    "%%timeit\n",
    "FlatLambdaCDM(H0=67, Om0=Om0GLOB).luminosity_distance(3)"
   ]
  },
  {
   "cell_type": "code",
   "execution_count": null,
   "id": "48b68726",
   "metadata": {},
   "outputs": [],
   "source": [
    "print(DS_z)"
   ]
  },
  {
   "cell_type": "code",
   "execution_count": null,
   "id": "74279198",
   "metadata": {},
   "outputs": [],
   "source": [
    "def LikeofH0(iterator):\n",
    "    i=iterator\n",
    "    Htemp=H0Grid[i]\n",
    "    #norm=integrate.quad(lambda x:  FlatLambdaCDM(H0=Htemp, Om0=Om0GLOB).differential_comoving_volume(x).value, 0, 10 )[0]\n",
    "    #----------computing sum\n",
    "    to_sum=np.zeros(len(z_gals))\n",
    "    for j in range(len(z_gals)):\n",
    "        #dl=FlatLambdaCDM(H0=Htemp, Om0=Om0GLOB).luminosity_distance(z_gals[j]).value\n",
    "        dl = Dl_z(z_gals[j], Htemp, Om0GLOB)\n",
    "        angular_prob=sphere_uncorr_gauss(new_phi_gals[j],new_theta_gals[j],DS_phi,DS_theta,sigma_phi,sigma_theta)\n",
    "        to_sum[j]=likelihood_line(mu,dl,s)*angular_prob#*norm\n",
    "    tmp=np.sum(to_sum)#*norm\n",
    "    return tmp\n",
    "\n",
    "def multibeta(iterator):\n",
    "    i=iterator\n",
    "    Htemp=H0Grid[i]\n",
    "    cosmo=FlatLambdaCDM(H0=Htemp, Om0=Om0GLOB)\n",
    "    func = lambda z :cosmo.luminosity_distance(z).value - betaHomdMax\n",
    "    zmax = fsolve(func, 0.8)[0]\n",
    "    Num=normalisation(z_gals,zmax)\n",
    "    if Num==0:\n",
    "        Num=Num+1\n",
    "    return Num\n",
    "\n",
    "def vol_beta(iterator):\n",
    "    i=iterator\n",
    "    Htemp=H0Grid[i]\n",
    "    cosmo=FlatLambdaCDM(H0=Htemp, Om0=Om0GLOB)\n",
    "    func = lambda z :cosmo.luminosity_distance(z).value - betaHomdMax\n",
    "    zMax = fsolve(func, 0.80)[0]        \n",
    "    norm = integrate.quad(lambda x: cosmo.differential_comoving_volume(x).value,0,10)[0]\n",
    "    num = integrate.quad(lambda x:cosmo.differential_comoving_volume(x).value,0,zMax)[0]\n",
    "    return num/norm"
   ]
  },
  {
   "cell_type": "code",
   "execution_count": null,
   "id": "a3445bcb",
   "metadata": {},
   "outputs": [],
   "source": [
    "start_time = time.time()\n",
    "s=0.1 #to do mixed runs\n",
    "print('sigma is set to {}'.format(s))\n",
    "print('I am Doing my best, please wait...')\n",
    "with Pool(14) as p:\n",
    "    My_Like=p.map(LikeofH0, arr)\n",
    "    beta=p.map(vol_beta, arr)\n",
    "print(\"--- %s seconds ---\" % (time.time() - start_time))\n",
    "My_Like=np.asarray(My_Like)\n",
    "beta=np.asarray(beta)"
   ]
  },
  {
   "cell_type": "code",
   "execution_count": null,
   "id": "ae8241c9",
   "metadata": {},
   "outputs": [],
   "source": [
    "Beta=interpolate.CubicSpline(H0Grid,beta)"
   ]
  },
  {
   "cell_type": "code",
   "execution_count": null,
   "id": "82b04e11",
   "metadata": {},
   "outputs": [],
   "source": [
    "xmin=float(H0Grid[0])\n",
    "xmax=float(H0Grid[-1])\n",
    "x=H0Grid\n",
    "href=67\n",
    "fig, ax = plt.subplots(1, figsize=(15,10)) #crea un tupla che poi è più semplice da gestire\n",
    "ax.tick_params(axis='both', which='major', labelsize=14)\n",
    "ax.yaxis.get_offset_text().set_fontsize(14)\n",
    "ax.grid(linestyle='dotted', linewidth='0.6')#griglia in sfondo\n",
    "\n",
    "ax.set_xlabel(r'$H_0$', fontsize=15)\n",
    "#ax.set_ylabel(r'$P(H_0)$', fontsize=20)\n",
    "ax.set_ylabel(r'$Likelihood$', fontsize=20)\n",
    "if xmin<href<xmax:\n",
    "    ax.axvline(x = href, color = 'k', linestyle='dashdot',label = 'H0=67')\n",
    "#ax.axhline(y=np.max(My_Like)/np.trapz(My_Like,x),color = 'k', linestyle='dashdot')\n",
    "ax.plot(x,(My_Like/1)/np.trapz(My_Like/1,x),label='10% uncertainty',color='#671D5B',\n",
    "        linestyle='solid',linewidth=3)\n",
    "#ax.set_ylabel(r'$Beta$', fontsize=20)\n",
    "#ax.set_xscale('log')\n",
    "#ax.set_yscale('log')\n",
    "#data_path='/home/rciancarella/DarkSirensStat/results/GW33_Enzo_sig10samesig_11/'\n",
    "#os.chdir(data_path)\n",
    "#xx=np.loadtxt('H0_grid.txt')#x\n",
    "#event='GW330320'\n",
    "#bbeta=np.loadtxt(event+'_betaH0.txt')\n",
    "#ax.plot(x,Beta(x)/Beta(x[0]),label='10% uncertainty',color='#004b49',\n",
    "#        linestyle='solid',linewidth=3)\n",
    "#ax.plot(xx,bbeta/bbeta[0],label='10% uncertainty',color='#17EA1E',\n",
    "#        linestyle='solid',linewidth=3)\n",
    "#Nice-colours:\n",
    "#671D5B---violet\n",
    "#004b49---dark petrol\n",
    "#17EA1E---Eva01 green"
   ]
  },
  {
   "cell_type": "code",
   "execution_count": null,
   "id": "797bdf43",
   "metadata": {},
   "outputs": [],
   "source": [
    "dist=(My_Like/beta)/np.trapz(My_Like/beta,x)\n",
    "mean=np.trapz(x*dist,x)/np.trapz(dist,x)\n",
    "std=np.sqrt(np.trapz(dist*(x-mean)**2,x)/np.trapz(dist,x))\n",
    "#std=np.sqrt(np.sum((My_Like-mean)**2)/len(My_Like))\n",
    "#alltest=[]\n",
    "alltest.append(dist)"
   ]
  },
  {
   "cell_type": "code",
   "execution_count": null,
   "id": "412f5726",
   "metadata": {},
   "outputs": [],
   "source": [
    "print('mean={},std={}'.format(mean,std))"
   ]
  },
  {
   "cell_type": "code",
   "execution_count": null,
   "id": "e9895d32",
   "metadata": {},
   "outputs": [],
   "source": [
    "combined=[]\n",
    "xmin=float(H0Grid[0])\n",
    "xmax=float(H0Grid[-1])\n",
    "x=H0Grid\n",
    "href=67\n",
    "colors=pl.cm.turbo(np.linspace(0.01,0.99,2*len(alltest)))\n",
    "fig, ax = plt.subplots(1, figsize=(15,10)) #crea un tupla che poi è più semplice da gestire\n",
    "ax.tick_params(axis='both', which='major', labelsize=14)\n",
    "ax.yaxis.get_offset_text().set_fontsize(14)\n",
    "ax.grid(linestyle='dotted', linewidth='0.6')#griglia in sfondo\n",
    "\n",
    "ax.set_xlabel(r'$H_0$', fontsize=15)\n",
    "#ax.set_ylabel(r'$P(H_0)$', fontsize=20)\n",
    "ax.set_ylabel(r'$Likelihood$', fontsize=20)\n",
    "if xmin<href<xmax:\n",
    "    ax.axvline(x = href, color = 'k', linestyle='dashdot',label = 'H0=67')\n",
    "#ax.axhline(y=np.max(My_Like)/np.trapz(My_Like,x),color = 'k', linestyle='dashdot')\n",
    "for i in range(len(alltest)):\n",
    "    #combined=combined+post[i]\n",
    "    if i==0:\n",
    "        tmp=np.trapz(alltest[i],x)\n",
    "        combined.append(alltest[i]/tmp)\n",
    "    else:\n",
    "        tmp=np.float128((combined[i-1]+alltest[i])/2)\n",
    "        norm=1#np.trapz(tmp,x)\n",
    "        combined.append(tmp/norm)\n",
    "    ax.plot(x,combined[i]/np.trapz(combined[i],x),label='# runs'+str(i+1),color=colors[i],\n",
    "        linestyle='solid',linewidth=3)\n",
    "ax.plot(x,combined[-1]/np.trapz(combined[-1],x),color='k',\n",
    "    linestyle='dashdot',linewidth=3)\n",
    "ax.legend(fontsize=12,ncol=1)"
   ]
  },
  {
   "cell_type": "code",
   "execution_count": null,
   "id": "db8b5f5a",
   "metadata": {},
   "outputs": [],
   "source": [
    "allmax=np.zeros(len(alltest))\n",
    "for i in range(len(alltest)):\n",
    "    allmax[i]=np.max(combined[i]/np.trapz(combined[i],x))\n",
    "x_run=np.linspace(1,len(alltest),len(alltest))\n",
    "#print(x_run)\n",
    "import matplotlib.pyplot as plt\n",
    "\n",
    "coef = np.polyfit(x_run,allmax,2)\n",
    "poly1d_fn = np.poly1d(coef) \n"
   ]
  },
  {
   "cell_type": "code",
   "execution_count": null,
   "id": "09d77bde",
   "metadata": {},
   "outputs": [],
   "source": [
    "fig, ax = plt.subplots(1, figsize=(15,10)) #crea un tupla che poi è più semplice da gestire\n",
    "ax.tick_params(axis='both', which='major', labelsize=14)\n",
    "ax.yaxis.get_offset_text().set_fontsize(14)\n",
    "ax.grid(linestyle='dotted', linewidth='0.6')#griglia in sfondo\n",
    "\n",
    "ax.set_xlabel(r'$run$', fontsize=15)\n",
    "ax.set_ylabel(r'$eight$', fontsize=15)\n",
    "ax.scatter(x_run,allmax)\n",
    "ax.plot(x_run, poly1d_fn(x_run), '--k') #'--k'=black dashed line, 'yo' = yellow circle marker"
   ]
  },
  {
   "cell_type": "code",
   "execution_count": null,
   "id": "3606c1d9",
   "metadata": {},
   "outputs": [],
   "source": [
    "save=0\n",
    "if save==1:\n",
    "    res_path='/home/rciancarella/DarkSirensStat/ProxyGenerator'\n",
    "    os.chdir(res_path)\n",
    "    np.savetxt('new_Post_sigma10.txt',dist)\n",
    "    #np.savetxt('myh0grid.txt',x)"
   ]
  },
  {
   "cell_type": "markdown",
   "id": "47f92f8b",
   "metadata": {},
   "source": [
    "# More DS"
   ]
  },
  {
   "cell_type": "code",
   "execution_count": null,
   "id": "89e53008",
   "metadata": {},
   "outputs": [],
   "source": [
    "#----------------DS extraction-----------------------------\n",
    "NumDS=10\n",
    "s=0.1\n",
    "z_pool=z_gals[z_gals<1.07]\n",
    "z_pool=z_pool[z_pool>0.93]\n",
    "print(len(z_pool))\n",
    "phi_pool=new_phi_gals[new_phi_gals<fixed_phi+1*sigma_phi]\n",
    "phi_pool=phi_pool[phi_pool>fixed_phi-1*sigma_phi]\n",
    "print(len(phi_pool))\n",
    "theta_pool=new_theta_gals[new_theta_gals<fixed_theta+1*sigma_theta]\n",
    "theta_pool=theta_pool[theta_pool>fixed_theta-1*sigma_theta]\n",
    "print(len(theta_pool))\n",
    "\n",
    "#z_gals=np.linspace(0.95,1.05,NumDS)\n",
    "#dl_gals=cosmoflag.luminosity_distance(z_gals).value\n",
    "#new_phi_gals=np.ones(NumDS)*fixed_phi\n",
    "#new_theta_gals=np.ones(NumDS)*fixed_theta\n"
   ]
  },
  {
   "cell_type": "code",
   "execution_count": null,
   "id": "e0bebad1",
   "metadata": {},
   "outputs": [],
   "source": [
    "fullrun=[]\n",
    "for k in tqdm(range(NumDS)):\n",
    "    #print(k)\n",
    "    DS_z=np.random.choice(z_pool,1)[0]\n",
    "    DS_phi=np.random.choice(phi_pool,1)[0]\n",
    "    DS_theta=np.random.choice(theta_pool,1)[0]\n",
    "\n",
    "    mu=cosmoflag.luminosity_distance(DS_z).value\n",
    "    #dc_ds=cosmoflag.comoving_distance(DS_z).value\n",
    "    #real_mu=mu\n",
    "    if k==0:\n",
    "        with Pool(14) as p:\n",
    "            My_Like=p.map(LikeofH0, arr)\n",
    "            beta=p.map(vol_beta, arr)\n",
    "        My_Like=np.asarray(My_Like)\n",
    "        beta=np.asarray(beta)\n",
    "    else:\n",
    "        with Pool(14) as p:\n",
    "            My_Like=p.map(LikeofH0, arr)\n",
    "        My_Like=np.asarray(My_Like)\n",
    "    fullrun.append(My_Like)"
   ]
  },
  {
   "cell_type": "code",
   "execution_count": null,
   "id": "abe74d25",
   "metadata": {},
   "outputs": [],
   "source": [
    "fullrun_beta=fullrun/beta"
   ]
  },
  {
   "cell_type": "code",
   "execution_count": null,
   "id": "9c39c804",
   "metadata": {},
   "outputs": [],
   "source": [
    "xmin=float(H0Grid[0])\n",
    "xmax=float(H0Grid[-1])\n",
    "x=H0Grid\n",
    "href=67\n",
    "combined=[]\n",
    "colors=pl.cm.turbo(np.linspace(0.01,0.99,2*len(fullrun_beta)))\n",
    "fig, ax = plt.subplots(1, figsize=(15,10)) #crea un tupla che poi è più semplice da gestire\n",
    "ax.tick_params(axis='both', which='major', labelsize=14)\n",
    "ax.yaxis.get_offset_text().set_fontsize(14)\n",
    "ax.grid(linestyle='dotted', linewidth='0.6')#griglia in sfondo\n",
    "\n",
    "ax.set_xlabel(r'$H_0$', fontsize=15)\n",
    "#ax.set_ylabel(r'$P(H_0)$', fontsize=20)\n",
    "ax.set_ylabel(r'$Likelihood$', fontsize=20)\n",
    "if xmin<href<xmax:\n",
    "    ax.axvline(x = href, color = 'k', linestyle='dashdot',label = 'H0=67')\n",
    "#ax.axhline(y=np.max(My_Like)/np.trapz(My_Like,x),color = 'k', linestyle='dashdot')\n",
    "#ax.plot(x,(fullrun[2]/1)/np.trapz(fullrun[2]/1,x),label='10% uncertainty',color='#671D5B',\n",
    "#        linestyle='solid',linewidth=3)\n",
    "for i in range(len(fullrun_beta)):\n",
    "    #combined=combined+post[i]\n",
    "    if i==0:\n",
    "        combined.append(fullrun_beta[i]*1)\n",
    "    else:\n",
    "        num=np.float128(combined[i-1]*(fullrun_beta[i]*1))\n",
    "        combined.append(num)\n",
    "    ax.plot(x,fullrun_beta[i]/np.trapz(fullrun_beta[i],x),label='# runs'+str(i+1),color=colors[2*i],linestyle='solid',linewidth=3)\n",
    "ax.plot(x,combined[-1]/(np.trapz(combined[-1],x)),color='k',linestyle='dashdot',linewidth=3)\n",
    "#ax.plot(x,test,color='g',linestyle='solid',linewidth=3)\n",
    "#ax.set_ylabel(r'$Beta$', fontsize=20)\n",
    "#ax.set_xscale('log')\n",
    "#ax.set_yscale('log')\n",
    "#data_path='/home/rciancarella/DarkSirensStat/results/GW33_Enzo_sig10samesig_11/'\n",
    "#os.chdir(data_path)\n",
    "#xx=np.loadtxt('H0_grid.txt')#x\n",
    "#event='GW330320'\n",
    "#bbeta=np.loadtxt(event+'_betaH0.txt')\n",
    "#ax.plot(x,Beta(x)/Beta(x[0]),label='10% uncertainty',color='#004b49',\n",
    "#        linestyle='solid',linewidth=3)\n",
    "#ax.plot(xx,bbeta/bbeta[0],label='10% uncertainty',color='#17EA1E',\n",
    "#        linestyle='solid',linewidth=3)\n",
    "#Nice-colours:\n",
    "#671D5B---violet\n",
    "#004b49---dark petrol\n",
    "#17EA1E---Eva01 green"
   ]
  },
  {
   "cell_type": "code",
   "execution_count": null,
   "id": "1c7897b8",
   "metadata": {},
   "outputs": [],
   "source": [
    "dist=(combined[-1]/1)/np.trapz(combined[-1]/1,x)\n",
    "mean=np.trapz(x*dist,x)/np.trapz(dist,x)\n",
    "std=np.sqrt(np.trapz(dist*(x-mean)**2,x)/np.trapz(dist,x))\n",
    "#std=np.sqrt(np.sum((My_Like-mean)**2)/len(My_Like))\n",
    "print('mean={},std={}'.format(mean,std))"
   ]
  },
  {
   "cell_type": "code",
   "execution_count": null,
   "id": "7dcd5559",
   "metadata": {},
   "outputs": [],
   "source": [
    "#store= fullrun_beta\n",
    "#store01=fullrun_beta\n",
    "#store02=fullrun_beta\n",
    "#store03=fullrun_beta\n",
    "#np.savetxt('runSig10_03.txt',store03)\n",
    "np.savetxt('4runSig10.txt',fullrun_beta)"
   ]
  },
  {
   "cell_type": "code",
   "execution_count": null,
   "id": "c64a1630",
   "metadata": {},
   "outputs": [],
   "source": [
    "fullrun_beta=np.append(fullrun_beta,store02,axis=0)"
   ]
  },
  {
   "cell_type": "code",
   "execution_count": null,
   "id": "9249c87e",
   "metadata": {},
   "outputs": [],
   "source": [
    "np.shape(fullrun_beta)"
   ]
  },
  {
   "cell_type": "code",
   "execution_count": null,
   "id": "141fab1a",
   "metadata": {},
   "outputs": [],
   "source": [
    "betaHomdMax =dl_max#15978#dl_max\n",
    "with Pool(14) as p:\n",
    "    betanew=p.map(vol_beta, arr)\n",
    "betanew=np.asarray(betanew)"
   ]
  },
  {
   "cell_type": "code",
   "execution_count": null,
   "id": "86335231",
   "metadata": {},
   "outputs": [],
   "source": [
    "np.shape(beta)"
   ]
  },
  {
   "cell_type": "code",
   "execution_count": null,
   "id": "359dbe66",
   "metadata": {},
   "outputs": [],
   "source": [
    "#store02=store02*betanew/beta"
   ]
  },
  {
   "cell_type": "code",
   "execution_count": null,
   "id": "06874ef1",
   "metadata": {},
   "outputs": [],
   "source": [
    "xmin=float(H0Grid[0])\n",
    "xmax=float(H0Grid[-1])\n",
    "x=H0Grid\n",
    "href=67\n",
    "combined=[]\n",
    "colors=pl.cm.turbo(np.linspace(0.01,0.99,2*len(fullrun_beta)))\n",
    "fig, ax = plt.subplots(1, figsize=(15,10)) #crea un tupla che poi è più semplice da gestire\n",
    "ax.tick_params(axis='both', which='major', labelsize=14)\n",
    "ax.yaxis.get_offset_text().set_fontsize(14)\n",
    "ax.grid(linestyle='dotted', linewidth='0.6')#griglia in sfondo\n",
    "\n",
    "ax.set_xlabel(r'$H_0$', fontsize=15)\n",
    "ax.set_ylabel(r'$Beta$', fontsize=20)\n",
    "ax.set_xscale('log')\n",
    "ax.set_yscale('log')\n",
    "\n",
    "ax.plot(x,betanew/betanew[0],label='numbers',color='#004b49',\n",
    "        linestyle='solid',linewidth=3)\n",
    "ax.plot(x,beta/beta[0],label='Volume',color='#17EA1E',\n",
    "        linestyle='solid',linewidth=3)\n",
    "ax.legend(fontsize=12,ncol=1)"
   ]
  },
  {
   "cell_type": "code",
   "execution_count": null,
   "id": "5a0d431b",
   "metadata": {},
   "outputs": [],
   "source": [
    "betanew[0]"
   ]
  },
  {
   "cell_type": "code",
   "execution_count": null,
   "id": "22a7c705",
   "metadata": {},
   "outputs": [],
   "source": [
    "beta[0]"
   ]
  },
  {
   "cell_type": "code",
   "execution_count": null,
   "id": "c7d13325",
   "metadata": {},
   "outputs": [],
   "source": []
  }
 ],
 "metadata": {
  "kernelspec": {
   "display_name": "Python 3 (ipykernel)",
   "language": "python",
   "name": "python3"
  },
  "language_info": {
   "codemirror_mode": {
    "name": "ipython",
    "version": 3
   },
   "file_extension": ".py",
   "mimetype": "text/x-python",
   "name": "python",
   "nbconvert_exporter": "python",
   "pygments_lexer": "ipython3",
   "version": "3.10.6"
  }
 },
 "nbformat": 4,
 "nbformat_minor": 5
}
